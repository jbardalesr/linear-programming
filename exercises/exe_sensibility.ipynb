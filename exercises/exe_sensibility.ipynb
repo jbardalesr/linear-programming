{
 "cells": [
  {
   "cell_type": "code",
   "execution_count": 1,
   "metadata": {},
   "outputs": [],
   "source": [
    "import sys\n",
    "sys.path.insert(0, \"..\")\n",
    "\n",
    "import matplotlib.pyplot as plt\n",
    "from algorithms.simplex_algorithms import *\n",
    "import sympy as sp\n",
    "import numpy as np\n",
    "np.set_printoptions(suppress=True, linewidth=np.nan)\n"
   ]
  },
  {
   "cell_type": "markdown",
   "metadata": {},
   "source": [
    "Util"
   ]
  },
  {
   "cell_type": "code",
   "execution_count": 2,
   "metadata": {},
   "outputs": [],
   "source": [
    "def pivoting_symbolic(tableau: np.ndarray, row: int, col: int) -> np.ndarray:\n",
    "    # escale pivot row min to 1.0\n",
    "    tableau[row, :] = tableau[row, :] / tableau[row, col]\n",
    "    # pivot proccess: convert al column to zero except row\n",
    "    for k in range(tableau.shape[0]):\n",
    "        if k != row:\n",
    "            tableau[k, :] = tableau[k, :] - tableau[k, col] * tableau[row, :]\n",
    "\n",
    "\n",
    "def correct_symbolic_cost(tableau: np.ndarray, basic_var: list[int]) -> None:\n",
    "    # correct basic variable cost with value distict of zero\n",
    "    for index, col in enumerate(basic_var):\n",
    "        row = index + 1\n",
    "        tableau[0, :] = tableau[0, :] - tableau[0, col] * tableau[row, :]\n",
    "    print(f\"Cost corrected\")\n"
   ]
  },
  {
   "cell_type": "markdown",
   "metadata": {},
   "source": [
    "Delta range"
   ]
  },
  {
   "cell_type": "markdown",
   "metadata": {},
   "source": [
    "\\begin{aligned}\n",
    "&\\delta_{\\min }=\\max \\left\\{\\frac{\\left(\\mathbf{c}_{N I}^{\\top}-\\mathbf{c}_{B I}^{\\top} \\mathbf{B}^{-1} \\mathbf{N}\\right)_{j}}{\\left(\\mathbf{B}^{-1} \\mathbf{N}\\right)_{\\beta, j}} \\mid\\left(\\mathbf{B}^{-1} \\mathbf{N}\\right)_{\\beta, j}<0, j=1, \\ldots, n\\right\\} \\\\\n",
    "&\\delta_{\\max }=\\min \\left\\{\\frac{\\left(\\mathbf{c}_{N I}^{\\top}-\\mathbf{c}_{B I}^{\\top} \\mathbf{B}^{-1} \\mathbf{N}\\right)_{j}}{\\left(\\mathbf{B}^{-1} \\mathbf{N}\\right)_{\\beta, j}} \\mid\\left(\\mathbf{B}^{-1} \\mathbf{N}\\right)_{\\beta, j}>0, j=1, \\ldots, n\\right\\}\n",
    "\\end{aligned}\n",
    "\n",
    "$\\delta \\in[ \\delta_{\\min },  \\delta_{\\max }]$"
   ]
  },
  {
   "cell_type": "code",
   "execution_count": 3,
   "metadata": {},
   "outputs": [],
   "source": [
    "def delta_range(tableau, non_basic_var, beta):\n",
    "    # Input: tableau, non-basic columns, j = 1,...,n, and row for division. Page 204\n",
    "    # Output: range of delta for basic variable perturbed [𝛿_min, 𝛿_max] \n",
    "    delta_min = -np.inf\n",
    "    delta_max = np.Inf\n",
    "    row = tableau[beta + 1, non_basic_var]\n",
    "    for i, element in enumerate(row):\n",
    "        if element > 0:\n",
    "            delta_min = max(delta_min, tableau[0, non_basic_var[i]] / element)\n",
    "        if element < 0:\n",
    "            delta_max = min(delta_max, tableau[0, non_basic_var[i]] / element)\n",
    "    return [delta_min, delta_max]"
   ]
  },
  {
   "cell_type": "code",
   "execution_count": 4,
   "metadata": {},
   "outputs": [],
   "source": [
    "delta = sp.symbols(\"\\\\delta\")"
   ]
  },
  {
   "cell_type": "markdown",
   "metadata": {},
   "source": [
    "## Linear and Integer Optimization: Chapter 5 Sensibility Analysis"
   ]
  },
  {
   "cell_type": "markdown",
   "metadata": {},
   "source": [
    "#### Perturbing objetive coefficients "
   ]
  },
  {
   "cell_type": "code",
   "execution_count": 5,
   "metadata": {},
   "outputs": [],
   "source": [
    "A = [[1, 1, 1, 0, 0, 0],\n",
    "     [3, 1, 0, 1, 0, 0],\n",
    "     [1, 0, 0, 0, 1, 0],\n",
    "     [0, 1, 0, 0, 0, 1.0]]\n",
    "\n",
    "b = [9, 18, 7, 6.]\n",
    "\n",
    "c = lambda delta: [delta + 3., 2., 0., 0., 0., 0]"
   ]
  },
  {
   "cell_type": "markdown",
   "metadata": {},
   "source": [
    "##### Perturbing the objetive coefficient of a basic variable $x_1$ from óptimal tableau "
   ]
  },
  {
   "cell_type": "markdown",
   "metadata": {},
   "source": [
    "$\\mathbf v = (4.5, 4.5)$ óptimo"
   ]
  },
  {
   "cell_type": "code",
   "execution_count": 6,
   "metadata": {},
   "outputs": [
    {
     "name": "stdout",
     "output_type": "stream",
     "text": [
      "Simplex process\n",
      "vertex = [ 0.  0.  9. 18.  7.  6.], x_B = [3, 4, 5, 6]\n",
      "[[ 3.  2.  0.  0.  0.  0.  0.]\n",
      " [ 1.  1.  1.  0.  0.  0.  9.]\n",
      " [ 3.  1.  0.  1.  0.  0. 18.]\n",
      " [ 1.  0.  0.  0.  1.  0.  7.]\n",
      " [ 0.  1.  0.  0.  0.  1.  6.]]\n",
      "vertex = [6. 0. 3. 0. 1. 6.], x_B = [3, 1, 5, 6]\n",
      "[[  0.           1.           0.          -1.           0.           0.         -18.        ]\n",
      " [  0.           0.66666667   1.          -0.33333333   0.           0.           3.        ]\n",
      " [  1.           0.33333333   0.           0.33333333   0.           0.           6.        ]\n",
      " [  0.          -0.33333333   0.          -0.33333333   1.           0.           1.        ]\n",
      " [  0.           1.           0.           0.           0.           1.           6.        ]]\n",
      "vertex = [4.5 4.5 0.  0.  2.5 1.5], x_B = [2, 1, 5, 6]\n",
      "[[  0.    0.   -1.5  -0.5   0.    0.  -22.5]\n",
      " [  0.    1.    1.5  -0.5   0.    0.    4.5]\n",
      " [  1.    0.   -0.5   0.5   0.    0.    4.5]\n",
      " [  0.    0.    0.5  -0.5   1.    0.    2.5]\n",
      " [  0.    0.   -1.5   0.5   0.    1.    1.5]]\n",
      "Perturbation\n"
     ]
    },
    {
     "data": {
      "text/latex": [
       "$\\displaystyle \\left[\\begin{matrix}\\delta + 3.0 & 2.0 & 0 & 0 & 0 & 0 & 0\\\\0 & 1.0 & 1.5 & -0.5 & 0 & 0 & 4.5\\\\1.0 & 0 & -0.5 & 0.5 & 0 & 0 & 4.5\\\\0 & 0 & 0.5 & -0.5 & 1.0 & 0 & 2.5\\\\0 & 0 & -1.5 & 0.5 & 0 & 1.0 & 1.5\\end{matrix}\\right]$"
      ],
      "text/plain": [
       "Matrix([\n",
       "[\\delta + 3.0, 2.0,    0,    0,   0,   0,   0],\n",
       "[           0, 1.0,  1.5, -0.5,   0,   0, 4.5],\n",
       "[         1.0,   0, -0.5,  0.5,   0,   0, 4.5],\n",
       "[           0,   0,  0.5, -0.5, 1.0,   0, 2.5],\n",
       "[           0,   0, -1.5,  0.5,   0, 1.0, 1.5]])"
      ]
     },
     "metadata": {},
     "output_type": "display_data"
    },
    {
     "name": "stdout",
     "output_type": "stream",
     "text": [
      "Cost corrected\n"
     ]
    },
    {
     "data": {
      "text/latex": [
       "$\\displaystyle \\left[\\begin{matrix}0 & 0 & \\frac{\\delta}{2} - \\frac{3}{2} & - \\frac{\\delta}{2} - \\frac{1}{2} & 0 & 0 & - \\frac{9 \\delta}{2} - \\frac{45}{2}\\\\0 & 1 & \\frac{3}{2} & - \\frac{1}{2} & 0 & 0 & \\frac{9}{2}\\\\1 & 0 & - \\frac{1}{2} & \\frac{1}{2} & 0 & 0 & \\frac{9}{2}\\\\0 & 0 & \\frac{1}{2} & - \\frac{1}{2} & 1 & 0 & \\frac{5}{2}\\\\0 & 0 & - \\frac{3}{2} & \\frac{1}{2} & 0 & 1 & \\frac{3}{2}\\end{matrix}\\right]$"
      ],
      "text/plain": [
       "Matrix([\n",
       "[0, 0, \\delta/2 - 3/2, -\\delta/2 - 1/2, 0, 0, -9*\\delta/2 - 45/2],\n",
       "[0, 1,            3/2,            -1/2, 0, 0,                9/2],\n",
       "[1, 0,           -1/2,             1/2, 0, 0,                9/2],\n",
       "[0, 0,            1/2,            -1/2, 1, 0,                5/2],\n",
       "[0, 0,           -3/2,             1/2, 0, 1,                3/2]])"
      ]
     },
     "metadata": {},
     "output_type": "display_data"
    }
   ],
   "source": [
    "basic_var = [2, 3, 4, 5]\n",
    "\n",
    "tableau = build_tableau(A, b, c(0))\n",
    "print(\"Simplex process\")\n",
    "opt_tableau = simplex(tableau, basic_var)\n",
    "opt_tableau = sp.Matrix(opt_tableau.tolist())\n",
    "opt_tableau[0, :-1] = sp.Matrix(c(delta)).T\n",
    "opt_tableau[0, -1] = 0\n",
    "print(\"Perturbation\")\n",
    "display(opt_tableau)\n",
    "\n",
    "correct_symbolic_cost(opt_tableau, basic_var)\n",
    "display(sp.nsimplify(opt_tableau, rational=True))\n"
   ]
  },
  {
   "cell_type": "markdown",
   "metadata": {},
   "source": [
    "$${(\\mathbf c^T_{NI} - (\\mathbf c^T_{BI} +\\delta \\mathbf e_{\\beta})B^{-1}N)}_j\\le 0 \\text { for } j=1,...,n$$"
   ]
  },
  {
   "cell_type": "code",
   "execution_count": 7,
   "metadata": {},
   "outputs": [
    {
     "name": "stdout",
     "output_type": "stream",
     "text": [
      "Tolerance 1: from tableau corrected\n"
     ]
    },
    {
     "data": {
      "text/latex": [
       "$\\displaystyle \\left[\\begin{matrix}\\frac{\\delta}{2} - \\frac{3}{2} & - \\frac{\\delta}{2} - \\frac{1}{2}\\end{matrix}\\right]$"
      ],
      "text/plain": [
       "Matrix([[\\delta/2 - 3/2, -\\delta/2 - 1/2]])"
      ]
     },
     "metadata": {},
     "output_type": "display_data"
    },
    {
     "name": "stdout",
     "output_type": "stream",
     "text": [
      "Tolerance 2: apply equation\n"
     ]
    },
    {
     "data": {
      "text/latex": [
       "$\\displaystyle \\left[\\begin{matrix}\\frac{\\delta}{2} - \\frac{3}{2} & - \\frac{\\delta}{2} - \\frac{1}{2}\\end{matrix}\\right]$"
      ],
      "text/plain": [
       "Matrix([[\\delta/2 - 3/2, -\\delta/2 - 1/2]])"
      ]
     },
     "execution_count": 7,
     "metadata": {},
     "output_type": "execute_result"
    }
   ],
   "source": [
    "print(\"Tolerance 1: from tableau corrected\")\n",
    "var = set(range(tableau.shape[1] - 1))\n",
    "non_basic_var = list(var - set(basic_var))\n",
    "tol = opt_tableau[0, :].col(non_basic_var)\n",
    "display(sp.nsimplify(tol))\n",
    "\n",
    "print(\"Tolerance 2: apply equation\")\n",
    "c_ = sp.Matrix(c(delta))\n",
    "B_invN = tableau[1:, non_basic_var]\n",
    "tol = c_.row(non_basic_var).T - (c_.row(basic_var)).T @ B_invN\n",
    "sp.nsimplify(tol)\n"
   ]
  },
  {
   "cell_type": "markdown",
   "metadata": {},
   "source": [
    "Derivative\n",
    "\n",
    "If $\\mathbf c^T_{NI} - \\mathbf c^T_{BI} B^{-1}N < \\mathbf 0 \\text{ (dual solution non degenerate)} \\implies \\exists f'(0) = {(B^{-1}b)}_\\beta$"
   ]
  },
  {
   "cell_type": "code",
   "execution_count": 8,
   "metadata": {},
   "outputs": [
    {
     "name": "stdout",
     "output_type": "stream",
     "text": [
      "f'(0) = 4.5\n"
     ]
    }
   ],
   "source": [
    "beta = 1\n",
    "print(f\"f'(0) = {opt_tableau[beta + 1, -1]:0.1f}\")"
   ]
  },
  {
   "cell_type": "markdown",
   "metadata": {},
   "source": [
    "$\\mathbf v = (3, 6)$ óptimo"
   ]
  },
  {
   "cell_type": "code",
   "execution_count": 9,
   "metadata": {},
   "outputs": [
    {
     "name": "stdout",
     "output_type": "stream",
     "text": [
      "vertex = [ 0.  0.  9. 18.  7.  6.], x_B = [3, 4, 5, 6]\n",
      "[[ 1.  2.  0.  0.  0.  0.  0.]\n",
      " [ 1.  1.  1.  0.  0.  0.  9.]\n",
      " [ 3.  1.  0.  1.  0.  0. 18.]\n",
      " [ 1.  0.  0.  0.  1.  0.  7.]\n",
      " [ 0.  1.  0.  0.  0.  1.  6.]]\n",
      "vertex = [ 0.  6.  3. 12.  7.  0.], x_B = [3, 4, 5, 2]\n",
      "[[  1.   0.   0.   0.   0.  -2. -12.]\n",
      " [  1.   0.   1.   0.   0.  -1.   3.]\n",
      " [  3.   0.   0.   1.   0.  -1.  12.]\n",
      " [  1.   0.   0.   0.   1.   0.   7.]\n",
      " [  0.   1.   0.   0.   0.   1.   6.]]\n",
      "vertex = [3. 6. 0. 3. 4. 0.], x_B = [1, 4, 5, 2]\n",
      "[[  0.   0.  -1.   0.   0.  -1. -15.]\n",
      " [  1.   0.   1.   0.   0.  -1.   3.]\n",
      " [  0.   0.  -3.   1.   0.   2.   3.]\n",
      " [  0.   0.  -1.   0.   1.   1.   4.]\n",
      " [  0.   1.   0.   0.   0.   1.   6.]]\n"
     ]
    },
    {
     "data": {
      "text/latex": [
       "$\\displaystyle \\left[\\begin{matrix}\\delta + 3.0 & 2.0 & 0 & 0 & 0 & 0 & 0\\\\1.0 & 0 & 1.0 & 0 & 0 & -1.0 & 3.0\\\\0 & 0 & -3.0 & 1.0 & 0 & 2.0 & 3.0\\\\0 & 0 & -1.0 & 0 & 1.0 & 1.0 & 4.0\\\\0 & 1.0 & 0 & 0 & 0 & 1.0 & 6.0\\end{matrix}\\right]$"
      ],
      "text/plain": [
       "Matrix([\n",
       "[\\delta + 3.0, 2.0,    0,   0,   0,    0,   0],\n",
       "[         1.0,   0,  1.0,   0,   0, -1.0, 3.0],\n",
       "[           0,   0, -3.0, 1.0,   0,  2.0, 3.0],\n",
       "[           0,   0, -1.0,   0, 1.0,  1.0, 4.0],\n",
       "[           0, 1.0,    0,   0,   0,  1.0, 6.0]])"
      ]
     },
     "metadata": {},
     "output_type": "display_data"
    },
    {
     "name": "stdout",
     "output_type": "stream",
     "text": [
      "Cost corrected\n"
     ]
    },
    {
     "data": {
      "text/latex": [
       "$\\displaystyle \\left[\\begin{matrix}0 & 0 & - \\delta - 3 & 0 & 0 & \\delta + 1 & - 3 \\delta - 21\\\\1 & 0 & 1 & 0 & 0 & -1 & 3\\\\0 & 0 & -3 & 1 & 0 & 2 & 3\\\\0 & 0 & -1 & 0 & 1 & 1 & 4\\\\0 & 1 & 0 & 0 & 0 & 1 & 6\\end{matrix}\\right]$"
      ],
      "text/plain": [
       "Matrix([\n",
       "[0, 0, -\\delta - 3, 0, 0, \\delta + 1, -3*\\delta - 21],\n",
       "[1, 0,           1, 0, 0,         -1,              3],\n",
       "[0, 0,          -3, 1, 0,          2,              3],\n",
       "[0, 0,          -1, 0, 1,          1,              4],\n",
       "[0, 1,           0, 0, 0,          1,              6]])"
      ]
     },
     "execution_count": 9,
     "metadata": {},
     "output_type": "execute_result"
    }
   ],
   "source": [
    "basic_var = [2, 3, 4, 5]\n",
    "\n",
    "tableau = build_tableau(A, b, c(-2))\n",
    "opt_tableau = simplex(tableau, basic_var)\n",
    "opt_tableau = sp.Matrix(opt_tableau.tolist())\n",
    "# no necesito desplazar nuevamente :OOOO y me sale la respuesta sin transformar :OOOO\n",
    "opt_tableau[0, :-1] = sp.Matrix(c(delta)).T\n",
    "opt_tableau[0, -1] = 0\n",
    "display(opt_tableau)\n",
    "\n",
    "correct_symbolic_cost(opt_tableau, basic_var)\n",
    "sp.nsimplify(opt_tableau, rational=True)\n"
   ]
  },
  {
   "cell_type": "markdown",
   "metadata": {},
   "source": [
    "$\\mathbf v = (0, 6)$ óptimo"
   ]
  },
  {
   "cell_type": "code",
   "execution_count": 10,
   "metadata": {},
   "outputs": [
    {
     "name": "stdout",
     "output_type": "stream",
     "text": [
      "vertex = [ 0.  0.  9. 18.  7.  6.], x_B = [3, 4, 5, 6]\n",
      "[[-1.  2.  0.  0.  0.  0.  0.]\n",
      " [ 1.  1.  1.  0.  0.  0.  9.]\n",
      " [ 3.  1.  0.  1.  0.  0. 18.]\n",
      " [ 1.  0.  0.  0.  1.  0.  7.]\n",
      " [ 0.  1.  0.  0.  0.  1.  6.]]\n",
      "vertex = [ 0.  6.  3. 12.  7.  0.], x_B = [3, 4, 5, 2]\n",
      "[[ -1.   0.   0.   0.   0.  -2. -12.]\n",
      " [  1.   0.   1.   0.   0.  -1.   3.]\n",
      " [  3.   0.   0.   1.   0.  -1.  12.]\n",
      " [  1.   0.   0.   0.   1.   0.   7.]\n",
      " [  0.   1.   0.   0.   0.   1.   6.]]\n"
     ]
    },
    {
     "data": {
      "text/latex": [
       "$\\displaystyle \\left[\\begin{matrix}\\delta + 3.0 & 2.0 & 0 & 0 & 0 & 0 & 0\\\\1.0 & 0 & 1.0 & 0 & 0 & -1.0 & 3.0\\\\3.0 & 0 & 0 & 1.0 & 0 & -1.0 & 12.0\\\\1.0 & 0 & 0 & 0 & 1.0 & 0 & 7.0\\\\0 & 1.0 & 0 & 0 & 0 & 1.0 & 6.0\\end{matrix}\\right]$"
      ],
      "text/plain": [
       "Matrix([\n",
       "[\\delta + 3.0, 2.0,   0,   0,   0,    0,    0],\n",
       "[         1.0,   0, 1.0,   0,   0, -1.0,  3.0],\n",
       "[         3.0,   0,   0, 1.0,   0, -1.0, 12.0],\n",
       "[         1.0,   0,   0,   0, 1.0,    0,  7.0],\n",
       "[           0, 1.0,   0,   0,   0,  1.0,  6.0]])"
      ]
     },
     "metadata": {},
     "output_type": "display_data"
    },
    {
     "name": "stdout",
     "output_type": "stream",
     "text": [
      "Cost corrected\n"
     ]
    },
    {
     "data": {
      "text/latex": [
       "$\\displaystyle \\left[\\begin{matrix}\\delta + 3 & 0 & 0 & 0 & 0 & -2 & -12\\\\1 & 0 & 1 & 0 & 0 & -1 & 3\\\\3 & 0 & 0 & 1 & 0 & -1 & 12\\\\1 & 0 & 0 & 0 & 1 & 0 & 7\\\\0 & 1 & 0 & 0 & 0 & 1 & 6\\end{matrix}\\right]$"
      ],
      "text/plain": [
       "Matrix([\n",
       "[\\delta + 3, 0, 0, 0, 0, -2, -12],\n",
       "[         1, 0, 1, 0, 0, -1,   3],\n",
       "[         3, 0, 0, 1, 0, -1,  12],\n",
       "[         1, 0, 0, 0, 1,  0,   7],\n",
       "[         0, 1, 0, 0, 0,  1,   6]])"
      ]
     },
     "execution_count": 10,
     "metadata": {},
     "output_type": "execute_result"
    }
   ],
   "source": [
    "basic_var = [2, 3, 4, 5]\n",
    "\n",
    "tableau = build_tableau(A, b, c(-4))\n",
    "opt_tableau = simplex(tableau, basic_var)\n",
    "opt_tableau = sp.Matrix(opt_tableau.tolist())\n",
    "opt_tableau[0, :-1] = sp.Matrix(c(delta)).T\n",
    "opt_tableau[0, -1] = 0\n",
    "display(opt_tableau)\n",
    "\n",
    "correct_symbolic_cost(opt_tableau, basic_var)\n",
    "sp.nsimplify(opt_tableau, rational=True)\n"
   ]
  },
  {
   "cell_type": "markdown",
   "metadata": {},
   "source": [
    "$\\mathbf v = (6, 0)$ óptimo"
   ]
  },
  {
   "cell_type": "code",
   "execution_count": 11,
   "metadata": {},
   "outputs": [
    {
     "name": "stdout",
     "output_type": "stream",
     "text": [
      "vertex = [ 0.  0.  9. 18.  7.  6.], x_B = [3, 4, 5, 6]\n",
      "[[ 6.  2.  0.  0.  0.  0.  0.]\n",
      " [ 1.  1.  1.  0.  0.  0.  9.]\n",
      " [ 3.  1.  0.  1.  0.  0. 18.]\n",
      " [ 1.  0.  0.  0.  1.  0.  7.]\n",
      " [ 0.  1.  0.  0.  0.  1.  6.]]\n",
      "vertex = [6. 0. 3. 0. 1. 6.], x_B = [3, 1, 5, 6]\n",
      "[[  0.           0.           0.          -2.           0.           0.         -36.        ]\n",
      " [  0.           0.66666667   1.          -0.33333333   0.           0.           3.        ]\n",
      " [  1.           0.33333333   0.           0.33333333   0.           0.           6.        ]\n",
      " [  0.          -0.33333333   0.          -0.33333333   1.           0.           1.        ]\n",
      " [  0.           1.           0.           0.           0.           1.           6.        ]]\n"
     ]
    },
    {
     "data": {
      "text/latex": [
       "$\\displaystyle \\left[\\begin{matrix}\\delta + 3.0 & 2.0 & 0 & 0 & 0 & 0 & 0\\\\0 & 0.666666666666667 & 1.0 & -0.333333333333333 & 0 & 0 & 3.0\\\\1.0 & 0.333333333333333 & 0 & 0.333333333333333 & 0 & 0 & 6.0\\\\0 & -0.333333333333333 & 0 & -0.333333333333333 & 1.0 & 0 & 1.0\\\\0 & 1.0 & 0 & 0 & 0 & 1.0 & 6.0\\end{matrix}\\right]$"
      ],
      "text/plain": [
       "Matrix([\n",
       "[\\delta + 3.0,                2.0,   0,                  0,   0,   0,   0],\n",
       "[           0,  0.666666666666667, 1.0, -0.333333333333333,   0,   0, 3.0],\n",
       "[         1.0,  0.333333333333333,   0,  0.333333333333333,   0,   0, 6.0],\n",
       "[           0, -0.333333333333333,   0, -0.333333333333333, 1.0,   0, 1.0],\n",
       "[           0,                1.0,   0,                  0,   0, 1.0, 6.0]])"
      ]
     },
     "metadata": {},
     "output_type": "display_data"
    },
    {
     "name": "stdout",
     "output_type": "stream",
     "text": [
      "Cost corrected\n"
     ]
    },
    {
     "data": {
      "text/latex": [
       "$\\displaystyle \\left[\\begin{matrix}0 & 1 - \\frac{\\delta}{3} & 0 & - \\frac{\\delta}{3} - 1 & 0 & 0 & - 6 \\delta - 18\\\\0 & \\frac{2}{3} & 1 & - \\frac{1}{3} & 0 & 0 & 3\\\\1 & \\frac{1}{3} & 0 & \\frac{1}{3} & 0 & 0 & 6\\\\0 & - \\frac{1}{3} & 0 & - \\frac{1}{3} & 1 & 0 & 1\\\\0 & 1 & 0 & 0 & 0 & 1 & 6\\end{matrix}\\right]$"
      ],
      "text/plain": [
       "Matrix([\n",
       "[0, 1 - \\delta/3, 0, -\\delta/3 - 1, 0, 0, -6*\\delta - 18],\n",
       "[0,          2/3, 1,          -1/3, 0, 0,              3],\n",
       "[1,          1/3, 0,           1/3, 0, 0,              6],\n",
       "[0,         -1/3, 0,          -1/3, 1, 0,              1],\n",
       "[0,            1, 0,             0, 0, 1,              6]])"
      ]
     },
     "execution_count": 11,
     "metadata": {},
     "output_type": "execute_result"
    }
   ],
   "source": [
    "basic_var = [2, 3, 4, 5]\n",
    "\n",
    "tableau = build_tableau(A, b, c(3))\n",
    "opt_tableau = simplex(tableau, basic_var)\n",
    "opt_tableau = sp.Matrix(opt_tableau.tolist())\n",
    "opt_tableau[0, :-1] = sp.Matrix(c(delta)).T \n",
    "opt_tableau[0, -1] = 0\n",
    "display(opt_tableau)\n",
    "\n",
    "correct_symbolic_cost(opt_tableau, basic_var)\n",
    "sp.nsimplify(opt_tableau, rational=True)\n"
   ]
  },
  {
   "cell_type": "markdown",
   "metadata": {},
   "source": [
    "Gráfico"
   ]
  },
  {
   "cell_type": "code",
   "execution_count": 12,
   "metadata": {},
   "outputs": [
    {
     "data": {
      "image/png": "[encoded data removed]",
      "text/plain": [
       "<Figure size 432x288 with 1 Axes>"
      ]
     },
     "metadata": {
      "needs_background": "light"
     },
     "output_type": "display_data"
    }
   ],
   "source": [
    "def z(delta):\n",
    "    if delta < -3:\n",
    "        return 12\n",
    "    elif -3 <= delta < -1:\n",
    "        return 3 * delta + 21\n",
    "    elif -1 <= delta <= 3:\n",
    "        return 4.5 * delta + 22.5   # f'(0) = 4.5\n",
    "    else:\n",
    "        return 6 * delta + 18\n",
    "\n",
    "interval_point = [-3, -1, 3]\n",
    "z_point = [z(d) for d in interval_point]\n",
    "\n",
    "interval = np.linspace(-4, 4)\n",
    "z_plot = [z(d) for d in interval]\n",
    "\n",
    "plt.xlabel(\"$\\delta$\")\n",
    "plt.ylabel(\"$z^*(\\delta)$\")\n",
    "plt.plot(interval, z_plot)\n",
    "plt.plot(interval_point, z_point, 'o', c='r')\n",
    "plt.show()\n"
   ]
  },
  {
   "cell_type": "markdown",
   "metadata": {},
   "source": [
    "##### Perturbing the objective coefficient of a nonbasic variable"
   ]
  },
  {
   "cell_type": "code",
   "execution_count": 13,
   "metadata": {},
   "outputs": [],
   "source": [
    "A = [[1, 1, 1, 0, 0, 0],\n",
    "     [3, 1, 0, 1, 0, 0],\n",
    "     [1, 0, 0, 0, 1, 0],\n",
    "     [0, 1, 0, 0, 0, 1.0]]\n",
    "\n",
    "b = [9, 18, 7, 6.]\n",
    "\n",
    "c = lambda delta: [6, 1 + delta, 0, 0, 0., 0]"
   ]
  },
  {
   "cell_type": "code",
   "execution_count": 14,
   "metadata": {},
   "outputs": [
    {
     "name": "stdout",
     "output_type": "stream",
     "text": [
      "vertex = [ 0.  0.  9. 18.  7.  6.], x_B = [3, 4, 5, 6]\n",
      "[[ 6.  1.  0.  0.  0.  0.  0.]\n",
      " [ 1.  1.  1.  0.  0.  0.  9.]\n",
      " [ 3.  1.  0.  1.  0.  0. 18.]\n",
      " [ 1.  0.  0.  0.  1.  0.  7.]\n",
      " [ 0.  1.  0.  0.  0.  1.  6.]]\n",
      "vertex = [6. 0. 3. 0. 1. 6.], x_B = [3, 1, 5, 6]\n",
      "[[  0.          -1.           0.          -2.           0.           0.         -36.        ]\n",
      " [  0.           0.66666667   1.          -0.33333333   0.           0.           3.        ]\n",
      " [  1.           0.33333333   0.           0.33333333   0.           0.           6.        ]\n",
      " [  0.          -0.33333333   0.          -0.33333333   1.           0.           1.        ]\n",
      " [  0.           1.           0.           0.           0.           1.           6.        ]]\n"
     ]
    },
    {
     "data": {
      "text/latex": [
       "$\\displaystyle \\left[\\begin{matrix}6 & \\delta + 1 & 0 & 0 & 0 & 0 & 0\\\\0 & 0.666666666666667 & 1.0 & -0.333333333333333 & 0 & 0 & 3.0\\\\1.0 & 0.333333333333333 & 0 & 0.333333333333333 & 0 & 0 & 6.0\\\\0 & -0.333333333333333 & 0 & -0.333333333333333 & 1.0 & 0 & 1.0\\\\0 & 1.0 & 0 & 0 & 0 & 1.0 & 6.0\\end{matrix}\\right]$"
      ],
      "text/plain": [
       "Matrix([\n",
       "[  6,         \\delta + 1,   0,                  0,   0,   0,   0],\n",
       "[  0,  0.666666666666667, 1.0, -0.333333333333333,   0,   0, 3.0],\n",
       "[1.0,  0.333333333333333,   0,  0.333333333333333,   0,   0, 6.0],\n",
       "[  0, -0.333333333333333,   0, -0.333333333333333, 1.0,   0, 1.0],\n",
       "[  0,                1.0,   0,                  0,   0, 1.0, 6.0]])"
      ]
     },
     "metadata": {},
     "output_type": "display_data"
    },
    {
     "name": "stdout",
     "output_type": "stream",
     "text": [
      "Cost corrected\n"
     ]
    },
    {
     "data": {
      "text/latex": [
       "$\\displaystyle \\left[\\begin{matrix}0 & \\delta - 1 & 0 & -2 & 0 & 0 & -36\\\\0 & \\frac{2}{3} & 1 & - \\frac{1}{3} & 0 & 0 & 3\\\\1 & \\frac{1}{3} & 0 & \\frac{1}{3} & 0 & 0 & 6\\\\0 & - \\frac{1}{3} & 0 & - \\frac{1}{3} & 1 & 0 & 1\\\\0 & 1 & 0 & 0 & 0 & 1 & 6\\end{matrix}\\right]$"
      ],
      "text/plain": [
       "Matrix([\n",
       "[0, \\delta - 1, 0,   -2, 0, 0, -36],\n",
       "[0,        2/3, 1, -1/3, 0, 0,   3],\n",
       "[1,        1/3, 0,  1/3, 0, 0,   6],\n",
       "[0,       -1/3, 0, -1/3, 1, 0,   1],\n",
       "[0,          1, 0,    0, 0, 1,   6]])"
      ]
     },
     "execution_count": 14,
     "metadata": {},
     "output_type": "execute_result"
    }
   ],
   "source": [
    "tableau = build_tableau(A, b, c(0))\n",
    "basic_var = [2, 3, 4, 5]\n",
    "opt_tableau = simplex(tableau, basic_var)\n",
    "opt_tableau = sp.Matrix(opt_tableau.tolist())\n",
    "opt_tableau[0, :-1] = sp.Matrix(c(delta)).T\n",
    "opt_tableau[0, -1] = 0\n",
    "display(opt_tableau)\n",
    "\n",
    "correct_symbolic_cost(opt_tableau, basic_var)\n",
    "sp.nsimplify(opt_tableau, rational=True)\n"
   ]
  },
  {
   "cell_type": "markdown",
   "metadata": {},
   "source": [
    "Interval of tolerance $\\delta \\le 1$. The objective value does not change as long as $\\delta \\le 1$, because we have perturbed an objetive coefficient of a nonbasic variable (which has value zero)."
   ]
  },
  {
   "cell_type": "markdown",
   "metadata": {},
   "source": [
    "Dual mode\n",
    "\n",
    "$x^*_k$ has been perturbed and his dual complement is $y^*_{m+k}$, where $k=2$ y $m=4$, both obtained from the primary model."
   ]
  },
  {
   "cell_type": "code",
   "execution_count": 15,
   "metadata": {},
   "outputs": [
    {
     "name": "stdout",
     "output_type": "stream",
     "text": [
      "vertex = [ 0.  0. -6. -1.  0.  0.], x_B = [3, 4]\n",
      "[[ -9. -18.  -7.  -6.   0.   0.   0.]\n",
      " [ -1.  -3.  -1.  -0.   1.   0.  -6.]\n",
      " [ -1.  -1.  -0.  -1.   0.   1.  -1.]]\n",
      "vertex = [0. 2. 0. 1. 0. 0.], x_B = [2, 4]\n",
      "[[-3.          0.         -1.         -6.         -6.          0.         36.        ]\n",
      " [ 0.33333333  1.          0.33333333  0.         -0.33333333 -0.          2.        ]\n",
      " [-0.66666667  0.          0.33333333 -1.         -0.33333333  1.          1.        ]]\n"
     ]
    }
   ],
   "source": [
    "A_T = np.array([[-1., -3., -1., -0., 1, 0],\n",
    "                [-1., -1., -0., -1., 0, 1]])\n",
    "\n",
    "b = [-9, -18, -7, -6., 0, 0]\n",
    "\n",
    "c = [-6, -1.0]\n",
    "\n",
    "tableau = build_tableau(A_T, c, b)\n",
    "basic_var = [2, 3]\n",
    "\n",
    "dual_simplex(tableau, basic_var);\n"
   ]
  },
  {
   "cell_type": "markdown",
   "metadata": {},
   "source": [
    "Then $\\delta \\le y^*_{m+k} = 1$, obtained from optimal dual simplex table. "
   ]
  },
  {
   "cell_type": "markdown",
   "metadata": {},
   "source": [
    "##### Determining tolerance intervals from an optimal simplex tableau"
   ]
  },
  {
   "cell_type": "code",
   "execution_count": 16,
   "metadata": {},
   "outputs": [
    {
     "name": "stdout",
     "output_type": "stream",
     "text": [
      "vertex = [ 0.  0.  9. 18.  7.  6.], x_B = [3, 4, 5, 6]\n",
      "[[ 3.  2.  0.  0.  0.  0.  0.]\n",
      " [ 1.  1.  1.  0.  0.  0.  9.]\n",
      " [ 3.  1.  0.  1.  0.  0. 18.]\n",
      " [ 1.  0.  0.  0.  1.  0.  7.]\n",
      " [ 0.  1.  0.  0.  0.  1.  6.]]\n",
      "vertex = [6. 0. 3. 0. 1. 6.], x_B = [3, 1, 5, 6]\n",
      "[[  0.           1.           0.          -1.           0.           0.         -18.        ]\n",
      " [  0.           0.66666667   1.          -0.33333333   0.           0.           3.        ]\n",
      " [  1.           0.33333333   0.           0.33333333   0.           0.           6.        ]\n",
      " [  0.          -0.33333333   0.          -0.33333333   1.           0.           1.        ]\n",
      " [  0.           1.           0.           0.           0.           1.           6.        ]]\n",
      "vertex = [4.5 4.5 0.  0.  2.5 1.5], x_B = [2, 1, 5, 6]\n",
      "[[  0.    0.   -1.5  -0.5   0.    0.  -22.5]\n",
      " [  0.    1.    1.5  -0.5   0.    0.    4.5]\n",
      " [  1.    0.   -0.5   0.5   0.    0.    4.5]\n",
      " [  0.    0.    0.5  -0.5   1.    0.    2.5]\n",
      " [  0.    0.   -1.5   0.5   0.    1.    1.5]]\n",
      "[𝛿_min, 𝛿_max] = [-1.0000000000000002, 3.0000000000000004]\n"
     ]
    }
   ],
   "source": [
    "# For basic variable\n",
    "A = [[1, 1, 1, 0, 0, 0],\n",
    "     [3, 1, 0, 1, 0, 0],\n",
    "     [1, 0, 0, 0, 1, 0],\n",
    "     [0, 1, 0, 0, 0, 1.0]]\n",
    "\n",
    "b = [9, 18, 7, 6.]\n",
    "\n",
    "c = lambda delta: [delta + 3., 2., 0., 0., 0., 0]\n",
    "\n",
    "tableau = build_tableau(A, b, c(0))\n",
    "basic_var = [2, 3, 4, 5]\n",
    "simplex(tableau, basic_var)\n",
    "var = set(range(tableau.shape[1] - 1))\n",
    "non_basic_var = list(var - set(basic_var))\n",
    "# location of perturbed basic variable in array [5, 2, k, ..., 1], beta=2\n",
    "beta = 1  # [1, 0, 4, 5]\n",
    "k = basic_var.index(beta)\n",
    "print(\"[𝛿_min, 𝛿_max] =\", delta_range(tableau, non_basic_var, beta))\n"
   ]
  },
  {
   "cell_type": "markdown",
   "metadata": {},
   "source": [
    "#### Sensibility analysis for the degenerate case"
   ]
  },
  {
   "cell_type": "markdown",
   "metadata": {},
   "source": [
    "d) Unique and degenerate optimal solution $\\implies$ Multiple optimal solution\n"
   ]
  },
  {
   "cell_type": "code",
   "execution_count": 17,
   "metadata": {},
   "outputs": [
    {
     "name": "stdout",
     "output_type": "stream",
     "text": [
      "vertex = [0. 0. 0. 1. 1.], x_B = [4, 5]\n",
      "[[ 1. -1.  0.  0.  0.  0.]\n",
      " [ 1. -1.  1.  1.  0.  1.]\n",
      " [ 1.  0.  0.  0.  1.  1.]]\n",
      "vertex = [1. 0. 0. 0. 0.], x_B = [1, 5]\n",
      "[[ 0.  0. -1. -1.  0. -1.]\n",
      " [ 1. -1.  1.  1.  0.  1.]\n",
      " [ 0.  1. -1. -1.  1.  0.]]\n",
      "The primal model has the unique optimal solution [1, 0, 0, 0, 0]\n"
     ]
    }
   ],
   "source": [
    "# Primal\n",
    "A = [[1, -1, 1, 1, 0],\n",
    "     [1, 0., 0, 0, 1]]\n",
    "\n",
    "b = [1, 1.0]\n",
    "\n",
    "c = [1, -1.0, 0, 0, 0]\n",
    "basic_var = [3, 4]\n",
    "tableau = build_tableau(A, b, c)\n",
    "simplex(tableau, basic_var);\n",
    "print(\"The primal model has the unique optimal solution [1, 0, 0, 0, 0]\")\n"
   ]
  },
  {
   "cell_type": "markdown",
   "metadata": {},
   "source": [
    "#### Exercise 5.8.1. Consider the following LO-model.\n",
    "\n",
    "\n",
    "\\begin{align*}\n",
    "\\max (1 + \\delta)x_1 + &x_2\\\\ \n",
    "\\text{s.t.}\\quad \\quad \\quad\\quad \\quad &x_2 \\le 5\\\\\n",
    "            2x_1 + &x_2 \\le 8\\\\\n",
    "            3x_1 + &x_2 \\le 10\\\\\n",
    "            x_1\\ge 0, &x_2\\ge 0\n",
    "\\end{align*}"
   ]
  },
  {
   "cell_type": "code",
   "execution_count": 18,
   "metadata": {},
   "outputs": [],
   "source": [
    "A = [[0, 1., 1, 0, 0],\n",
    "     [2, 1., 0, 1, 0],\n",
    "     [3, 1., 0, 0, 1]]\n",
    "\n",
    "b = [5, 8, 10.]\n",
    "\n",
    "c = lambda delta: [1 + delta, 1, 0, 0, 0]\n"
   ]
  },
  {
   "cell_type": "markdown",
   "metadata": {},
   "source": [
    "$\\mathbf v = [1.5, 5]$ óptimo"
   ]
  },
  {
   "cell_type": "code",
   "execution_count": 19,
   "metadata": {},
   "outputs": [
    {
     "name": "stdout",
     "output_type": "stream",
     "text": [
      "vertex = [ 0.  0.  5.  8. 10.], x_B = [3, 4, 5]\n",
      "[[ 1.  1.  0.  0.  0.  0.]\n",
      " [ 0.  1.  1.  0.  0.  5.]\n",
      " [ 2.  1.  0.  1.  0.  8.]\n",
      " [ 3.  1.  0.  0.  1. 10.]]\n",
      "vertex = [3.33333333 0.         5.         1.33333333 0.        ], x_B = [3, 4, 1]\n",
      "[[ 0.          0.66666667  0.          0.         -0.33333333 -3.33333333]\n",
      " [ 0.          1.          1.          0.          0.          5.        ]\n",
      " [ 0.          0.33333333  0.          1.         -0.66666667  1.33333333]\n",
      " [ 1.          0.33333333  0.          0.          0.33333333  3.33333333]]\n",
      "vertex = [2. 4. 1. 0. 0.], x_B = [3, 2, 1]\n",
      "[[ 0.  0.  0. -2.  1. -6.]\n",
      " [ 0.  0.  1. -3.  2.  1.]\n",
      " [ 0.  1.  0.  3. -2.  4.]\n",
      " [ 1.  0.  0. -1.  1.  2.]]\n",
      "vertex = [1.5 5.  0.  0.  0.5], x_B = [5, 2, 1]\n",
      "[[ 0.   0.  -0.5 -0.5  0.  -6.5]\n",
      " [ 0.   0.   0.5 -1.5  1.   0.5]\n",
      " [ 0.   1.   1.   0.   0.   5. ]\n",
      " [ 1.   0.  -0.5  0.5  0.   1.5]]\n"
     ]
    },
    {
     "data": {
      "text/latex": [
       "$\\displaystyle \\left[\\begin{matrix}\\delta + 1 & 1 & 0 & 0 & 0 & 0\\\\0 & 0 & 0.5 & -1.5 & 1.0 & 0.500000000000001\\\\0 & 1.0 & 1.0 & 0 & 0 & 5.0\\\\1.0 & 0 & -0.5 & 0.5 & 0 & 1.5\\end{matrix}\\right]$"
      ],
      "text/plain": [
       "Matrix([\n",
       "[\\delta + 1,   1,    0,    0,   0,                 0],\n",
       "[         0,   0,  0.5, -1.5, 1.0, 0.500000000000001],\n",
       "[         0, 1.0,  1.0,    0,   0,               5.0],\n",
       "[       1.0,   0, -0.5,  0.5,   0,               1.5]])"
      ]
     },
     "metadata": {},
     "output_type": "display_data"
    },
    {
     "name": "stdout",
     "output_type": "stream",
     "text": [
      "Cost corrected\n"
     ]
    },
    {
     "data": {
      "text/latex": [
       "$\\displaystyle \\left[\\begin{matrix}0 & 0 & \\frac{\\delta}{2} - \\frac{1}{2} & - \\frac{\\delta}{2} - \\frac{1}{2} & 0 & - \\frac{3 \\delta}{2} - \\frac{13}{2}\\\\0 & 0 & \\frac{1}{2} & - \\frac{3}{2} & 1 & \\frac{1}{2}\\\\0 & 1 & 1 & 0 & 0 & 5\\\\1 & 0 & - \\frac{1}{2} & \\frac{1}{2} & 0 & \\frac{3}{2}\\end{matrix}\\right]$"
      ],
      "text/plain": [
       "Matrix([\n",
       "[0, 0, \\delta/2 - 1/2, -\\delta/2 - 1/2, 0, -3*\\delta/2 - 13/2],\n",
       "[0, 0,            1/2,            -3/2, 1,                1/2],\n",
       "[0, 1,              1,               0, 0,                  5],\n",
       "[1, 0,           -1/2,             1/2, 0,                3/2]])"
      ]
     },
     "execution_count": 19,
     "metadata": {},
     "output_type": "execute_result"
    }
   ],
   "source": [
    "basic_var = [2, 3, 4]\n",
    "\n",
    "tableau = build_tableau(A, b, c(0))\n",
    "opt_tableau = simplex(tableau, basic_var)\n",
    "opt_tableau = sp.Matrix(opt_tableau.tolist())\n",
    "opt_tableau[0, :-1] = sp.Matrix(c(delta)).T\n",
    "opt_tableau[0, -1] = 0\n",
    "display(opt_tableau)\n",
    "\n",
    "correct_symbolic_cost(opt_tableau, basic_var)\n",
    "sp.nsimplify(opt_tableau, rational=True)"
   ]
  },
  {
   "cell_type": "markdown",
   "metadata": {},
   "source": [
    "$\\mathbf v = [0, 5]$ óptimo"
   ]
  },
  {
   "cell_type": "code",
   "execution_count": 20,
   "metadata": {},
   "outputs": [
    {
     "name": "stdout",
     "output_type": "stream",
     "text": [
      "vertex = [ 0.  0.  5.  8. 10.], x_B = [3, 4, 5]\n",
      "[[ 0.  1.  0.  0.  0.  0.]\n",
      " [ 0.  1.  1.  0.  0.  5.]\n",
      " [ 2.  1.  0.  1.  0.  8.]\n",
      " [ 3.  1.  0.  0.  1. 10.]]\n",
      "vertex = [0. 5. 0. 3. 5.], x_B = [2, 4, 5]\n",
      "[[ 0.  0. -1.  0.  0. -5.]\n",
      " [ 0.  1.  1.  0.  0.  5.]\n",
      " [ 2.  0. -1.  1.  0.  3.]\n",
      " [ 3.  0. -1.  0.  1.  5.]]\n"
     ]
    },
    {
     "data": {
      "text/latex": [
       "$\\displaystyle \\left[\\begin{matrix}\\delta & 1 & 0 & 0 & 0 & 0\\\\0 & 1.0 & 1.0 & 0 & 0 & 5.0\\\\2.0 & 0 & -1.0 & 1.0 & 0 & 3.0\\\\3.0 & 0 & -1.0 & 0 & 1.0 & 5.0\\end{matrix}\\right]$"
      ],
      "text/plain": [
       "Matrix([\n",
       "[\\delta,   1,    0,   0,   0,   0],\n",
       "[     0, 1.0,  1.0,   0,   0, 5.0],\n",
       "[   2.0,   0, -1.0, 1.0,   0, 3.0],\n",
       "[   3.0,   0, -1.0,   0, 1.0, 5.0]])"
      ]
     },
     "metadata": {},
     "output_type": "display_data"
    },
    {
     "name": "stdout",
     "output_type": "stream",
     "text": [
      "Cost corrected\n"
     ]
    },
    {
     "data": {
      "text/latex": [
       "$\\displaystyle \\left[\\begin{matrix}\\delta & 0 & -1 & 0 & 0 & -5\\\\0 & 1 & 1 & 0 & 0 & 5\\\\2 & 0 & -1 & 1 & 0 & 3\\\\3 & 0 & -1 & 0 & 1 & 5\\end{matrix}\\right]$"
      ],
      "text/plain": [
       "Matrix([\n",
       "[\\delta, 0, -1, 0, 0, -5],\n",
       "[     0, 1,  1, 0, 0,  5],\n",
       "[     2, 0, -1, 1, 0,  3],\n",
       "[     3, 0, -1, 0, 1,  5]])"
      ]
     },
     "execution_count": 20,
     "metadata": {},
     "output_type": "execute_result"
    }
   ],
   "source": [
    "basic_var = [2, 3, 4]\n",
    "\n",
    "tableau = build_tableau(A, b, c(-1))\n",
    "opt_tableau = simplex(tableau, basic_var)\n",
    "opt_tableau = sp.Matrix(opt_tableau.tolist())\n",
    "opt_tableau[0, :-1] = sp.Matrix(c(delta - 1)).T\n",
    "opt_tableau[0, -1] = 0\n",
    "display(opt_tableau)\n",
    "\n",
    "correct_symbolic_cost(opt_tableau, basic_var)\n",
    "sp.nsimplify(opt_tableau, rational=True)"
   ]
  },
  {
   "cell_type": "markdown",
   "metadata": {},
   "source": [
    "$\\mathbf v = [2, 4]$ óptimo"
   ]
  },
  {
   "cell_type": "code",
   "execution_count": 21,
   "metadata": {},
   "outputs": [
    {
     "name": "stdout",
     "output_type": "stream",
     "text": [
      "vertex = [ 0.  0.  5.  8. 10.], x_B = [3, 4, 5]\n",
      "[[ 2.  1.  0.  0.  0.  0.]\n",
      " [ 0.  1.  1.  0.  0.  5.]\n",
      " [ 2.  1.  0.  1.  0.  8.]\n",
      " [ 3.  1.  0.  0.  1. 10.]]\n",
      "vertex = [3.33333333 0.         5.         1.33333333 0.        ], x_B = [3, 4, 1]\n",
      "[[ 0.          0.33333333  0.          0.         -0.66666667 -6.66666667]\n",
      " [ 0.          1.          1.          0.          0.          5.        ]\n",
      " [ 0.          0.33333333  0.          1.         -0.66666667  1.33333333]\n",
      " [ 1.          0.33333333  0.          0.          0.33333333  3.33333333]]\n",
      "vertex = [2. 4. 1. 0. 0.], x_B = [3, 2, 1]\n",
      "[[ 0.  0.  0. -1.  0. -8.]\n",
      " [ 0.  0.  1. -3.  2.  1.]\n",
      " [ 0.  1.  0.  3. -2.  4.]\n",
      " [ 1.  0.  0. -1.  1.  2.]]\n"
     ]
    },
    {
     "data": {
      "text/latex": [
       "$\\displaystyle \\left[\\begin{matrix}\\delta + 2 & 1 & 0 & 0 & 0 & 0\\\\0 & 0 & 1.0 & -3.0 & 2.0 & 1.0\\\\0 & 1.0 & 0 & 3.0 & -2.0 & 4.0\\\\1.0 & 0 & 0 & -1.0 & 1.0 & 2.0\\end{matrix}\\right]$"
      ],
      "text/plain": [
       "Matrix([\n",
       "[\\delta + 2,   1,   0,    0,    0,   0],\n",
       "[         0,   0, 1.0, -3.0,  2.0, 1.0],\n",
       "[         0, 1.0,   0,  3.0, -2.0, 4.0],\n",
       "[       1.0,   0,   0, -1.0,  1.0, 2.0]])"
      ]
     },
     "metadata": {},
     "output_type": "display_data"
    },
    {
     "name": "stdout",
     "output_type": "stream",
     "text": [
      "Cost corrected\n"
     ]
    },
    {
     "data": {
      "text/latex": [
       "$\\displaystyle \\left[\\begin{matrix}0 & 0 & 0 & 1.0 \\delta - 1.0 & 2.22044604925031 \\cdot 10^{-16} - 1.0 \\delta & - 2.0 \\delta - 8.0\\\\0 & 0 & 1.0 & -3.0 & 2.0 & 1.0\\\\0 & 1.0 & 0 & 3.0 & -2.0 & 4.0\\\\1.0 & 0 & 0 & -1.0 & 1.0 & 2.0\\end{matrix}\\right]$"
      ],
      "text/plain": [
       "Matrix([\n",
       "[  0,   0,   0, 1.0*\\delta - 1.0, 2.22044604925031e-16 - 1.0*\\delta, -2.0*\\delta - 8.0],\n",
       "[  0,   0, 1.0,             -3.0,                               2.0,               1.0],\n",
       "[  0, 1.0,   0,              3.0,                              -2.0,               4.0],\n",
       "[1.0,   0,   0,             -1.0,                               1.0,               2.0]])"
      ]
     },
     "execution_count": 21,
     "metadata": {},
     "output_type": "execute_result"
    }
   ],
   "source": [
    "basic_var = [2, 3, 4]\n",
    "\n",
    "tableau = build_tableau(A, b, c(1))\n",
    "opt_tableau = simplex(tableau, basic_var)\n",
    "opt_tableau = sp.Matrix(opt_tableau.tolist())\n",
    "opt_tableau[0, :-1] = sp.Matrix(c(delta + 1)).T\n",
    "opt_tableau[0, -1] = 0\n",
    "display(opt_tableau)\n",
    "\n",
    "correct_symbolic_cost(opt_tableau, basic_var)\n",
    "opt_tableau"
   ]
  },
  {
   "cell_type": "markdown",
   "metadata": {},
   "source": [
    "$\\mathbf v = \\left(\\frac{10}{3}, 0\\right)$ óptimo"
   ]
  },
  {
   "cell_type": "code",
   "execution_count": 22,
   "metadata": {},
   "outputs": [
    {
     "name": "stdout",
     "output_type": "stream",
     "text": [
      "vertex = [ 0.  0.  5.  8. 10.], x_B = [3, 4, 5]\n",
      "[[ 3.  1.  0.  0.  0.  0.]\n",
      " [ 0.  1.  1.  0.  0.  5.]\n",
      " [ 2.  1.  0.  1.  0.  8.]\n",
      " [ 3.  1.  0.  0.  1. 10.]]\n",
      "vertex = [3.33333333 0.         5.         1.33333333 0.        ], x_B = [3, 4, 1]\n",
      "[[  0.           0.           0.           0.          -1.         -10.        ]\n",
      " [  0.           1.           1.           0.           0.           5.        ]\n",
      " [  0.           0.33333333   0.           1.          -0.66666667   1.33333333]\n",
      " [  1.           0.33333333   0.           0.           0.33333333   3.33333333]]\n"
     ]
    },
    {
     "data": {
      "text/latex": [
       "$\\displaystyle \\left[\\begin{matrix}\\delta + 3 & 1 & 0 & 0 & 0 & 0\\\\0 & 1.0 & 1.0 & 0 & 0 & 5.0\\\\0 & 0.333333333333333 & 0 & 1.0 & -0.666666666666667 & 1.33333333333333\\\\1.0 & 0.333333333333333 & 0 & 0 & 0.333333333333333 & 3.33333333333333\\end{matrix}\\right]$"
      ],
      "text/plain": [
       "Matrix([\n",
       "[\\delta + 3,                 1,   0,   0,                  0,                0],\n",
       "[         0,               1.0, 1.0,   0,                  0,              5.0],\n",
       "[         0, 0.333333333333333,   0, 1.0, -0.666666666666667, 1.33333333333333],\n",
       "[       1.0, 0.333333333333333,   0,   0,  0.333333333333333, 3.33333333333333]])"
      ]
     },
     "metadata": {},
     "output_type": "display_data"
    },
    {
     "name": "stdout",
     "output_type": "stream",
     "text": [
      "Cost corrected\n"
     ]
    },
    {
     "data": {
      "text/latex": [
       "$\\displaystyle \\left[\\begin{matrix}0 & - \\frac{\\delta}{3} & 0 & 0 & - \\frac{\\delta}{3} - 1 & - \\frac{10 \\delta}{3} - 10\\\\0 & 1 & 1 & 0 & 0 & 5\\\\0 & \\frac{1}{3} & 0 & 1 & - \\frac{2}{3} & \\frac{4}{3}\\\\1 & \\frac{1}{3} & 0 & 0 & \\frac{1}{3} & \\frac{10}{3}\\end{matrix}\\right]$"
      ],
      "text/plain": [
       "Matrix([\n",
       "[0, -\\delta/3, 0, 0, -\\delta/3 - 1, -10*\\delta/3 - 10],\n",
       "[0,         1, 1, 0,             0,                 5],\n",
       "[0,       1/3, 0, 1,          -2/3,               4/3],\n",
       "[1,       1/3, 0, 0,           1/3,              10/3]])"
      ]
     },
     "execution_count": 22,
     "metadata": {},
     "output_type": "execute_result"
    }
   ],
   "source": [
    "basic_var = [2, 3, 4]\n",
    "\n",
    "tableau = build_tableau(A, b, c(2))\n",
    "opt_tableau = simplex(tableau, basic_var)\n",
    "opt_tableau = sp.Matrix(opt_tableau.tolist())\n",
    "opt_tableau[0, :-1] = sp.Matrix(c(delta + 2)).T\n",
    "opt_tableau[0, -1] = 0\n",
    "display(opt_tableau)\n",
    "\n",
    "correct_symbolic_cost(opt_tableau, basic_var)\n",
    "sp.nsimplify(opt_tableau, rational=True)"
   ]
  },
  {
   "cell_type": "markdown",
   "metadata": {},
   "source": [
    "Gráfico"
   ]
  },
  {
   "cell_type": "code",
   "execution_count": 23,
   "metadata": {},
   "outputs": [
    {
     "data": {
      "image/png": "[encoded data removed]",
      "text/plain": [
       "<Figure size 432x288 with 1 Axes>"
      ]
     },
     "metadata": {
      "needs_background": "light"
     },
     "output_type": "display_data"
    }
   ],
   "source": [
    "def z(delta):\n",
    "    if delta < -1:\n",
    "        return 5\n",
    "    elif -1 <= delta < 1:\n",
    "        return (3 * delta + 13) / 2\n",
    "    elif 1 <= delta < 2:\n",
    "        return 2 * delta + 6\n",
    "    else:\n",
    "        return 10 / 3 * (delta + 1)\n",
    "\n",
    "\n",
    "interval_point = [-1, 1, 2]\n",
    "z_point = [z(d) for d in interval_point]\n",
    "\n",
    "interval = np.linspace(-2, 3)\n",
    "z_plot = [z(d) for d in interval]\n",
    "\n",
    "plt.xlabel(\"$\\delta$\")\n",
    "plt.ylabel(\"$z^*(\\delta)$\")\n",
    "plt.plot(interval, z_plot)\n",
    "plt.plot(interval_point, z_point, 'o', c='r')\n",
    "plt.show()"
   ]
  },
  {
   "cell_type": "markdown",
   "metadata": {},
   "source": [
    "#### Exercise 5.8.10. Consider the following LO-model.\n",
    "\n",
    "\\begin{align*}\n",
    "    \\max\\quad 3x_1& +& 4x_2& -& 2x_3& +& x_4& -& x_5&\\\\\n",
    "    \\text{s.t.}\\quad   4x_1& +& 5x_2&  -& x_3& -& x_4& -& x_5 \\le 30\\\\\n",
    "                        x_1& +&  x_2&  +& x_3& +& x_4& +& x_5 \\le 15\\\\\n",
    "                        x_1& {}&  {}&  +& 3x_3&  +& 3x_4& {}&  \\le 27\\\\\n",
    "                         {}& {}& x_2&  {}&  {}&  +&  2x_4& {}& \\le 20\\\\\n",
    "                        x_1& {}&  {}&  +&  3x_3&  {}& {}&  {}& \\ge 20\\\\\n",
    "\\end{align*}\n",
    "$$x_1, x_2, x_3, x_4, x_5 \\ge 0$$\n"
   ]
  },
  {
   "cell_type": "markdown",
   "metadata": {},
   "source": [
    "(a) Determine optimal primal and dual solutions. Draw and analyze the perturbation function for the objective coeficient of $x_4$\n",
    "."
   ]
  },
  {
   "cell_type": "code",
   "execution_count": 24,
   "metadata": {},
   "outputs": [],
   "source": [
    "A = [[4, 5, -1, -1, -1, 1, 0, 0, 0, 0., 0],\n",
    "     [1, 1, 1., 1., 1., 0, 1, 0, 0, 0., 0],\n",
    "     [1, 0, 3., 3., 0., 0, 0, 1, 0, 0., 0],\n",
    "     [0, 1, 0., 2., 0., 0, 0, 0, 1, 0., 0],\n",
    "     [1, 0, 3., 0., 0., 0, 0, 0, 0, -1, 1]]\n",
    "\n",
    "b = [30, 15, 27, 20, 20.]\n",
    "\n",
    "c = lambda delta: [3, 4, -2, 1 + delta, -1, 0., 0., 0, 0, 0]\n",
    "c_artificial = [0, 0, 0, 0, 0, 0, 0, 0, 0, 0, -1]\n"
   ]
  },
  {
   "cell_type": "code",
   "execution_count": 25,
   "metadata": {},
   "outputs": [
    {
     "name": "stdout",
     "output_type": "stream",
     "text": [
      "Simplex process\n",
      "x_B = [6, 7, 8, 9, 11]\n",
      "[[ 0.  0.  0.  0.  0.  0.  0.  0.  0.  0. -1.  0.]\n",
      " [ 4.  5. -1. -1. -1.  1.  0.  0.  0.  0.  0. 30.]\n",
      " [ 1.  1.  1.  1.  1.  0.  1.  0.  0.  0.  0. 15.]\n",
      " [ 1.  0.  3.  3.  0.  0.  0.  1.  0.  0.  0. 27.]\n",
      " [ 0.  1.  0.  2.  0.  0.  0.  0.  1.  0.  0. 20.]\n",
      " [ 1.  0.  3.  0.  0.  0.  0.  0.  0. -1.  1. 20.]]\n",
      "Cost corrected\n",
      "x_B = [6, 7, 8, 9, 11]\n",
      "[[ 1.  0.  3.  0.  0.  0.  0.  0.  0. -1.  0. 20.]\n",
      " [ 4.  5. -1. -1. -1.  1.  0.  0.  0.  0.  0. 30.]\n",
      " [ 1.  1.  1.  1.  1.  0.  1.  0.  0.  0.  0. 15.]\n",
      " [ 1.  0.  3.  3.  0.  0.  0.  1.  0.  0.  0. 27.]\n",
      " [ 0.  1.  0.  2.  0.  0.  0.  0.  1.  0.  0. 20.]\n",
      " [ 1.  0.  3.  0.  0.  0.  0.  0.  0. -1.  1. 20.]]\n",
      "Start phase One\n",
      "x_B = [6, 7, 8, 9, 3]\n",
      "[[ 0.          0.          0.          0.          0.          0.          0.          0.          0.          0.         -1.          0.        ]\n",
      " [ 4.33333333  5.          0.         -1.         -1.          1.          0.          0.          0.         -0.33333333  0.33333333 36.66666667]\n",
      " [ 0.66666667  1.          0.          1.          1.          0.          1.          0.          0.          0.33333333 -0.33333333  8.33333333]\n",
      " [ 0.          0.          0.          3.          0.          0.          0.          1.          0.          1.         -1.          7.        ]\n",
      " [ 0.          1.          0.          2.          0.          0.          0.          0.          1.          0.          0.         20.        ]\n",
      " [ 0.33333333  0.          1.          0.          0.          0.          0.          0.          0.         -0.33333333  0.33333333  6.66666667]]\n",
      "Delete artificial variables and create a new tableau [10]\n",
      "Start phase two, put original cost\n",
      "x_B = [6, 7, 8, 9, 3]\n",
      "[[ 3.          4.         -2.          1.         -1.          0.          0.          0.          0.          0.          0.        ]\n",
      " [ 4.33333333  5.          0.         -1.         -1.          1.          0.          0.          0.         -0.33333333 36.66666667]\n",
      " [ 0.66666667  1.          0.          1.          1.          0.          1.          0.          0.          0.33333333  8.33333333]\n",
      " [ 0.          0.          0.          3.          0.          0.          0.          1.          0.          1.          7.        ]\n",
      " [ 0.          1.          0.          2.          0.          0.          0.          0.          1.          0.         20.        ]\n",
      " [ 0.33333333  0.          1.          0.          0.          0.          0.          0.          0.         -0.33333333  6.66666667]]\n",
      "Cost corrected\n",
      "vertex = [ 0.          0.          6.66666667  0.          0.         36.66666667  8.33333333  7.         20.          0.        ], x_B = [6, 7, 8, 9, 3]\n",
      "[[ 3.66666667  4.          0.          1.         -1.          0.          0.          0.          0.         -0.66666667 13.33333333]\n",
      " [ 4.33333333  5.          0.         -1.         -1.          1.          0.          0.          0.         -0.33333333 36.66666667]\n",
      " [ 0.66666667  1.          0.          1.          1.          0.          1.          0.          0.          0.33333333  8.33333333]\n",
      " [ 0.          0.          0.          3.          0.          0.          0.          1.          0.          1.          7.        ]\n",
      " [ 0.          1.          0.          2.          0.          0.          0.          0.          1.          0.         20.        ]\n",
      " [ 0.33333333  0.          1.          0.          0.          0.          0.          0.          0.         -0.33333333  6.66666667]]\n",
      "vertex = [ 0.          7.33333333  6.66666667  0.          0.          0.          1.          7.         12.66666667  0.        ], x_B = [2, 7, 8, 9, 3]\n",
      "[[  0.2          0.           0.           1.8         -0.2         -0.8          0.           0.           0.          -0.4        -16.        ]\n",
      " [  0.86666667   1.           0.          -0.2         -0.2          0.2          0.           0.           0.          -0.06666667   7.33333333]\n",
      " [ -0.2          0.           0.           1.2          1.2         -0.2          1.           0.           0.           0.4          1.        ]\n",
      " [  0.           0.           0.           3.           0.           0.           0.           1.           0.           1.           7.        ]\n",
      " [ -0.86666667   0.           0.           2.2          0.2         -0.2          0.           0.           1.           0.06666667  12.66666667]\n",
      " [  0.33333333   0.           1.           0.           0.           0.           0.           0.           0.          -0.33333333   6.66666667]]\n",
      "vertex = [ 0.          7.5         6.66666667  0.83333333  0.          0.          0.          4.5        10.83333333  0.        ], x_B = [2, 4, 8, 9, 3]\n",
      "[[  0.5          0.           0.           0.          -2.          -0.5         -1.5          0.           0.          -1.         -17.5       ]\n",
      " [  0.83333333   1.           0.           0.           0.           0.16666667   0.16666667   0.           0.           0.           7.5       ]\n",
      " [ -0.16666667   0.           0.           1.           1.          -0.16666667   0.83333333   0.           0.           0.33333333   0.83333333]\n",
      " [  0.5          0.           0.           0.          -3.           0.5         -2.5          1.           0.           0.           4.5       ]\n",
      " [ -0.5          0.           0.           0.          -2.           0.16666667  -1.83333333   0.           1.          -0.66666667  10.83333333]\n",
      " [  0.33333333   0.           1.           0.           0.           0.           0.           0.           0.          -0.33333333   6.66666667]]\n",
      "vertex = [ 9.          0.          3.66666667  2.33333333  0.          0.          0.          0.         15.33333333  0.        ], x_B = [1, 4, 8, 9, 3]\n",
      "[[  0.          -0.6          0.           0.          -2.          -0.6         -1.6          0.           0.          -1.         -22.        ]\n",
      " [  1.           1.2          0.           0.           0.           0.2          0.2          0.           0.           0.           9.        ]\n",
      " [  0.           0.2          0.           1.           1.          -0.13333333   0.86666667   0.           0.           0.33333333   2.33333333]\n",
      " [  0.          -0.6          0.           0.          -3.           0.4         -2.6          1.           0.           0.           0.        ]\n",
      " [  0.           0.6          0.           0.          -2.           0.26666667  -1.73333333   0.           1.          -0.66666667  15.33333333]\n",
      " [  0.          -0.4          1.           0.           0.          -0.06666667  -0.06666667   0.           0.          -0.33333333   3.66666667]]\n",
      "Perturbation\n"
     ]
    },
    {
     "data": {
      "text/latex": [
       "$\\displaystyle \\left[\\begin{array}{ccccccccccc}3 & 4 & -2 & \\delta + 1 & -1 & 0 & 0 & 0 & 0 & 0 & 0\\\\1.0 & 1.2 & 0 & 0 & 0 & 0.2 & 0.2 & 0 & 0 & 0 & 9.0\\\\0 & 0.2 & 0 & 1.0 & 1.0 & -0.133333333333333 & 0.866666666666667 & 0 & 0 & 0.333333333333333 & 2.33333333333333\\\\0 & -0.6 & 0 & 0 & -3.0 & 0.4 & -2.6 & 1.0 & 0 & 0 & 4.44089209850063 \\cdot 10^{-15}\\\\0 & 0.6 & 0 & 0 & -2.0 & 0.266666666666667 & -1.73333333333333 & 0 & 1.0 & -0.666666666666667 & 15.3333333333333\\\\0 & -0.4 & 1.0 & 0 & 0 & -0.0666666666666667 & -0.0666666666666667 & 0 & 0 & -0.333333333333333 & 3.66666666666667\\end{array}\\right]$"
      ],
      "text/plain": [
       "Matrix([\n",
       "[  3,    4,  -2, \\delta + 1,   -1,                   0,                   0,   0,   0,                  0,                    0],\n",
       "[1.0,  1.2,   0,          0,    0,                 0.2,                 0.2,   0,   0,                  0,                  9.0],\n",
       "[  0,  0.2,   0,        1.0,  1.0,  -0.133333333333333,   0.866666666666667,   0,   0,  0.333333333333333,     2.33333333333333],\n",
       "[  0, -0.6,   0,          0, -3.0,                 0.4,                -2.6, 1.0,   0,                  0, 4.44089209850063e-15],\n",
       "[  0,  0.6,   0,          0, -2.0,   0.266666666666667,   -1.73333333333333,   0, 1.0, -0.666666666666667,     15.3333333333333],\n",
       "[  0, -0.4, 1.0,          0,    0, -0.0666666666666667, -0.0666666666666667,   0,   0, -0.333333333333333,     3.66666666666667]])"
      ]
     },
     "metadata": {},
     "output_type": "display_data"
    },
    {
     "name": "stdout",
     "output_type": "stream",
     "text": [
      "Cost corrected\n"
     ]
    },
    {
     "data": {
      "text/latex": [
       "$\\displaystyle \\left[\\begin{array}{ccccccccccc}0 & - \\frac{\\delta}{5} - \\frac{3}{5} & 0 & 0 & - \\delta - 2 & \\frac{2 \\delta}{15} - \\frac{3}{5} & - \\frac{13 \\delta}{15} - \\frac{8}{5} & 0 & 0 & - \\frac{\\delta}{3} - 1 & - \\frac{7 \\delta}{3} - 22\\\\1 & \\frac{6}{5} & 0 & 0 & 0 & \\frac{1}{5} & \\frac{1}{5} & 0 & 0 & 0 & 9\\\\0 & \\frac{1}{5} & 0 & 1 & 1 & - \\frac{2}{15} & \\frac{13}{15} & 0 & 0 & \\frac{1}{3} & \\frac{7}{3}\\\\0 & - \\frac{3}{5} & 0 & 0 & -3 & \\frac{2}{5} & - \\frac{13}{5} & 1 & 0 & 0 & \\frac{444089209850063}{100000000000000000000000000000}\\\\0 & \\frac{3}{5} & 0 & 0 & -2 & \\frac{4}{15} & - \\frac{26}{15} & 0 & 1 & - \\frac{2}{3} & \\frac{46}{3}\\\\0 & - \\frac{2}{5} & 1 & 0 & 0 & - \\frac{1}{15} & - \\frac{1}{15} & 0 & 0 & - \\frac{1}{3} & \\frac{11}{3}\\end{array}\\right]$"
      ],
      "text/plain": [
       "Matrix([\n",
       "[0, -\\delta/5 - 3/5, 0, 0, -\\delta - 2, 2*\\delta/15 - 3/5, -13*\\delta/15 - 8/5, 0, 0, -\\delta/3 - 1,                               -7*\\delta/3 - 22],\n",
       "[1,             6/5, 0, 0,           0,               1/5,                 1/5, 0, 0,             0,                                              9],\n",
       "[0,             1/5, 0, 1,           1,             -2/15,               13/15, 0, 0,           1/3,                                            7/3],\n",
       "[0,            -3/5, 0, 0,          -3,               2/5,               -13/5, 1, 0,             0, 444089209850063/100000000000000000000000000000],\n",
       "[0,             3/5, 0, 0,          -2,              4/15,              -26/15, 0, 1,          -2/3,                                           46/3],\n",
       "[0,            -2/5, 1, 0,           0,             -1/15,               -1/15, 0, 0,          -1/3,                                           11/3]])"
      ]
     },
     "execution_count": 25,
     "metadata": {},
     "output_type": "execute_result"
    }
   ],
   "source": [
    "tableau = build_tableau(A, b, c_artificial)\n",
    "basic_var = [5, 6, 7, 8, 10]\n",
    "artificial_val = [10]\n",
    "print(\"Simplex process\")\n",
    "opt_tableau = two_phases(tableau, c(0), basic_var, artificial_val)\n",
    "opt_tableau = sp.Matrix(opt_tableau.tolist())\n",
    "print(\"Perturbation\")\n",
    "opt_tableau[0, :-1] = sp.Matrix(c(delta)).T\n",
    "opt_tableau[0, -1] = 0\n",
    "display(opt_tableau)\n",
    "correct_symbolic_cost(opt_tableau, basic_var)\n",
    "sp.nsimplify(opt_tableau, rational=True)"
   ]
  },
  {
   "cell_type": "code",
   "execution_count": 26,
   "metadata": {},
   "outputs": [
    {
     "name": "stdout",
     "output_type": "stream",
     "text": [
      "vertex = [ 0.  0.  0.  0.  0. -3. -4.  2. -1.  1.], x_B = [6, 7, 8, 9, 10]\n",
      "[[-30. -15. -27. -20.  20.  -0.  -0.  -0.  -0.  -0.   0.]\n",
      " [ -4.  -1.  -1.  -0.   1.   1.   0.   0.   0.   0.  -3.]\n",
      " [ -5.  -1.   0.  -1.  -0.   0.   1.   0.   0.   0.  -4.]\n",
      " [  1.  -1.  -3.  -0.   3.   0.   0.   1.   0.   0.   2.]\n",
      " [  1.  -1.  -3.  -2.  -0.   0.   0.   0.   1.   0.  -1.]\n",
      " [  1.  -1.   0.  -0.  -0.   0.   0.   0.   0.   1.   1.]]\n",
      "vertex = [ 0.  0.  0.  0. -3.  0. -4. 11. -1.  1.], x_B = [5, 7, 8, 9, 10]\n",
      "[[ 50.   5.  -7. -20.   0. -20.  -0.  -0.  -0.  -0.  60.]\n",
      " [ -4.  -1.  -1.  -0.   1.   1.   0.   0.   0.   0.  -3.]\n",
      " [ -5.  -1.   0.  -1.  -0.   0.   1.   0.   0.   0.  -4.]\n",
      " [ 13.   2.   0.   0.   0.  -3.   0.   1.   0.   0.  11.]\n",
      " [  1.  -1.  -3.  -2.  -0.   0.   0.   0.   1.   0.  -1.]\n",
      " [  1.  -1.   0.  -0.  -0.   0.   0.   0.   0.   1.   1.]]\n",
      "vertex = [-1.  0.  0.  0. -7.  0. -9. 24.  0.  2.], x_B = [5, 7, 8, 1, 10]\n",
      "[[  0.  55. 143.  80.   0. -20.  -0.  -0. -50.  -0. 110.]\n",
      " [  0.  -5. -13.  -8.   1.   1.   0.   0.   4.   0.  -7.]\n",
      " [  0.  -6. -15. -11.  -0.   0.   1.   0.   5.   0.  -9.]\n",
      " [  0.  15.  39.  26.   0.  -3.   0.   1. -13.   0.  24.]\n",
      " [  1.  -1.  -3.  -2.  -0.   0.   0.   0.   1.   0.  -1.]\n",
      " [  0.   0.   3.   2.   0.   0.   0.   0.  -1.   1.   2.]]\n",
      "vertex = [0.84615385 0.         0.61538462 0.         1.         0.         0.23076923 0.         0.         0.15384615], x_B = [5, 7, 3, 1, 10]\n",
      "[[  0.           0.           0.         -15.33333333   0.          -9.          -0.          -3.66666667  -2.33333333  -0.          22.        ]\n",
      " [  0.           0.           0.           0.66666667   1.           0.           0.           0.33333333  -0.33333333   0.           1.        ]\n",
      " [  0.          -0.23076923   0.          -1.           0.          -1.15384615   1.           0.38461538   0.           0.           0.23076923]\n",
      " [  0.           0.38461538   1.           0.66666667   0.          -0.07692308   0.           0.02564103  -0.33333333   0.           0.61538462]\n",
      " [  1.           0.15384615   0.           0.           0.          -0.23076923   0.           0.07692308   0.           0.           0.84615385]\n",
      " [  0.          -1.15384615   0.           0.           0.           0.23076923   0.          -0.07692308   0.           1.           0.15384615]]\n",
      "vertex = [0.84615385 0.         0.61538462 0.         1.         0.         0.23076923 0.         0.         0.15384615], x_B = [5, 7, 3, 1, 10]\n",
      "[[  0.           0.           0.         -15.33333333   0.          -9.          -0.          -3.66666667  -2.33333333  -0.          22.        ]\n",
      " [  0.           0.           0.           0.66666667   1.           0.           0.           0.33333333  -0.33333333   0.           1.        ]\n",
      " [  0.          -0.23076923   0.          -1.           0.          -1.15384615   1.           0.38461538   0.           0.           0.23076923]\n",
      " [  0.           0.38461538   1.           0.66666667   0.          -0.07692308   0.           0.02564103  -0.33333333   0.           0.61538462]\n",
      " [  1.           0.15384615   0.           0.           0.          -0.23076923   0.           0.07692308   0.           0.           0.84615385]\n",
      " [  0.          -1.15384615   0.           0.           0.           0.23076923   0.          -0.07692308   0.           1.           0.15384615]]\n"
     ]
    }
   ],
   "source": [
    "# Dual\n",
    "A_T = np.array([[-4., -1, -1., -0., 1., 1, 0, 0, 0, 0],\n",
    "                [-5., -1, -0, -1., -0., 0, 1, 0, 0, 0],\n",
    "                [1., -1., -3., -0., 3., 0, 0, 1, 0, 0],\n",
    "                [1., -1., -3, -2., -0., 0, 0, 0, 1, 0],\n",
    "                [1., -1., -0, -0., -0., 0, 0, 0, 0, 1]])\n",
    "\n",
    "b = -np.array([30, 15, 27, 20, -20., 0, 0, 0, 0, 0])\n",
    "\n",
    "c = np.array([-3, -4, 2, -1, 1.])\n",
    "\n",
    "basic_var = [5, 6, 7, 8, 9]\n",
    "# tableau = dual_simplex(tableau, basic_var)\n",
    "tableau = build_tableau(A_T, c, b)\n",
    "# simplex o dual_simplex = dual_simplex o simplex???\n",
    "tableau = simplex(tableau, basic_var);\n",
    "tableau = dual_simplex(tableau, basic_var)"
   ]
  },
  {
   "cell_type": "markdown",
   "metadata": {},
   "source": [
    "#### Exercise 5.8.7. Use Theorem 5.6.1 to determine whether the following models have a unique optimal solution or multiple optimal solutions, and whether these solutions are degenerate or nondegenerate. (Hint: solve the dual models.)\n",
    "\n",
    "#### (a) "
   ]
  },
  {
   "cell_type": "code",
   "execution_count": 52,
   "metadata": {},
   "outputs": [
    {
     "name": "stdout",
     "output_type": "stream",
     "text": [
      "x_B = [6, 4, 5]\n",
      "[[ 0.   0.   0.   0.   0.  -1.   0. ]\n",
      " [-0.5  1.  -1.   0.   0.   1.   4. ]\n",
      " [-2.   1.   0.   1.   0.   0.   5. ]\n",
      " [ 1.   1.   0.   0.   1.   0.   8. ]]\n",
      "Cost corrected\n",
      "x_B = [6, 4, 5]\n",
      "[[-0.5  1.  -1.   0.   0.   0.   4. ]\n",
      " [-0.5  1.  -1.   0.   0.   1.   4. ]\n",
      " [-2.   1.   0.   1.   0.   0.   5. ]\n",
      " [ 1.   1.   0.   0.   1.   0.   8. ]]\n",
      "Start phase One\n",
      "x_B = [2, 4, 5]\n",
      "[[ 0.   0.   0.   0.   0.  -1.   0. ]\n",
      " [-0.5  1.  -1.   0.   0.   1.   4. ]\n",
      " [-1.5  0.   1.   1.   0.  -1.   1. ]\n",
      " [ 1.5  0.   1.   0.   1.  -1.   4. ]]\n",
      "Delete artificial variables and create a new tableau [5]\n",
      "Start phase two, put original cost\n",
      "x_B = [2, 4, 5]\n",
      "[[ 1.   1.   0.   0.   0.   0. ]\n",
      " [-0.5  1.  -1.   0.   0.   4. ]\n",
      " [-1.5  0.   1.   1.   0.   1. ]\n",
      " [ 1.5  0.   1.   0.   1.   4. ]]\n",
      "Cost corrected\n",
      "vertex = [0. 4. 0. 1. 4.], x_B = [2, 4, 5]\n",
      "[[ 1.5  0.   1.   0.   0.  -4. ]\n",
      " [-0.5  1.  -1.   0.   0.   4. ]\n",
      " [-1.5  0.   1.   1.   0.   1. ]\n",
      " [ 1.5  0.   1.   0.   1.   4. ]]\n",
      "vertex = [2.66666667 5.33333333 0.         5.         0.        ], x_B = [2, 4, 1]\n",
      "[[ 0.          0.          0.          0.         -1.         -8.        ]\n",
      " [ 0.          1.         -0.66666667  0.          0.33333333  5.33333333]\n",
      " [ 0.          0.          2.          1.          1.          5.        ]\n",
      " [ 1.          0.          0.66666667  0.          0.66666667  2.66666667]]\n"
     ]
    }
   ],
   "source": [
    "A = [[-0.5, 1., -1, 0, 0, 1],\n",
    "     [-2.0, 1., 0, 1, 0, 0],\n",
    "     [1.0, 1.0, 0, 0, 1, 0]]\n",
    "\n",
    "b = [4, 5, 8.]\n",
    "\n",
    "c_artificial = [0, 0, 0, 0, 0, -1]\n",
    "c = [1, 1.]\n",
    "\n",
    "tableau = build_tableau(A, b, c_artificial)\n",
    "basic_indices = [5, 3, 4]\n",
    "artificial_indices = [5]\n",
    "tableau = two_phases(tableau, c, basic_indices, artificial_indices)"
   ]
  },
  {
   "cell_type": "markdown",
   "metadata": {},
   "source": [
    "Dado que tiene un costo no básico 0 el modelo tiene múltiples soluciones  tal y como se vé en el gráfico corresponde al segmento de recta formado por los puntos $A$ y $B$. Además son no degeneradas.\n"
   ]
  },
  {
   "cell_type": "markdown",
   "metadata": {},
   "source": [
    "![image.png](data:image/png;base64,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)"
   ]
  },
  {
   "cell_type": "code",
   "execution_count": 53,
   "metadata": {},
   "outputs": [
    {
     "name": "stdout",
     "output_type": "stream",
     "text": [
      "[[ 0.          0.          0.          0.         -1.         -8.        ]\n",
      " [ 0.          1.         -0.66666667  0.          0.33333333  5.33333333]\n",
      " [ 0.          0.          2.          1.          1.          5.        ]\n",
      " [ 1.          0.          0.66666667  0.          0.66666667  2.66666667]]\n",
      "[[ 0.          0.          0.          0.         -1.         -8.        ]\n",
      " [ 0.          1.          0.          0.33333333  0.66666667  7.        ]\n",
      " [ 0.          0.          1.          0.5         0.5         2.5       ]\n",
      " [ 1.          0.          0.         -0.33333333  0.33333333  1.        ]]\n"
     ]
    }
   ],
   "source": [
    "# cambiando de punto\n",
    "tableau2 = tableau.copy()\n",
    "print(tableau2)\n",
    "pivoting(tableau2, 2, 2)\n",
    "print(tableau2)\n"
   ]
  },
  {
   "cell_type": "markdown",
   "metadata": {},
   "source": [
    "Dual"
   ]
  },
  {
   "cell_type": "code",
   "execution_count": 73,
   "metadata": {},
   "outputs": [
    {
     "name": "stdout",
     "output_type": "stream",
     "text": [
      "[[ 4.  -5.  -8.   0.   0.   0. ]\n",
      " [ 0.5 -2.   1.  -1.   0.   1. ]\n",
      " [-1.   1.   1.   0.  -1.   1. ]]\n",
      "All tableau corrected\n",
      "[[-4.   3.   0.   0.  -8.   8. ]\n",
      " [-1.   1.   1.   0.  -1.   1. ]\n",
      " [-1.5  3.   0.   1.  -1.   0. ]]\n",
      "vertex = [0. 0. 1. 0. 0.], x_B = [3, 4]\n",
      "[[-4.   3.   0.   0.  -8.   8. ]\n",
      " [-1.   1.   1.   0.  -1.   1. ]\n",
      " [-1.5  3.   0.   1.  -1.   0. ]]\n",
      "vertex = [0. 0. 1. 0. 0.], x_B = [3, 2]\n",
      "[[-2.5         0.          0.         -1.         -7.          8.        ]\n",
      " [-0.5         0.          1.         -0.33333333 -0.66666667  1.        ]\n",
      " [-0.5         1.          0.          0.33333333 -0.33333333  0.        ]]\n"
     ]
    }
   ],
   "source": [
    "A_dual = [[0.5, -2, 1, -1, 0],\n",
    "          [-1., 1., 1, 0, -1]]\n",
    "b_dual = [1, 1.]\n",
    "c_dual = [4, -5, -8, 0, 0]  # -c\n",
    "\n",
    "tableau = build_tableau(A_dual, b_dual, c_dual)\n",
    "print(tableau)\n",
    "basic_indices = [2, 3]\n",
    "correct_all_tableau(tableau, basic_indices)\n",
    "print(tableau)\n",
    "simplex(tableau, basic_indices);"
   ]
  },
  {
   "cell_type": "markdown",
   "metadata": {},
   "source": [
    "Única solución óptima degenerada.\n",
    "\n",
    "Estamos en el caso (c) del teorema 5.6.1"
   ]
  },
  {
   "cell_type": "markdown",
   "metadata": {},
   "source": [
    "#### (b)"
   ]
  },
  {
   "cell_type": "code",
   "execution_count": 76,
   "metadata": {},
   "outputs": [
    {
     "name": "stdout",
     "output_type": "stream",
     "text": [
      "vertex = [ 0.  0. 11.  3. 10.], x_B = [3, 4, 5]\n",
      "[[ 0.          1.          0.          0.          0.          0.        ]\n",
      " [ 1.          2.          1.          0.          0.         11.        ]\n",
      " [ 0.33333333  1.          0.          1.          0.          3.        ]\n",
      " [ 2.          1.          0.          0.          1.         10.        ]]\n",
      "vertex = [0. 3. 5. 0. 7.], x_B = [3, 2, 5]\n",
      "[[-0.33333333  0.          0.         -1.          0.         -3.        ]\n",
      " [ 0.33333333  0.          1.         -2.          0.          5.        ]\n",
      " [ 0.33333333  1.          0.          1.          0.          3.        ]\n",
      " [ 1.66666667  0.          0.         -1.          1.          7.        ]]\n"
     ]
    }
   ],
   "source": [
    "A = [[1.0, 2, 1, 0, 0],\n",
    "     [1/3, 1, 0, 1, 0],\n",
    "     [2.0, 1, 0, 0, 1]]\n",
    "\n",
    "b = [11, 3., 10]\n",
    "\n",
    "c = [0, 1., 0, 0, 0]\n",
    "basic_indices = [2, 3, 4]\n",
    "tableau = build_tableau(A, b, c)\n",
    "simplex(tableau, basic_indices);"
   ]
  },
  {
   "cell_type": "markdown",
   "metadata": {},
   "source": [
    "![image.png](data:image/png;base64,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)"
   ]
  },
  {
   "cell_type": "markdown",
   "metadata": {},
   "source": [
    "De la gráfica se observa que solo tiene una única solución no degenerada por lo que el modelo dual tendrá una única solución no degenerada."
   ]
  },
  {
   "cell_type": "code",
   "execution_count": 84,
   "metadata": {},
   "outputs": [
    {
     "name": "stdout",
     "output_type": "stream",
     "text": [
      "[[-11.          -3.         -10.           0.           0.           0.        ]\n",
      " [  1.           0.33333333   2.          -1.           0.           0.        ]\n",
      " [  2.           1.           1.           0.          -1.           1.        ]]\n",
      "All tableau corrected\n",
      "vertex = [0. 0. 1. 2. 0.], x_B = [3, 4]\n",
      "[[  9.           7.           0.           0.         -10.          10.        ]\n",
      " [  2.           1.           1.           0.          -1.           1.        ]\n",
      " [  3.           1.66666667   0.           1.          -2.           2.        ]]\n",
      "vertex = [0.5 0.  0.  0.5 0. ], x_B = [1, 4]\n",
      "[[ 0.          2.5        -4.5         0.         -5.5         5.5       ]\n",
      " [ 1.          0.5         0.5         0.         -0.5         0.5       ]\n",
      " [ 0.          0.16666667 -1.5         1.         -0.5         0.5       ]]\n",
      "vertex = [0.         1.         0.         0.33333333 0.        ], x_B = [2, 4]\n",
      "[[-5.          0.         -7.          0.         -3.          3.        ]\n",
      " [ 2.          1.          1.          0.         -1.          1.        ]\n",
      " [-0.33333333  0.         -1.66666667  1.         -0.33333333  0.33333333]]\n"
     ]
    }
   ],
   "source": [
    "A_dual = [[1, 1 / 3, 2, -1, 0],\n",
    "          [2.0, 1.0, 1, 0, -1]]\n",
    "\n",
    "b_dual = [0, 1]\n",
    "\n",
    "c_dual = [-11, -3, -10, 0, 0]\n",
    "basic_indices = [2, 3]\n",
    "tableau = build_tableau(A_dual, b_dual, c_dual)\n",
    "print(tableau)\n",
    "correct_all_tableau(tableau, basic_indices)\n",
    "simplex(tableau, basic_indices);\n"
   ]
  },
  {
   "cell_type": "markdown",
   "metadata": {},
   "source": [
    "En efecto, se obtuvo una única solución no degenerada."
   ]
  },
  {
   "cell_type": "markdown",
   "metadata": {},
   "source": [
    "#### (c)"
   ]
  },
  {
   "cell_type": "code",
   "execution_count": 85,
   "metadata": {},
   "outputs": [
    {
     "name": "stdout",
     "output_type": "stream",
     "text": [
      "vertex = [ 0.  0.  6.  3. 12.], x_B = [3, 4, 5]\n",
      "[[ 2.  2.  0.  0.  0.  0.]\n",
      " [ 1.  1.  1.  0.  0.  6.]\n",
      " [ 1.  0.  0.  1.  0.  3.]\n",
      " [ 3.  1.  0.  0.  1. 12.]]\n",
      "vertex = [3. 0. 3. 0. 3.], x_B = [3, 1, 5]\n",
      "[[ 0.  2.  0. -2.  0. -6.]\n",
      " [ 0.  1.  1. -1.  0.  3.]\n",
      " [ 1.  0.  0.  1.  0.  3.]\n",
      " [ 0.  1.  0. -3.  1.  3.]]\n",
      "vertex = [3. 3. 0. 0. 0.], x_B = [2, 1, 5]\n",
      "[[  0.   0.  -2.   0.   0. -12.]\n",
      " [  0.   1.   1.  -1.   0.   3.]\n",
      " [  1.   0.   0.   1.   0.   3.]\n",
      " [  0.   0.  -1.  -2.   1.   0.]]\n"
     ]
    }
   ],
   "source": [
    "A = [[1, 1, 1, 0, 0],\n",
    "     [1, 0, 0, 1, 0],\n",
    "     [3, 1, 0, 0, 1]]\n",
    "\n",
    "b = [6, 3., 12]\n",
    "\n",
    "c = [2, 2, 0, 0, 0]\n",
    "basic_indices = [2, 3, 4]\n",
    "tableau = build_tableau(A, b, c)\n",
    "simplex(tableau, basic_indices);"
   ]
  },
  {
   "cell_type": "markdown",
   "metadata": {},
   "source": [
    "![image.png](data:image/png;base64,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)"
   ]
  },
  {
   "cell_type": "markdown",
   "metadata": {},
   "source": [
    "Se observa de la tabla simplex y la gráfica que hay múltiples soluciones formadas por la recta A, B y el punto B es una solución degenerada."
   ]
  },
  {
   "cell_type": "code",
   "execution_count": 87,
   "metadata": {},
   "outputs": [
    {
     "name": "stdout",
     "output_type": "stream",
     "text": [
      "[[  0.   0.  -2.   0.   0. -12.]\n",
      " [  0.   1.   1.  -1.   0.   3.]\n",
      " [  1.   0.   0.   1.   0.   3.]\n",
      " [  0.   0.  -1.  -2.   1.   0.]]\n",
      "[[  0.   0.  -2.   0.   0. -12.]\n",
      " [  1.   1.   1.   0.   0.   6.]\n",
      " [  1.   0.   0.   1.   0.   3.]\n",
      " [  2.   0.  -1.   0.   1.   6.]]\n"
     ]
    }
   ],
   "source": [
    "# cambiando de punto\n",
    "tableau2 = tableau.copy()\n",
    "print(tableau2)\n",
    "pivoting(tableau2, 2, 3)\n",
    "print(tableau2)\n"
   ]
  },
  {
   "cell_type": "markdown",
   "metadata": {},
   "source": [
    "Luego de cambiar de vértice, este es no degenerado. "
   ]
  },
  {
   "cell_type": "code",
   "execution_count": 106,
   "metadata": {},
   "outputs": [
    {
     "name": "stdout",
     "output_type": "stream",
     "text": [
      "[[ -6.  -3. -12.   0.   0.   0.]\n",
      " [  1.   1.   3.  -1.   0.   2.]\n",
      " [  1.   0.   1.   0.  -1.   2.]]\n",
      "All tableau corrected\n",
      "vertex = [ 2.  0.  0.  0. -0.], x_B = [1, 5]\n",
      "[[ 0.  3.  6. -6.  0. 12.]\n",
      " [ 1.  1.  3. -1.  0.  2.]\n",
      " [-0.  1.  2. -1.  1. -0.]]\n",
      "vertex = [ 2.  0. -0.  0.  0.], x_B = [1, 3]\n",
      "[[ 0.   0.   0.  -3.  -3.  12. ]\n",
      " [ 1.  -0.5  0.   0.5 -1.5  2. ]\n",
      " [-0.   0.5  1.  -0.5  0.5 -0. ]]\n"
     ]
    }
   ],
   "source": [
    "A_dual = [[1, 1, 3, -1, 0],\n",
    "          [1, 0, 1, 0, -1]]\n",
    "b_dual = [2, 2]\n",
    "c_dual = [-6, -3, -12., 0, 0]  # -max = min\n",
    "basic_indices = [0, 4]\n",
    "tableau = build_tableau(A_dual, b_dual, c_dual)\n",
    "print(tableau)\n",
    "correct_all_tableau(tableau, basic_indices)\n",
    "simplex(tableau, basic_indices);\n"
   ]
  },
  {
   "cell_type": "code",
   "execution_count": 108,
   "metadata": {},
   "outputs": [
    {
     "name": "stdout",
     "output_type": "stream",
     "text": [
      "vertex = [ 0.  0.  0. -2. -2.], x_B = [4, 5]\n",
      "[[ -6.  -3. -12.   0.   0.   0.]\n",
      " [ -1.  -1.  -3.   1.   0.  -2.]\n",
      " [ -1.   0.  -1.   0.   1.  -2.]]\n",
      "vertex = [ 0.  2.  0.  0. -2.], x_B = [2, 5]\n",
      "[[-3.  0. -3. -3.  0.  6.]\n",
      " [ 1.  1.  3. -1. -0.  2.]\n",
      " [-1.  0. -1.  0.  1. -2.]]\n",
      "vertex = [2. 0. 0. 0. 0.], x_B = [2, 1]\n",
      "[[ 0.  0.  0. -3. -3. 12.]\n",
      " [ 0.  1.  2. -1.  1.  0.]\n",
      " [ 1. -0.  1. -0. -1.  2.]]\n"
     ]
    }
   ],
   "source": [
    "# dual algorithm\n",
    "A_dual = [[-1, -1, -3, 1, 0],\n",
    "          [-1, 0, -1, 0., 1]]\n",
    "b_dual = [-2, -2]\n",
    "c_dual = [-6, -3, -12., 0, 0]  # -max = min\n",
    "basic_indices = [3, 4]\n",
    "tableau = build_tableau(A_dual, b_dual, c_dual)\n",
    "dual_simplex(tableau, basic_indices);\n"
   ]
  },
  {
   "cell_type": "markdown",
   "metadata": {},
   "source": [
    "#### Exercise 5.8.10. Consider the following model:\n"
   ]
  },
  {
   "cell_type": "markdown",
   "metadata": {},
   "source": [
    "#### (a) Determine optimal primal and dual solutions. Draw and analyze the perturbation function for the objective coefficient of $x_4$"
   ]
  },
  {
   "cell_type": "code",
   "execution_count": 114,
   "metadata": {},
   "outputs": [
    {
     "name": "stdout",
     "output_type": "stream",
     "text": [
      "vertex = [   0.    0.    0.    0.  600.  300. 3375. 2250. 2250.], x_B = [5, 6, 7, 8, 9]\n",
      "[[ 620.  520.  720.  620.    0.    0.    0.    0.    0.    0.]\n",
      " [   2.    2.    0.    0.    1.    0.    0.    0.    0.  600.]\n",
      " [   0.    0.   24.   24.    0.    1.    0.    0.    0.  300.]\n",
      " [  30.   35.  120.  125.    0.    0.    1.    0.    0. 3375.]\n",
      " [ 135.    0.  135.    0.    0.    0.    0.    1.    0. 2250.]\n",
      " [  30.   30.   30.   30.    0.    0.    0.    0.    1. 2250.]]\n",
      "vertex = [   0.     0.    12.5    0.   600.     0.  1875.   562.5 1875. ], x_B = [5, 3, 7, 8, 9]\n",
      "[[  620.           520.             0.          -100.             0.           -30.             0.             0.             0.         -9000.        ]\n",
      " [    2.             2.             0.             0.             1.             0.             0.             0.             0.           600.        ]\n",
      " [    0.             0.             1.             1.             0.             0.04166667     0.             0.             0.            12.5       ]\n",
      " [   30.            35.             0.             5.             0.            -5.             1.             0.             0.          1875.        ]\n",
      " [  135.             0.             0.          -135.             0.            -5.625          0.             1.             0.           562.5       ]\n",
      " [   30.            30.             0.             0.             0.            -1.25           0.             0.             1.          1875.        ]]\n",
      "vertex = [   4.16666667    0.           12.5           0.          591.66666667    0.         1750.            0.         1750.        ], x_B = [5, 3, 7, 1, 9]\n",
      "[[     0.            520.              0.            520.              0.             -4.16666667      0.             -4.59259259      0.         -11583.33333333]\n",
      " [     0.              2.              0.              2.              1.              0.08333333      0.             -0.01481481      0.            591.66666667]\n",
      " [     0.              0.              1.              1.              0.              0.04166667      0.              0.              0.             12.5       ]\n",
      " [     0.             35.              0.             35.              0.             -3.75            1.             -0.22222222      0.           1750.        ]\n",
      " [     1.              0.              0.             -1.              0.             -0.04166667      0.              0.00740741      0.              4.16666667]\n",
      " [     0.             30.              0.             30.              0.              0.              0.             -0.22222222      1.           1750.        ]]\n",
      "vertex = [  4.16666667  50.          12.5          0.         491.66666667   0.           0.           0.         250.        ], x_B = [5, 3, 2, 1, 9]\n",
      "[[     0.              0.              0.              0.              0.             51.54761905    -14.85714286     -1.29100529      0.         -37583.33333333]\n",
      " [     0.              0.              0.              0.              1.              0.29761905     -0.05714286     -0.0021164       0.            491.66666667]\n",
      " [     0.              0.              1.              1.              0.              0.04166667      0.              0.              0.             12.5       ]\n",
      " [     0.              1.              0.              1.              0.             -0.10714286      0.02857143     -0.00634921      0.             50.        ]\n",
      " [     1.              0.              0.             -1.              0.             -0.04166667      0.              0.00740741      0.              4.16666667]\n",
      " [     0.              0.              0.              0.              0.              3.21428571     -0.85714286     -0.03174603      1.            250.        ]]\n",
      "vertex = [  7.40740741  58.33333333   9.25925926   0.         468.51851852  77.77777778   0.           0.           0.        ], x_B = [5, 3, 2, 1, 6]\n",
      "[[     0.              0.              0.              0.              0.              0.             -1.11111111     -0.781893      -16.03703704 -41592.59259259]\n",
      " [     0.              0.              0.              0.              1.              0.              0.02222222      0.00082305     -0.09259259    468.51851852]\n",
      " [     0.              0.              1.              1.              0.              0.              0.01111111      0.00041152     -0.01296296      9.25925926]\n",
      " [     0.              1.              0.              1.              0.              0.              0.             -0.00740741      0.03333333     58.33333333]\n",
      " [     1.              0.              0.             -1.              0.              0.             -0.01111111      0.00699588      0.01296296      7.40740741]\n",
      " [     0.              0.              0.              0.              0.              1.             -0.26666667     -0.00987654      0.31111111     77.77777778]]\n"
     ]
    }
   ],
   "source": [
    "A = [[2.0, 2.0, 0., 0., 1, 0, 0, 0, 0],\n",
    "     [0.0, 0.0, 24, 24, 0, 1, 0, 0, 0],\n",
    "     [30, 35, 120, 125, 0, 0, 1, 0, 0],\n",
    "     [135., 0, 135., 0, 0, 0, 0, 1, 0],\n",
    "     [30., 30., 30, 30, 0, 0, 0, 0, 1]]\n",
    "\n",
    "b = [600, 300, 3375, 2250, 2250]\n",
    "\n",
    "c = [620, 520, 720, 620, 0, 0, 0, 0, 0]\n",
    "basic_indices = [4, 5, 6, 7, 8]\n",
    "tableau = build_tableau(A, b, c)\n",
    "\n",
    "simplex(tableau, basic_indices);\n"
   ]
  },
  {
   "cell_type": "markdown",
   "metadata": {},
   "source": [
    "Tiene múltiples soluciones porque la columna 3 es 0, para obtener otro vértice se pivoteará con la fila 2 (minimum-test-ratio) "
   ]
  },
  {
   "cell_type": "code",
   "execution_count": 118,
   "metadata": {},
   "outputs": [
    {
     "name": "stdout",
     "output_type": "stream",
     "text": [
      "[[     0.              0.              0.              0.              0.              0.             -1.11111111     -0.781893      -16.03703704 -41592.59259259]\n",
      " [     0.              0.              0.              0.              1.              0.              0.02222222      0.00082305     -0.09259259    468.51851852]\n",
      " [     0.              0.              1.              1.              0.              0.              0.01111111      0.00041152     -0.01296296      9.25925926]\n",
      " [     0.              1.              0.              1.              0.              0.              0.             -0.00740741      0.03333333     58.33333333]\n",
      " [     1.              0.              0.             -1.              0.              0.             -0.01111111      0.00699588      0.01296296      7.40740741]\n",
      " [     0.              0.              0.              0.              0.              1.             -0.26666667     -0.00987654      0.31111111     77.77777778]]\n",
      "[[     0.              0.              0.              0.              0.              0.             -1.11111111     -0.781893      -16.03703704 -41592.59259259]\n",
      " [     0.              0.              0.              0.              1.              0.              0.02222222      0.00082305     -0.09259259    468.51851852]\n",
      " [     0.              0.              1.              1.              0.              0.              0.01111111      0.00041152     -0.01296296      9.25925926]\n",
      " [     0.              1.             -1.              0.              0.              0.             -0.01111111     -0.00781893      0.0462963      49.07407407]\n",
      " [     1.              0.              1.              0.              0.              0.              0.              0.00740741      0.             16.66666667]\n",
      " [     0.              0.              0.              0.              0.              1.             -0.26666667     -0.00987654      0.31111111     77.77777778]]\n"
     ]
    }
   ],
   "source": [
    "# cambiando de punto\n",
    "tableau2 = tableau.copy()\n",
    "print(tableau2)\n",
    "pivoting(tableau2, 2, 3)\n",
    "print(tableau2)\n"
   ]
  },
  {
   "cell_type": "markdown",
   "metadata": {},
   "source": [
    "## Práctica Dirigida 6\n"
   ]
  },
  {
   "cell_type": "markdown",
   "metadata": {},
   "source": [
    "#### 2. Sea la función $f : \\mathbb{R} \\rightarrow \\mathbb{R}$ definida como\n",
    "\n",
    "\\begin{align*}\n",
    "f(\\delta) :=\\max &(1 + \\delta)x_1 + x_2&\\\\\n",
    "\\text{s.t.}\\quad    2x_1 + &x_2 \\le 8\\\\\n",
    "                    3x_1 + &x_2 \\le 10\\\\\n",
    "                    &x_2 \\le 5\\\\\n",
    "                    x_1 \\ge 0, &x_2 \\ge 0\n",
    "\\end{align*}\n"
   ]
  },
  {
   "cell_type": "markdown",
   "metadata": {},
   "source": [
    "a) Determinar f en un intervalo conteniendo 0, apartir de la información de la tabla simplex optimal."
   ]
  },
  {
   "cell_type": "code",
   "execution_count": 27,
   "metadata": {},
   "outputs": [
    {
     "name": "stdout",
     "output_type": "stream",
     "text": [
      "vertex = [ 0.  0.  8. 10.  5.], x_B = [3, 4, 5]\n",
      "[[ 1.  1.  0.  0.  0.  0.]\n",
      " [ 2.  1.  1.  0.  0.  8.]\n",
      " [ 3.  1.  0.  1.  0. 10.]\n",
      " [ 0.  1.  0.  0.  1.  5.]]\n",
      "vertex = [3.33333333 0.         1.33333333 0.         5.        ], x_B = [3, 1, 5]\n",
      "[[ 0.          0.66666667  0.         -0.33333333  0.         -3.33333333]\n",
      " [ 0.          0.33333333  1.         -0.66666667  0.          1.33333333]\n",
      " [ 1.          0.33333333  0.          0.33333333  0.          3.33333333]\n",
      " [ 0.          1.          0.          0.          1.          5.        ]]\n",
      "vertex = [2. 4. 0. 0. 1.], x_B = [2, 1, 5]\n",
      "[[ 0.  0. -2.  1.  0. -6.]\n",
      " [ 0.  1.  3. -2.  0.  4.]\n",
      " [ 1.  0. -1.  1.  0.  2.]\n",
      " [ 0.  0. -3.  2.  1.  1.]]\n",
      "vertex = [1.5 5.  0.  0.5 0. ], x_B = [2, 1, 4]\n",
      "[[ 0.   0.  -0.5  0.  -0.5 -6.5]\n",
      " [ 0.   1.   0.   0.   1.   5. ]\n",
      " [ 1.   0.   0.5  0.  -0.5  1.5]\n",
      " [ 0.   0.  -1.5  1.   0.5  0.5]]\n"
     ]
    }
   ],
   "source": [
    "# Hallando la tabla óptima\n",
    "A = np.array([[2, 1., 1, 0, 0],\n",
    "              [3, 1., 0, 1, 0],\n",
    "              [0, 1., 0, 0, 1]])\n",
    "\n",
    "b = [8, 10., 5]\n",
    "\n",
    "c = np.array([1, 1.0, 0, 0, 0])\n",
    "\n",
    "basic_var = [2, 3, 4]\n",
    "\n",
    "tableau = build_tableau(A, b, c)\n",
    "\n",
    "simplex(tableau, basic_var);\n"
   ]
  },
  {
   "cell_type": "markdown",
   "metadata": {},
   "source": [
    "b) Determinar la tabla simplex optimal en el intervalo determinado en a)\n"
   ]
  },
  {
   "cell_type": "code",
   "execution_count": 28,
   "metadata": {},
   "outputs": [
    {
     "data": {
      "text/latex": [
       "$\\displaystyle \\left[\\begin{matrix}0 & 0 & - \\frac{\\delta}{2} - \\frac{1}{2} & 0 & \\frac{\\delta}{2} - \\frac{1}{2} & - \\frac{3 \\delta}{2} - \\frac{13}{2}\\\\0 & 1 & 0 & 0 & 1 & 5\\\\1 & 0 & \\frac{1}{2} & 0 & - \\frac{1}{2} & \\frac{3}{2}\\\\0 & 0 & - \\frac{3}{2} & 1 & \\frac{1}{2} & \\frac{1}{2}\\end{matrix}\\right]$"
      ],
      "text/plain": [
       "Matrix([\n",
       "[0, 0, -\\delta/2 - 1/2, 0, \\delta/2 - 1/2, -3*\\delta/2 - 13/2],\n",
       "[0, 1,               0, 0,              1,                  5],\n",
       "[1, 0,             1/2, 0,           -1/2,                3/2],\n",
       "[0, 0,            -3/2, 1,            1/2,                1/2]])"
      ]
     },
     "execution_count": 28,
     "metadata": {},
     "output_type": "execute_result"
    }
   ],
   "source": [
    "# PRIMERA FORMA: tabla optima con los nuevos pesos\n",
    "tableau = sp.Matrix([[1 + delta, 1, 0, 0., 0, 0],\n",
    "                    [0., 1., 0., 0., 1., 5.],\n",
    "                    [1., 0., 0.5, 0., -0.5, 1.5],\n",
    "                    [0., 0., -1.5, 1., 0.5, 0.5]])\n",
    "basic_var = [1, 0, 3]\n",
    "\n",
    "pivoting_symbolic(tableau, 2, 0)\n",
    "pivoting_symbolic(tableau, 1, 1)\n",
    "\n",
    "sp.nsimplify(tableau, rational=True)"
   ]
  },
  {
   "cell_type": "code",
   "execution_count": 29,
   "metadata": {},
   "outputs": [
    {
     "data": {
      "text/latex": [
       "$\\displaystyle \\left[\\begin{matrix}- \\frac{\\delta}{2} - \\frac{1}{2} & \\frac{\\delta}{2} - \\frac{1}{2}\\end{matrix}\\right]$"
      ],
      "text/plain": [
       "Matrix([[-\\delta/2 - 1/2, \\delta/2 - 1/2]])"
      ]
     },
     "execution_count": 29,
     "metadata": {},
     "output_type": "execute_result"
    }
   ],
   "source": [
    "# SEGUNDA FORMA\n",
    "non_basic_var = [2, 4]\n",
    "# B_inv = np.linalg.inv(A[:, basic_var])\n",
    "# N = A[:, non_basic_var]\n",
    "B_invxN = tableau[1:, non_basic_var]\n",
    "# costos perturbados\n",
    "c = sp.Matrix([1 + delta, 1, 0, 0., 0])\n",
    "c_BI = c.row(basic_var)\n",
    "c_NI = c.row(non_basic_var)\n",
    "\n",
    "range_delta = sp.nsimplify(c_NI.T - c_BI.T @ B_invxN)\n",
    "range_delta"
   ]
  },
  {
   "cell_type": "markdown",
   "metadata": {},
   "source": [
    "c) Gráficamente hallar los vértices de la restricción, para luego hallar explicitamente el valor de f"
   ]
  },
  {
   "cell_type": "code",
   "execution_count": 30,
   "metadata": {},
   "outputs": [
    {
     "data": {
      "text/latex": [
       "$\\displaystyle \\left[\\begin{matrix}0\\\\5\\\\\\frac{3 \\delta}{2} + \\frac{13}{2}\\\\2 \\delta + 6\\\\\\frac{10 \\delta}{3} + \\frac{10}{3}\\end{matrix}\\right]$"
      ],
      "text/plain": [
       "Matrix([\n",
       "[                 0],\n",
       "[                 5],\n",
       "[ 3*\\delta/2 + 13/2],\n",
       "[      2*\\delta + 6],\n",
       "[10*\\delta/3 + 10/3]])"
      ]
     },
     "execution_count": 30,
     "metadata": {},
     "output_type": "execute_result"
    }
   ],
   "source": [
    "V = sp.Matrix([[0, 0], [0, 5], [3 / 2, 5], [2, 4], [10 / 3, 0]])\n",
    "cost = sp.Matrix([1 + delta, 1])\n",
    "sp.nsimplify(V@cost)\n"
   ]
  },
  {
   "cell_type": "markdown",
   "metadata": {},
   "source": [
    "## Práctica Calificada 5\n"
   ]
  },
  {
   "cell_type": "markdown",
   "metadata": {},
   "source": [
    "#### Pregunta 2\n",
    "\n",
    "\\begin{align*}\n",
    "f(\\delta):= \\min \\quad       &x_1 +(2 + \\delta)x_2 - 2x_3\\\\\n",
    "            \\text{s.t.}\\quad   &x_1 + x_2 + x_3 \\le 2\\\\\n",
    "                        &2x_1 + x_2 + 3x_3 \\le 4\\\\\n",
    "                        &x_1 + 2x_2 - x_3 \\le 2\\\\\n",
    "                        &x_1\\ge 0, x_2\\ge 0, x_3\\ge 0\n",
    "\\end{align*}"
   ]
  },
  {
   "cell_type": "code",
   "execution_count": 31,
   "metadata": {},
   "outputs": [],
   "source": [
    "A = [[1, 1, 1., 1, 0, 0],\n",
    "     [2, 1, 3., 0, 1, 0],\n",
    "     [1, 2, -1, 0, 0, 1]]\n",
    "\n",
    "b = [2, 4, 2.]\n",
    "\n",
    "c = lambda delta: [1, 2 + delta, -2, 0, 0, 0]\n",
    " "
   ]
  },
  {
   "cell_type": "markdown",
   "metadata": {},
   "source": [
    "$\\mathbf v_1^T = (0, 1, 0)$"
   ]
  },
  {
   "cell_type": "code",
   "execution_count": 32,
   "metadata": {},
   "outputs": [
    {
     "name": "stdout",
     "output_type": "stream",
     "text": [
      "vertex = [0. 0. 0. 2. 4. 2.], x_B = [4, 5, 6]\n",
      "[[ 1.  2. -2.  0.  0.  0.  0.]\n",
      " [ 1.  1.  1.  1.  0.  0.  2.]\n",
      " [ 2.  1.  3.  0.  1.  0.  4.]\n",
      " [ 1.  2. -1.  0.  0.  1.  2.]]\n",
      "vertex = [0. 1. 0. 1. 3. 0.], x_B = [4, 5, 2]\n",
      "[[ 0.   0.  -1.   0.   0.  -1.  -2. ]\n",
      " [ 0.5  0.   1.5  1.   0.  -0.5  1. ]\n",
      " [ 1.5  0.   3.5  0.   1.  -0.5  3. ]\n",
      " [ 0.5  1.  -0.5  0.   0.   0.5  1. ]]\n"
     ]
    },
    {
     "data": {
      "text/latex": [
       "$\\displaystyle \\left[\\begin{matrix}1 & \\delta + 2 & -2 & 0 & 0 & 0 & 0\\\\0.5 & 0 & 1.5 & 1.0 & 0 & -0.5 & 1.0\\\\1.5 & 0 & 3.5 & 0 & 1.0 & -0.5 & 3.0\\\\0.5 & 1.0 & -0.5 & 0 & 0 & 0.5 & 1.0\\end{matrix}\\right]$"
      ],
      "text/plain": [
       "Matrix([\n",
       "[  1, \\delta + 2,   -2,   0,   0,    0,   0],\n",
       "[0.5,          0,  1.5, 1.0,   0, -0.5, 1.0],\n",
       "[1.5,          0,  3.5,   0, 1.0, -0.5, 3.0],\n",
       "[0.5,        1.0, -0.5,   0,   0,  0.5, 1.0]])"
      ]
     },
     "metadata": {},
     "output_type": "display_data"
    },
    {
     "name": "stdout",
     "output_type": "stream",
     "text": [
      "Cost corrected\n"
     ]
    },
    {
     "data": {
      "text/latex": [
       "$\\displaystyle \\left[\\begin{matrix}- \\frac{\\delta}{2} & 0 & \\frac{\\delta}{2} - 1 & 0 & 0 & - \\frac{\\delta}{2} - 1 & - \\delta - 2\\\\\\frac{1}{2} & 0 & \\frac{3}{2} & 1 & 0 & - \\frac{1}{2} & 1\\\\\\frac{3}{2} & 0 & \\frac{7}{2} & 0 & 1 & - \\frac{1}{2} & 3\\\\\\frac{1}{2} & 1 & - \\frac{1}{2} & 0 & 0 & \\frac{1}{2} & 1\\end{matrix}\\right]$"
      ],
      "text/plain": [
       "Matrix([\n",
       "[-\\delta/2, 0, \\delta/2 - 1, 0, 0, -\\delta/2 - 1, -\\delta - 2],\n",
       "[      1/2, 0,          3/2, 1, 0,          -1/2,           1],\n",
       "[      3/2, 0,          7/2, 0, 1,          -1/2,           3],\n",
       "[      1/2, 1,         -1/2, 0, 0,           1/2,           1]])"
      ]
     },
     "execution_count": 32,
     "metadata": {},
     "output_type": "execute_result"
    }
   ],
   "source": [
    "basic_var = [3, 4, 5]\n",
    "\n",
    "tableau = build_tableau(A, b, c(0))\n",
    "opt_tableau = simplex(tableau, basic_var)\n",
    "opt_tableau = sp.Matrix(opt_tableau.tolist())\n",
    "opt_tableau[0, :-1] = sp.Matrix(c(delta)).T\n",
    "opt_tableau[0, -1] = 0\n",
    "display(opt_tableau)\n",
    "\n",
    "correct_symbolic_cost(opt_tableau, basic_var)\n",
    "sp.nsimplify(opt_tableau, rational=True)"
   ]
  },
  {
   "cell_type": "markdown",
   "metadata": {},
   "source": [
    "$\\mathbf v_2^T = (2, 0, 0)$"
   ]
  },
  {
   "cell_type": "code",
   "execution_count": 33,
   "metadata": {},
   "outputs": [
    {
     "name": "stdout",
     "output_type": "stream",
     "text": [
      "vertex = [0. 0. 0. 2. 4. 2.], x_B = [4, 5, 6]\n",
      "[[ 1.   1.5 -2.   0.   0.   0.   0. ]\n",
      " [ 1.   1.   1.   1.   0.   0.   2. ]\n",
      " [ 2.   1.   3.   0.   1.   0.   4. ]\n",
      " [ 1.   2.  -1.   0.   0.   1.   2. ]]\n",
      "vertex = [0. 1. 0. 1. 3. 0.], x_B = [4, 5, 2]\n",
      "[[ 0.25  0.   -1.25  0.    0.   -0.75 -1.5 ]\n",
      " [ 0.5   0.    1.5   1.    0.   -0.5   1.  ]\n",
      " [ 1.5   0.    3.5   0.    1.   -0.5   3.  ]\n",
      " [ 0.5   1.   -0.5   0.    0.    0.5   1.  ]]\n",
      "vertex = [2. 0. 0. 0. 0. 0.], x_B = [1, 5, 2]\n",
      "[[ 0.   0.  -2.  -0.5  0.  -0.5 -2. ]\n",
      " [ 1.   0.   3.   2.   0.  -1.   2. ]\n",
      " [ 0.   0.  -1.  -3.   1.   1.   0. ]\n",
      " [ 0.   1.  -2.  -1.   0.   1.   0. ]]\n"
     ]
    },
    {
     "data": {
      "text/latex": [
       "$\\displaystyle \\left[\\begin{matrix}1 & \\delta + 1.5 & -2 & 0 & 0 & 0 & 0\\\\1.0 & 0 & 3.0 & 2.0 & 0 & -1.0 & 2.0\\\\0 & 0 & -1.0 & -3.0 & 1.0 & 1.0 & 0\\\\0 & 1.0 & -2.0 & -1.0 & 0 & 1.0 & 0\\end{matrix}\\right]$"
      ],
      "text/plain": [
       "Matrix([\n",
       "[  1, \\delta + 1.5,   -2,    0,   0,    0,   0],\n",
       "[1.0,            0,  3.0,  2.0,   0, -1.0, 2.0],\n",
       "[  0,            0, -1.0, -3.0, 1.0,  1.0,   0],\n",
       "[  0,          1.0, -2.0, -1.0,   0,  1.0,   0]])"
      ]
     },
     "metadata": {},
     "output_type": "display_data"
    },
    {
     "name": "stdout",
     "output_type": "stream",
     "text": [
      "Cost corrected\n"
     ]
    },
    {
     "data": {
      "text/latex": [
       "$\\displaystyle \\left[\\begin{matrix}0 & 0 & 2 \\delta - 2 & \\delta - \\frac{1}{2} & 0 & - \\delta - \\frac{1}{2} & -2\\\\1 & 0 & 3 & 2 & 0 & -1 & 2\\\\0 & 0 & -1 & -3 & 1 & 1 & 0\\\\0 & 1 & -2 & -1 & 0 & 1 & 0\\end{matrix}\\right]$"
      ],
      "text/plain": [
       "Matrix([\n",
       "[0, 0, 2*\\delta - 2, \\delta - 1/2, 0, -\\delta - 1/2, -2],\n",
       "[1, 0,            3,            2, 0,            -1,  2],\n",
       "[0, 0,           -1,           -3, 1,             1,  0],\n",
       "[0, 1,           -2,           -1, 0,             1,  0]])"
      ]
     },
     "execution_count": 33,
     "metadata": {},
     "output_type": "execute_result"
    }
   ],
   "source": [
    "basic_var = [3, 4, 5]\n",
    "\n",
    "tableau = build_tableau(A, b, c(-1/2))\n",
    "opt_tableau = simplex(tableau, basic_var)\n",
    "opt_tableau = sp.Matrix(opt_tableau.tolist())\n",
    "opt_tableau[0, :-1] = sp.Matrix(c(-1/2 + delta)).T\n",
    "opt_tableau[0, -1] = 0\n",
    "display(opt_tableau)\n",
    "\n",
    "correct_symbolic_cost(opt_tableau, basic_var)\n",
    "sp.nsimplify(opt_tableau, rational=True)\n"
   ]
  },
  {
   "cell_type": "markdown",
   "metadata": {},
   "source": [
    "$\\mathbf v_2^T = (0, 4/3, 2/3)$"
   ]
  },
  {
   "cell_type": "code",
   "execution_count": 34,
   "metadata": {},
   "outputs": [
    {
     "name": "stdout",
     "output_type": "stream",
     "text": [
      "vertex = [0. 0. 0. 2. 4. 2.], x_B = [4, 5, 6]\n",
      "[[ 1.  5. -2.  0.  0.  0.  0.]\n",
      " [ 1.  1.  1.  1.  0.  0.  2.]\n",
      " [ 2.  1.  3.  0.  1.  0.  4.]\n",
      " [ 1.  2. -1.  0.  0.  1.  2.]]\n",
      "vertex = [0. 1. 0. 1. 3. 0.], x_B = [4, 5, 2]\n",
      "[[-1.5  0.   0.5  0.   0.  -2.5 -5. ]\n",
      " [ 0.5  0.   1.5  1.   0.  -0.5  1. ]\n",
      " [ 1.5  0.   3.5  0.   1.  -0.5  3. ]\n",
      " [ 0.5  1.  -0.5  0.   0.   0.5  1. ]]\n",
      "vertex = [0.         1.33333333 0.66666667 0.         0.66666667 0.        ], x_B = [3, 5, 2]\n",
      "[[-1.66666667  0.          0.         -0.33333333  0.         -2.33333333 -5.33333333]\n",
      " [ 0.33333333  0.          1.          0.66666667  0.         -0.33333333  0.66666667]\n",
      " [ 0.33333333  0.          0.         -2.33333333  1.          0.66666667  0.66666667]\n",
      " [ 0.66666667  1.          0.          0.33333333  0.          0.33333333  1.33333333]]\n"
     ]
    },
    {
     "data": {
      "text/latex": [
       "$\\displaystyle \\left[\\begin{matrix}1 & \\delta + 5 & -2 & 0 & 0 & 0 & 0\\\\0.333333333333333 & 0 & 1.0 & 0.666666666666667 & 0 & -0.333333333333333 & 0.666666666666667\\\\0.333333333333333 & 0 & 0 & -2.33333333333333 & 1.0 & 0.666666666666667 & 0.666666666666667\\\\0.666666666666667 & 1.0 & 0 & 0.333333333333333 & 0 & 0.333333333333333 & 1.33333333333333\\end{matrix}\\right]$"
      ],
      "text/plain": [
       "Matrix([\n",
       "[                1, \\delta + 5,  -2,                 0,   0,                  0,                 0],\n",
       "[0.333333333333333,          0, 1.0, 0.666666666666667,   0, -0.333333333333333, 0.666666666666667],\n",
       "[0.333333333333333,          0,   0, -2.33333333333333, 1.0,  0.666666666666667, 0.666666666666667],\n",
       "[0.666666666666667,        1.0,   0, 0.333333333333333,   0,  0.333333333333333,  1.33333333333333]])"
      ]
     },
     "metadata": {},
     "output_type": "display_data"
    },
    {
     "name": "stdout",
     "output_type": "stream",
     "text": [
      "Cost corrected\n"
     ]
    },
    {
     "data": {
      "text/latex": [
       "$\\displaystyle \\left[\\begin{matrix}- \\frac{2 \\delta}{3} - \\frac{5}{3} & 0 & 0 & - \\frac{\\delta}{3} - \\frac{1}{3} & 0 & - \\frac{\\delta}{3} - \\frac{7}{3} & - \\frac{4 \\delta}{3} - \\frac{16}{3}\\\\\\frac{1}{3} & 0 & 1 & \\frac{2}{3} & 0 & - \\frac{1}{3} & \\frac{2}{3}\\\\\\frac{1}{3} & 0 & 0 & - \\frac{7}{3} & 1 & \\frac{2}{3} & \\frac{2}{3}\\\\\\frac{2}{3} & 1 & 0 & \\frac{1}{3} & 0 & \\frac{1}{3} & \\frac{4}{3}\\end{matrix}\\right]$"
      ],
      "text/plain": [
       "Matrix([\n",
       "[-2*\\delta/3 - 5/3, 0, 0, -\\delta/3 - 1/3, 0, -\\delta/3 - 7/3, -4*\\delta/3 - 16/3],\n",
       "[              1/3, 0, 1,             2/3, 0,            -1/3,                2/3],\n",
       "[              1/3, 0, 0,            -7/3, 1,             2/3,                2/3],\n",
       "[              2/3, 1, 0,             1/3, 0,             1/3,                4/3]])"
      ]
     },
     "execution_count": 34,
     "metadata": {},
     "output_type": "execute_result"
    }
   ],
   "source": [
    "basic_var = [3, 4, 5]\n",
    "\n",
    "tableau = build_tableau(A, b, c(3))\n",
    "opt_tableau = simplex(tableau, basic_var)\n",
    "opt_tableau = sp.Matrix(opt_tableau.tolist())\n",
    "opt_tableau[0, :-1] = sp.Matrix(c(3 + delta)).T\n",
    "opt_tableau[0, -1] = 0\n",
    "display(opt_tableau)\n",
    "\n",
    "correct_symbolic_cost(opt_tableau, basic_var)\n",
    "sp.nsimplify(opt_tableau, rational=True)\n"
   ]
  },
  {
   "cell_type": "code",
   "execution_count": 35,
   "metadata": {},
   "outputs": [
    {
     "data": {
      "image/png": "[encoded data removed]",
      "text/plain": [
       "<Figure size 432x288 with 1 Axes>"
      ]
     },
     "metadata": {
      "needs_background": "light"
     },
     "output_type": "display_data"
    }
   ],
   "source": [
    "def z(delta):\n",
    "    if delta < 0:\n",
    "        return 2\n",
    "    elif 0 <= delta < 2:\n",
    "        return delta + 2\n",
    "    else:\n",
    "        return 4 / 3 * (delta + 1)\n",
    "\n",
    "\n",
    "interval_point = [0, 2]\n",
    "z_point = [z(d) for d in interval_point]\n",
    "\n",
    "interval = np.linspace(-1, 2.5)\n",
    "z_plot = [z(d) for d in interval]\n",
    "\n",
    "plt.title(\"$z^*(\\delta)$\")\n",
    "plt.xlabel(\"$\\delta$\")\n",
    "plt.ylabel(\"$z^*(\\delta)$\")\n",
    "plt.plot(interval, z_plot)\n",
    "plt.plot(interval_point, z_point, 'o', c='r')\n",
    "plt.show()\n"
   ]
  },
  {
   "cell_type": "markdown",
   "metadata": {},
   "source": [
    "## Práctica Dirigida 7"
   ]
  },
  {
   "cell_type": "markdown",
   "metadata": {},
   "source": [
    "#### 1. Hallar el gráfico de la función $f:\\mathbb{R} \\rightarrow \\mathbb{R}$ definida como\n",
    "\n",
    "\\begin{align*}\n",
    "f(\\delta) := \\max \\quad&x_1 + (1 + \\delta)x_2 - 3 x_3\\\\\n",
    "\\quad{s.t.}\\quad    &x_1 + x_2 + x_3 \\le 2\\\\\n",
    "                    &2x_1 + x_2 + 3x_3 \\le 4\\\\\n",
    "                    &x_1 + 2x_2 - x_3 \\le 2\\\\\n",
    "                    &x_1 \\ge 0, x_2 \\ge 0, x_3 \\ge 0.\n",
    "\\end{align*}"
   ]
  },
  {
   "cell_type": "code",
   "execution_count": 36,
   "metadata": {},
   "outputs": [],
   "source": [
    "A = [[1, 1, 1., 1, 0, 0],\n",
    "     [2, 1, 3., 0, 1, 0],\n",
    "     [1, 2, -1, 0, 0, 1]]\n",
    "\n",
    "b = [2, 4, 2.]\n",
    "\n",
    "c = lambda delta: [1, 1 + delta, -3, 0, 0, 0]\n"
   ]
  },
  {
   "cell_type": "markdown",
   "metadata": {},
   "source": [
    "Caso 1: $\\delta = 0$"
   ]
  },
  {
   "cell_type": "code",
   "execution_count": 37,
   "metadata": {},
   "outputs": [
    {
     "name": "stdout",
     "output_type": "stream",
     "text": [
      "vertex = [0. 0. 0. 2. 4. 2.], x_B = [4, 5, 6]\n",
      "[[ 1.  1. -3.  0.  0.  0.  0.]\n",
      " [ 1.  1.  1.  1.  0.  0.  2.]\n",
      " [ 2.  1.  3.  0.  1.  0.  4.]\n",
      " [ 1.  2. -1.  0.  0.  1.  2.]]\n",
      "vertex = [2. 0. 0. 0. 0. 0.], x_B = [1, 5, 6]\n",
      "[[ 0.  0. -4. -1.  0.  0. -2.]\n",
      " [ 1.  1.  1.  1.  0.  0.  2.]\n",
      " [ 0. -1.  1. -2.  1.  0.  0.]\n",
      " [ 0.  1. -2. -1.  0.  1.  0.]]\n"
     ]
    }
   ],
   "source": [
    "basic_var = [3, 4, 5]\n",
    "\n",
    "tableau = build_tableau(A, b, c(0))\n",
    "\n",
    "simplex(tableau, basic_var);"
   ]
  },
  {
   "cell_type": "markdown",
   "metadata": {},
   "source": [
    "**Observación:** Dado que hay un costo no básico $(\\alpha=1)$ igual a $0$ (Teorema 3.7.2), el modelo tiene soluciones óptimas múltiples. Aplicando el test de mínimo ratio con la columna $\\alpha$ se obtiene que $\\delta=0$ (solución básica degenerada), por lo que no podemos saltar a otro vértice. Utilizamos otro método para saltar de vértice: Si $(2, 0, 0, 0, 0)$ es una solucion degenerada, con variables básicas $x_1, x_5, x_6$, donde $x_5=x_6=0$, puedo considerar otra variable con valor $0$, $x_2, x_3, x_4$, siempre y cuando $B^{-1}$ exista (invertible). Entonces pivoteamos la tabla óptima anterior para obtener dos tablas con variables básicas $x_1, x_2, x_6$ y $x_1, x_5, x_2$:"
   ]
  },
  {
   "cell_type": "code",
   "execution_count": 38,
   "metadata": {},
   "outputs": [
    {
     "name": "stdout",
     "output_type": "stream",
     "text": [
      "[0 1 5]\n",
      "[[ 0.  0. -4. -1.  0.  0. -2.]\n",
      " [ 1.  0.  2. -1.  1.  0.  2.]\n",
      " [-0.  1. -1.  2. -1. -0. -0.]\n",
      " [ 0.  0. -1. -3.  1.  1.  0.]]\n"
     ]
    }
   ],
   "source": [
    "# para [x0, x1, x5] empezamos con indice 0 \n",
    "tableau_1 = np.copy(tableau)\n",
    "basic_var_1 = np.copy(basic_var)\n",
    "alpha = 1  # donde el costo es 0 puedo saltar a otros vértices\n",
    "x_degenerate = 1\n",
    "pivoting(tableau_1, x_degenerate + 1, alpha)\n",
    "basic_var_1[x_degenerate] = alpha\n",
    "print(f\"{basic_var_1}\\n{tableau_1}\")\n"
   ]
  },
  {
   "cell_type": "code",
   "execution_count": 39,
   "metadata": {},
   "outputs": [
    {
     "name": "stdout",
     "output_type": "stream",
     "text": [
      "[0 4 1]\n",
      "[[ 0.  0. -4. -1.  0.  0. -2.]\n",
      " [ 1.  0.  3.  2.  0. -1.  2.]\n",
      " [ 0.  0. -1. -3.  1.  1.  0.]\n",
      " [ 0.  1. -2. -1.  0.  1.  0.]]\n"
     ]
    }
   ],
   "source": [
    "# para [x0, x4, x1] empezamos con indice 0 \n",
    "tableau_2 = np.copy(tableau)\n",
    "basic_var_2 = np.copy(basic_var)\n",
    "alpha = 1  # donde el costo es 0 puedo saltar a otros vértices\n",
    "x_degenerate = 2\n",
    "pivoting(tableau_2, x_degenerate + 1, alpha)\n",
    "basic_var_2[x_degenerate] = alpha\n",
    "print(f\"{basic_var_2}\\n{tableau_2}\")\n"
   ]
  },
  {
   "cell_type": "markdown",
   "metadata": {},
   "source": [
    "Luego de tener la tabla óptima en ambos casos procedemos a añadir el coeficiente $\\delta$ para perturbarlo y corregirlo para hallar los intervalos de tolerancia.\n",
    "\n",
    "Caso 2: $\\delta = 1$"
   ]
  },
  {
   "cell_type": "code",
   "execution_count": 40,
   "metadata": {},
   "outputs": [
    {
     "name": "stdout",
     "output_type": "stream",
     "text": [
      "vertex = [0. 0. 0. 2. 4. 2.], x_B = [4, 5, 6]\n",
      "[[ 1.  2. -3.  0.  0.  0.  0.]\n",
      " [ 1.  1.  1.  1.  0.  0.  2.]\n",
      " [ 2.  1.  3.  0.  1.  0.  4.]\n",
      " [ 1.  2. -1.  0.  0.  1.  2.]]\n",
      "vertex = [0. 1. 0. 1. 3. 0.], x_B = [4, 5, 2]\n",
      "[[ 0.   0.  -2.   0.   0.  -1.  -2. ]\n",
      " [ 0.5  0.   1.5  1.   0.  -0.5  1. ]\n",
      " [ 1.5  0.   3.5  0.   1.  -0.5  3. ]\n",
      " [ 0.5  1.  -0.5  0.   0.   0.5  1. ]]\n"
     ]
    }
   ],
   "source": [
    "basic_var = [3, 4, 5]\n",
    "\n",
    "tableau = build_tableau(A, b, c(1))\n",
    "\n",
    "simplex(tableau, basic_var);"
   ]
  },
  {
   "cell_type": "markdown",
   "metadata": {},
   "source": [
    "En este caso obtuve otro vértice. Si hubiera salido el vértice anterior utilizo el costo no básico y el test de mínimo ratio para moverme de vértice "
   ]
  },
  {
   "cell_type": "markdown",
   "metadata": {},
   "source": [
    "#### 2. Hallar el gráfico de la función $f:\\mathbb{R} \\rightarrow \\mathbb{R}$ definida como\n",
    "\n",
    "\\begin{align*}\n",
    "f(\\delta) := \\max \\quad&x_1 + x_2 + \\delta x_3\\\\\n",
    "\\quad{s.t.}\\quad    &x_1 + x_2 + x_3 \\le 1\\\\\n",
    "                    &x_1 \\ge 0, x_2 \\ge 0, x_3 \\ge 0.\n",
    "\\end{align*}"
   ]
  },
  {
   "cell_type": "code",
   "execution_count": 41,
   "metadata": {},
   "outputs": [],
   "source": [
    "A = [[1., 1, 1, 1]]\n",
    "\n",
    "b = [1.]\n",
    "\n",
    "c = lambda delta: [1, 1., 0 + delta, 0]\n"
   ]
  },
  {
   "cell_type": "markdown",
   "metadata": {},
   "source": [
    "$\\mathbf v = (1, 0, 0)$"
   ]
  },
  {
   "cell_type": "code",
   "execution_count": 42,
   "metadata": {},
   "outputs": [
    {
     "name": "stdout",
     "output_type": "stream",
     "text": [
      "Simplex process\n",
      "vertex = [0. 0. 0. 1.], x_B = [4]\n",
      "[[1. 1. 0. 0. 0.]\n",
      " [1. 1. 1. 1. 1.]]\n",
      "vertex = [1. 0. 0. 0.], x_B = [1]\n",
      "[[ 0.  0. -1. -1. -1.]\n",
      " [ 1.  1.  1.  1.  1.]]\n",
      "Perturbation\n"
     ]
    },
    {
     "data": {
      "text/latex": [
       "$\\displaystyle \\left[\\begin{matrix}1 & 1.0 & \\delta & 0 & 0\\\\1.0 & 1.0 & 1.0 & 1.0 & 1.0\\end{matrix}\\right]$"
      ],
      "text/plain": [
       "Matrix([\n",
       "[  1, 1.0, \\delta,   0,   0],\n",
       "[1.0, 1.0,    1.0, 1.0, 1.0]])"
      ]
     },
     "metadata": {},
     "output_type": "display_data"
    },
    {
     "name": "stdout",
     "output_type": "stream",
     "text": [
      "Cost corrected\n"
     ]
    },
    {
     "data": {
      "text/latex": [
       "$\\displaystyle \\left[\\begin{matrix}0 & 0 & \\delta - 1 & -1 & -1\\\\1 & 1 & 1 & 1 & 1\\end{matrix}\\right]$"
      ],
      "text/plain": [
       "Matrix([\n",
       "[0, 0, \\delta - 1, -1, -1],\n",
       "[1, 1,          1,  1,  1]])"
      ]
     },
     "metadata": {},
     "output_type": "display_data"
    }
   ],
   "source": [
    "basic_var = [3]\n",
    "\n",
    "tableau = build_tableau(A, b, c(0))\n",
    "\n",
    "print(\"Simplex process\")\n",
    "opt_tableau = simplex(tableau, basic_var)\n",
    "opt_tableau = sp.Matrix(opt_tableau.tolist())\n",
    "opt_tableau[0, :-1] = sp.Matrix(c(delta)).T\n",
    "opt_tableau[0, -1] = 0\n",
    "print(\"Perturbation\")\n",
    "display(opt_tableau)\n",
    "\n",
    "correct_symbolic_cost(opt_tableau, basic_var)\n",
    "display(sp.nsimplify(opt_tableau, rational=True))"
   ]
  },
  {
   "cell_type": "markdown",
   "metadata": {},
   "source": [
    "$\\mathbf v = (0, 0, 1)$"
   ]
  },
  {
   "cell_type": "code",
   "execution_count": 43,
   "metadata": {},
   "outputs": [
    {
     "name": "stdout",
     "output_type": "stream",
     "text": [
      "Simplex process\n",
      "vertex = [0. 0. 0. 1.], x_B = [4]\n",
      "[[1. 1. 2. 0. 0.]\n",
      " [1. 1. 1. 1. 1.]]\n",
      "vertex = [0. 0. 1. 0.], x_B = [3]\n",
      "[[-1. -1.  0. -2. -2.]\n",
      " [ 1.  1.  1.  1.  1.]]\n",
      "Perturbation\n"
     ]
    },
    {
     "data": {
      "text/latex": [
       "$\\displaystyle \\left[\\begin{matrix}1 & 1.0 & \\delta + 2 & 0 & 0\\\\1.0 & 1.0 & 1.0 & 1.0 & 1.0\\end{matrix}\\right]$"
      ],
      "text/plain": [
       "Matrix([\n",
       "[  1, 1.0, \\delta + 2,   0,   0],\n",
       "[1.0, 1.0,        1.0, 1.0, 1.0]])"
      ]
     },
     "metadata": {},
     "output_type": "display_data"
    },
    {
     "name": "stdout",
     "output_type": "stream",
     "text": [
      "Cost corrected\n"
     ]
    },
    {
     "data": {
      "text/latex": [
       "$\\displaystyle \\left[\\begin{matrix}- \\delta - 1 & - \\delta - 1 & 0 & - \\delta - 2 & - \\delta - 2\\\\1 & 1 & 1 & 1 & 1\\end{matrix}\\right]$"
      ],
      "text/plain": [
       "Matrix([\n",
       "[-\\delta - 1, -\\delta - 1, 0, -\\delta - 2, -\\delta - 2],\n",
       "[          1,           1, 1,           1,           1]])"
      ]
     },
     "metadata": {},
     "output_type": "display_data"
    }
   ],
   "source": [
    "basic_var = [3]\n",
    "\n",
    "tableau = build_tableau(A, b, c(2))\n",
    "\n",
    "print(\"Simplex process\")\n",
    "opt_tableau = simplex(tableau, basic_var)\n",
    "opt_tableau = sp.Matrix(opt_tableau.tolist())\n",
    "opt_tableau[0, :-1] = sp.Matrix(c(2 + delta)).T\n",
    "opt_tableau[0, -1] = 0\n",
    "print(\"Perturbation\")\n",
    "display(opt_tableau)\n",
    "\n",
    "correct_symbolic_cost(opt_tableau, basic_var)\n",
    "display(sp.nsimplify(opt_tableau, rational=True))"
   ]
  },
  {
   "cell_type": "code",
   "execution_count": 44,
   "metadata": {},
   "outputs": [
    {
     "data": {
      "image/png": "[encoded data removed]",
      "text/plain": [
       "<Figure size 432x288 with 1 Axes>"
      ]
     },
     "metadata": {
      "needs_background": "light"
     },
     "output_type": "display_data"
    }
   ],
   "source": [
    "z = lambda delta: 1 if delta < 1 else delta\n",
    "\n",
    "interval = np.linspace(0, 2)\n",
    "z_plot = [z(d) for d in interval]\n",
    "\n",
    "plt.xlabel(\"$\\delta$\")\n",
    "plt.ylabel(\"$z^*(\\delta)$\")\n",
    "plt.plot(interval, z_plot)\n",
    "plt.plot(1, z(1), 'o', c='r')\n",
    "plt.axis(\"scaled\")\n",
    "plt.show()\n"
   ]
  },
  {
   "cell_type": "markdown",
   "metadata": {},
   "source": [
    "#### 3. Hallar el gráfico de la función $f:\\mathbb{R} \\rightarrow \\mathbb{R}$ definida como\n",
    "\n",
    "\\begin{align*}\n",
    "f(\\delta) := \\max \\quad& \\delta x_3\\\\\n",
    "\\text{s.t.}\\quad   &x_1  \\le 1\\\\\n",
    "            &x_2  \\le 1\\\\\n",
    "&x_1 \\ge 0, x_2 \\ge 0, x_3 \\ge 0.\n",
    "\\end{align*}\n",
    "*Solution*\n",
    "\n",
    "$f(\\delta) = 0 \\text{ if } \\delta \\le 0 \\text{ else } \\infty $"
   ]
  }
 ],
 "metadata": {
  "kernelspec": {
   "display_name": "Python 3.10.5 64-bit",
   "language": "python",
   "name": "python3"
  },
  "language_info": {
   "codemirror_mode": {
    "name": "ipython",
    "version": 3
   },
   "file_extension": ".py",
   "mimetype": "text/x-python",
   "name": "python",
   "nbconvert_exporter": "python",
   "pygments_lexer": "ipython3",
   "version": "3.10.6"
  },
  "orig_nbformat": 4,
  "vscode": {
   "interpreter": {
    "hash": "590f4a299ae404e723bbc5f32e9a7b98b836c3c65ce9112bc934ac92a06ceee3"
   }
  }
 },
 "nbformat": 4,
 "nbformat_minor": 2
}
