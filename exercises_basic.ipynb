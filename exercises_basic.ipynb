{
 "cells": [
  {
   "cell_type": "markdown",
   "metadata": {},
   "source": [
    "# Practica Dirigida 1\n",
    "Pregunta 1"
   ]
  },
  {
   "cell_type": "code",
   "execution_count": 6,
   "metadata": {},
   "outputs": [],
   "source": [
    "from scipy.optimize import linprog\n",
    "from basic_solution import basic_solutions, factible_vertex\n",
    "import sympy as sp"
   ]
  },
  {
   "cell_type": "code",
   "execution_count": 2,
   "metadata": {},
   "outputs": [
    {
     "data": {
      "text/plain": [
       "     con: array([], dtype=float64)\n",
       "     fun: 77.77777777777777\n",
       " message: 'Optimization terminated successfully.'\n",
       "     nit: 3\n",
       "   slack: array([ 7.22222222e+01, -1.42108547e-14])\n",
       "  status: 0\n",
       " success: True\n",
       "       x: array([2.22044605e-16, 7.77777778e+00])"
      ]
     },
     "execution_count": 2,
     "metadata": {},
     "output_type": "execute_result"
    }
   ],
   "source": [
    "# problem a\n",
    "c = [20, 10]\n",
    "\n",
    "A = [[-30, -17],\n",
    "     [-5, -9]]\n",
    "\n",
    "b = [-60, -70]\n",
    "\n",
    "x0_bounds = (0, None)\n",
    "x1_bounds = (0, None)\n",
    "\n",
    "# minimize a standard form\n",
    "res = linprog(c, A_ub=A, b_ub=b, bounds=[\n",
    "              x0_bounds, x1_bounds], method=\"revised simplex\")\n",
    "res"
   ]
  },
  {
   "cell_type": "markdown",
   "metadata": {},
   "source": [
    "### PD2 2"
   ]
  },
  {
   "cell_type": "code",
   "execution_count": 3,
   "metadata": {},
   "outputs": [
    {
     "name": "stdout",
     "output_type": "stream",
     "text": [
      "Number of combinations: 4\n"
     ]
    },
    {
     "data": {
      "text/latex": [
       "$A^{-1}=\\left[\\begin{matrix}0 & -1 & 0\\\\0 & 0 & -1\\\\1 & 1 & 1\\end{matrix}\\right]\\quad x(0, 1, 2)=\\left[\\begin{matrix}0\\\\0\\\\1\\end{matrix}\\right]\\quad c=-4.00000000000000$"
      ]
     },
     "metadata": {},
     "output_type": "display_data"
    },
    {
     "data": {
      "text/latex": [
       "$A^{-1}=\\left[\\begin{matrix}0 & -1 & 0\\\\1 & 1 & 1\\\\0 & 0 & -1\\end{matrix}\\right]\\quad x(0, 1, 3)=\\left[\\begin{matrix}0\\\\1\\\\0\\end{matrix}\\right]\\quad c=-3.00000000000000$"
      ]
     },
     "metadata": {},
     "output_type": "display_data"
    },
    {
     "data": {
      "text/latex": [
       "$A^{-1}=\\left[\\begin{matrix}1 & 1 & 1\\\\0 & -1 & 0\\\\0 & 0 & -1\\end{matrix}\\right]\\quad x(0, 2, 3)=\\left[\\begin{matrix}1\\\\0\\\\0\\end{matrix}\\right]\\quad c=2.00000000000000$"
      ]
     },
     "metadata": {},
     "output_type": "display_data"
    },
    {
     "data": {
      "text/latex": [
       "$A^{-1}=\\left[\\begin{matrix}-1 & 0 & 0\\\\0 & -1 & 0\\\\0 & 0 & -1\\end{matrix}\\right]\\quad x(1, 2, 3)=\\left[\\begin{matrix}0\\\\0\\\\0\\end{matrix}\\right]\\quad c=0$"
      ]
     },
     "metadata": {},
     "output_type": "display_data"
    }
   ],
   "source": [
    "## A.row(j).dot(x) <= b[j]: OK \n",
    "A = sp.Matrix([[1, 1, 1],\n",
    "               [-1, 0, 0],\n",
    "               [0, -1, 0],\n",
    "               [0, 0, -1]])\n",
    "b = sp.Matrix([1, 0, 0, 0])\n",
    "\n",
    "c = sp.Matrix([2, -3, -4])\n",
    "\n",
    "factible_vertex(A, b, c)"
   ]
  },
  {
   "cell_type": "code",
   "execution_count": 4,
   "metadata": {},
   "outputs": [
    {
     "name": "stdout",
     "output_type": "stream",
     "text": [
      "Number of combinations: 15\n"
     ]
    },
    {
     "data": {
      "text/latex": [
       "$A^{-1}=\\left[\\begin{matrix}\\frac{1}{19} & \\frac{2}{19}\\\\- \\frac{2}{19} & \\frac{15}{19}\\end{matrix}\\right]\\quad x(1, 3)=\\left[\\begin{matrix}\\frac{6}{19}\\\\\\frac{45}{19}\\end{matrix}\\right]\\quad c=8.21052631578947$"
      ]
     },
     "metadata": {},
     "output_type": "display_data"
    },
    {
     "data": {
      "text/latex": [
       "$A^{-1}=\\left[\\begin{matrix}0 & -1\\\\- \\frac{1}{2} & - \\frac{15}{2}\\end{matrix}\\right]\\quad x(1, 4)=\\left[\\begin{matrix}0\\\\0\\end{matrix}\\right]\\quad c=0$"
      ]
     },
     "metadata": {},
     "output_type": "display_data"
    },
    {
     "data": {
      "text/latex": [
       "$A^{-1}=\\left[\\begin{matrix}\\frac{1}{15} & - \\frac{2}{15}\\\\0 & -1\\end{matrix}\\right]\\quad x(1, 5)=\\left[\\begin{matrix}0\\\\0\\end{matrix}\\right]\\quad c=0$"
      ]
     },
     "metadata": {},
     "output_type": "display_data"
    },
    {
     "data": {
      "text/latex": [
       "$A^{-1}=\\left[\\begin{matrix}0 & -1\\\\1 & 2\\end{matrix}\\right]\\quad x(3, 4)=\\left[\\begin{matrix}0\\\\3\\end{matrix}\\right]\\quad c=6.00000000000000$"
      ]
     },
     "metadata": {},
     "output_type": "display_data"
    },
    {
     "data": {
      "text/latex": [
       "$A^{-1}=\\left[\\begin{matrix}-1 & 0\\\\0 & -1\\end{matrix}\\right]\\quad x(4, 5)=\\left[\\begin{matrix}0\\\\0\\end{matrix}\\right]\\quad c=0$"
      ]
     },
     "metadata": {},
     "output_type": "display_data"
    }
   ],
   "source": [
    "A = sp.Matrix([[1, 1],\n",
    "              [15, -2],\n",
    "              [5, 1],\n",
    "              [2, 1],\n",
    "              [-1, 0],\n",
    "              [0, -1]])\n",
    "\n",
    "b = sp.Matrix([4, 0, 5, 3, 0, 0])\n",
    "\n",
    "c = sp.Matrix([11, 2])\n",
    "\n",
    "factible_vertex(A, b, c)\n"
   ]
  },
  {
   "cell_type": "code",
   "execution_count": 5,
   "metadata": {},
   "outputs": [
    {
     "name": "stdout",
     "output_type": "stream",
     "text": [
      "Number of combinations: 10\n"
     ]
    },
    {
     "data": {
      "text/latex": [
       "$$B=\\left[\\begin{matrix}1 & 2\\\\2 & 1\\end{matrix}\\right], \\quad \\mathbf x_B=\\left[\\begin{matrix}x_{1}\\\\x_{2}\\end{matrix}\\right] = B^{-1}\\mathbf b=\\left[\\begin{matrix}- \\frac{1}{3} & \\frac{2}{3}\\\\\\frac{2}{3} & - \\frac{1}{3}\\end{matrix}\\right]\\left[\\begin{matrix}4\\\\3\\end{matrix}\\right]=\\left[\\begin{matrix}\\frac{2}{3}\\\\\\frac{5}{3}\\end{matrix}\\right]$$"
      ]
     },
     "metadata": {},
     "output_type": "display_data"
    },
    {
     "data": {
      "text/latex": [
       "$$B=\\left[\\begin{matrix}1 & 2\\\\2 & 2\\end{matrix}\\right], \\quad \\mathbf x_B=\\left[\\begin{matrix}x_{1}\\\\x_{3}\\end{matrix}\\right] = B^{-1}\\mathbf b=\\left[\\begin{matrix}-1 & 1\\\\1 & - \\frac{1}{2}\\end{matrix}\\right]\\left[\\begin{matrix}4\\\\3\\end{matrix}\\right]=\\left[\\begin{matrix}-1\\\\\\frac{5}{2}\\end{matrix}\\right]$$"
      ]
     },
     "metadata": {},
     "output_type": "display_data"
    },
    {
     "data": {
      "text/latex": [
       "$$B=\\left[\\begin{matrix}1 & 1\\\\2 & 0\\end{matrix}\\right], \\quad \\mathbf x_B=\\left[\\begin{matrix}x_{1}\\\\x_{4}\\end{matrix}\\right] = B^{-1}\\mathbf b=\\left[\\begin{matrix}0 & \\frac{1}{2}\\\\1 & - \\frac{1}{2}\\end{matrix}\\right]\\left[\\begin{matrix}4\\\\3\\end{matrix}\\right]=\\left[\\begin{matrix}\\frac{3}{2}\\\\\\frac{5}{2}\\end{matrix}\\right]$$"
      ]
     },
     "metadata": {},
     "output_type": "display_data"
    },
    {
     "data": {
      "text/latex": [
       "$$B=\\left[\\begin{matrix}1 & 0\\\\2 & 1\\end{matrix}\\right], \\quad \\mathbf x_B=\\left[\\begin{matrix}x_{1}\\\\x_{5}\\end{matrix}\\right] = B^{-1}\\mathbf b=\\left[\\begin{matrix}1 & 0\\\\-2 & 1\\end{matrix}\\right]\\left[\\begin{matrix}4\\\\3\\end{matrix}\\right]=\\left[\\begin{matrix}4\\\\-5\\end{matrix}\\right]$$"
      ]
     },
     "metadata": {},
     "output_type": "display_data"
    },
    {
     "data": {
      "text/latex": [
       "$$B=\\left[\\begin{matrix}2 & 2\\\\1 & 2\\end{matrix}\\right], \\quad \\mathbf x_B=\\left[\\begin{matrix}x_{2}\\\\x_{3}\\end{matrix}\\right] = B^{-1}\\mathbf b=\\left[\\begin{matrix}1 & -1\\\\- \\frac{1}{2} & 1\\end{matrix}\\right]\\left[\\begin{matrix}4\\\\3\\end{matrix}\\right]=\\left[\\begin{matrix}1\\\\1\\end{matrix}\\right]$$"
      ]
     },
     "metadata": {},
     "output_type": "display_data"
    },
    {
     "data": {
      "text/latex": [
       "$$B=\\left[\\begin{matrix}2 & 1\\\\1 & 0\\end{matrix}\\right], \\quad \\mathbf x_B=\\left[\\begin{matrix}x_{2}\\\\x_{4}\\end{matrix}\\right] = B^{-1}\\mathbf b=\\left[\\begin{matrix}0 & 1\\\\1 & -2\\end{matrix}\\right]\\left[\\begin{matrix}4\\\\3\\end{matrix}\\right]=\\left[\\begin{matrix}3\\\\-2\\end{matrix}\\right]$$"
      ]
     },
     "metadata": {},
     "output_type": "display_data"
    },
    {
     "data": {
      "text/latex": [
       "$$B=\\left[\\begin{matrix}2 & 0\\\\1 & 1\\end{matrix}\\right], \\quad \\mathbf x_B=\\left[\\begin{matrix}x_{2}\\\\x_{5}\\end{matrix}\\right] = B^{-1}\\mathbf b=\\left[\\begin{matrix}\\frac{1}{2} & 0\\\\- \\frac{1}{2} & 1\\end{matrix}\\right]\\left[\\begin{matrix}4\\\\3\\end{matrix}\\right]=\\left[\\begin{matrix}2\\\\1\\end{matrix}\\right]$$"
      ]
     },
     "metadata": {},
     "output_type": "display_data"
    },
    {
     "data": {
      "text/latex": [
       "$$B=\\left[\\begin{matrix}2 & 1\\\\2 & 0\\end{matrix}\\right], \\quad \\mathbf x_B=\\left[\\begin{matrix}x_{3}\\\\x_{4}\\end{matrix}\\right] = B^{-1}\\mathbf b=\\left[\\begin{matrix}0 & \\frac{1}{2}\\\\1 & -1\\end{matrix}\\right]\\left[\\begin{matrix}4\\\\3\\end{matrix}\\right]=\\left[\\begin{matrix}\\frac{3}{2}\\\\1\\end{matrix}\\right]$$"
      ]
     },
     "metadata": {},
     "output_type": "display_data"
    },
    {
     "data": {
      "text/latex": [
       "$$B=\\left[\\begin{matrix}2 & 0\\\\2 & 1\\end{matrix}\\right], \\quad \\mathbf x_B=\\left[\\begin{matrix}x_{3}\\\\x_{5}\\end{matrix}\\right] = B^{-1}\\mathbf b=\\left[\\begin{matrix}\\frac{1}{2} & 0\\\\-1 & 1\\end{matrix}\\right]\\left[\\begin{matrix}4\\\\3\\end{matrix}\\right]=\\left[\\begin{matrix}2\\\\-1\\end{matrix}\\right]$$"
      ]
     },
     "metadata": {},
     "output_type": "display_data"
    },
    {
     "data": {
      "text/latex": [
       "$$B=\\left[\\begin{matrix}1 & 0\\\\0 & 1\\end{matrix}\\right], \\quad \\mathbf x_B=\\left[\\begin{matrix}x_{4}\\\\x_{5}\\end{matrix}\\right] = B^{-1}\\mathbf b=\\left[\\begin{matrix}1 & 0\\\\0 & 1\\end{matrix}\\right]\\left[\\begin{matrix}4\\\\3\\end{matrix}\\right]=\\left[\\begin{matrix}4\\\\3\\end{matrix}\\right]$$"
      ]
     },
     "metadata": {},
     "output_type": "display_data"
    }
   ],
   "source": [
    "A = sp.Matrix([[1, 2, 2, 1, 0],\n",
    "              [2, 1, 2, 0, 1]])\n",
    "\n",
    "b = sp.Matrix([4, 3])\n",
    "\n",
    "basic_solutions(A, b)\n"
   ]
  }
 ],
 "metadata": {
  "interpreter": {
   "hash": "590f4a299ae404e723bbc5f32e9a7b98b836c3c65ce9112bc934ac92a06ceee3"
  },
  "kernelspec": {
   "display_name": "Python 3.10.4 64-bit",
   "language": "python",
   "name": "python3"
  },
  "language_info": {
   "codemirror_mode": {
    "name": "ipython",
    "version": 3
   },
   "file_extension": ".py",
   "mimetype": "text/x-python",
   "name": "python",
   "nbconvert_exporter": "python",
   "pygments_lexer": "ipython3",
   "version": "3.10.6"
  },
  "orig_nbformat": 4
 },
 "nbformat": 4,
 "nbformat_minor": 2
}
