{
 "cells": [
  {
   "cell_type": "code",
   "execution_count": 71,
   "metadata": {},
   "outputs": [],
   "source": [
    "import numpy as np\n",
    "import math\n",
    "import copy\n",
    "import sys\n",
    "np.set_printoptions(suppress=True, linewidth=np.nan)\n",
    "# https://graphonline.ru/en/"
   ]
  },
  {
   "cell_type": "markdown",
   "metadata": {},
   "source": [
    "# Adjacent Graph with simplex method\n",
    "Consiste en visitar todos los vertices. Esto sucede cuando hay elementos positivos en la fila cero y cuando hay empate en el test de minimo ratio. Buscar todas las posibles combinaciones lineales al inicio para visitar todos los vertices. Es posible visitar a todos con solo una sola solución básica factible inicial."
   ]
  },
  {
   "cell_type": "markdown",
   "metadata": {},
   "source": [
    "### Utilities"
   ]
  },
  {
   "cell_type": "code",
   "execution_count": 72,
   "metadata": {},
   "outputs": [],
   "source": [
    "def build_tableau(A: np.ndarray, b: np.ndarray, c: np.ndarray) -> np.ndarray:\n",
    "    tableau = np.r_[[c], A]\n",
    "    tableau = np.c_[tableau, np.insert(b, 0, 0)]\n",
    "    return tableau\n"
   ]
  },
  {
   "cell_type": "code",
   "execution_count": 73,
   "metadata": {},
   "outputs": [],
   "source": [
    "def minimum_ratio_test_multiple(col: np.ndarray, b: np.ndarray) -> int:\n",
    "    map_test: dict[float, list[int]] = {}\n",
    "    min_key = np.Inf\n",
    "    for k in range(len(b)):\n",
    "        if col[k] > 0:\n",
    "            test = b[k] / col[k]\n",
    "            if test in map_test:\n",
    "                map_test[test].append(k + 1)\n",
    "            else:\n",
    "                map_test[test] = [k + 1]\n",
    "            min_key = min(min_key, test)\n",
    "    return map_test[min_key] if min_key != np.Inf else None\n"
   ]
  },
  {
   "cell_type": "code",
   "execution_count": 74,
   "metadata": {},
   "outputs": [],
   "source": [
    "def pivoting(tableau: np.ndarray, row: int, col: int) -> np.ndarray:\n",
    "    tableau[row] = tableau[row] / tableau[row, col]\n",
    "    for k in range(len(tableau)):\n",
    "        if k != row:\n",
    "            tableau[k] = tableau[k] - tableau[k, col] * tableau[row, :]\n"
   ]
  },
  {
   "cell_type": "code",
   "execution_count": 75,
   "metadata": {},
   "outputs": [],
   "source": [
    "def basic_var2vertex(tableau: np.ndarray, basic_var: list[int]) -> None:\n",
    "    # only work with simplex method because m = len(basic_var) and n = len(non_basic_var)\n",
    "    dim_1, dim_2 = tableau.shape\n",
    "    m = len(basic_var)\n",
    "    n = dim_2 - dim_1  # for Big-M don't delete artificial variables\n",
    "    x = np.zeros(m + n)\n",
    "    x[basic_var] = tableau[1:, -1]\n",
    "    return x[:n]\n"
   ]
  },
  {
   "cell_type": "code",
   "execution_count": 76,
   "metadata": {},
   "outputs": [],
   "source": [
    "def real_index(basic_var: list[int]):\n",
    "    return list(map(lambda x: x + 1, basic_var))\n"
   ]
  },
  {
   "cell_type": "code",
   "execution_count": 77,
   "metadata": {},
   "outputs": [],
   "source": [
    "def correct_tableau(tableau: np.ndarray, basic_var: list[int]):\n",
    "    for index, col in enumerate(basic_var):\n",
    "        row = index + 1\n",
    "        tableau[row] = tableau[row] / tableau[row, col]\n",
    "        for k in range(len(tableau)):\n",
    "            if k != row:\n",
    "                tableau[k] = tableau[k] - tableau[k, col] * tableau[row, :]\n",
    "    return tableau\n"
   ]
  },
  {
   "cell_type": "markdown",
   "metadata": {},
   "source": [
    "### Adjacent Graph"
   ]
  },
  {
   "cell_type": "code",
   "execution_count": 91,
   "metadata": {},
   "outputs": [],
   "source": [
    "def adjacent_graph(tableau: np.ndarray, basic_var: list[int], row: int = None, col: int = None) -> None:\n",
    "    vertex = basic_var2vertex(tableau, basic_var)    \n",
    "    if (tableau[0, :-1] > 0).any():\n",
    "        # recursive simplex for each column candidate\n",
    "        for col in np.where(tableau[0, :-1] > 0)[0]:\n",
    "            # minimum ratio test\n",
    "            multi_row = minimum_ratio_test_multiple(col=tableau[1:, col], b=tableau[1:, -1])\n",
    "            if multi_row != None:\n",
    "                for row in multi_row:\n",
    "                    print(f\"vertex = {vertex}\\tx_B = {real_index(basic_var)}\\n{tableau}\\npivoted = {row, col}\")\n",
    "                    # temp array\n",
    "                    temp_tableau = np.copy(tableau)\n",
    "                    temp_basic_var = copy.copy(basic_var)\n",
    "                    # pivoting\n",
    "                    pivoting(temp_tableau, row, col)\n",
    "                    # swap row with col\n",
    "                    temp_basic_var[row - 1] = col\n",
    "                    # recursive proccess\n",
    "                    adjacent_graph(temp_tableau, temp_basic_var, row, col)\n",
    "    else:\n",
    "        print(f\"vertex = {vertex}\\tx_B = {real_index(basic_var)}\\n{tableau}\")\n",
    "        print(\"end proccess\")\n",
    "        "
   ]
  },
  {
   "cell_type": "code",
   "execution_count": 92,
   "metadata": {},
   "outputs": [
    {
     "name": "stdout",
     "output_type": "stream",
     "text": [
      "vertex = [0. 0.]\tx_B = [3, 4, 5, 6]\n",
      "[[ 3.  2.  0.  0.  0.  0.  0.]\n",
      " [ 1.  1.  1.  0.  0.  0.  9.]\n",
      " [ 3.  1.  0.  1.  0.  0. 18.]\n",
      " [ 1.  0.  0.  0.  1.  0.  7.]\n",
      " [ 0.  1.  0.  0.  0.  1.  6.]]\n",
      "pivoted = (2, 0)\n",
      "vertex = [6. 0.]\tx_B = [3, 1, 5, 6]\n",
      "[[  0.           1.           0.          -1.           0.           0.         -18.        ]\n",
      " [  0.           0.66666667   1.          -0.33333333   0.           0.           3.        ]\n",
      " [  1.           0.33333333   0.           0.33333333   0.           0.           6.        ]\n",
      " [  0.          -0.33333333   0.          -0.33333333   1.           0.           1.        ]\n",
      " [  0.           1.           0.           0.           0.           1.           6.        ]]\n",
      "pivoted = (1, 1)\n",
      "vertex = [4.5 4.5]\tx_B = [2, 1, 5, 6]\n",
      "[[  0.    0.   -1.5  -0.5   0.    0.  -22.5]\n",
      " [  0.    1.    1.5  -0.5   0.    0.    4.5]\n",
      " [  1.    0.   -0.5   0.5   0.    0.    4.5]\n",
      " [  0.    0.    0.5  -0.5   1.    0.    2.5]\n",
      " [  0.    0.   -1.5   0.5   0.    1.    1.5]]\n",
      "end proccess\n",
      "vertex = [0. 0.]\tx_B = [3, 4, 5, 6]\n",
      "[[ 3.  2.  0.  0.  0.  0.  0.]\n",
      " [ 1.  1.  1.  0.  0.  0.  9.]\n",
      " [ 3.  1.  0.  1.  0.  0. 18.]\n",
      " [ 1.  0.  0.  0.  1.  0.  7.]\n",
      " [ 0.  1.  0.  0.  0.  1.  6.]]\n",
      "pivoted = (4, 1)\n",
      "vertex = [0. 6.]\tx_B = [3, 4, 5, 2]\n",
      "[[  3.   0.   0.   0.   0.  -2. -12.]\n",
      " [  1.   0.   1.   0.   0.  -1.   3.]\n",
      " [  3.   0.   0.   1.   0.  -1.  12.]\n",
      " [  1.   0.   0.   0.   1.   0.   7.]\n",
      " [  0.   1.   0.   0.   0.   1.   6.]]\n",
      "pivoted = (1, 0)\n",
      "vertex = [3. 6.]\tx_B = [1, 4, 5, 2]\n",
      "[[  0.   0.  -3.   0.   0.   1. -21.]\n",
      " [  1.   0.   1.   0.   0.  -1.   3.]\n",
      " [  0.   0.  -3.   1.   0.   2.   3.]\n",
      " [  0.   0.  -1.   0.   1.   1.   4.]\n",
      " [  0.   1.   0.   0.   0.   1.   6.]]\n",
      "pivoted = (2, 5)\n",
      "vertex = [4.5 4.5]\tx_B = [1, 6, 5, 2]\n",
      "[[  0.    0.   -1.5  -0.5   0.    0.  -22.5]\n",
      " [  1.    0.   -0.5   0.5   0.    0.    4.5]\n",
      " [  0.    0.   -1.5   0.5   0.    1.    1.5]\n",
      " [  0.    0.    0.5  -0.5   1.    0.    2.5]\n",
      " [  0.    1.    1.5  -0.5   0.    0.    4.5]]\n",
      "end proccess\n"
     ]
    }
   ],
   "source": [
    "A = [[1, 1, 1, 0, 0, 0],\n",
    "     [3, 1, 0, 1, 0, 0],\n",
    "     [1, 0, 0, 0, 1, 0],\n",
    "     [0, 1, 0, 0, 0, 1.]]\n",
    "\n",
    "b = [9, 18, 7, 6.]\n",
    "\n",
    "c = [3, 2, 0, 0, 0, 0.]\n",
    "\n",
    "basic_var = [2, 3, 4, 5]\n",
    "\n",
    "tableau = build_tableau(A, b, c)\n",
    "adjacent_graph(tableau, basic_var, [])"
   ]
  },
  {
   "cell_type": "code",
   "execution_count": 93,
   "metadata": {},
   "outputs": [
    {
     "name": "stdout",
     "output_type": "stream",
     "text": [
      "------- New simplex proccess -------\n",
      "vertex = [0. 0. 0.]\tx_B = [4, 5]\n",
      "[[0. 0. 1. 0. 0. 0.]\n",
      " [1. 1. 1. 1. 0. 1.]\n",
      " [1. 0. 0. 0. 1. 1.]]\n",
      "pivoted = (1, 2)\n",
      "vertex = [0. 0. 1.]\tx_B = [3, 5]\n",
      "[[-1. -1.  0. -1.  0. -1.]\n",
      " [ 1.  1.  1.  1.  0.  1.]\n",
      " [ 1.  0.  0.  0.  1.  1.]]\n",
      "end proccess\n",
      "------- New simplex proccess -------\n",
      "vertex = [0. 1. 0.]\tx_B = [2, 5]\n",
      "[[0. 0. 1. 0. 0. 0.]\n",
      " [1. 1. 1. 1. 0. 1.]\n",
      " [1. 0. 0. 0. 1. 1.]]\n",
      "pivoted = (1, 2)\n",
      "vertex = [0. 0. 1.]\tx_B = [3, 5]\n",
      "[[-1. -1.  0. -1.  0. -1.]\n",
      " [ 1.  1.  1.  1.  0.  1.]\n",
      " [ 1.  0.  0.  0.  1.  1.]]\n",
      "end proccess\n",
      "------- New simplex proccess -------\n",
      "vertex = [1. 0. 0.]\tx_B = [1, 5]\n",
      "[[ 0.  0.  1.  0.  0.  0.]\n",
      " [ 1.  1.  1.  1.  0.  1.]\n",
      " [ 0. -1. -1. -1.  1.  0.]]\n",
      "pivoted = (1, 2)\n",
      "vertex = [0. 0. 1.]\tx_B = [3, 5]\n",
      "[[-1. -1.  0. -1.  0. -1.]\n",
      " [ 1.  1.  1.  1.  0.  1.]\n",
      " [ 1.  0.  0.  0.  1.  1.]]\n",
      "end proccess\n",
      "------- New simplex proccess -------\n",
      "vertex = [ 1. -0.  0.]\tx_B = [1, 2]\n",
      "[[ 0.  0.  1.  0.  0.  0.]\n",
      " [ 1.  0.  0.  0.  1.  1.]\n",
      " [-0.  1.  1.  1. -1. -0.]]\n",
      "pivoted = (2, 2)\n",
      "vertex = [ 1.  0. -0.]\tx_B = [1, 3]\n",
      "[[ 0. -1.  0. -1.  1.  0.]\n",
      " [ 1.  0.  0.  0.  1.  1.]\n",
      " [-0.  1.  1.  1. -1. -0.]]\n",
      "pivoted = (1, 4)\n",
      "vertex = [0. 0. 1.]\tx_B = [5, 3]\n",
      "[[-1. -1.  0. -1.  0. -1.]\n",
      " [ 1.  0.  0.  0.  1.  1.]\n",
      " [ 1.  1.  1.  1.  0.  1.]]\n",
      "end proccess\n",
      "------- New simplex proccess -------\n",
      "vertex = [1. 0. 0.]\tx_B = [1, 4]\n",
      "[[ 0.  0.  1.  0.  0.  0.]\n",
      " [ 1.  0.  0.  0.  1.  1.]\n",
      " [-0.  1.  1.  1. -1. -0.]]\n",
      "pivoted = (2, 2)\n",
      "vertex = [ 1.  0. -0.]\tx_B = [1, 3]\n",
      "[[ 0. -1.  0. -1.  1.  0.]\n",
      " [ 1.  0.  0.  0.  1.  1.]\n",
      " [-0.  1.  1.  1. -1. -0.]]\n",
      "pivoted = (1, 4)\n",
      "vertex = [0. 0. 1.]\tx_B = [5, 3]\n",
      "[[-1. -1.  0. -1.  0. -1.]\n",
      " [ 1.  0.  0.  0.  1.  1.]\n",
      " [ 1.  1.  1.  1.  0.  1.]]\n",
      "end proccess\n"
     ]
    }
   ],
   "source": [
    "A = [[1, 1, 1, 1, 0],\n",
    "     [1, 0, 0, 0, 1.]]\n",
    "\n",
    "b = [1, 1.]\n",
    "\n",
    "c = [0, 0, 1, 0, 0.]\n",
    "\n",
    "# basic_var = [3, 4]\n",
    "basic_var_list = [[3, 4], [1, 4], [0, 4], [0, 1], [0, 3]]\n",
    "\n",
    "for basic_var in basic_var_list:\n",
    "     print(\"------- New simplex proccess -------\")\n",
    "     tableau = build_tableau(A, b, c)\n",
    "     tableau = correct_tableau(tableau, basic_var)\n",
    "     adjacent_graph(tableau, basic_var)"
   ]
  },
  {
   "cell_type": "code",
   "execution_count": 94,
   "metadata": {},
   "outputs": [
    {
     "name": "stdout",
     "output_type": "stream",
     "text": [
      "------- New simplex proccess -------\n",
      "vertex = [4. 0.]\tx_B = [1, 4, 3]\n",
      "[[ 0.  1.  0.  0.  1.  4.]\n",
      " [ 1.  0.  0.  0.  1.  4.]\n",
      " [ 0.  4.  0.  1. -2.  2.]\n",
      " [ 0.  6.  1.  0.  2.  8.]]\n",
      "pivoted = (2, 1)\n",
      "vertex = [4.  0.5]\tx_B = [1, 2, 3]\n",
      "[[ 0.    0.    0.   -0.25  1.5   3.5 ]\n",
      " [ 1.    0.    0.    0.    1.    4.  ]\n",
      " [ 0.    1.    0.    0.25 -0.5   0.5 ]\n",
      " [ 0.    0.    1.   -1.5   5.    5.  ]]\n",
      "pivoted = (3, 4)\n",
      "vertex = [3. 1.]\tx_B = [1, 2, 5]\n",
      "[[ 0.   0.  -0.3  0.2  0.   2. ]\n",
      " [ 1.   0.  -0.2  0.3  0.   3. ]\n",
      " [ 0.   1.   0.1  0.1  0.   1. ]\n",
      " [ 0.   0.   0.2 -0.3  1.   1. ]]\n",
      "pivoted = (1, 3)\n",
      "vertex = [0. 0.]\tx_B = [4, 2, 5]\n",
      "[[-0.66666667  0.         -0.16666667  0.          0.          0.        ]\n",
      " [ 3.33333333  0.         -0.66666667  1.          0.         10.        ]\n",
      " [-0.33333333  1.          0.16666667  0.          0.          0.        ]\n",
      " [ 1.          0.          0.          0.          1.          4.        ]]\n",
      "end proccess\n",
      "vertex = [3. 1.]\tx_B = [1, 2, 5]\n",
      "[[ 0.   0.  -0.3  0.2  0.   2. ]\n",
      " [ 1.   0.  -0.2  0.3  0.   3. ]\n",
      " [ 0.   1.   0.1  0.1  0.   1. ]\n",
      " [ 0.   0.   0.2 -0.3  1.   1. ]]\n",
      "pivoted = (2, 3)\n",
      "vertex = [0. 0.]\tx_B = [1, 4, 5]\n",
      "[[ 0.  -2.  -0.5  0.   0.   0. ]\n",
      " [ 1.  -3.  -0.5  0.   0.   0. ]\n",
      " [ 0.  10.   1.   1.   0.  10. ]\n",
      " [ 0.   3.   0.5  0.   1.   4. ]]\n",
      "end proccess\n",
      "vertex = [4. 0.]\tx_B = [1, 4, 3]\n",
      "[[ 0.  1.  0.  0.  1.  4.]\n",
      " [ 1.  0.  0.  0.  1.  4.]\n",
      " [ 0.  4.  0.  1. -2.  2.]\n",
      " [ 0.  6.  1.  0.  2.  8.]]\n",
      "pivoted = (1, 4)\n",
      "vertex = [0. 0.]\tx_B = [5, 4, 3]\n",
      "[[-1.  1.  0.  0.  0.  0.]\n",
      " [ 1.  0.  0.  0.  1.  4.]\n",
      " [ 2.  4.  0.  1.  0. 10.]\n",
      " [-2.  6.  1.  0.  0.  0.]]\n",
      "pivoted = (3, 1)\n",
      "vertex = [0. 0.]\tx_B = [5, 4, 2]\n",
      "[[-0.66666667  0.         -0.16666667  0.          0.          0.        ]\n",
      " [ 1.          0.          0.          0.          1.          4.        ]\n",
      " [ 3.33333333  0.         -0.66666667  1.          0.         10.        ]\n",
      " [-0.33333333  1.          0.16666667  0.          0.          0.        ]]\n",
      "end proccess\n",
      "vertex = [4. 0.]\tx_B = [1, 4, 3]\n",
      "[[ 0.  1.  0.  0.  1.  4.]\n",
      " [ 1.  0.  0.  0.  1.  4.]\n",
      " [ 0.  4.  0.  1. -2.  2.]\n",
      " [ 0.  6.  1.  0.  2.  8.]]\n",
      "pivoted = (3, 4)\n",
      "vertex = [0. 0.]\tx_B = [1, 4, 5]\n",
      "[[ 0.  -2.  -0.5  0.   0.   0. ]\n",
      " [ 1.  -3.  -0.5  0.   0.   0. ]\n",
      " [ 0.  10.   1.   1.   0.  10. ]\n",
      " [ 0.   3.   0.5  0.   1.   4. ]]\n",
      "end proccess\n"
     ]
    }
   ],
   "source": [
    "A = [[-2, 6, 1, 0, 0],\n",
    "     [2, 4., 0, 1, 0],\n",
    "     [1, 0., 0, 0, 1]]\n",
    "\n",
    "b = [0, 10, 4.]\n",
    "\n",
    "c = [-1, 1, 0, 0, 0.]\n",
    "\n",
    "# un vertice suficiente para visitarlos a todos\n",
    "basic_var_list = [[0, 3, 2]] # respetar el orden en la tabla\n",
    "\n",
    "for basic_var in basic_var_list:\n",
    "     print(\"------- New simplex proccess -------\")\n",
    "     tableau = build_tableau(A, b, c)\n",
    "     tableau = correct_tableau(tableau, basic_var)\n",
    "     adjacent_graph(tableau, basic_var, [])"
   ]
  },
  {
   "cell_type": "markdown",
   "metadata": {},
   "source": [
    "## Examen Parcial 2021-II"
   ]
  },
  {
   "cell_type": "code",
   "execution_count": null,
   "metadata": {},
   "outputs": [],
   "source": []
  },
  {
   "cell_type": "code",
   "execution_count": 82,
   "metadata": {},
   "outputs": [],
   "source": [
    "# A = [[1 / 3, 1, -1 / 3, -2, 1, 0],\n",
    "#      [-2.0, -9.0, 1.0, 9.0, 0, 1]]\n",
    "\n",
    "# b = [0.0, 0.0]\n",
    "\n",
    "# c = [2, 3, -1, -12, 0, 0.0]\n",
    "\n",
    "# tableau = build_tableau(A, b, c)\n",
    "\n",
    "# basic_var_list = [[4, 5]]\n",
    "# for basic_var in basic_var_list:\n",
    "#      print(\"------- New simplex proccess -------\")\n",
    "#      tableau = build_tableau(A, b, c)\n",
    "#      adjacent_graph(tableau, basic_var)"
   ]
  },
  {
   "cell_type": "markdown",
   "metadata": {},
   "source": []
  }
 ],
 "metadata": {
  "interpreter": {
   "hash": "590f4a299ae404e723bbc5f32e9a7b98b836c3c65ce9112bc934ac92a06ceee3"
  },
  "kernelspec": {
   "display_name": "Python 3.10.4 64-bit",
   "language": "python",
   "name": "python3"
  },
  "language_info": {
   "codemirror_mode": {
    "name": "ipython",
    "version": 3
   },
   "file_extension": ".py",
   "mimetype": "text/x-python",
   "name": "python",
   "nbconvert_exporter": "python",
   "pygments_lexer": "ipython3",
   "version": "3.10.4"
  },
  "orig_nbformat": 4
 },
 "nbformat": 4,
 "nbformat_minor": 2
}
