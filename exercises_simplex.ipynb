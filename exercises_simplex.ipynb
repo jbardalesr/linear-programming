{
 "cells": [
  {
   "cell_type": "markdown",
   "metadata": {},
   "source": [
    "Import libraries"
   ]
  },
  {
   "cell_type": "code",
   "execution_count": 1,
   "metadata": {},
   "outputs": [],
   "source": [
    "import numpy as np\n",
    "import sympy as sp\n",
    "from util import  build_tableau, optimal_solution, correct_all_tableau\n",
    "from util2 import check_tableau, tableau2standard\n",
    "from simplex_algorithm import simplex, big_M, two_phases\n",
    "np.set_printoptions(suppress=True, linewidth=np.nan)\n"
   ]
  },
  {
   "cell_type": "markdown",
   "metadata": {},
   "source": [
    "### Book: Linear and Integer Optimization\n"
   ]
  },
  {
   "cell_type": "markdown",
   "metadata": {},
   "source": [
    "#### Dovetail Model \n",
    "$$\\begin{align*}\n",
    "\\max  3 x_{1}&+2 x_{2}& \\\\\n",
    "\\text { s.t. } \\quad x_{1}&+x_{2}& \\leq 9 \\\\\n",
    "3 x_{1}&+x_{2}& \\leq 18 \\\\\n",
    "x_{1}&{} {}& \\leq 7 \\\\\n",
    "{}& \\quad x_{2} & \\leq 6 \\\\\n",
    "x_{1}&, x_{2} \\geq 0\n",
    "\\end{align*}$$"
   ]
  },
  {
   "cell_type": "code",
   "execution_count": 8,
   "metadata": {},
   "outputs": [
    {
     "name": "stdout",
     "output_type": "stream",
     "text": [
      "vertex = [0. 0.], x_B = [3, 4, 5, 6]\n",
      "[[ 3.  2.  0.  0.  0.  0.  0.]\n",
      " [ 1.  1.  1.  0.  0.  0.  9.]\n",
      " [ 3.  1.  0.  1.  0.  0. 18.]\n",
      " [ 1.  0.  0.  0.  1.  0.  7.]\n",
      " [ 0.  1.  0.  0.  0.  1.  6.]]\n",
      "vertex = [6. 0.], x_B = [3, 1, 5, 6]\n",
      "[[  0.           1.           0.          -1.           0.           0.         -18.        ]\n",
      " [  0.           0.66666667   1.          -0.33333333   0.           0.           3.        ]\n",
      " [  1.           0.33333333   0.           0.33333333   0.           0.           6.        ]\n",
      " [  0.          -0.33333333   0.          -0.33333333   1.           0.           1.        ]\n",
      " [  0.           1.           0.           0.           0.           1.           6.        ]]\n",
      "vertex = [4.5 4.5], x_B = [2, 1, 5, 6]\n",
      "[[  0.    0.   -1.5  -0.5   0.    0.  -22.5]\n",
      " [  0.    1.    1.5  -0.5   0.    0.    4.5]\n",
      " [  1.    0.   -0.5   0.5   0.    0.    4.5]\n",
      " [  0.    0.    0.5  -0.5   1.    0.    2.5]\n",
      " [  0.    0.   -1.5   0.5   0.    1.    1.5]]\n",
      "Optimal solution: x_opt = [4.5 4.5]\n"
     ]
    }
   ],
   "source": [
    "A = [[1, 1, 1, 0, 0, 0],\n",
    "     [3, 1, 0, 1, 0, 0],\n",
    "     [1, 0, 0, 0, 1, 0],\n",
    "     [0, 1, 0, 0, 0, 1.0]]\n",
    "\n",
    "b = [9, 18, 7, 6.]\n",
    "\n",
    "c = [3, 2, 0, 0, 0, 0.]\n",
    "\n",
    "basic_var = [2, 3, 4, 5]\n",
    "\n",
    "tableau = build_tableau(A, b, c)\n",
    "simplex(tableau, basic_var)\n",
    "optimal_solution(tableau, basic_var)\n"
   ]
  },
  {
   "cell_type": "markdown",
   "metadata": {},
   "source": [
    "**Two-Phases**: Dovetail Model modified: Constraint added $x_1 + x_2 \\ge 5$"
   ]
  },
  {
   "cell_type": "code",
   "execution_count": 9,
   "metadata": {},
   "outputs": [
    {
     "name": "stdout",
     "output_type": "stream",
     "text": [
      "x_B = [3, 4, 5, 6, 8]\n",
      "[[ 0.  0.  0.  0.  0.  0.  0. -1.  0.]\n",
      " [ 1.  1.  1.  0.  0.  0.  0.  0.  9.]\n",
      " [ 3.  1.  0.  1.  0.  0.  0.  0. 18.]\n",
      " [ 1.  0.  0.  0.  1.  0.  0.  0.  7.]\n",
      " [ 0.  1.  0.  0.  0.  1.  0.  0.  6.]\n",
      " [ 1.  1.  0.  0.  0.  0. -1.  1.  5.]]\n",
      "Cost corrected\n",
      "x_B = [3, 4, 5, 6, 8]\n",
      "[[ 1.  1.  0.  0.  0.  0. -1.  0.  5.]\n",
      " [ 1.  1.  1.  0.  0.  0.  0.  0.  9.]\n",
      " [ 3.  1.  0.  1.  0.  0.  0.  0. 18.]\n",
      " [ 1.  0.  0.  0.  1.  0.  0.  0.  7.]\n",
      " [ 0.  1.  0.  0.  0.  1.  0.  0.  6.]\n",
      " [ 1.  1.  0.  0.  0.  0. -1.  1.  5.]]\n",
      "Start phase One\n",
      "x_B = [3, 4, 5, 6, 1]\n",
      "[[ 0.  0.  0.  0.  0.  0.  0. -1.  0.]\n",
      " [ 0.  0.  1.  0.  0.  0.  1. -1.  4.]\n",
      " [ 0. -2.  0.  1.  0.  0.  3. -3.  3.]\n",
      " [ 0. -1.  0.  0.  1.  0.  1. -1.  2.]\n",
      " [ 0.  1.  0.  0.  0.  1.  0.  0.  6.]\n",
      " [ 1.  1.  0.  0.  0.  0. -1.  1.  5.]]\n",
      "Delete artificial variables and create a new tableau [7]\n",
      "Start phase two, put original cost\n",
      "x_B = [3, 4, 5, 6, 1]\n",
      "[[ 3.  2.  0.  0.  0.  0.  0.  0.]\n",
      " [ 0.  0.  1.  0.  0.  0.  1.  4.]\n",
      " [ 0. -2.  0.  1.  0.  0.  3.  3.]\n",
      " [ 0. -1.  0.  0.  1.  0.  1.  2.]\n",
      " [ 0.  1.  0.  0.  0.  1.  0.  6.]\n",
      " [ 1.  1.  0.  0.  0.  0. -1.  5.]]\n",
      "Cost corrected\n",
      "vertex = [5. 0.], x_B = [3, 4, 5, 6, 1]\n",
      "[[  0.  -1.   0.   0.   0.   0.   3. -15.]\n",
      " [  0.   0.   1.   0.   0.   0.   1.   4.]\n",
      " [  0.  -2.   0.   1.   0.   0.   3.   3.]\n",
      " [  0.  -1.   0.   0.   1.   0.   1.   2.]\n",
      " [  0.   1.   0.   0.   0.   1.   0.   6.]\n",
      " [  1.   1.   0.   0.   0.   0.  -1.   5.]]\n",
      "vertex = [6. 0.], x_B = [3, 7, 5, 6, 1]\n",
      "[[  0.           1.           0.          -1.           0.           0.           0.         -18.        ]\n",
      " [  0.           0.66666667   1.          -0.33333333   0.           0.           0.           3.        ]\n",
      " [  0.          -0.66666667   0.           0.33333333   0.           0.           1.           1.        ]\n",
      " [  0.          -0.33333333   0.          -0.33333333   1.           0.           0.           1.        ]\n",
      " [  0.           1.           0.           0.           0.           1.           0.           6.        ]\n",
      " [  1.           0.33333333   0.           0.33333333   0.           0.           0.           6.        ]]\n",
      "vertex = [4.5 4.5], x_B = [2, 7, 5, 6, 1]\n",
      "[[  0.    0.   -1.5  -0.5   0.    0.    0.  -22.5]\n",
      " [  0.    1.    1.5  -0.5   0.    0.    0.    4.5]\n",
      " [  0.    0.    1.    0.    0.    0.    1.    4. ]\n",
      " [  0.    0.    0.5  -0.5   1.    0.    0.    2.5]\n",
      " [  0.    0.   -1.5   0.5   0.    1.    0.    1.5]\n",
      " [  1.    0.   -0.5   0.5   0.    0.    0.    4.5]]\n",
      "Optimal solution: x_opt = [4.5 4.5]\n"
     ]
    }
   ],
   "source": [
    "tableau = np.array([[0, 0, 0, 0, 0, 0, 0, -1, 0],\n",
    "                    [1, 1, 1, 0, 0, 0, 0, 0, 9.],\n",
    "                    [3, 1, 0, 1, 0, 0, 0, 0, 18],\n",
    "                    [1, 0, 0, 0, 1, 0, 0, 0, 7.],\n",
    "                    [0, 1, 0, 0, 0, 1, 0, 0, 6.],\n",
    "                    [1, 1, 0, 0, 0, 0, -1, 1, 5]])\n",
    "\n",
    "c = [3, 2, 0, 0, 0, 0, 0.]\n",
    "\n",
    "basic_var = [2, 3, 4, 5, 7]\n",
    "artificial_var = [7]\n",
    "\n",
    "tableau = two_phases(tableau, c, basic_var, artificial_var)\n",
    "optimal_solution(tableau, basic_var)\n"
   ]
  },
  {
   "cell_type": "markdown",
   "metadata": {},
   "source": [
    "**BIG-M**:  Ejemplo visto el ciclo pasado Lineal 6 "
   ]
  },
  {
   "cell_type": "code",
   "execution_count": 10,
   "metadata": {},
   "outputs": [
    {
     "name": "stdout",
     "output_type": "stream",
     "text": [
      "x_B = [6, 7, 5]\n",
      "[[  2.   1.   0.   0.   0. -10. -10.   0.]\n",
      " [  2.  -1.  -1.   0.   0.   1.   0.   4.]\n",
      " [ -1.   2.   0.  -1.   0.   0.   1.   2.]\n",
      " [  1.   1.   0.   0.   1.   0.   0.  12.]]\n",
      "Cost corrected\n",
      "vertex = [0. 0. 0. 0.], x_B = [6, 7, 5]\n",
      "[[ 12.  11. -10. -10.   0.   0.   0.  60.]\n",
      " [  2.  -1.  -1.   0.   0.   1.   0.   4.]\n",
      " [ -1.   2.   0.  -1.   0.   0.   1.   2.]\n",
      " [  1.   1.   0.   0.   1.   0.   0.  12.]]\n",
      "vertex = [2. 0. 0. 0.], x_B = [1, 7, 5]\n",
      "[[  0.   17.   -4.  -10.    0.   -6.    0.   36. ]\n",
      " [  1.   -0.5  -0.5   0.    0.    0.5   0.    2. ]\n",
      " [  0.    1.5  -0.5  -1.    0.    0.5   1.    4. ]\n",
      " [  0.    1.5   0.5   0.    1.   -0.5   0.   10. ]]\n",
      "vertex = [3.33333333 2.66666667 0.         0.        ], x_B = [1, 2, 5]\n",
      "[[  0.           0.           1.66666667   1.33333333   0.         -11.66666667 -11.33333333  -9.33333333]\n",
      " [  1.           0.          -0.66666667  -0.33333333   0.           0.66666667   0.33333333   3.33333333]\n",
      " [  0.           1.          -0.33333333  -0.66666667   0.           0.33333333   0.66666667   2.66666667]\n",
      " [  0.           0.           1.           1.           1.          -1.          -1.           6.        ]]\n",
      "vertex = [7.33333333 4.66666667 6.         0.        ], x_B = [1, 2, 3]\n",
      "[[  0.           0.           0.          -0.33333333  -1.66666667 -10.          -9.66666667 -19.33333333]\n",
      " [  1.           0.           0.           0.33333333   0.66666667   0.          -0.33333333   7.33333333]\n",
      " [  0.           1.           0.          -0.33333333   0.33333333   0.           0.33333333   4.66666667]\n",
      " [  0.           0.           1.           1.           1.          -1.          -1.           6.        ]]\n",
      "Delete artificial variables [5, 6]\n",
      "x_B = [1, 2, 3]\n",
      "[[  0.           0.           0.          -0.33333333  -1.66666667 -19.33333333]\n",
      " [  1.           0.           0.           0.33333333   0.66666667   7.33333333]\n",
      " [  0.           1.           0.          -0.33333333   0.33333333   4.66666667]\n",
      " [  0.           0.           1.           1.           1.           6.        ]]\n",
      "Optimal solution: x_opt = [7.33333333 4.66666667]\n"
     ]
    }
   ],
   "source": [
    "M = 10\n",
    "A = [[2, -1, -1, 0, 0, 1, 0],\n",
    "     [-1, 2, 0, -1, 0, 0, 1],\n",
    "     [1, 1., 0., 0, 1, 0, 0.]]\n",
    "\n",
    "b = [4, 2, 12.]\n",
    "\n",
    "c = [2, 1, 0, 0, 0, -M, -M]\n",
    "\n",
    "basic_var = [5, 6, 4]\n",
    "artificial_var = [5, 6]\n",
    "\n",
    "tableau = build_tableau(A, b, c)\n",
    "tableau = big_M(tableau, basic_var, artificial_var)\n",
    "optimal_solution(tableau, basic_var)\n"
   ]
  },
  {
   "cell_type": "markdown",
   "metadata": {},
   "source": [
    "#### Equality constraints\n",
    "Example 3.8.1. Consideer the following LO-model \n",
    "\\begin{align*}\n",
    "\\max  40 x_{1}& + 100 x_{2}  + 150 x_{3}  \\\\\n",
    "\\text { s.t. }\\quad x_{1} & + 2 x_{2}  +2 x_{3} =3 \\\\\n",
    " 30 x_{1}& + 10 x_{2}  + 20 x_{3} =75 \\\\\n",
    " x_{1}&, x_{2}, x_{3} \\geq 0\n",
    "\\end{align*}"
   ]
  },
  {
   "cell_type": "markdown",
   "metadata": {},
   "source": [
    "Method 1: Big-M\n",
    "\n",
    "Add artificial variable $u_1$ and $u_2$, the simplex algorithm will put highest priority on making the value of the factor $Mu_i$ as small as possible, thereby setting the value of $u_i$ equal to zero to maintain equality."
   ]
  },
  {
   "cell_type": "code",
   "execution_count": 11,
   "metadata": {},
   "outputs": [
    {
     "name": "stdout",
     "output_type": "stream",
     "text": [
      "x_B = [4, 5]\n",
      "[[  40.  100.  150. -100. -100.    0.]\n",
      " [   1.    2.    2.    1.    0.    3.]\n",
      " [  30.   10.   20.    0.    1.   75.]]\n",
      "Cost corrected\n",
      "vertex = [0. 0. 0.], x_B = [4, 5]\n",
      "[[3140. 1300. 2350.    0.    0. 7800.]\n",
      " [   1.    2.    2.    1.    0.    3.]\n",
      " [  30.   10.   20.    0.    1.   75.]]\n",
      "vertex = [2.5 0.  0. ], x_B = [4, 1]\n",
      "[[   0.          253.33333333  256.66666667    0.         -104.66666667  -50.        ]\n",
      " [   0.            1.66666667    1.33333333    1.           -0.03333333    0.5       ]\n",
      " [   1.            0.33333333    0.66666667    0.            0.03333333    2.5       ]]\n",
      "vertex = [2.25  0.    0.375], x_B = [3, 1]\n",
      "[[   0.     -67.5      0.    -192.5    -98.25  -146.25 ]\n",
      " [   0.       1.25     1.       0.75    -0.025    0.375]\n",
      " [   1.      -0.5      0.      -0.5      0.05     2.25 ]]\n",
      "Delete artificial variables []\n",
      "x_B = [3, 1]\n",
      "[[   0.     -67.5      0.    -192.5    -98.25  -146.25 ]\n",
      " [   0.       1.25     1.       0.75    -0.025    0.375]\n",
      " [   1.      -0.5      0.      -0.5      0.05     2.25 ]]\n",
      "Optimal solution: x_opt = [2.25  0.    0.375]\n"
     ]
    }
   ],
   "source": [
    "M = 100\n",
    "A = [[1.0, 2, 2., 1, 0],\n",
    "     [30, 10, 20, 0, 1]]\n",
    "\n",
    "b = [3, 75.]\n",
    "c = [40, 100, 150., -M, -M]\n",
    "\n",
    "basic_var = [3, 4]\n",
    "\n",
    "tableau = build_tableau(A, b, c)\n",
    "tableau = big_M(tableau, basic_var, [])\n",
    "optimal_solution(tableau, basic_var)\n"
   ]
  },
  {
   "cell_type": "markdown",
   "metadata": {},
   "source": [
    "Method 2: Simplex"
   ]
  },
  {
   "cell_type": "code",
   "execution_count": 12,
   "metadata": {},
   "outputs": [
    {
     "name": "stdout",
     "output_type": "stream",
     "text": [
      "x_B = [0, 1]\n",
      "[[ 40. 100. 150.   0.]\n",
      " [  1.   2.   2.   3.]\n",
      " [ 30.  10.  20.  75.]]\n",
      "All tableau corrected\n",
      "vertex = [2.4], x_B = [1, 2]\n",
      "[[   0.     0.    54.  -126. ]\n",
      " [   1.     0.     0.4    2.4]\n",
      " [  -0.     1.     0.8    0.3]]\n",
      "vertex = [2.25], x_B = [1, 3]\n",
      "[[   0.     -67.5      0.    -146.25 ]\n",
      " [   1.      -0.5      0.       2.25 ]\n",
      " [  -0.       1.25     1.       0.375]]\n",
      "Optimal solution: x_opt = [2.25  0.    0.375]\n"
     ]
    }
   ],
   "source": [
    "A = [[1, 2, 2],\n",
    "     [30, 10, 20.]]\n",
    "\n",
    "b = [3, 75.]\n",
    "\n",
    "c = [40, 100, 150.]\n",
    "\n",
    "basic_var = [0, 1]\n",
    "\n",
    "tableau = build_tableau(A, b, c)\n",
    "print(f\"x_B = {basic_var}\\n{tableau}\")\n",
    "\n",
    "# correcting the coefficients different from zero in the basic var\n",
    "correct_all_tableau(tableau, basic_var)\n",
    "# simplex proccess\n",
    "tableau = simplex(tableau, basic_var)\n",
    "\n",
    "# Optimal solution for equality constraints\n",
    "x = np.zeros_like(c)\n",
    "x[basic_var] = tableau[1:, -1]\n",
    "print(\"Optimal solution: x_opt =\", x)\n"
   ]
  },
  {
   "cell_type": "markdown",
   "metadata": {},
   "source": [
    "#### Unbounded model"
   ]
  },
  {
   "cell_type": "code",
   "execution_count": 13,
   "metadata": {},
   "outputs": [
    {
     "name": "stdout",
     "output_type": "stream",
     "text": [
      "vertex = [0. 0.], x_B = [3, 4]\n",
      "[[ 0.  1.  0.  0.  0.]\n",
      " [ 1. -1.  1.  0.  1.]\n",
      " [-2.  1.  0.  1.  2.]]\n",
      "vertex = [0. 2.], x_B = [3, 2]\n",
      "[[ 2.  0.  0. -1. -2.]\n",
      " [-1.  0.  1.  1.  3.]\n",
      " [-2.  1.  0.  1.  2.]]\n",
      "The model is unbounded\n",
      "L = [0. 2. 3. 0.] + λ[-0.  2.  1. -0.]\n",
      "L = [0. 2.] + λ[-0.  2.]\n"
     ]
    }
   ],
   "source": [
    "A = [[1, -1, 1, 0.],\n",
    "     [-2, 1, 0, 1.]]\n",
    "\n",
    "b = [1, 2.0]\n",
    "\n",
    "c = [0, 1, 0, 0.0]\n",
    "\n",
    "tableau = build_tableau(A, b, c)\n",
    "\n",
    "basic_var=[2, 3]\n",
    "\n",
    "simplex(tableau, basic_var);\n",
    "\n"
   ]
  },
  {
   "cell_type": "markdown",
   "metadata": {},
   "source": [
    "### CM4E1 Curso: Programación Lineal y flujo en redes, Práctica Dirigida 4"
   ]
  },
  {
   "cell_type": "markdown",
   "metadata": {},
   "source": [
    "##### 2. Hallar una solución aplicando las tablas del método simplex"
   ]
  },
  {
   "cell_type": "markdown",
   "metadata": {},
   "source": [
    "a) Simplex method\n"
   ]
  },
  {
   "cell_type": "code",
   "execution_count": 14,
   "metadata": {},
   "outputs": [
    {
     "name": "stdout",
     "output_type": "stream",
     "text": [
      "vertex = [0. 0.], x_B = [3, 4, 5]\n",
      "[[4. 5. 0. 0. 0. 0.]\n",
      " [2. 1. 1. 0. 0. 9.]\n",
      " [1. 0. 0. 1. 0. 4.]\n",
      " [0. 1. 0. 0. 1. 3.]]\n",
      "vertex = [0. 3.], x_B = [3, 4, 2]\n",
      "[[  4.   0.   0.   0.  -5. -15.]\n",
      " [  2.   0.   1.   0.  -1.   6.]\n",
      " [  1.   0.   0.   1.   0.   4.]\n",
      " [  0.   1.   0.   0.   1.   3.]]\n",
      "vertex = [3. 3.], x_B = [1, 4, 2]\n",
      "[[  0.    0.   -2.    0.   -3.  -27. ]\n",
      " [  1.    0.    0.5   0.   -0.5   3. ]\n",
      " [  0.    0.   -0.5   1.    0.5   1. ]\n",
      " [  0.    1.    0.    0.    1.    3. ]]\n",
      "Optimal solution: x_opt = [3. 3.]\n"
     ]
    }
   ],
   "source": [
    "A = [[2, 1, 1, 0, 0],\n",
    "     [1, 0, 0, 1, 0],\n",
    "     [0, 1, 0, 0, 1.]]\n",
    "\n",
    "b = [9, 4, 3.]\n",
    "\n",
    "c = [4, 5, 0, 0, 0.]\n",
    "\n",
    "basic_var = [2, 3, 4]\n",
    "\n",
    "tableau = build_tableau(A, b, c)\n",
    "tableau = simplex(tableau, basic_var)\n",
    "optimal_solution(tableau, basic_var)\n"
   ]
  },
  {
   "cell_type": "markdown",
   "metadata": {},
   "source": [
    "b) Two-phases"
   ]
  },
  {
   "cell_type": "code",
   "execution_count": 15,
   "metadata": {},
   "outputs": [
    {
     "name": "stdout",
     "output_type": "stream",
     "text": [
      "x_B = [3, 4, 6]\n",
      "[[ 0.  0.  0.  0.  0. -1.  0.]\n",
      " [ 1.  1.  1.  0.  0.  0.  9.]\n",
      " [-2. -1.  0.  1.  0.  0.  4.]\n",
      " [ 0.  1.  0.  0. -1.  1.  3.]]\n",
      "Cost corrected\n",
      "x_B = [3, 4, 6]\n",
      "[[ 0.  1.  0.  0. -1.  0.  3.]\n",
      " [ 1.  1.  1.  0.  0.  0.  9.]\n",
      " [-2. -1.  0.  1.  0.  0.  4.]\n",
      " [ 0.  1.  0.  0. -1.  1.  3.]]\n",
      "Start phase One\n",
      "x_B = [3, 4, 2]\n",
      "[[ 0.  0.  0.  0.  0. -1.  0.]\n",
      " [ 1.  0.  1.  0.  1. -1.  6.]\n",
      " [-2.  0.  0.  1. -1.  1.  7.]\n",
      " [ 0.  1.  0.  0. -1.  1.  3.]]\n",
      "Delete artificial variables and create a new tableau [5]\n",
      "Start phase two, put original cost\n",
      "x_B = [3, 4, 2]\n",
      "[[ 4.  5.  0.  0.  0.  0.]\n",
      " [ 1.  0.  1.  0.  1.  6.]\n",
      " [-2.  0.  0.  1. -1.  7.]\n",
      " [ 0.  1.  0.  0. -1.  3.]]\n",
      "Cost corrected\n",
      "vertex = [0. 3.], x_B = [3, 4, 2]\n",
      "[[  4.   0.   0.   0.   5. -15.]\n",
      " [  1.   0.   1.   0.   1.   6.]\n",
      " [ -2.   0.   0.   1.  -1.   7.]\n",
      " [  0.   1.   0.   0.  -1.   3.]]\n",
      "vertex = [0. 9.], x_B = [5, 4, 2]\n",
      "[[ -1.   0.  -5.   0.   0. -45.]\n",
      " [  1.   0.   1.   0.   1.   6.]\n",
      " [ -1.   0.   1.   1.   0.  13.]\n",
      " [  1.   1.   1.   0.   0.   9.]]\n",
      "Optimal solution: x_opt = [0. 9.]\n"
     ]
    }
   ],
   "source": [
    "# problema b \n",
    "A = [[1., 1., 1, 0, 0, 0],\n",
    "     [-2, -1, 0, 1, 0, 0],\n",
    "     [0., 1., 0, 0, -1, 1]]\n",
    "\n",
    "b = [9, 4, 3.]\n",
    "\n",
    "c = [4, 5, 0, 0.0, 0.0]\n",
    "c_artificial = [0., 0., 0, 0, 0, -1]\n",
    "\n",
    "basic_var = [2, 3, 5]\n",
    "artificial_var = [5]\n",
    "\n",
    "tableau = build_tableau(A, b, c_artificial)\n",
    "tableau = two_phases(tableau, c, basic_var, artificial_var)\n",
    "optimal_solution(tableau, basic_var)\n"
   ]
  },
  {
   "cell_type": "markdown",
   "metadata": {},
   "source": [
    "b) With Big-M method"
   ]
  },
  {
   "cell_type": "code",
   "execution_count": 16,
   "metadata": {},
   "outputs": [
    {
     "name": "stdout",
     "output_type": "stream",
     "text": [
      "x_B = [3, 4, 6]\n",
      "[[  4.   5.   0.   0.   0. -10.   0.]\n",
      " [  1.   1.   1.   0.   0.   0.   9.]\n",
      " [ -2.  -1.   0.   1.   0.   0.   4.]\n",
      " [  0.   1.   0.   0.  -1.   1.   3.]]\n",
      "Cost corrected\n",
      "vertex = [0. 0. 9.], x_B = [3, 4, 6]\n",
      "[[  4.  15.   0.   0. -10.   0.  30.]\n",
      " [  1.   1.   1.   0.   0.   0.   9.]\n",
      " [ -2.  -1.   0.   1.   0.   0.   4.]\n",
      " [  0.   1.   0.   0.  -1.   1.   3.]]\n",
      "vertex = [0. 3. 6.], x_B = [3, 4, 2]\n",
      "[[  4.   0.   0.   0.   5. -15. -15.]\n",
      " [  1.   0.   1.   0.   1.  -1.   6.]\n",
      " [ -2.   0.   0.   1.  -1.   1.   7.]\n",
      " [  0.   1.   0.   0.  -1.   1.   3.]]\n",
      "vertex = [0. 9. 0.], x_B = [5, 4, 2]\n",
      "[[ -1.   0.  -5.   0.   0. -10. -45.]\n",
      " [  1.   0.   1.   0.   1.  -1.   6.]\n",
      " [ -1.   0.   1.   1.   0.   0.  13.]\n",
      " [  1.   1.   1.   0.   0.   0.   9.]]\n",
      "Delete artificial variables [5]\n",
      "x_B = [5, 4, 2]\n",
      "[[ -1.   0.  -5.   0.   0. -45.]\n",
      " [  1.   0.   1.   0.   1.   6.]\n",
      " [ -1.   0.   1.   1.   0.  13.]\n",
      " [  1.   1.   1.   0.   0.   9.]]\n",
      "Optimal solution: x_opt = [0. 9.]\n"
     ]
    }
   ],
   "source": [
    "M = 10\n",
    "\n",
    "A = [[1., 1., 1, 0, 0, 0],\n",
    "     [-2, -1, 0, 1, 0, 0],\n",
    "     [0., 1., 0, 0, -1, 1]]\n",
    "\n",
    "b = [9, 4, 3.]\n",
    "\n",
    "c = [4, 5, 0, 0, 0, -M]\n",
    "\n",
    "basic_var = [2, 3, 5]\n",
    "artificial_var = [5]\n",
    "\n",
    "tableau = build_tableau(A, b, c)\n",
    "tableau = big_M(tableau, basic_var, artificial_var)\n",
    "optimal_solution(tableau, basic_var)\n"
   ]
  },
  {
   "cell_type": "markdown",
   "metadata": {},
   "source": [
    "##### 6. Resolver por el método de dos faces el siguiente LO"
   ]
  },
  {
   "cell_type": "code",
   "execution_count": 17,
   "metadata": {},
   "outputs": [
    {
     "name": "stdout",
     "output_type": "stream",
     "text": [
      "x_B = [5, 6]\n",
      "[[ 0.  0.  0.  0. -1. -1.  0.]\n",
      " [ 4.  2. -1.  0.  1.  0. 12.]\n",
      " [ 1.  4.  0. -1.  0.  1.  6.]]\n",
      "Cost corrected\n",
      "x_B = [5, 6]\n",
      "[[ 5.  6. -1. -1.  0.  0. 18.]\n",
      " [ 4.  2. -1.  0.  1.  0. 12.]\n",
      " [ 1.  4.  0. -1.  0.  1.  6.]]\n",
      "Start phase One\n",
      "x_B = [5, 2]\n",
      "[[ 3.5   0.   -1.    0.5   0.   -1.5   9.  ]\n",
      " [ 3.5   0.   -1.    0.5   1.   -0.5   9.  ]\n",
      " [ 0.25  1.    0.   -0.25  0.    0.25  1.5 ]]\n",
      "x_B = [1, 2]\n",
      "[[ 0.          0.          0.          0.         -1.         -1.          0.        ]\n",
      " [ 1.          0.         -0.28571429  0.14285714  0.28571429 -0.14285714  2.57142857]\n",
      " [ 0.          1.          0.07142857 -0.28571429 -0.07142857  0.28571429  0.85714286]]\n",
      "Delete artificial variables and create a new tableau [4, 5]\n",
      "Start phase two, put original cost\n",
      "x_B = [1, 2]\n",
      "[[-2.         -3.          0.          0.          0.        ]\n",
      " [ 1.          0.         -0.28571429  0.14285714  2.57142857]\n",
      " [ 0.          1.          0.07142857 -0.28571429  0.85714286]]\n",
      "Cost corrected\n",
      "vertex = [2.57142857 0.85714286], x_B = [1, 2]\n",
      "[[ 0.          0.         -0.35714286 -0.57142857  7.71428571]\n",
      " [ 1.          0.         -0.28571429  0.14285714  2.57142857]\n",
      " [ 0.          1.          0.07142857 -0.28571429  0.85714286]]\n",
      "Optimal solution: x_opt = [2.57142857 0.85714286]\n"
     ]
    }
   ],
   "source": [
    "A = [[4., 2, -1, 0, 1, 0],\n",
    "     [1., 4., 0, -1, 0, 1]]\n",
    "\n",
    "b = [12, 6.0]\n",
    "\n",
    "c_artificial = [0., 0., 0, 0, -1, -1]\n",
    "c = [-2, -3., 0, 0]\n",
    "\n",
    "basic_var = [4, 5]\n",
    "artificial_var = [4, 5]\n",
    "\n",
    "tableau = build_tableau(A, b, c_artificial)\n",
    "tableau = two_phases(tableau, c, basic_var, artificial_var)\n",
    "optimal_solution(tableau, basic_var)\n"
   ]
  },
  {
   "cell_type": "code",
   "execution_count": 18,
   "metadata": {},
   "outputs": [
    {
     "name": "stdout",
     "output_type": "stream",
     "text": [
      "x_B = [3, 5]\n",
      "[[ 0.  0.  0.  0. -1.  0.]\n",
      " [ 1.  1.  1.  0.  0. 10.]\n",
      " [-1.  2.  0. -1.  1.  2.]]\n",
      "Cost corrected\n",
      "x_B = [3, 5]\n",
      "[[-1.  2.  0. -1.  0.  2.]\n",
      " [ 1.  1.  1.  0.  0. 10.]\n",
      " [-1.  2.  0. -1.  1.  2.]]\n",
      "Start phase One\n",
      "x_B = [3, 2]\n",
      "[[ 0.   0.   0.   0.  -1.   0. ]\n",
      " [ 1.5  0.   1.   0.5 -0.5  9. ]\n",
      " [-0.5  1.   0.  -0.5  0.5  1. ]]\n",
      "Delete artificial variables and create a new tableau [4]\n",
      "Start phase two, put original cost\n",
      "x_B = [3, 2]\n",
      "[[ 2.   2.   0.   0.   0. ]\n",
      " [ 1.5  0.   1.   0.5  9. ]\n",
      " [-0.5  1.   0.  -0.5  1. ]]\n",
      "Cost corrected\n",
      "vertex = [0. 1.], x_B = [3, 2]\n",
      "[[ 3.   0.   0.   1.  -2. ]\n",
      " [ 1.5  0.   1.   0.5  9. ]\n",
      " [-0.5  1.   0.  -0.5  1. ]]\n",
      "vertex = [6. 4.], x_B = [1, 2]\n",
      "[[  0.           0.          -2.           0.         -20.        ]\n",
      " [  1.           0.           0.66666667   0.33333333   6.        ]\n",
      " [  0.           1.           0.33333333  -0.33333333   4.        ]]\n",
      "Optimal solution: x_opt = [6. 4.]\n"
     ]
    }
   ],
   "source": [
    "A = [[1., 1, 1, 0., 0],\n",
    "     [-1, 2, 0, -1, 1]]\n",
    "\n",
    "b = [10, 2.0]\n",
    "\n",
    "c_artificial = [0., 0., 0, 0, -1]\n",
    "c = [2, 2., 0, 0]\n",
    "\n",
    "basic_var = [2, 4]\n",
    "artificial_var = [4]\n",
    "\n",
    "tableau = build_tableau(A, b, c_artificial)\n",
    "tableau = two_phases(tableau, c, basic_var, artificial_var)\n",
    "optimal_solution(tableau, basic_var)\n"
   ]
  },
  {
   "cell_type": "markdown",
   "metadata": {},
   "source": [
    "##### 7. Aplicar el algoritmo simplex considerando como inicio la solución básica factible asociado al vértice (1, 0) del siguiente LO:"
   ]
  },
  {
   "cell_type": "code",
   "execution_count": 19,
   "metadata": {},
   "outputs": [
    {
     "name": "stdout",
     "output_type": "stream",
     "text": [
      "x_B = [7, 1, 4, 5]\n",
      "[[ 0.  0.  0.  0.  0.  0. -1.  0.]\n",
      " [ 1.  1. -1.  0.  0.  0.  1.  1.]\n",
      " [-1.  1.  0.  1.  0.  0.  0.  2.]\n",
      " [ 2.  1.  0.  0.  1.  0.  0.  8.]\n",
      " [ 1.  0.  0.  0.  0.  1.  0.  3.]]\n",
      "Cost corrected\n",
      "x_B = [7, 1, 4, 5]\n",
      "[[ 3.  1. -1. -1.  1. -1.  0.  4.]\n",
      " [ 1.  1. -1.  0.  0.  0.  1.  1.]\n",
      " [-1.  1.  0.  1.  0.  0.  0.  2.]\n",
      " [ 2.  1.  0.  0.  1.  0.  0.  8.]\n",
      " [ 1.  0.  0.  0.  0.  1.  0.  3.]]\n",
      "Start phase One\n",
      "x_B = [1, 1, 4, 5]\n",
      "[[ 0. -2.  2. -1.  1. -1. -3.  1.]\n",
      " [ 1.  1. -1.  0.  0.  0.  1.  1.]\n",
      " [ 0.  2. -1.  1.  0.  0.  1.  3.]\n",
      " [ 0. -1.  2.  0.  1.  0. -2.  6.]\n",
      " [ 0. -1.  1.  0.  0.  1. -1.  2.]]\n",
      "Delete artificial variables and create a new tableau [6]\n",
      "Start phase two, put original cost\n",
      "x_B = [1, 1, 4, 5]\n",
      "[[ 1.  1.  0.  0.  0.  0.  0.]\n",
      " [ 1.  1. -1.  0.  0.  0.  1.]\n",
      " [ 0.  2. -1.  1.  0.  0.  3.]\n",
      " [ 0. -1.  2.  0.  1.  0.  6.]\n",
      " [ 0. -1.  1.  0.  0.  1.  2.]]\n",
      "Cost corrected\n",
      "vertex = [3. 0.], x_B = [1, 1, 4, 5]\n",
      "[[ 0.  0.  1.  0.  0.  0. -1.]\n",
      " [ 1.  1. -1.  0.  0.  0.  1.]\n",
      " [ 0.  2. -1.  1.  0.  0.  3.]\n",
      " [ 0. -1.  2.  0.  1.  0.  6.]\n",
      " [ 0. -1.  1.  0.  0.  1.  2.]]\n",
      "vertex = [5. 0.], x_B = [1, 1, 4, 3]\n",
      "[[ 0.  1.  0.  0.  0. -1. -3.]\n",
      " [ 1.  0.  0.  0.  0.  1.  3.]\n",
      " [ 0.  1.  0.  1.  0.  1.  5.]\n",
      " [ 0.  1.  0.  0.  1. -2.  2.]\n",
      " [ 0. -1.  1.  0.  0.  1.  2.]]\n",
      "vertex = [3. 2.], x_B = [1, 1, 2, 3]\n",
      "[[ 0.  0.  0.  0. -1.  1. -5.]\n",
      " [ 1.  0.  0.  0.  0.  1.  3.]\n",
      " [ 0.  0.  0.  1. -1.  3.  3.]\n",
      " [ 0.  1.  0.  0.  1. -2.  2.]\n",
      " [ 0.  0.  1.  0.  1. -1.  4.]]\n",
      "vertex = [2. 4.], x_B = [1, 6, 2, 3]\n",
      "[[ 0.          0.          0.         -0.33333333 -0.66666667  0.         -6.        ]\n",
      " [ 1.          0.          0.         -0.33333333  0.33333333  0.          2.        ]\n",
      " [ 0.          0.          0.          0.33333333 -0.33333333  1.          1.        ]\n",
      " [ 0.          1.          0.          0.66666667  0.33333333  0.          4.        ]\n",
      " [ 0.          0.          1.          0.33333333  0.66666667  0.          5.        ]]\n",
      "Optimal solution: x_opt = [2. 4.]\n"
     ]
    }
   ],
   "source": [
    "A = [[1, 1, -1, 0, 0, 0, 1],\n",
    "     [-1, 1, 0, 1, 0, 0, 0],\n",
    "     [2, 1, 0, 0., 1, 0, 0],\n",
    "     [1, 0, 0, 0., 0, 1, 0]]\n",
    "\n",
    "b = [1, 2, 8, 3]\n",
    "\n",
    "c_artificial = [0, 0, 0, 0, 0, 0, -1.0]\n",
    "c = [1, 1, 0, 0, 0, 0, 0]\n",
    "\n",
    "basic_var = [6, 0, 3, 4]\n",
    "artificial_var = [6]\n",
    "\n",
    "tableau = build_tableau(A, b, c_artificial)\n",
    "\n",
    "tableau = two_phases(tableau, c, basic_var, artificial_var)\n",
    "optimal_solution(tableau, basic_var)\n"
   ]
  },
  {
   "cell_type": "markdown",
   "metadata": {},
   "source": [
    "9. Resolver por el método de dos faces el siguiente LO"
   ]
  },
  {
   "cell_type": "code",
   "execution_count": 20,
   "metadata": {},
   "outputs": [
    {
     "name": "stdout",
     "output_type": "stream",
     "text": [
      "x_B = [3, 5]\n",
      "[[ 0.  0.  0.  0.  0. -1.  0.]\n",
      " [ 1.  1.  1.  1.  0.  0.  1.]\n",
      " [ 4.  1.  6.  0. -1.  1.  2.]]\n",
      "Cost corrected\n",
      "x_B = [3, 5]\n",
      "[[ 0.  0.  0.  0.  0. -1.  0.]\n",
      " [ 1.  1.  1.  1.  0.  0.  1.]\n",
      " [ 4.  1.  6.  0. -1.  1.  2.]]\n",
      "Start phase One\n",
      "x_B = [3, 1]\n",
      "[[ 0.    0.    0.    0.    0.   -1.    0.  ]\n",
      " [ 0.    0.75 -0.5   1.    0.25 -0.25  0.5 ]\n",
      " [ 1.    0.25  1.5   0.   -0.25  0.25  0.5 ]]\n",
      "Delete artificial variables and create a new tableau [4]\n",
      "Start phase two, put original cost\n",
      "x_B = [3, 1]\n",
      "[[ 3.    3.    0.    0.    0.    0.  ]\n",
      " [ 0.    0.75 -0.5   1.   -0.25  0.5 ]\n",
      " [ 1.    0.25  1.5   0.    0.25  0.5 ]]\n",
      "Cost corrected\n",
      "vertex = [0.5 0.  0.5], x_B = [3, 1]\n",
      "[[ 0.    2.25 -4.5   0.   -0.75 -1.5 ]\n",
      " [ 0.    0.75 -0.5   1.   -0.25  0.5 ]\n",
      " [ 1.    0.25  1.5   0.    0.25  0.5 ]]\n",
      "vertex = [0.33333333 0.66666667 0.        ], x_B = [2, 1]\n",
      "[[ 0.          0.         -3.         -3.          0.         -3.        ]\n",
      " [ 0.          1.         -0.66666667  1.33333333 -0.33333333  0.66666667]\n",
      " [ 1.          0.          1.66666667 -0.33333333  0.33333333  0.33333333]]\n",
      "Optimal solution: x_opt = [0.33333333 0.66666667 0.        ]\n"
     ]
    }
   ],
   "source": [
    "A = [[1, 1, 1, 1., 0, 0.],\n",
    "     [4, 1, 6, 0, -1, 1]]\n",
    "\n",
    "b = [1, 2.]\n",
    "\n",
    "c_artificial = [0., 0., 0, 0, 0, -1]\n",
    "c = [3, 3., 0, 0, 0.0]\n",
    "\n",
    "basic_var = [2, 4]\n",
    "artificial_var = [4]\n",
    "\n",
    "tableau = build_tableau(A, b, c_artificial)\n",
    "tableau = two_phases(tableau, c, basic_var, artificial_var)\n",
    "optimal_solution(tableau, basic_var)\n"
   ]
  },
  {
   "cell_type": "markdown",
   "metadata": {},
   "source": [
    "### CM4E1 Curso: Práctica Calificada 3"
   ]
  },
  {
   "cell_type": "markdown",
   "metadata": {},
   "source": [
    "##### 3. Determinar el valor óptimo (si existe solución) del siguiente LO\n",
    "\n",
    "\\begin{align*}\n",
    "-\\max \\quad  -x_1& - 2x_2& +3x_3& - 3x_4& \\\\\n",
    "\\text { s.t. } \\quad  3x_1& +2x_2& - x_3& + x_4& + x_5& {}   {}& {} {}& &= 1\\\\\n",
    "                      x_1& - 3x_2& + 2x_3& -2x_4& {} {}& - {x_6}& + x_7& &=6 \\\\\n",
    "                      x_1&\\ge0,&x_2 \\ge0,&x_3 \\ge0,&x_4 \\ge0,& x_5\\ge0,&x_6 \\ge0,& x_7\\ge0&\n",
    "\\end{align*}"
   ]
  },
  {
   "cell_type": "code",
   "execution_count": 21,
   "metadata": {},
   "outputs": [
    {
     "name": "stdout",
     "output_type": "stream",
     "text": [
      "x_B = [5, 7]\n",
      "[[ 0.  0.  0.  0.  0.  0. -1.  0.]\n",
      " [ 3.  2. -1.  1.  1.  0.  0.  1.]\n",
      " [ 1. -3.  2. -2.  0. -1.  1.  6.]]\n",
      "Cost corrected\n",
      "x_B = [5, 7]\n",
      "[[ 1. -3.  2. -2.  0. -1.  0.  6.]\n",
      " [ 3.  2. -1.  1.  1.  0.  0.  1.]\n",
      " [ 1. -3.  2. -2.  0. -1.  1.  6.]]\n",
      "Start phase One\n",
      "x_B = [5, 3]\n",
      "[[ 0.   0.   0.   0.   0.   0.  -1.   0. ]\n",
      " [ 3.5  0.5  0.   0.   1.  -0.5  0.5  4. ]\n",
      " [ 0.5 -1.5  1.  -1.   0.  -0.5  0.5  3. ]]\n",
      "Delete artificial variables and create a new tableau [6]\n",
      "Start phase two, put original cost\n",
      "x_B = [5, 3]\n",
      "[[-1.  -2.   3.  -3.   0.   0.   0. ]\n",
      " [ 3.5  0.5  0.   0.   1.  -0.5  4. ]\n",
      " [ 0.5 -1.5  1.  -1.   0.  -0.5  3. ]]\n",
      "Cost corrected\n",
      "vertex = [0. 0. 3. 0.], x_B = [5, 3]\n",
      "[[-2.5  2.5  0.   0.   0.   1.5 -9. ]\n",
      " [ 3.5  0.5  0.   0.   1.  -0.5  4. ]\n",
      " [ 0.5 -1.5  1.  -1.   0.  -0.5  3. ]]\n",
      "vertex = [ 0.  8. 15.  0.], x_B = [2, 3]\n",
      "[[-20.   0.   0.   0.  -5.   4. -29.]\n",
      " [  7.   1.   0.   0.   2.  -1.   8.]\n",
      " [ 11.   0.   1.  -1.   3.  -2.  15.]]\n",
      "The model is unbounded\n",
      "L = [ 0.  8. 15.  0.  0.  0.] + λ[-0.  1.  2. -0. -0. -0.]\n",
      "L = [ 0.  8. 15.  0.] + λ[-0.  1.  2. -0.]\n"
     ]
    }
   ],
   "source": [
    "A = [[3, 2., -1, 1, 1, 0., 0],\n",
    "     [1, -3, 2, -2, 0, -1, 1]]\n",
    "b = [1, 6.]\n",
    "\n",
    "c = [-1, -2, 3, -3, 0., 0, 0]\n",
    "c_artificial = [0, 0, 0, 0, 0, 0, -1]\n",
    "\n",
    "tableau = build_tableau(A, b, c_artificial)\n",
    "\n",
    "basic_var = [4, 6]\n",
    "artificial_var = [6]\n",
    "tableau = two_phases(tableau, c, basic_var, artificial_var)"
   ]
  },
  {
   "cell_type": "markdown",
   "metadata": {},
   "source": [
    "##### 4.\tElaborar un algoritmo que al ingresar una tabla simplex (cuya información es representada en una matriz y un vector que indica cuales son las variables básicas asociadas), indique si es correcto la tabla y obtenga el LO original asociado."
   ]
  },
  {
   "cell_type": "code",
   "execution_count": 31,
   "metadata": {},
   "outputs": [
    {
     "name": "stdout",
     "output_type": "stream",
     "text": [
      "Si es una tabla simplex, cuyo LO original asociado es\n"
     ]
    },
    {
     "data": {
      "text/latex": [
       "$\\max3 x_{1} + 2 x_{2}\\\\\\text{subject to}\\\\\\left[\\begin{matrix}1 & 1\\\\3 & 1\\\\1 & 0\\\\0 & 1\\end{matrix}\\right]\\left[\\begin{matrix}x_{1}\\\\x_{2}\\end{matrix}\\right]\\le\\left[\\begin{matrix}9\\\\18\\\\7\\\\6\\end{matrix}\\right]$"
      ]
     },
     "metadata": {},
     "output_type": "display_data"
    },
    {
     "data": {
      "text/plain": [
       "True"
      ]
     },
     "execution_count": 31,
     "metadata": {},
     "output_type": "execute_result"
    }
   ],
   "source": [
    "tableau = sp.Matrix([[3, 2, 0, 0, 0, 0, 0],\n",
    "                     [1, 1, 1, 0, 0, 0, 9],\n",
    "                     [3, 1, 0, 1, 0, 0, 18],\n",
    "                     [1, 0, 0, 0, 1, 0, 7],\n",
    "                     [0, 1, 0, 0, 0, 1, 6]])\n",
    "\n",
    "basic_var = [2, 3, 4, 5]\n",
    "check_tableau(tableau, basic_var)\n"
   ]
  },
  {
   "cell_type": "code",
   "execution_count": 29,
   "metadata": {},
   "outputs": [
    {
     "name": "stdout",
     "output_type": "stream",
     "text": [
      "Si es una tabla simplex, cuyo LO original asociado es\n"
     ]
    },
    {
     "data": {
      "text/latex": [
       "$\\max- 1.5 x_{3} - 0.5 x_{4}\\\\\\text{subject to}\\\\\\left[\\begin{matrix}0 & 1 & 1.5 & 0.5 & 0 & 0\\\\1 & 0 & -0.5 & 0.5 & 0 & 0\\\\0 & 0 & 0.5 & -0.5 & 1 & 0\\\\0 & 0 & -1.5 & 0.5 & 0 & 1\\end{matrix}\\right]\\left[\\begin{matrix}x_{1}\\\\x_{2}\\\\x_{3}\\\\x_{4}\\\\x_{5}\\\\x_{6}\\end{matrix}\\right]=\\left[\\begin{matrix}4.5\\\\4.5\\\\2.5\\\\1.5\\end{matrix}\\right]$"
      ]
     },
     "metadata": {},
     "output_type": "display_data"
    },
    {
     "data": {
      "text/plain": [
       "True"
      ]
     },
     "execution_count": 29,
     "metadata": {},
     "output_type": "execute_result"
    }
   ],
   "source": [
    "tableau = sp.Matrix([[0, 0, -3/2, -1/2, 0, 0, -45/2],\n",
    "                     [0, 1,  3/2,  1/2, 0, 0, 9/2],\n",
    "                     [1, 0, -1/2,  1/2, 0, 0, 9/2],\n",
    "                     [0, 0,  1/2, -1/2, 1, 0, 5/2],\n",
    "                     [0, 0, -3/2,  1/2, 0, 1, 3/2]])\n",
    "\n",
    "basic_var = [1, 0, 4, 5]\n",
    "check_tableau(tableau, basic_var, True)\n"
   ]
  },
  {
   "cell_type": "code",
   "execution_count": 30,
   "metadata": {},
   "outputs": [
    {
     "name": "stdout",
     "output_type": "stream",
     "text": [
      "vertex = [0. 0. 0. 0.], x_B = [5, 6]\n",
      "[[ 2.  4. 10. 15.  0.  0.  0.]\n",
      " [-1.  1.  1.  3.  1.  0.  1.]\n",
      " [ 1. -1.  2.  1.  0.  1.  1.]]\n",
      "vertex = [0.         0.         0.         0.33333333], x_B = [4, 6]\n",
      "[[ 7.         -1.          5.          0.         -5.          0.         -5.        ]\n",
      " [-0.33333333  0.33333333  0.33333333  1.          0.33333333  0.          0.33333333]\n",
      " [ 1.33333333 -1.33333333  1.66666667  0.         -0.33333333  1.          0.66666667]]\n",
      "vertex = [0.5 0.  0.  0.5], x_B = [4, 1]\n",
      "[[ 0.    6.   -3.75  0.   -3.25 -5.25 -8.5 ]\n",
      " [ 0.    0.    0.75  1.    0.25  0.25  0.5 ]\n",
      " [ 1.   -1.    1.25  0.   -0.25  0.75  0.5 ]]\n",
      "The model is unbounded\n",
      "L = [0.5 0.  0.  0.5 0.  0. ] + λ[ 1. -0. -0. -0. -0. -0.]\n",
      "L = [0.5 0.  0.  0.5] + λ[ 1. -0. -0. -0.]\n"
     ]
    }
   ],
   "source": [
    "A = [[-1, 1, 1, 3, 1, 0],\n",
    "     [1, -1, 2, 1, 0, 1.]]\n",
    "\n",
    "b = [1, 1.]\n",
    "\n",
    "c = [2, 4, 10, 15., 0, 0]\n",
    "\n",
    "basic_var = [4, 5]\n",
    "\n",
    "tableau = build_tableau(A, b, c)\n",
    "simplex(tableau, basic_var);\n"
   ]
  }
 ],
 "metadata": {
  "interpreter": {
   "hash": "590f4a299ae404e723bbc5f32e9a7b98b836c3c65ce9112bc934ac92a06ceee3"
  },
  "kernelspec": {
   "display_name": "Python 3.10.4 64-bit",
   "language": "python",
   "name": "python3"
  },
  "language_info": {
   "codemirror_mode": {
    "name": "ipython",
    "version": 3
   },
   "file_extension": ".py",
   "mimetype": "text/x-python",
   "name": "python",
   "nbconvert_exporter": "python",
   "pygments_lexer": "ipython3",
   "version": "3.10.5"
  },
  "orig_nbformat": 4
 },
 "nbformat": 4,
 "nbformat_minor": 2
}
