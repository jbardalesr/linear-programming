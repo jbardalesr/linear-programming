{
 "cells": [
  {
   "cell_type": "markdown",
   "metadata": {},
   "source": [
    "# Practica Dirigida 1\n",
    "Pregunta 1"
   ]
  },
  {
   "cell_type": "code",
   "execution_count": 1,
   "metadata": {},
   "outputs": [
    {
     "data": {
      "text/plain": [
       "     con: array([], dtype=float64)\n",
       "     fun: 77.77777777777777\n",
       " message: 'Optimization terminated successfully.'\n",
       "     nit: 3\n",
       "   slack: array([ 7.22222222e+01, -1.42108547e-14])\n",
       "  status: 0\n",
       " success: True\n",
       "       x: array([2.22044605e-16, 7.77777778e+00])"
      ]
     },
     "execution_count": 1,
     "metadata": {},
     "output_type": "execute_result"
    }
   ],
   "source": [
    "from scipy.optimize import linprog\n",
    "\n",
    "# problem a\n",
    "c = [20, 10]\n",
    "\n",
    "A = [[-30, -17],\n",
    "     [-5, -9]]\n",
    "\n",
    "b = [-60, -70]\n",
    "\n",
    "x0_bounds = (0, None)\n",
    "x1_bounds = (0, None)\n",
    "\n",
    "# minimize a standard form\n",
    "res = linprog(c, A_ub=A, b_ub=b, bounds=[\n",
    "              x0_bounds, x1_bounds], method=\"revised simplex\")\n",
    "res\n"
   ]
  },
  {
   "cell_type": "code",
   "execution_count": 2,
   "metadata": {},
   "outputs": [],
   "source": [
    "from itertools import combinations\n",
    "import itertools\n",
    "import math\n",
    "import numpy as np\n",
    "\n",
    "def show_combinations_np(A, b, c):\n",
    "    m, n = A.shape\n",
    "    comb = combinations(range(m), n)\n",
    "\n",
    "    for i in list(comb):\n",
    "        A_inv = np.linalg.inv(A[list(i)])\n",
    "        x = A_inv@b[list(i)]\n",
    "        print(f\"x={x}, c={np.dot(c, x)}\")"
   ]
  },
  {
   "cell_type": "code",
   "execution_count": 3,
   "metadata": {},
   "outputs": [
    {
     "name": "stdout",
     "output_type": "stream",
     "text": [
      "x=[0.47058824 3.52941176], c=12.235294117647058\n",
      "x=[0.25 3.75], c=10.25\n",
      "x=[-1.  5.], c=-1.0\n",
      "x=[0. 4.], c=8.0\n",
      "x=[4. 0.], c=44.0\n",
      "x=[0.4 3. ], c=10.400000000000002\n",
      "x=[0.31578947 2.36842105], c=8.210526315789473\n",
      "x=[0. 0.], c=0.0\n",
      "x=[0. 0.], c=0.0\n",
      "x=[0.66666667 1.66666667], c=10.666666666666668\n",
      "x=[0. 5.], c=10.0\n",
      "x=[1. 0.], c=11.0\n",
      "x=[0. 3.], c=6.0\n",
      "x=[1.5 0. ], c=16.5\n",
      "x=[0. 0.], c=0.0\n"
     ]
    }
   ],
   "source": [
    "c = [11, 2]\n",
    "\n",
    "A = np.array([[1, 1],\n",
    "              [15, -2],\n",
    "              [5, 1],\n",
    "              [2, 1],\n",
    "              [1, 0],\n",
    "              [0, 1]])\n",
    "\n",
    "b = np.array([4, 0, 5, 3, 0, 0])\n",
    "\n",
    "show_combinations_np(A, b, c)\n"
   ]
  },
  {
   "cell_type": "code",
   "execution_count": 4,
   "metadata": {},
   "outputs": [],
   "source": [
    "from itertools import combinations\n",
    "import itertools\n",
    "import math\n",
    "import sympy as sp\n",
    "from IPython.display import display_markdown, Markdown\n",
    "\n",
    "\n",
    "def show_combinations(A, b, c):\n",
    "    m, n = A.shape\n",
    "    comb = combinations(range(m), n)\n",
    "\n",
    "    print(\"Number of combinations:\", math.comb(m, n))\n",
    "    for i in list(comb):\n",
    "        A_inv = sp.Matrix.inv(A.row(i))\n",
    "        x = A_inv@b.row(i)\n",
    "\n",
    "        show = True\n",
    "        for j in range(m):\n",
    "            if not A.row(j).dot(x) <= b[j]:\n",
    "                show = False\n",
    "                break\n",
    "        if show: \n",
    "            display_markdown(Markdown(f\"$A^{{-1}}={sp.latex(A_inv)}\\quad x{i}={sp.latex(x)}\\quad c={c.dot(x).evalf()}$\"))\n"
   ]
  },
  {
   "cell_type": "markdown",
   "metadata": {},
   "source": [
    "### Exercise 1.8.3 b"
   ]
  },
  {
   "cell_type": "code",
   "execution_count": 5,
   "metadata": {},
   "outputs": [
    {
     "name": "stdout",
     "output_type": "stream",
     "text": [
      "Number of combinations: 15\n"
     ]
    }
   ],
   "source": [
    "## A.row(j).dot(x) >= b[j]: OK \n",
    "c = sp.Matrix([11, 2])\n",
    "\n",
    "A = sp.Matrix([[-1, -1],\n",
    "               [15, -2],\n",
    "               [5, 1],\n",
    "               [2, 1],\n",
    "               [1, 0],\n",
    "               [0, 1]])\n",
    "\n",
    "b = sp.Matrix([-4, 0, 5, 3, 0, 0])\n",
    "\n",
    "show_combinations(A, b, c)"
   ]
  },
  {
   "cell_type": "markdown",
   "metadata": {},
   "source": [
    "### PD2 2"
   ]
  },
  {
   "cell_type": "code",
   "execution_count": 6,
   "metadata": {},
   "outputs": [
    {
     "name": "stdout",
     "output_type": "stream",
     "text": [
      "Number of combinations: 4\n"
     ]
    },
    {
     "data": {
      "text/markdown": [
       "$A^{-1}=\\left[\\begin{matrix}0 & -1 & 0\\\\0 & 0 & -1\\\\1 & 1 & 1\\end{matrix}\\right]\\quad x(0, 1, 2)=\\left[\\begin{matrix}0\\\\0\\\\1\\end{matrix}\\right]\\quad c=-4.00000000000000$"
      ]
     },
     "metadata": {},
     "output_type": "display_data"
    },
    {
     "data": {
      "text/markdown": [
       "$A^{-1}=\\left[\\begin{matrix}0 & -1 & 0\\\\1 & 1 & 1\\\\0 & 0 & -1\\end{matrix}\\right]\\quad x(0, 1, 3)=\\left[\\begin{matrix}0\\\\1\\\\0\\end{matrix}\\right]\\quad c=-3.00000000000000$"
      ]
     },
     "metadata": {},
     "output_type": "display_data"
    },
    {
     "data": {
      "text/markdown": [
       "$A^{-1}=\\left[\\begin{matrix}1 & 1 & 1\\\\0 & -1 & 0\\\\0 & 0 & -1\\end{matrix}\\right]\\quad x(0, 2, 3)=\\left[\\begin{matrix}1\\\\0\\\\0\\end{matrix}\\right]\\quad c=2.00000000000000$"
      ]
     },
     "metadata": {},
     "output_type": "display_data"
    },
    {
     "data": {
      "text/markdown": [
       "$A^{-1}=\\left[\\begin{matrix}-1 & 0 & 0\\\\0 & -1 & 0\\\\0 & 0 & -1\\end{matrix}\\right]\\quad x(1, 2, 3)=\\left[\\begin{matrix}0\\\\0\\\\0\\end{matrix}\\right]\\quad c=0$"
      ]
     },
     "metadata": {},
     "output_type": "display_data"
    }
   ],
   "source": [
    "## A.row(j).dot(x) <= b[j]: OK \n",
    "c = sp.Matrix([2, -3, -4])\n",
    "\n",
    "A = sp.Matrix([[1, 1, 1],\n",
    "               [-1, 0, 0],\n",
    "               [0, -1, 0],\n",
    "               [0, 0, -1]])\n",
    "b = sp.Matrix([1, 0, 0, 0])\n",
    "\n",
    "show_combinations(A, b, c)"
   ]
  },
  {
   "cell_type": "code",
   "execution_count": null,
   "metadata": {},
   "outputs": [],
   "source": []
  }
 ],
 "metadata": {
  "interpreter": {
   "hash": "590f4a299ae404e723bbc5f32e9a7b98b836c3c65ce9112bc934ac92a06ceee3"
  },
  "kernelspec": {
   "display_name": "Python 3.10.4 64-bit",
   "language": "python",
   "name": "python3"
  },
  "language_info": {
   "codemirror_mode": {
    "name": "ipython",
    "version": 3
   },
   "file_extension": ".py",
   "mimetype": "text/x-python",
   "name": "python",
   "nbconvert_exporter": "python",
   "pygments_lexer": "ipython3",
   "version": "3.10.4"
  },
  "orig_nbformat": 4
 },
 "nbformat": 4,
 "nbformat_minor": 2
}
