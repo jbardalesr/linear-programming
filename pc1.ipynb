{
 "cells": [
  {
   "cell_type": "markdown",
   "metadata": {},
   "source": [
    "### Example with `scipy`\n",
    "Consider the following problem:\n",
    "\\begin{align*}\n",
    "\\min -x_0 + 4x_1\\\\\n",
    "\\text{s.t} -3x_0 + x_1 &\\le 6\\\\\n",
    " x_0 +2 x_1 &\\le 4\\\\\n",
    "x_1 &\\ge -3\n",
    "\\end{align*}"
   ]
  },
  {
   "cell_type": "code",
   "execution_count": 4,
   "metadata": {},
   "outputs": [
    {
     "data": {
      "text/plain": [
       "     con: array([], dtype=float64)\n",
       "     fun: -21.99999984082492\n",
       " message: 'Optimization terminated successfully.'\n",
       "     nit: 6\n",
       "   slack: array([3.89999997e+01, 8.46872652e-08])\n",
       "  status: 0\n",
       " success: True\n",
       "       x: array([ 9.99999989, -2.99999999])"
      ]
     },
     "execution_count": 4,
     "metadata": {},
     "output_type": "execute_result"
    }
   ],
   "source": [
    "from scipy.optimize import linprog\n",
    "c = [-1, 4]\n",
    "A = [[-3, 1],\n",
    "     [1, 2]]\n",
    "b = [6, 4]\n",
    "x0_bounds = (None, None)\n",
    "x1_bounds = (-3, None)\n",
    "\n",
    "res = linprog(c, A_ub=A, b_ub=b, bounds=[x0_bounds, x1_bounds])\n",
    "\n",
    "res\n"
   ]
  },
  {
   "cell_type": "markdown",
   "metadata": {},
   "source": [
    "Model Dovetail"
   ]
  },
  {
   "cell_type": "code",
   "execution_count": 7,
   "metadata": {},
   "outputs": [
    {
     "data": {
      "text/plain": [
       "     con: array([], dtype=float64)\n",
       "     fun: -22.5\n",
       " message: 'Optimization terminated successfully.'\n",
       "     nit: 2\n",
       "   slack: array([0., 0.])\n",
       "  status: 0\n",
       " success: True\n",
       "       x: array([4.5, 4.5])"
      ]
     },
     "execution_count": 7,
     "metadata": {},
     "output_type": "execute_result"
    }
   ],
   "source": [
    "c = [-3, -2]\n",
    "A = [[1, 1],\n",
    "     [3, 1]]\n",
    "b = [9, 18]\n",
    "x0_bounds = (0, 7)\n",
    "x1_bounds = (0, 6)\n",
    "res = linprog(c, A_ub=A, b_ub=b, bounds=[\n",
    "              x0_bounds, x1_bounds], method=\"revised simplex\")\n",
    "res\n"
   ]
  },
  {
   "cell_type": "markdown",
   "metadata": {},
   "source": [
    "# Practica Calificada 1 - 2021-1\n",
    "### Pregunta 3\n",
    "\n",
    "Standard form, The LO-model\n",
    "\n",
    "$$\\max \\{\\mathbf{c}^t\\mathbf{x}|\\mathbf{Ax \\le b, x \\ge 0}\\}$$\n",
    "\n",
    "The feasible region \n",
    "\n",
    "$$F = \\{\\mathbf{x}\\in\\mathbb{R}^n|\\mathbf{Ax \\le b, x \\ge 0}\\}$$"
   ]
  },
  {
   "cell_type": "code",
   "execution_count": 14,
   "metadata": {},
   "outputs": [
    {
     "data": {
      "text/plain": [
       "     con: array([], dtype=float64)\n",
       "     fun: -16.999999999246178\n",
       " message: 'Optimization terminated successfully.'\n",
       "     nit: 5\n",
       "   slack: array([ 3.95209199e-10, -3.95209199e-10,  6.00000000e+00])\n",
       "  status: 0\n",
       " success: True\n",
       "       x: array([4., 1., 5.])"
      ]
     },
     "execution_count": 14,
     "metadata": {},
     "output_type": "execute_result"
    }
   ],
   "source": [
    "# problem a\n",
    "c = [-3, 0, -1]\n",
    "\n",
    "A = [[1, 1, 1],\n",
    "     [-1, -1, -1],\n",
    "     [-1, 2, -2]]\n",
    "\n",
    "b = [10, -10, -6]\n",
    "\n",
    "x0_bounds = (0, 4)\n",
    "x1_bounds = (1, 2)\n",
    "x2_bounds = (None, None)\n",
    "\n",
    "res = linprog(c, A_ub=A, b_ub=b, bounds=[x0_bounds, x1_bounds, x2_bounds])\n",
    "res\n"
   ]
  }
 ],
 "metadata": {
  "interpreter": {
   "hash": "9db148a0e51c3d7338750449cfcc7d48be3faf8c3b8c87b8708a778633bb6fc2"
  },
  "kernelspec": {
   "display_name": "Python 3.10.4 64-bit",
   "language": "python",
   "name": "python3"
  },
  "language_info": {
   "codemirror_mode": {
    "name": "ipython",
    "version": 3
   },
   "file_extension": ".py",
   "mimetype": "text/x-python",
   "name": "python",
   "nbconvert_exporter": "python",
   "pygments_lexer": "ipython3",
   "version": "3.10.4"
  },
  "orig_nbformat": 4
 },
 "nbformat": 4,
 "nbformat_minor": 2
}
