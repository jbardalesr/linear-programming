{
 "cells": [
  {
   "cell_type": "code",
   "execution_count": 43,
   "metadata": {},
   "outputs": [],
   "source": [
    "import matplotlib.pyplot as plt\n",
    "from util import build_tableau, pivoting, correct_all_tableau\n",
    "from simplex_algorithm import simplex, dual_simplex, two_phases\n",
    "import sympy as sp\n",
    "import numpy as np\n",
    "np.set_printoptions(suppress=True, linewidth=np.nan)\n"
   ]
  },
  {
   "cell_type": "code",
   "execution_count": 2,
   "metadata": {},
   "outputs": [],
   "source": [
    "def pivoting_symbolic(tableau: np.ndarray, row: int, col: int) -> np.ndarray:\n",
    "    # escale pivot row min to 1.0\n",
    "    tableau[row, :] = tableau[row, :] / tableau[row, col]\n",
    "    # pivot proccess: convert al column to zero except row\n",
    "    for k in range(tableau.shape[0]):\n",
    "        if k != row:\n",
    "            tableau[k, :] = tableau[k, :] - tableau[k, col] * tableau[row, :]\n",
    "\n",
    "\n",
    "def correct_symbolic_cost(tableau: np.ndarray, basic_var: list[int]) -> None:\n",
    "    # correct basic variable cost with value distict of zero\n",
    "    for index, col in enumerate(basic_var):\n",
    "        row = index + 1\n",
    "        tableau[0, :] = tableau[0, :] - tableau[0, col] * tableau[row, :]\n",
    "    print(f\"Cost corrected\")\n"
   ]
  },
  {
   "cell_type": "markdown",
   "metadata": {},
   "source": [
    "# Pregunta 1"
   ]
  },
  {
   "cell_type": "code",
   "execution_count": 9,
   "metadata": {},
   "outputs": [],
   "source": [
    "A = [[1, 1, 1., 1, 0, 0],\n",
    "     [2, 1, 2., 0, 1, 0],\n",
    "     [1, 1, -1, 0, 0, 1]]\n",
    "\n",
    "b = lambda beta: [2, 4, 2.0 + beta]\n",
    "\n",
    "c = lambda alpha: [1, 1 + alpha, -2.0, 0, 0, 0]\n",
    "\n",
    "alpha = sp.symbols(\"\\\\alpha\")\n",
    "beta = sp.symbols(\"\\\\beta\")"
   ]
  },
  {
   "cell_type": "markdown",
   "metadata": {},
   "source": [
    "vertex = [2. 0. 0.]"
   ]
  },
  {
   "cell_type": "code",
   "execution_count": 23,
   "metadata": {},
   "outputs": [
    {
     "name": "stdout",
     "output_type": "stream",
     "text": [
      "vertex = [0. 0. 0.], x_B = [4, 5, 6]\n",
      "[[ 1.  1. -2.  0.  0.  0.  0.]\n",
      " [ 1.  1.  1.  1.  0.  0.  2.]\n",
      " [ 2.  1.  2.  0.  1.  0.  4.]\n",
      " [ 1.  1. -1.  0.  0.  1.  2.]]\n",
      "vertex = [2. 0. 0.], x_B = [1, 5, 6]\n",
      "[[ 0.  0. -3. -1.  0.  0. -2.]\n",
      " [ 1.  1.  1.  1.  0.  0.  2.]\n",
      " [ 0. -1.  0. -2.  1.  0.  0.]\n",
      " [ 0.  0. -2. -1.  0.  1.  0.]]\n"
     ]
    },
    {
     "data": {
      "text/latex": [
       "$\\displaystyle \\left[\\begin{matrix}1 & \\alpha + 1 & -2.0 & 0 & 0 & 0 & 0\\\\1.0 & 1.0 & 1.0 & 1.0 & 0 & 0 & 2.0\\\\0 & -1.0 & 0 & -2.0 & 1.0 & 0 & 0\\\\0 & 0 & -2.0 & -1.0 & 0 & 1.0 & 0\\end{matrix}\\right]$"
      ],
      "text/plain": [
       "Matrix([\n",
       "[  1, \\alpha + 1, -2.0,    0,   0,   0,   0],\n",
       "[1.0,        1.0,  1.0,  1.0,   0,   0, 2.0],\n",
       "[  0,       -1.0,    0, -2.0, 1.0,   0,   0],\n",
       "[  0,          0, -2.0, -1.0,   0, 1.0,   0]])"
      ]
     },
     "metadata": {},
     "output_type": "display_data"
    },
    {
     "name": "stdout",
     "output_type": "stream",
     "text": [
      "Cost corrected\n"
     ]
    },
    {
     "data": {
      "text/latex": [
       "$\\displaystyle \\left[\\begin{matrix}0 & \\alpha & -3 & -1 & 0 & 0 & -2\\\\1 & 1 & 1 & 1 & 0 & 0 & 2\\\\0 & -1 & 0 & -2 & 1 & 0 & 0\\\\0 & 0 & -2 & -1 & 0 & 1 & 0\\end{matrix}\\right]$"
      ],
      "text/plain": [
       "Matrix([\n",
       "[0, \\alpha, -3, -1, 0, 0, -2],\n",
       "[1,      1,  1,  1, 0, 0,  2],\n",
       "[0,     -1,  0, -2, 1, 0,  0],\n",
       "[0,      0, -2, -1, 0, 1,  0]])"
      ]
     },
     "execution_count": 23,
     "metadata": {},
     "output_type": "execute_result"
    }
   ],
   "source": [
    "basic_var = [3, 4, 5]\n",
    "tableau = build_tableau(A, b(0), c(0))\n",
    "opt_tableau = simplex(tableau, basic_var)\n",
    "opt_tableau = sp.Matrix(opt_tableau.tolist())\n",
    "opt_tableau[0, :-1] = sp.Matrix(c(alpha)).T\n",
    "opt_tableau[0, -1] = 0\n",
    "display(opt_tableau)\n",
    "\n",
    "correct_symbolic_cost(opt_tableau, basic_var)\n",
    "sp.nsimplify(opt_tableau, rational=True)\n"
   ]
  },
  {
   "cell_type": "code",
   "execution_count": 24,
   "metadata": {},
   "outputs": [
    {
     "name": "stdout",
     "output_type": "stream",
     "text": [
      "[1 4 5]\n",
      "[[ 0.  0. -3. -1.  0.  0. -2.]\n",
      " [ 1.  1.  1.  1.  0.  0.  2.]\n",
      " [ 1.  0.  1. -1.  1.  0.  2.]\n",
      " [ 0.  0. -2. -1.  0.  1.  0.]]\n"
     ]
    },
    {
     "data": {
      "text/latex": [
       "$\\displaystyle \\left[\\begin{matrix}1 & \\alpha + 1 & -2.0 & 0 & 0 & 0 & 0\\\\1.0 & 1.0 & 1.0 & 1.0 & 0 & 0 & 2.0\\\\1.0 & 0 & 1.0 & -1.0 & 1.0 & 0 & 2.0\\\\0 & 0 & -2.0 & -1.0 & 0 & 1.0 & 0\\end{matrix}\\right]$"
      ],
      "text/plain": [
       "Matrix([\n",
       "[  1, \\alpha + 1, -2.0,    0,   0,   0,   0],\n",
       "[1.0,        1.0,  1.0,  1.0,   0,   0, 2.0],\n",
       "[1.0,          0,  1.0, -1.0, 1.0,   0, 2.0],\n",
       "[  0,          0, -2.0, -1.0,   0, 1.0,   0]])"
      ]
     },
     "metadata": {},
     "output_type": "display_data"
    },
    {
     "name": "stdout",
     "output_type": "stream",
     "text": [
      "Cost corrected\n"
     ]
    },
    {
     "data": {
      "text/latex": [
       "$\\displaystyle \\left[\\begin{matrix}0 & \\alpha & -3 & -1 & 0 & 0 & -2\\\\1 & 1 & 1 & 1 & 0 & 0 & 2\\\\1 & 0 & 1 & -1 & 1 & 0 & 2\\\\0 & 0 & -2 & -1 & 0 & 1 & 0\\end{matrix}\\right]$"
      ],
      "text/plain": [
       "Matrix([\n",
       "[0, \\alpha, -3, -1, 0, 0, -2],\n",
       "[1,      1,  1,  1, 0, 0,  2],\n",
       "[1,      0,  1, -1, 1, 0,  2],\n",
       "[0,      0, -2, -1, 0, 1,  0]])"
      ]
     },
     "execution_count": 24,
     "metadata": {},
     "output_type": "execute_result"
    }
   ],
   "source": [
    "tableau_1 = np.copy(tableau)\n",
    "basic_var_1 = np.copy(basic_var)\n",
    "pivoting(tableau_1, 1, 1)\n",
    "basic_var_1[0] = 1\n",
    "print(f\"{basic_var_1}\\n{tableau_1}\")\n",
    "\n",
    "opt_tableau = sp.Matrix(tableau_1.tolist())\n",
    "opt_tableau[0, :-1] = sp.Matrix(c(alpha)).T\n",
    "opt_tableau[0, -1] = 0\n",
    "display(opt_tableau)\n",
    "\n",
    "correct_symbolic_cost(opt_tableau, basic_var)\n",
    "sp.nsimplify(opt_tableau, rational=True)"
   ]
  },
  {
   "cell_type": "code",
   "execution_count": 34,
   "metadata": {},
   "outputs": [
    {
     "name": "stdout",
     "output_type": "stream",
     "text": [
      "vertex = [0. 0. 0.], x_B = [4, 5, 6]\n",
      "[[ 1.     1.001 -2.     0.     0.     0.     0.   ]\n",
      " [ 1.     1.     1.     1.     0.     0.     2.   ]\n",
      " [ 2.     1.     2.     0.     1.     0.     4.   ]\n",
      " [ 1.     1.    -1.     0.     0.     1.     2.   ]]\n",
      "vertex = [0. 2. 0.], x_B = [2, 5, 6]\n",
      "[[-0.001  0.    -3.001 -1.001  0.     0.    -2.002]\n",
      " [ 1.     1.     1.     1.     0.     0.     2.   ]\n",
      " [ 1.     0.     1.    -1.     1.     0.     2.   ]\n",
      " [ 0.     0.    -2.    -1.     0.     1.     0.   ]]\n"
     ]
    },
    {
     "data": {
      "text/latex": [
       "$\\displaystyle \\left[\\begin{matrix}1 & \\alpha + 1 & -2.0 & 0 & 0 & 0 & 0\\\\1.0 & 1.0 & 1.0 & 1.0 & 0 & 0 & 2.0\\\\1.0 & 0 & 1.0 & -1.0 & 1.0 & 0 & 2.0\\\\0 & 0 & -2.0 & -1.0 & 0 & 1.0 & 0\\end{matrix}\\right]$"
      ],
      "text/plain": [
       "Matrix([\n",
       "[  1, \\alpha + 1, -2.0,    0,   0,   0,   0],\n",
       "[1.0,        1.0,  1.0,  1.0,   0,   0, 2.0],\n",
       "[1.0,          0,  1.0, -1.0, 1.0,   0, 2.0],\n",
       "[  0,          0, -2.0, -1.0,   0, 1.0,   0]])"
      ]
     },
     "metadata": {},
     "output_type": "display_data"
    },
    {
     "name": "stdout",
     "output_type": "stream",
     "text": [
      "Cost corrected\n"
     ]
    },
    {
     "data": {
      "text/latex": [
       "$\\displaystyle \\left[\\begin{matrix}- \\alpha & 0 & - \\alpha - 3 & - \\alpha - 1 & 0 & 0 & - 2 \\alpha - 2\\\\1 & 1 & 1 & 1 & 0 & 0 & 2\\\\1 & 0 & 1 & -1 & 1 & 0 & 2\\\\0 & 0 & -2 & -1 & 0 & 1 & 0\\end{matrix}\\right]$"
      ],
      "text/plain": [
       "Matrix([\n",
       "[-\\alpha, 0, -\\alpha - 3, -\\alpha - 1, 0, 0, -2*\\alpha - 2],\n",
       "[      1, 1,           1,           1, 0, 0,             2],\n",
       "[      1, 0,           1,          -1, 1, 0,             2],\n",
       "[      0, 0,          -2,          -1, 0, 1,             0]])"
      ]
     },
     "execution_count": 34,
     "metadata": {},
     "output_type": "execute_result"
    }
   ],
   "source": [
    "basic_var = [3, 4, 5]\n",
    "tableau = build_tableau(A, b(0), c(0.001))\n",
    "opt_tableau = simplex(tableau, basic_var)\n",
    "opt_tableau = sp.Matrix(opt_tableau.tolist())\n",
    "opt_tableau[0, :-1] = sp.Matrix(c(alpha)).T\n",
    "opt_tableau[0, -1] = 0\n",
    "display(opt_tableau)\n",
    "\n",
    "correct_symbolic_cost(opt_tableau, basic_var)\n",
    "sp.nsimplify(opt_tableau, rational=True)\n"
   ]
  },
  {
   "cell_type": "code",
   "execution_count": 30,
   "metadata": {},
   "outputs": [
    {
     "data": {
      "image/png": "[encoded data removed]",
      "text/plain": [
       "<Figure size 432x288 with 1 Axes>"
      ]
     },
     "metadata": {
      "needs_background": "light"
     },
     "output_type": "display_data"
    }
   ],
   "source": [
    "z = lambda delta: 2 if delta < 0 else 2 * delta + 2\n",
    "\n",
    "interval = np.linspace(-1, 0.5)\n",
    "z_plot = [z(d) for d in interval]\n",
    "\n",
    "plt.xlabel(\"$\\\\alpha$\")\n",
    "plt.ylabel(\"$f^*(\\\\alpha, 0)$\")\n",
    "plt.plot(interval, z_plot)\n",
    "plt.plot(0, z(0), 'o', c='r')\n",
    "plt.axis(\"scaled\")\n",
    "plt.show()\n"
   ]
  },
  {
   "cell_type": "markdown",
   "metadata": {},
   "source": [
    "# Pregunta 2"
   ]
  },
  {
   "cell_type": "code",
   "execution_count": 38,
   "metadata": {},
   "outputs": [],
   "source": [
    "def build_matrix(number_node: int, edges: tuple[int, int]):\n",
    "    # Output: matrix mx(n+1) A, with component i=1, j=-1, and last component 1\n",
    "    number_edge = len(edges)\n",
    "    A = np.zeros((number_node, number_edge))\n",
    "    for i, edge in enumerate(edges):\n",
    "        A[edge[0] - 1, i] = 1\n",
    "        A[edge[1] - 1, i] = -1\n",
    "    return A\n"
   ]
  },
  {
   "cell_type": "code",
   "execution_count": 66,
   "metadata": {},
   "outputs": [
    {
     "name": "stdout",
     "output_type": "stream",
     "text": [
      "[[-2. -8. -4. -2. -9.  0.  0.]\n",
      " [ 1.  1.  0.  0.  0.  0.  5.]\n",
      " [-1.  0.  1.  1.  0.  0.  3.]\n",
      " [ 0.  1.  1.  0. -1.  0.  6.]\n",
      " [ 0.  0.  0.  1.  1. -1.  2.]]\n",
      "All tableau corrected\n",
      "vertex = [5. 0.], x_B = [1, 4, 3, 6]\n",
      "[[  0.  -2.   0.   0. -11.   0.  38.]\n",
      " [  1.   1.   0.   0.   0.   0.   5.]\n",
      " [  0.   0.   0.   1.   1.   0.   2.]\n",
      " [  0.   1.   1.   0.  -1.   0.   6.]\n",
      " [ -0.  -0.  -0.  -0.  -0.   1.  -0.]]\n"
     ]
    },
    {
     "data": {
      "text/plain": [
       "array([[  0.,  -2.,   0.,   0., -11.,   0.,  38.],\n",
       "       [  1.,   1.,   0.,   0.,   0.,   0.,   5.],\n",
       "       [  0.,   0.,   0.,   1.,   1.,   0.,   2.],\n",
       "       [  0.,   1.,   1.,   0.,  -1.,   0.,   6.],\n",
       "       [ -0.,  -0.,  -0.,  -0.,  -0.,   1.,  -0.]])"
      ]
     },
     "execution_count": 66,
     "metadata": {},
     "output_type": "execute_result"
    }
   ],
   "source": [
    "edges = [(1, 2), (1, 3), (2, 3), (2, 4), (3, 4), (4, np.Inf)]  # (4, inf)\n",
    "number_node = 4\n",
    "A = np.array([[1., 1., 0., 0., 0., 0],\n",
    "              [-1., 0., 1., 1., 0., 0],\n",
    "              [0., 1., 1., 0., -1., 0],\n",
    "              [0., 0., 0., 1., 1., -1]])\n",
    "b = [5, 3, 6, 2.]\n",
    "c = [-2, -8, -4, -2, -9., 0]\n",
    "\n",
    "tableau = build_tableau(A, b, c)\n",
    "basic_var = [0, 3, 2, 5]\n",
    "print(tableau)\n",
    "correct_all_tableau(tableau, basic_var)\n",
    "simplex(tableau, basic_var)\n"
   ]
  },
  {
   "cell_type": "code",
   "execution_count": 40,
   "metadata": {},
   "outputs": [
    {
     "data": {
      "text/plain": [
       "array([[ 1.,  1.,  0.,  0.,  0.],\n",
       "       [-1.,  0.,  1.,  0.,  1.],\n",
       "       [ 0., -1., -1.,  1.,  0.],\n",
       "       [ 0.,  0.,  0., -1., -1.]])"
      ]
     },
     "execution_count": 40,
     "metadata": {},
     "output_type": "execute_result"
    }
   ],
   "source": [
    "tableau = build_tableau(A, b, c)\n",
    "basic_var = [0, 1, 2, 3]\n",
    "print(tableau)\n",
    "correct_all_tableau(tableau, basic_var)\n",
    "simplex(tableau, basic_var)"
   ]
  },
  {
   "cell_type": "code",
   "execution_count": null,
   "metadata": {},
   "outputs": [],
   "source": []
  }
 ],
 "metadata": {
  "kernelspec": {
   "display_name": "Python 3.10.5 64-bit",
   "language": "python",
   "name": "python3"
  },
  "language_info": {
   "codemirror_mode": {
    "name": "ipython",
    "version": 3
   },
   "file_extension": ".py",
   "mimetype": "text/x-python",
   "name": "python",
   "nbconvert_exporter": "python",
   "pygments_lexer": "ipython3",
   "version": "3.10.5"
  },
  "orig_nbformat": 4,
  "vscode": {
   "interpreter": {
    "hash": "590f4a299ae404e723bbc5f32e9a7b98b836c3c65ce9112bc934ac92a06ceee3"
   }
  }
 },
 "nbformat": 4,
 "nbformat_minor": 2
}
