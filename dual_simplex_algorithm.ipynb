{
 "cells": [
  {
   "cell_type": "code",
   "execution_count": 130,
   "metadata": {},
   "outputs": [],
   "source": [
    "import numpy as np\n",
    "import math\n",
    "import sympy as sp\n",
    "from IPython.display import Latex, display_latex\n",
    "\n",
    "np.set_printoptions(suppress=True, linewidth=np.nan)\n"
   ]
  },
  {
   "cell_type": "markdown",
   "metadata": {},
   "source": [
    "### Util"
   ]
  },
  {
   "cell_type": "code",
   "execution_count": 131,
   "metadata": {},
   "outputs": [],
   "source": [
    "def choose_row(col: np.ndarray) -> int:\n",
    "    for i, r in enumerate(col):\n",
    "        if r < 0:\n",
    "            return i"
   ]
  },
  {
   "cell_type": "code",
   "execution_count": 132,
   "metadata": {},
   "outputs": [],
   "source": [
    "def dual_minimum_ratio_test(row: np.ndarray, c: np.ndarray) -> int:\n",
    "    c_min = 0\n",
    "    min_val = math.inf\n",
    "    for k in range(len(c)):\n",
    "        if row[k] < 0:\n",
    "            min_val_temp = c[k] / row[k]\n",
    "            if min_val_temp < min_val:\n",
    "                min_val = min_val_temp\n",
    "                c_min = k\n",
    "    return c_min if min_val != math.inf else None\n"
   ]
  },
  {
   "cell_type": "code",
   "execution_count": 133,
   "metadata": {},
   "outputs": [],
   "source": [
    "def pivoting(tableau: np.ndarray, row: int, col: int):\n",
    "    # escale pivot row min to 1.0\n",
    "    tableau[row] = tableau[row] / tableau[row, col]\n",
    "    # pivot proccess: convert al column to zero except row\n",
    "    for k in range(len(tableau)):\n",
    "        if k != row and abs(tableau[k, col]) > 0:\n",
    "            tableau[k] = tableau[k] - tableau[k, col] * tableau[row, :]\n"
   ]
  },
  {
   "cell_type": "code",
   "execution_count": 134,
   "metadata": {},
   "outputs": [],
   "source": [
    "def correct_all_tableau(tableau: np.ndarray, basic_var: list[int]):\n",
    "    # correct basic variable of all column with value distict of zero\n",
    "    for index, col in enumerate(basic_var):\n",
    "        row = index + 1\n",
    "        pivoting(tableau, row, col)\n",
    "    print(\"All tableau corrected\")\n"
   ]
  },
  {
   "cell_type": "code",
   "execution_count": 135,
   "metadata": {},
   "outputs": [],
   "source": [
    "def real_index(basic_var: list[int]):\n",
    "    return list(map(lambda x: x + 1, basic_var))\n"
   ]
  },
  {
   "cell_type": "code",
   "execution_count": 136,
   "metadata": {},
   "outputs": [],
   "source": [
    "def basic2vertex(tableau: np.ndarray, basic_var: list[int]) -> None:\n",
    "    # only work with simplex method because m = len(basic_var) and n = len(non_basic_var)\n",
    "    dim_1, dim_2 = tableau.shape\n",
    "    m = len(basic_var)\n",
    "    n = dim_2 - dim_1  # for Big-M don't delete artificial variables\n",
    "    x = np.zeros(m + n)\n",
    "    x[basic_var] = tableau[1:, -1]\n",
    "    return x[:n]\n"
   ]
  },
  {
   "cell_type": "code",
   "execution_count": 137,
   "metadata": {},
   "outputs": [],
   "source": [
    "def optimal_solution(tableau: np.ndarray, basic_var: list[int]) -> None:\n",
    "    print(\"Optimal solution: x_opt =\", basic2vertex(tableau, basic_var))\n"
   ]
  },
  {
   "cell_type": "markdown",
   "metadata": {},
   "source": [
    "### Dual Simplex Algorithm"
   ]
  },
  {
   "cell_type": "code",
   "execution_count": 141,
   "metadata": {},
   "outputs": [],
   "source": [
    "def dual_simplex(tableau: np.ndarray, basic_var: list[int]):\n",
    "    print(f\"vertex = {basic2vertex(tableau, basic_var)}, x_B = {real_index(basic_var)}\\n{tableau}\")\n",
    "    while (tableau[1:, -1] < 0).any():\n",
    "        r_neg = choose_row(tableau[1:, -1]) + 1    # select max negative \n",
    "        c_min = dual_minimum_ratio_test(row=tableau[r_neg, :-1], c=tableau[0, :-1])\n",
    "        if c_min == None:\n",
    "            print(\"No feasible solution\")\n",
    "            break\n",
    "        pivoting(tableau, r_neg, c_min)\n",
    "        basic_var[r_neg - 1] = c_min\n",
    "        print(f\"vertex = {basic2vertex(tableau, basic_var)}, x_B = {real_index(basic_var)}\\n{tableau}\")\n"
   ]
  },
  {
   "cell_type": "code",
   "execution_count": 142,
   "metadata": {},
   "outputs": [
    {
     "name": "stdout",
     "output_type": "stream",
     "text": [
      "x_B = [1, 0, 4, 5, 6]\n",
      "[[  0.    0.   -1.5  -0.5   0.    0.    0.  -22.5]\n",
      " [  0.    1.    1.5  -0.5   0.    0.    0.    4.5]\n",
      " [  1.    0.   -0.5   0.5   0.    0.    0.    4.5]\n",
      " [  0.    0.    0.5  -0.5   1.    0.    0.    2.5]\n",
      " [  0.    0.   -1.5   0.5   0.    1.    0.    1.5]\n",
      " [  2.    1.    0.    0.    0.    0.    1.   13. ]]\n",
      "All tableau corrected\n",
      "vertex = [4.5 4.5], x_B = [2, 1, 5, 6, 7]\n",
      "[[  0.    0.   -1.5  -0.5   0.    0.    0.  -22.5]\n",
      " [  0.    1.    1.5  -0.5   0.    0.    0.    4.5]\n",
      " [  1.    0.   -0.5   0.5   0.    0.    0.    4.5]\n",
      " [  0.    0.    0.5  -0.5   1.    0.    0.    2.5]\n",
      " [  0.    0.   -1.5   0.5   0.    1.    0.    1.5]\n",
      " [  0.    0.   -0.5  -0.5   0.    0.    1.   -0.5]]\n",
      "vertex = [4. 5.], x_B = [2, 1, 5, 6, 4]\n",
      "[[  0.   0.  -1.   0.   0.   0.  -1. -22.]\n",
      " [  0.   1.   2.   0.   0.   0.  -1.   5.]\n",
      " [  1.   0.  -1.   0.   0.   0.   1.   4.]\n",
      " [  0.   0.   1.   0.   1.   0.  -1.   3.]\n",
      " [  0.   0.  -2.   0.   0.   1.   1.   1.]\n",
      " [ -0.  -0.   1.   1.  -0.  -0.  -2.   1.]]\n",
      "Optimal solution: x_opt = [4. 5.]\n"
     ]
    }
   ],
   "source": [
    "tableau = np.array([[0, 0, -1.5, -0.5, 0, 0, 0., -22.5],\n",
    "                    [0, 1, 1.5, -0.5, 0.0, 0, 0, 4.5],\n",
    "                    [1, 0, -0.5, 0.5, 0.0, 0, 0, 4.5],\n",
    "                    [0, 0, 0.5, -0.5, 1.0, 0, 0, 2.5],\n",
    "                    [0, 0, -1.5, 0.5, 0.0, 1, 0, 1.5],\n",
    "                    [2, 1, 0.0, 0.0, 0.0, 0., 1, 13]])\n",
    "\n",
    "basic_var = [1, 0, 4, 5, 6]\n",
    "print(f\"x_B = {basic_var}\\n{tableau}\")\n",
    "correct_all_tableau(tableau, basic_var)\n",
    "dual_simplex(tableau, basic_var)\n",
    "optimal_solution(tableau, basic_var)"
   ]
  },
  {
   "cell_type": "code",
   "execution_count": 143,
   "metadata": {},
   "outputs": [
    {
     "name": "stdout",
     "output_type": "stream",
     "text": [
      "vertex = [0. 0. 0.], x_B = [4, 5]\n",
      "[[-2. -4. -7.  0.  0.  0.]\n",
      " [-2. -1. -6.  1.  0. -5.]\n",
      " [-4.  6. -5.  0.  1. -8.]]\n",
      "vertex = [2.5 0.  0. ], x_B = [1, 5]\n",
      "[[ 0.  -3.  -1.  -1.   0.   5. ]\n",
      " [ 1.   0.5  3.  -0.5 -0.   2.5]\n",
      " [ 0.   8.   7.  -2.   1.   2. ]]\n",
      "Optimal solution: x_opt = [2.5 0.  0. ]\n"
     ]
    }
   ],
   "source": [
    "tableau = np.array([[-2, -4, -7, 0, 0, 0.],\n",
    "                    [-2, -1, -6, 1, 0, -5],\n",
    "                    [-4, 6., -5, 0, 1, -8]])\n",
    "\n",
    "basic_var = [3, 4]\n",
    "\n",
    "dual_simplex(tableau, basic_var)\n",
    "optimal_solution(tableau, basic_var)"
   ]
  },
  {
   "cell_type": "code",
   "execution_count": null,
   "metadata": {},
   "outputs": [],
   "source": []
  }
 ],
 "metadata": {
  "kernelspec": {
   "display_name": "Python 3.10.4 64-bit",
   "language": "python",
   "name": "python3"
  },
  "language_info": {
   "codemirror_mode": {
    "name": "ipython",
    "version": 3
   },
   "file_extension": ".py",
   "mimetype": "text/x-python",
   "name": "python",
   "nbconvert_exporter": "python",
   "pygments_lexer": "ipython3",
   "version": "3.10.4"
  },
  "orig_nbformat": 4,
  "vscode": {
   "interpreter": {
    "hash": "590f4a299ae404e723bbc5f32e9a7b98b836c3c65ce9112bc934ac92a06ceee3"
   }
  }
 },
 "nbformat": 4,
 "nbformat_minor": 2
}
