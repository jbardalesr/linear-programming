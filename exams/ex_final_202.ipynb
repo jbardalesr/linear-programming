{
 "cells": [
  {
   "cell_type": "markdown",
   "metadata": {},
   "source": [
    "## Examen Final 2020-2\n"
   ]
  },
  {
   "cell_type": "code",
   "execution_count": 2,
   "metadata": {},
   "outputs": [],
   "source": [
    "import sys\n",
    "sys.path.insert(0, \"..\")\n",
    "\n",
    "from algorithms.network_flows import print_vector, Edge, get_edges, build_matrix\n",
    "from algorithms.util2 import print_model\n",
    "from algorithms.simplex_algorithms import *\n",
    "import numpy as np\n",
    "\n",
    "np.set_printoptions(suppress=True, linewidth=np.nan)\n"
   ]
  },
  {
   "cell_type": "markdown",
   "metadata": {},
   "source": [
    "### Problema 1\n",
    "\n",
    "\\begin{align*}\n",
    "    -\\max \\quad 3x_1& - x_2 - x_3 \\\\\n",
    "    \\text{s.t.} \\quad\\quad x_1& -2x_2 + x_3 \\le 11\\\\\n",
    "                -4x_1& + x_2 + 2x_3 \\ge 3\\\\\n",
    "                2x_1& - x_3 = -1\\\\\n",
    "                x_1&,x_2, x_3\\ge 0\n",
    "\\end{align*}"
   ]
  },
  {
   "cell_type": "markdown",
   "metadata": {},
   "source": [
    "#### a) Use el método gráfico para resolver el modelo (P)\n",
    "\n",
    "**Solución**\n",
    "\n",
    "Reemplazando la ultima ecuacion $x_3 = 2x_1 + 1$ qued \n",
    "\\begin{align*}\n",
    "    -\\max \\quad x_1& - x_2 - 1 \\\\\n",
    "    \\text{s.t.} \\quad\\quad 3x_1& -2x_2 \\le 10\\\\\n",
    "                x_2&   \\ge 1\\\\\n",
    "                x_1&,x_2 \\ge 0\n",
    "\\end{align*}"
   ]
  },
  {
   "cell_type": "markdown",
   "metadata": {},
   "source": [
    "![image.png](data:image/png;base64,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)"
   ]
  },
  {
   "cell_type": "code",
   "execution_count": 2,
   "metadata": {},
   "outputs": [
    {
     "data": {
      "text/plain": [
       "2"
      ]
     },
     "execution_count": 2,
     "metadata": {},
     "output_type": "execute_result"
    }
   ],
   "source": [
    "cost = lambda x1, x2: x1 - x2 - 1\n",
    "x_opt = (4, 1)\n",
    "cost(*x_opt)\n"
   ]
  },
  {
   "cell_type": "markdown",
   "metadata": {},
   "source": [
    "La solución es el punto $A=(4, 1, 9)$, con costo 2, dado que se multiplicó por $-1$ para la maximización el costo en la minimización es $-2$ "
   ]
  },
  {
   "cell_type": "markdown",
   "metadata": {},
   "source": [
    "#### b) Muestre que la región factible (P) es no acotada\n",
    "\n",
    "Sea la semi-recta $\\mathcal L = \\left\\{ \\mathbf p \\in \\mathbb R^3 | \\mathbf  p = \\begin{bmatrix}0\\\\ 1+t\\\\ 1\\end{bmatrix}, t\\ge 0\\right\\}$, satisface todas las restricciones. Por lo tanto el modelo es no acotado.\n",
    "\n",
    "**Solución**\n",
    "\n",
    "$0 - 2(1-t) + 1 = -1-2t\\ge 11, -4(0)+(1+t) + 2(1) =3+t\\ge 3, 2(0)-1 = -1, t\\ge0$"
   ]
  },
  {
   "cell_type": "markdown",
   "metadata": {},
   "source": [
    "#### c) Muestre que (P), extendida con las variables de holgura $x_4$ y $x_5$ para la primera y segunda restricción, respectivamente, tiene una única solución óptima y es no degenerada\n",
    "\n",
    "**Solución**\n",
    "\n",
    "Multiplicando por $-1$ la tercera restricción y agregando las variables de holgura $x_4, x_5$ y $u_1, u_2$ "
   ]
  },
  {
   "cell_type": "code",
   "execution_count": 3,
   "metadata": {},
   "outputs": [
    {
     "name": "stdout",
     "output_type": "stream",
     "text": [
      "x_B = [4, 6, 7]\n",
      "[[ 0.  0.  0.  0.  0. -1. -1.  0.]\n",
      " [ 1. -2.  1.  1.  0.  0.  0. 11.]\n",
      " [-4.  1.  2.  0. -1.  1.  0.  3.]\n",
      " [-2.  0.  1.  0.  0.  0.  1.  1.]]\n",
      "Cost corrected\n",
      "x_B = [4, 6, 7]\n",
      "[[-6.  1.  3.  0. -1.  0.  0.  4.]\n",
      " [ 1. -2.  1.  1.  0.  0.  0. 11.]\n",
      " [-4.  1.  2.  0. -1.  1.  0.  3.]\n",
      " [-2.  0.  1.  0.  0.  0.  1.  1.]]\n",
      "Start phase One\n",
      "x_B = [4, 6, 3]\n",
      "[[ 0.  1.  0.  0. -1.  0. -3.  1.]\n",
      " [ 3. -2.  0.  1.  0.  0. -1. 10.]\n",
      " [ 0.  1.  0.  0. -1.  1. -2.  1.]\n",
      " [-2.  0.  1.  0.  0.  0.  1.  1.]]\n",
      "x_B = [4, 2, 3]\n",
      "[[ 0.  0.  0.  0.  0. -1. -1.  0.]\n",
      " [ 3.  0.  0.  1. -2.  2. -5. 12.]\n",
      " [ 0.  1.  0.  0. -1.  1. -2.  1.]\n",
      " [-2.  0.  1.  0.  0.  0.  1.  1.]]\n",
      "Delete artificial variables and create a new tableau [5, 6]\n",
      "Start phase two, put original cost\n",
      "x_B = [4, 2, 3]\n",
      "[[ 3. -1. -1.  0.  0.  0.]\n",
      " [ 3.  0.  0.  1. -2. 12.]\n",
      " [ 0.  1.  0.  0. -1.  1.]\n",
      " [-2.  0.  1.  0.  0.  1.]]\n",
      "Cost corrected\n",
      "vertex = [ 0.  1.  1. 12.  0.], x_B = [4, 2, 3]\n",
      "[[ 1.  0.  0.  0. -1.  2.]\n",
      " [ 3.  0.  0.  1. -2. 12.]\n",
      " [ 0.  1.  0.  0. -1.  1.]\n",
      " [-2.  0.  1.  0.  0.  1.]]\n",
      "vertex = [4. 1. 9. 0. 0.], x_B = [1, 2, 3]\n",
      "[[ 0.          0.          0.         -0.33333333 -0.33333333 -2.        ]\n",
      " [ 1.          0.          0.          0.33333333 -0.66666667  4.        ]\n",
      " [ 0.          1.          0.          0.         -1.          1.        ]\n",
      " [ 0.          0.          1.          0.66666667 -1.33333333  9.        ]]\n"
     ]
    }
   ],
   "source": [
    "A = np.array([[1, -2, 1, 1, 0., 0, 0],\n",
    "              [-4, 1, 2, 0, -1, 1, 0],\n",
    "              [-2, 0, 1, 0, 0., 0, 1]])\n",
    "\n",
    "b = [11, 3, 1.0]\n",
    "\n",
    "c = np.array([3, -1, -1, 0, 0.0])\n",
    "\n",
    "c_artificial = [0, 0, 0, 0, 0, -1.0, -1]\n",
    "\n",
    "basic_var = [3, 5, 6]\n",
    "artificial_var = [5, 6]\n",
    "tableau = build_tableau(A, b, c_artificial)\n",
    "tableau = two_phases(tableau, c, basic_var, artificial_var)\n"
   ]
  },
  {
   "cell_type": "markdown",
   "metadata": {},
   "source": [
    "La solución óptima es $x^*=(4, 1, 9, 0, 0)$, es no degenerada pues sus variables básicas son distintas de 0."
   ]
  },
  {
   "cell_type": "markdown",
   "metadata": {},
   "source": [
    "#### d) Determine el dual de (P), y los **signos** de los precios sombras de las tres restricciones.\n",
    "**Solución**\n",
    "\n",
    "Modelo dual\n",
    "\\begin{align*}\n",
    "\\max 11y_1& + 3y_2 + y_3\\\\\n",
    "\\text{s.t.} \\quad  y_1& - 4y_2 - 2y_3\\le -3\\\\\n",
    "                        -2y_1& + y_2 \\le 1\\\\\n",
    "                        y_1& + 2y_2 + y_3\\le 1\\\\\n",
    "                        y_1&\\le 0, y_2\\ge 0, y_3 \\text{ free} \n",
    "\\end{align*}\n",
    "\n",
    "Signo de los precio sombra\n",
    "\n",
    "El modelo tiene una solución óptima no degenerada así que los precios sombra de cualquier restricción tecnológica son iguales al valor correspondiente de la variable de decisión dual.\n",
    "\n",
    "Para delta $\\delta = 1$\n",
    "- 1ra restricción, $z^*(\\delta)=2.33333$ (incrementa) lo que implica que el precio sombra es no negativo.\n",
    "- 2da restricción, $z^*(\\delta)=1.66666$ (disminuye) lo que implica que el precio sombra es no positivo.\n",
    "- 3ra restricción, $z^*(\\delta)=1$ (disminuye) lo que implica que el precio sombra es no positivo.\n"
   ]
  },
  {
   "cell_type": "markdown",
   "metadata": {},
   "source": [
    "#### e) Use una matriz básica primal óptimal, para determinar una solución dual optimal de (P).\n",
    "**Solución**\n",
    "\n",
    "$$y^* = {(B^{-1})}^Tc_{BI}$$\n",
    "\n",
    "$x_{BI}=[x_0, x_1, x_2]$"
   ]
  },
  {
   "cell_type": "code",
   "execution_count": 4,
   "metadata": {},
   "outputs": [
    {
     "name": "stdout",
     "output_type": "stream",
     "text": [
      "y* = [ 0.33333333 -0.33333333 -0.66666667]\n"
     ]
    }
   ],
   "source": [
    "A = np.array(A)\n",
    "B = A[:, basic_var]\n",
    "y_sol = np.linalg.inv(B).T @ c[basic_var]\n",
    "print(\"y* =\", y_sol)"
   ]
  },
  {
   "cell_type": "markdown",
   "metadata": {},
   "source": [
    "#### f) Reemplace la tercera restricción de (P) por dos desigualdades; llame al nuevo modelo (PS). Muestre que la solución optimal de (PS) es degenerada y única. Determine todas las matrices básicas óptimas de (PS), y la correspondiente matriz básica dual complementaria.\n",
    "\n",
    "**Solución**\n",
    "\n",
    "\\begin{align*}\n",
    "    -\\max \\quad 3x_1& - x_2 - x_3 \\\\\n",
    "    \\text{s.t.} \\quad\\quad x_1& -2x_2 + x_3 \\le 11\\\\\n",
    "                -4x_1& + x_2 + 2x_3 \\ge 3\\\\\n",
    "                -2x_1& + x_3 \\le 1\\\\\n",
    "                -2x_1& + x_3 \\ge 1\\\\\n",
    "                x_1&,x_2, x_3\\ge 0\n",
    "\\end{align*}"
   ]
  },
  {
   "cell_type": "code",
   "execution_count": 5,
   "metadata": {},
   "outputs": [
    {
     "name": "stdout",
     "output_type": "stream",
     "text": [
      "vertex = [ 0.  0.  0. 11. -3.  1. -1.], x_B = [4, 5, 6, 7]\n",
      "[[ 3. -1. -1.  0.  0.  0.  0.  0.]\n",
      " [ 1. -2.  1.  1.  0.  0.  0. 11.]\n",
      " [ 4. -1. -2.  0.  1.  0.  0. -3.]\n",
      " [-2.  0.  1.  0.  0.  1.  0.  1.]\n",
      " [ 2.  0. -1.  0.  0.  0.  1. -1.]]\n",
      "vertex = [-0.75  0.    0.   11.75  0.   -0.5   0.5 ], x_B = [4, 1, 6, 7]\n",
      "[[ 0.   -0.25  0.5   0.   -0.75  0.    0.    2.25]\n",
      " [ 0.   -1.75  1.5   1.   -0.25  0.    0.   11.75]\n",
      " [ 1.   -0.25 -0.5   0.    0.25  0.    0.   -0.75]\n",
      " [ 0.   -0.5   0.    0.    0.5   1.    0.   -0.5 ]\n",
      " [ 0.    0.5   0.    0.   -0.5   0.    1.    0.5 ]]\n",
      "vertex = [ 3.16666667  0.          7.83333333  0.          0.         -0.5         0.5       ], x_B = [3, 1, 6, 7]\n",
      "[[ 0.          0.33333333  0.         -0.33333333 -0.66666667  0.          0.         -1.66666667]\n",
      " [ 0.         -1.16666667  1.          0.66666667 -0.16666667  0.          0.          7.83333333]\n",
      " [ 1.         -0.83333333  0.          0.33333333  0.16666667  0.          0.          3.16666667]\n",
      " [ 0.         -0.5         0.          0.          0.5         1.          0.         -0.5       ]\n",
      " [ 0.          0.5         0.          0.         -0.5         0.          1.          0.5       ]]\n",
      "vertex = [4. 1. 9. 0. 0. 0. 0.], x_B = [3, 1, 6, 2]\n",
      "[[ 0.          0.          0.         -0.33333333 -0.33333333  0.         -0.66666667 -2.        ]\n",
      " [ 0.          0.          1.          0.66666667 -1.33333333  0.          2.33333333  9.        ]\n",
      " [ 1.          0.          0.          0.33333333 -0.66666667  0.          1.66666667  4.        ]\n",
      " [ 0.          0.          0.          0.          0.          1.          1.          0.        ]\n",
      " [ 0.          1.          0.          0.         -1.          0.          2.          1.        ]]\n"
     ]
    }
   ],
   "source": [
    "A = np.array([[1, -2, 1., 1, 0., 0, 0.],\n",
    "              [4, -1, -2, 0, 1, 0, 0.],\n",
    "              [-2, 0, 1., 0, 0., 1, 0.],\n",
    "              [2, 0, -1., 0, 0., 0, 1]])\n",
    "\n",
    "b = np.array([11, -3, 1.0, -1])\n",
    "\n",
    "c = np.array([3, -1, -1, 0, 0, 0, 0.0])\n",
    "\n",
    "var = set(range(A.shape[1]))\n",
    "\n",
    "basic_var = [3, 4, 5, 6]\n",
    "tableau = build_tableau(A, b, c)\n",
    "tableau = simplex(tableau, basic_var)\n"
   ]
  },
  {
   "cell_type": "markdown",
   "metadata": {},
   "source": [
    "Dado que $x_6=0$, es una solución degenerada, y como los costos no básicos con estrictamente negativos la solución es única."
   ]
  },
  {
   "cell_type": "code",
   "execution_count": 6,
   "metadata": {},
   "outputs": [
    {
     "data": {
      "text/plain": [
       "array([[ 0.        ,  0.        ,  0.        , -0.33333333, -0.33333333,  0.        , -0.66666667, -2.        ],\n",
       "       [ 0.        ,  0.        ,  1.        ,  0.66666667, -1.33333333,  0.        ,  2.33333333,  9.        ],\n",
       "       [ 1.        ,  0.        ,  0.        ,  0.33333333, -0.66666667,  0.        ,  1.66666667,  4.        ],\n",
       "       [ 0.        ,  0.        ,  0.        ,  0.        ,  0.        ,  1.        ,  1.        ,  0.        ],\n",
       "       [ 0.        ,  1.        ,  0.        ,  0.        , -1.        ,  0.        ,  2.        ,  1.        ]])"
      ]
     },
     "execution_count": 6,
     "metadata": {},
     "output_type": "execute_result"
    }
   ],
   "source": [
    "tableau2 = np.copy(tableau)\n",
    "tableau2"
   ]
  },
  {
   "cell_type": "code",
   "execution_count": 7,
   "metadata": {},
   "outputs": [],
   "source": [
    "basic_index_1 = [2, 0, 5, 1]\n",
    "basic_index_2 = [2, 0, 6, 1]"
   ]
  },
  {
   "cell_type": "markdown",
   "metadata": {},
   "source": [
    "En la fila 4, está la variable básica degenerada $x_5$ el cual se le cambiará por $x_6$ (iniciando desde $i=0$), pues en esa columna que ya de por si es negativa y óptima hay un único valor positivo que cumple con el test de mínimo ratio."
   ]
  },
  {
   "cell_type": "code",
   "execution_count": 8,
   "metadata": {},
   "outputs": [
    {
     "data": {
      "text/plain": [
       "array([[ 0.        ,  0.        ,  0.        , -0.33333333, -0.33333333,  0.66666667,  0.        , -2.        ],\n",
       "       [ 0.        ,  0.        ,  1.        ,  0.66666667, -1.33333333, -2.33333333,  0.        ,  9.        ],\n",
       "       [ 1.        ,  0.        ,  0.        ,  0.33333333, -0.66666667, -1.66666667,  0.        ,  4.        ],\n",
       "       [ 0.        ,  0.        ,  0.        ,  0.        ,  0.        ,  1.        ,  1.        ,  0.        ],\n",
       "       [ 0.        ,  1.        ,  0.        ,  0.        , -1.        , -2.        ,  0.        ,  1.        ]])"
      ]
     },
     "execution_count": 8,
     "metadata": {},
     "output_type": "execute_result"
    }
   ],
   "source": [
    "pivoting(tableau2, 3, 6)\n",
    "tableau2\n"
   ]
  },
  {
   "cell_type": "markdown",
   "metadata": {},
   "source": [
    "Matriz básica dual complementaria (Chapter 2 page 70)."
   ]
  },
  {
   "cell_type": "code",
   "execution_count": 9,
   "metadata": {},
   "outputs": [],
   "source": [
    "basic_index_comp_1 = [0, 1, 3]\n",
    "basic_index_comp_2 = [0, 1, 2]\n"
   ]
  },
  {
   "cell_type": "markdown",
   "metadata": {},
   "source": [
    "Theorem 4.5.2\n",
    "\n",
    "\\begin{align*}\n",
    "    \\hat{\\mathbf{x}}_{BI} &= B^{-1}\\mathbf{b} = \\mathbf{b}_{NI^c} - \\overline{N}^T{\\left(\\overline{B}^{-1}\\right)}^T\\mathbf{b}_{BI^c}\\\\\n",
    "\n",
    "    \\hat{\\mathbf{y}}_{{BI}^c} &=  {\\left(\\overline{B}^{-1}\\right)}^T\\mathbf{c} = N^T{\\left(B^{-1}\\right)}^T\\mathbf{c}_{BI} -  \\mathbf{c}_{NI}\n",
    "\\end{align*}"
   ]
  },
  {
   "cell_type": "code",
   "execution_count": 10,
   "metadata": {},
   "outputs": [],
   "source": [
    "A_T = np.array([[1., 4., -2., 2, -1, 0, 0],\n",
    "                [-2., -1, 0., 0, 0, -1, 0],\n",
    "                [1., -2, 1., -1, 0, 0, -1]])\n",
    "\n",
    "b_T = np.array([11, -3, 1.0, -1, 0, 0, 0])\n",
    "\n",
    "c_T = np.array([3, -1, -1.0])\n",
    "\n",
    "Bc_1 = A_T[:, basic_index_comp_1]\n",
    "Bc_2 = A_T[:, basic_index_comp_2]\n",
    "\n",
    "non_basic_index_1 = list(var - set(basic_index_1))\n",
    "non_basic_index_2 = list(var - set(basic_index_2))\n",
    "\n",
    "N_1 = A[:, non_basic_index_1]\n",
    "N_2 = A[:, non_basic_index_2]\n",
    "\n",
    "B_1 = A[:, basic_index_1]\n",
    "B_2 = A[:, basic_index_2]\n"
   ]
  },
  {
   "cell_type": "markdown",
   "metadata": {},
   "source": [
    "Método 1: utilizando el modelo dual (obs: no coincide)"
   ]
  },
  {
   "cell_type": "code",
   "execution_count": 11,
   "metadata": {},
   "outputs": [
    {
     "name": "stdout",
     "output_type": "stream",
     "text": [
      "Solución 1\n",
      "y* = [ 0. -1.  0.  1.  0.  0.  0.]\n",
      "z* = 2.000000000000001\n",
      "Solución 2\n",
      "y* = [3.33333333 3.         5.66666667 0.         0.         0.         0.        ]\n",
      "z* = 33.33333333333335\n"
     ]
    }
   ],
   "source": [
    "y_sol1 = np.zeros(A_T.shape[1])\n",
    "y_sol2 = np.zeros(A_T.shape[1])\n",
    "\n",
    "y_sol1[basic_index_comp_1] = np.linalg.inv(Bc_1).T @ c_T\n",
    "y_sol2[basic_index_comp_2] = np.linalg.inv(Bc_2).T @ c_T\n",
    "\n",
    "print(f\"Solución 1\\ny* = {y_sol1}\\nz* = {np.dot(y_sol1, b_T)}\")\n",
    "print(f\"Solución 2\\ny* = {y_sol2}\\nz* = {np.dot(y_sol2, b_T)}\")\n"
   ]
  },
  {
   "cell_type": "markdown",
   "metadata": {},
   "source": [
    "#### g) Muestre que el modelo dual de (PS) tiene soluciones optimales múltiples.\n"
   ]
  },
  {
   "cell_type": "markdown",
   "metadata": {},
   "source": [
    "Método 2: utilizando el modelo primal (obs: coincide)\n",
    " "
   ]
  },
  {
   "cell_type": "code",
   "execution_count": 12,
   "metadata": {},
   "outputs": [
    {
     "name": "stdout",
     "output_type": "stream",
     "text": [
      "Solución 1\n",
      "y* = [0.33333333 0.33333333 0.         0.66666667 0.         0.         0.        ]\n",
      "z* = 2.0\n",
      "Solución 2\n",
      "y* = [ 0.33333333  0.33333333 -0.66666667  0.          0.          0.          0.        ]\n",
      "z* = 2.0\n"
     ]
    }
   ],
   "source": [
    "y_sol1 = np.zeros(A.shape[1])\n",
    "y_sol2 = np.zeros(A.shape[1])\n",
    "\n",
    "y_sol1[basic_index_comp_1] = N_1.T @ (np.linalg.inv(B_1)).T @ c[basic_index_1] - c[non_basic_index_1]\n",
    "y_sol2[basic_index_comp_2] = N_2.T @ (np.linalg.inv(B_2)).T @ c[basic_index_2] - c[non_basic_index_2]\n",
    "\n",
    "print(f\"Solución 1\\ny* = {y_sol1}\\nz* = {np.dot(y_sol1, b_T)}\")\n",
    "print(f\"Solución 2\\ny* = {y_sol2}\\nz* = {np.dot(y_sol2, b_T)}\")\n"
   ]
  },
  {
   "cell_type": "markdown",
   "metadata": {},
   "source": [
    "#### h) Dibuje el grafo de adyacencia del modelo (PS).\n"
   ]
  },
  {
   "cell_type": "code",
   "execution_count": 13,
   "metadata": {},
   "outputs": [
    {
     "name": "stdout",
     "output_type": "stream",
     "text": [
      "(0, 1, 2, 5)\n",
      "(0, 1, 2, 6)\n",
      "(1, 2, 3, 5)\n",
      "(1, 2, 3, 6)\n"
     ]
    }
   ],
   "source": [
    "from itertools import combinations\n",
    "basic_index_feasible = []\n",
    "for comb in list(combinations(list(var), 4)):\n",
    "    B = A[:, comb]\n",
    "    if np.linalg.matrix_rank(B) == 4:\n",
    "        B_inv = np.linalg.inv(B)\n",
    "        if (B_inv @ b >= 0.0).all():\n",
    "            basic_index_feasible.append(list(comb))\n",
    "            print(comb)\n"
   ]
  },
  {
   "cell_type": "code",
   "execution_count": 14,
   "metadata": {},
   "outputs": [
    {
     "name": "stdout",
     "output_type": "stream",
     "text": [
      "[0, 1, 2, 5]\n",
      "[0, 1, 2, 6]\n",
      "[1, 2, 3, 5]\n",
      "[1, 2, 3, 6]\n"
     ]
    }
   ],
   "source": [
    "for i, indexes in enumerate(basic_index_feasible):\n",
    "    print(indexes)"
   ]
  },
  {
   "cell_type": "code",
   "execution_count": 15,
   "metadata": {},
   "outputs": [
    {
     "name": "stdout",
     "output_type": "stream",
     "text": [
      "All tableau corrected\n",
      "Start simplex process 1...\n",
      "vertex = [4. 1. 9. 0. 0. 0. 0.], x_B = [1, 2, 3, 6]\n",
      "[[ 0.          0.          0.         -0.33333333 -0.33333333  0.         -0.66666667 -2.        ]\n",
      " [ 1.          0.          0.          0.33333333 -0.66666667  0.          1.66666667  4.        ]\n",
      " [ 0.          1.          0.          0.         -1.          0.          2.          1.        ]\n",
      " [ 0.          0.          1.          0.66666667 -1.33333333  0.          2.33333333  9.        ]\n",
      " [ 0.          0.          0.          0.          0.          1.          1.          0.        ]]\n",
      "[0, 1, 2, 5]\n",
      "End simplex process 1\n",
      "All tableau corrected\n",
      "Start simplex process 2...\n",
      "vertex = [4. 1. 9. 0. 0. 0. 0.], x_B = [1, 2, 3, 7]\n",
      "[[ 0.          0.          0.         -0.33333333 -0.33333333  0.66666667  0.         -2.        ]\n",
      " [ 1.          0.          0.          0.33333333 -0.66666667 -1.66666667  0.          4.        ]\n",
      " [ 0.          1.          0.          0.         -1.         -2.          0.          1.        ]\n",
      " [-0.         -0.          1.          0.66666667 -1.33333333 -2.33333333 -0.          9.        ]\n",
      " [ 0.          0.          0.          0.          0.          1.          1.          0.        ]]\n",
      "vertex = [4. 1. 9. 0. 0. 0. 0.], x_B = [1, 2, 3, 6]\n",
      "[[ 0.          0.          0.         -0.33333333 -0.33333333  0.         -0.66666667 -2.        ]\n",
      " [ 1.          0.          0.          0.33333333 -0.66666667  0.          1.66666667  4.        ]\n",
      " [ 0.          1.          0.          0.         -1.          0.          2.          1.        ]\n",
      " [ 0.          0.          1.          0.66666667 -1.33333333  0.          2.33333333  9.        ]\n",
      " [ 0.          0.          0.          0.          0.          1.          1.          0.        ]]\n",
      "[0, 1, 2, 5]\n",
      "End simplex process 2\n",
      "All tableau corrected\n",
      "Start simplex process 3...\n",
      "vertex = [ 0.  1.  1. 12.  0.  0.  0.], x_B = [2, 3, 4, 6]\n",
      "[[ 1.  0.  0.  0. -1.  0.  1.  2.]\n",
      " [ 0.  1.  0.  0. -1.  0.  2.  1.]\n",
      " [-2.  0.  1.  0.  0.  0. -1.  1.]\n",
      " [ 3.  0.  0.  1. -2.  0.  5. 12.]\n",
      " [ 0.  0.  0.  0.  0.  1.  1.  0.]]\n",
      "vertex = [4. 1. 9. 0. 0. 0. 0.], x_B = [2, 3, 1, 6]\n",
      "[[ 0.          0.          0.         -0.33333333 -0.33333333  0.         -0.66666667 -2.        ]\n",
      " [ 0.          1.          0.         -0.         -1.          0.          2.          1.        ]\n",
      " [ 0.          0.          1.          0.66666667 -1.33333333  0.          2.33333333  9.        ]\n",
      " [ 1.          0.          0.          0.33333333 -0.66666667  0.          1.66666667  4.        ]\n",
      " [ 0.          0.          0.          0.          0.          1.          1.          0.        ]]\n",
      "[1, 2, 0, 5]\n",
      "End simplex process 3\n",
      "All tableau corrected\n",
      "Start simplex process 4...\n",
      "vertex = [ 0.  1.  1. 12.  0.  0.  0.], x_B = [2, 3, 4, 7]\n",
      "[[ 1.  0.  0.  0. -1. -1.  0.  2.]\n",
      " [ 0.  1.  0.  0. -1. -2. -0.  1.]\n",
      " [-2.  0.  1.  0.  0.  1.  0.  1.]\n",
      " [ 3. -0. -0.  1. -2. -5. -0. 12.]\n",
      " [ 0.  0.  0.  0.  0.  1.  1.  0.]]\n",
      "vertex = [4. 1. 9. 0. 0. 0. 0.], x_B = [2, 3, 1, 7]\n",
      "[[ 0.          0.          0.         -0.33333333 -0.33333333  0.66666667  0.         -2.        ]\n",
      " [ 0.          1.          0.         -0.         -1.         -2.          0.          1.        ]\n",
      " [ 0.          0.          1.          0.66666667 -1.33333333 -2.33333333  0.          9.        ]\n",
      " [ 1.         -0.         -0.          0.33333333 -0.66666667 -1.66666667 -0.          4.        ]\n",
      " [ 0.          0.          0.          0.          0.          1.          1.          0.        ]]\n",
      "vertex = [4. 1. 9. 0. 0. 0. 0.], x_B = [2, 3, 1, 6]\n",
      "[[ 0.          0.          0.         -0.33333333 -0.33333333  0.         -0.66666667 -2.        ]\n",
      " [ 0.          1.          0.         -0.         -1.          0.          2.          1.        ]\n",
      " [ 0.          0.          1.          0.66666667 -1.33333333  0.          2.33333333  9.        ]\n",
      " [ 1.          0.          0.          0.33333333 -0.66666667  0.          1.66666667  4.        ]\n",
      " [ 0.          0.          0.          0.          0.          1.          1.          0.        ]]\n",
      "[1, 2, 0, 5]\n",
      "End simplex process 4\n"
     ]
    }
   ],
   "source": [
    "for i, indexes in enumerate(basic_index_feasible):\n",
    "    basic_index_temp = indexes.copy()\n",
    "    tableau = build_tableau(A, b, c)\n",
    "    correct_all_tableau(tableau, basic_index_temp)\n",
    "    print(f\"Start simplex process {i + 1}...\")\n",
    "    tableau = simplex(tableau, basic_index_temp)\n",
    "    print(basic_index_temp)\n",
    "    print(f\"End simplex process {i + 1}\")\n"
   ]
  },
  {
   "cell_type": "code",
   "execution_count": 16,
   "metadata": {},
   "outputs": [
    {
     "name": "stdout",
     "output_type": "stream",
     "text": [
      "All tableau corrected\n",
      "[[ 1.  0.  0.  0. -1.  0.  1.  2.]\n",
      " [ 0.  1.  0.  0. -1.  0.  2.  1.]\n",
      " [-2.  0.  1.  0.  0.  0. -1.  1.]\n",
      " [ 3.  0.  0.  1. -2.  0.  5. 12.]\n",
      " [ 0.  0.  0.  0.  0.  1.  1.  0.]]\n",
      "[[ 1.  0.  0.  0. -1. -1.  0.  2.]\n",
      " [ 0.  1.  0.  0. -1. -2.  0.  1.]\n",
      " [-2.  0.  1.  0.  0.  1.  0.  1.]\n",
      " [ 3.  0.  0.  1. -2. -5.  0. 12.]\n",
      " [ 0.  0.  0.  0.  0.  1.  1.  0.]]\n"
     ]
    }
   ],
   "source": [
    "tableau2 = build_tableau(A, b, c)\n",
    "basic_var = [1, 2, 3, 5]\n",
    "correct_all_tableau(tableau2, basic_var)\n",
    "print(tableau2)\n",
    "pivoting(tableau2, 4, 6)\n",
    "print(tableau2)\n"
   ]
  },
  {
   "cell_type": "markdown",
   "metadata": {},
   "source": [
    "![image.png](data:image/png;base64,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)"
   ]
  }
 ],
 "metadata": {
  "kernelspec": {
   "display_name": "Python 3.10.6 64-bit",
   "language": "python",
   "name": "python3"
  },
  "language_info": {
   "codemirror_mode": {
    "name": "ipython",
    "version": 3
   },
   "file_extension": ".py",
   "mimetype": "text/x-python",
   "name": "python",
   "nbconvert_exporter": "python",
   "pygments_lexer": "ipython3",
   "version": "3.10.6"
  },
  "orig_nbformat": 4,
  "vscode": {
   "interpreter": {
    "hash": "590f4a299ae404e723bbc5f32e9a7b98b836c3c65ce9112bc934ac92a06ceee3"
   }
  }
 },
 "nbformat": 4,
 "nbformat_minor": 2
}
