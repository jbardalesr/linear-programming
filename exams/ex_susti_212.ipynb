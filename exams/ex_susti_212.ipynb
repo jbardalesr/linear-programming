{
 "cells": [
  {
   "cell_type": "markdown",
   "metadata": {},
   "source": [
    "# PROGRAMACIÓN LINEAL: EXAMEN SUSTITUTORIO"
   ]
  },
  {
   "cell_type": "code",
   "execution_count": 1,
   "metadata": {},
   "outputs": [],
   "source": [
    "import sys\n",
    "sys.path.insert(0, \"..\")\n",
    "\n",
    "import sympy as sp\n",
    "import numpy as np\n",
    "from algorithms.simplex_algorithms import *\n",
    "from algorithms.util2 import print_model\n",
    "from algorithms.network_flows import *\n",
    "import matplotlib.pyplot as plt\n",
    "\n",
    "np.set_printoptions(suppress=True, linewidth=np.nan)\n",
    "inf = sp.symbols(\"\\\\infty\")\n"
   ]
  },
  {
   "cell_type": "markdown",
   "metadata": {},
   "source": [
    "#### 1. Resuelva el problema de flujo en redes usando $x_{13}, x_{34}$, y $x_{42}$ como parte de una base.\n",
    "\n",
    "![image.png](data:image/png;base64,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)\n",
    "\n",
    "**Solución**"
   ]
  },
  {
   "cell_type": "code",
   "execution_count": 2,
   "metadata": {},
   "outputs": [],
   "source": [
    "number_nodes = 4\n",
    "edges: list[Edge] = [Edge(1, 3, 4),\n",
    "                     Edge(1, 4, 1),\n",
    "                     Edge(2, 1, 0),\n",
    "                     Edge(3, 4, -2),\n",
    "                     Edge(4, 2, 4),\n",
    "                     Edge(4, inf, 0)]\n",
    "\n",
    "A = build_matrix(number_nodes, edges)\n",
    "b = sp.Matrix([3, -2, 5, -6])  # sum(b) = 0\n",
    "c = sp.Matrix(list(map(lambda e: e.cost, edges)))\n",
    "var = set(range(len(edges)))\n"
   ]
  },
  {
   "cell_type": "code",
   "execution_count": 3,
   "metadata": {},
   "outputs": [
    {
     "data": {
      "text/latex": [
       "\\begin{align*} \\text{min}\\quad {4x_{(1, 3)}}&{+x_{(1, 4)}}&{}&{-2x_{(3, 4)}}&{+4x_{(4, 2)}}&{}&\\\\\\text{s.t.}\\quad{x_{(1, 3)}}&{+x_{(1, 4)}}&{-x_{(2, 1)}}&{}&{}&{}&=&3\\\\{}&{}&{+x_{(2, 1)}}&{}&{-x_{(4, 2)}}&{}&=&-2\\\\{-x_{(1, 3)}}&{}&{}&{+x_{(3, 4)}}&{}&{}&=&5\\\\{}&{-x_{(1, 4)}}&{}&{-x_{(3, 4)}}&{+x_{(4, 2)}}&{+x_{(4, \\infty)}}&=&-6\\\\ \\end{align*}\\\\ x_{(1, 3)},x_{(1, 4)},x_{(2, 1)},x_{(3, 4)},x_{(4, 2)},x_{(4, \\infty)}\\ge 0"
      ]
     },
     "metadata": {},
     "output_type": "display_data"
    }
   ],
   "source": [
    "print_model(A, b, c, \"x\", get_edges(edges, list(var)), [\"=\"] * number_nodes, \"min\")\n"
   ]
  },
  {
   "cell_type": "code",
   "execution_count": 4,
   "metadata": {},
   "outputs": [
    {
     "name": "stdout",
     "output_type": "stream",
     "text": [
      "variables básicas\n",
      "BI = [0, 3, 4, 5]\n",
      "Matriz B\n"
     ]
    },
    {
     "data": {
      "text/latex": [
       "$B=\\left[\\begin{matrix}1 & 0 & 0 & 0\\\\0 & 0 & -1 & 0\\\\-1 & 1 & 0 & 0\\\\0 & -1 & 1 & 1\\end{matrix}\\right]$"
      ]
     },
     "metadata": {},
     "output_type": "display_data"
    },
    {
     "data": {
      "text/latex": [
       "$\\text{map}\\\\{a_{(1, 3)}=x_{0}, a_{(3, 4)}=x_{3}, a_{(4, 2)}=x_{4}, a_{(4, \\infty)}=x_{5}}$"
      ]
     },
     "metadata": {},
     "output_type": "display_data"
    },
    {
     "data": {
      "text/latex": [
       "$\\text{solución básica (flujos)}\\\\{a_{(1, 3)}=3, a_{(3, 4)}=8, a_{(4, 2)}=2, a_{(4, \\infty)}=0}$"
      ]
     },
     "metadata": {},
     "output_type": "display_data"
    },
    {
     "data": {
      "text/latex": [
       "$\\text{variable dual}\\\\{w_{1}=2, w_{2}=-4, w_{3}=-2, w_{4}=0}$"
      ]
     },
     "metadata": {},
     "output_type": "display_data"
    },
    {
     "data": {
      "text/latex": [
       "$\\text{costos no básicos}\\\\{w_{(1, 4)}=1, w_{(2, 1)}=-6}$"
      ]
     },
     "metadata": {},
     "output_type": "display_data"
    }
   ],
   "source": [
    "basic_var = [0, 3, 4, 5]\n",
    "non_basic_var = list(var - set(basic_var))\n",
    "\n",
    "basic_edges = get_edges(edges, basic_var)\n",
    "non_basic_edges = get_edges(edges, non_basic_var)\n",
    "\n",
    "print(f\"variables básicas\\nBI = {basic_var}\")\n",
    "x_sol, w_T, z = calculate_tree(A, b, c, basic_var, non_basic_var)\n",
    "print_vector(\"map\", \"a\", [r\"x_{%s}\" % i for i in basic_var], basic_edges)\n",
    "print_vector(\"solución básica (flujos)\", \"a\", x_sol, basic_edges)\n",
    "print_vector(\"variable dual\", \"w\", w_T, list(range(1, len(w_T) + 1)))\n",
    "print_vector(\"costos no básicos\", \"w\", z, non_basic_edges)\n"
   ]
  },
  {
   "cell_type": "code",
   "execution_count": 5,
   "metadata": {},
   "outputs": [
    {
     "name": "stdout",
     "output_type": "stream",
     "text": [
      "variables básicas\n",
      "BI = [1, 3, 4, 5]\n",
      "Matriz B\n"
     ]
    },
    {
     "data": {
      "text/latex": [
       "$B=\\left[\\begin{matrix}1 & 0 & 0 & 0\\\\0 & 0 & -1 & 0\\\\0 & 1 & 0 & 0\\\\-1 & -1 & 1 & 1\\end{matrix}\\right]$"
      ]
     },
     "metadata": {},
     "output_type": "display_data"
    },
    {
     "data": {
      "text/latex": [
       "$\\text{map}\\\\{a_{(1, 4)}=x_{1}, a_{(3, 4)}=x_{3}, a_{(4, 2)}=x_{4}, a_{(4, \\infty)}=x_{5}}$"
      ]
     },
     "metadata": {},
     "output_type": "display_data"
    },
    {
     "data": {
      "text/latex": [
       "$\\text{solución básica (flujos)}\\\\{a_{(1, 4)}=3, a_{(3, 4)}=5, a_{(4, 2)}=2, a_{(4, \\infty)}=0}$"
      ]
     },
     "metadata": {},
     "output_type": "display_data"
    },
    {
     "data": {
      "text/latex": [
       "$\\text{variable dual}\\\\{w_{1}=1, w_{2}=-4, w_{3}=-2, w_{4}=0}$"
      ]
     },
     "metadata": {},
     "output_type": "display_data"
    },
    {
     "data": {
      "text/latex": [
       "$\\text{costos no básicos}\\\\{w_{(1, 3)}=-1, w_{(2, 1)}=-5}$"
      ]
     },
     "metadata": {},
     "output_type": "display_data"
    }
   ],
   "source": [
    "basic_var = [1, 3, 4, 5]\n",
    "non_basic_var = list(var - set(basic_var))\n",
    "\n",
    "basic_edges = get_edges(edges, basic_var)\n",
    "non_basic_edges = get_edges(edges, non_basic_var)\n",
    "\n",
    "print(f\"variables básicas\\nBI = {basic_var}\")\n",
    "x_sol, w_T, z = calculate_tree(A, b, c, basic_var, non_basic_var)\n",
    "print_vector(\"map\", \"a\", [r\"x_{%s}\" % i for i in basic_var], basic_edges)\n",
    "print_vector(\"solución básica (flujos)\", \"a\", x_sol, basic_edges)\n",
    "print_vector(\"variable dual\", \"w\", w_T, list(range(1, len(w_T) + 1)))\n",
    "print_vector(\"costos no básicos\", \"w\", z, non_basic_edges)\n",
    "\n"
   ]
  },
  {
   "cell_type": "markdown",
   "metadata": {},
   "source": [
    "![image.png](data:image/png;base64,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)"
   ]
  },
  {
   "cell_type": "markdown",
   "metadata": {},
   "source": [
    "#### 2. Considere el siguiente modelo LO\n",
    "\n",
    "\\begin{align*}\n",
    "\\max \\quad 2x_1 &- x_2&\\\\\n",
    "\\text{s.t.}\\quad    x_1& - x_2& \\le 1\\\\\n",
    "                    x_1& - x_2& \\ge 2\\\\\n",
    "\\end{align*}\n",
    "\n",
    "$$x_1, x_2\\ge 0$$\n",
    "\n",
    "Muestre que ambos este modelo y su dual son infactibles.\n",
    "\n",
    "**Solución**\n",
    "\n",
    "Graficamente se observa que la region es vacía."
   ]
  },
  {
   "cell_type": "markdown",
   "metadata": {},
   "source": [
    "#### 3. Considere el siguiente modelo LO\n",
    "\n",
    "\\begin{align*}\n",
    "\\max (1 + δ)x_1& +& x_2&\\\\\n",
    "\\text{s.t.}\\quad \\quad \\quad   {}& {}& x_2& \\le 5\\\\\n",
    "2x_1& +& x_2& \\le 8\\\\\n",
    "3x_1& +& x_2& \\le 10\n",
    "\\end{align*}\n",
    "\n",
    "$$x_1, x_2 \\ge 0$$\n",
    "\n",
    "**Solución**"
   ]
  },
  {
   "cell_type": "code",
   "execution_count": 6,
   "metadata": {},
   "outputs": [],
   "source": [
    "def pivoting_symbolic(tableau: np.ndarray, row: int, col: int) -> np.ndarray:\n",
    "    # escale pivot row min to 1.0\n",
    "    tableau[row, :] = tableau[row, :] / tableau[row, col]\n",
    "    # pivot proccess: convert al column to zero except row\n",
    "    for k in range(tableau.shape[0]):\n",
    "        if k != row:\n",
    "            tableau[k, :] = tableau[k, :] - tableau[k, col] * tableau[row, :]\n",
    "\n",
    "\n",
    "def correct_symbolic_cost(tableau: np.ndarray, basic_var: list[int]) -> None:\n",
    "    # correct basic variable cost with value distict of zero\n",
    "    for index, col in enumerate(basic_var):\n",
    "        row = index + 1\n",
    "        tableau[0, :] = tableau[0, :] - tableau[0, col] * tableau[row, :]\n",
    "    print(f\"Cost corrected\")\n"
   ]
  },
  {
   "cell_type": "code",
   "execution_count": 7,
   "metadata": {},
   "outputs": [],
   "source": [
    "A = [[0, 1, 1, 0, 0],\n",
    "     [2, 1, 0, 1, 0],\n",
    "     [3, 1, 0, 0, 1.]]\n",
    "\n",
    "b = [5, 8, 10.]\n",
    "\n",
    "c = lambda delta: [delta + 1., 1, 0, 0, 0]\n",
    "\n",
    "delta = sp.symbols(\"\\\\delta\")"
   ]
  },
  {
   "cell_type": "code",
   "execution_count": 8,
   "metadata": {},
   "outputs": [
    {
     "name": "stdout",
     "output_type": "stream",
     "text": [
      "Simplex process\n",
      "vertex = [ 0.  0.  5.  8. 10.], x_B = [3, 4, 5]\n",
      "[[ 1.  1.  0.  0.  0.  0.]\n",
      " [ 0.  1.  1.  0.  0.  5.]\n",
      " [ 2.  1.  0.  1.  0.  8.]\n",
      " [ 3.  1.  0.  0.  1. 10.]]\n",
      "vertex = [3.33333333 0.         5.         1.33333333 0.        ], x_B = [3, 4, 1]\n",
      "[[ 0.          0.66666667  0.          0.         -0.33333333 -3.33333333]\n",
      " [ 0.          1.          1.          0.          0.          5.        ]\n",
      " [ 0.          0.33333333  0.          1.         -0.66666667  1.33333333]\n",
      " [ 1.          0.33333333  0.          0.          0.33333333  3.33333333]]\n",
      "vertex = [2. 4. 1. 0. 0.], x_B = [3, 2, 1]\n",
      "[[ 0.  0.  0. -2.  1. -6.]\n",
      " [ 0.  0.  1. -3.  2.  1.]\n",
      " [ 0.  1.  0.  3. -2.  4.]\n",
      " [ 1.  0.  0. -1.  1.  2.]]\n",
      "vertex = [1.5 5.  0.  0.  0.5], x_B = [5, 2, 1]\n",
      "[[ 0.   0.  -0.5 -0.5  0.  -6.5]\n",
      " [ 0.   0.   0.5 -1.5  1.   0.5]\n",
      " [ 0.   1.   1.   0.   0.   5. ]\n",
      " [ 1.   0.  -0.5  0.5  0.   1.5]]\n",
      "Perturbation\n"
     ]
    },
    {
     "data": {
      "text/latex": [
       "$\\displaystyle \\left[\\begin{matrix}\\delta + 1.0 & 1 & 0 & 0 & 0 & 0\\\\0 & 0 & 0.5 & -1.5 & 1.0 & 0.500000000000001\\\\0 & 1.0 & 1.0 & 0 & 0 & 5.0\\\\1.0 & 0 & -0.5 & 0.5 & 0 & 1.5\\end{matrix}\\right]$"
      ],
      "text/plain": [
       "Matrix([\n",
       "[\\delta + 1.0,   1,    0,    0,   0,                 0],\n",
       "[           0,   0,  0.5, -1.5, 1.0, 0.500000000000001],\n",
       "[           0, 1.0,  1.0,    0,   0,               5.0],\n",
       "[         1.0,   0, -0.5,  0.5,   0,               1.5]])"
      ]
     },
     "metadata": {},
     "output_type": "display_data"
    },
    {
     "name": "stdout",
     "output_type": "stream",
     "text": [
      "Cost corrected\n"
     ]
    },
    {
     "data": {
      "text/latex": [
       "$\\displaystyle \\left[\\begin{matrix}0 & 0 & \\frac{\\delta}{2} - \\frac{1}{2} & - \\frac{\\delta}{2} - \\frac{1}{2} & 0 & - \\frac{3 \\delta}{2} - \\frac{13}{2}\\\\0 & 0 & \\frac{1}{2} & - \\frac{3}{2} & 1 & \\frac{1}{2}\\\\0 & 1 & 1 & 0 & 0 & 5\\\\1 & 0 & - \\frac{1}{2} & \\frac{1}{2} & 0 & \\frac{3}{2}\\end{matrix}\\right]$"
      ],
      "text/plain": [
       "Matrix([\n",
       "[0, 0, \\delta/2 - 1/2, -\\delta/2 - 1/2, 0, -3*\\delta/2 - 13/2],\n",
       "[0, 0,            1/2,            -3/2, 1,                1/2],\n",
       "[0, 1,              1,               0, 0,                  5],\n",
       "[1, 0,           -1/2,             1/2, 0,                3/2]])"
      ]
     },
     "metadata": {},
     "output_type": "display_data"
    }
   ],
   "source": [
    "basic_var = [2, 3, 4]\n",
    "\n",
    "tableau = build_tableau(A, b, c(0))\n",
    "print(\"Simplex process\")\n",
    "opt_tableau = simplex(tableau, basic_var)\n",
    "opt_tableau = sp.Matrix(opt_tableau.tolist())\n",
    "opt_tableau[0, :-1] = sp.Matrix(c(delta)).T\n",
    "opt_tableau[0, -1] = 0\n",
    "print(\"Perturbation\")\n",
    "display(opt_tableau)\n",
    "\n",
    "correct_symbolic_cost(opt_tableau, basic_var)\n",
    "display(sp.nsimplify(opt_tableau, rational=True))\n"
   ]
  },
  {
   "cell_type": "code",
   "execution_count": 9,
   "metadata": {},
   "outputs": [
    {
     "name": "stdout",
     "output_type": "stream",
     "text": [
      "vertex = [ 0.  0.  5.  8. 10.], x_B = [3, 4, 5]\n",
      "[[ 2.  1.  0.  0.  0.  0.]\n",
      " [ 0.  1.  1.  0.  0.  5.]\n",
      " [ 2.  1.  0.  1.  0.  8.]\n",
      " [ 3.  1.  0.  0.  1. 10.]]\n",
      "vertex = [3.33333333 0.         5.         1.33333333 0.        ], x_B = [3, 4, 1]\n",
      "[[ 0.          0.33333333  0.          0.         -0.66666667 -6.66666667]\n",
      " [ 0.          1.          1.          0.          0.          5.        ]\n",
      " [ 0.          0.33333333  0.          1.         -0.66666667  1.33333333]\n",
      " [ 1.          0.33333333  0.          0.          0.33333333  3.33333333]]\n",
      "vertex = [2. 4. 1. 0. 0.], x_B = [3, 2, 1]\n",
      "[[ 0.  0.  0. -1.  0. -8.]\n",
      " [ 0.  0.  1. -3.  2.  1.]\n",
      " [ 0.  1.  0.  3. -2.  4.]\n",
      " [ 1.  0.  0. -1.  1.  2.]]\n"
     ]
    },
    {
     "data": {
      "text/latex": [
       "$\\displaystyle \\left[\\begin{matrix}\\delta + 1.0 & 1 & 0 & 0 & 0 & 0\\\\0 & 0 & 1.0 & -3.0 & 2.0 & 1.0\\\\0 & 1.0 & 0 & 3.0 & -2.0 & 4.0\\\\1.0 & 0 & 0 & -1.0 & 1.0 & 2.0\\end{matrix}\\right]$"
      ],
      "text/plain": [
       "Matrix([\n",
       "[\\delta + 1.0,   1,   0,    0,    0,   0],\n",
       "[           0,   0, 1.0, -3.0,  2.0, 1.0],\n",
       "[           0, 1.0,   0,  3.0, -2.0, 4.0],\n",
       "[         1.0,   0,   0, -1.0,  1.0, 2.0]])"
      ]
     },
     "metadata": {},
     "output_type": "display_data"
    },
    {
     "name": "stdout",
     "output_type": "stream",
     "text": [
      "Cost corrected\n"
     ]
    },
    {
     "data": {
      "text/latex": [
       "$\\displaystyle \\left[\\begin{matrix}0 & 0 & 0 & \\delta - 2 & 1 - \\delta & - 2 \\delta - 6\\\\0 & 0 & 1 & -3 & 2 & 1\\\\0 & 1 & 0 & 3 & -2 & 4\\\\1 & 0 & 0 & -1 & 1 & 2\\end{matrix}\\right]$"
      ],
      "text/plain": [
       "Matrix([\n",
       "[0, 0, 0, \\delta - 2, 1 - \\delta, -2*\\delta - 6],\n",
       "[0, 0, 1,         -3,          2,             1],\n",
       "[0, 1, 0,          3,         -2,             4],\n",
       "[1, 0, 0,         -1,          1,             2]])"
      ]
     },
     "execution_count": 9,
     "metadata": {},
     "output_type": "execute_result"
    }
   ],
   "source": [
    "basic_var = [2, 3, 4]\n",
    "\n",
    "tableau = build_tableau(A, b, c(1))\n",
    "opt_tableau = simplex(tableau, basic_var)\n",
    "opt_tableau = sp.Matrix(opt_tableau.tolist())\n",
    "opt_tableau[0, :-1] = sp.Matrix(c(delta)).T\n",
    "opt_tableau[0, -1] = 0\n",
    "display(opt_tableau)\n",
    "\n",
    "correct_symbolic_cost(opt_tableau, basic_var)\n",
    "sp.nsimplify(opt_tableau, rational=True)\n"
   ]
  },
  {
   "cell_type": "code",
   "execution_count": 10,
   "metadata": {},
   "outputs": [
    {
     "name": "stdout",
     "output_type": "stream",
     "text": [
      "vertex = [ 0.  0.  5.  8. 10.], x_B = [3, 4, 5]\n",
      "[[ 3.  1.  0.  0.  0.  0.]\n",
      " [ 0.  1.  1.  0.  0.  5.]\n",
      " [ 2.  1.  0.  1.  0.  8.]\n",
      " [ 3.  1.  0.  0.  1. 10.]]\n",
      "vertex = [3.33333333 0.         5.         1.33333333 0.        ], x_B = [3, 4, 1]\n",
      "[[  0.           0.           0.           0.          -1.         -10.        ]\n",
      " [  0.           1.           1.           0.           0.           5.        ]\n",
      " [  0.           0.33333333   0.           1.          -0.66666667   1.33333333]\n",
      " [  1.           0.33333333   0.           0.           0.33333333   3.33333333]]\n"
     ]
    },
    {
     "data": {
      "text/latex": [
       "$\\displaystyle \\left[\\begin{matrix}\\delta + 1.0 & 1 & 0 & 0 & 0 & 0\\\\0 & 1.0 & 1.0 & 0 & 0 & 5.0\\\\0 & 0.333333333333333 & 0 & 1.0 & -0.666666666666667 & 1.33333333333333\\\\1.0 & 0.333333333333333 & 0 & 0 & 0.333333333333333 & 3.33333333333333\\end{matrix}\\right]$"
      ],
      "text/plain": [
       "Matrix([\n",
       "[\\delta + 1.0,                 1,   0,   0,                  0,                0],\n",
       "[           0,               1.0, 1.0,   0,                  0,              5.0],\n",
       "[           0, 0.333333333333333,   0, 1.0, -0.666666666666667, 1.33333333333333],\n",
       "[         1.0, 0.333333333333333,   0,   0,  0.333333333333333, 3.33333333333333]])"
      ]
     },
     "metadata": {},
     "output_type": "display_data"
    },
    {
     "name": "stdout",
     "output_type": "stream",
     "text": [
      "Cost corrected\n"
     ]
    },
    {
     "data": {
      "text/latex": [
       "$\\displaystyle \\left[\\begin{matrix}0 & \\frac{2}{3} - \\frac{\\delta}{3} & 0 & 0 & - \\frac{\\delta}{3} - \\frac{1}{3} & - \\frac{10 \\delta}{3} - \\frac{10}{3}\\\\0 & 1 & 1 & 0 & 0 & 5\\\\0 & \\frac{1}{3} & 0 & 1 & - \\frac{2}{3} & \\frac{4}{3}\\\\1 & \\frac{1}{3} & 0 & 0 & \\frac{1}{3} & \\frac{10}{3}\\end{matrix}\\right]$"
      ],
      "text/plain": [
       "Matrix([\n",
       "[0, 2/3 - \\delta/3, 0, 0, -\\delta/3 - 1/3, -10*\\delta/3 - 10/3],\n",
       "[0,              1, 1, 0,               0,                   5],\n",
       "[0,            1/3, 0, 1,            -2/3,                 4/3],\n",
       "[1,            1/3, 0, 0,             1/3,                10/3]])"
      ]
     },
     "execution_count": 10,
     "metadata": {},
     "output_type": "execute_result"
    }
   ],
   "source": [
    "basic_var = [2, 3, 4]\n",
    "\n",
    "tableau = build_tableau(A, b, c(2))\n",
    "opt_tableau = simplex(tableau, basic_var)\n",
    "opt_tableau = sp.Matrix(opt_tableau.tolist())\n",
    "opt_tableau[0, :-1] = sp.Matrix(c(delta)).T\n",
    "opt_tableau[0, -1] = 0\n",
    "display(opt_tableau)\n",
    "\n",
    "correct_symbolic_cost(opt_tableau, basic_var)\n",
    "sp.nsimplify(opt_tableau, rational=True)\n"
   ]
  },
  {
   "cell_type": "code",
   "execution_count": 11,
   "metadata": {},
   "outputs": [
    {
     "name": "stdout",
     "output_type": "stream",
     "text": [
      "vertex = [ 0.  0.  5.  8. 10.], x_B = [3, 4, 5]\n",
      "[[ 0.  1.  0.  0.  0.  0.]\n",
      " [ 0.  1.  1.  0.  0.  5.]\n",
      " [ 2.  1.  0.  1.  0.  8.]\n",
      " [ 3.  1.  0.  0.  1. 10.]]\n",
      "vertex = [0. 5. 0. 3. 5.], x_B = [2, 4, 5]\n",
      "[[ 0.  0. -1.  0.  0. -5.]\n",
      " [ 0.  1.  1.  0.  0.  5.]\n",
      " [ 2.  0. -1.  1.  0.  3.]\n",
      " [ 3.  0. -1.  0.  1.  5.]]\n"
     ]
    },
    {
     "data": {
      "text/latex": [
       "$\\displaystyle \\left[\\begin{matrix}\\delta + 1.0 & 1 & 0 & 0 & 0 & 0\\\\0 & 1.0 & 1.0 & 0 & 0 & 5.0\\\\2.0 & 0 & -1.0 & 1.0 & 0 & 3.0\\\\3.0 & 0 & -1.0 & 0 & 1.0 & 5.0\\end{matrix}\\right]$"
      ],
      "text/plain": [
       "Matrix([\n",
       "[\\delta + 1.0,   1,    0,   0,   0,   0],\n",
       "[           0, 1.0,  1.0,   0,   0, 5.0],\n",
       "[         2.0,   0, -1.0, 1.0,   0, 3.0],\n",
       "[         3.0,   0, -1.0,   0, 1.0, 5.0]])"
      ]
     },
     "metadata": {},
     "output_type": "display_data"
    },
    {
     "name": "stdout",
     "output_type": "stream",
     "text": [
      "Cost corrected\n"
     ]
    },
    {
     "data": {
      "text/latex": [
       "$\\displaystyle \\left[\\begin{matrix}\\delta + 1 & 0 & -1 & 0 & 0 & -5\\\\0 & 1 & 1 & 0 & 0 & 5\\\\2 & 0 & -1 & 1 & 0 & 3\\\\3 & 0 & -1 & 0 & 1 & 5\\end{matrix}\\right]$"
      ],
      "text/plain": [
       "Matrix([\n",
       "[\\delta + 1, 0, -1, 0, 0, -5],\n",
       "[         0, 1,  1, 0, 0,  5],\n",
       "[         2, 0, -1, 1, 0,  3],\n",
       "[         3, 0, -1, 0, 1,  5]])"
      ]
     },
     "execution_count": 11,
     "metadata": {},
     "output_type": "execute_result"
    }
   ],
   "source": [
    "basic_var = [2, 3, 4]\n",
    "\n",
    "tableau = build_tableau(A, b, c(-1))\n",
    "opt_tableau = simplex(tableau, basic_var)\n",
    "opt_tableau = sp.Matrix(opt_tableau.tolist())\n",
    "opt_tableau[0, :-1] = sp.Matrix(c(delta)).T\n",
    "opt_tableau[0, -1] = 0\n",
    "display(opt_tableau)\n",
    "\n",
    "correct_symbolic_cost(opt_tableau, basic_var)\n",
    "sp.nsimplify(opt_tableau, rational=True)\n"
   ]
  },
  {
   "cell_type": "markdown",
   "metadata": {},
   "source": [
    "**Gráfico**"
   ]
  },
  {
   "cell_type": "code",
   "execution_count": 12,
   "metadata": {},
   "outputs": [
    {
     "data": {
      "image/png": "[encoded data removed]",
      "text/plain": [
       "<Figure size 432x288 with 1 Axes>"
      ]
     },
     "metadata": {
      "needs_background": "light"
     },
     "output_type": "display_data"
    }
   ],
   "source": [
    "def z(delta):\n",
    "    if delta < -1:\n",
    "        return 5\n",
    "    elif -1 <= delta < 1:\n",
    "        return (3 * delta + 13) / 2\n",
    "    elif 1 <= delta <= 2:\n",
    "        return 2 * delta + 6   # f'(0) = 4.5\n",
    "    else:\n",
    "        return 10 / 3 * (delta + 1)\n",
    "\n",
    "\n",
    "interval_point = [-1, 1, 2]\n",
    "z_point = [z(d) for d in interval_point]\n",
    "\n",
    "interval = np.linspace(-2, 3)\n",
    "z_plot = [z(d) for d in interval]\n",
    "\n",
    "plt.xlabel(\"$\\delta$\")\n",
    "plt.ylabel(\"$z^*(\\delta)$\")\n",
    "plt.plot(interval, z_plot)\n",
    "plt.plot(interval_point, z_point, 'o', c='r')\n",
    "plt.show()\n"
   ]
  }
 ],
 "metadata": {
  "kernelspec": {
   "display_name": "Python 3.10.6 64-bit",
   "language": "python",
   "name": "python3"
  },
  "language_info": {
   "codemirror_mode": {
    "name": "ipython",
    "version": 3
   },
   "file_extension": ".py",
   "mimetype": "text/x-python",
   "name": "python",
   "nbconvert_exporter": "python",
   "pygments_lexer": "ipython3",
   "version": "3.10.6"
  },
  "orig_nbformat": 4,
  "vscode": {
   "interpreter": {
    "hash": "590f4a299ae404e723bbc5f32e9a7b98b836c3c65ce9112bc934ac92a06ceee3"
   }
  }
 },
 "nbformat": 4,
 "nbformat_minor": 2
}
