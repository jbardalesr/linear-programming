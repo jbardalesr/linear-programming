{
 "cells": [
  {
   "cell_type": "markdown",
   "metadata": {},
   "source": [
    "## Examen Parcial"
   ]
  },
  {
   "cell_type": "code",
   "execution_count": 1,
   "metadata": {},
   "outputs": [],
   "source": [
    "import sys\n",
    "sys.path.insert(0, \"..\")\n",
    "\n",
    "from algorithms.simplex_algorithms import *\n",
    "from algorithms.basic_solution import basic_solutions, get_all_vertex\n",
    "import numpy as np\n",
    "import sympy as sp\n",
    "\n",
    "np.set_printoptions(suppress=True, linewidth=np.nan)\n"
   ]
  },
  {
   "cell_type": "markdown",
   "metadata": {},
   "source": [
    "#### 1. Muestre que las región factible del siguiente modelo LO es no acotado, y que este tiene soluciones óptimas múltiples.\n",
    "\n",
    "\\begin{align*}\n",
    "\\max -2x_1 + x_2 + x_3\\\\\n",
    "s.t. -x_1 + x_2 + x_3 \\le 2\\\\\n",
    "            x_1 - x_2 + x_3 \\le 2\\\\\n",
    "            x_1, x_2 \\ge 0, x_3 \\text{ free}\n",
    "\\end{align*}\n",
    "\n",
    "Determine todos los vértices (puntos extremos) y direcciones extremas de la región factible.\n",
    "\n",
    "**Solución**"
   ]
  },
  {
   "cell_type": "markdown",
   "metadata": {},
   "source": [
    "![image.png](data:image/png;base64,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)"
   ]
  },
  {
   "cell_type": "markdown",
   "metadata": {},
   "source": [
    "**Método 1**: el LO es no acotado si el método simplex hay una columna positiva con elementos negativos. Tomando como vector costo $c=(1, 1, 0)$, se mostrará que no es acotado. Y tiene múltiples soluciones si existe un elemento zero en los costos no básicos."
   ]
  },
  {
   "cell_type": "code",
   "execution_count": 2,
   "metadata": {},
   "outputs": [
    {
     "name": "stdout",
     "output_type": "stream",
     "text": [
      "vertex = [0. 0. 0. 2. 2.], x_B = [4, 5]\n",
      "[[ 1.  1.  0.  0.  0.  0.]\n",
      " [-1.  1.  1.  1.  0.  2.]\n",
      " [ 1. -1.  1.  0.  1.  2.]]\n",
      "vertex = [2. 0. 0. 4. 0.], x_B = [4, 1]\n",
      "[[ 0.  2. -1.  0. -1. -2.]\n",
      " [ 0.  0.  2.  1.  1.  4.]\n",
      " [ 1. -1.  1.  0.  1.  2.]]\n",
      "The model is unbounded\n",
      "L = [2. 0. 0. 4. 0.] + λ[ 1.  1.  0. -0.  0.]\n",
      "L = [2. 0. 0.] + λ[1. 1. 0.]\n"
     ]
    }
   ],
   "source": [
    "A = np.array([[-1, 1, 1, 1, 0.],\n",
    "              [1, -1, 1, 0, 1.]])\n",
    "\n",
    "b = np.array([2, 2.])\n",
    "\n",
    "c = np.array([1, 1, 0., 0, 0])\n",
    "\n",
    "basic_indices = [3, 4]\n",
    "\n",
    "tableau = build_tableau(A, b, c)\n",
    "simplex(tableau, basic_indices);"
   ]
  },
  {
   "cell_type": "code",
   "execution_count": 3,
   "metadata": {},
   "outputs": [
    {
     "name": "stdout",
     "output_type": "stream",
     "text": [
      "vertex = [0. 0. 0. 0. 2. 2.], x_B = [5, 6]\n",
      "[[-2.  1.  1. -1.  0.  0.  0.]\n",
      " [-1.  1.  1. -1.  1.  0.  2.]\n",
      " [ 1. -1.  1. -1.  0.  1.  2.]]\n",
      "vertex = [0. 2. 0. 0. 0. 4.], x_B = [2, 6]\n",
      "[[-1.  0.  0.  0. -1.  0. -2.]\n",
      " [-1.  1.  1. -1.  1.  0.  2.]\n",
      " [ 0.  0.  2. -2.  1.  1.  4.]]\n"
     ]
    }
   ],
   "source": [
    "A = np.array([[-1, 1, 1, -1, 1, 0.],\n",
    "              [1, -1, 1, -1, 0, 1.]])\n",
    "\n",
    "b = np.array([2, 2.])\n",
    "\n",
    "c = np.array([-2, 1, 1., -1, 0, 0])\n",
    "\n",
    "basic_indices = [4, 5]\n",
    "\n",
    "tableau = build_tableau(A, b, c)\n",
    "simplex(tableau, basic_indices);\n"
   ]
  },
  {
   "cell_type": "markdown",
   "metadata": {},
   "source": [
    "La columna 2, 3 los costos no básicos son cero por lo que hay múltiples soluciones. "
   ]
  },
  {
   "cell_type": "markdown",
   "metadata": {},
   "source": [
    "**Método 2**\n",
    "\n",
    "Vértices"
   ]
  },
  {
   "cell_type": "code",
   "execution_count": 4,
   "metadata": {},
   "outputs": [
    {
     "name": "stdout",
     "output_type": "stream",
     "text": [
      "Number of combinations: 15\n",
      "Basic solution 1\n",
      "Matrix det == 0; not invertible.\n"
     ]
    },
    {
     "data": {
      "text/latex": [
       "$$B = \\left[\\begin{matrix}-1 & 1\\\\1 & -1\\end{matrix}\\right], \\left[\\begin{matrix}x_{1}\\\\x_{2}\\end{matrix}\\right]$$"
      ]
     },
     "metadata": {},
     "output_type": "display_data"
    },
    {
     "name": "stdout",
     "output_type": "stream",
     "text": [
      "Basic solution 2\n"
     ]
    },
    {
     "data": {
      "text/latex": [
       "$$B=\\left[\\begin{matrix}-1 & 1\\\\1 & 1\\end{matrix}\\right], \\quad \\mathbf x_B=\\left[\\begin{matrix}x_{1}\\\\x_{3}\\end{matrix}\\right] = B^{-1}\\mathbf b=\\left[\\begin{matrix}- \\frac{1}{2} & \\frac{1}{2}\\\\\\frac{1}{2} & \\frac{1}{2}\\end{matrix}\\right]\\left[\\begin{matrix}2\\\\2.0\\end{matrix}\\right]=\\left[\\begin{matrix}0\\\\2.0\\end{matrix}\\right]$$"
      ]
     },
     "metadata": {},
     "output_type": "display_data"
    },
    {
     "name": "stdout",
     "output_type": "stream",
     "text": [
      "Basic solution 3\n"
     ]
    },
    {
     "data": {
      "text/latex": [
       "$$B=\\left[\\begin{matrix}-1 & -1\\\\1 & -1\\end{matrix}\\right], \\quad \\mathbf x_B=\\left[\\begin{matrix}x_{1}\\\\x_{4}\\end{matrix}\\right] = B^{-1}\\mathbf b=\\left[\\begin{matrix}- \\frac{1}{2} & \\frac{1}{2}\\\\- \\frac{1}{2} & - \\frac{1}{2}\\end{matrix}\\right]\\left[\\begin{matrix}2\\\\2.0\\end{matrix}\\right]=\\left[\\begin{matrix}0\\\\-2.0\\end{matrix}\\right]$$"
      ]
     },
     "metadata": {},
     "output_type": "display_data"
    },
    {
     "name": "stdout",
     "output_type": "stream",
     "text": [
      "Basic solution 4\n"
     ]
    },
    {
     "data": {
      "text/latex": [
       "$$B=\\left[\\begin{matrix}-1 & 1\\\\1 & 0\\end{matrix}\\right], \\quad \\mathbf x_B=\\left[\\begin{matrix}x_{1}\\\\x_{5}\\end{matrix}\\right] = B^{-1}\\mathbf b=\\left[\\begin{matrix}0 & 1\\\\1 & 1\\end{matrix}\\right]\\left[\\begin{matrix}2\\\\2.0\\end{matrix}\\right]=\\left[\\begin{matrix}2.0\\\\4.0\\end{matrix}\\right]$$"
      ]
     },
     "metadata": {},
     "output_type": "display_data"
    },
    {
     "name": "stdout",
     "output_type": "stream",
     "text": [
      "Basic solution 5\n"
     ]
    },
    {
     "data": {
      "text/latex": [
       "$$B=\\left[\\begin{matrix}-1 & 0\\\\1 & 1.0\\end{matrix}\\right], \\quad \\mathbf x_B=\\left[\\begin{matrix}x_{1}\\\\x_{6}\\end{matrix}\\right] = B^{-1}\\mathbf b=\\left[\\begin{matrix}-1 & 0\\\\1.0 & 1.0\\end{matrix}\\right]\\left[\\begin{matrix}2\\\\2.0\\end{matrix}\\right]=\\left[\\begin{matrix}-2\\\\4.0\\end{matrix}\\right]$$"
      ]
     },
     "metadata": {},
     "output_type": "display_data"
    },
    {
     "name": "stdout",
     "output_type": "stream",
     "text": [
      "Basic solution 6\n"
     ]
    },
    {
     "data": {
      "text/latex": [
       "$$B=\\left[\\begin{matrix}1 & 1\\\\-1 & 1\\end{matrix}\\right], \\quad \\mathbf x_B=\\left[\\begin{matrix}x_{2}\\\\x_{3}\\end{matrix}\\right] = B^{-1}\\mathbf b=\\left[\\begin{matrix}\\frac{1}{2} & - \\frac{1}{2}\\\\\\frac{1}{2} & \\frac{1}{2}\\end{matrix}\\right]\\left[\\begin{matrix}2\\\\2.0\\end{matrix}\\right]=\\left[\\begin{matrix}0\\\\2.0\\end{matrix}\\right]$$"
      ]
     },
     "metadata": {},
     "output_type": "display_data"
    },
    {
     "name": "stdout",
     "output_type": "stream",
     "text": [
      "Basic solution 7\n"
     ]
    },
    {
     "data": {
      "text/latex": [
       "$$B=\\left[\\begin{matrix}1 & -1\\\\-1 & -1\\end{matrix}\\right], \\quad \\mathbf x_B=\\left[\\begin{matrix}x_{2}\\\\x_{4}\\end{matrix}\\right] = B^{-1}\\mathbf b=\\left[\\begin{matrix}\\frac{1}{2} & - \\frac{1}{2}\\\\- \\frac{1}{2} & - \\frac{1}{2}\\end{matrix}\\right]\\left[\\begin{matrix}2\\\\2.0\\end{matrix}\\right]=\\left[\\begin{matrix}0\\\\-2.0\\end{matrix}\\right]$$"
      ]
     },
     "metadata": {},
     "output_type": "display_data"
    },
    {
     "name": "stdout",
     "output_type": "stream",
     "text": [
      "Basic solution 8\n"
     ]
    },
    {
     "data": {
      "text/latex": [
       "$$B=\\left[\\begin{matrix}1 & 1\\\\-1 & 0\\end{matrix}\\right], \\quad \\mathbf x_B=\\left[\\begin{matrix}x_{2}\\\\x_{5}\\end{matrix}\\right] = B^{-1}\\mathbf b=\\left[\\begin{matrix}0 & -1\\\\1 & 1\\end{matrix}\\right]\\left[\\begin{matrix}2\\\\2.0\\end{matrix}\\right]=\\left[\\begin{matrix}-2.0\\\\4.0\\end{matrix}\\right]$$"
      ]
     },
     "metadata": {},
     "output_type": "display_data"
    },
    {
     "name": "stdout",
     "output_type": "stream",
     "text": [
      "Basic solution 9\n"
     ]
    },
    {
     "data": {
      "text/latex": [
       "$$B=\\left[\\begin{matrix}1 & 0\\\\-1 & 1.0\\end{matrix}\\right], \\quad \\mathbf x_B=\\left[\\begin{matrix}x_{2}\\\\x_{6}\\end{matrix}\\right] = B^{-1}\\mathbf b=\\left[\\begin{matrix}1 & 0\\\\1.0 & 1.0\\end{matrix}\\right]\\left[\\begin{matrix}2\\\\2.0\\end{matrix}\\right]=\\left[\\begin{matrix}2\\\\4.0\\end{matrix}\\right]$$"
      ]
     },
     "metadata": {},
     "output_type": "display_data"
    },
    {
     "name": "stdout",
     "output_type": "stream",
     "text": [
      "Basic solution 10\n",
      "Matrix det == 0; not invertible.\n"
     ]
    },
    {
     "data": {
      "text/latex": [
       "$$B = \\left[\\begin{matrix}1 & -1\\\\1 & -1\\end{matrix}\\right], \\left[\\begin{matrix}x_{3}\\\\x_{4}\\end{matrix}\\right]$$"
      ]
     },
     "metadata": {},
     "output_type": "display_data"
    },
    {
     "name": "stdout",
     "output_type": "stream",
     "text": [
      "Basic solution 11\n"
     ]
    },
    {
     "data": {
      "text/latex": [
       "$$B=\\left[\\begin{matrix}1 & 1\\\\1 & 0\\end{matrix}\\right], \\quad \\mathbf x_B=\\left[\\begin{matrix}x_{3}\\\\x_{5}\\end{matrix}\\right] = B^{-1}\\mathbf b=\\left[\\begin{matrix}0 & 1\\\\1 & -1\\end{matrix}\\right]\\left[\\begin{matrix}2\\\\2.0\\end{matrix}\\right]=\\left[\\begin{matrix}2.0\\\\0\\end{matrix}\\right]$$"
      ]
     },
     "metadata": {},
     "output_type": "display_data"
    },
    {
     "name": "stdout",
     "output_type": "stream",
     "text": [
      "Basic solution 12\n"
     ]
    },
    {
     "data": {
      "text/latex": [
       "$$B=\\left[\\begin{matrix}1 & 0\\\\1 & 1.0\\end{matrix}\\right], \\quad \\mathbf x_B=\\left[\\begin{matrix}x_{3}\\\\x_{6}\\end{matrix}\\right] = B^{-1}\\mathbf b=\\left[\\begin{matrix}1 & 0\\\\-1.0 & 1.0\\end{matrix}\\right]\\left[\\begin{matrix}2\\\\2.0\\end{matrix}\\right]=\\left[\\begin{matrix}2\\\\0\\end{matrix}\\right]$$"
      ]
     },
     "metadata": {},
     "output_type": "display_data"
    },
    {
     "name": "stdout",
     "output_type": "stream",
     "text": [
      "Basic solution 13\n"
     ]
    },
    {
     "data": {
      "text/latex": [
       "$$B=\\left[\\begin{matrix}-1 & 1\\\\-1 & 0\\end{matrix}\\right], \\quad \\mathbf x_B=\\left[\\begin{matrix}x_{4}\\\\x_{5}\\end{matrix}\\right] = B^{-1}\\mathbf b=\\left[\\begin{matrix}0 & -1\\\\1 & -1\\end{matrix}\\right]\\left[\\begin{matrix}2\\\\2.0\\end{matrix}\\right]=\\left[\\begin{matrix}-2.0\\\\0\\end{matrix}\\right]$$"
      ]
     },
     "metadata": {},
     "output_type": "display_data"
    },
    {
     "name": "stdout",
     "output_type": "stream",
     "text": [
      "Basic solution 14\n"
     ]
    },
    {
     "data": {
      "text/latex": [
       "$$B=\\left[\\begin{matrix}-1 & 0\\\\-1 & 1.0\\end{matrix}\\right], \\quad \\mathbf x_B=\\left[\\begin{matrix}x_{4}\\\\x_{6}\\end{matrix}\\right] = B^{-1}\\mathbf b=\\left[\\begin{matrix}-1 & 0\\\\-1.0 & 1.0\\end{matrix}\\right]\\left[\\begin{matrix}2\\\\2.0\\end{matrix}\\right]=\\left[\\begin{matrix}-2\\\\0\\end{matrix}\\right]$$"
      ]
     },
     "metadata": {},
     "output_type": "display_data"
    },
    {
     "name": "stdout",
     "output_type": "stream",
     "text": [
      "Basic solution 15\n"
     ]
    },
    {
     "data": {
      "text/latex": [
       "$$B=\\left[\\begin{matrix}1 & 0\\\\0 & 1.0\\end{matrix}\\right], \\quad \\mathbf x_B=\\left[\\begin{matrix}x_{5}\\\\x_{6}\\end{matrix}\\right] = B^{-1}\\mathbf b=\\left[\\begin{matrix}1 & 0\\\\0 & 1.0\\end{matrix}\\right]\\left[\\begin{matrix}2\\\\2.0\\end{matrix}\\right]=\\left[\\begin{matrix}2\\\\2.0\\end{matrix}\\right]$$"
      ]
     },
     "metadata": {},
     "output_type": "display_data"
    }
   ],
   "source": [
    "A_s = sp.Matrix([[-1, 1, 1, -1, 1, 0.],\n",
    "                 [1, -1, 1, -1, 0, 1.]])\n",
    "\n",
    "b_s = sp.Matrix([2, 2.])\n",
    "\n",
    "basic_solutions(A_s, b_s)\n"
   ]
  },
  {
   "cell_type": "code",
   "execution_count": 5,
   "metadata": {},
   "outputs": [
    {
     "name": "stdout",
     "output_type": "stream",
     "text": [
      "Los vértices son\n",
      "x_B=[1, 3], v=[0. 0. 2. 0.], c=2.0\n",
      "x_B=[1, 5], v=[2. 0. 0. 0.], c=-4.0\n",
      "x_B=[2, 3], v=[0. 0. 2. 0.], c=2.0\n",
      "x_B=[2, 6], v=[0. 2. 0. 0.], c=2.0\n",
      "x_B=[3, 5], v=[0. 0. 2. 0.], c=2.0\n",
      "x_B=[3, 6], v=[0. 0. 2. 0.], c=2.0\n",
      "x_B=[5, 6], v=[0. 0. 0. 0.], c=0.0\n"
     ]
    }
   ],
   "source": [
    "print(\"Los vértices son\")\n",
    "get_all_vertex(A, b, c[:4])\n"
   ]
  },
  {
   "cell_type": "markdown",
   "metadata": {},
   "source": [
    "Una dirección $d$ cumple que, dado $Ax\\le b$\n",
    "\n",
    "\\begin{align*}\n",
    "A(x+td) &\\le b, \\forall t \\ge 0 \\\\\n",
    "Ax+tAd &\\le b \\\\\n",
    "Ad &\\le 0\n",
    "\\end{align*}\n",
    "\n",
    "$Ad = 0, d\\ge0$, resolviendo se obtiene\n",
    "\\begin{align*}\n",
    "\\begin{bmatrix}\n",
    "-1&1&1&-1\\\\\n",
    "1&-1&1&-1\\\\\n",
    "\\end{bmatrix}\n",
    "\\begin{bmatrix}\n",
    "d_1\\\\\n",
    "d_2\\\\\n",
    "\\end{bmatrix} &= \n",
    "\\begin{bmatrix}\n",
    "0\\\\\n",
    "0\\\\\n",
    "\\end{bmatrix}\\\\\n",
    "-d_1 + d_2 + d_3 - d_4 &= 0, d_3=d_4\\\\ \n",
    "d_1 - d_2 + d_3 - d_4 &= 0, d_1=d_2\\\\ \n",
    "\\end{align*}\n",
    "\n",
    "Entonces $d=(1, 1, 0)$ es una dirección extrema (región no acotada)"
   ]
  },
  {
   "cell_type": "markdown",
   "metadata": {},
   "source": [
    "#### 3. Resuelva el siguiente modelo de optimización lineal.\n",
    "\n",
    "\\begin{align*}\n",
    "\\max\\quad 3x_1& - 3x_2& + x_3&\\\\\n",
    "\\text{s.t.} \\quad    x_1& + 3x_2& - 2x_3& \\ge 5\\\\\n",
    "                -3x_1& - 2x_2& + x_3& \\le 4\\\\\n",
    "\\end{align*}\n",
    "$$x_1, x_2, x_3 \\ge 0$$"
   ]
  },
  {
   "cell_type": "code",
   "execution_count": 6,
   "metadata": {},
   "outputs": [
    {
     "name": "stdout",
     "output_type": "stream",
     "text": [
      "x_B = [6, 5]\n",
      "[[ 0.  0.  0.  0.  0. -1.  0.]\n",
      " [ 1.  3. -2. -1.  0.  1.  5.]\n",
      " [-3. -2.  1.  0.  1.  0.  4.]]\n",
      "Cost corrected\n",
      "x_B = [6, 5]\n",
      "[[ 1.  3. -2. -1.  0.  0.  5.]\n",
      " [ 1.  3. -2. -1.  0.  1.  5.]\n",
      " [-3. -2.  1.  0.  1.  0.  4.]]\n",
      "Start phase One\n",
      "x_B = [2, 5]\n",
      "[[ 0.          0.          0.          0.          0.         -1.          0.        ]\n",
      " [ 0.33333333  1.         -0.66666667 -0.33333333  0.          0.33333333  1.66666667]\n",
      " [-2.33333333  0.         -0.33333333 -0.66666667  1.          0.66666667  7.33333333]]\n",
      "Delete artificial variables and create a new tableau [5]\n",
      "Start phase two, put original cost\n",
      "x_B = [2, 5]\n",
      "[[ 3.         -3.          1.          0.          0.          0.        ]\n",
      " [ 0.33333333  1.         -0.66666667 -0.33333333  0.          1.66666667]\n",
      " [-2.33333333  0.         -0.33333333 -0.66666667  1.          7.33333333]]\n",
      "Cost corrected\n",
      "vertex = [0.         1.66666667 0.         0.         7.33333333], x_B = [2, 5]\n",
      "[[ 4.          0.         -1.         -1.          0.          5.        ]\n",
      " [ 0.33333333  1.         -0.66666667 -0.33333333  0.          1.66666667]\n",
      " [-2.33333333  0.         -0.33333333 -0.66666667  1.          7.33333333]]\n",
      "vertex = [ 5.  0.  0.  0. 19.], x_B = [1, 5]\n",
      "[[  0. -12.   7.   3.   0. -15.]\n",
      " [  1.   3.  -2.  -1.   0.   5.]\n",
      " [  0.   7.  -5.  -3.   1.  19.]]\n",
      "The model is unbounded\n",
      "L = [ 5.  0.  0.  0. 19.] + λ[2. 0. 1. 0. 5.]\n",
      "L = [5. 0. 0.] + λ[2. 0. 1.]\n"
     ]
    }
   ],
   "source": [
    "A = [[1, 3, -2., -1, 0, 1],\n",
    "     [-3, -2, 1, 0., 1, 0]]\n",
    "\n",
    "b = [5, 4.]\n",
    "\n",
    "c = [3, -3, 1, 0, 0.]\n",
    "\n",
    "c_artificial = [0, 0, 0, 0, 0, -1.]\n",
    "\n",
    "basic_var = [5, 4]\n",
    "\n",
    "artificial_var = [5]\n",
    "\n",
    "tableau = build_tableau(A, b, c_artificial)\n",
    "two_phases(tableau, c, basic_var, artificial_var);\n"
   ]
  },
  {
   "cell_type": "markdown",
   "metadata": {},
   "source": [
    "#### 4. Considere el siguiente modelo LO\n",
    "\n",
    "\\begin{align*}\n",
    "\\max \\quad          2x_1& + 3x_2& - x_3& -12x_4&\\\\\n",
    "\\text{s.t.}\\quad    -2x_1&-9x_2& +x_3& + 9x_4&\\le 0\\\\ \n",
    "                    \\frac{1}{3}x_1& + x_2& - \\frac{1}{3}x_3& -2x_4& \\le 0\n",
    "\\end{align*}\n",
    "$$x_1, x_2, x_3, x_4 \\ge 0$$\n",
    "\n",
    "Dibuje el grafo de adyacencia simplex."
   ]
  }
 ],
 "metadata": {
  "kernelspec": {
   "display_name": "Python 3.10.5 64-bit",
   "language": "python",
   "name": "python3"
  },
  "language_info": {
   "codemirror_mode": {
    "name": "ipython",
    "version": 3
   },
   "file_extension": ".py",
   "mimetype": "text/x-python",
   "name": "python",
   "nbconvert_exporter": "python",
   "pygments_lexer": "ipython3",
   "version": "3.10.6"
  },
  "orig_nbformat": 4,
  "vscode": {
   "interpreter": {
    "hash": "590f4a299ae404e723bbc5f32e9a7b98b836c3c65ce9112bc934ac92a06ceee3"
   }
  }
 },
 "nbformat": 4,
 "nbformat_minor": 2
}
