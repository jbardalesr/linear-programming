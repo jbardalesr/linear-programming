{
 "cells": [
  {
   "cell_type": "markdown",
   "metadata": {},
   "source": [
    "# EXAMEN FINAL DE PROGRAMACIÓN LINEAL Y FLUJOS EN REDES"
   ]
  },
  {
   "cell_type": "code",
   "execution_count": 1,
   "metadata": {},
   "outputs": [],
   "source": [
    "import sys\n",
    "sys.path.insert(0, \"..\")\n",
    "\n",
    "from algorithms.network_flows import *\n",
    "from algorithms.util2 import print_model\n",
    "from algorithms.simplex_algorithms import *\n",
    "import numpy as np\n",
    "import sympy as sp"
   ]
  },
  {
   "cell_type": "code",
   "execution_count": 2,
   "metadata": {},
   "outputs": [],
   "source": [
    "def build_matrix(number_node: int, edges: list[Edge]):\n",
    "    # Output: matrix mx(n+1) A, with component i=1, j=-1, and last component 1\n",
    "    number_edge = len(edges)\n",
    "    A = sp.zeros(number_node, number_edge)\n",
    "    for k in range(number_edge - 1):\n",
    "        A[edges[k].i - 1, k] = 1\n",
    "        A[edges[k].j - 1, k] = -1\n",
    "    A[edges[-1].i - 1, -1] = 1\n",
    "    return A\n"
   ]
  },
  {
   "cell_type": "markdown",
   "metadata": {},
   "source": [
    "#### 1. Resolver el siguiente problema de flujo en red de costo mínimo con valores bi en los nodos y valores cij en los arcos. (Utilizando la teoría de grafos y árboles). (8 ptos)\n"
   ]
  },
  {
   "cell_type": "code",
   "execution_count": 3,
   "metadata": {},
   "outputs": [],
   "source": [
    "number_nodes = 4\n",
    "edges: list[Edge] = [Edge(1, 2, 3),\n",
    "                     Edge(1, 3, 3),\n",
    "                     Edge(2, 4, 1),\n",
    "                     Edge(2, 3, 4),\n",
    "                     Edge(3, 2, -2),\n",
    "                     Edge(3, 4, -5),\n",
    "                     Edge(4, np.Inf, 0)]\n",
    "\n",
    "A = build_matrix(number_nodes, edges)\n",
    "b = np.array([1, 0, 0, -1])  # sum(b) = 0\n",
    "c = np.array(list(map(lambda e: e.cost, edges)))\n",
    "var = set(range(len(edges)))\n"
   ]
  },
  {
   "cell_type": "code",
   "execution_count": 4,
   "metadata": {},
   "outputs": [
    {
     "data": {
      "text/latex": [
       "\\begin{align*} \\text{min}\\quad 3x_{(1, 2)}&+3x_{(1, 3)}&+1x_{(2, 4)}&+4x_{(2, 3)}&-2x_{(3, 2)}&-5x_{(3, 4)}&+0x_{(4, inf)}&\\\\\\text{s.t.}\\quad1x_{(1, 2)}&+1x_{(1, 3)}&+0x_{(2, 4)}&+0x_{(2, 3)}&+0x_{(3, 2)}&+0x_{(3, 4)}&+0x_{(4, inf)}&=&1\\\\-1x_{(1, 2)}&+0x_{(1, 3)}&+1x_{(2, 4)}&+1x_{(2, 3)}&-1x_{(3, 2)}&+0x_{(3, 4)}&+0x_{(4, inf)}&=&0\\\\0x_{(1, 2)}&-1x_{(1, 3)}&+0x_{(2, 4)}&-1x_{(2, 3)}&+1x_{(3, 2)}&+1x_{(3, 4)}&+0x_{(4, inf)}&=&0\\\\0x_{(1, 2)}&+0x_{(1, 3)}&-1x_{(2, 4)}&+0x_{(2, 3)}&+0x_{(3, 2)}&-1x_{(3, 4)}&+1x_{(4, inf)}&=&-1\\\\ \\end{align*}\\\\ x_{(1, 2)},x_{(1, 3)},x_{(2, 4)},x_{(2, 3)},x_{(3, 2)},x_{(3, 4)},x_{(4, inf)}\\ge 0"
      ]
     },
     "metadata": {},
     "output_type": "display_data"
    }
   ],
   "source": [
    "print_model(A, b, c, \"x\", get_edges(edges, list(var)), [\"=\"] * number_nodes, \"min\")\n"
   ]
  },
  {
   "cell_type": "code",
   "execution_count": 5,
   "metadata": {},
   "outputs": [
    {
     "data": {
      "text/latex": [
       "\\begin{align*} \\text{max}\\quad -1u_{1}&-1u_{2}&-1u_{3}&-1u_{4}&\\\\\\text{s.t.}\\quad1u_{1}&+0u_{2}&+0u_{3}&+0u_{4}&=&1\\\\0u_{1}&+1u_{2}&+0u_{3}&+0u_{4}&=&0\\\\0u_{1}&+0u_{2}&+1u_{3}&+0u_{4}&=&0\\\\0u_{1}&+0u_{2}&+0u_{3}&+1u_{4}&=&-1\\\\ \\end{align*}\\\\ u_{1},u_{2},u_{3},u_{4}\\ge 0"
      ]
     },
     "metadata": {},
     "output_type": "display_data"
    }
   ],
   "source": [
    "I = sp.Matrix([[1, 0, 0, 0],\n",
    "               [0, 1, 0, 0],\n",
    "               [0, 0, 1, 0],\n",
    "               [0, 0, 0, 1]])\n",
    "print_model(I, b, [-1, -1, -1, -1], \"u\", [1, 2, 3, 4], [\"=\"] * number_nodes, \"max\")\n"
   ]
  },
  {
   "cell_type": "code",
   "execution_count": 6,
   "metadata": {},
   "outputs": [
    {
     "name": "stdout",
     "output_type": "stream",
     "text": [
      "variables básicas\n",
      "BI = [1, 2, 4, 6]\n"
     ]
    },
    {
     "data": {
      "text/latex": [
       "$\\text{map}\\\\{x_{(1, 3)}=x_{1}, x_{(2, 4)}=x_{2}, x_{(3, 2)}=x_{4}, x_{(4, inf)}=x_{6}}$"
      ]
     },
     "metadata": {},
     "output_type": "display_data"
    },
    {
     "name": "stdout",
     "output_type": "stream",
     "text": [
      "Matriz B\n",
      "[[ 1.  0.  0.  0.]\n",
      " [ 0.  1. -1.  0.]\n",
      " [-1.  0.  1.  0.]\n",
      " [ 0. -1.  0.  1.]]\n"
     ]
    },
    {
     "data": {
      "text/latex": [
       "$\\text{solución básica (flujos)}\\\\{x_{(1, 3)}=1.0, x_{(2, 4)}=1.0, x_{(3, 2)}=1.0, x_{(4, inf)}=0.0}$"
      ]
     },
     "metadata": {},
     "output_type": "display_data"
    },
    {
     "data": {
      "text/latex": [
       "$\\text{variable dual}\\\\{w_{1}=2.0, w_{2}=1.0, w_{3}=-1.0, w_{4}=0.0}$"
      ]
     },
     "metadata": {},
     "output_type": "display_data"
    },
    {
     "data": {
      "text/latex": [
       "$\\text{costos no básicos}\\\\{w_{(1, 2)}=-2.0, w_{(2, 3)}=-2.0, w_{(3, 4)}=4.0}$"
      ]
     },
     "metadata": {},
     "output_type": "display_data"
    }
   ],
   "source": [
    "A = np.array(A).astype(float)\n",
    "basic_var = [1, 2, 4, 6]  # solucion [1, 3, 5, 6]\n",
    "basic_edges = get_edges(edges, basic_var)\n",
    "print(f\"variables básicas\\nBI = {basic_var}\")\n",
    "print_vector(\"map\", \"x\", [r\"x_{%s}\" % i for i in basic_var], basic_edges)\n",
    "\n",
    "B = A[:, basic_var]\n",
    "print(f\"Matriz B\\n{B}\")\n",
    "x_sol = np.linalg.inv(B) @ b\n",
    "print_vector(\"solución básica (flujos)\", \"x\", x_sol, basic_edges)\n",
    "\n",
    "# solución dual\n",
    "w = np.linalg.inv(B).T @ c[basic_var]\n",
    "# en el dibujo de flujo en redes, situo la wi en la cola del enlace aij\n",
    "print_vector(\"variable dual\", \"w\", w, list(range(1, len(w) + 1)))\n",
    "\n",
    "non_basic_var = list(var - set(basic_var))\n",
    "non_basic_edges = get_edges(edges, non_basic_var)\n",
    "# aún no es negativo, lo cambiamos\n",
    "z = w @ A[:, non_basic_var] - c[non_basic_var]\n",
    "print_vector(\"costos no básicos\", \"w\", z, non_basic_edges)\n"
   ]
  },
  {
   "cell_type": "code",
   "execution_count": 7,
   "metadata": {},
   "outputs": [
    {
     "name": "stdout",
     "output_type": "stream",
     "text": [
      "variables básicas\n",
      "BI = [1, 3, 5, 6]\n"
     ]
    },
    {
     "data": {
      "text/latex": [
       "$\\text{map}\\\\{x_{(1, 3)}=x_{1}, x_{(2, 3)}=x_{3}, x_{(3, 4)}=x_{5}, x_{(4, inf)}=x_{6}}$"
      ]
     },
     "metadata": {},
     "output_type": "display_data"
    },
    {
     "name": "stdout",
     "output_type": "stream",
     "text": [
      "Matriz B\n",
      "[[ 1.  0.  0.  0.]\n",
      " [ 0.  1.  0.  0.]\n",
      " [-1. -1.  1.  0.]\n",
      " [ 0.  0. -1.  1.]]\n"
     ]
    },
    {
     "data": {
      "text/latex": [
       "$\\text{solución básica (flujos)}\\\\{x_{(1, 3)}=1.0, x_{(2, 3)}=0.0, x_{(3, 4)}=1.0, x_{(4, inf)}=0.0}$"
      ]
     },
     "metadata": {},
     "output_type": "display_data"
    },
    {
     "data": {
      "text/latex": [
       "$\\text{variable dual}\\\\{w_{1}=-2.0, w_{2}=-1.0, w_{3}=-5.0, w_{4}=0.0}$"
      ]
     },
     "metadata": {},
     "output_type": "display_data"
    },
    {
     "data": {
      "text/latex": [
       "$\\text{costos no básicos}\\\\{w_{(1, 2)}=-4.0, w_{(2, 4)}=-2.0, w_{(3, 2)}=-2.0}$"
      ]
     },
     "metadata": {},
     "output_type": "display_data"
    }
   ],
   "source": [
    "A = np.array(A).astype(float)\n",
    "basic_var = [1, 3, 5, 6]  # [2, 4, 6, 7]\n",
    "basic_edges = get_edges(edges, basic_var)\n",
    "print(f\"variables básicas\\nBI = {basic_var}\")\n",
    "print_vector(\"map\", \"x\", [r\"x_{%s}\" % i for i in basic_var], basic_edges)\n",
    "\n",
    "B = A[:, basic_var]\n",
    "print(f\"Matriz B\\n{B}\")\n",
    "x_sol = np.linalg.inv(B) @ b\n",
    "print_vector(\"solución básica (flujos)\", \"x\", x_sol, basic_edges)\n",
    "\n",
    "# solución dual\n",
    "w = np.linalg.inv(B).T @ c[basic_var]\n",
    "# en el dibujo de flujo en redes, situo la wi en la cola del enlace aij\n",
    "print_vector(\"variable dual\", \"w\", w, list(range(1, len(w) + 1)))\n",
    "\n",
    "non_basic_var = list(var - set(basic_var))\n",
    "non_basic_edges = get_edges(edges, non_basic_var)\n",
    "# aún no es negativo, lo cambiamos\n",
    "z = w @ A[:, non_basic_var] - c[non_basic_var]\n",
    "print_vector(\"costos no básicos\", \"w\", z, non_basic_edges)\n"
   ]
  },
  {
   "cell_type": "code",
   "execution_count": 8,
   "metadata": {},
   "outputs": [
    {
     "name": "stdout",
     "output_type": "stream",
     "text": [
      "z* = -2\n"
     ]
    }
   ],
   "source": [
    "x_full = np.zeros_like(c)\n",
    "x_full[basic_var] = x_sol\n",
    "z = np.dot(c, x_full)\n",
    "print(\"z* =\", z)\n"
   ]
  },
  {
   "cell_type": "markdown",
   "metadata": {},
   "source": [
    "#### 2. Modele el problema 1 como un problema de programación lineal:\n"
   ]
  },
  {
   "cell_type": "markdown",
   "metadata": {},
   "source": [
    "a) Ponerlo en la forma estandar y resolverlo utilizando el método simplex (Use Big M o dos fases para hallar una primera solución básica factible).(4 ptos)"
   ]
  },
  {
   "cell_type": "code",
   "execution_count": 9,
   "metadata": {},
   "outputs": [
    {
     "name": "stdout",
     "output_type": "stream",
     "text": [
      "x_B = [8, 9, 10, 11]\n",
      "[[ 0.  0.  0.  0.  0.  0.  0. -1. -1. -1. -1.  0.]\n",
      " [ 1.  1.  0.  0.  0.  0.  0.  1.  0.  0.  0.  1.]\n",
      " [-1.  0.  1.  1. -1.  0.  0.  0.  1.  0.  0.  0.]\n",
      " [ 0. -1.  0. -1.  1.  1.  0.  0.  0.  1.  0.  0.]\n",
      " [ 0.  0. -1.  0.  0. -1.  1.  0.  0.  0.  1. -1.]]\n",
      "Cost corrected\n",
      "x_B = [8, 9, 10, 11]\n",
      "[[ 0.  0.  0.  0.  0.  0.  1.  0.  0.  0.  0.  0.]\n",
      " [ 1.  1.  0.  0.  0.  0.  0.  1.  0.  0.  0.  1.]\n",
      " [-1.  0.  1.  1. -1.  0.  0.  0.  1.  0.  0.  0.]\n",
      " [ 0. -1.  0. -1.  1.  1.  0.  0.  0.  1.  0.  0.]\n",
      " [ 0.  0. -1.  0.  0. -1.  1.  0.  0.  0.  1. -1.]]\n",
      "Start phase One\n",
      "x_B = [8, 9, 10, 7]\n",
      "[[ 0.  0.  1.  0.  0.  1.  0.  0.  0.  0. -1.  1.]\n",
      " [ 1.  1.  0.  0.  0.  0.  0.  1.  0.  0.  0.  1.]\n",
      " [-1.  0.  1.  1. -1.  0.  0.  0.  1.  0.  0.  0.]\n",
      " [ 0. -1.  0. -1.  1.  1.  0.  0.  0.  1.  0.  0.]\n",
      " [ 0.  0. -1.  0.  0. -1.  1.  0.  0.  0.  1. -1.]]\n",
      "x_B = [8, 3, 10, 7]\n",
      "[[ 1.  0.  0. -1.  1.  1.  0.  0. -1.  0. -1.  1.]\n",
      " [ 1.  1.  0.  0.  0.  0.  0.  1.  0.  0.  0.  1.]\n",
      " [-1.  0.  1.  1. -1.  0.  0.  0.  1.  0.  0.  0.]\n",
      " [ 0. -1.  0. -1.  1.  1.  0.  0.  0.  1.  0.  0.]\n",
      " [-1.  0.  0.  1. -1. -1.  1.  0.  1.  0.  1. -1.]]\n",
      "x_B = [1, 3, 10, 7]\n",
      "[[ 0. -1.  0. -1.  1.  1.  0. -1. -1.  0. -1.  0.]\n",
      " [ 1.  1.  0.  0.  0.  0.  0.  1.  0.  0.  0.  1.]\n",
      " [ 0.  1.  1.  1. -1.  0.  0.  1.  1.  0.  0.  1.]\n",
      " [ 0. -1.  0. -1.  1.  1.  0.  0.  0.  1.  0.  0.]\n",
      " [ 0.  1.  0.  1. -1. -1.  1.  1.  1.  0.  1.  0.]]\n",
      "x_B = [1, 3, 5, 7]\n",
      "[[ 0.  0.  0.  0.  0.  0.  0. -1. -1. -1. -1.  0.]\n",
      " [ 1.  1.  0.  0.  0.  0.  0.  1.  0.  0.  0.  1.]\n",
      " [ 0.  0.  1.  0.  0.  1.  0.  1.  1.  1.  0.  1.]\n",
      " [ 0. -1.  0. -1.  1.  1.  0.  0.  0.  1.  0.  0.]\n",
      " [ 0.  0.  0.  0.  0.  0.  1.  1.  1.  1.  1.  0.]]\n",
      "Delete artificial variables and create a new tableau [7, 8, 9, 10]\n",
      "Start phase two, put original cost\n",
      "x_B = [1, 3, 5, 7]\n",
      "[[-3. -3. -1. -4.  2.  5.  0.  0.]\n",
      " [ 1.  1.  0.  0.  0.  0.  0.  1.]\n",
      " [ 0.  0.  1.  0.  0.  1.  0.  1.]\n",
      " [ 0. -1.  0. -1.  1.  1.  0.  0.]\n",
      " [ 0.  0.  0.  0.  0.  0.  1.  0.]]\n",
      "Cost corrected\n",
      "vertex = [1. 0. 1. 0. 0. 0. 0.], x_B = [1, 3, 5, 7]\n",
      "[[ 0.  2.  0. -2.  0.  4.  0.  4.]\n",
      " [ 1.  1.  0.  0.  0.  0.  0.  1.]\n",
      " [ 0.  0.  1.  0.  0.  1.  0.  1.]\n",
      " [ 0. -1.  0. -1.  1.  1.  0.  0.]\n",
      " [ 0.  0.  0.  0.  0.  0.  1.  0.]]\n",
      "vertex = [1. 0. 1. 0. 0. 0. 0.], x_B = [1, 3, 6, 7]\n",
      "[[ 0.  6.  0.  2. -4.  0.  0.  4.]\n",
      " [ 1.  1.  0.  0.  0.  0.  0.  1.]\n",
      " [ 0.  1.  1.  1. -1.  0.  0.  1.]\n",
      " [ 0. -1.  0. -1.  1.  1.  0.  0.]\n",
      " [ 0.  0.  0.  0.  0.  0.  1.  0.]]\n",
      "vertex = [0. 1. 0. 0. 0. 1. 0.], x_B = [2, 3, 6, 7]\n",
      "[[-6.  0.  0.  2. -4.  0.  0. -2.]\n",
      " [ 1.  1.  0.  0.  0.  0.  0.  1.]\n",
      " [-1.  0.  1.  1. -1.  0.  0.  0.]\n",
      " [ 1.  0.  0. -1.  1.  1.  0.  1.]\n",
      " [ 0.  0.  0.  0.  0.  0.  1.  0.]]\n",
      "vertex = [0. 1. 0. 0. 0. 1. 0.], x_B = [2, 4, 6, 7]\n",
      "[[-4.  0. -2.  0. -2.  0.  0. -2.]\n",
      " [ 1.  1.  0.  0.  0.  0.  0.  1.]\n",
      " [-1.  0.  1.  1. -1.  0.  0.  0.]\n",
      " [ 0.  0.  1.  0.  0.  1.  0.  1.]\n",
      " [ 0.  0.  0.  0.  0.  0.  1.  0.]]\n"
     ]
    }
   ],
   "source": [
    "A = np.array([[1., 1.0, 0., 0., 0.0, 0., 0., 1, 0, 0, 0],\n",
    "              [-1., 0., 1., 1., -1., 0., 0., 0, 1, 0, 0],\n",
    "              [0., -1., 0., -1., 1., 1., 0., 0, 0, 1, 0],\n",
    "              [0., 0., -1., 0., 0., -1., 1., 0, 0, 0, 1]])\n",
    "\n",
    "c_max = -np.array([3, 3, 1, 4, -2, -5, 0])\n",
    "\n",
    "c_artificial = [0, 0, 0, 0, 0, 0, 0, -1, -1, -1, -1.0]\n",
    "\n",
    "basic_index = [7, 8, 9, 10]\n",
    "artificial_index = [7, 8, 9, 10]\n",
    "\n",
    "tableau = build_tableau(A, b, c_artificial)\n",
    "tableau = two_phases(tableau, c_max, basic_index, artificial_index)\n"
   ]
  },
  {
   "cell_type": "markdown",
   "metadata": {},
   "source": [
    "b) Halle el modelo dual del problema de programación lineal y resuelvalo. (4 ptos)"
   ]
  },
  {
   "cell_type": "code",
   "execution_count": 10,
   "metadata": {},
   "outputs": [],
   "source": [
    "number_nodes = 4\n",
    "edges: list[Edge] = [Edge(1, 2, 3),\n",
    "                     Edge(1, 3, 3),\n",
    "                     Edge(2, 4, 1),\n",
    "                     Edge(2, 3, 4),\n",
    "                     Edge(3, 2, -2),\n",
    "                     Edge(3, 4, -5),\n",
    "                     Edge(4, np.Inf, 0)]\n",
    "\n",
    "A = build_matrix(number_nodes, edges)\n",
    "b = np.array([1, 0, 0, -1])  # sum(b) = 0\n",
    "c = np.array(list(map(lambda e: e.cost, edges)))\n",
    "var = set(range(len(edges)))\n"
   ]
  },
  {
   "cell_type": "code",
   "execution_count": 11,
   "metadata": {},
   "outputs": [],
   "source": [
    "from itertools import combinations\n",
    "from IPython.display import display_latex, Latex\n",
    "\n",
    "\n",
    "def pretty_print(string: str):\n",
    "    return display_latex(Latex(string))\n"
   ]
  },
  {
   "cell_type": "code",
   "execution_count": 12,
   "metadata": {},
   "outputs": [],
   "source": [
    "import math\n"
   ]
  },
  {
   "cell_type": "code",
   "execution_count": 13,
   "metadata": {},
   "outputs": [],
   "source": [
    "def factible_vertex(A: sp.Matrix, b: sp.Matrix, c: sp.Matrix):\n",
    "    m, n = A.shape\n",
    "    comb = tuple(combinations(range(m), n))\n",
    "    print(\"Number of combinations:\", len(comb))\n",
    "    # for each combiantion for indexes\n",
    "    for indexes in comb:\n",
    "        try:\n",
    "            A_inv = sp.Matrix.inv(A.row(indexes))\n",
    "            x = A_inv @ b.row(indexes)\n",
    "            show = True\n",
    "            # for each constraint\n",
    "            for j in range(m):\n",
    "                if not A.row(j).dot(x) <= b[j]:\n",
    "                    show = False\n",
    "                    break\n",
    "            if show:\n",
    "                pretty_print(f\"$H={sp.latex(A.row(indexes))}, H^{{-1}}={sp.latex(A_inv)}\\quad x{indexes}={sp.latex(x)}\\quad c={c.dot(x).evalf()}$\")\n",
    "        except Exception as ex:\n",
    "            print(ex)\n",
    "            continue\n"
   ]
  },
  {
   "cell_type": "code",
   "execution_count": 14,
   "metadata": {},
   "outputs": [
    {
     "name": "stdout",
     "output_type": "stream",
     "text": [
      "Number of combinations: 35\n",
      "Matrix det == 0; not invertible.\n",
      "Matrix det == 0; not invertible.\n",
      "Matrix det == 0; not invertible.\n",
      "Matrix det == 0; not invertible.\n",
      "Matrix det == 0; not invertible.\n",
      "Matrix det == 0; not invertible.\n",
      "Matrix det == 0; not invertible.\n",
      "Matrix det == 0; not invertible.\n",
      "Matrix det == 0; not invertible.\n",
      "Matrix det == 0; not invertible.\n",
      "Matrix det == 0; not invertible.\n",
      "Matrix det == 0; not invertible.\n",
      "Matrix det == 0; not invertible.\n",
      "Matrix det == 0; not invertible.\n",
      "Matrix det == 0; not invertible.\n"
     ]
    },
    {
     "data": {
      "text/latex": [
       "$H=\\left[\\begin{matrix}1 & 0 & -1 & 0\\\\0 & 1 & 0 & -1\\\\0 & 1 & -1 & 0\\\\0 & 0 & 0 & 1\\end{matrix}\\right], H^{-1}=\\left[\\begin{matrix}1 & 1 & -1 & 1\\\\0 & 1 & 0 & 1\\\\0 & 1 & -1 & 1\\\\0 & 0 & 0 & 1\\end{matrix}\\right]\\quad x(1, 2, 3, 6)=\\left[\\begin{matrix}0\\\\1\\\\-3\\\\0\\end{matrix}\\right]\\quad c=0$"
      ]
     },
     "metadata": {},
     "output_type": "display_data"
    },
    {
     "name": "stdout",
     "output_type": "stream",
     "text": [
      "Matrix det == 0; not invertible.\n"
     ]
    },
    {
     "data": {
      "text/latex": [
       "$H=\\left[\\begin{matrix}1 & 0 & -1 & 0\\\\0 & 1 & 0 & -1\\\\0 & -1 & 1 & 0\\\\0 & 0 & 0 & 1\\end{matrix}\\right], H^{-1}=\\left[\\begin{matrix}1 & 1 & 1 & 1\\\\0 & 1 & 0 & 1\\\\0 & 1 & 1 & 1\\\\0 & 0 & 0 & 1\\end{matrix}\\right]\\quad x(1, 2, 4, 6)=\\left[\\begin{matrix}2\\\\1\\\\-1\\\\0\\end{matrix}\\right]\\quad c=2.00000000000000$"
      ]
     },
     "metadata": {},
     "output_type": "display_data"
    },
    {
     "name": "stdout",
     "output_type": "stream",
     "text": [
      "Matrix det == 0; not invertible.\n",
      "Matrix det == 0; not invertible.\n",
      "Matrix det == 0; not invertible.\n",
      "Matrix det == 0; not invertible.\n",
      "Matrix det == 0; not invertible.\n",
      "Matrix det == 0; not invertible.\n",
      "Matrix det == 0; not invertible.\n"
     ]
    }
   ],
   "source": [
    "A_T = A.T\n",
    "b = sp.Matrix([1, 0, 0, -1])\n",
    "c = sp.Matrix([3, 3, 1, 4, -2, 5, 0])\n",
    "factible_vertex(A_T, c, b)\n"
   ]
  },
  {
   "cell_type": "code",
   "execution_count": 15,
   "metadata": {},
   "outputs": [
    {
     "data": {
      "text/latex": [
       "\\begin{align*} \\text{max}\\quad 1y_{1}&+0y_{2}&+0y_{3}&-1y_{4}&\\\\\\text{s.t.}\\quad1y_{1}&-1y_{2}&+0y_{3}&+0y_{4}&\\le&3\\\\1y_{1}&+0y_{2}&-1y_{3}&+0y_{4}&\\le&3\\\\0y_{1}&+1y_{2}&+0y_{3}&-1y_{4}&\\le&1\\\\0y_{1}&+1y_{2}&-1y_{3}&+0y_{4}&\\le&4\\\\0y_{1}&-1y_{2}&+1y_{3}&+0y_{4}&\\le&-2\\\\0y_{1}&+0y_{2}&+1y_{3}&-1y_{4}&\\le&5\\\\0y_{1}&+0y_{2}&+0y_{3}&+1y_{4}&\\le&0\\\\ \\end{align*}\\\\ y_{1},y_{2},y_{3},y_{4}\\ge 0"
      ]
     },
     "metadata": {},
     "output_type": "display_data"
    }
   ],
   "source": [
    "A_T = A.T\n",
    "print_model(A_T, c, b, \"y\", list(range(1, A_T.shape[1] + 1)), [\"\\le\"] * A_T.shape[0], \"max\")\n",
    "# obs yi es free!!!\n"
   ]
  },
  {
   "cell_type": "markdown",
   "metadata": {},
   "source": [
    "c) ¿Qué pasa con la función objetivo si cada bi es perturbado por un $δ$?. Halle los intervalos de tolerancia para cada caso.(4 ptos)\n"
   ]
  },
  {
   "cell_type": "code",
   "execution_count": 16,
   "metadata": {},
   "outputs": [],
   "source": [
    "number_nodes = 4\n",
    "edges: list[Edge] = [Edge(1, 2, 3),\n",
    "                     Edge(1, 3, 3),\n",
    "                     Edge(2, 4, 1),\n",
    "                     Edge(2, 3, 4),\n",
    "                     Edge(3, 2, -2),\n",
    "                     Edge(3, 4, -5),\n",
    "                     Edge(4, np.Inf, 0)]\n",
    "\n",
    "A = build_matrix(number_nodes, edges)\n",
    "b = np.array([1, 0, 0, -1])  # sum(b) = 0\n",
    "c = np.array(list(map(lambda e: e.cost, edges)))\n",
    "var = set(range(len(edges)))\n"
   ]
  },
  {
   "cell_type": "code",
   "execution_count": 17,
   "metadata": {},
   "outputs": [
    {
     "data": {
      "text/plain": [
       "array([ 1,  0,  0, -1])"
      ]
     },
     "execution_count": 17,
     "metadata": {},
     "output_type": "execute_result"
    }
   ],
   "source": [
    "b\n"
   ]
  },
  {
   "cell_type": "code",
   "execution_count": 18,
   "metadata": {},
   "outputs": [],
   "source": [
    "def pivoting_symbolic(tableau: np.ndarray, row: int, col: int) -> np.ndarray:\n",
    "    # escale pivot row min to 1.0\n",
    "    tableau[row, :] = tableau[row, :] / tableau[row, col]\n",
    "    # pivot proccess: convert al column to zero except row\n",
    "    for k in range(tableau.shape[0]):\n",
    "        if k != row:\n",
    "            tableau[k, :] = tableau[k, :] - tableau[k, col] * tableau[row, :]\n",
    "\n",
    "\n",
    "def correct_symbolic_cost(tableau: np.ndarray, basic_var: list[int]) -> None:\n",
    "    # correct basic variable cost with value distict of zero\n",
    "    for index, col in enumerate(basic_var):\n",
    "        row = index + 1\n",
    "        tableau[0, :] = tableau[0, :] - tableau[0, col] * tableau[row, :]\n",
    "    print(f\"Cost corrected\")\n"
   ]
  },
  {
   "cell_type": "code",
   "execution_count": 19,
   "metadata": {},
   "outputs": [],
   "source": [
    "number_nodes = 4\n",
    "edges: list[Edge] = [Edge(1, 2, 3),\n",
    "                     Edge(1, 3, 3),\n",
    "                     Edge(2, 4, 1),\n",
    "                     Edge(2, 3, 4),\n",
    "                     Edge(3, 2, -2),\n",
    "                     Edge(3, 4, -5),\n",
    "                     Edge(4, np.Inf, 0)]\n",
    "\n",
    "A = build_matrix(number_nodes, edges)\n",
    "b = np.array([1, 0, 0, -1])  # sum(b) = 0\n",
    "c = np.array(list(map(lambda e: e.cost, edges)))\n",
    "var = set(range(len(edges)))\n"
   ]
  },
  {
   "cell_type": "code",
   "execution_count": 20,
   "metadata": {},
   "outputs": [
    {
     "name": "stdout",
     "output_type": "stream",
     "text": [
      "x_B = [8, 9, 10, 11]\n",
      "[[ 0.  0.  0.  0.  0.  0.  0. -1. -1. -1. -1.  0.]\n",
      " [ 1.  1.  0.  0.  0.  0.  0.  1.  0.  0.  0.  0.]\n",
      " [-1.  0.  1.  1. -1.  0.  0.  0.  1.  0.  0.  0.]\n",
      " [ 0. -1.  0. -1.  1.  1.  0.  0.  0.  1.  0.  0.]\n",
      " [ 0.  0. -1.  0.  0. -1.  1.  0.  0.  0.  1. -1.]]\n",
      "Cost corrected\n",
      "x_B = [8, 9, 10, 11]\n",
      "[[ 0.  0.  0.  0.  0.  0.  1.  0.  0.  0.  0. -1.]\n",
      " [ 1.  1.  0.  0.  0.  0.  0.  1.  0.  0.  0.  0.]\n",
      " [-1.  0.  1.  1. -1.  0.  0.  0.  1.  0.  0.  0.]\n",
      " [ 0. -1.  0. -1.  1.  1.  0.  0.  0.  1.  0.  0.]\n",
      " [ 0.  0. -1.  0.  0. -1.  1.  0.  0.  0.  1. -1.]]\n",
      "Start phase One\n",
      "x_B = [8, 9, 10, 7]\n",
      "[[ 0.  0.  1.  0.  0.  1.  0.  0.  0.  0. -1.  0.]\n",
      " [ 1.  1.  0.  0.  0.  0.  0.  1.  0.  0.  0.  0.]\n",
      " [-1.  0.  1.  1. -1.  0.  0.  0.  1.  0.  0.  0.]\n",
      " [ 0. -1.  0. -1.  1.  1.  0.  0.  0.  1.  0.  0.]\n",
      " [ 0.  0. -1.  0.  0. -1.  1.  0.  0.  0.  1. -1.]]\n",
      "x_B = [8, 3, 10, 7]\n",
      "[[ 1.  0.  0. -1.  1.  1.  0.  0. -1.  0. -1.  0.]\n",
      " [ 1.  1.  0.  0.  0.  0.  0.  1.  0.  0.  0.  0.]\n",
      " [-1.  0.  1.  1. -1.  0.  0.  0.  1.  0.  0.  0.]\n",
      " [ 0. -1.  0. -1.  1.  1.  0.  0.  0.  1.  0.  0.]\n",
      " [-1.  0.  0.  1. -1. -1.  1.  0.  1.  0.  1. -1.]]\n",
      "x_B = [1, 3, 10, 7]\n",
      "[[ 0. -1.  0. -1.  1.  1.  0. -1. -1.  0. -1.  0.]\n",
      " [ 1.  1.  0.  0.  0.  0.  0.  1.  0.  0.  0.  0.]\n",
      " [ 0.  1.  1.  1. -1.  0.  0.  1.  1.  0.  0.  0.]\n",
      " [ 0. -1.  0. -1.  1.  1.  0.  0.  0.  1.  0.  0.]\n",
      " [ 0.  1.  0.  1. -1. -1.  1.  1.  1.  0.  1. -1.]]\n",
      "x_B = [1, 3, 5, 7]\n",
      "[[ 0.  0.  0.  0.  0.  0.  0. -1. -1. -1. -1.  0.]\n",
      " [ 1.  1.  0.  0.  0.  0.  0.  1.  0.  0.  0.  0.]\n",
      " [ 0.  0.  1.  0.  0.  1.  0.  1.  1.  1.  0.  0.]\n",
      " [ 0. -1.  0. -1.  1.  1.  0.  0.  0.  1.  0.  0.]\n",
      " [ 0.  0.  0.  0.  0.  0.  1.  1.  1.  1.  1. -1.]]\n",
      "Delete artificial variables and create a new tableau [7, 8, 9, 10]\n",
      "Start phase two, put original cost\n",
      "x_B = [1, 3, 5, 7]\n",
      "[[-3. -3. -1. -4.  2.  5.  0.  0.]\n",
      " [ 1.  1.  0.  0.  0.  0.  0.  0.]\n",
      " [ 0.  0.  1.  0.  0.  1.  0.  0.]\n",
      " [ 0. -1.  0. -1.  1.  1.  0.  0.]\n",
      " [ 0.  0.  0.  0.  0.  0.  1. -1.]]\n",
      "Cost corrected\n",
      "vertex = [ 0.  0.  0.  0.  0.  0. -1.], x_B = [1, 3, 5, 7]\n",
      "[[ 0.  2.  0. -2.  0.  4.  0.  0.]\n",
      " [ 1.  1.  0.  0.  0.  0.  0.  0.]\n",
      " [ 0.  0.  1.  0.  0.  1.  0.  0.]\n",
      " [ 0. -1.  0. -1.  1.  1.  0.  0.]\n",
      " [ 0.  0.  0.  0.  0.  0.  1. -1.]]\n",
      "vertex = [ 0.  0.  0.  0.  0.  0. -1.], x_B = [1, 6, 5, 7]\n",
      "[[ 0.  2. -4. -2.  0.  0.  0.  0.]\n",
      " [ 1.  1.  0.  0.  0.  0.  0.  0.]\n",
      " [ 0.  0.  1.  0.  0.  1.  0.  0.]\n",
      " [ 0. -1. -1. -1.  1.  0.  0.  0.]\n",
      " [ 0.  0.  0.  0.  0.  0.  1. -1.]]\n",
      "vertex = [ 0.  0.  0.  0.  0.  0. -1.], x_B = [2, 6, 5, 7]\n",
      "[[-2.  0. -4. -2.  0.  0.  0.  0.]\n",
      " [ 1.  1.  0.  0.  0.  0.  0.  0.]\n",
      " [ 0.  0.  1.  0.  0.  1.  0.  0.]\n",
      " [ 1.  0. -1. -1.  1.  0.  0.  0.]\n",
      " [ 0.  0.  0.  0.  0.  0.  1. -1.]]\n"
     ]
    }
   ],
   "source": [
    "A = np.array([[1., 1.0, 0., 0., 0.0, 0., 0., 1, 0, 0, 0],\n",
    "              [-1., 0., 1., 1., -1., 0., 0., 0, 1, 0, 0],\n",
    "              [0., -1., 0., -1., 1., 1., 0., 0, 0, 1, 0],\n",
    "              [0., 0., -1., 0., 0., -1., 1., 0, 0, 0, 1]])\n",
    "\n",
    "c_max = -np.array([3, 3, 1, 4, -2, -5, 0])\n",
    "b = np.array([ 1 + -1,  0,  0, -1])\n",
    "c_artificial = [0, 0, 0, 0, 0, 0, 0, -1, -1, -1, -1.0]\n",
    "\n",
    "basic_index = [7, 8, 9, 10]\n",
    "artificial_index = [7, 8, 9, 10]\n",
    "\n",
    "tableau = build_tableau(A, b, c_artificial)\n",
    "tableau = two_phases(tableau, c_max, basic_index, artificial_index)\n"
   ]
  },
  {
   "cell_type": "markdown",
   "metadata": {},
   "source": []
  }
 ],
 "metadata": {
  "kernelspec": {
   "display_name": "Python 3.10.6 64-bit",
   "language": "python",
   "name": "python3"
  },
  "language_info": {
   "codemirror_mode": {
    "name": "ipython",
    "version": 3
   },
   "file_extension": ".py",
   "mimetype": "text/x-python",
   "name": "python",
   "nbconvert_exporter": "python",
   "pygments_lexer": "ipython3",
   "version": "3.10.6"
  },
  "orig_nbformat": 4,
  "vscode": {
   "interpreter": {
    "hash": "590f4a299ae404e723bbc5f32e9a7b98b836c3c65ce9112bc934ac92a06ceee3"
   }
  }
 },
 "nbformat": 4,
 "nbformat_minor": 2
}
