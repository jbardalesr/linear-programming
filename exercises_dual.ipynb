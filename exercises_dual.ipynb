{
 "cells": [
  {
   "cell_type": "code",
   "execution_count": 34,
   "metadata": {},
   "outputs": [],
   "source": [
    "import numpy as np\n",
    "from simplex import simplex, two_phases, dual_simplex, build_tableau, optimal_solution, correct_all_tableau, basic2vertex\n",
    "np.set_printoptions(suppress=True, linewidth=np.nan)"
   ]
  },
  {
   "cell_type": "markdown",
   "metadata": {},
   "source": [
    "## Linear and Integer Optimization: Chapter 4"
   ]
  },
  {
   "cell_type": "markdown",
   "metadata": {},
   "source": [
    "#### Exercise 4.8.1"
   ]
  },
  {
   "cell_type": "code",
   "execution_count": 35,
   "metadata": {},
   "outputs": [
    {
     "name": "stdout",
     "output_type": "stream",
     "text": [
      "vertex = [0. 0. 0.], x_B = [4, 5, 6]\n",
      "[[ 1.  2. -3.  0.  0.  0.  0.]\n",
      " [ 1. -3.  0.  1.  0.  0.  7.]\n",
      " [ 3.  1.  2.  0.  1.  0.  6.]\n",
      " [ 1.  2.  1.  0.  0.  1.  5.]]\n",
      "vertex = [0.  2.5 0. ], x_B = [4, 5, 2]\n",
      "[[ 0.   0.  -4.   0.   0.  -1.  -5. ]\n",
      " [ 2.5  0.   1.5  1.   0.   1.5 14.5]\n",
      " [ 2.5  0.   1.5  0.   1.  -0.5  3.5]\n",
      " [ 0.5  1.   0.5  0.   0.   0.5  2.5]]\n",
      "Optimal solution: x_opt = [0.  2.5 0. ]\n"
     ]
    }
   ],
   "source": [
    "A = np.array([[1, -3, 0, 1, 0, 0],\n",
    "              [3, 1, 2., 0, 1, 0],\n",
    "              [1, 2, 1., 0, 0, 1]])\n",
    "\n",
    "b = np.array([7, 6, 5])\n",
    "\n",
    "c = np.array([1, 2, -3, 0, 0, 0])\n",
    "\n",
    "basic_var = [3, 4, 5]\n",
    "tableau = build_tableau(A, b, c)\n",
    "simplex(tableau, basic_var)\n",
    "optimal_solution(tableau, basic_var)\n"
   ]
  },
  {
   "cell_type": "code",
   "execution_count": 36,
   "metadata": {},
   "outputs": [
    {
     "data": {
      "text/plain": [
       "array([0., 0., 1.])"
      ]
     },
     "execution_count": 36,
     "metadata": {},
     "output_type": "execute_result"
    }
   ],
   "source": [
    "y_sol = np.linalg.inv(A[:, [3, 4, 1]]).T @ c[[3, 4, 1]]\n",
    "y_sol"
   ]
  },
  {
   "cell_type": "markdown",
   "metadata": {},
   "source": [
    "The simplex algorithm from the dual perspective"
   ]
  },
  {
   "cell_type": "code",
   "execution_count": 37,
   "metadata": {},
   "outputs": [
    {
     "name": "stdout",
     "output_type": "stream",
     "text": [
      "All tableau corrected\n",
      "vertex = [0. 0. 1.], x_B = [1, 3, 6]\n",
      "[[ 0.  11.   0.  -5.8  0.4  0.   5. ]\n",
      " [ 1.   1.   0.  -0.4  0.2  0.   0. ]\n",
      " [ 0.   2.   1.  -0.6 -0.2  0.   1. ]\n",
      " [-0.  -0.  -0.  -0.6 -0.2  1.   4. ]]\n",
      "vertex = [0. 0. 1.], x_B = [2, 3, 6]\n",
      "[[-11.    0.    0.   -1.4  -1.8   0.    5. ]\n",
      " [  1.    1.    0.   -0.4   0.2   0.    0. ]\n",
      " [ -2.    0.    1.    0.2  -0.6   0.    1. ]\n",
      " [ -0.   -0.   -0.   -0.6  -0.2   1.    4. ]]\n",
      "Optimal solution: x_opt = [0. 0. 1.]\n"
     ]
    }
   ],
   "source": [
    "A_T = [[1, 3, 1, -1, 0, 0],\n",
    "     [-3, 1, 2., 0, -1, 0], \n",
    "     [0, 2, 1., 0, 0, -1]]\n",
    "\n",
    "c = [1, 2, -3]\n",
    "\n",
    "b = [-7, -6, -5, 0, 0, 0]\n",
    "\n",
    "basic_var = [0, 2, 5]\n",
    "\n",
    "tableau = build_tableau(A_T, c, b)\n",
    "correct_all_tableau(tableau, basic_var)\n",
    "simplex(tableau, basic_var)\n",
    "optimal_solution(tableau, basic_var)"
   ]
  },
  {
   "cell_type": "code",
   "execution_count": 38,
   "metadata": {},
   "outputs": [
    {
     "name": "stdout",
     "output_type": "stream",
     "text": [
      "x_B = [6, 4, 5]\n",
      "[[ 0.  0.  0.  0.  0. -1.  0.]\n",
      " [ 2. -1. -1.  0.  0.  1.  4.]\n",
      " [-1.  1.  0.  1.  0.  0.  3.]\n",
      " [ 3. -2.  0.  0.  1.  0. 10.]]\n",
      "Cost corrected\n",
      "x_B = [6, 4, 5]\n",
      "[[ 2. -1. -1.  0.  0.  0.  4.]\n",
      " [ 2. -1. -1.  0.  0.  1.  4.]\n",
      " [-1.  1.  0.  1.  0.  0.  3.]\n",
      " [ 3. -2.  0.  0.  1.  0. 10.]]\n",
      "Start phase One\n",
      "x_B = [1, 4, 5]\n",
      "[[ 0.   0.   0.   0.   0.  -1.   0. ]\n",
      " [ 1.  -0.5 -0.5  0.   0.   0.5  2. ]\n",
      " [ 0.   0.5 -0.5  1.   0.   0.5  5. ]\n",
      " [ 0.  -0.5  1.5  0.   1.  -1.5  4. ]]\n",
      "Delete artificial variables and create a new tableau [5]\n",
      "Start phase two, put original cost\n",
      "x_B = [1, 4, 5]\n",
      "[[ 3.  -5.   0.   0.   0.   0. ]\n",
      " [ 1.  -0.5 -0.5  0.   0.   2. ]\n",
      " [ 0.   0.5 -0.5  1.   0.   5. ]\n",
      " [ 0.  -0.5  1.5  0.   1.   4. ]]\n",
      "Cost corrected\n",
      "vertex = [2. 0.], x_B = [1, 4, 5]\n",
      "[[ 0.  -3.5  1.5  0.   0.  -6. ]\n",
      " [ 1.  -0.5 -0.5  0.   0.   2. ]\n",
      " [ 0.   0.5 -0.5  1.   0.   5. ]\n",
      " [ 0.  -0.5  1.5  0.   1.   4. ]]\n",
      "vertex = [3.33333333 0.        ], x_B = [1, 4, 3]\n",
      "[[  0.          -3.           0.           0.          -1.         -10.        ]\n",
      " [  1.          -0.66666667   0.           0.           0.33333333   3.33333333]\n",
      " [  0.           0.33333333   0.           1.           0.33333333   6.33333333]\n",
      " [  0.          -0.33333333   1.           0.           0.66666667   2.66666667]]\n",
      "Optimal solution: x_opt = [3.33333333 0.        ]\n"
     ]
    }
   ],
   "source": [
    "A = np.array([[2, -1, -1, 0, 0, 1],\n",
    "              [-1, 1, 0., 1, 0, 0],\n",
    "              [3, -2, 0, 0, 1, 0]])\n",
    "b = np.array([4, 3, 10])\n",
    "c_temp = [0, 0., 0, 0, 0, -1]\n",
    "tableau = build_tableau(A, b, c_temp)\n",
    "\n",
    "c = np.array([3, -5., 0, 0, 0, 0])\n",
    "\n",
    "basic_var = [5, 3, 4]\n",
    "artificial_var = [5]\n",
    "\n",
    "tableau = two_phases(tableau, c, basic_var, artificial_var)\n",
    "optimal_solution(tableau, basic_var)\n"
   ]
  },
  {
   "cell_type": "code",
   "execution_count": 39,
   "metadata": {},
   "outputs": [
    {
     "data": {
      "text/plain": [
       "array([0., 0., 1.])"
      ]
     },
     "execution_count": 39,
     "metadata": {},
     "output_type": "execute_result"
    }
   ],
   "source": [
    "y_sol = np.linalg.inv(A[:, basic_var]).T @ c[basic_var]\n",
    "y_sol"
   ]
  },
  {
   "cell_type": "markdown",
   "metadata": {},
   "source": [
    "Dual mode"
   ]
  },
  {
   "cell_type": "code",
   "execution_count": 40,
   "metadata": {},
   "outputs": [
    {
     "name": "stdout",
     "output_type": "stream",
     "text": [
      "All tableau corrected\n",
      "vertex = [9. 0. 7.], x_B = [1, 3]\n",
      "[[ 0. -9.  0.  2.  8. 34.]\n",
      " [ 1. -1.  0.  2.  3.  9.]\n",
      " [-0. -1.  1.  1.  2.  7.]]\n",
      "vertex = [0. 0. 1.], x_B = [5, 3]\n",
      "[[-2.66666667 -6.33333333  0.         -3.33333333  0.         10.        ]\n",
      " [ 0.33333333 -0.33333333  0.          0.66666667  1.          3.        ]\n",
      " [-0.66666667 -0.33333333  1.         -0.33333333  0.          1.        ]]\n",
      "Optimal solution: x_opt = [0. 0. 1.]\n"
     ]
    }
   ],
   "source": [
    "A_T = np.array([[-2, -1, 3, -1, 0],\n",
    "                [1., 1, -2, 0, -1]])\n",
    "\n",
    "b = np.array([4, -3, -10, 0, 0.0])\n",
    "\n",
    "c = np.array([3, -5.0])\n",
    "\n",
    "tableau = build_tableau(A_T, c, b)\n",
    "basic_var = [0, 2]\n",
    "correct_all_tableau(tableau, basic_var)\n",
    "\n",
    "simplex(tableau, basic_var)\n",
    "optimal_solution(tableau, basic_var)\n"
   ]
  },
  {
   "cell_type": "markdown",
   "metadata": {},
   "source": [
    "#### Exercise 4.8.3\n",
    "Consider the following LO-model.\n",
    "\\begin{align*}\n",
    "\\max 2x_1& +& 4x_2& +& 10x_3& +& 15x_4&\\\\ \n",
    "s.t. -x_1& +& x_2& +& x_3& +& 3x_4& \\ge 1\\\\\n",
    "      x_1& -& x_2& +& 2x_3& +& x_4& \\ge 1\\\\\n",
    "\\end{align*}\n",
    "$$x_1, x_2, x_3, x_4\\ge0$$"
   ]
  },
  {
   "cell_type": "markdown",
   "metadata": {},
   "source": [
    "a) Solve the model by solving its dual model (using the graphical solution method). "
   ]
  },
  {
   "cell_type": "code",
   "execution_count": 41,
   "metadata": {},
   "outputs": [
    {
     "name": "stdout",
     "output_type": "stream",
     "text": [
      "vertex = [0. 0.], x_B = [3, 4, 5, 6]\n",
      "[[ 1.  1.  0.  0.  0.  0.  0.]\n",
      " [-1.  1.  1.  0.  0.  0.  2.]\n",
      " [ 1. -1.  0.  1.  0.  0.  4.]\n",
      " [ 1.  2.  0.  0.  1.  0. 10.]\n",
      " [ 3.  1.  0.  0.  0.  1. 15.]]\n",
      "vertex = [4. 0.], x_B = [3, 1, 5, 6]\n",
      "[[ 0.  2.  0. -1.  0.  0. -4.]\n",
      " [ 0.  0.  1.  1.  0.  0.  6.]\n",
      " [ 1. -1.  0.  1.  0.  0.  4.]\n",
      " [ 0.  3.  0. -1.  1.  0.  6.]\n",
      " [ 0.  4.  0. -3.  0.  1.  3.]]\n",
      "vertex = [4.75 0.75], x_B = [3, 1, 5, 2]\n",
      "[[ 0.    0.    0.    0.5   0.   -0.5  -5.5 ]\n",
      " [ 0.    0.    1.    1.    0.    0.    6.  ]\n",
      " [ 1.    0.    0.    0.25  0.    0.25  4.75]\n",
      " [ 0.    0.    0.    1.25  1.   -0.75  3.75]\n",
      " [ 0.    1.    0.   -0.75  0.    0.25  0.75]]\n",
      "vertex = [4. 3.], x_B = [3, 1, 4, 2]\n",
      "[[ 0.   0.   0.   0.  -0.4 -0.2 -7. ]\n",
      " [ 0.   0.   1.   0.  -0.8  0.6  3. ]\n",
      " [ 1.   0.   0.   0.  -0.2  0.4  4. ]\n",
      " [ 0.   0.   0.   1.   0.8 -0.6  3. ]\n",
      " [ 0.   1.   0.   0.   0.6 -0.2  3. ]]\n",
      "Optimal solution: x_opt = [4. 3.]\n"
     ]
    }
   ],
   "source": [
    "# solve with primal mode\n",
    "A = np.array([[-1, 1, 1, 0, 0, 0],\n",
    "              [1, -1, 0, 1, 0, 0],\n",
    "              [1, 2., 0, 0, 1, 0],\n",
    "              [3, 1., 0, 0, 0, 1]])\n",
    "\n",
    "b = [2, 4, 10, 15.0]\n",
    "\n",
    "c = np.array([1, 1, 0, 0, 0, 0.])\n",
    "\n",
    "basic_var = [2, 3, 4, 5]\n",
    "\n",
    "tableau = build_tableau(A, b, c)\n",
    "simplex(tableau, basic_var)\n",
    "optimal_solution(tableau, basic_var)\n"
   ]
  },
  {
   "cell_type": "code",
   "execution_count": 42,
   "metadata": {},
   "outputs": [
    {
     "data": {
      "text/plain": [
       "array([0. , 0. , 0.4, 0.2])"
      ]
     },
     "execution_count": 42,
     "metadata": {},
     "output_type": "execute_result"
    }
   ],
   "source": [
    "# solve with B^{-1}^Tc_{BI}\n",
    "y_sol = np.linalg.inv(A[:, basic_var]).T @ c[basic_var]\n",
    "y_sol"
   ]
  },
  {
   "cell_type": "code",
   "execution_count": 43,
   "metadata": {},
   "outputs": [
    {
     "name": "stdout",
     "output_type": "stream",
     "text": [
      "[[ -2.  -4. -10. -15.   0.   0.   0.]\n",
      " [ -1.   1.   1.   3.  -1.   0.   1.]\n",
      " [  1.  -1.   2.   1.   0.  -1.   1.]]\n",
      "All tableau corrected\n",
      "vertex = [0.5 0.  0.  0.5], x_B = [1, 4]\n",
      "[[ 0.   -6.    3.75  0.   -3.25 -5.25  8.5 ]\n",
      " [ 1.   -1.    1.25  0.    0.25 -0.75  0.5 ]\n",
      " [ 0.    0.    0.75  1.   -0.25 -0.25  0.5 ]]\n",
      "vertex = [0.  0.  0.4 0.2], x_B = [3, 4]\n",
      "[[-3.  -3.   0.   0.  -4.  -3.   7. ]\n",
      " [ 0.8 -0.8  1.   0.   0.2 -0.6  0.4]\n",
      " [-0.6  0.6  0.   1.  -0.4  0.2  0.2]]\n",
      "Optimal solution: x_opt = [0.  0.  0.4 0.2]\n"
     ]
    }
   ],
   "source": [
    "# solve with dual mode\n",
    "A_T = np.array([[-1, 1, 1, 3, -1, 0.],\n",
    "                [1, -1, 2, 1, 0, -1.]])\n",
    "\n",
    "c = [1, 1.]\n",
    "\n",
    "# -max<-b^T, y> = min<b^T, y>\n",
    "b = np.array([-2, -4, -10, -15, 0., 0])\n",
    "\n",
    "basic_var = [0, 3]\n",
    "\n",
    "tableau = build_tableau(A_T, c, b)\n",
    "print(tableau)\n",
    "correct_all_tableau(tableau, basic_var)\n",
    "simplex(tableau, basic_var)\n",
    "optimal_solution(tableau, basic_var)\n"
   ]
  },
  {
   "cell_type": "code",
   "execution_count": 44,
   "metadata": {},
   "outputs": [
    {
     "data": {
      "text/plain": [
       "array([4., 3.])"
      ]
     },
     "execution_count": 44,
     "metadata": {},
     "output_type": "execute_result"
    }
   ],
   "source": [
    "# solve with compl(B)^{-1}^Tc_{compl(BI)}\n",
    "x_sol = np.linalg.inv(A_T[:, basic_var]).T @ b[basic_var]\n",
    "-x_sol"
   ]
  },
  {
   "cell_type": "markdown",
   "metadata": {},
   "source": [
    "#### Exercise 4.8.16\n",
    "$$\n",
    "\\begin{align*}\n",
    "\\max 2x_1& - x_2&\\\\\n",
    "s.t.\\quad x_1& + x_2& \\le 4\\\\\n",
    "     x_1& - x_2& \\le 2\\\\\n",
    "     -x_1& + x_2& \\le 2\\\\\n",
    "\\end{align*}\n",
    "$$\n",
    "$$x_1, x_2 \\ge 0$$\n"
   ]
  },
  {
   "cell_type": "code",
   "execution_count": 45,
   "metadata": {},
   "outputs": [
    {
     "name": "stdout",
     "output_type": "stream",
     "text": [
      "vertex = [0. 0.], x_B = [3, 4, 5]\n",
      "[[ 2. -1.  0.  0.  0.  0.]\n",
      " [ 1.  1.  1.  0.  0.  4.]\n",
      " [ 1. -1.  0.  1.  0.  2.]\n",
      " [-1.  1.  0.  0.  1.  2.]]\n",
      "vertex = [2. 0.], x_B = [3, 1, 5]\n",
      "[[ 0.  1.  0. -2.  0. -4.]\n",
      " [ 0.  2.  1. -1.  0.  2.]\n",
      " [ 1. -1.  0.  1.  0.  2.]\n",
      " [ 0.  0.  0.  1.  1.  4.]]\n",
      "vertex = [3. 1.], x_B = [2, 1, 5]\n",
      "[[ 0.   0.  -0.5 -1.5  0.  -5. ]\n",
      " [ 0.   1.   0.5 -0.5  0.   1. ]\n",
      " [ 1.   0.   0.5  0.5  0.   3. ]\n",
      " [ 0.   0.   0.   1.   1.   4. ]]\n",
      "Optimal solution: x_opt = [3. 1.]\n"
     ]
    }
   ],
   "source": [
    "A = [[1, 1., 1, 0, 0],\n",
    "     [1, -1, 0, 1, 0],\n",
    "     [-1, 1, 0, 0, 1]]\n",
    "\n",
    "b = [4, 2, 2.]\n",
    "\n",
    "c = [2, -1, 0, 0, 0.]\n",
    "\n",
    "basic_var = [2, 3, 4]\n",
    "\n",
    "tableau = build_tableau(A, b, c)\n",
    "simplex(tableau, basic_var)\n",
    "optimal_solution(tableau, basic_var)"
   ]
  },
  {
   "cell_type": "markdown",
   "metadata": {},
   "source": [
    "Adding the constraint $x_1 \\le 1$"
   ]
  },
  {
   "cell_type": "code",
   "execution_count": 46,
   "metadata": {},
   "outputs": [
    {
     "name": "stdout",
     "output_type": "stream",
     "text": [
      "x_B = [1, 0, 4, 5]\n",
      "[[ 0.   0.  -0.5 -1.5  0.   0.  -5. ]\n",
      " [ 0.   1.   0.5 -0.5  0.   0.   1. ]\n",
      " [ 1.   0.   0.5  0.5  0.   0.   3. ]\n",
      " [ 0.   0.   0.   1.   1.   0.   4. ]\n",
      " [ 1.   0.   0.   0.   0.   1.   1. ]]\n",
      "All tableau corrected\n",
      "vertex = [3. 1.], x_B = [2, 1, 5, 6]\n",
      "[[ 0.   0.  -0.5 -1.5  0.   0.  -5. ]\n",
      " [ 0.   1.   0.5 -0.5  0.   0.   1. ]\n",
      " [ 1.   0.   0.5  0.5  0.   0.   3. ]\n",
      " [ 0.   0.   0.   1.   1.   0.   4. ]\n",
      " [ 0.   0.  -0.5 -0.5  0.   1.  -2. ]]\n",
      "vertex = [ 1. -1.], x_B = [2, 1, 5, 3]\n",
      "[[ 0.  0.  0. -1.  0. -1. -3.]\n",
      " [ 0.  1.  0. -1.  0.  1. -1.]\n",
      " [ 1.  0.  0.  0.  0.  1.  1.]\n",
      " [ 0.  0.  0.  1.  1.  0.  4.]\n",
      " [-0. -0.  1.  1. -0. -2.  4.]]\n",
      "vertex = [1. 0.], x_B = [4, 1, 5, 3]\n",
      "[[ 0. -1.  0.  0.  0. -2. -2.]\n",
      " [-0. -1. -0.  1. -0. -1.  1.]\n",
      " [ 1.  0.  0.  0.  0.  1.  1.]\n",
      " [ 0.  1.  0.  0.  1.  1.  3.]\n",
      " [ 0.  1.  1.  0.  0. -1.  3.]]\n"
     ]
    }
   ],
   "source": [
    "optimal_tableau = np.array([[0., 0., -0.5, -1.5, 0., 0, -5.],\n",
    "                            [0., 1., 0.5, -0.5, 0.0, 0, 1.0],\n",
    "                            [1., 0., 0.5, 0.5, 0.0, 0., 3.0],\n",
    "                            [0., 0., 0.0, 1.0, 1.0, 0., 4.0],\n",
    "                            [1., 0., 0.0, 0.0, 0.0, 1., 1.0]])\n",
    "basic_var = [1, 0, 4, 5]\n",
    "print(f\"x_B = {basic_var}\\n{optimal_tableau}\")\n",
    "correct_all_tableau(optimal_tableau, basic_var)\n",
    "dual_simplex(optimal_tableau, basic_var)\n"
   ]
  },
  {
   "cell_type": "markdown",
   "metadata": {},
   "source": [
    "## Práctica Dirigida 5"
   ]
  },
  {
   "cell_type": "markdown",
   "metadata": {},
   "source": [
    "#### Problema 7\n",
    "a) Resolver el LO, mediante el algoritmo simplex."
   ]
  },
  {
   "cell_type": "code",
   "execution_count": 47,
   "metadata": {},
   "outputs": [
    {
     "name": "stdout",
     "output_type": "stream",
     "text": [
      "All tableau corrected\n",
      "[[ 2.   0.   1.   0.   1.   0.  -2. ]\n",
      " [ 1.5  0.   1.   1.   0.5  0.   2. ]\n",
      " [-0.5  1.   0.   0.  -0.5  0.   1. ]\n",
      " [ 1.   0.   0.   0.   0.   1.   1. ]]\n",
      "vertex = [0. 1. 0.], x_B = [4, 2, 6]\n",
      "[[ 2.   0.   1.   0.   1.   0.  -2. ]\n",
      " [ 1.5  0.   1.   1.   0.5  0.   2. ]\n",
      " [-0.5  1.   0.   0.  -0.5  0.   1. ]\n",
      " [ 1.   0.   0.   0.   0.   1.   1. ]]\n",
      "vertex = [1.  1.5 0. ], x_B = [4, 2, 1]\n",
      "[[ 0.   0.   1.   0.   1.  -2.  -4. ]\n",
      " [ 0.   0.   1.   1.   0.5 -1.5  0.5]\n",
      " [ 0.   1.   0.   0.  -0.5  0.5  1.5]\n",
      " [ 1.   0.   0.   0.   0.   1.   1. ]]\n",
      "vertex = [1.  1.5 0.5], x_B = [3, 2, 1]\n",
      "[[ 0.   0.   0.  -1.   0.5 -0.5 -4.5]\n",
      " [ 0.   0.   1.   1.   0.5 -1.5  0.5]\n",
      " [ 0.   1.   0.   0.  -0.5  0.5  1.5]\n",
      " [ 1.   0.   0.   0.   0.   1.   1. ]]\n",
      "vertex = [1. 2. 0.], x_B = [5, 2, 1]\n",
      "[[ 0.  0. -1. -2.  0.  1. -5.]\n",
      " [ 0.  0.  2.  2.  1. -3.  1.]\n",
      " [ 0.  1.  1.  1.  0. -1.  2.]\n",
      " [ 1.  0.  0.  0.  0.  1.  1.]]\n",
      "vertex = [0. 3. 0.], x_B = [5, 2, 6]\n",
      "[[-1.  0. -1. -2.  0.  0. -6.]\n",
      " [ 3.  0.  2.  2.  1.  0.  4.]\n",
      " [ 1.  1.  1.  1.  0.  0.  3.]\n",
      " [ 1.  0.  0.  0.  0.  1.  1.]]\n",
      "Optimal solution: x_opt = [0. 3. 0.]\n"
     ]
    }
   ],
   "source": [
    "A = np.array([[1., 1, 1, 1, 0., 0],\n",
    "              [-1, 2, 0, 0, -1, 0],\n",
    "              [1., 0, 0, 0, 0., 1]])\n",
    "\n",
    "b = np.array([3, 2, 1.])\n",
    "\n",
    "c = np.array([1, 2, 1, 0, 0.0, 0.0])\n",
    "\n",
    "tableau = build_tableau(A, b, c)\n",
    "basic_var = [3, 1, 5]\n",
    "correct_all_tableau(tableau, basic_var)\n",
    "print(tableau)\n",
    "simplex(tableau, basic_var);\n",
    "optimal_solution(tableau, basic_var)"
   ]
  },
  {
   "cell_type": "markdown",
   "metadata": {},
   "source": [
    "## Práctica Calificada 4"
   ]
  },
  {
   "cell_type": "markdown",
   "metadata": {},
   "source": [
    "#### Problema 1"
   ]
  },
  {
   "cell_type": "code",
   "execution_count": 48,
   "metadata": {},
   "outputs": [
    {
     "name": "stdout",
     "output_type": "stream",
     "text": [
      "vertex = [0. 0.], x_B = [3, 4, 5]\n",
      "[[ 1.   3.   0.   0.   0.   0. ]\n",
      " [ 1.   2.   1.   0.   0.   8. ]\n",
      " [ 2.  -1.   0.   1.   0.   4. ]\n",
      " [-0.5  1.   0.   0.   1.   2. ]]\n",
      "vertex = [0. 2.], x_B = [3, 4, 2]\n",
      "[[ 2.5  0.   0.   0.  -3.  -6. ]\n",
      " [ 2.   0.   1.   0.  -2.   4. ]\n",
      " [ 1.5  0.   0.   1.   1.   6. ]\n",
      " [-0.5  1.   0.   0.   1.   2. ]]\n",
      "vertex = [2. 3.], x_B = [1, 4, 2]\n",
      "[[  0.     0.    -1.25   0.    -0.5  -11.  ]\n",
      " [  1.     0.     0.5    0.    -1.     2.  ]\n",
      " [  0.     0.    -0.75   1.     2.5    3.  ]\n",
      " [  0.     1.     0.25   0.     0.5    3.  ]]\n",
      "Optimal solution: x_opt = [2. 3.]\n"
     ]
    }
   ],
   "source": [
    "A = [[1, 2, 1, 0, 0],\n",
    "     [2, -1, 0, 1, 0],\n",
    "     [-0.5, 1, 0, 0, 1]]\n",
    "\n",
    "b = [8, 4, 2.]\n",
    "\n",
    "c = [1, 3, 0, 0, 0.]\n",
    "\n",
    "basic_var = [2, 3, 4]\n",
    "\n",
    "tableau = build_tableau(A, b, c)\n",
    "simplex(tableau, basic_var)\n",
    "optimal_solution(tableau, basic_var)"
   ]
  },
  {
   "cell_type": "code",
   "execution_count": 49,
   "metadata": {},
   "outputs": [
    {
     "name": "stdout",
     "output_type": "stream",
     "text": [
      "All tableau corrected\n",
      "vertex = [1.25 0.   0.5 ], x_B = [1, 3]\n",
      "[[ 0.   -3.    0.   -2.   -3.   11.  ]\n",
      " [ 1.    0.75  0.   -0.5  -0.25  1.25]\n",
      " [ 0.   -2.5   1.    1.   -0.5   0.5 ]]\n",
      "Optimal solution: x_opt = [1.25 0.   0.5 ]\n"
     ]
    }
   ],
   "source": [
    "A_T = [[1, 2, -0.5, -1, 0.],\n",
    "       [2, -1, 1.0, 0., -1]]\n",
    "\n",
    "c = [1, 3.]\n",
    "\n",
    "b = [-8, -4, -2, 0, 0.]\n",
    "\n",
    "tableau = build_tableau(A_T, c, b)\n",
    "basic_var = [0, 2]\n",
    "correct_all_tableau(tableau, basic_var)\n",
    "\n",
    "simplex(tableau, basic_var)\n",
    "optimal_solution(tableau, basic_var)"
   ]
  },
  {
   "cell_type": "markdown",
   "metadata": {},
   "source": [
    "## Práctica Dirigida 6"
   ]
  },
  {
   "cell_type": "markdown",
   "metadata": {},
   "source": [
    "#### 1. Dado el siguiente LO\n",
    "\n",
    "\\begin{align*}\n",
    "\\max -x_1& - x_2& - x_3&\\\\\n",
    "s.t.\\quad  -x_1& - x_2& - x_3& \\le -3\\\\\n",
    "           -4x_1& - x_2& - 2x_3& \\le -5\\\\\n",
    "\\end{align*}\n",
    "$$x_1, x_2,x_3\\ge 0 $$\n"
   ]
  },
  {
   "cell_type": "code",
   "execution_count": 57,
   "metadata": {},
   "outputs": [
    {
     "name": "stdout",
     "output_type": "stream",
     "text": [
      "vertex = [0. 0. 0.], x_B = [4, 5, 6]\n",
      "[[-1. -2. -2.  0.  0.  0.  0.]\n",
      " [ 1.  2.  3.  1.  0.  0.  6.]\n",
      " [ 1. -3. -1.  0.  1.  0.  3.]\n",
      " [-4.  1.  1.  0.  0.  1. -3.]]\n",
      "vertex = [0.75 0.   0.  ], x_B = [4, 5, 1]\n",
      "[[ 0.   -2.25 -2.25  0.    0.   -0.25  0.75]\n",
      " [ 0.    2.25  3.25  1.    0.    0.25  5.25]\n",
      " [ 0.   -2.75 -0.75  0.    1.    0.25  2.25]\n",
      " [ 1.   -0.25 -0.25 -0.   -0.   -0.25  0.75]]\n"
     ]
    },
    {
     "data": {
      "text/plain": [
       "array([0.75, 0.  , 0.  , 5.25, 2.25, 0.  ])"
      ]
     },
     "execution_count": 57,
     "metadata": {},
     "output_type": "execute_result"
    }
   ],
   "source": [
    "# PC4 1\n",
    "# dual \n",
    "A_T = np.array([[1, 2., 3, 1, 0., 0],\n",
    "                [1, -3, -1, 0, 1, 0],\n",
    "                [-4, 1, 1., 0, 0, 1]])\n",
    "c = np.array([6, 3, -3])\n",
    "b = np.array([-1, -2, -2, 0., 0., 0])\n",
    "\n",
    "basic_var = [3, 4, 5]\n",
    "\n",
    "tableau = build_tableau(A_T, c, b)\n",
    "dual_simplex(tableau, basic_var)\n",
    "basic2vertex(tableau, basic_var, False)\n"
   ]
  },
  {
   "cell_type": "code",
   "execution_count": 69,
   "metadata": {},
   "outputs": [
    {
     "name": "stdout",
     "output_type": "stream",
     "text": [
      "[[ 0.   -2.25 -2.25  0.    0.   -0.25  0.    0.    0.75]\n",
      " [ 0.    2.25  3.25  1.    0.    0.25  0.    0.    5.25]\n",
      " [ 0.   -2.75 -0.75  0.    1.    0.25  0.    0.    2.25]\n",
      " [ 1.   -0.25 -0.25 -0.   -0.   -0.25  0.    0.    0.75]\n",
      " [-3.   -2.    1.    0.    0.    0.    1.    0.   -6.  ]\n",
      " [ 3.    2.   -1.    0.    0.    0.    0.    1.    6.  ]]\n",
      "All tableau corrected\n",
      "[[ 0.   -2.25 -2.25  0.    0.   -0.25  0.    0.    0.75]\n",
      " [ 0.    2.25  3.25  1.    0.    0.25  0.    0.    5.25]\n",
      " [ 0.   -2.75 -0.75  0.    1.    0.25  0.    0.    2.25]\n",
      " [ 1.   -0.25 -0.25 -0.   -0.   -0.25  0.    0.    0.75]\n",
      " [ 0.   -2.75  0.25  0.    0.   -0.75  1.    0.   -3.75]\n",
      " [ 0.    2.75 -0.25  0.    0.    0.75  0.    1.    3.75]]\n",
      "vertex = [0.75 0.   0.  ], x_B = [4, 5, 1, 7, 8]\n",
      "[[ 0.   -2.25 -2.25  0.    0.   -0.25  0.    0.    0.75]\n",
      " [ 0.    2.25  3.25  1.    0.    0.25  0.    0.    5.25]\n",
      " [ 0.   -2.75 -0.75  0.    1.    0.25  0.    0.    2.25]\n",
      " [ 1.   -0.25 -0.25 -0.   -0.   -0.25  0.    0.    0.75]\n",
      " [ 0.   -2.75  0.25  0.    0.   -0.75  1.    0.   -3.75]\n",
      " [ 0.    2.75 -0.25  0.    0.    0.75  0.    1.    3.75]]\n",
      "vertex = [2. 0. 0.], x_B = [4, 5, 1, 6, 8]\n",
      "[[ 0.         -1.33333333 -2.33333333  0.          0.          0.         -0.33333333  0.          2.        ]\n",
      " [ 0.          1.33333333  3.33333333  1.          0.          0.          0.33333333  0.          4.        ]\n",
      " [ 0.         -3.66666667 -0.66666667  0.          1.          0.          0.33333333  0.          1.        ]\n",
      " [ 1.          0.66666667 -0.33333333 -0.         -0.          0.         -0.33333333  0.          2.        ]\n",
      " [-0.          3.66666667 -0.33333333 -0.         -0.          1.         -1.33333333 -0.          5.        ]\n",
      " [ 0.          0.          0.          0.          0.          0.          1.          1.          0.        ]]\n",
      "Optimal solution: x_opt = [2. 0. 0.]\n"
     ]
    },
    {
     "data": {
      "text/plain": [
       "array([2., 0., 0., 4., 1., 5., 0., 0.])"
      ]
     },
     "execution_count": 69,
     "metadata": {},
     "output_type": "execute_result"
    }
   ],
   "source": [
    "# reoptimizando\n",
    "tableau = np.array([[0., -2.25, -2.25, 0., 0., -0.25, 0, 0, 0.75],\n",
    "                    [0., 2.25, 3.25, 1., 0., 0.25, 0, 0, 5.25],\n",
    "                    [0., -2.75, -0.75, 0., 1., 0.25, 0, 0, 2.25],\n",
    "                    [1., -0.25, -0.25, -0., -0., -0.25, 0, 0, 0.75],\n",
    "                    [-3, -2, 1, 0, 0, 0, 1, 0, -6],\n",
    "                    [3, 2, -1, 0, 0, 0, 0, 1, 6]])\n",
    "\n",
    "basic_var = [3, 4, 0, 6, 7]\n",
    "print(tableau)\n",
    "correct_all_tableau(tableau, basic_var)\n",
    "print(tableau)\n",
    "dual_simplex(tableau, basic_var)\n",
    "optimal_solution(tableau, basic_var)\n",
    "basic2vertex(tableau, basic_var, False)"
   ]
  },
  {
   "cell_type": "code",
   "execution_count": 56,
   "metadata": {},
   "outputs": [
    {
     "name": "stdout",
     "output_type": "stream",
     "text": [
      "vertex = [0. 0. 0.], x_B = [4, 5, 6]\n",
      "[[-6. -3.  3.  0.  0.  0.  0.]\n",
      " [-1. -1.  4.  1.  0.  0.  1.]\n",
      " [-2.  3. -1.  0.  1.  0.  2.]\n",
      " [-3.  1. -1.  0.  0.  1.  2.]]\n",
      "vertex = [0.   0.   0.25], x_B = [3, 5, 6]\n",
      "[[-5.25 -2.25  0.   -0.75  0.    0.   -0.75]\n",
      " [-0.25 -0.25  1.    0.25  0.    0.    0.25]\n",
      " [-2.25  2.75  0.    0.25  1.    0.    2.25]\n",
      " [-3.25  0.75  0.    0.25  0.    1.    2.25]]\n",
      "Optimal solution: x_opt = [0.   0.   0.25]\n"
     ]
    }
   ],
   "source": [
    "# primal\n",
    "A = np.array([[-1, -1, 4, 1, 0, 0],\n",
    "              [-2, 3, -1, 0, 1, 0],\n",
    "              [-3, 1, -1, 0, 0, 1.]])\n",
    "\n",
    "b = np.array([1, 2, 2.])\n",
    "\n",
    "c = np.array([-6, -3, 3, 0, 0, 0])\n",
    "\n",
    "basic_var = [3, 4, 5]\n",
    "\n",
    "tableau = build_tableau(A, b, c)\n",
    "\n",
    "simplex(tableau, basic_var)\n",
    "optimal_solution(tableau, basic_var)\n"
   ]
  },
  {
   "cell_type": "markdown",
   "metadata": {},
   "source": [
    "tableau"
   ]
  },
  {
   "cell_type": "markdown",
   "metadata": {},
   "source": [
    "a) Aplicar el algoritmo simplex dual al modelo LO\n"
   ]
  },
  {
   "cell_type": "code",
   "execution_count": null,
   "metadata": {},
   "outputs": [
    {
     "name": "stdout",
     "output_type": "stream",
     "text": [
      "vertex = [0. 0. 0.], x_B = [4, 5]\n",
      "[[-1. -1. -1.  0.  0.  0.]\n",
      " [-1. -1. -1.  1.  0. -3.]\n",
      " [-4. -1. -2.  0.  1. -5.]]\n",
      "vertex = [1.25 0.   0.  ], x_B = [4, 1]\n",
      "[[ 0.   -0.75 -0.5   0.   -0.25  1.25]\n",
      " [ 0.   -0.75 -0.5   1.   -0.25 -1.75]\n",
      " [ 1.    0.25  0.5  -0.   -0.25  1.25]]\n",
      "vertex = [0.66666667 2.33333333 0.        ], x_B = [2, 1]\n",
      "[[ 0.          0.          0.         -1.          0.          3.        ]\n",
      " [-0.          1.          0.66666667 -1.33333333  0.33333333  2.33333333]\n",
      " [ 1.          0.          0.33333333  0.33333333 -0.33333333  0.66666667]]\n",
      "Optimal solution: x_opt = [0.66666667 2.33333333 0.        ]\n"
     ]
    }
   ],
   "source": [
    "# dual matrix\n",
    "A_T = np.array([[-1, -1, -1, 1, 0.],\n",
    "                [-4, -1, -2, 0, 1.]])\n",
    "# search factibility\n",
    "c = np.array([-3, -5.])\n",
    "# optimality condition\n",
    "b = np.array([-1, -1, -1, 0., 0.])\n",
    "\n",
    "basic_var = [3, 4]\n",
    "\n",
    "tableau = build_tableau(A_T, c, b)\n",
    "dual_simplex(tableau, basic_var)\n",
    "optimal_solution(tableau, basic_var)\n"
   ]
  },
  {
   "cell_type": "code",
   "execution_count": null,
   "metadata": {},
   "outputs": [
    {
     "data": {
      "text/plain": [
       "array([1., 0.])"
      ]
     },
     "execution_count": 18,
     "metadata": {},
     "output_type": "execute_result"
    }
   ],
   "source": [
    "# x_sol solve with compl(B)^{-1}^Tc_{compl(BI)}\n",
    "x_sol = np.linalg.inv(A_T[:, basic_var]).T @ b[basic_var]\n",
    "x_sol"
   ]
  },
  {
   "cell_type": "markdown",
   "metadata": {},
   "source": [
    "b) Asociado a cada tabla simplex dual, hallar la tabla que correspende al primal.\n"
   ]
  },
  {
   "cell_type": "code",
   "execution_count": null,
   "metadata": {},
   "outputs": [
    {
     "name": "stdout",
     "output_type": "stream",
     "text": [
      "vertex = [0. 0.], x_B = [3, 4, 5]\n",
      "[[3. 5. 0. 0. 0. 0.]\n",
      " [1. 4. 1. 0. 0. 1.]\n",
      " [1. 1. 0. 1. 0. 1.]\n",
      " [1. 2. 0. 0. 1. 1.]]\n",
      "vertex = [0.   0.25], x_B = [2, 4, 5]\n",
      "[[ 1.75  0.   -1.25  0.    0.   -1.25]\n",
      " [ 0.25  1.    0.25  0.    0.    0.25]\n",
      " [ 0.75  0.   -0.25  1.    0.    0.75]\n",
      " [ 0.5   0.   -0.5   0.    1.    0.5 ]]\n",
      "vertex = [1. 0.], x_B = [1, 4, 5]\n",
      "[[ 0. -7. -3.  0.  0. -3.]\n",
      " [ 1.  4.  1.  0.  0.  1.]\n",
      " [ 0. -3. -1.  1.  0.  0.]\n",
      " [ 0. -2. -1.  0.  1.  0.]]\n",
      "Optimal solution: x_opt = [1. 0.]\n"
     ]
    }
   ],
   "source": [
    "A = np.array([[1, 4, 1, 0, 0],\n",
    "              [1, 1, 0, 1, 0],\n",
    "              [1, 2, 0, 0, 1.]])\n",
    "\n",
    "b = np.array([1, 1, 1.0])\n",
    "\n",
    "c = np.array([3, 5.0, 0, 0, 0])\n",
    "\n",
    "basic_var = [2, 3, 4]\n",
    "\n",
    "tableau = build_tableau(A, b, c)\n",
    "\n",
    "simplex(tableau, basic_var, )\n",
    "optimal_solution(tableau, basic_var)\n"
   ]
  },
  {
   "cell_type": "code",
   "execution_count": null,
   "metadata": {},
   "outputs": [
    {
     "data": {
      "text/plain": [
       "array([3., 0., 0.])"
      ]
     },
     "execution_count": 20,
     "metadata": {},
     "output_type": "execute_result"
    }
   ],
   "source": [
    "# dual solved with B^{-1}^Tc_{BI}\n",
    "y_sol = np.linalg.inv(A[:, basic_var]).T @ c[basic_var]\n",
    "y_sol"
   ]
  },
  {
   "cell_type": "markdown",
   "metadata": {},
   "source": [
    "c) Reoptimizar el LO, al aumentarle la restricción $-3x_1 - 3x_2 + x_3 \\le -12$"
   ]
  },
  {
   "cell_type": "code",
   "execution_count": null,
   "metadata": {},
   "outputs": [
    {
     "name": "stdout",
     "output_type": "stream",
     "text": [
      "[[  0.           0.           0.          -1.           0.           0.          -3.        ]\n",
      " [ -0.           1.           0.66666667  -1.33333333   0.33333333   0.           2.33333333]\n",
      " [  1.           0.           0.33333333   0.33333333  -0.33333333   0.           0.66666667]\n",
      " [ -3.          -3.           1.           0.           0.           1.         -12.        ]]\n",
      "All tableau corrected\n",
      "[[ 0.          0.          0.         -1.          0.          0.         -3.        ]\n",
      " [-0.          1.          0.66666667 -1.33333333  0.33333333  0.          2.33333333]\n",
      " [ 1.          0.          0.33333333  0.33333333 -0.33333333  0.          0.66666667]\n",
      " [ 0.          0.          4.         -3.          0.          1.         -3.        ]]\n",
      "vertex = [0.66666667 2.33333333 0.        ], x_B = [2, 1, 6]\n",
      "[[ 0.          0.          0.         -1.          0.          0.         -3.        ]\n",
      " [-0.          1.          0.66666667 -1.33333333  0.33333333  0.          2.33333333]\n",
      " [ 1.          0.          0.33333333  0.33333333 -0.33333333  0.          0.66666667]\n",
      " [ 0.          0.          4.         -3.          0.          1.         -3.        ]]\n",
      "vertex = [0.33333334 3.66666666 0.        ], x_B = [2, 1, 4]\n",
      "[[ 0.          0.         -1.33333333  0.          0.         -0.33333333 -2.        ]\n",
      " [-0.          1.         -1.1111111   0.          0.33333333 -0.44444444  3.66666666]\n",
      " [ 1.          0.          0.77777777  0.         -0.33333333  0.11111111  0.33333334]\n",
      " [-0.         -0.         -1.33333333  1.         -0.         -0.33333333  1.        ]]\n",
      "Optimal solution: x_opt = [0.33333334 3.66666666 0.        ]\n"
     ]
    }
   ],
   "source": [
    "tableau = np.array([[0., 0., 0., -1., 0., 0, -3.],\n",
    "                    [-0., 1., 0.66666667, -1.33333333, 0.33333333, 0, 2.33333333],\n",
    "                    [1., 0., 0.33333333, 0.33333333, -0.33333333, 0, 0.66666667],\n",
    "                    [-3, -3, 1, 0, 0, 1, -12]])\n",
    "basic_var = [1, 0, 5]\n",
    "print(tableau)\n",
    "correct_all_tableau(tableau, basic_var)\n",
    "print(tableau)\n",
    "dual_simplex(tableau, basic_var)\n",
    "optimal_solution(tableau, basic_var)"
   ]
  },
  {
   "cell_type": "markdown",
   "metadata": {},
   "source": [
    "#### 2. Sea la función $f : \\mathbb{R} \\rightarrow \\mathbb{R}$ definida como\n",
    "\n",
    "\\begin{align*}\n",
    "f(\\delta) := \\min {(1 + \\delta)} x_1& +& x_2&\\\\\n",
    "s.t.\\quad   2x_1& +& x_2& \\le 8\\\\\n",
    "            3x_1& +& x_2& \\le 10\\\\\n",
    "                 {}&  {}&  x_2& \\le 5\\\\\n",
    "\\end{align*}\n",
    "$$x_1, x_2\\ge 0$$"
   ]
  },
  {
   "cell_type": "markdown",
   "metadata": {},
   "source": [
    "#### 3. Considerar el siguiente modelo LO\n",
    "\n",
    "\\begin{align*}\n",
    "\\text { máx } & -x_{1}-2 x_{2}-x_{3} \\\\\n",
    "\\text { s.t. } & -2 x_{1}+2 x_{2}-2 x_{3} \\leq-1, \\\\\n",
    "& -x_{1}-x_{2}-3 x_{3} \\geq-2 \\\\\n",
    "& -2 x_{1}-x_{2}-5 x_{3} \\leq-4 \\\\\n",
    "& 0 \\leq x_{1}, 0 \\leq x_{2}, 0 \\leq x_{3} .\n",
    "\\end{align*}"
   ]
  },
  {
   "cell_type": "markdown",
   "metadata": {},
   "source": [
    "a) Resolver el LO, mediante el algoritmo simplex dual. Además justificar el porqué en general al poder aplicar el algoritmo simplex dual a un LO, no se obtiene que el LO sea no acotado."
   ]
  },
  {
   "cell_type": "code",
   "execution_count": null,
   "metadata": {},
   "outputs": [
    {
     "name": "stdout",
     "output_type": "stream",
     "text": [
      "vertex = [0. 0. 0.], x_B = [4, 5, 6]\n",
      "[[-1. -2. -1.  0.  0.  0.  0.]\n",
      " [-2.  2. -2.  1.  0.  0. -1.]\n",
      " [ 1.  1.  3.  0.  1.  0.  2.]\n",
      " [-2. -1. -5.  0.  0.  1. -4.]]\n",
      "vertex = [0.  0.  0.8], x_B = [4, 5, 3]\n",
      "[[-0.6 -1.8  0.   0.   0.  -0.2  0.8]\n",
      " [-1.2  2.4  0.   1.   0.  -0.4  0.6]\n",
      " [-0.2  0.4  0.   0.   1.   0.6 -0.4]\n",
      " [ 0.4  0.2  1.  -0.  -0.  -0.2  0.8]]\n",
      "vertex = [2. 0. 0.], x_B = [4, 1, 3]\n",
      "[[ 0. -3.  0.  0. -3. -2.  2.]\n",
      " [ 0.  0.  0.  1. -6. -4.  3.]\n",
      " [ 1. -2. -0. -0. -5. -3.  2.]\n",
      " [ 0.  1.  1.  0.  2.  1.  0.]]\n"
     ]
    }
   ],
   "source": [
    "# Forma dual-simplex <= y los coeficientes I son positivos\n",
    "A_T = np.array([[-2, 2, -2., 1, 0, 0],\n",
    "                [1.0, 1, 3., 0, 1, 0],\n",
    "                [-2, -1, -5, 0, 0, 1]])\n",
    "\n",
    "c = [-1, 2, -4.0]\n",
    "\n",
    "b = np.array([-1, -2, -1.0, 0, 0, 0])\n",
    "\n",
    "tableau = build_tableau(A_T, c, b)\n",
    "basic_var = [3, 4, 5]\n",
    "dual_simplex(tableau, basic_var)\n"
   ]
  },
  {
   "cell_type": "code",
   "execution_count": null,
   "metadata": {},
   "outputs": [
    {
     "name": "stdout",
     "output_type": "stream",
     "text": [
      "x*=[0. 3. 2.]\n"
     ]
    }
   ],
   "source": [
    "# solve with B^{-1}^Tc_{BI}\n",
    "x_sol = np.linalg.inv(A_T[:, basic_var]).T @ b[basic_var]\n",
    "print(f\"x*={x_sol}\")\n"
   ]
  },
  {
   "cell_type": "code",
   "execution_count": null,
   "metadata": {},
   "outputs": [
    {
     "name": "stdout",
     "output_type": "stream",
     "text": [
      "vertex = [0. 0. 0.], x_B = [4, 5, 6]\n",
      "[[ 1. -2.  4.  0.  0.  0.  0.]\n",
      " [ 2. -1.  2.  1.  0.  0.  1.]\n",
      " [-2. -1.  1.  0.  1.  0.  2.]\n",
      " [ 2. -3.  5.  0.  0.  1.  1.]]\n",
      "vertex = [0.  0.  0.2], x_B = [4, 5, 3]\n",
      "[[-0.6  0.4  0.   0.   0.  -0.8 -0.8]\n",
      " [ 1.2  0.2  0.   1.   0.  -0.4  0.6]\n",
      " [-2.4 -0.4  0.   0.   1.  -0.2  1.8]\n",
      " [ 0.4 -0.6  1.   0.   0.   0.2  0.2]]\n",
      "vertex = [0. 3. 2.], x_B = [2, 5, 3]\n",
      "[[-3.  0.  0. -2.  0.  0. -2.]\n",
      " [ 6.  1.  0.  5.  0. -2.  3.]\n",
      " [ 0.  0.  0.  2.  1. -1.  3.]\n",
      " [ 4.  0.  1.  3.  0. -1.  2.]]\n"
     ]
    }
   ],
   "source": [
    "# Forma primal\n",
    "A = np.array([[2., -1, 2, 1, 0, 0],\n",
    "              [-2, -1, 1, 0, 1, 0],\n",
    "              [2., -3, 5, 0, 0, 1]])\n",
    "\n",
    "b = [1, 2, 1.]\n",
    "\n",
    "c = np.array([1, -2, 4, 0, 0, 0.])\n",
    "\n",
    "basic_var = [3, 4, 5]\n",
    "\n",
    "tableau = build_tableau(A, b, c)\n",
    "simplex(tableau, basic_var);\n"
   ]
  },
  {
   "cell_type": "code",
   "execution_count": null,
   "metadata": {},
   "outputs": [
    {
     "name": "stdout",
     "output_type": "stream",
     "text": [
      "y*=[2. 0. 0.]\n"
     ]
    }
   ],
   "source": [
    "# solve with B^{-1}^Tc_{BI}\n",
    "y_sol = np.linalg.inv(A[:, basic_var]).T @ c[basic_var]\n",
    "print(f\"y*={y_sol}\")"
   ]
  },
  {
   "cell_type": "markdown",
   "metadata": {},
   "source": [
    "b) Utilizar la tabla simplex optimal de a), para reoptimizar el LO al adicionarle las restricciones $2x_1 + 2x_2 - x3 \\le 3$, y $x_1 + x2 + 4x_3 \\le 2$. Además responder ¿es posible utlizar la tabla simplex optimal de a), para reoptimizar el LO al quitarle algunas restricciones?\n"
   ]
  },
  {
   "cell_type": "code",
   "execution_count": null,
   "metadata": {},
   "outputs": [
    {
     "name": "stdout",
     "output_type": "stream",
     "text": [
      "[[ 0. -3.  0.  0. -3. -2.  0.  0.  2.]\n",
      " [ 0.  0.  0.  1. -6. -4.  0.  0.  3.]\n",
      " [ 1. -2. -0. -0. -5. -3.  0.  0.  2.]\n",
      " [ 0.  1.  1.  0.  2.  1.  0.  0.  0.]\n",
      " [ 2.  2. -1.  0.  0.  0.  1.  0.  3.]\n",
      " [ 1.  1.  4.  0.  0.  0.  0.  1.  2.]]\n",
      "All tableau corrected\n",
      "vertex = [2. 0. 0.], x_B = [4, 1, 6, 7, 8]\n",
      "[[ 0. -1.  2.  0.  1.  0.  0.  0.  2.]\n",
      " [ 0.  4.  4.  1.  2.  0.  0.  0.  3.]\n",
      " [ 1.  1.  3.  0.  1.  0.  0.  0.  2.]\n",
      " [ 0.  1.  1.  0.  2.  1.  0.  0.  0.]\n",
      " [ 0.  0. -7.  0. -2.  0.  1.  0. -1.]\n",
      " [ 0.  0.  1.  0. -1.  0.  0.  1.  0.]]\n",
      "vertex = [1.5 0.  0. ], x_B = [4, 1, 6, 5, 8]\n",
      "[[ 0.  -1.  -1.5  0.   0.   0.   0.5  0.   1.5]\n",
      " [ 0.   4.  -3.   1.   0.   0.   1.   0.   2. ]\n",
      " [ 1.   1.  -0.5  0.   0.   0.   0.5  0.   1.5]\n",
      " [ 0.   1.  -6.   0.   0.   1.   1.   0.  -1. ]\n",
      " [-0.  -0.   3.5 -0.   1.  -0.  -0.5 -0.   0.5]\n",
      " [ 0.   0.   4.5  0.   0.   0.  -0.5  1.   0.5]]\n",
      "vertex = [1.58333333 0.         0.16666667], x_B = [4, 1, 3, 5, 8]\n",
      "[[ 0.         -1.25        0.          0.          0.         -0.25        0.25        0.          1.75      ]\n",
      " [ 0.          3.5         0.          1.          0.         -0.5         0.5         0.          2.5       ]\n",
      " [ 1.          0.91666667  0.          0.          0.         -0.08333333  0.41666667  0.          1.58333333]\n",
      " [-0.         -0.16666667  1.         -0.         -0.         -0.16666667 -0.16666667 -0.          0.16666667]\n",
      " [ 0.          0.58333333  0.          0.          1.          0.58333333  0.08333333  0.         -0.08333333]\n",
      " [ 0.          0.75        0.          0.          0.          0.75        0.25        1.         -0.25      ]]\n",
      "No feasible solution\n"
     ]
    }
   ],
   "source": [
    "tableau = np.array([[0., -3., 0.0, 0.0, -3., -2., 0, 0, 2.],\n",
    "                    [0., 0.0, 0.0, 1.0, -6., -4., 0, 0, 3.],\n",
    "                    [1., -2., -0., -0., -5., -3., 0, 0, 2.],\n",
    "                    [0., 1.0, 1.0, 0.0, 2.0, 1.0, 0, 0, 0.],\n",
    "                    [2., 2.0, -1., 0.0, 0.0, 0.0, 1, 0, 3.],\n",
    "                    [1., 1.0, 4.0, 0.0, 0.0, 0.0, 0, 1, 2.]])\n",
    "\n",
    "basic_var = [3, 0, 5, 6, 7]\n",
    "print(tableau)\n",
    "correct_all_tableau(tableau, basic_var)\n",
    "dual_simplex(tableau, basic_var)"
   ]
  },
  {
   "cell_type": "markdown",
   "metadata": {},
   "source": [
    "## Jose Luis de la Fuente: Capítulo 8: Dualidad y análisis de sensibilidad"
   ]
  },
  {
   "cell_type": "markdown",
   "metadata": {},
   "source": [
    "### 8.1. Considérese el problema de programación lineal:\n",
    "\n",
    "\\begin{align*}\n",
    "\\min  3x_1& + 10x_2& + 8x_3& + 16x_4& + 20x_5&\\\\\n",
    "s.t. \\quad  x_1& + 2x_2& + 4x_3& + 4x_4& - x_5& \\ge 4.5\\\\\n",
    "            −x_1& + x_2& - x_3& + x_4& + 4x_5& \\ge 1\n",
    "\\end{align*}\n",
    "$$\n",
    "x1,...,x5 \\ge 0.\n",
    "$$\n",
    "a) Resolver utilizando el método dual"
   ]
  },
  {
   "cell_type": "code",
   "execution_count": null,
   "metadata": {},
   "outputs": [
    {
     "name": "stdout",
     "output_type": "stream",
     "text": [
      "vertex = [0. 0. 0. 0. 0.], x_B = [6, 7]\n",
      "[[ -2.  -10.   -8.  -16.  -20.    0.    0.    0. ]\n",
      " [ -1.   -2.   -4.   -4.    1.    1.    0.   -4.5]\n",
      " [  1.   -1.    1.   -1.   -4.    0.    1.   -1. ]]\n",
      "vertex = [4.5 0.  0.  0.  0. ], x_B = [1, 7]\n",
      "[[  0.   -6.    0.   -8.  -22.   -2.    0.    9. ]\n",
      " [  1.    2.    4.    4.   -1.   -1.   -0.    4.5]\n",
      " [  0.   -3.   -3.   -5.   -3.    1.    1.   -5.5]]\n",
      "vertex = [-2.83333333  0.          1.83333333  0.          0.        ], x_B = [1, 3]\n",
      "[[  0.          -6.           0.          -8.         -22.          -2.           0.           9.        ]\n",
      " [  1.          -2.           0.          -2.66666667  -5.           0.33333333   1.33333333  -2.83333333]\n",
      " [ -0.           1.           1.           1.66666667   1.          -0.33333333  -0.33333333   1.83333333]]\n",
      "vertex = [0.     0.     0.0625 1.0625 0.    ], x_B = [4, 3]\n",
      "[[-3.     -0.      0.      0.     -7.     -3.     -4.     17.5   ]\n",
      " [-0.375   0.75   -0.      1.      1.875  -0.125  -0.5     1.0625]\n",
      " [ 0.625  -0.25    1.      0.     -2.125  -0.125   0.5     0.0625]]\n",
      "y* = [0.     0.     0.0625 1.0625 0.    ]\n",
      "x* = [3. 4.]\n"
     ]
    }
   ],
   "source": [
    "# invertir desigualdad\n",
    "A_T = np.array([[-1, -2, -4, -4, 1, 1, 0.],\n",
    "                [1., -1, 1., -1, -4, 0, 1]])\n",
    "\n",
    "# min = -max <-b.T, x> -> max <-c.T, x>\n",
    "b = np.array([-2, -10., -8, -16, -20, 0, 0])\n",
    "\n",
    "c = [-4.5, -1]\n",
    "\n",
    "basic_var = [5, 6]\n",
    "\n",
    "tableau = build_tableau(A_T, c, b)\n",
    "dual_simplex(tableau, basic_var)\n",
    "print(\"y* =\", basic2vertex(tableau, basic_var, True))\n",
    "\n",
    "# primal desde el dual\n",
    "x_sol = np.linalg.inv(A_T[:, basic_var]).T @ b[basic_var]\n",
    "print(\"x* =\", x_sol)\n"
   ]
  },
  {
   "cell_type": "markdown",
   "metadata": {},
   "source": [
    "b) Resolver a partir del primal "
   ]
  },
  {
   "cell_type": "code",
   "execution_count": null,
   "metadata": {},
   "outputs": [
    {
     "name": "stdout",
     "output_type": "stream",
     "text": [
      "vertex = [0. 0.], x_B = [3, 4, 5, 6, 7]\n",
      "[[ 4.5  1.   0.   0.   0.   0.   0.   0. ]\n",
      " [ 1.  -1.   1.   0.   0.   0.   0.   3. ]\n",
      " [ 2.   1.   0.   1.   0.   0.   0.  10. ]\n",
      " [ 4.  -1.   0.   0.   1.   0.   0.   8. ]\n",
      " [ 4.   1.   0.   0.   0.   1.   0.  16. ]\n",
      " [-1.   4.   0.   0.   0.   0.   1.  20. ]]\n",
      "vertex = [2. 0.], x_B = [3, 4, 1, 6, 7]\n",
      "[[ 0.     2.125  0.     0.    -1.125  0.     0.    -9.   ]\n",
      " [ 0.    -0.75   1.     0.    -0.25   0.     0.     1.   ]\n",
      " [ 0.     1.5    0.     1.    -0.5    0.     0.     6.   ]\n",
      " [ 1.    -0.25   0.     0.     0.25   0.     0.     2.   ]\n",
      " [ 0.     2.     0.     0.    -1.     1.     0.     8.   ]\n",
      " [ 0.     3.75   0.     0.     0.25   0.     1.    22.   ]]\n",
      "vertex = [3. 4.], x_B = [3, 2, 1, 6, 7]\n",
      "[[  0.           0.           0.          -1.41666667  -0.41666667   0.           0.         -17.5       ]\n",
      " [  0.           0.           1.           0.5         -0.5          0.           0.           4.        ]\n",
      " [  0.           1.           0.           0.66666667  -0.33333333   0.           0.           4.        ]\n",
      " [  1.           0.           0.           0.16666667   0.16666667   0.           0.           3.        ]\n",
      " [  0.           0.           0.          -1.33333333  -0.33333333   1.           0.           0.        ]\n",
      " [  0.           0.           0.          -2.5          1.5          0.           1.           7.        ]]\n",
      "x* = [3. 4.]\n",
      "y* = [0.         1.41666667 0.41666667 0.         0.        ]\n"
     ]
    }
   ],
   "source": [
    "A = np.array([[1., -1, 1, 0, 0, 0, 0],\n",
    "              [2., 1., 0, 1, 0, 0, 0],\n",
    "              [4., -1, 0, 0, 1, 0, 0],\n",
    "              [4., 1., 0, 0, 0, 1, 0],\n",
    "              [-1., 4, 0, 0, 0, 0, 1]])\n",
    "\n",
    "b = [3, 10, 8, 16, 20.]\n",
    "\n",
    "c = np.array([4.5, 1, 0, 0, 0, 0, 0])\n",
    "\n",
    "basic_var = [2, 3, 4, 5, 6]\n",
    "\n",
    "tableau = build_tableau(A, b, c)\n",
    "simplex(tableau, basic_var)\n",
    "print(\"x* =\", basic2vertex(tableau, basic_var, True))\n",
    "\n",
    "# dual desde el primal\n",
    "y_sol = np.linalg.inv(A[:, basic_var]).T @ c[basic_var]\n",
    "print(\"y* =\", y_sol)\n"
   ]
  },
  {
   "cell_type": "markdown",
   "metadata": {},
   "source": [
    "#### 8.2. Resolver el siguiente problema de programación lineal\n",
    "\n",
    "\\begin{align*}\n",
    "\\min -x_1& - 2x_2&\\\\\n",
    "s.t.\\quad -3x_1& + 2x_2& &\\le -1\\\\\n",
    "            x_1& - x_2& &\\le 1\\\\\n",
    "            -2x_1& + 7x_2& &\\le 6\\\\\n",
    "            9x_1& - 4x_2& &\\le 6\\\\\n",
    "            -5x_1& + 2x_2& &\\le -3\\\\\n",
    "            7x_1& - 3x_2& &\\le 6\\\\\n",
    "\\end{align*}\n",
    "$$x_1, x_2 \\ge 0$$"
   ]
  },
  {
   "cell_type": "code",
   "execution_count": null,
   "metadata": {},
   "outputs": [
    {
     "name": "stdout",
     "output_type": "stream",
     "text": [
      "x_B = [9, 4, 5, 6, 10, 8]\n",
      "[[ 0.  0.  0.  0.  0.  0.  0.  0. -1. -1.  0.]\n",
      " [ 3. -2. -1.  0.  0.  0.  0.  0.  1.  0.  1.]\n",
      " [ 1. -1.  0.  1.  0.  0.  0.  0.  0.  0.  1.]\n",
      " [-2.  7.  0.  0.  1.  0.  0.  0.  0.  0.  6.]\n",
      " [ 9. -4.  0.  0.  0.  1.  0.  0.  0.  0.  6.]\n",
      " [ 5. -2.  0.  0.  0.  0. -1.  0.  0.  1.  3.]\n",
      " [ 7. -3.  0.  0.  0.  0.  0.  1.  0.  0.  6.]]\n",
      "Cost corrected\n",
      "x_B = [9, 4, 5, 6, 10, 8]\n",
      "[[ 8. -4. -1.  0.  0.  0. -1.  0.  0.  0.  4.]\n",
      " [ 3. -2. -1.  0.  0.  0.  0.  0.  1.  0.  1.]\n",
      " [ 1. -1.  0.  1.  0.  0.  0.  0.  0.  0.  1.]\n",
      " [-2.  7.  0.  0.  1.  0.  0.  0.  0.  0.  6.]\n",
      " [ 9. -4.  0.  0.  0.  1.  0.  0.  0.  0.  6.]\n",
      " [ 5. -2.  0.  0.  0.  0. -1.  0.  0.  1.  3.]\n",
      " [ 7. -3.  0.  0.  0.  0.  0.  1.  0.  0.  6.]]\n",
      "Start phase One\n",
      "x_B = [1, 4, 5, 6, 10, 8]\n",
      "[[ 0.          1.33333333  1.66666667  0.          0.          0.         -1.          0.         -2.66666667  0.          1.33333333]\n",
      " [ 1.         -0.66666667 -0.33333333  0.          0.          0.          0.          0.          0.33333333  0.          0.33333333]\n",
      " [ 0.         -0.33333333  0.33333333  1.          0.          0.          0.          0.         -0.33333333  0.          0.66666667]\n",
      " [ 0.          5.66666667 -0.66666667  0.          1.          0.          0.          0.          0.66666667  0.          6.66666667]\n",
      " [ 0.          2.          3.          0.          0.          1.          0.          0.         -3.          0.          3.        ]\n",
      " [ 0.          1.33333333  1.66666667  0.          0.          0.         -1.          0.         -1.66666667  1.          1.33333333]\n",
      " [ 0.          1.66666667  2.33333333  0.          0.          0.          0.          1.         -2.33333333  0.          3.66666667]]\n",
      "x_B = [1, 4, 5, 6, 3, 8]\n",
      "[[ 0.   0.   0.   0.   0.   0.   0.   0.  -1.  -1.   0. ]\n",
      " [ 1.  -0.4  0.   0.   0.   0.  -0.2  0.   0.   0.2  0.6]\n",
      " [ 0.  -0.6  0.   1.   0.   0.   0.2  0.   0.  -0.2  0.4]\n",
      " [ 0.   6.2  0.   0.   1.   0.  -0.4  0.   0.   0.4  7.2]\n",
      " [ 0.  -0.4  0.   0.   0.   1.   1.8  0.   0.  -1.8  0.6]\n",
      " [ 0.   0.8  1.   0.   0.   0.  -0.6  0.  -1.   0.6  0.8]\n",
      " [ 0.  -0.2  0.   0.   0.   0.   1.4  1.   0.  -1.4  1.8]]\n",
      "Delete artificial variables and create a new tableau [8, 9]\n",
      "Start phase two, put original cost\n",
      "x_B = [1, 4, 5, 6, 3, 8]\n",
      "[[ 1.   2.   0.   0.   0.   0.   0.   0.   0. ]\n",
      " [ 1.  -0.4  0.   0.   0.   0.  -0.2  0.   0.6]\n",
      " [ 0.  -0.6  0.   1.   0.   0.   0.2  0.   0.4]\n",
      " [ 0.   6.2  0.   0.   1.   0.  -0.4  0.   7.2]\n",
      " [ 0.  -0.4  0.   0.   0.   1.   1.8  0.   0.6]\n",
      " [ 0.   0.8  1.   0.   0.   0.  -0.6  0.   0.8]\n",
      " [ 0.  -0.2  0.   0.   0.   0.   1.4  1.   1.8]]\n",
      "Cost corrected\n",
      "vertex = [0.6 0. ], x_B = [1, 4, 5, 6, 3, 8]\n",
      "[[ 0.   2.4  0.   0.   0.   0.   0.2  0.  -0.6]\n",
      " [ 1.  -0.4  0.   0.   0.   0.  -0.2  0.   0.6]\n",
      " [ 0.  -0.6  0.   1.   0.   0.   0.2  0.   0.4]\n",
      " [ 0.   6.2  0.   0.   1.   0.  -0.4  0.   7.2]\n",
      " [ 0.  -0.4  0.   0.   0.   1.   1.8  0.   0.6]\n",
      " [ 0.   0.8  1.   0.   0.   0.  -0.6  0.   0.8]\n",
      " [ 0.  -0.2  0.   0.   0.   0.   1.4  1.   1.8]]\n",
      "vertex = [1. 1.], x_B = [1, 4, 5, 6, 2, 8]\n",
      "[[ 0.    0.   -3.    0.    0.    0.    2.    0.   -3.  ]\n",
      " [ 1.    0.    0.5   0.    0.    0.   -0.5   0.    1.  ]\n",
      " [ 0.    0.    0.75  1.    0.    0.   -0.25  0.    1.  ]\n",
      " [ 0.    0.   -7.75  0.    1.    0.    4.25  0.    1.  ]\n",
      " [ 0.    0.    0.5   0.    0.    1.    1.5   0.    1.  ]\n",
      " [ 0.    1.    1.25  0.    0.    0.   -0.75  0.    1.  ]\n",
      " [ 0.    0.    0.25  0.    0.    0.    1.25  1.    2.  ]]\n",
      "vertex = [1.11764706 1.17647059], x_B = [1, 4, 7, 6, 2, 8]\n",
      "[[ 0.          0.          0.64705882  0.         -0.47058824  0.          0.          0.         -3.47058824]\n",
      " [ 1.          0.         -0.41176471  0.          0.11764706  0.          0.          0.          1.11764706]\n",
      " [ 0.          0.          0.29411765  1.          0.05882353  0.          0.          0.          1.05882353]\n",
      " [ 0.          0.         -1.82352941  0.          0.23529412  0.          1.          0.          0.23529412]\n",
      " [ 0.          0.          3.23529412  0.         -0.35294118  1.          0.          0.          0.64705882]\n",
      " [ 0.          1.         -0.11764706  0.          0.17647059  0.          0.          0.          1.17647059]\n",
      " [ 0.          0.          2.52941176  0.         -0.29411765  0.          0.          1.          1.70588235]]\n",
      "vertex = [1.2 1.2], x_B = [1, 4, 7, 3, 2, 8]\n",
      "[[ 0.          0.          0.          0.         -0.4        -0.2         0.          0.         -3.6       ]\n",
      " [ 1.          0.          0.          0.          0.07272727  0.12727273  0.          0.          1.2       ]\n",
      " [ 0.          0.          0.          1.          0.09090909 -0.09090909  0.          0.          1.        ]\n",
      " [ 0.          0.          0.          0.          0.03636364  0.56363636  1.          0.          0.6       ]\n",
      " [ 0.          0.          1.          0.         -0.10909091  0.30909091  0.          0.          0.2       ]\n",
      " [ 0.          1.          0.          0.          0.16363636  0.03636364  0.          0.          1.2       ]\n",
      " [ 0.          0.          0.          0.         -0.01818182 -0.78181818  0.          1.          1.2       ]]\n"
     ]
    }
   ],
   "source": [
    "# primal\n",
    "A = np.array([[3, -2, -1, 0, 0, 0, 0, 0, 1, 0],\n",
    "                [1, -1, 0, 1, 0, 0, 0, 0, 0, 0],\n",
    "                [-2, 7, 0, 0, 1, 0, 0, 0, 0, 0],\n",
    "                [9, -4, 0, 0, 0, 1, 0, 0, 0, 0],\n",
    "                [5, -2, 0, 0, 0, 0, -1, 0, 0, 1],\n",
    "                [7, -3, 0, 0, 0, 0, 0, 1., 0, 0]])\n",
    "\n",
    "c_artificial = [0, 0., 0, 0, 0, 0, 0, 0, -1, -1]\n",
    "b = [1, 1, 6, 6, 3, 6.]\n",
    "\n",
    "c = np.array([1, 2., 0, 0, 0, 0, 0, 0, 0])\n",
    "\n",
    "basic_var = [8, 3, 4, 5, 9, 7]\n",
    "artificial_var = [8, 9]\n",
    "tableau = build_tableau(A, b, c_artificial)\n",
    "two_phases(tableau, c, basic_var, artificial_var);"
   ]
  },
  {
   "cell_type": "markdown",
   "metadata": {},
   "source": [
    "![image.png](data:image/png;base64,iVBORw0KGgoAAAANSUhEUgAAAZIAAAF9CAYAAAAukO6tAAAgAElEQVR4nOy9SWxkW3oe+N0p5pFkDJyZb8iB+V6pUCWVuuySjDIKUttqA5JLakibtqp6YTQEbwx4IcBwr3qhjdGQtr01UGgtapTUcHdbhvBU7SqVnl7VyySTQ2ZyZgTJmOfhntOLE+cOEfdGBMlgxGXyfgCRJPPnvefEiTjfPf//f/8v/Jt/Qyl6UFUVlBLIsoJhmLTdT37yU5yenuJf/svfmep9x7VrtVrIZrPY29tDo9EAAITDYXz00UeYn5/X7MrlMtrtNhYWFhw5j3HtnD4Pdz2cNT5VVVEul7C9/Qr5fB4A4Pf78fjxY6yurt6reVBKsLOj4L/8F/Y7WQZ+8zcBr1e3q9dr6HS6iEajQ69HCAGlBJIkD7Xrdgn+638VUC4LAIB4HKjVgHab/f8HHwAffwxQOt71xr3vJObx058CJyeAOPQKt4Qg3OXVpwdZlpFMJvD06VP4/X4AQKVSwYsXL5DL5WY8uocHdz2cB07kc3NzAIBGo4Hd3V0cHx/PeGTXx96e/v3SkplE7gI7O9BIxOcDQiGdRBQFWFtz5l5aKADZLPt+KJG022383d/9FNVqZeyLt9tt/O3f/i1yuRwEQQTgwFfgBpBlGalUyt28HAJ3PZyHSCRy78nk/FxAJqP/vL5+t/crFIC3b/U9cnERKJX0/0+ngUjkbsdwU5yeAp0O+36ASERRAsAI4Sc/+QkODg7R7XbHvvj+/j5evnyJdrsNQRAgOJFKbwh383IW3PVwHqzIZG9vDycnJzMe2Xh480bQNsdYjLmZ7gqEAJ9+CrTbbI+cn2eutGpVt1lbA8Q79RvdDI0GYHw+MA2Rb/y5XA4//OEPkc/nIUnS2BfP5XI4PDyE967PgjPEsM2rUCjOeHQPD+56OA/9ZFKv17G7u4vz8/MZj2w46nXg9Wt9S1xfZxv7XeHVK/304fMRPHoE5POMYAAgkWDk4kScnzMyAZj7r49IWGBlf38f77//Pr7whY/HJpJqtYJf/OIXePToEcLh8MQH7iTYbV67uzsoFt3Na9pw18N5sCKTt2/fIsud6g7E4SFQq7HTgSwDKyt3d69CAXjzRv85nWZuIuPbdW3tbonsNjg60r9//hyQ2zyqAwGSJEIQBHz44YcIBoNoNOqaMaUUhBCoqtqL4lMIgghJkqCqKl69eoVoNIrl5WXs7OwM/M0wsGwJFfpYrMGzBwihjrCbm5vDBx98gJ2dXTSbDVSrVezvv0YkEkEsFpv5+G5qx9fYXQ9n2N3X9fD5fHjy5Am2trZRKOTRaDRwcHCIYDCEpaXFmY+vH3t7+q6dThNIEoGVV19V2fVGufwJIQAoKO3/PfDpp7IWUI/HCebnVZyeAqrKnu0jEYJEwnx/u+uNe99JzePiQkCxKPXGSbG83IFcLOqRHUEQ4Pf7EI1GIUnSAJHU63U0Gk1QSuHzeeHxeAAAp6enqFSq+PKXvwxFMabYUbTbbdRqdQxDs9lAp6PCOBYr0N5MRsVdpmnn8XiQTqdxdHSIdruNarWCzz77DO+99x4iEeu0OifOwwhG7NRdD4fY3ef1AIClpSU0m3WUSmU0GnVsb2+hVqsikUg6YnwAkMspyGb198fCQg3VqvUDMHswpqgagxnXuO/BgR+lEiMtRVGRSjVQr4u4utKJbH6+gXa7A+Ozw+TfVx0Ui/8NwK9d63oHB0EQwohkZaWGRqMBORLR3VCEEO1U0g9BEODz+aAoCgghkGUZoiiiWq1gZ2cHT548QSgU6ntqEuDxeEa6x7xeH2RZhnEsVuAnoVHXm7ZdNBpFLBbFixcvUK83ek9eB9jc3NSO9vdhHhz1eh3dbtddD4fY3ff1iETCiMdj+Oyzz5DPF9But3FycgKv14eVleWZjw8APv9cQqfD9r1YDFha8kEUrR/pW60mul0VgUBg6H0ppaCUaAlMAHNpHR/rhLG8LCIW8+D4WEC3y+4fCAAffOCF16uMvN649+1HqfRzZLN/jUTit681j0IBuLpi15Uk4Etf8sLvlyH7fD7tD7ggR7RIExAEAYqiaEQiCOx3l5eXODg4QKlUxKeffgpCCHK5HP7mb/4GX/ziF/H48eO+U8ogOCkZx2KFWQuVhtktLS2h1Wphd3cXlFI0m03s7e0NiOScPg+AZewRQtz1cMA8gHdjPXw+H54+fYqtre2eB6KDo6ND+HxerPQFI6Y9vnqdxUc41tcBn8/+mt1uB4RQzSNjh34hHyHAixd6yuzcHJBOC6BUxtWVOQU4FJIHtCPjCg2H2TUa57i8/H+Rz/83RCJfg8+XutY8Li+huds++ACIxRQIgnIzQSI7sbBZJpMp/OZv/ia+8pVfxZe+9CV84QtfQDgcxpMnT5BOp9+p9N9hkGUZ8/PzePTokZuK6gC46+E8hEIhfPDB+wPZXLNODX77linJARbcXh48JE0Exiwtrxd47z3A4wFyOaDVYvukojAim/S2SamKbPY/Y3//PyKb/b8gyxHMz//6ta7RbJpTfj/6SB/njYmEE0QwGMTa2pr2tbKyAr/fj1QqhWg0CkrJTW5xL8E3L1fX4Ay46+E8hEIhy9TgWZKJUcm+uEgw4uB3IzDhof7z0hJzYQHAxQX79+lT4F//a+Cf/3MgaR0+uhGKxZ9jf/9/x+np/4lqdQfdbhnLy9+EogwvjdKPszNzyq9xjNcmElVV8dlnn42tVh2VKfGuQZIkVyTnILjr4TzY6UxmQSbn5zAp2dfWJr9fEQL8wz8ArRb7eW4OSKXY97kcUK0K+PKXgX//74F/9++AP/gD4Ld/+/Yno2Yzg6Oj/4SDg/8Dudz/h1aLMVYi8U8RiXx07esNpPwaPGdDiSQYDOGrX/0qgsGQ9jtBELC6umoZtAQARVHw1a9+FXNzc2BFxh4WkQD2uoaXL1+6m9cM4K6H8xCJRPD8+fOZk8n+vh6ziEYpYrHJ71evXun6EKNLC2C1qp4+FfBv/y3wG7/Rwve+96f48z//U3z5yy381m/d7GRCqYrLy/8He3v/EdnsX6HROASl7d79k1hZ+X1I0vVE45mMoLnlolFgY8P8/0OJRFEUJJNJU7BcFEXMz8/bRvolSUIymYTX6+3lHT88IgGsN69yudzbvPIzHt3Dg7sezkM0GrUkk9PT06ncv143u7XW1ujEBYDDXFqlEvv/998HfvVXgVCIYGtrC9vbWwgECB4/vn6JlmLx53j9+k9xevrnqFZfodstm/4/lfot+Hzpa8/j5EQAlwM+eYIB99+NYiSqqo4UGQJ4kKcRI+w2r62tl1q5bRfTg7sezoMVmezt7U2FTA4O7jbIrqrAz38uWbq0AODyktn4fIMbsyCwNORvfAP4/d8Hvv51pn63Q7OZwfExd2P9WHNjGRGJfIRk8uvXnkexyESIAHudNjcHbWRC9GA4pQSqSiGKwwPkd2HHVfDTvu9k7Zj60zgPURSRSCRACMGrVztoNhuoVCrY2tqCKMqYm7N/5HDSPJw1Pnc9nDW+280jHA5jc3MTL18yQmdksg9RlLA8ZHe/7fj29vTn6MVFCq+Xqd9HX49/Dbfb2wNKJbYBe70Ujx5RKAr723oduLzU728lcQmHga98hZFNowH8+q8L+NnPBHzyCdFcZZQSXF7+NS4u/m80m2fodEq93w8+xC8t/Q5kOaKNe9x5sCq/bB7vvUcRDFL0vxXlblc/WRCighA6MmV38nYEAIFxLNO572TteOOZwXkImJ9fwIcfEuzu7qDRaKBUKuPFi8/x7NkzxOPW8SbnzcMZ43PXYzr3neY8AoEgnjx5iq2tLRQKedRqNezs7EBVCZaWliY+vmxWwPm5vpGvrqpayZBRzha28Q4v/VQqCXj7VmeHdJrA66XatS8uRC024/HQASLJZDL4wQ9+gE8++QQA8LWvfQ2/93u/j3/xL5Lw+yn+8i8JTk5+gaurv0a5vIVWa7CGmZFMFha+jkDgmWnM48yj2RRwcqIP7ulTFd3uIEnJsqwbqSogigTG31lh0nZMAClO/b6TthMEVhXAyk6WJSwtLUKWJWxvb6PRYE/C29vbpgwWp8/DCeNz12M69532PObm4vjCFz7G559/jkKhgEajgdev9yGKoqUC/jbje/sWpnLx8/MiBIE9oY9SjnMdnZ0dpcBnn+naECY8FDWlfKcDXF7qpBaPm3UjL168wB//8R9jfn4eX/nKV3B4eIjvfOc72NnZwX/4D/8r/vE/XsCnn/4dfvzj/4Rm8xyEtE0k2V/SxOtNYm3tD6Ao5rj2qHkALBmg0WDXWVoCFhdFyziSbFSx86OnlbLd/EJN1o6/waZ938nPQxg6D14HihCCnZ1XaLXaqFar2Nrasty8nDqPWY/PXY/p3HcW84jFYnj+/Dm2trZQLBbRaDSwv78HURQGFPA3HR8rF6///9oaoCgiCMFE5rG9bRQeEjx6JMLr1UXc+TwT9wFMgDg/b66Ltbu7i9/4jd/AN7/5TaRSKVSrVXznO9/Bn/zJn+B3f/d38Y/+0dfx9KkPjcaRNh67cQJAOv0/wO8fPNWNsx7GJLrnzwGPx9rWgS1T3m3wgO/jx09MAd8XL164Ad8ZwF0P5yEajWJz8xnivZSlSacGHxzozaMmXS7eqjx8MGi2MVbSTyaB3ttOw8rKCn7nd34Hm5ubiMUWsLGxgW984xuIx+M4OjqCogjY2HiMjY1vAAAIsa8KHYl8hETi+gF2Pk4ei4lG6UDKrxEukcwAbPNK4skTd/NyAtz1cB64aPEuyMSsZB/MmLopBoWHBMmkOZ7ABIj6z1YdEFdXV7G0tIRyWcDnnzNXWDgcRiQSQTabhSCwiiLvv/8/QhQ9qNVeo9kczNICgKWlb8LjsW+hMAyHh9BiOh9+OFzx7xLJjCDLMtLptLt5OQTuejgP0Wh04mRyfs6+OIY9ZV8XOztm4eHGhi485Mhm9Q6ICwvsqx/z8/Pw+Xyo1ViKsDEBi7UwZ+RTLv8chHQhCB40m2cD11lY+Doikec3mkuhoJ+cJAl4+nR4ZpdLJDOEu3k5C+56OA+TJhOjkn2SPdn7XVpG4SFHqTTYAdGqMLrH44Eoilp6rhUajXNks/8ZAIHfv4xY7It910j0FOw3O26xlF/2/XvvUYRCw+1dIpkx3M3LWXDXw3mwI5PrihbrdUYkHJNqZUsIz9JiP/cLDzmMJdijUeZWuwlYW4RzdDoFAEA8/hVsbv5vpmq+qdQ/g99/sxs0m/1BdjKyGrFLJA6A3ea1tbXlbl4zgLsezoMVmTAF/KBLxw53FWTf2WEnEoC5tB49GnRpMQGi/vPKCrO9KXjtrEjkC9jY+J8RjX6M1dU/wPz8r98qwA6wKr/1XlPb/iq/dnCV7Q5RIIuiiGQy2UtFZT3H2ea1PQPF9butpB7neu56OG8eRgV8oVDQyESSJFvRovF6xiB7Ok3h9Zr7mvO+7tdRtheLwJs3RoU8QSDA/5+Cdxe8vBQ0dbjfD6ysEMO9KSi1fqZnmhDr40Ao9BQLC99EILAOSgl8vkWsrPw+Go1TSNLoFh52yvbjY30sm5usd/2o9XWV7Y5SIAtYWEhAVQn29nZ7iusSXrx4gc3NZ4jFrDcv583DGXbuejjLbhLzCAZDePLkKba3t/sU8CoWF+0V8JmMYAqyMyU77bOj11K2dzoq/uEfZM2lFY8TJBL637MWGhTdroBsVp9LOk3g8aianapav26ciKyIRJIiWFr6PdTrKyZluseTgiBEQYg69jyMf39xIWpxnEiEYnlZRbc7en1lYx9jlg1ARvZAnrQdV7ZP+76Tt2PCyttcT5IkLC8vaYrrZrOJSqWM7e1tPH/+3LJ8hxPn4Qw7dz2cZTeZeczNzeHjjz/GixefayeT/X2mgF9aGlTACwJweCiYguwLC+JA2i1ArqVs39+XUCxy9Tjw3nsCvF7jRRmRXF2JaDb1oofr6+bXIJulODkBnj/34I/+6I8AAKLowdER8OaNgM3NEpaXl/Fnf/ZnSKfTKJebyGbXQYjfYg6AovgxTm93K2X78bG5ym8wKIGQ0esrS5J54pQC5t9ZYbJ2+htsuved/DyEicxDkjxYXFwEIRS7u0xxzQsLWpfvcOY8Zm3nroez7CY5j3icKeBfvnyJUqnUU8AzMukv9FivU5P7iSvZLe88prK9XJbw9q3RpQUEg7p6nYERE6+cC7AgfDQqQBT1352dEfzgBwQej4TNzY9BCPDznwN/8RfA3//995HN5vHtb//3+LVf+zUUiw38zd8o+OQTGd3uoAbluvMwKtsLBb1boywDz58LkCQB46zHhKvvu5gUWMA3BUoJXr9+jUajofXPMJbddjEduOvhPHAF/KtXOygUCqjVatjd3QUAE5kcHbEuhMBkguyEADs7flOWll2J90JhUIDY/2DfbgMvXlBUKuy0RCkTLv79338fR0ffw+lpB59/voPl5f8O8fg/w+WlbArcTwrGlN/338fIlF8jXCJxMPjmJcsydnZ2NB+9u3nNBu56OA+8nwkPwFuRyf6+/vQ/CSX7mzcKKhW2ddplaXFks8JIASLAyMSoQzk7+z7Oz7+HdjuHXA7odGTUah8jEJAsS87fFoMpv+ZCkqPgpv86HFapqHzzclNRpw93PZwHXuiRpwZzMjk9PUUmA5yf6zvi+vrt7lUoAEdH+vM3c2lZ25bL0GIogL0AsR9GEgF4iu+3EQw+utXYh+H8/Popv0a4RHIPwDevx48fu5uXA+Cuh/NgRyaff17X0m5jMeaGuilUlQkP2222bdoJDzlYB0R273EFiGdnP8D5+fctSOS9mw98DBwd6d9vbo5HeEa4RHJPIMsyFhcXbTavwoxH9/Dgrofz0E8m5XIHBwf66eG2SvbdXV14qCgEjx7ZiwrrdeDqSj+NLC+PFiAyEvke2u0rANMjEWOV30jkZvXHXCK5R7DbvFhXOXfzmjbc9XAejGRSryfRbLJHa1Ektwqy99fSWljo2Lq0AHYaMQoQV1eHXz+T+eFMSARgpxFjym9/Wftx4CrbHaTcHcdOFEWkUilQSg2K61IvFVXSnsacPo/p2Lnr4Sy76cwjEolgc3MTu7sEPB3X48mhUgG83vmh17NStrNaWqKWpRWNqpif74JSa/9Pp8OEfRyLixSBgFlFb8T5+Q9wdvZ9dDq6O2t9/Q8RCGyYVOfjK+/HV+iXy6JW5VeWgWfPCPqXZ9R6XF4KrrLdacrd8eyY4rrbVbG/v4dGo4FikSmunz27veLaVVJf185dD6fNo1YLo9HQf/b7szg+boMQgvl560CJnbJ9b0/SXFoeD8HKShseD4GqWm+sV1eidm9ZZurwfhU9RybzF30nkY+xuvqv4POtD/RSH1d5fx2F/sWFgnavL9b6ugq/n2iFJfXrmV9n7rbL5UTk8wIqFVfZ7kjl7jh2kiRhZWUZsizh1atXaDabKJfLePXqFTY3N2+puHaV1Ne1c9fDWfN48wZQVXYq8PmaUJQqmk2C09NTCIKABcs83EFlO6ulpRPV0pKAQIAF0e0Ef0YBYjJJEY9bqeiB8/MfIpP5vkYi0egvYWPjWwgE7NxZ4ynvx7Vrt0Vks3re8scfiz0BohmCAORyFLmchFyOtQpuNIBmU0CzKYBSV9nuWOXuOHaS5MHS0hIopdjd3UGr1Ua5rJfvuKni2lVS38zOXQ9nzKO/J/ujRxI6nQBqtRparZZGJolEYvCKBkW4qjKFubk8vABKeWmRwfH1d0BcWaGQ5cEN/ezsB8hkmDtLEASEwx/j0aNvIxh8f/iMx1Csj2t3eSmj2WQ2i4tAOi1oRFKrMZX71RU7fZTLnDignWA4BMEVJN57sDaxaVBKsL//Gs1m0xXJzRDuesweh4fmcvFraxK63TUcH5+gUqmg2WxqjbGsyIRjb89cHn5jg/3bbNrfO5MxdkCkWFgYdGmdn/cH1j/G2tofjiSRSePsTN/+nz9nc728hHbqqNfZyaPREAbiOz4fS6eORFhqs0sk7wAUhW1eksQU1+7mNVu46zFb9Pdk9/sBSkPY2NjAwcHBWGTCXFr6z+n06JIhpRL74lhZoQN6jPPzH+Ls7LsDJBII3J3Y0ArZLFAqsdOILLOeKp0OIw+7U0c0qn9FIoxUPR72r0sk7wgUhYnkALiblwPgrsdswJTs+s9GJXsoNB6ZcOEhP3nE4/a1tIy4uDB3QOz/GysSWV//NgKBR6bsrLtEschOHgcHACHMjUUIK49if+ogCIcpwmFJI45+gnSJ5B2CoihDN69oNDrjET4suOsxfezv60/T0eigkt2OTARB0Mh9f5+5dgC9ltYoMSHLZNJ/XlpiGzHfnO1IJBR6f2Q69G3QbDLiKJWASoXFPppNmDLajLePxQZPHYoCKMrg6coIl0jeMQzbvJ4+fYZ43N28pgl3PaaHRsO6J3v/Pm1FJsfHxyCEQJLmTIH6cVxaABcgsu/9fnZvjmEkchcoFlmNr0qFkUezyRIG2u3BU4ckUSQSghbrCAQYeRhPHYQM/l0/XCJ5B2G3eW1vb+HZs6dIJK5Zkc3FreCux3RwcMA2TmB0uXjrk8kZSqXEtV1anQ40UR/A4jK83W4m8xemFN+7IJH+U0e1KqDVEtBuY0AT0o8nTxpYXAxoLqsxEsIs4Srb76Fydxw7SZKQSqVACMHu7h6azUavfMc2PvpIRjweuxfzuJ2dc+bhrsfdz2NvT98F02kKn4/dz07pHQwGsL6+hoODQ1QqFVxdxbS+JV4vxcYGhccz+DTOf+ZxjasrwdQBcXWV/T6T+RHOzr6HTqc/O8scE7mJYr1QEHrEwVNzjacOsxbE4wGCQYpgkLng8nlexFJFItFBJGIcy/D72sFVtt9T5e54dgISiSRUlRgU10W8fPkCT58+tVVcO28eN7Nz3jzc9bireVxcCDg/14nE2JN9mNLb7/djdXUVOztZ1Ot6ed5wuAa/32ejDue9ztnGms3qOpFEgiAUUnF29pc4O/se2u3L3vU+wsrK/wS/f+NGivVmU0CxyEqaVKsC6nVGHK2W9akjGCQIBBiBBAJ6jGN3Vx/r8nIbkkQGxjMw2zHG5yrb76lyd1w71nPcrLgulUo9xfVzy1pQTpzHzeycNw93Pe5mHm/fmoPs8/NGNflwpXcoFEE+7wEhLKKuKBUAF6hU5mwSInRBYj7f3wFRwNXVX/VKwV/2xvMFrK9/a4hOxHp8LNbB+pqUy/zEIaDdHtR1sFMH+woECLxeCq9XhKIIkCQKQDB1awwEgGSSoL9n+3XGZ4SrbL+Hyt3r2hl7ju/t6YrrV6+2sbm5OZCK6tR5XNfOqfNw12Oy9223RVOAfG0N8HjMfztM6b23BzQaAQCALHcRCGRBaQtXV1cQBAGxmNntyE5KjEiyWT2YPz8PqOpf4PLy++h0rnqK9Y+wsfFthEIfDJ9Jbx7FIot1lMssw2rYqSMU0skjGOTZVayVryDAUO6E/XtxoY91dZXFRDod+1Iv475+gBtsfzDgAV/ec7zZbKJYLGJra8vUw8HFdOCux+RwnSB7PwoFczmVxUUBlLKii+12G5eXlxAEwfJk0i9ADIV+hMvL72onkUjkI6yu/quhJMJ1HaWSiGpVJ45WazBe4fHQXqxDRDDI0os9HkYexj4rVllWlYqu0pekm/UcGYY7JRJBGDyCuZgduEhOkiTs7u5qmxfXNbib13ThrsdkYKVkHwe8lhbP0orFSK/jYRqZTAaNRgPtdhsXFxcAMEAml5f6ScHn+xG63e+CECOJ/OFAP5FmExanDmHkqSMQAAIBCkWhWmrudTKsrq706/OsMqOW5LYYSiTtdhsvX77E48cfIhi0T6Zut9v47LPPcHnJXsREIoEvfvGLUBRlrGOTi+lBUVgzJgDu5uUAuOtxO2Szgq2SfRT6hYe8lpYkBZBODyeTZlM0CBB/BI/HTCJMsf4eKCWWsQ7zqUNPKjDGOvpPHaKInsvveq9Rq8VIj+PRI+b6miQGiIQHVNrtNj799FOcnJzg0SOrc5BgspNlGU+ePAEAFItFfPrpp/jSl74E5brNf13cORRFGbp5jQpyupgs3PW4Od68EYYq2e3Q79LiwkPuQQkE7MnE6/WiWJR69/0RRPG78Hp1EkmlvoVq9QOcnBCUy2Kv5PqwDCvdZRUK6bGO/lPHTQXw+bx+6pqbY/qYScNEJDwYVigU8Mknn4AQYpuCx39fLpeRzWbxta99DfPzrPtYLpfDJ598gnK5bFP338WsMWzzWl9f11rHupgO3PW4PhoN4PVrfacdtyd7v0vLTnhoRybh8BxyuRiAHwH4Lny+SxACdLsfoVz+ForFD3vEwYSBwzKsgkGmWZFlCp/vdj3l7dDjPwDs1HUX9+gjEqbp2N/fRzqdRiwWxdbW9tALBINB/Mqv/IopsyHYa2bc4TUDXDgSdptXu93C+vqG+xAwZbjrcT0cHjJBHnC9ILtdLS2rJ34rMslmu2i1/grAdwFcotMBOp2PIAjfAiEfGk4d+kO4MdbRf+oAbuayGgeFgp6IEAiw+MhdQDZu9qLI0nDX19cRDofRajUBMCLhynNCuICFAvDA5/NpzXwoZeKgarWKVqsFj4e9SqqqDlWzqqoKStWRxMPsyMgA/iztCCH3bh6JRALdbhf7+/s9XUMZr1+/QSQSGUh9dPI8rOzc9XCW3STXY29P33lTKQJFGWwTC3DBM0sVLpUEvH6t/10yqcLvZ6cUQliFjX54vV4kEgmcnBRRrwtoNj8B8JcAmDur0/kIwLcAfKj9jaIwd5XfTxAMCrYZVlzpb3Vfq3lc1y6TEbUqvysrKiSJaq+RqnKB6PA6KsbXzw5ysajnrwmCAL/fh/n5eUiS1CMSBkop6vU6ms1Wb5AUkiTB6/VCURQoigJBEFCrVfHZZ59hbW0N4XAEqqqiVqujxduMWaDVaqLTUWEcixX4fQVheAB/Vnaq2gUh9F7Ow+8PIJVK4fj4GICSk3kAACAASURBVO12G+VyCb/4xS/w6NEjhMORmY/vJnbuesx+HkZMcj0KBQWZjP46LCzUUK0OU2hTECLgF7+IaC6tcLiDaLSlZS+xjVJX1Hc6AhoNGa2WiGYzgHJZQadTBiE6iQA6ifj9Xfh8BD4f631urJrLIwTs9NI/X/N97V+X69k1mzIKBR8AQBQp5uerqFZ1NmCEQ1A1KirtrwrjCasfcigUNF1YkkTLgQqCAK/XC1mWNcaTJEn7EgQB9XoNP/nJTyFJEp4/fw6PxwNVVeHzeaEo9o45RfFAkiQYx2IF432daFevN9Dtdu/tPEKhIMLhMF69eoV6vYFqtYq3b9/i2bNnltlDTp0Hh7sezpgHxyTX4/PPJXQ6bJ+KRoHFRW9PwT0I5i0h2N+XUCgwcvJ6gfffl+D36/XhCSGoVoFaTdS6A3Y6IrpdAd2uAMDXs+T/Poei/C7C4SUsLAA+nwhZFiDLIiRJrx04KnP1ruyyWak3blbWfm7OZ7JrtVpQVXVk/I2/fkOV7caL8COl1UAFQYDH4+kNVO359PQL12pV/OQnP4UgCPilX/olhMNh8GKM/O/soCgKJEkaOSE+Plkengk2K7tOpwNKyb2eh8/nQ7vdxuvX+6AUaDQaePPmjWUqqpPnAbjr4aR5AJNbj0YDODrSf15bAwIB+z2GEIJCgeD4WH+YTaeBSEREq8WEgPU6UKvRHnkI6HRgU1vKB+B/AbALvz8NjycCScrC651HLGbWmcyS2Nttinxet3v0iB0EjFDVLiilA7+3vi+BJNkfBm4Uv2clTfSfa7UqfvrTnyIQCODx48eGEg/CyGOYC2dBURQkk0l0u11kMhlX1zBjuOsxCBZkZ9+PE2RXVXaC4S4tnub7+jUjkHabu5wGM6xkmQkcfT5Wp4q5wT6Cz7eGeLyIVqsCQoCrqwuI4qBocVbI54U7T/k14kZqQZ4mDHAx4s/h9wcGWogKwnh1XFw4C7IsY2FhAY8fP4bPx47DfPMq8DoLLqYGdz3M2N3Vv0+lyEgl+96eXjodYHqOiwvWlrdQYOpyY9Mnv59tvIuLrCbV4iIQDptjG/G4D0tLC9rpiqcGl0rD4z/TwjRSfo249uVVVcX29jbi8TiWl5eRzWaxvb2NSCQy8Kb+whe+gOXl5YkN1sX0IMuypgtyFdezh7seDNmsuSf72pp1XISryYtF4PTU7BXpD3jzU4fXS+Dz8VgH+z33ImUyupjQ4yGYm+sOFS3O8mTCqvyyOQeDd5fya8RQIgkEgvjlX/5lBAJ6cEwQBCSTSe3JKBqN4p/8k39i+fcsTjI6y8CFM2Gna9ja2sLm5iYiEevsIRd3A3c9+nuyU8TjjEh4DStehoT3Jm82AVUd3H+4u4p/cdKQpMGn926XXZsjFmNl2gFrnQkvFRUOhyf/AoyBiwtBS/nlVX7vGkOJxOPxDJwoRFFEMpnU8pQjkYjtG5hrT9wSD/cXVptXoVDA1tYWnjx5iljs3d+8nISHvB79PdnjcYrzcwHVKkxdAq0q5woCi41w4vB4oJ06OHHY9Sbn9bEARjTz8+YofD+ZtFotXF5eglI6dTKpVoFCQdDGep3aY7fBjQIYTJg4vKsWtzO2lHRxP8E3L6OPvlAoYHt7C0Xjo5qLqeChrsf+PtvUOa6uBOzuijg4YC6vUomRiRUZzM8TpNPAwgIQi+mkMk7sgKvgAfa3gcDgDTiZ8JgJJ5OyccBTgFWV32lgoGc7IaN7p+stLsfrMTxOj+Zxe7aPe73Z2I3fk/q+zUOSJKTTaRBCsLe3Z3CrbOOjj6ShimsnzcNZ43PXY9T1rq6AXE5APs8KNBrB4wAcigKEQhR+P8XZmf6MHAwSzM9TeL2jepMDTMGt21UqAhoN/T7JJIEoskyw/odkv9+HVCqJTOYCjUa9RyZXEEURkYj9yYRXBRn10D3KrtMBLi70eW9sENu58t9TOjiPQbtr92znJ4jRPdYnbTdez/bZjW8cu/F7Ut/XebD4mKoSvH69j0ajgUKhgJcvX+Lp06eIRq03L+fNwxnjc9djEI2GgMtLlmXFenYIqNXQazQ1aM97k/N+HR4PcHmpj0NRCJJJ0hMIjhLyMUW90VGTzwvgvBcOE4TDfK7EkhB9Ph+SyQSy2SwajSZarRay2QsQQmzJhPVEpyNLu4+yu7oSDYUoCSKR4X3W+Tx473n7+7IHfatYE4fc386SjtXicrJ2rBTCOC04ZzO+ce3GbyV6f+chSV6srCxDkkRTwJf1HN+0fRJ22jycML5x7d719bi6Qo882MbNVeXNph40NkJRgGQS8PsJfD7ay7KikGUWL7m60v9mbk5AICBo9x8+Ppjs6nVzP/ZkUoDHI6LVYq127Uq4BINBLC4u4vycB+D1tr1W8WTu2RlVYmaU3cWFPr+1NTrQbnjwenrL4FGwE6pzyP2B8H7Fuv2FJ2fHikWKU7/vpO303vPOHN+4dqPmIUkSlpeXQSmwt7eLdruNUqmkbV5WqahOnMesxzeu3bu2Hs2mZCAOFtsYduoIh3UBIsB8/4uL/b3J2cnhzRv9GuEwIxJRFEDpOBsmMdkVi7q6PRAAFhbYtcbZgIPBINLpFLLZLJrNJtrttkYmVqnBlNIxN3RrO5byq491cZEOLWkC6MTu9mx3MTOwgC/rOf7mzRtT9pDd5uXi7uD09bi8BE5OFORyMup1aF+NxmD5dq+XIhKhiEZFRCJsQ+dEIkmMRHjZd6P///RUD8YrCiuD4vHcrCFUs2nux76wcP002kAggGQyicvLS1M2FzB5nUk2q89zZYVOJeXXCJdIXNwYfPOSJEkL+Dpp83pocNJ61GroBcrZ03KxCFSrHjQawkD1W4AVXoxG2SkiHGaB8UBAhNcLnJ3pdnNz1ht6tcqIxGh3m4ylUknPfvJ60evlfn3YpQYDkyMTlvLLvmcpv6NLzU8aLpG4uBUURcHS0hIAzHzzcjHb9bi8ZOSRzzMCGTx16K4Wr5cRRyTCvnh/cq+XpeQyV5l+LQ6rDZ0QVjeLu7RCofFb7lqh29U3ZoBdy+eztx+FuyaTqytdqZ9OTy/l1wiXSFzcGqM2r4eguHYSprUe/NRxdQUUCqKmKOeFEPsRDhMEg13Mz3sQiejE4fPZ9yY/O9M3yWCQkU4/Tk91N5SiMNfXiILjQ9EvQEwm9UD8TREIsP4yLJvLTCa3ES222+a6Wo8esbHapfzeFVwicTERDNu83nXFtRNxV+thPHXk85w4RJtYh/nUIUktSFIXCwuesTb6dhs4OdF/TiYHBYSTdmkBgwLEUOh21+MIBoOWZHIbBXwuB1OV39ucxG4Dl0hcTAx2m9erV9t4+vQJFhYSMx7hw8Ik1qNeZ26efF6PdQyeOvTHdWOso//U0WwSdDpk7NNCJsPuA+gnAyMIAd6+FSfm0gKMpeIZUqnJ9lIfRiY3cTtaVfm9SXLBbXEjZftd2LnKdifZ3XwekiRhcXERlFLT5rW9/QrPn8sDzX+cOg9n2U13PXI5psVg8QlpRIYVEIkQhMMUkYiglR7xegfdS9dVUh8f67+Lxyk8HnPf8PNzJlgEWEvbdJq1te1361gp1q3vywhTFyBSRKODvcr5zzdVogcC/oko4ItFAZWKXuU3nSba6ztKic7n4SrbHWj37iupx72e0GvGpOLNm9doNBrI5/M9xfWTqSmu3fXgGL4eHk+8l10lolgESiWuJufiOzMiEYJIhJUjYRlWLMvK75dMsY5+VfV1lNTFomAKsicSpKc8Z6jVBFMZlFiMwuejlk/jVop1K9TrAmo1fb4LC2zzHLymvbK9/752SnSfz4dEIoGLC10Bf3FxAUqJrZur/3qZjKSNbWmJQJaZkn0cJTrgKtsda/cQlNTjXk+SvFhdXYEsSwbFdQE7Ozt49uzZVBTX7nro6F+PctmD4+MgCgWAUt6jXOidOswbhjHWEQ4DwaAAn4/C6xWgKEJvoxk9vusoqc/P9fTbYBCIxfRmelx4yEkuFALm5wXbgHi/Yt0OpZJecj4QABIJO/X6cGW7ft/hSvRQKAhJ0hXw/GQCjFbA96f8bmyYBYOjlOjsOq6y3ZF2D0VJPe71uOKaEIr9/T20221T+Y67Vly766GDZVhJuLxcxtWVF7Wagm7Xh0LBY1mDigXICUIhIB4X+zKs2AbUf99xNq5xlNTtNnB+biyUCCiK/jdnZ0bhIcHiogivd3BMOsyKdSswAaJ+4llYAHw+62tebwMerli/qQI+n9eJNp0GQiFz+/NJrsc413OD7S7uFCzguwhKCd6+fWvw0W/j2bNnrs7kDqGn5rK4BwuSK6jX0wOnDlFsIxIBFhY8CIfZU77Hw7oB+v3TbZedzTI3E8CethOGnID+LK14fDK6CSZAZPf0egcD+3eJ6yrg+1N+NzZun558W7hE4uLOwclElmUt4JvP510ymTDqdVb5tlxmQeNiURcFcl0EA3cJEQAlAGUoSgM+H5BOL2NhIQxRtG/0dNcwpvwaxYBceMjnEgoRTOKtYyVAHNUHftIYpjPpJ5P+lN9eB+aZwiUSF1OBVSqqSya3h/HUcXUlolqlaDYZedjpOkIhop062m0BmUwR3S7Ls7246MLvX59Zm1h2etIfr41K9rMzs/AwlWL/3hal0uQFiDeBXWowYCYTq5TfWcMBQ3DxUDCKTFwF/GhwNXmhMKjr4OXNjYhEzLoOv59tvl4vgaLI6HZDUJQUTk9P0W63UalUcHh4iPX1dQSDwanP7/RUdzEFArqSvVKxdmlN4sRkPI1EowSh0HRdeUZwMslkMmg2mwMKeGMBy0CAxUecAJdIXEwVw8jk8eMnrgLeAvm8iKsrL/b2jLEOu1MHRTQqaMQRDDLyMOo6jC4rWZaxsLAAAANksrq6hlBoeoWb2m0zWaRSusCOZWmx37Msrcncs1w2CxATickKEG8CFoBPD5AJpRQXFxFtzVdXb1cDbJJwicTF1GFHJq4CnqH/1HF15dPiHOZYBwM/dTCXFUUwKFnWsLKDHZkcHR1ibW3VVvczaWSzbO6AOcje79K6TXn4flgJEJ0AKzLJZCooFpmLi1X5nfEgDXCV7Q5RIDvL7u7nwRXXhBDs7+8byne8wubmpBTw92c9cjkWG+AxAvOpw/y8x9TkrGdHKMSe0JnLimidAvV72N/XqFSWJBHz8/OglPadTI7w6JGEUMjezTUpJfXxsc568TiB18tdWubfc5fWdRTrVnb1umDq+55IUMjyuNe7ubJ9XDumgNdjJpWKF50OG286TREMDqru+bhcZfuU7+ssBbIz7KY3DwGpVAqqSjTFdS6Xx9YW6zkeiViTifPmcX27RkPonTpYllWxKNhkWDEEg13E46KmJvf59FIk/NRBCPvAj1I02ymVBUFAPB4HIQRnZ2camRwcHGB1dRUhm+qFk1BSl0pmJfvCAkG3C7x5I2mvRzBIEI/r6vVxFet2doWCLkD0+wliMaZWHx1ov72yfVw7v58p4M/Pr1As6ifDaDQPVR32+XCV7VO776TtXCX19e244pr3HG+1WtrJ5LYKeKeth7HREz91NBqMVOzU5OEw4PW24PV2MD8f0NTk9vcdrWgeZufxeJBIJCCKIk5OTjQyOT4+xvr6ui2Z3FZJbSwXHwhQRCJAJiOiVOK1tIDFRcFUv2tcxbqVXasF7doAa6Pr8wGUjlasT0rZPq5dKBSCosgghE1eUSqo1U5QKBDM2wSLXGX7FO87aTtXSX0zO0mSsLKyAkop9vf3NQX8zs4ONjc3LcnEifPot2s2JeRy1pVzh8U6jJVzfT6AkC5UVUUkcnsF8jh2nEwoBU5PT9DtdlGtVnF0dIT1devU4NsoqdttcxfEZJKi1TLX0pqbY6VZzKe80Yp1O7tyub8DIvv/cXqnT1LZPq5dpaInPQQCF2i36zg7O4MoipZk4irbXTxI8AA8pVRTwOfzea0Zk93JxGm4umI9OwoFFu+oVu0zrDwevTc513Vw8jA+edfrgwUQ7xosAD8PSgkymcxAavAkdSb9Qfa5OeD1a9GUpTXJPhv9AsR4nMWYZiG+HAfmlF+K+fkOGg2gXq/jpKfetDuZTAsukbhwDLgCXpIkLQDvdDKp1XR3Ff+q1cSRp45QCL1YB+tNPm6G1TTByUSSJEudyaTIxFwunr2GRpcWz9KaFOwEiE4lkmxWfwhZXiZYX1/C4WEH1WrVMWTiEokLR0FRFCwvLwOAY8nEHOuwOnXo7hePh3XZC4cxcOow9iZ3KobpTCZBJvw15AiHgbMz/fVjLq1b3cLynhzclehU1Gp6x0ZJAtbWKCKRCNbX13F4eOgYMnGJxIXjMIpMpl2+g586eM+OUglaoJzXPDKCNXmiiERETU3OycOuN7mTYa8zYTGTwC2qJpqD7IykeXn4YHDyrWPLZb3rIjD5DoiTxuWl/vqwlF/2fSQSwdraGg4PD1Gr1UxkMotyQy6RuHAkhpHJkydPEI3erQKe9yVngkBGHNxlNRjrMJ86AgHdZTVJl8wsYUUm5XK5p4BfRTB4fTLp78muKEbhISsPP+nXL5/XXVjhMFs3p6K/yu/6ujlFOBqNaicTI5mwtr3TnZhLJC4cCzsyefXqFZ48eTxRBXy9zoKaxlgHd1fppw79U8z6dZhrWPFTB+B8l9VNYE8mR1hbW7m2At4YZBdF80khFpu8S6tWY25IDtbnZLL3mCT6q/xanc6GkUkiMb0KEa6y/Z4pwqdj55x5mHuO76PV4mSyg+fPZct+DePOg/UkH+xNbpUl5fHovcnDYVbLyirDCtCFgaOVxdNXIN/WzloBX8bR0RE2NkYp4M3zMCrZKdVdOFx4eFPFup1doUANAkSK+XmzMnx8JTr/926V7RcX+uuzvk4gSdbrFomEsb6+hsPDI1PMRBRFzM3Zu7lcZfuDV4TfrZ3T5iEIIlKplNZzvNlsIpfLaW4uOwV8/zyaTaHnrmJxjkKBlyKx7k0eDlv3Jg8EhvcmH1dZPAsF8iTsuAJeVQnOz896JxOmgF9bW0UwaC9a5PPoV7LzzVlRCJJJVurFqnOjeXzjK9s7Hd1tBgBzcxSKYu7HPq4SfRrK9lJJ1E5PgQBFMsleN7t1CwZDWFlZwdHRkXYyOT4+BiHENmbiKtsdauc0JfVN7Zw4D6aAX9V6jrdaLeTzeezs7ODp02eWtbkEQUCppCCXE1EsGmtYsd7k/R8Mj8e+N7nHM35vcjaP2ynM++cxKQXypOw8Hg+SyQQkyayAPzqyV8Ab53F+rp9AjJibExAICAZ7e1xH2c4EiEJv7EA6PahMH1eJPg1l+8WFoD2grKwAfr8IVrXZft1isRhEUcTBwYFGJqenpxAEAXMWfjFX2e5Qu1krqd/1eXAFPCEUr1/vod3uoFAoYHd3RyunUq/rlXMvLvwoFAR0OlJfrEMHIw3WmzwWE/syrG7Wm3zSdpNUIE/STlfAMzcXV8DblVPh8+h2RVO5eA6WpSVAFAXcVLFuhW6XoFg0pxQHAoIlATlB2V6r6SnKkgRsbAi99+LodYvFYlhfX8fR0RHq9ToajYZGJv2pwa6y3cWDBQvAL4FSgoODAzSbTZydtVGrlRAIhFAsypquo1bzDNSw4qcOo66D9epgWVYurgcegGcK+Kwpm8vuZGIMsuvXARYXJ1ce3ohKRU8pnmUHxHFhTvm9ftJBNBrF6uoqTk5OBlKD70pn4hKJi3uHTkcBIcvodPzI5Tpot4O4vPRBEES020ZLtlvwDKtQiJFIv65jVr3J3xVwMhFFSasaPIxMjEp2jrsQHnIUCjprOF2A2J/yu7FxM9KLRiOQpMFsLuBuyGTiRHJ+fo5ms4lHjx5BEAT3A+piIjDrOkRUq17Uaouo1wFKzScJWSaIx0UEAh34fF0sLPi1LoFe74wm8I5DlmUt3XQYmZTLoinIDjACuStBNhMg6jtxMunstOx8fnTK77iwSw0GJk8mEyWS8/Nz/PjHP8ba2lqPSCZ5dRcPCTzWYdR28Mq5zeZg7MLjaUAUa5DlOjyeFtbXFxEMihDFDuJx/2wm8cAwikxEUcDFhWIKshtdWneBQkE/bYZCrJaXk2EWIN5e52JHJoIgwOeb3FPVRIhEVVXs7u7i+PgYTauIpgsXY8DY6OnqylzDalDXQRGJCFqGlSCouLi4gKpWIYoqKpU2/P4kZPkdkZbfEwwjk7m5NLJZ805+ly6tel2vmguwcihOFiCaq/wygp0ErMjk+PgYiUQCwQm9+BMhknK5jEwmg0ePHsHr+g5cjIn+U0c+Lw6tYaXHOghCIdabnMc7CPHB74/j7KyBdltFuVxGp9NBKpUaKlp0MXnYkUmpFEOzqbsh79KlBfAOiOx7v59iYcHZLpJMBqaUX14lYRKwIpPz8zMkEsmJfD7kjuGcyQVho+Ia3E4QRIiiAK/XiydPniCdTqNYLBrsKLpddYzrqaCUoGOVWG5x33HHNws7Qtx5DLPL5wUUi1zXIfadOvrdVaSXXUURClGtN7nHQ6AoFKJIe9dn9nNzcwNtYlVVRSAQGPrkxYRl1v2vnWLHhJVdx47Pyq5/PfJ5PcotihSpFIUsD2ZpsfmODjIPs2MdEI2NsQhkeXhfF13gOPq+TMg3SrA77vUo6nWKQoEFbyQJWFnpon+5b7sewWCwT7TYQDabRSAQGFpVe5z7yqVSWfuBUjbxUQIabieKEhRFgt8fwOLi4kBedrfbRb1e772g9mg2m+h2uzCOZdh9xx3ftO263S4IIe48DGi1RJRKMioVCbUaIxFGHIJlv45AoItgUIXfz//lvcmppibvdoFul8JKKe/3+xGLxXB5eQlCCKrVKt6+fYt0Og2/f1isxPp6TrBTVRWUUtT6c2bv+L6TsOPrcXxM0Ono2Vs+XwuybN2zhfZ2LC4gtL3jELtCQUanw94wskwQiTQtT7lW1xslcGQEQke68ce9HqUUl5deLXYUj7cgCM2BFOmeNW6zHpIkYX5+Hp1OG/V6A/V6HQcHB0in0yOqag+/r+z36+cntuETiOLwtAajHRMTWt9AkkR4PJ6RL6QsKxBFCcaxjLqvE+0ajSZUtfvg52Fs9JTPi2g0JDSbIppNyVLXwV1WwSDpVc4V4fHIUBTrcfK6RHbz8Hq98Pv9OD4+RrvdRrVaxfn5OVZXVy11DaOuN2u7drsFVSUj3cZOnYcse/HqFcBLmQiCClkuQlXD8HoHY1i8RhoX4Q2/76Bdt9t/GgFCIWlkRQJe8mQcgZ6qEigjAi7jXq/dJri60l+799+XLNd6UuuRSCQQCPjx9i1TwDebTWQymV5trsE0sXHuKxuP/OzJh0CWh79A49pJkgSfzzvSzuPxQJKkkYGfSY/vLuzabfrg5tFuKxp58HgHK7tu169D7xJorJzr9aKnqB8euuOunmF2Xq8X3W4X5+dnAAQ0m01ks1n4fL4BMhnnerO1U0FpF74RTnOnzuP42FwORVEqAJqoVABZjg9kD3GX1Tgbv5VdpQJNT8QFiB6PMrKyAq8pNZ4d27cmcb18nqDdZnOIx4FkUoaiDL6Wk1w3n8+HTqeL4+NjdLtddDodXF5ewufzDZDJONdzBYkuboRcTs+y4r3JeXquVYZVOMx6k4dC0GIdnDw4JikMlGUZc3NxqGoXxWJpLMW1i8mjWAT29/WfBYEiEGiAEObSLhQKiMcHyeQ24B0FAb1umpORzeonqo2N6WWWRSJhLC4uIp/Pm7K5AFieTIbBJRIXY6Fex8Cpo1oVbWtYGU8drHIuQTDIallNqze5LMuIxeIIBIJjKa5dTBbdLvD55ywLjyMYJIjFgiiVulBVdeJkUqlYd0B0qjCapfwyIplkyu+4CIfDCIfDA6nBwPXIxCUSF7bgxMH6dVidOsy9yY2lSIynDkXhxRinPwdZ1nuWuGQyXRwesrpRRkQiXa1nSalUmjiZGDsg3gcBYiajZ61NOuV3XNjpTIDxyWTiRLKxsaF979SnABfWqNfZB/H8XEGhIKPRGBXroL0v1ps8EGAfhP5Tx6x7k49SXN+m57gLa/S7tADA6yXw+1nMYBiZeDw38+30CxB5B8RZv//s0F/ld319dmMZVk5lWGowx8SJxNjekbpM4ngYM6y4mrxa9aJeFwY+gB6P3lqW9evQe5M7XYc6jExWV9cQDLplVCaFbhd48WKwwm8kQrRT6TAyicViIwPZVjALEIFeV2DH4upKT0JIJglCodlWn+4nk1qtprXtter3Y4Tr2npgqNdZITtjb/LBU4f+hubEYcyw4l/A7FxWN4EdmRwdHWJtbdW206KL6+Hw0FwzCmAn1EjE/GRiRybFIiOT4bofM5gAUf95fn42bqJx0W6zcvocGxvjdGa8e9iTCcHCgn0PeLdn+zva69wIVjVX6J06WJMnrii36k0eDHYRCKiYm1MQCukuq7vvTX73vc4lScTCAu85foZOh5PJEdbXN0b0HHfOPJw1Pt2uVAL29wefrMNhqrmZjPMQRQGhEHMtMjLpaicTQRDh9dq7uZjDg2kcikUBnY7eATGZ1Csu3LZ3uvV9x1kP++vl80Kv+CgQi1HEYqxJ1/DrTed9FYmEsba2isPDIwOZnEIUJcTj1m4ut2f7O9jrvNkUetlV5t7ktZqovXmNCIVIr8kTi3lIUhuK0sHc3HR7k0+r17kgiKbyHZ1OB6USd3Ot2upnnDYPp4yP27XbAl68kCwV2bEYE6+yXuf9Lm8BgYAfhBCUyyWoKkGzyVopx+P2bi5egkRVJS3WwO5F4PPp/dhv0zvdxhK37dmezerH+JUVFaJIHPW+CoXCWFlZwfHxsUYmR0dHIERFLDaYweD2bJ/oPGbX6zyXY70eWJaV0DtxCDY1rPpjHQL8fgqfj/UmbzQIOh0KWXZOj/Cb2A1ricp6jichiiJOT081N9fx8THW1tZss7mcNg8njI/bHR6KuLjg/db1J3efDwiFhN770LrFyBp+eAAAIABJREFUrSRJCIdDEASgVCobYiZFxONxSwU8v0y5LGgdEEURSKXMr9VteqfbWOI2Pdv7q/wuLbGTmdPeV/F4HKIo9gXgTwEM9oB3e7bf017nPMOKxTkE5PMS6nVxqJo8HCYIBvXe5Pyrvze5U3uEX9du1Dw4mVBKcXZ2im5XRaVSwcnJiS2ZOHEesx4fwN6Hr19b28VigCwLvfI49vMQRbFX70lAuVyEqlK0Wi0Ui0Wb1GDmDurvgBiJ6D3O9Xlcv3e6HW7bs/3iwpzyGwiIjn1fxeNxUEpxdHSERqOBRqOBs7OzgXIqbrD9HsEoCOQZVtxlZRXrMJ86uJLc7U1uBGsTmwClFJlMpufmKuHo6GjoycSFDlUFtrZEzaXl9erFGEWREcm44KWSKCWoVKojdSbVqlnwyAWIToWTUn7HBUv/pTg5OTUF4AFdZ+ISiYPRaAC5HGv0ZKxhVa0OO3XoBMJPHD4fe9O6vcmtoSis57gkSTg9PXXJ5JpgwkP2cKIoMFX1DYev395YkkQEgyGIotjn5hokk0JBf7q/DwJEY8pvKsXGfB8+k9FoFKIoaSXo+8nEJRKHwXjquLwUUa1S1OuMQOxOHeEw6ZUiEbUMK6frOpwGTiYAXDK5BpjwUHcjxWIwBb5vurGz1GD2mtuRSaMBVKvmfuxO7oA4mPJrjiU5HVyYaEUmLpHMGDzWUSyyr3zeeOoY7E1uderwepnLyuNxXVa3gaIoWFhY6MVMzgbIxFXAm6GqTHhYr7P3aCTCTr68IZPPd7s2uqPIpFBQtEQSn8/5AsR8XvckxON32x3yrmBHJi6RzADs1CGgUumPdQyeOhRF701urGHFCQRwXVaThKIoJtGikUxWVlZdBbwBRuGhLBOsrIh4+1b/fxZkv9097Mgkl6ugXNZ34oUFZwsQAbNIc33d2aenYbAiE5dIpoD+U0cuJ47s18F0HaTXYlYyxTpc3C3syIRSitXVFVcBD/Y+3tvTf06l2AMND3xfN8g+DFZkUq2KmgBRUdj9nYz+lN9pV/mdNPrJxFW235GynaflMuJgpw/91GGl66CIRCiCQWhqcq+XQJYpZFkw3MN+fA9RST3c7ubzkGUJiQSPmTAFPCeTjQ0JwaC9m8tJ87gLO1ZLS8/SCocJUimmI+EIhyk8HnOf7/EV4QBXrHOIotDL5gKKxYqpbW843IHfL9meyp2gbM9m9czK5WUKn4+arnPfPh8AEI1GsLq6iqOjI8jGBvas5AUZ2Rr3LuyYwnK0InxW4xtl12gIyGREFAqsraiuJjenJ3IEg6R38qA9dxXVAuU8rZuXIHGS4vUu7+u0eXAFvKoSnJ/rJ5ODgwOsra0iEJiOAt5p68GEh+x7WSZYXSXodqmp1lUsRi0U7HbK9v77MsW6seYbwHQPwWAA5bIIVVV6vyMALlCvx+D3W2eYzFrZ3mgIWrMtSWJKduNWd18/HwDrZ7KysgLZKEZh4pnRQptJ23Fl+7Tve1u7XE5Py83ngXLZh1qN1dDpf9EVpb83OW/0JEBRKKzKoDCB42iim7ydvQLZGeOb3jwURUEqlYQoClo2F6vNxRTwVuVUnDiPSdmxWlr6z+m0gFiMkYs5yC5YbMjjzoP/a62Ab7WC4J8XWa6B0hIuL9tIJlPw+wcDJbNWtudyginlNxIZfGC5r58PgLm5LJTt4yqzJ2d3PWX79MfH7VotSYt1lEqMSMynDvN1eMVcY+XcQIC5skRxnJIrvCf1KEX9pO14qZdp39eZ85AkqaeAB87PRyvgnTqP29ox4aHegTASARYXBaiqiFzOnAKsKIMZh+Mrwpli3cquUjHHFQOBKkSRol6v4/LyAqlUyrJq8KyU7e021TQ2AEv57X/d7/vnA3DTf0cil+OBcnY8Zf06rDOsZJkgGCSIx+VesHwwwwpws6zuI/QAPEEmk32QOhNjlpaisE3R72faCF4MdJJBdivk87oAMRikSKW8KJVkdLtd1Go1ZLMXSKWS1ypBf5coFATNtX1fU37HgUskfajXdUEg13VUKqw3uVWsgwkBuYK3DUXpIpEIuRlW7yCYaDEBUZQsdSbvMpn0dzxMpXTCuLzUTx43UbKPi/4OiIkExdxcCLJMkMvlemRSRTYLx5AJL2IJ3O+U31FwiQR6rMNYw8p86tDfDDzWoafo6qcOVVXR6ai3EmG5cDYURbbVmbyrZKKqwMuX7DMBcJcW+75aZdV3Oe6yRImxAyIXIEqSpKWiOo1MSiWgUmGvzbuQ8jsMD5JI+KmDuaxEFIs6cVifOvTe5OEwe1PwDCvjqYP7jl282xgmWnwXFfBHR3ppD6NLC2APXpNSsg9DfwdELkCklBXeHEYm3hnVC8pm9XbVy8v6a/Yu4sEQifWpQ7RRk+unjlBI700eCjm/N7mL6eChKOCthIfcpdXpAJeX+v9Fo7dXsg8bB898UhRWV8uIYWSSSCQsStDfLdjDKjuN3Jcqv7fBO0skjQa0qrk81jF46tCP5MZYR/+pgxdWc2MeLox41xXw3S6wvS1qLq1w2OyeKRbNSva7cmt1u+xeHPE4O/n0J6zYkQmlFMnkAoLB6bkdLy/NVX7D4andeiZ4p5TtLEiu9ybnqbnVqvWpg1XNpQiHBYTD1hlWwHV6kztLgXxzO3ce49pxBTwr9HiuKeABivX1SSngZ7MeR0fAxQVLXZVlio0NqrmTAP3/AFbOx+MZno14U2V7pSKYssKSSdKzG1SiS5KIWCwKSjmZdFCrVXFxQZFOS0NPJpNStnc65tdmY4OP1+569//zca+V7bw3ealk7k1erYpoNAbvydXkrH4V4PMR+P0EweBkepM7TYF8Uzt3HtezEwQR8/PzIITg/PwcnU4HxWIJwCFWV1durYCfxXqUy8D+vn4ETyYJIhGq+fxrNdEUs4hGCVgHxKF3xk2U7fm8ft1IhKXYE2KvRBcEAZFIBJTybC4V1WoNmUwWyaS9m2tSyvZcTtROatEoQSxGBvYU833v/+fj3inbSyUR5bKoCQKrVQG1mmBZw2ow1iEgEOC9ySn01p/OUorO3s6dx3XtmAI+pfWA524uAFhdXb2lAn6668GEh4JWHj4cBpaWzPfP5QRDkJ32lOyjduDrK9urVXMSSzIpQFHE3v/bK9EVRUQ8HocgCLi60t1cFxf01gr4Ucp2Y8rv2hrtiTOHXO0d+Hw4Xtlu1HWw3uRAvS4OtNjkYLEO1ps8GhX7MqzMalsnK0Vna+fO4yZ2ugKe4vz8DN2uinK5jNPTU8tyKk6dR395+I0N0dSeudNhCSscLMg+zgPj9ZXt/R0Q5+bMD37DlOiiyMgEAHK5K6gq6SngL21Tg2+rbB+s8kshScND0e/C58ORwXZjyfWrK2iVc6vVwd7kLNYBU78On4+5rdze5C6mDRaAZ2SSzWZ7bi4WKbarzeUksFpa+s/J5GAQvT/IHovdTZmGfgFiMsnKC10HPABPKUWhULhznUk2qxPf0hJ9p1N+jXAEkXQ6MlqteWxtweCywohTh17DKhDQA+Vub3IXswYXLUqSroC/D2TCysPDkKVFsLg4+EEyNmgKhzEyyH5TWAkQbwIuWhRF8U5Fi7zvELsnsL7+cDahmRGJ8dRxfLyKchn42c/YyYP7Xjn4qYO7rCIRUSuA6Oo6XDgRVgp4p5PJ8bEuPJRlpn3o7zpYq5mFgXeV8ttuWwsQb4ppKOD7U37fwSIHtpgakfBYR6lkdepgH7h2W7fvP3XwDoE+n9ub3MX9gJXOxEgmTqgFxVEqWQsP+08al5f6g57Xe3dK9nJ5uADxJtDdXIxMVJUH4IFkMgWv95p+MwPabfNJbWND1589BNwpkeTzLEBerQ7WsOo/dQhCB/G4opEH13UYTx2uy8rFfcMwMllZWUEgMHsy6XbNtbRYlpa1nVHJznuyj5B/XRuqqqvCAV2AOAnIsox4XD+ZqGoX1d7EE4nEjcupFAp4EFV+7TBRIuk/dVxdiSNqWLE3bauVQ7t9hc3NJ1q8w1WRu3hXYEcmhFCsri7PXAF/fAxkMux7WdZrafUThHGzvEsle6UCtFpGAaKeEjwJ2JEJpRSJROJGbkfuEgT0Kr+TJlgn49bKdkYcQo84BEOGFdDtDuo6WPFD1pucnzpOTq5QLGaRSHxouIf9fR+ykno6du48Jm1nrYAvYjwF/N3Ng7m0dFdxKkU0l1a/0tuo1jb2ZO9Xog+bB7//MJgFiGy/sN4Pbt6LnSvgAZYa3O3qZJJOp0co4M3zKJcFU5XfdJpo6/VQPh/XVrY3m4LW6KlWY4s+LMMqGCS9tFymJg8EqHbq4GnYotgBQF0ltUPs3HncjR1XwKsqQSZzbnJzra6u2lYNvqt5tNsCXr6UTFla6TTRnqSNSu96vV/Jrvdkt+uxbnFnjFK212qCaR9JJAhEUVfUm+dxu17sosgU8IQQ5PO6Aj6bzY4o9GhWtmcykpZdtrhI4PEwJftD+nzIRnWmIDAler9ikwsCeZC8UuFqcuve5LzwYTBIel+sN7nHY9eb3FVSO8vOncdd2Rl7wBsLPQKwLUF/V/M4OhKQzTJb5tIS4Pcb9wNd6X11JZiC7KGQ3pN9WI/1vjuPnEc+L2ilVoJBJkC0s59EL3ZFETE3F4cgwFBOpQpKgWQyaamANyrbuTsfYO54FmQXtPs9lM+HLMt6MEJVmRK93ZY04igWx9N1GKvncjW51zteb3KmEHWV1M6xc+dxl3aSJCGVSoFSIJPRFfC8B/ygAn7y8ygWBbx+rdulUkA8bq78ADC3ECGiSck+2JPdvsd6/zyGKdvrdT3gz8fk9Y5Thul2vdhFUcTc3BwAAbncFQghqNdruLq6tCynYpxHLqdnmyaTTJqgE+vD+XxowXaWYTXYm5zFOsx/pCh6oydOIkby4HCzrFy4sIaiKEgmkwAIstmLqepMrMrDW2VpcUwryG4WIFIsLEwwwj4Cegl6gny+aMrmsqvNxar86j/zlN+HCHl72+iyGl7Dip86gkGKQIA1enIzrFy4uBmYaDEJUZQMVYPvnkxOTtDn0hreva9fyX4XIuD+Dohzc6y46jQhyxKi0RgEQRpIDbYik3xe3ytjsZsr798FyD/7mfHUYSxo2AGlZQAVrKzEsLwc004dioLeUUe/UDabRaaXQxgOh7G2ttY7Cj1QinbhYgwoitw7mWAqZMJqaemfSebSsreflpK9VOoXIM7GlTFMZ9JPJsaU340NNu6HCtnYeYy5qFRUqxksLHgRjSpot4FG4w1isSfam3owv7yAk5MTBINBSJKEUqmE09NTrK6ujhGAc+HiYUN3c1mTyaQ+Qrrw0FgefvjfGMvF35WSvdvVA9YAEIsRzLLt/SgyEQRWQNZc5XdWo3UG5Lk5vRRJKAQ0myVcXl7gww/fQzQaRbvtx6tXZZyfn+O9994zBKzYm5EQgkwmA5/Phw8//BCSJOHi4gJv377F/Py8I2sKuXDhNAwjk0QiAWUCj7tm4SErDz/MpcWU7DqLcSX7pFGpAM0m+/4uBIg3wTAyiUZjuLoKaPGcpaXhrsGHAHFzE3jyBPjgA2B5GaA0j1BIQbjXZNjj8WBpaRHFYlHrYGhcZEopms0mIpGIFtWPxWLodrtotVpTn5ALF/cVnEwWFxc14igWizg7O0PDKnB5DfTX0rIqD9+PYhGmFre9mocTB6+YC+iN6JwATibz8/NaT5FqtYqLiwrKZfYzT/l96JDn5xk5iKIAQoBGo4FgMAhRFEEpgSCI8Pl86HQ66HQ6kGUZeg9zlj4WDAZRKBSwuLgIWZZR6Z35WN0a2hO02A/iOq12mYhmHEHO7OzceTjL7j7NQxQH2/aWSiWoqopgMGgrWhx2X+bS0oWHoRBBKqVCVYfHIax6slsLA9nne7QwcLBFba3GxI4ciYQKQdDFjsOvx4WQd2cnCAKiUbNosViUtaodiQRBIEAtW+k66X01zG4Snw+5VqtBliV4vSyI1O12tachQoimPmfkoQKg6HS6UFUVouiFJMlYXFzE0dERPv/8c0iSBEVRsL6+Dr/fD0qBdruNdrtjO4hOpwNVJajVakMnRHtsNCruMis7VVVBiDsPp9jd53kEg0HEYjFcXTFdQ7lcxtu3b3vlO6zrqdtd7/zci0yGeQskiSCVakIUqeZOskKzKaFc1tOzgsEO2m3rzZiXSBmlpGYKaoq2ocz31ZVHIyefT4Xf3zRVAXcK/H4fQqEQisUq2m39aBaLFVGvW/v7nPi+MmKSnw9Z+f/Ze88mx5EkW/RAUSc1mVpUlmgxc7ene6Zn75c1W9tfvvd9vm9n981u93R1qaxUzKTIpBYQ8T4EA4ogiUyCJMiMY1ZWZJUzEA4g4Ah3P+6KMm51K5g/YGC91J1grS4lCIIIwzDQbDYRjUYRGbcvk2UZ9XoduVwOiUQCoijNzGhghMR5fmD6JkMgirPzjdclRwglZnE9wiG3yXooioL9/X1Eo1Hc3NxgNBqh1WrBMAwcHR15xh69xms2gU+frO/lsoBCQZxL5Gs0RPOtOxoFdnZETBNn53keMZCSG2HOr9+nJVGsuQHxuAxWG8vPeKuSk2UZhUIBnU4ChhEb/1sHg8E1RqN939fDC9uwPmR7TwTDMCDLshnbsJ9QSaI91QXBOrAgiOh0Ori+vsarV6/MYGG/38fNzQ1qtRpOT09NAzMNiqJAkqS5/RnYFmteD+R1ydHtn8b1CIncNugRi8Wg6zoqlQoEQUC/30e1WkU8Hp94eLnH0zTg0yeL67CzAxwdCYhEIiCETGUqaxqNjzBks0A8Pv1hw1xb8ypY0B2NgUiEjlWrOTsg7u5KiEYls7bTPMb1OuRGI2s3mEjcYzjs+L4es4+72evDceVFUUQymUS/33f4MXu9PhRFgSyzm8kqjzAcDqFpmtl9DADi8TgKhcLCAUIOjpcORVFQKBQcmVuPj4+4vLyc65Jwl4c/PfWXXeRmsi8jyD4cOo1VoRD+zKdmk6b9AkA0qmNnhwad/F6PbcbEK0Qul0Ov1zNTD4fDAa6urpDPF0xLzWq0APSNSVEU1Ot1c4xut4tKpcJTfzk4AoCiyMjn845sroeHh5kPL0o8tL6Xy0A+7+94diZ7Mmks1OJ2GtwExN3d4I8RNCoVawdVLqs4Oir4vh7bDsdehRCCdDqNUqmEL1++4OrqCqo6giwr2NvbgyiKZjYJCwbG43GcnJygWq2iamufViwWUSzS/guclMjBsRhkeZIB/zBm8R0fHzte2hjxkBHmdnZoar8frILJ7iYgBtkBcVlwVvklODhQfV+PlwCX04sGmo6OjiBJEobDIWKxGPb29hx+NFmWzfiJKIool8sQBMEshx2NRrG/vz/2xc5PQ+Pg4JgPL9Ki/eHF1uhzXVqAuyc7WcoDPowExHmoVq0qv4WCjmTS8H09XgJcOxIAIIhEIjg9PfX8gSiK4xLYZOLfdl37U9pZy5gbhOPg4PCHWQ+vw8MjqGr82S4tr57syyjI6iYgptPBHyNIuKv8Hh+rpuGbdz0SiSX4BUOIiTA83UHMfvD7zYLgJeQ5OILHtIeXrgtoNt85XFrzamnZ4Q6yZzLBL+B+X0CvZ30vl5dTdiVI2M9LNktrgdkx7XoYBsHx8SF2dkJuKQOAbO/X+/SewPOIMX7Ho4zSMPTWXkwuPD3CF5PjeoRLblIP2gO+BEKI+fC6vZXQarHy8ASnpwTx+OQL3bRe59WqnclOQLP2/fZi9yfXbEomATGRIMjlJvuxL9KLfRlyd3fWeTk5MSDLdJcy73o8Pj4AMHB6eoZEYrqbK0z31XPHk+39etfZYxi8Z3to5Lge4ZKbpocoiigWizAMA1+/NtHtWtuPbHaETMZ6aDuPO9nD3N2TPZsl5rqc76Hw17N9MAC6XcuLUSwSyLIxMcdFe7EHKddui2i16Od4nGB31/B1PSqVynhn8gjgAsfHR4jHvcvbhO2+es54sj2jaht6B69XjusRLrnt14PyTHbxyy9p6Dp9UMlyD7Jcx3BY8Cyn4tXDvFYTzHRcWi7eOt78+cGXXLMpmg+jWAwolQR49VEPohd7UHJ3d4KZ8nt4CCQSwriQ5fTrsbu7C0EQJqo4Hx8fe9ZKC+N99dTxZHucY129g3nP9rDJcT3CJTdbj2pVQq9H62KJoo54/B6q2kW1SlAulz3bxNpLgWgaJnqyRyICDEOAn9In8NGzfTSy+qAAlICYTFrE5lnzm4VlyjlTfoHTU8Gs7jHrekiShL29PQA0ZqLrOprNJkRR9EwNDut99ZTxQh7m4uDgmIXHR2d5+HxegygOoetAp0Oj7tOMiX2MZTPZHx8BVaVGg3ZADP4YQaNWs1J+y+WnZZexADwhBu7vq1vPM+F5uRwcGwpNA375xSIeplIGDg9FFAp5W/+MNu7v79HvTy/1a09tTaUQOJN9sgMiPU6YoaqTrXSfynVhxmRvb2/rGfB8R8LBsaG4unISD09OgFRKBCGUjl6vN8ad/abvTFbBZHcSEAnKZeHJD+VVw53yWyg8bxwWMwFgC8Bv386EGxIOjg2EV8fDfJ6mc9LOfjkQAjQaljERBKBUKiMatapx12pwBdmDn6udgJhM6shkwv/Yse9GTk+BOQXMZ2KeMdkGBnz4rygHB4cDky6tSeKhLMvI5+n2ghkT1rm0WCwhGo1A05xurWwWM/sGPQedDhwExHxegxxyBmKrBTPlN5EA9vcXH3OWMdkGBny4rygHB8cErq6A21v6WZap/z6RmGyDO82YEEJQKhXR6yWXHmSv1615xeMG0unZbV3DAHuV34MDem6DwDRjQgjB0dFmM+AXZLYHJceZ7eGS43qES87So9UCfv/dypEplw3kcuz/J5nZkiQil6MWgvYct4xJpxMHy7dJpQiiUSfL/CmMdS+5fl9wpfzqUBQ/12N9zPZez3LFSRJlsk8y759/X8my5FlOhRCC09PTFTPgObM9lHLbzqQOy/xeqh6jkYFffpFMl1YyaWBvz2KGT2Nwi6KATCYDwzDw8NCApul4fBw52txmMmTMULfPzx9jfZrcwwNs7XoJcjkNgOFomjdtvHUx2+t10Uz5LZUMpFKGuTthWPS+Ygx4XTdwd2ftTARBwNHR4coY8JzZHlo5rke45LZLj+trAbe3VJa6tAQkEqJNbjqDW1FE5PM5CAJ1c/X7GfPBoCg6Uilx4kHrl7HuJTcaAc2mk4AYiwG67s1md463Hma7rhuOemM05XdS9yDuK0VRsLe3C1EUJnYmq2PAc2Z7SOVeBpN6/fN7eXp0OhI+frTkymWgUJhkhs9icEciERQKBei6gHrd8scrSheExCCK7tSk+Yz1aXKtlpUNJsvA7q5gPrjWzVifhmaTuuMAIJMBikXRs4x+UPcVY8ATAlQq62DAB7c+OCGRgyPk0DTg06fYzCwtv6BN6XIwDJolJAg6RLGFh4cHDIejwObr7oAYdgIiQOtqMSya8usXNABfxu7u7kaTFrkh4eAIOSoVGbUafciwjoeLZBLV61aypqKMIIoa+v1+YMZkEzsg0pRfOslE4vmG+jlgxmSTGfDckHBwhBjNJvD5s0XuKJWez7IGGJPdeqrTLojUZRGUMbHvRnZ2qJso7KhUrDTlIFN+/YKlBm+qMeGGhIMjpGDEw26XpejSUuaLwNmTHcjnI9jZ2XEYk8fHx2cbk26X/mHY3Q1/B8R+35nyO6XL+NIxzZhcXV2hZ2d1hhAhv8QcHC8XduKhJBk4PRUXelN292TPZIBoVIIs7wAA2u02dF03H1qZTMZ8oPlFrWa92ScSy6ndFTSqVThSftPp9b1fe5EWG2Mrd3h4OLOK8zrBdyQcHCGEu5ZWPq8t5NICJsvFs4e8JElIp3ccO5Ner4dm8xGq6n9n0u9bZVsAGhuJRheb87Khqs4yMaen8/kmy4bXzqTRaODyMrw7E85sDylTdL1yXI91ylGXlmg+lBMJHaWSBkJmOxDmMbjv7633xmTSQDTKWOmUtLizQ1OrWq0WDIPuTAghyOXyiESmH5sx2x8eLNJaNAoUi05WOPscJmb7w4OAXo+l/BLkcjSVefZ4y7+vGAOeEGIrp9IAYODkJCgGPGe2h1Ju25jUXI/1yF1dibZaWgYOD1XEYvpCjPB+39mTPZMxYBhOQUEQkEolYRgGOp02dN1Ar9cH8IBsdrqbyzAINM1Zjj6fNxCNuvux0+sRJmZ7pWJxI46ODEiSEZr7ShRFlEolGIaBu7u7sZvrAYCAo6OjqVWDObM9tMxirke45re9etBaWtb3cllANksWZoQ7e7ITR092O6ibKw1BYDETw3SnZLMZRDzIFYJA5z0aWax72nPEPQ92PcLBbLdX+Y3HaZVfUfRzv6zuvqIM+D0IgjBRNfjo6GhBBjxntodUbnuY1FyP1ctpGvCPf9DS6wDtDXJwsDgj3CvIrijTxxNFEZlMBoCAdrsFwyDo9/sQBAHZbNbRzwSgpUUeH50pxen05AMqbMz2+3srMeDwEEilBBAihu6+kiQJ++Na9pVKBbqu4/Hx0WTAu40JZ7ZzcLxgXF97l4dfFLT0B/0sijQWMA+SJGFnZwc7OylHAN4rNbjTAQYDwRx/dzf8BER3yu/JyXrnMw8sAG9nwNMA/GUoAvDckHBwhABeHQ8XzdJisHf7e0pPdkkSkUqlJ7K53Mak0bCsxqYQEO0pv+XyZszZiwEfFmPCeSQcHGuGpgG//mr566lLK5ixez1nEPypzatYajAwyTPJZrPQtIiZ9QTQh3LYCYiTKb90B0Xmb9TWjlk8k2lVg1eBkF9yDo7tx/U1cHNDPwdRS8uOatXZk/05xRNnGZN+vwjDoI6NRIL2jQ87Hh+t9r+0yu965/NUMGNCCLFlc1nGJOZ3yxkguCHh4FgjWi3B4dIqlYJ7sLl7stMg+2RLXj/wMibttmqWXQfo3MNOQARoXS2GVVX5DRosmwvAhDEVQh3oAAAgAElEQVRZBwOex0g4ONYEVQX+8Q/R4dJatJaWHe4g+6LlStwMeFVNmlwURdFRKi044RXAK+V3U8GMiTsAv47aXJzZzpnUHnJcj1XI3dzA1vGQ4PSUIB6f9NU/lxF+d2e9J9p7sjMm+nN6sTMGvKoCj49W46VIpA1RjIGQ6a/3YWC2Vyqi2Tr34IAgkSCOeW3afSXLkmfMhBCCkxNpDgOeM9tDKbepTGo3uB7Ll2u3gQ8frLz8YtFALkemuJ2ezgifZLJbPdkX7cUuCAIMIwVWskUQNEhSDXd3EZRKxQmeySJ6BCk3HAqOlN+jI93Rj31T7yvGgNd1A/f3lptLEISxm8vbmHBme2jluB7hkgunHpR4KKDdpv9PXVqz5vl0RriTyU7JdlZvdfb3PD285XQdeHy05hKJ9CBJA7TbAwAEpVJpSsB3vcz2Wk2wVfkFslk3YXJz7ytFUbC/vwdRFCZ2JtMZ8JzZHlK5zWJST5fjeixTzl4enrq0BCST0x+GT2WEG4Y4wWSPROgYFM/vxQ7QGMNwSD+zDoiDgTSu0dWBIIgolyeNyTqZ7apKUK1acmdnk9dn0+8rxoAnBLi788OA58x2Do6NhJt4WCySwNNPgw6yu8HcQwAlIO7txZHL5SBJ1NXVbrdwf1/FgPXbDQEeH4WNTvn1CxqA38XubnmlpMUJQzJvm8PBwfE8TBIPDRwcBM+Cey6T3Q/cHRBpzxEJuVwO+Xx4jcndnfVc29SUX79YRzkVB4+E2hARw+EQ19fX5k1weHg4LuI2Hc1mE9fX1wCAWCyGw8PDcaVQbpg4OIBJ4uHJCU1BDRKLMtnnwd0BkREQZVlGfvyl0XiArmtot6nF9HJzrRLtNuXrAJuf8usXs3gmy2DAu3YkAgzDwOXlJVqtFgRBgKqO8Pnz55mWrFar4fLyEoZBAzKtVsvxnYPjpYOWh7e+l0rB1dKyo153B9mDG3swsCoTA5MERGZM3DuTarWKwWAY3ESeiLs7wTR+Bwc0ueElYJU8E9eORECz2USj0cC7d++QzWYxGg3xyy+/olKp4OzszBbYogZiNBri06dPyGQyePPmDSRJQqPRwK+//ord3V2kgryTOTg2EF61tIIkHjLoOs1MYmBM9qDw8EB1AagB8SIgeu1MWmPF0+nM3MBu0Oj3aRdEgKb8np6u9PBrh9fOpF6vAwAKhQLkgAqjTcRIHh4eEI/HkU6nAQCRSBSHh4d4eGhAHyddC4IVS+n1+uj3+zg4ODBvkkwmg+Pj45XfNBwcYcTNDXVrAcHX0rKj2YRZQDHoIPtoRGtUMRQK03Xw2pm0Wi00GnWMRv57wAeBWs3KMCuVNqPKb9Dw2pnU63Xc3t4GFsOSdV0308AIIej1ekgkEhBFcUz2ERCPx6CqKjRNhSzLMAyLBDQYDBCLxWAYBL/++isAIBqN4ujoEJFI1GRFkhmlNS1Coj5Vxi4HhFWOjIk7YZ0f12PV82u3Bbx/b72vFYsG8nkaZ2BEr3nuX1b5YR6Rzx5QTiYJIhFvgiMjGs6ruWWXazYFswOiJBEUi9bvvfRgzbEMw8DDw8O4NhftuBiPxxCdUZTL73mZJ6dpTnb/yYlhkjKnjbcp99VT5dxtezVNM69LMpmcSlr0e1y51+tBliVEo1EQAmiaZrbTpMxHeiF03RifOAJNUyGKIgRBhKqq6Ha7eHh4MI1Fs9nEaDTC+fkrKIoCTdMwHE73kaqq6qgoOg1sfH8Lb/VymqaBEIPrERK5dethGCJ+/TVuurRiMR2FwgiDARnLAcD8B6au6yCEzHx7HA5FNJvWwzmVUjEaeT80n6oHIQIaDQXMnZ1KaVAUFWw6s/RIJpMYjUZotVoghKDT6aBSuUMul0Mk4u1383te5sk9PCjo9cTxPDQkEgP0etMNyabcV4vIpdNp9Pt9k6z4+PiIi4sL7O7uTjXufo4rM4NAbxKvkzz5b14DJhJxnJ1RB+TDwwN++eUXpNM72N/fhyDMJiH5JSqxN7N5TNZ1ydFdHdcjLHLr1uPmRsTtLXXvUv887ZXOHsi0/hPmzo+9ec+Sq9dFaBodNxKhQXZ/DO356HQEDAbi+De0A6IkWXOZpYcoiqYvvtFoQNP0cfteHcVi0fPh5fe8zJO7v7f0Oz42EI3aSZne423CfbWIXCQSwf7+PiKRiIMBr+s6Dg4OPHcmfo4rJ20pDIZhQJZl048pilaMQxRFiKIEQRBNPxu7EXO5HAq2FJRMJoN0Oo1Wq42Dg0MoivUbL0QiEUiShOScdAq6oAzT7xo2uV6vC1XVuB4hkVunHs2mgasrS65cBnZ3ZdjzW5iBmBdLHAwG0DR9agotLVlifc9mgURiOlGCHtdpDGbJtduW3M4OUCgojvXsR49IJALDIHh8bEAQRAwGA7RaLZRKZcRiTmPi97zMkmu3rZ4j8ThwdCQGdh9sw/qIx+MwDFqbSxBEdLtdNBoNz3IqfsZz3EmiKCKRSKDX6zn8sf3+AIpiv3ksqx6LRWEYuqf/dpbx4ODYVtBaWssrD++GvVGTKAbLHen1JgmIz1nWiqIgm804MrdarRaq1fulpAZXKjALMu7vkxeT8usXkQgtsFkoFM3MrXq9/uzU4IlXklwuh36/b6bsjUaUnEhLINAbgAbn6U/T6Yy5bWVotVpot9tmIxwOjpcEWh6erg+WcrrMDqj25lXJJAmU5NhoWATEeHyxDoiyLCOdziCXyy/VmPT7cFT5PTkJvnrANkBRFBQKBezt7S1sTBx7FUII0uk08vkcvnz5gmg0itFoBEII9vf3IYqiGfVPJBLIZDKIRqM4ODhEvV43jclwOEQ+n0M6nfGVfcHBsS1oNoEPH6zv5fJy6zr1+263FkFQ1SQoAdEaq1RavNyKLMtIJqlVZZQC9tLq5eZ6DnjKr38oimJSPSqVCjRNM3km06oGe8G1I6H+xuPjE+zs7IAQAkVRcH5+7hjQncpbKpVQKBTAGsjs7Ozg1atzRCKRmWm/HBzbBOrSAlotlim0XJcW4OzJHokE68J5fIQZwJ9GQHwOFEVBPp9bys6Epvxa38/OrHL4HN6IRCLY3d1daGfi2pEAAEE0GsXr1689fyCKIg4ODjyNScl1pxFicEPC8WJgJx5KEi0Pv0yXlq5P9mQPiKiM0YhyRxjy+WBLizBjAkzuTIrFoklBeCoeHvAiqvwGDWZMgMmdycHBIeLx2TvFiRiJnwe/n/aWVA7wTinm4NguNJvA+/fW91Ip+PLwbkwG2YNba80mTAKiLFMXXdCYvjOpzuSdzUKlYn0+OdnuKr9BY9bOpM/6EkyBbDcczEAQ4ict0PCVz8z+zJMD/Mn5HW89cuxPWOfH9VjGcVnHQ5allUgQ7O8HqweTt8PNZKeUDL/jTZczDKDRsNfsIkilrHkEqQctp0LTzCifQTPJi7NIcl7H7XTcVX6Jef038b5avtykHrQEfRmEEFQqd9A0FY1GHQDBycnJVAa8bBgW7Z1S/w0Igp8SAcHJMUNin8sqjsv18AbX42ly19cirq+t8iFHRzpisaeUIJm3u5+UGwyAZtPiT2SzxNR3nrfAMiTecq2WgMGA6iMIBKUSO37wegCUr5bNsnIqDei6gVarDUEQppIWvY57eyuaKb97ewbicWNcimYz76tly03TQ5IkRw945uaiPeC9SYuyM8ODWaZ50amg5RhWfdxlyPnJmuF6rE5uuXq4y8OXy2QJ5eGZHhaqVcEWZGfl4snYSMzTw5gpZ++AmEqRALOeJvVgkGUZhUIegsCqButoNlsghMZfo9HZPqrBwJnyS6v8Mv02775anZy3HpQBb/WA1zQNtVoNhNAe8G5j4urZTqn/fnoWBylHSw2IKz/uMvQQBK5HWOSWrYem0bhIu03/n2ZpiZAk+rbnrxe2HzkRLKMSYOXirf/PZoFIRIRh0N2Gv17n3nLdrhV3AVgHxHklQ56nhxuSJI0rZAh4eKjDMAg6nTZEUfBMDbYft9GgCQIAzS7L5UQzW2vT7qtVyc3Tw94D/v6+Al2nBThFUZxIDeY92zk4nglnlhYN7i4zS4thmUz2et1OQCTI5VabLMMC8NmsRYBmAfhpqcHulN/TU57yGxQikQj29vZQLpdnpgZzQ8LB8QxMurSC41nMg5PJHly73sHA2l0BNPNsRqx7aWD9TOzVNFqt5lRjYk/5TadXdx1eCiIRBbu7tJ/JNGMSUNY5B8fLAet4yHqjr4J4yOBmsgfZvMrdAXGdHAx7p0XWN6PVoie8VCo53Fz2lN/TU57yuwxEIs5Oi24GPDckHBxPxLpcWoCbyR5cT3Z3B8R8nuq0Tj4xdXNNNyaRiDJO+aXy8Tjtyc6xHDA3FzBpTLgh4eB4Atbp0nIz2bPZ4HqyUwIi/bwsAuJzMMuYFIsF3N1FbVV+g2Xfc0ximjHhhoSDwyc0DfjtN9F0aSUSq3NpAawnO/0cZJBd150pv5kM7TsSFkwzJrouo9GgZT2slF+OZcPLmHgw29fDxOTM9jDJcT28cHsL3NxY5eFPTmjJdvfPlqEH4MxMSiYJYjHnsecx1qfJtduwERApF0YQrN7ky2bo+xmPxkxyIIQZEw21mlXGpVQiyGa9XXFhv682cX0oioK9PVab644z27kek+B6TKLdFvD771ZOabFooFDwZnv7ZXo/hRE+GEyWi3c/ACwD8TRme71uJW+mUgTptMUID1qPRcYTRQm5XBaEGGg0WhgOrS1ZudyHYXhH2cN8X61TblE97Ax4zmwPXG67Ga/LP27Qcovr4S4Pv2qXFkDw+Ch7BNnd853NWPeS6/XcBEQSWAXhSUxntvsFZcAX0Gwq0PXY+N+6GAyu0e97l+8I630VDrnF9GAMeM5s54zXCXA9nLi+pplagFUePpWaTsHyz/T225tcRKNhPd0Zk90L5InMdncHxEKBMvOXocc8Zrvf8SRJwnBo5T0nElW023Xc3gqe5TvCel+tWy4oPSRJ4oREDo5ZcGdpFYtk5YS3dlvAYEAXcZBB9kkC4uIdEFeBTgfodOj5iEYNpFJUiVqt5qvkOUfw4IaEg2MKmEvLytIiODhYPbGiVrPeBINksrsJiJvCCK9UYEv5JTg4yJiMa25M1gOe/svBMQU3N8DVFf0sScDxMVkZ8ZCh37diM0BwTHZVnSQgbgIHYzCg9cAAlvJLsLPjTEWtjStaerm5OJYDbkg4ODzgdmmVSvTPnEzJwFGtAppGDUmQTPZ2O5wExHmoVgHWPLFYJOP2wpO8BrsxmdUciyMYcEPCweHCpEsLODpa/Ty8erIHwWQPOwFxGiar/BKzyq8XSY4Zk4ODg4kS9BzBgsdIODhcuL11urROT1dXS8sOO5NdEEhgbq1OBxgMxPG4dDfiI9Fr7XBX+XUXlWTGxF6llsZMrnnMZMngzPaQMEXDJfdy9Wi3gffv7cRDgmLRGmeVeth7ssfjBmIxcaZrzSIazj6uvR97KrVaRjiTf854lYo175MTAkWZzrgmhODu7h6apqJerwEwcHw8vef4U/V4qetjGjiznesxgZeqh67r+Mc/RDSb9IFFs7QMk2cRNNN7lhxlslvZWum0PtOIAP6Y7b2egF7P2n6USgSiuDqG/nPH6/UEtFr0usRiBHt7BgzD8LwPJElCuVyGYRi4v78fu7nqEAQRBwcHiMe9c5z5+nj+eJzZHrgcZ7yGS86/Hre3Aq6unLW01uHSAoBazerJrigEiYSB+SHN+cx2ZwdEmq21Ojyf2e5M+aUZZpadmca43ocgCGbMpFqtghCCw8PDABjwL299TJNrt3nP9sD14IzX8Mg9RY9mU8DHj5ZcqQSUy6JLLmimt7ecrtPsJIZ02oAsL9aLHaC7nE7H+l4qAYnE6hj6z2W2DwZWcoAkAWdn9Nr7YVwfjBuU3N/fQdcNNBoNs+f4cxnwL3F9TBuv3abZjRsQYuPgWC40DXj/Xlx7lhaDu1x8Oj3PZeQPdgJiJLJ6hv5z4Uz5fRqznwbg91EqlThpMWC02zS78fKSGxIODlQqwPW13aW1niwtBme5eBoTWBSjkZXODAC5HNkIAqI75ffsDGbKr1/QNrH7KJfL3JgEBLsRAbgh4Xjh8CIerpOc5+7JHlRdrVbLequXJFrldxPw+OhM+X3uLioSUbC/z41JEHAbkViMExI5XjBUlREPrfLw63RpAUCt5uzJvrOzOJt+koBIAmPILxuVivX59JSek+eCBeAB2LK5OAP+KfAyIt9/z3ckHC8YlYqdeEjW7tLSdacbJygme7tNdzqA1QFxEwiInY7ljovHabbWomDGhO9Mno5pRuRPf+KGhOOFotUC3r+3vhcKZO31ptxB9qCY7PbdSCpFDdQmwJ3yG9Quapoxub7mDPhp6HSmG5FkkjPbQ8sUXa/cduuhacBvvwm2t12Cw8P162Fnstt7svtnhAPuddTvA92uNS7tgLi+6+FPDzJR5ffkhEy4+BaZn6Io2N9ntbkoA75Wq4EQgpOTE8RmNGbZ9vXhBq32INqMCMH33wM//EB38IRwZjvXwwPbrsftrYjLS/pwFUWCoyMdsZg3u9t93GUx24dDJ5M9k7E/CNiL1tN6sQNArSaaesViBNmssVKGvmuGvser1QQzOaBQMMw+8m65Re4XxoDXdQPVqhUzEQQBh4cHU43Jtq8POzodAe/fC7i8pM6raJTg228N/K//RRCNWunknNkeuBxnvIZLzqkHI1AxlEpkovjfOlCtCjN6svu9Hk5m+3Do7oBIdzlzn/dLgz9mOyVkWrqenlJSnPd4wKI9xw8O9iEIVgDeHwN+O9eHHazuHKv2EIsB331H8MMPk83VOLM9ZEzRMMhtqx6qSo2IPYB7fEx7lK+CsT5NDpAwTh4CQGMY0ahokxNNfeaB2Jjtj492AiJQKlFdV8XQn5Tzx2xvNAyzHlg6TSsMeP0kqPtFkiQcHh4CEFCtzmfAb+v6sIO9cLFklGiU4PvvBfzpT6In/4gH2zleDCoVK1gYBuIhQ7MJdLv0c1BBdlV1EhDz+eCC1cuGs8ovbQO8bLAAvJsB/xID8JPZWQTffWeYgXUvcEPC8SLgdmkVi8Du7vrmY4ebyR5Ed9hm001AXHzMVaDTga3KLzAulbUSeDHgq9XqizImXim+1J1lzKyE4CAkCgLdfo5GI1QqFQzHd+Le3h52fLZQ03UdlUoF+XwesVh0ItOCg2PVYMRDxhinLq31zomBlou3vgfBZPfqgJhOLz7uKmBP+T04WP0uijHgAWfMBMCMmMl2YBpP5J/+icx9uZnYkRgGwfX1FarVKvr9PprNJj5//uzbItfrdfzP//wPer0eBEE0/bscHOtCWF1aAFCvewXZF8MkAXEzOiBOpvyuZx5ePJNt35m028Bvv1nrJBoFvvuO8kT8rBXXjkREq/WA+/sq3r59i3w+j+FwgP/+7/9BpVLB6enpzIBfv9/H9fU1RqPRQkpxcASFTkcMrUvLnZ2UySxWAoSBPYwBapiCqte1bNir/BYKBLncE6szBgivcipsZ5LP5+cGsjcJzIh8/Uq/R6N0J/Ljj9TVqs/OIgbgsSN5eHhAPB5Hdnz3RaMxHB8fo9GoQx+P6JWJNxqNcHV1hWg0itSmRPU4thqaBnz5EnW4tNZdS8uOVssiCwYVZO/3LXY8QHcjQRinZUPTgPt76/vJifHkKr9BY9rOpFKpYDAYrHdyAaHbFWcaEb+QdV2HIAjjlDGCXq+HRCIBURRBCIEgCEgk4lBVFZqmQpZlGAYlFYki/X/DMHB3d4d+v4+zszM8PDwAsBiW+hyTRglK/uWAsMo9TV+ux3Ll7u8l3N3RpyglHlJf7ySxzTDv9XnHDVLOzmRPJAiiUW9SpEUcm0/kazQEBwExl5scc136ztLj4UEwjWoqZaBQ0Oe+Ca/ivpIkCbu7uzAMA9VqFZqmoV6nL9WpVGomAz7s66PTEfDlS9QsjMnIhv/0T06yIWtpPIuXIvf7fUiShGg0AkIAVVWRGRfjoT+mmxZdN8YPFgJVVWEYBiRJhiAIaLfbqNVqOD09dZ1YAk3ToDIn8BSoqgpd1+f6H9mNOC/usi45VVVBiMH1CIFcryfhyxfrVTyTUZHN6qbrZHI8QGMrZ+Zxg5EbjQQ0m1Ze686OClX1zkzRdR2EkLnraDgU0G5b3upsVoUgTOq8Dn3Z/xNCzCQeO25vo2APqr29IQxDRb8fnvsqm81iMBjg4eEBhBA0Gg3IsoxyuTy1anCY10e/L+HjRwWVCq0KGonoODsb4M0bDYZBHJ002YZgVlhDBJirapq1mby5BcEiPTGXVjabMd1hTwV9kwmK/b4+udnncXnHDVpu0/VgtbRaLerHpi6tcKUP0p7sVIdIZJ4bwd/6aDYFaJpojlkqhUvnaTuWbpe6+QCaKbS354c1bo66Ejlam4u6uVh8pFar4ebmZo6bK1x6ADTF+v17Abe31IiwwPoPPxjjwLow8cd6Rnv/ke3xDLrLkMw3H1G0AkqiKEIUJQiCiMjY6UqD8y1cX1/j8PAAnz59gqZp6Ha7uLq6giAIyOWyc+v8RyIRSJI0N7bCtliSNLuNyrrker0uVFXjeqxZ7vLS6nkuigQnJwJyuen3IHPNzAugBiWn686U30wGSCanBzJGoxF03Zi5jlQV6HQsw5HPY6rOq9aXYTAYQNP0iRTa62vL3XhwABSLsVDeVwCQSCRMN5coiuh0Onh8fPRMDQ7j+mi3KVudcZciEQPffy/ixx8lJJPeFA+6IzYgy9N7GjiOJIoiEokEer3eOAZC324GgyEURYFiNkewrB3zIWqaDk3rQtd16LqOwWAAVVV5+i/HSuHueJjNatjdDaCpR4CgQXb6WRSDyapqNqm7DNgsAmJYUn79IhKJoFwuwzB0tNudjeKZuLOzIhGC168H+PHHxMJtlydMVjabxadPn9But5HJZDAajXBzc4NsNmu+cdi3qLlcDjlbusloNEK/38ebN29QKBR8BeE4OIKAqtKFwt72YzEDu7sqgHAZEnvXv0SCIJFYbH24CYjp9OYQEGs1e8ovzVwLO4k5ElFQLJYQjyc2hrToleL75o2Kd+/6SCYXJ1U5DAkhBNlsFplMGhcXF0gkEhgOh1BVFfv7+xBFEYZhoFarIR6P+2K7c0PCsSq4iYcHBxri8XA9lSaZ7E+JB3jDTUDc3d0MAqKmOcvDnJ3R+YfdkABWzAQIPwN+Gk/kzZshZDmYk+263aif8+zsDNFoFN1uF5qm4fz8HEnb3mc0Gk3N0BBFEfv7+4jFYma0n4Nj2XDX0ioUgGJxbfXSp6JatfdkD6Z3un03kkySjSEgPj5aLr6dHaBUWu98ngqvQo9hY8B7GZHvvqM8kUQiuGeza0cCAATRaAzffPON5w9YaeVpBkKWZZyfn4/HY/nMHBzLQ5hradmh607SXToNyLPjpnPR61kPY4BmakUim+EBsLv4Tk9XU+U3aNB+JrSyJOOZsJ3J/v4BYrH1sUGnGZGffqJZgixTLghMbID97CDoTmP+2x7fjHCsAnaXlijSgO2iwcNlYDLIvvgCqdetjKdYjKBQ2IxF1+1aZe5XXeU3aDBj4t6Z3Nxcr40B3+nMNiJBw6NnuwFCZjtYWXqZH2KM3x7D4D3bQyS3OXpQl5b1Bl4sEpTLlg5MPgx6uJnslLv7/F7nw6FVch2gukci4b6vmPztrWAy1/f3CZJJ5/+v+76ap4d7fUyLmRBCcHx8PKcHfLDz63SA338XbUaE2NxZ7vPsb32wahfTwHu2cz0msCl66LqO334T8fjI+lcQHB7ae3v7Ly2ybLnhEHh4sHgW2Swxz/P83b23XKMhQNOo7opCUCgY40W/fn1n6dHvG6jX6bmQJIKjI9ZH3hpvE9eHLFMqhK4bqNUsN5cgCDg4OEAsNo3XE9z8ul3aY/3rV6vH+jffGPjhB2fZE6YHIQSaNu+4OgyDzDwu79keuJyfLByuRxBylYqAy0vWhhY4OSGuktcE1pjrBWWy08+KwsrFk/Hb4dOvh1cHxLCUxp8OqketJkyk/IbjObT4+mA94EVRMHcm9/f3IIT2gPfemQQzP8ZYZ2uCurO8e6xPjjkLAgRhthzv2c57nU9gE/RotQR8/GjJFYvA3p7okvPXI3zZPcxpuXjr/7NZ2pPdMKibYV4vdq+e7e02wLo1SBKwuytAksSl6rG4nAhdJ6hWLT3OzgTIsuSS2+z1EY/HcXh4CEKAavUehmGgXq9DFEXP1OAg5tfpAB8+2PuJEHz3nYCffvLusc70EEURijI744My2wUz/uOFBXNGODhWD1UF3r8XQ5+lxRA0k32TCYidjrTRKb9+wXYmgIF6vbFUngkLrF9c0O/MnfXTT9LKkk42gLbEweHE3R1wdWW5tI6Pw5mlxWAn3SUSi/dk73Q2k4AIALWa9e66qSm/frEKnsmkEQG+/ZbgT3+a3WM9aPAdCcdGod2mW3gG6tJa33zmYTAAxu15ANB4wKKFHuwdEJPJzemA2OsJaLepWyYWA8ZJTluNWTyTRXcmXkaEVvF1xwqXD25IODYGVi0t+voddpcW4GSyW0H256PfdxIQd3c3owMiAFSrEgyDWtH9feraegmYZkwEQcDh4aFZTf0pmGZEfvyRrotVc/i4IeHYGNzdWQQrUSQ4PhZC7dJyM9mz2cUf+rWanYBIs7U2AXRnRl8AJIm6tV4SvIzJ/fjm2N/fRzTq/8aYZURSKX891oPGhnhWOV462m3g/Xvre6FAQu3SAoIPslMCovW9VFo83rIq1GrAaEQfN1bK78uCFwP+/v4e19fzmmNZ6HZnG5F1wYPZvh5GKWe2h0kuXHqwjodWeXiCw8PnM8JXpYczyE4mXA70s389Hh6IjYBImezO8cJ5X+m6k9V/ekoceq17fk+Xe/76YAx4QojNzXUPwMDR0WwGPGOs27Ozvv2WGhF3ZYB5THRrfpzZHqmZ6bMAACAASURBVDo5rsdy5CoVEV+/0geRKBIcHuqIxwnmEqnXyGwfDokjyG4x2W2zMw3JfEa4pjnLz+dyBImE4TgH62Ksz5N7eBDQ7dLrl0joKBRmX7ttXx+yLGFvbw+GQUwG/P19FcB0Bny3K+D33wVcXMxnrPthojM9OLM9tHLhZ4Rvkh6T5eHJE7r/rY/ZXq97Mdnd+hvwy2zvdEQMh/YOiOFg7PuBvcrv/v7IRzxg+9cH45kIgjNm4sWApzsRe9kTluI7zbU5n4k+OcdZ4Mz2lcptAiN8k/RQVWpE7MTDkxMRkkTfpvwwqdfBbKfN36yHB2Oye8EPs90wRDSbVl5MOg1ks+IEd2R9jPXpcvYqv9GogXJZgyTNDuy8lPURj8dxdHQEgBoTxoCXJMk0Joyxbi/A+O23lLE+LSbih4nO9ODMdo6tx92dszw8Ix7Od2mtF50OTFdOEEH2Xk/AcEitxqYRECsV63qVyzoSiZBfvBWDBeAJIWg0Go5srnz+GJ8+RRwxkXfvKGN9nYF1L3BDwhFKeHU8DHuWFoOzXPzimVUsbRbYLALicEiztQCr9THHJJibS5Ik0811c9PE3d2h6RaMRoFvvqGM9VRq9k5oHeCGhCN0YMRDFqymLq31zskvKF/CMiSLMtn7faDXswxJubxJBEQ4qvxmswamdOh+8bDzTG5umuh299Dr0TiJohj49lsRf/rT6hnrfrEhG2SOlwQn8TD8tbTsqNWCZbLXagAhrN8KfSBvAjTNWWPs9HTx0jDbjkgkgnT6AN3uEXq9XQCAKI6QTt/g22+7oV4D3JBwhAo0Q8X6vkkuLcqXsL5nMovtHtwExGJxcwiIzSYcVX79Z9q9XHQ6wJcvEbTb9G1BklSkUldIJH5FpfIR3W5vzTOcDu7a4ggNWHl45tKKxTbHpQXQuI6dyb4oe/vhweIHyLKBcnlz3vtub63PJyfUx98L73Nw7eh2aXbWly/0ezQKnJyMoOuXIGSIr1+/wjAMnJ+/QjqdWe9kPcCZ7SFhvIZLbj163N/D0fHw+Jg4ekw/Rw8mvwo97EH2eHySye49P+/xKAHRGi+d1pFMCnPGC8d91evB0f744MB+T/H14Ua3O8lY/+Yb4I9/lHB7W8DVVR+qquLy8hKEELx79w6JGcESzmwPCZP6uXJcj+fLdbsCPnywHpz5vIFy2ZsB/dQe4atgcA+HQKNh78nOyIYzZjeD2f74KNgIiAT5vArDmMc3CQez/fZWNK/b7q7FwOfrYxK9Hu2xzhjrkQhN8aWBdRnR6Bl03cDNzTVUVcXXr18hCCLOz18hHvc2JpzZHmomq1+5cDDCF5dbnR40S0sw01yDc2mtjtnu7MlOkEwSzA9BejPb3R0QUykDqdRm8C+GQ6tfiiSx68j04+vDDko2tJc9oSm+rBQ8/bcYXr9+DVEUcHl5OTYmFyDEwPn56yk7E85sX+lxw8p4XbfcqvW4vbUTDwlOTgSkUtMfwk/pEb4KZru7JzsNsotzGeuAN7O93aZpxPSYQLGoQxT9nOf1M9sbDWfKb7EomtlafH1Y6HSAjx+tKr6RCME33wj4858nGeuKIuPt27cgBLi+voKu67i+voYkSXj9+jWSrnSudTDbNyd6x7GVcBMP8/nwl4d3wx5kFwQgk1lsF2TvgJhIAOn0ZuxGNM3Zf4Wn/Hqj06EtEazAOnVn/fnP09PFY7EYXr8+x+HhARRFAQB8/foVHz9+RC8EWQzckHCsDbQ8PGxZWgRHR5tTjJDBnvKbTC6WouvugFguUz7KJqDZpA9JgD4QecrvJCaNCPDuHcFPPxlzOUexWAzn5+c4PDx0GJMPHz6s3Zjw9F+OtaFScRMPSahJV15w92TPZulb+LxA+zTYOyBGo5tDQAScKb+np3T+HBa8jMg33wA//uifsR6LxfDmzRsAwPW1FYAHgDdv3szM5lom+I6EYy2YdGnRYoSbBtr5j35WlMX6kHt1QAxrSQw3ej2rym8sBoyrfXCMMc2I/PnPT6/awIxJmHYmfEfCsXJMurQ2s4e3uyc7Y7I/tzqxnYCoKNSQbAoqFcHsFb63t5hB3TbMMiLP7bE+a2fy6tUrxOPTOy0uA3xHwrFybHItLTvabSsmIAiLVeVVVWcHxHx+cx7GlENjNd3apGoEy0a3O9uILIJpO5OPHz+tfGfCme0hZrxuox707cxOPKRZWux4QevB5IPWA3Ay2ZNJi4VvEQ39zI/KtVqY6IBozX+5eiwqV69b5Ml8niCf944RvbT1QcueiI7srG++AX766fk91t1y0WgUr1+/BiHE3JlcXn4FYODt2/kMeL/XgzPbVyjH9Zgtp+s6fvtNNMusR6MEx8dW3/GgGdfLZLaPRsDDg8UPyGSshWYZiNnjMTldJ6jXLaO0s0Ows2Pvxx4Oxrq3DHB3Zzk2jo8N8wHlxktaH70e7bH+5YvFWH/7ljLW43GnO8swdOg6gSjOZ5h7ySmKglevXkHXDdze3kBVVVxcMAb8OeJT0giZ0dTn+Nb8zE+2X3D3G9A0BC3nll/VcYPXg+2swjm/detBXVqTtbSWh+Ux26tVwRFkd/Zk99uLncp1u0C/T2UFge5GnPyL5emxKJpNwewGyVJ+p98PL2N99Hq0x7qdsf7uHTGzs9y/IwQQBH/nZZpcNErdXKIo4OrqamxMLkAIwatX5zN2Josdl0G2sxUNwwBlYs6OwQctx5jt85iY65rfU/QQBK6Hl1y7LeDjR0sunwcODpwhuuAZ18thtgOS2fkPoEH2WMypCyHze7EzuUbDkkskgHye9qVfth5ByLl7jiQS02VfwvpgVXy9Geve94OuCyDEmHte5skpiox3794BoAF4XddxdXVlMuDdxsQ/s33+/HiwnWPp0DRa3XRTy8O7EWSQfTCYJCBuSgdEWuWXfo5GyYtP+XUH1lkBxiAC635BGfCvcXCwbwbgLy4uls6A54aEY+m4v3e7tFa3sJYB+1t4IrEY16PR2GwCopXySzYmy2wZYEbk82f6PRJhBRjnM9aDBjMm9myuZRsTx15FEOg2WlVHqFZrGI2dwMViEakZZ0PXddRqNfT7fQBAPB5HsViEKIpgbUI5XibcHQ/zeWB/f33zWRTDoZPJvkhP9tEIaLWsH28SAXE4hOnekyQaZH+p76XeRoQy1teV1u7FM7kY+9u83FyLYsLpZRgEt7e3uLu7hyiKUFUVnU4Hb968QSw2SXLRdR2VSgXVatWM/kuSBE3TsLe3B1HkhuSlwiIeBl0efn2o14XAmOyUgCiYY20SAbFWs6r85vNk4W6Qm4ppRuQvf8HcxmbLBtuZAMDV1RU0TXMYkyDh2pGI6HSauLm5xZs3b1AsFjEY9PH3v/837u7ucHx8bAYQaQAQGAwG+PLlC969e4fSeCVUq1W8f/8e2Wx2osQxx8vB3Z0VdBRFguNjYaNdWoZBs7UYFunJTgmI1li53OYQEDXN6d47OSHwkVewdZhlRJ7LWA8a8Xh8qjEpl8tzEy78YuLy1+t1JBIJ5PN5AEAsFsfJyQlqtZq547Bv5QkhKJfLyNleSTIZ2lN4wJoqcLw4sLIQDLkc2WiXFsCC7Faa7iJB9lYLGI3sBMQgZrgatFq8ym+/L8w0ImECMyZHR0dm5tXFxQW+fv1qhiMWhczIRrQJC0Gv10MikRjHNwgEQUAymYCqqtA0DbIsm8QdAEgmk+OmK8SUZ7Js9zKPLUrn4IcgZYwJQ2GVI2MWaFjntxo9qEvLytKKRgmOjuwEu1nj0XsoCDmLOOZHj/nj2ZnsiQRBPD6vFfC04wH1uvUOl0oRpNPT5YPWY1G521snAVFRDBjGy1kfvZ6Ai4sorq/pd0Y2ZJ0N2U6ENoQyTO/NNKxCLhKJjEmLOm5ubqBpmrlDyeVyU0mLfo8r9/t9SJKISCQCQgBVVc0dBTUWojmYrmsACDRNg6qOIIoSZFmGJEnjWAg1ItfX10gkEojHYyCEYDQaQWPV6DygaRoMQ59rHdmCEgQ1lHJcD4r7exkXF7SGuCAQ7O6OoCi6WUZj+ngAu7+CkNN1HYZhYMic+QuMp6oiHh4sP9bOjgZV9X7gsPGmPai7XQn9PluUBPn8aOpYQeuxqNxwKOHxkZ6HSMRALtfHYPBy1sdgIOLTJwXX1zQbSlEMnJwM8O239NnIdmpsPEIIRHHedVud3N7ePvr9PqrVKgzDwPX1DSKRCI6PjxGdUvffz3FlwzBMI+DNnp38N1Z7BWBvIgJEURpbuUvU63W8e/cOsVgchmGYf2YpbhiY+6bCdjXz3hjWKUfIy9aD9qG23lzyeYJSSfMVdJxX8+e5cn5qCc1DrQaoqhUYTyanM33n16ayPicSBJmMMfM3QeqxqFylYr1x7+4aSCaN8bNg+9dHtwt8/izi9pYakUgEePPGwPffa4jF9IkdpZ+6XauWi0RoORVFkXF1ZVUNHg6HOD09QyIxuTPxc1x5xxbhMwwDkiRBValFFkUrECOKgsnojEYjUBTZwQBVVRVXV5eoVO5wdnaGQqFgWvhZ2yaAFh6TZRk7c6KNbOvpj6G6erlerwtV1V6sHqpK4yLtNv1/Wh5eRDwehx8mNXOlBCU3GAygafrcVMd54+m6szJvNgukUtOj7HQ8QJImXQGDgdWPHaDxhXR69voISo9F5ez9UiQJODuja/YlrI9ul/JmWPMuRTHwzTci/vIXGalU2nM85hKS5dktLtchl06nYRgENzc3kCQJjUYDOzs7yOUmU4P9jOe400VRRCKRQK/Xc7w1DIcjKIoCRWGLR3CUf2BGpFar4+zsDPtmVHV+HReO7cH9vT1La/OJhwydjpPJPvb8PgvODogE+fzmLJBazTKC+fxmkScXwWR2FsHZ2TCUgXW/iMfjODs7w+5u2RGAfy5pceKVKZPJoN/vozuu26CqKm5vb5FOZ8w3E0EQzMCLruu4vb1BrVbH+fm5zYjQFGHOI3kZ2DbioR2VivU5kXh+oUlKQLS+F4tkof7uq4SuT9bVegkpv14pvq9eqfjDH3oba0QYotEojo9PcHh4uLAxcezhCCHI5XKoVqu4uLjAzs4OBoMB+v0+zs7OIIoiDMPAw8MDYrEYkskkOp0O3r//HYVCAZ1OBx1btKlYLHIeyQuAqlLiYaNBv28D8ZDBzWTPZudnO01Do0HPFbB5BMRm05nyu4ltkZ+KaTyRb78dQpY3Zyc5C9Fo1MGAd5MW/TLgXc5A6g89P3+Fjx8/oVqtAgDOz88dJVKYsUgmk9A0DdlsFrqum/IMqVQKiUTi2QuPYzPgdmkdHW3ult8NZ0928my9VHWytEoqtV7m81PAYgMAfUmYkuCzNfAyIu/eUZ6IYRDzntgGxONxT2MiCALOz8+nZnPZ4dqRAABBLBbHH/7wB88fiKKI09NTM4pfKBRQmOIstXNLOLYTXi6tbakC63bnpNN0J/EcUAIi/SyKm0Xic1b53Z7rOw3TjMjPP1Pjb3dPbgu8jMmXcRnj09MzxOOzjcmEl9N/etm87nT+09U4NhOqSsvDb6NLC/AKsj/vXtZ1y+0HUIO0CCt+1bBX+d3fp/PfVvR6s43INoMZE3vM5MuXL/j06dNc7o9Hz3YDhMyOolkM0NlyfsdjacJ+8uT9GKf1ybE/YZ1fsHpUq87y8EdHxNGLOgx6MPnnjFepOJns1F38tF7sAH3D7fUmOyAypvey9VhEbjRyV/mdzMTclvXR61EOlD07i7mz3D3W/erx3F7sq5Jz68GqBhNCU4Mpz+QCAMHbt2+nUjl4z3auxwT86NHtCvjwwV500MDu7rySIavtOY4Fep27e7Jns8Q8L357sTO5Ws16kYrHCbJZY0zAXb4ei8rVaoJZ5TeXM5DLTZa62Yb10e/THuufP1s91t+8MfDTT5M91plRCqLX+TrlpulBe8CfQ9cNVCq3UFUVX758gSAIePXqlacx4T3bA5RjCz6s8wtKD1pLSzBbxIbXpUXGf56OWs2rJzs7J/56sQMCBgOr0CMAlErkGXGW5+uxCHQduL+35s6u8eSOxPvfJxHO9UF3IgK+fGFGBHj7luDPf/busT4ezddxF+3Fvky5sbSnHNuZiKJg9jP58uULCKE94N3GhPdsD3mv8zDqcX8PXF4yWYKjIwE7O9Pdl+voJU7lntfrXNep246B9WQ3DLpI/fZiF0UaP2ILNRoFSiWrH/u6e8/Pk3t8NNDtUl2TSWBvT4QsT+q+yeuj2wU+fXK3xxXwl7+IU+/pIHudr1Nunh6KksK7d+9ACHB7ew1dN3B5eTnO7D13pAa/AEoRR5BwZ2nlctvXq9sdZH9uYHySgLg5HRABZ4zo9JTuPLcJ3S69lz99ot+ZO+svf9mc3jDLBgvA7+/vTwTg7aRFbkg4fIN1PGRFB6NRguPj7cvKC6onu5uAuHkpv9SQbGPK76QRYe4sgxsRF+LxGF6/9s7mYsZk9t6Hg8MGN/Hw8HB9PamXheHQmar73J7smjZZ6HGTHlD2lN+9ve1K+fUyIu/eAT/9tH33c1CIx2NTeSbn5+fckHD4w6RLi76l+k2k2BQ4mezPf/i321ZPc1HcrJIiw6Ez5TeciRTPg/dOhKb4Tg+scwCWm4ulBtuNCXdtccyFplGSluXSoj7zbYObyf7cnuyGsdkExHodtpRfsjVVfqcZkZ9/3qzd4joRj8fx9u1bHBwcONxc3JBwzMXdnZXVsk3l4d0IKsje7cLWAZHGRjalUq6uO6sdn5wYGzP3Wej1uBEJCl7GhLu2OGZimktrGxFUkL1etzPiaf2xTYG9ym8ySVAqbb6vp9cDPn4UuREJEMyYAMDNzQ03JBzTwVxazE2zrS4tILggu5uAWC4/zz22Lrir/G56yi8lGwKfPtnJhtyIBAG7MZHtZRKsGlrzSicEL+evZMP65udHjpUc2BY97u8JvnyhD0VRJDg8pExfph5rxTqvuvO65KySHPPPS70umkF2WSZIpSbLvVilRaaPVasJIITOKxKhHRCnyS9Dj0XO32Ag2FJ+Cfb2DBjG5q6Pfp8WFbWMCMGbNxZj3V3hRNfZePNKixi+SqT4HW9dckHoEYlE8Pr1ay9DQnxewODknr5Qwim3TXr0+wLevydg5UByOYL9fVb6w5Kjf/w9QFYtZ5XkmC2n6wT399b3TIZAlr2LE9qLMbqhqkCzaT2caQdEY2KcZemx6Pm7uRGh63T+e3tAMqnDMDZzfTB3lr0AIzUiBuJxMmFErPEM6Lq/8zdPzu9465ILSg9FiUCWJCuSxiqS2v/NC0HL0ZITwsqPG7wcLfUS3vn5k9N1CRcXEbOWFnNpTZYGoTfi/JIh65KjpUXmyfV6xCwFQoPswpQAszAez/uN//FRgKbR/5NlgnJZmHPsYPVY5PyNRkC9Tr+zlF9JEjdyffR6tAy8vQDj69cG/vpXAcnk9DFpIU0Bsjy/ZA0t9TJbzu9465ILUg/ZXgpeEABRnF8ePng5AYCwhuMGL0f/hHd+fuQaDQk3N7SRjdXxcPI37E1w/nHXJQdfcvf31pYhkQCSScHTPURrVHnfp5MERIJ0mr4gTZ9fsHoscv6cKb9AoSAAEDdufbCYyMeP9HskAnMnsrMzu1omNa7GXEMsCML42PPbY/gZb11yQeqxBYl9HEGi0wE+f7ZyMHI54PBwjRNaMmiQ3V4O/3lB9mbTSUAslzcn28md8nt2tjnpynawFF+7EaFkw+e3SObwB561xWFCVWmW1uMj3cJuc5YWQ63mrIf1nEwedwfEnR2CTCaY+a0CzpTfzaoJxjDNiPz8M2esrwIb+N7BsSzc31vEQ0EgY5fWeue0TNB+G9b35zLZaQdE63upRDbqjd6+G9nEKr+zjAhP8V0N+I6EA8Ak8TCT0XB4+OQOTBuFTofWxAIWY7Kz0jEAEI9vFgGx3wceHujnTazy2+tRtjo3IuvFBr03cSwLzKXF3DORiIH9fXW9k1oB7Ez2eJw8i8k+GFjGCKDFGTeNgLipVX5Ziq8zsM6NyDrADQmHw6UlisDeno54fLudypNMdvKsIHutZvnfIxHavGpTMBpZnSAlidZQ2xR4MdbfvAH++lduRNYBzmx/4cz2bhf48MF6n8hmDezuatD15TOply03iwBHe7JbnI9k0pjJWKfHdTLbVVVAq+UkIMZiZK0M/acct1oVMRxS2WzWQD4PxzkI6/ro9+k9y4yIohC8fk3wl78sxljnzPbnj8eZ7S9YD9rxUDR9/JEIwckJ1WEVTOply03TwzCAuzuL42Ex2WfvwtzMdtoBkRkjakjY4lwHQ/8px6Upv1blAnbdJw1JuNZHv+8swKgoxOxsuChjnTPbnz8eZ7ZvIHM3KLm7O+DrV/qZEQ93dgQMBstnUq9GzlsPWi7e0juToffgNMa6BYvZrmlAs2nfyWGc8iuuTI/nj0fQbMJk8ycSwP6+AEly6h+29cEC6/baWefnwTHWObP9+eNxZvuGMXeDkqMuLev/cjng6IhdByYfVsb6YoxwZ5CdlYv3c/9ZzPZWa7IDIvv9uhj6Tzmu/RzQlF+vygXhWR9ejHXqzgqOsc6Z7c8fj6f/vkCwLC3LpbX9xEOGaeXin0JY03Vnyu/ODh1nU9DvA4+P9KEQjYa/coEXT+TNG8pY5z3WwwFuSF4gqlWYVVGtWlrrndOqEERPdtoB0fq+u7tZJUUqFWFjUn6nGZG//pUz1sOEDbr9OYIA61vNQF1a65vPKhEUk32TCYijEc1YA8Kf8jvLiPAU33CB70heEFSVNvp5iS4twMlkF8XnMdmHw80mINZqziq/YeW90OwsbkQ2BXxH8oJQqwEXFywgTH3jL8WlBUwLsj8NjYaTgFgoBDO3VUDXMRFkD6NLjqX4MiOiKMDr19yIhBkhvI04lgGvLK0wuzWCxmjkDLJns08vF+/ugFgqYaOCva2WtZtKJAh2d9c7Hy9Y2VmMbEh3Iv/8z9yIhBmhYLY/jagUDka4F8LKbNc04P170eyAF4kQnJ5O7yXu/3qEW86uR7XqZLKnUtbOgl43Jj8dDw9wdEAsFr3P4TL1WGS821vrvfH4WEckIs5k8696fQwGAj58EGxGhDHW4clY3wYi3zrlAiUkGoZu+wHxRa0PXo6VSFn1cYOVsxZ8uOZ3dyeYbUcFgeDwkPYSn/4QedqDax7WJcf00HVjgsmuKJYRcJc+8YKu01a6DNksppZVWZYei1yPwQB4eLBeJHZ3jbH87PFWtT4sxjolvSkK67GuexoRelx9rMO8+QUr57e0yLrmtw49ZEmy2IqCYMAwBNj/zQtBy1nM9tUeN3g5xtwNz/y6XeDTJ/sDkIyztKZ7NVWVMqnnM5DpG01Y5Zge/b5oMtm9e7LP7sUO0Da6w6HFhi+XMfX4y9JjkfHu750pv5lMeNZHv0/T0e21s87PDfzzPwtIJqePaRiArhNfzOwg5Z7CCF/H/NahB2e2h4S5uww5TaPpk/ZaWqenBIIw7wZjf4eVsf40RnilYsl59WSf1YsdoAvJ2QERyOW8+7ovU4/njkdTfulnmvJLjWYY1geLibD4HQ2s+2esS5I/pneQck9hhK9jfuvQg6f/bjHu7y3iIc3SenlMYFVdPMju7oBIdyPBzG8VqNWoawugSRZhyTTzMiKMsf6Ssgm3ATxra0vhJh5ms+EvhbEMPD7KJpNdlp+X+cPe5gHaAGuTCIhhTfmdZkR4dtZmIgS3FEfQoFlazlpar16td07rgGEA9bq16c5kaG2pp2A4pERGhlKJPHmMdcKZ8otQpPxyI7J94K6tLcSkS4sSD+c1bto29HpAr0d9UM/tyV6tWuctEiEoFDaruNPtrfWZVvld730wGAi4uOBGZNvADcmWwcul9ZKIh3ZUq1YggwbZn/b70QhoNq3vhcLz+rqvC/0+5b4AdCd2cLDu+Qj4+jWKy0v6nRuR7QE3JFsE7tKyMBoBj4+WIXlOkJ0SEOlnWaZM9k3C7S1cKb/rm0u/D3z5ouDykmZicSOyXZCvr6/NL4zp6CcdLEi5VquF4XAI+1xWcdyg5YbDIXRdR8fuVF/h/EajAj5/Zq/MBmKxBgYDK2OHEdrmjTcajaDrBgaD/kw5v+OtQ67d3oGqsmCGCsPo4vHRW5Yx2508EhkPD1bqkKJ0MBr1UK+vXt/nXQ8FtRqzHBok6R7X19Qtt/r1EUe9nsfFBUvnHSEavUOxOML9vbMiM9ODEAOSNPs9d11yvV4Pmqahad+uhmh+69BDKBT+3XT6shIR0/LjlyXX6/WgqhoymdmNEdY1P79yjAEqy7Mv4DLmNxxK6Ha/A0DLuSYSQ8jyry45jMebOZzvB5zf8VYtR4iAdvsVAHo/RaNtyPKdtzC8z/NgkICuH4z/nSCVugJQX6keDM+5Hr1eBppGt6PxeA+JxP8FY72vcn0MhyI6nT0AbwEAkqQjn3+ALP+/ANoT8pYexMdx1yOn63SdK8q8db6e+a1DD/lPf/rR/MJKlYjiPKZjsHKfP39Co/EA+1xWcdyg5QaDHjRNRyo1e68e9HFHIwPv30fQ7dLdSCQCnJ0RxONvJ8YjZDoj2xpvCE0zkEjE587Pz3irlmu3BbTb9FwIAsHubhSx2PSmK+4HtWEAl5eK6RZKpQjevMkDyK5F36deD0DEb79FTbfc+bmEvb0/OeRWsT76feDrVxmdDr0WikJwcDDAjz/KiMf/MkePML/JdzAaqchmZ7fFfEl6yPZdwLoUikajkGV57o4k7BdGUSRfO6ugj3t9zWpJWVlaxWJsynhkbikLSZKgaTqSc6LTfsdbtdzNjfU5FjOQzUZmvvW7H+jtttWzAwD29kTs7CTXpu9Tr0erJZkdHBMJ4PQ0ilgs6pJb7vro94GLC+Dqin5XFODkRMMf/zjE8fFsIo6u6yDEgCzPZravS67VUjAajVAszmZ2viQ9eLB9w+EuD/+Ss7QAGmR39lM35paE3pNO5AAAEFlJREFUccNJQNysDoiAd8rvKtHv08xBZ9kT4I9/HEJRXlgO+gsBNyQbDKuWFqvqCpyfr3lSa4a9J7ssEySTOoDZb2Z2uAmI5fLTSYzrBK3ySz9HIqtP+e33vWpn0ewswDCvDcd2gTPbNxjVKvDpE/1My8NvVqOloGEYznIgOzsGFP82BAA1RBYBMbytaKehUrGq/O7vrzbllxkRxmOyG5H0bG8vx4aD70g2FN0u5YwwZLMEx8dPJEpsGew92QWBGpKnQFXhSBEuFjfLMKsqUKvRe4BW+V3dsVkp+HlGZF4mEcdmgu9INhCTxENaHv6lo1KxPicStJ3sU9BobDYBsV4XMBzSB3U2u7rdVL9Pe4nMMyKiKCC26oANx0oQ2I6k3W6jPX4djEajyOVyEASa07/pYD0UNE3Fw8MjVFUFAORyOcTj01MyDcPAw8MDhuMUIOu8CAudl2rVWUvr4MBfeXiqhwBd19Bud6CNn5o7OzuI+gwEGIaBTqeDeDwOWZZM7sIq4a1HBI2G9dSaxmQfjUboj1OaRFFCIhGHKIrQNGLGFtjvl+0WWuR69Ho99Ma17SORCBKJFO7uLIVXVeWXdjYEPnyweqxPc2dFIhHIsoJ2uw1N05DLzU47XTd0XUe9XkMul4OiRGbK3d/fm/dVPB5HuVyGKIrQ9fW/4PnVw/2b+/t75HI5RKMRzw6Vdjy7ZztA2ayCIKDf7+Pz589ot9sQRdoB7fz8HIVCAaLIWjpOHy/MPdvZVpwQ4O7uDpeXVyCEQNM0FItFvH79GpFIxGT3UiNBP1erVVxfXzsMiaZpKJVKEEVL7inz6/UE/P679cDIZAgODub3irfr0Wg84P6+CtqGVkcmk8HBwQEURbHNyRqP/VYQBHS7Xfz++we8efMG6fQO/F234HqYT9Oj1UpCVemTi5aLt84tuy6DwQDNZgvdbsdsppbLZZFOpx0pv6Lo3Y99FXpMvx6WHsPhELe3t+j1ehBFEaIoIZs9RbtNX2ricYJyeXrr4KDWx2Ag4ONHwWZECF69Ivj5Z+oS1HXLWAqCAEVR0Ol08Z//+Z+IxWL4+eefTf3sy2CdPcxZO2Zd13F9fY3/+q//xL/8y78gk1HMeVIWv2Cuuevra/z+++8OQ6KqKg4PDyFJ4lhu/jpfhx72nu2ssoMgCKjX6/j3f/93/Ou//iv29vYACPN6tlOjQCfqv0czAEgSPUFfv34FIQR//etfoSgKvn79is+fPyOVSiEajZj57bNOUBh7nQN0JyKKIjqdNi4vr3B+fo5yuYx+v4f/+q//D3d3dzg6OjIvHm1HSTAYDPDhwwe8ffsW5XIZAHB/f4/ff/8dOzs7iMfj4xts+rHd89M04LffRNRqNJ2VurQM2K/hbD0E9Ps93N9XcXBwgFwui+FwiA8fPuLh4QGlUsl2nawHoSiKEAQBqqri/v5+olTHKnu7e+mRyWTxt7/pGG8UzZ7s7Dvr216r1QAIOD09hSRJaLVaqNXqiMUSaDSsN7VUCshmJ/uxL1uPWdeDLnL6AKjVatB1Hd999x1kWcbd3R0uLjRz7JMTgkhEn2FIFl8fNCYi4sMHq8f6+TnBzz87e6wLAuXBEELQaDTw8eNH/Pbbb/jhhx8AAKxnuNOQrKeHuSAAsixhMBjg4uIC//jHP8yXQDqOYZ4Tyqkg6Ha7+Nvf/oYff/wRJycnAICvX7/ib3/7G7LZLHZ2dmAYsx/+69TD2bOdPusGgwF+++03tFot8zfznlWynVX7lB7NrDXucNhHrVbD999/B2WcIrO/v49KpYJms4nd3d25W+xw92wXTAsdj8dRGLeXi8cTODs7xfX1Dfb39yFJ0ngcMnaD0a27ffueHdcx7/f7SIzLyM46tnt+9/fAxYVFPDw4ANJpAYYhYn7vb6pHq9VCLBZFOs3Kh0Sxt7eLer2GfL4ASaI7Sl03bOMJMAwdtVodhFDd6RzomLN6nVO5IHuYT+rR6QDdLjuPBnZ2iPkCIAj082jUR6/Xx9HRkXk+k8kker0+ul0y0QFRUSbnsGw9gOnXwzBoK1tdN9Dr9ZDNZs1SPIlE3uwnH4kAh4ez7+lF1wctwAjXTsTA//7fAlIpyTUGNZrdbhd///vfIQgCjo6ObP8vTLhI19HDnLlBCaGG4O9///v4OjTMeUqSCFGk+kiSaK7zvb298Vs7BXtx7Ha7SKfT5otYGPVgPdvp7wRomopPnz7BMAzz2UXX+Gwdnt2znY05HNLE8EjE8ukqioJ0Om36cDe9ZzshBL1eD4lEwrGoUqkUNE2FpqmQZRmCIEDTqNVOp9P4/vvvHeNomgZd1x1bSLYFnTc/L+LhyQk7b/56fxNCd0rRaNTxkEsk4ri706HrGmQ5as6JjUcIQbPZRLvdwsHBgbmFt+a52l7sbj3sQXZJGiEeF8ckRMG8T1VVg6IoEEXRLFInSRJKpSK+frWuaTwOFAre/diXrQeD1/Ww7+hlWcZgMIRh0D7ad3cCCKE67O0RZLP+76vZekzKsZiIPbBOdyIG0unpudbD4RCFQgF/+MMf8B//8R+2Y7B72Hle1tPr3DCvyb/9279BFAX8n//z/9jmKpquOrbO8/k8/pmSZEyMRiNommYej71whVEPe892wzBwc3OD29tb/PDDD3h0VTldas92FiBUPBL27dupTYZhGBiNRuZbox2appvngN5g2oQMlfv/27vWpraRJXokjWUJPbAdDIRygXcTqCJ1K6lUaqlNfsT+3/yF3fthq7a2Fi4EB5MAxuC3jWy97ofxjCS/JPOw2Xu3v6QqjKVpzaOnu8/pcXB1dQVZlqEoCo93JxFGPGSM6/uWh/c8mtuZVGrDdT3uutLJFS5gaOH2toZ8fj1xUv4pJazHYBC9k52QDnyfVu1lpywAcF0Hvu/h7q4XWiACVldfoNMJaqMtkoA4z3iwUJkkichms7i+vka1WgUhKqpV5t0+LeR3Ek/kxx+Bg4P4O9ZzuRwHmjxXYRWM3759CwBoNOpT29pB3HTk/wc4OzuDqqrQNG2udf5YMo8e4QNMu93G6WkJe3t70OMGdET+4ZEsQBzHweUltfR7e3tQ1RX4Pg0PJpHr6zDxMLjx8CmFuc+u6+Dm5gaKosA0zbE46bL3hTCTXZJ8EHIHIDAk4ZCJNayn/8PQCrfbbZTLDs8lpFLPmYAYeIeEEBiGgWq1inZb5yADw3CwtjZfOZikMs2I/PwzTawnQe8tY1OdR3yf5iHiqndPE9seoFQq4fT0FB8+fICu68OQ5KINSXI9WCTJtgc4Pj6GaZrY2toaM5RxOjwYIMhOrpMSMXEx2L+TUIjouLdB3cPAhR2NizMjUi6fY2dnhydQZ4EPwsLut2by0FpaFJI4PlbM1Q30kIbvp8lgQiQ0GnXUajUMBgM0m00eulyG0PHwxpjskuRgmoE2TROmGWB6ZVmD5wVe5jIIiEnGAwgM+2Bg49u3bxBFEfv7/4KiFHmbbLYFSXr8TWuWEZmHsZ50zi9X4vvI8lZhYUbkr78Osb+/zwE4y9M5/r2EEMgyBZnUajUcHx8jnZZRLpdxdnaGXq+Hi4sLNBqN2APjvT0S36eTnVm0fn8ARaHwQxYKWnu+x7u5RJIkrKysoNfrRU5Vg4ENWU7xsJ4kSRHCFTMi379fYGdnJ5Rk9BOd4GhIS3xwSCvQQ0Q6nYZlWRE9HMcBIYRXbw0bQ9f1kE7LPFlHL9Dqo1a7haoqHDSwSGF6dDpehMm+sjLA3V2wyFksmP1mdGE3GhSoAFDI8DBHujBJPh7BpmVZFmzbQS6XQ7sdMPkJsUHILYDHrTBpWdQbfqgR+V8SRVH4BgwERuTk5Av29/ext7c3/MsyDUm8pNNp7gjYtgNd11EqfQVA9/But4tSqQTDMDhQaJo8wJDQD8Ri/o1GA4Zh8GRmt9vFzs7Os3dnk4ppmjg/P0ev14OmaXAcB5VKBZqm84VOMf1B4ur6uoLv3y/w6tUr5EM0aYooii/fUa0CX79Gy8M/NKSlaRoqlQosqw9VVeC6Lmq1OlRV5fdJhJOrmUwmMols28bh4RG2t7exumoubXw1TYtUuVVVD47ThCwrvP/h5KCqqmi1WhgM+iBkBY6DhRMQJ0mS8QjrIUkSh2heXgZ5yXT6Epr2uBGASYz1/3cjAgCSRMBsu+u6KJfLOD4+wbt370YQaeJCSKH3lfABpVAoRPpuWRY+f/6Mg4MDvHz5MnadPyBHQg1JKpXC9vY2SqUSRFEEIQTVahVra2vDhE1Ajvm7iu/7yOVyqFQqKJfLyGQysKw7NJtNvHnzhuPkW60WZFmGqqrodrs4PDxCPp8feibBrpfJZGYy4oHHD2kxPQzDGBLgKtB1HYNBH51OF8VikZ/ae70eCCGJEuvLSiYqigHLCiOZ2rAsC5ubm1wPy7IgSRJkWUYqJUPTdM6qtiwV/T7diEURyOcXP0/vMx6qqiKTWUWl0kStRkECgjCAqtaxtvbDo40HNSLUIwb+MSJMPM9DrVaDoijQdR3NZhO//fZvFAoF2LaNEis5ASCfz8+dtF6UjOoRJ5RPNP2gcm9mO2snCALy+Twsy8L5+TkAulEWi0WIojhMNiVhYj5PZjsTQgh2d1/j6Og/fLLs7u7CNE3OcL25uYFpmlBVFZZlQVGUSOkYJru7uzwENsn1pbW0RF4ePpXyUSzOYion+34APYUUCls4P//GjVuhUICmrXAGbqPRgKZp3H0Pb06CIMAwDBBCeKhokcx2JvW6BFZmhhDA9ztYX1+Dqipcj263C0VReOgxm82iXq+jWr1Bp7MBVl5e131ks5QzsWg95h0PURSwufkSf/zR4qS/TKaPn37ahaKoieLycfO+3xdwciKEjAhlrB8cBIz1Sc9LwswWRRGrQ9dvEqt93uc9RTuWICckhY2NDRCS4t/U931cXFwgl8tB13UeoajX66jXo+io9+/fc+TWrCFZth7hPrLcnCiK2NjYQDqd5uz3WWWdhF9+sf1RZnv8zW6sHRnG08dx0rRjVOm4A9Lh4RFqtVt8+vQp4XuT9u9x2jEcOI25B8qEWeCjp9k43DgrG0PRW1G5uhLw669k+BxakHFraxYzlm5ccfjyQA8hoR7UeNFNhxEP6W8DI+KO6X7f/iVt5/sC/vxTRKtF3/viBVAozNaDCu17ux2g4ADg9WsP6+vxm/5j63Gf8QAA2xbw++8CLIt6Ux8/Auvr4fGI12PavKc5kShjnRoRdyoQgTGu41BCjkNziuymPbY/jJYPSfq8p2ony2T4baJzHRhf10nWuefFlUhZth4+HwdWiYDNSXZQdBx7tkdyX2Y7bRe34Om/cc973sz24ArTyXMmmCCu68LzvImcmsgvhgNK9Y6+u9cDvnyJ1tKiIa3p3zop45puINNCH1E9KMxUGsZ4Jz+Xjm/8PHhcRjjQbvvciAjCaG4j0CO4ylYM/U2I3KCoKAArPrBoPe4zHgCt+jxEMiObjVYp9v0A4TW9f5PnvWWNM9aLRQ8fP44z1qN6JGNmW9YdXNeFYQTrg+YV7/e8p2o36Y76MJTccRx4nhshYU8StgmLojQzV7J8PeTIOIxOR2p8xJnv/S+47KgbM1HTfQAAAABJRU5ErkJggg==)"
   ]
  },
  {
   "cell_type": "code",
   "execution_count": null,
   "metadata": {},
   "outputs": [
    {
     "name": "stdout",
     "output_type": "stream",
     "text": [
      "y*=[0.  0.  0.4 0.2 0.  0. ]\n"
     ]
    }
   ],
   "source": [
    "# solve dual with B^{-1}^Tc_{BI}\n",
    "y_sol = np.linalg.inv(A[:, basic_var]).T @ c[basic_var]\n",
    "print(f\"y*={y_sol}\")"
   ]
  },
  {
   "cell_type": "code",
   "execution_count": null,
   "metadata": {},
   "outputs": [
    {
     "name": "stdout",
     "output_type": "stream",
     "text": [
      "x_B = [9, 10]\n",
      "[[ 0.  0.  0.  0.  0.  0.  0.  0. -1. -1.  0.]\n",
      " [-3.  1. -2.  9. -5.  7. -1.  0.  1.  0.  1.]\n",
      " [ 2. -1.  7. -4.  2. -3.  0. -1.  0.  1.  2.]]\n",
      "Cost corrected\n",
      "x_B = [9, 10]\n",
      "[[-1.  0.  5.  5. -3.  4. -1. -1.  0.  0.  3.]\n",
      " [-3.  1. -2.  9. -5.  7. -1.  0.  1.  0.  1.]\n",
      " [ 2. -1.  7. -4.  2. -3.  0. -1.  0.  1.  2.]]\n",
      "Start phase One\n",
      "x_B = [9, 3]\n",
      "[[-2.42857143  0.71428571  0.          7.85714286 -4.42857143  6.14285714 -1.         -0.28571429  0.         -0.71428571  1.57142857]\n",
      " [-2.42857143  0.71428571  0.          7.85714286 -4.42857143  6.14285714 -1.         -0.28571429  1.          0.28571429  1.57142857]\n",
      " [ 0.28571429 -0.14285714  1.         -0.57142857  0.28571429 -0.42857143  0.         -0.14285714  0.          0.14285714  0.28571429]]\n",
      "x_B = [4, 3]\n",
      "[[ 0.         -0.          0.          0.         -0.         -0.         -0.         -0.         -1.         -1.          0.        ]\n",
      " [-0.30909091  0.09090909  0.          1.         -0.56363636  0.78181818 -0.12727273 -0.03636364  0.12727273  0.03636364  0.2       ]\n",
      " [ 0.10909091 -0.09090909  1.          0.         -0.03636364  0.01818182 -0.07272727 -0.16363636  0.07272727  0.16363636  0.4       ]]\n",
      "Delete artificial variables and create a new tableau [8, 9]\n",
      "Start phase two, put original cost\n",
      "x_B = [4, 3]\n",
      "[[ 1.         -1.         -6.         -6.          3.         -6.          0.          0.          0.        ]\n",
      " [-0.30909091  0.09090909  0.          1.         -0.56363636  0.78181818 -0.12727273 -0.03636364  0.2       ]\n",
      " [ 0.10909091 -0.09090909  1.          0.         -0.03636364  0.01818182 -0.07272727 -0.16363636  0.4       ]]\n",
      "Cost corrected\n",
      "vertex = [0.  0.  0.4 0.2 0.  0. ], x_B = [4, 3]\n",
      "[[-0.2        -1.          0.          0.         -0.6        -1.2        -1.2        -1.2         3.6       ]\n",
      " [-0.30909091  0.09090909  0.          1.         -0.56363636  0.78181818 -0.12727273 -0.03636364  0.2       ]\n",
      " [ 0.10909091 -0.09090909  1.          0.         -0.03636364  0.01818182 -0.07272727 -0.16363636  0.4       ]]\n"
     ]
    }
   ],
   "source": [
    "# dual\n",
    "A_T = np.array([[-3., 1., -2., 9., -5., 7., -1, 0, 1, 0],\n",
    "                [2., -1., 7., -4., 2., -3., 0, -1, 0, 1]])\n",
    "\n",
    "b_artificial = [0, 0, 0, 0, 0, 0, 0, 0, -1, -1.0]\n",
    "# min <b.T, y> = -max<-b.T, y>\n",
    "b = np.array([1, -1, -6, -6, 3, -6., 0, 0])\n",
    "\n",
    "c = [1, 2.]\n",
    "\n",
    "basic_var = [8, 9]\n",
    "artificial_var = [8, 9]\n",
    "\n",
    "tableau = build_tableau(A_T, c, b_artificial)\n",
    "two_phases(tableau, b, basic_var, artificial_var);\n"
   ]
  },
  {
   "cell_type": "code",
   "execution_count": null,
   "metadata": {},
   "outputs": [
    {
     "name": "stdout",
     "output_type": "stream",
     "text": [
      "x*=[-1.2 -1.2]\n"
     ]
    }
   ],
   "source": [
    "# solve primal with B^{-1}^Tc_{BI}\n",
    "x_sol = np.linalg.inv(A_T[:, basic_var]).T @ b[basic_var]\n",
    "print(f\"x*={x_sol}\")\n"
   ]
  }
 ],
 "metadata": {
  "kernelspec": {
   "display_name": "Python 3.10.4 64-bit",
   "language": "python",
   "name": "python3"
  },
  "language_info": {
   "codemirror_mode": {
    "name": "ipython",
    "version": 3
   },
   "file_extension": ".py",
   "mimetype": "text/x-python",
   "name": "python",
   "nbconvert_exporter": "python",
   "pygments_lexer": "ipython3",
   "version": "3.10.5"
  },
  "orig_nbformat": 4,
  "vscode": {
   "interpreter": {
    "hash": "590f4a299ae404e723bbc5f32e9a7b98b836c3c65ce9112bc934ac92a06ceee3"
   }
  }
 },
 "nbformat": 4,
 "nbformat_minor": 2
}
