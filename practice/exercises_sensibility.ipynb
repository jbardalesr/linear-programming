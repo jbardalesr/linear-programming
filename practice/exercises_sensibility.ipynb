{
 "cells": [
  {
   "cell_type": "code",
   "execution_count": 1,
   "metadata": {},
   "outputs": [],
   "source": [
    "import sys\n",
    "sys.path.insert(0, \"..\")\n",
    "\n",
    "import matplotlib.pyplot as plt\n",
    "from algorithms.simplex_algorithms import *\n",
    "import sympy as sp\n",
    "import numpy as np\n",
    "np.set_printoptions(suppress=True, linewidth=np.nan)\n"
   ]
  },
  {
   "cell_type": "markdown",
   "metadata": {},
   "source": [
    "Util"
   ]
  },
  {
   "cell_type": "code",
   "execution_count": 2,
   "metadata": {},
   "outputs": [],
   "source": [
    "def pivoting_symbolic(tableau: np.ndarray, row: int, col: int) -> np.ndarray:\n",
    "    # escale pivot row min to 1.0\n",
    "    tableau[row, :] = tableau[row, :] / tableau[row, col]\n",
    "    # pivot proccess: convert al column to zero except row\n",
    "    for k in range(tableau.shape[0]):\n",
    "        if k != row:\n",
    "            tableau[k, :] = tableau[k, :] - tableau[k, col] * tableau[row, :]\n",
    "\n",
    "\n",
    "def correct_symbolic_cost(tableau: np.ndarray, basic_var: list[int]) -> None:\n",
    "    # correct basic variable cost with value distict of zero\n",
    "    for index, col in enumerate(basic_var):\n",
    "        row = index + 1\n",
    "        tableau[0, :] = tableau[0, :] - tableau[0, col] * tableau[row, :]\n",
    "    print(f\"Cost corrected\")\n"
   ]
  },
  {
   "cell_type": "markdown",
   "metadata": {},
   "source": [
    "Delta range"
   ]
  },
  {
   "cell_type": "markdown",
   "metadata": {},
   "source": [
    "\\begin{aligned}\n",
    "&\\delta_{\\min }=\\max \\left\\{\\frac{\\left(\\mathbf{c}_{N I}^{\\top}-\\mathbf{c}_{B I}^{\\top} \\mathbf{B}^{-1} \\mathbf{N}\\right)_{j}}{\\left(\\mathbf{B}^{-1} \\mathbf{N}\\right)_{\\beta, j}} \\mid\\left(\\mathbf{B}^{-1} \\mathbf{N}\\right)_{\\beta, j}<0, j=1, \\ldots, n\\right\\} \\\\\n",
    "&\\delta_{\\max }=\\min \\left\\{\\frac{\\left(\\mathbf{c}_{N I}^{\\top}-\\mathbf{c}_{B I}^{\\top} \\mathbf{B}^{-1} \\mathbf{N}\\right)_{j}}{\\left(\\mathbf{B}^{-1} \\mathbf{N}\\right)_{\\beta, j}} \\mid\\left(\\mathbf{B}^{-1} \\mathbf{N}\\right)_{\\beta, j}>0, j=1, \\ldots, n\\right\\}\n",
    "\\end{aligned}\n",
    "\n",
    "$\\delta \\in[ \\delta_{\\min },  \\delta_{\\max }]$"
   ]
  },
  {
   "cell_type": "code",
   "execution_count": 3,
   "metadata": {},
   "outputs": [],
   "source": [
    "def delta_range(tableau, non_basic_var, beta):\n",
    "    # Input: tableau, non-basic columns, j = 1,...,n, and row for division. Page 204\n",
    "    # Output: range of delta for basic variable perturbed [𝛿_min, 𝛿_max] \n",
    "    delta_min = -np.inf\n",
    "    delta_max = np.Inf\n",
    "    row = tableau[beta + 1, non_basic_var]\n",
    "    for i, element in enumerate(row):\n",
    "        if element > 0:\n",
    "            delta_min = max(delta_min, tableau[0, non_basic_var[i]] / element)\n",
    "        if element < 0:\n",
    "            delta_max = min(delta_max, tableau[0, non_basic_var[i]] / element)\n",
    "    return [delta_min, delta_max]"
   ]
  },
  {
   "cell_type": "code",
   "execution_count": 4,
   "metadata": {},
   "outputs": [],
   "source": [
    "delta = sp.symbols(\"\\\\delta\")"
   ]
  },
  {
   "cell_type": "markdown",
   "metadata": {},
   "source": [
    "## Linear and Integer Optimization: Chapter 5 Sensibility Analysis"
   ]
  },
  {
   "cell_type": "markdown",
   "metadata": {},
   "source": [
    "#### Perturbing objetive coefficients "
   ]
  },
  {
   "cell_type": "code",
   "execution_count": 5,
   "metadata": {},
   "outputs": [],
   "source": [
    "A = [[1, 1, 1, 0, 0, 0],\n",
    "     [3, 1, 0, 1, 0, 0],\n",
    "     [1, 0, 0, 0, 1, 0],\n",
    "     [0, 1, 0, 0, 0, 1.0]]\n",
    "\n",
    "b = [9, 18, 7, 6.]\n",
    "\n",
    "c = lambda delta: [delta + 3., 2., 0., 0., 0., 0]"
   ]
  },
  {
   "cell_type": "markdown",
   "metadata": {},
   "source": [
    "##### Perturbing the objetive coefficient of a basic variable $x_1$ from óptimal tableau "
   ]
  },
  {
   "cell_type": "markdown",
   "metadata": {},
   "source": [
    "$\\mathbf v = (4.5, 4.5)$ óptimo"
   ]
  },
  {
   "cell_type": "code",
   "execution_count": 6,
   "metadata": {},
   "outputs": [
    {
     "name": "stdout",
     "output_type": "stream",
     "text": [
      "Simplex process\n",
      "vertex = [ 0.  0.  9. 18.  7.  6.], x_B = [3, 4, 5, 6]\n",
      "[[ 3.  2.  0.  0.  0.  0.  0.]\n",
      " [ 1.  1.  1.  0.  0.  0.  9.]\n",
      " [ 3.  1.  0.  1.  0.  0. 18.]\n",
      " [ 1.  0.  0.  0.  1.  0.  7.]\n",
      " [ 0.  1.  0.  0.  0.  1.  6.]]\n",
      "vertex = [6. 0. 3. 0. 1. 6.], x_B = [3, 1, 5, 6]\n",
      "[[  0.           1.           0.          -1.           0.           0.         -18.        ]\n",
      " [  0.           0.66666667   1.          -0.33333333   0.           0.           3.        ]\n",
      " [  1.           0.33333333   0.           0.33333333   0.           0.           6.        ]\n",
      " [  0.          -0.33333333   0.          -0.33333333   1.           0.           1.        ]\n",
      " [  0.           1.           0.           0.           0.           1.           6.        ]]\n",
      "vertex = [4.5 4.5 0.  0.  2.5 1.5], x_B = [2, 1, 5, 6]\n",
      "[[  0.    0.   -1.5  -0.5   0.    0.  -22.5]\n",
      " [  0.    1.    1.5  -0.5   0.    0.    4.5]\n",
      " [  1.    0.   -0.5   0.5   0.    0.    4.5]\n",
      " [  0.    0.    0.5  -0.5   1.    0.    2.5]\n",
      " [  0.    0.   -1.5   0.5   0.    1.    1.5]]\n",
      "Perturbation\n"
     ]
    },
    {
     "data": {
      "text/latex": [
       "$\\displaystyle \\left[\\begin{matrix}\\delta + 3.0 & 2.0 & 0 & 0 & 0 & 0 & 0\\\\0 & 1.0 & 1.5 & -0.5 & 0 & 0 & 4.5\\\\1.0 & 0 & -0.5 & 0.5 & 0 & 0 & 4.5\\\\0 & 0 & 0.5 & -0.5 & 1.0 & 0 & 2.5\\\\0 & 0 & -1.5 & 0.5 & 0 & 1.0 & 1.5\\end{matrix}\\right]$"
      ],
      "text/plain": [
       "Matrix([\n",
       "[\\delta + 3.0, 2.0,    0,    0,   0,   0,   0],\n",
       "[           0, 1.0,  1.5, -0.5,   0,   0, 4.5],\n",
       "[         1.0,   0, -0.5,  0.5,   0,   0, 4.5],\n",
       "[           0,   0,  0.5, -0.5, 1.0,   0, 2.5],\n",
       "[           0,   0, -1.5,  0.5,   0, 1.0, 1.5]])"
      ]
     },
     "metadata": {},
     "output_type": "display_data"
    },
    {
     "name": "stdout",
     "output_type": "stream",
     "text": [
      "Cost corrected\n"
     ]
    },
    {
     "data": {
      "text/latex": [
       "$\\displaystyle \\left[\\begin{matrix}0 & 0 & \\frac{\\delta}{2} - \\frac{3}{2} & - \\frac{\\delta}{2} - \\frac{1}{2} & 0 & 0 & - \\frac{9 \\delta}{2} - \\frac{45}{2}\\\\0 & 1 & \\frac{3}{2} & - \\frac{1}{2} & 0 & 0 & \\frac{9}{2}\\\\1 & 0 & - \\frac{1}{2} & \\frac{1}{2} & 0 & 0 & \\frac{9}{2}\\\\0 & 0 & \\frac{1}{2} & - \\frac{1}{2} & 1 & 0 & \\frac{5}{2}\\\\0 & 0 & - \\frac{3}{2} & \\frac{1}{2} & 0 & 1 & \\frac{3}{2}\\end{matrix}\\right]$"
      ],
      "text/plain": [
       "Matrix([\n",
       "[0, 0, \\delta/2 - 3/2, -\\delta/2 - 1/2, 0, 0, -9*\\delta/2 - 45/2],\n",
       "[0, 1,            3/2,            -1/2, 0, 0,                9/2],\n",
       "[1, 0,           -1/2,             1/2, 0, 0,                9/2],\n",
       "[0, 0,            1/2,            -1/2, 1, 0,                5/2],\n",
       "[0, 0,           -3/2,             1/2, 0, 1,                3/2]])"
      ]
     },
     "metadata": {},
     "output_type": "display_data"
    }
   ],
   "source": [
    "basic_var = [2, 3, 4, 5]\n",
    "\n",
    "tableau = build_tableau(A, b, c(0))\n",
    "print(\"Simplex process\")\n",
    "opt_tableau = simplex(tableau, basic_var)\n",
    "opt_tableau = sp.Matrix(opt_tableau.tolist())\n",
    "opt_tableau[0, :-1] = sp.Matrix(c(delta)).T\n",
    "opt_tableau[0, -1] = 0\n",
    "print(\"Perturbation\")\n",
    "display(opt_tableau)\n",
    "\n",
    "correct_symbolic_cost(opt_tableau, basic_var)\n",
    "display(sp.nsimplify(opt_tableau, rational=True))\n"
   ]
  },
  {
   "cell_type": "markdown",
   "metadata": {},
   "source": [
    "$${(\\mathbf c^T_{NI} - (\\mathbf c^T_{BI} +\\delta \\mathbf e_{\\beta})B^{-1}N)}_j\\le 0 \\text { for } j=1,...,n$$"
   ]
  },
  {
   "cell_type": "code",
   "execution_count": 7,
   "metadata": {},
   "outputs": [
    {
     "name": "stdout",
     "output_type": "stream",
     "text": [
      "Tolerance 1: from tableau corrected\n"
     ]
    },
    {
     "data": {
      "text/latex": [
       "$\\displaystyle \\left[\\begin{matrix}\\frac{\\delta}{2} - \\frac{3}{2} & - \\frac{\\delta}{2} - \\frac{1}{2}\\end{matrix}\\right]$"
      ],
      "text/plain": [
       "Matrix([[\\delta/2 - 3/2, -\\delta/2 - 1/2]])"
      ]
     },
     "metadata": {},
     "output_type": "display_data"
    },
    {
     "name": "stdout",
     "output_type": "stream",
     "text": [
      "Tolerance 2: apply equation\n"
     ]
    },
    {
     "data": {
      "text/latex": [
       "$\\displaystyle \\left[\\begin{matrix}\\frac{\\delta}{2} - \\frac{3}{2} & - \\frac{\\delta}{2} - \\frac{1}{2}\\end{matrix}\\right]$"
      ],
      "text/plain": [
       "Matrix([[\\delta/2 - 3/2, -\\delta/2 - 1/2]])"
      ]
     },
     "execution_count": 7,
     "metadata": {},
     "output_type": "execute_result"
    }
   ],
   "source": [
    "print(\"Tolerance 1: from tableau corrected\")\n",
    "var = set(range(tableau.shape[1] - 1))\n",
    "non_basic_var = list(var - set(basic_var))\n",
    "tol = opt_tableau[0, :].col(non_basic_var)\n",
    "display(sp.nsimplify(tol))\n",
    "\n",
    "print(\"Tolerance 2: apply equation\")\n",
    "c_ = sp.Matrix(c(delta))\n",
    "B_invN = tableau[1:, non_basic_var]\n",
    "tol = c_.row(non_basic_var).T - (c_.row(basic_var)).T @ B_invN\n",
    "sp.nsimplify(tol)\n"
   ]
  },
  {
   "cell_type": "markdown",
   "metadata": {},
   "source": [
    "Derivative\n",
    "\n",
    "If $\\mathbf c^T_{NI} - \\mathbf c^T_{BI} B^{-1}N < \\mathbf 0 \\text{ (dual solution non degenerate)} \\implies \\exists f'(0) = {(B^{-1}b)}_\\beta$"
   ]
  },
  {
   "cell_type": "code",
   "execution_count": 8,
   "metadata": {},
   "outputs": [
    {
     "name": "stdout",
     "output_type": "stream",
     "text": [
      "f'(0) = 4.5\n"
     ]
    }
   ],
   "source": [
    "beta = 1\n",
    "print(f\"f'(0) = {opt_tableau[beta + 1, -1]:0.1f}\")"
   ]
  },
  {
   "cell_type": "markdown",
   "metadata": {},
   "source": [
    "$\\mathbf v = (3, 6)$ óptimo"
   ]
  },
  {
   "cell_type": "code",
   "execution_count": 9,
   "metadata": {},
   "outputs": [
    {
     "name": "stdout",
     "output_type": "stream",
     "text": [
      "vertex = [ 0.  0.  9. 18.  7.  6.], x_B = [3, 4, 5, 6]\n",
      "[[ 1.  2.  0.  0.  0.  0.  0.]\n",
      " [ 1.  1.  1.  0.  0.  0.  9.]\n",
      " [ 3.  1.  0.  1.  0.  0. 18.]\n",
      " [ 1.  0.  0.  0.  1.  0.  7.]\n",
      " [ 0.  1.  0.  0.  0.  1.  6.]]\n",
      "vertex = [ 0.  6.  3. 12.  7.  0.], x_B = [3, 4, 5, 2]\n",
      "[[  1.   0.   0.   0.   0.  -2. -12.]\n",
      " [  1.   0.   1.   0.   0.  -1.   3.]\n",
      " [  3.   0.   0.   1.   0.  -1.  12.]\n",
      " [  1.   0.   0.   0.   1.   0.   7.]\n",
      " [  0.   1.   0.   0.   0.   1.   6.]]\n",
      "vertex = [3. 6. 0. 3. 4. 0.], x_B = [1, 4, 5, 2]\n",
      "[[  0.   0.  -1.   0.   0.  -1. -15.]\n",
      " [  1.   0.   1.   0.   0.  -1.   3.]\n",
      " [  0.   0.  -3.   1.   0.   2.   3.]\n",
      " [  0.   0.  -1.   0.   1.   1.   4.]\n",
      " [  0.   1.   0.   0.   0.   1.   6.]]\n"
     ]
    },
    {
     "data": {
      "text/latex": [
       "$\\displaystyle \\left[\\begin{matrix}\\delta + 3.0 & 2.0 & 0 & 0 & 0 & 0 & 0\\\\1.0 & 0 & 1.0 & 0 & 0 & -1.0 & 3.0\\\\0 & 0 & -3.0 & 1.0 & 0 & 2.0 & 3.0\\\\0 & 0 & -1.0 & 0 & 1.0 & 1.0 & 4.0\\\\0 & 1.0 & 0 & 0 & 0 & 1.0 & 6.0\\end{matrix}\\right]$"
      ],
      "text/plain": [
       "Matrix([\n",
       "[\\delta + 3.0, 2.0,    0,   0,   0,    0,   0],\n",
       "[         1.0,   0,  1.0,   0,   0, -1.0, 3.0],\n",
       "[           0,   0, -3.0, 1.0,   0,  2.0, 3.0],\n",
       "[           0,   0, -1.0,   0, 1.0,  1.0, 4.0],\n",
       "[           0, 1.0,    0,   0,   0,  1.0, 6.0]])"
      ]
     },
     "metadata": {},
     "output_type": "display_data"
    },
    {
     "name": "stdout",
     "output_type": "stream",
     "text": [
      "Cost corrected\n"
     ]
    },
    {
     "data": {
      "text/latex": [
       "$\\displaystyle \\left[\\begin{matrix}0 & 0 & - \\delta - 3 & 0 & 0 & \\delta + 1 & - 3 \\delta - 21\\\\1 & 0 & 1 & 0 & 0 & -1 & 3\\\\0 & 0 & -3 & 1 & 0 & 2 & 3\\\\0 & 0 & -1 & 0 & 1 & 1 & 4\\\\0 & 1 & 0 & 0 & 0 & 1 & 6\\end{matrix}\\right]$"
      ],
      "text/plain": [
       "Matrix([\n",
       "[0, 0, -\\delta - 3, 0, 0, \\delta + 1, -3*\\delta - 21],\n",
       "[1, 0,           1, 0, 0,         -1,              3],\n",
       "[0, 0,          -3, 1, 0,          2,              3],\n",
       "[0, 0,          -1, 0, 1,          1,              4],\n",
       "[0, 1,           0, 0, 0,          1,              6]])"
      ]
     },
     "execution_count": 9,
     "metadata": {},
     "output_type": "execute_result"
    }
   ],
   "source": [
    "basic_var = [2, 3, 4, 5]\n",
    "\n",
    "tableau = build_tableau(A, b, c(-2))\n",
    "opt_tableau = simplex(tableau, basic_var)\n",
    "opt_tableau = sp.Matrix(opt_tableau.tolist())\n",
    "# no necesito desplazar nuevamente :OOOO y me sale la respuesta sin transformar :OOOO\n",
    "opt_tableau[0, :-1] = sp.Matrix(c(delta)).T\n",
    "opt_tableau[0, -1] = 0\n",
    "display(opt_tableau)\n",
    "\n",
    "correct_symbolic_cost(opt_tableau, basic_var)\n",
    "sp.nsimplify(opt_tableau, rational=True)\n"
   ]
  },
  {
   "cell_type": "markdown",
   "metadata": {},
   "source": [
    "$\\mathbf v = (0, 6)$ óptimo"
   ]
  },
  {
   "cell_type": "code",
   "execution_count": 10,
   "metadata": {},
   "outputs": [
    {
     "name": "stdout",
     "output_type": "stream",
     "text": [
      "vertex = [ 0.  0.  9. 18.  7.  6.], x_B = [3, 4, 5, 6]\n",
      "[[-1.  2.  0.  0.  0.  0.  0.]\n",
      " [ 1.  1.  1.  0.  0.  0.  9.]\n",
      " [ 3.  1.  0.  1.  0.  0. 18.]\n",
      " [ 1.  0.  0.  0.  1.  0.  7.]\n",
      " [ 0.  1.  0.  0.  0.  1.  6.]]\n",
      "vertex = [ 0.  6.  3. 12.  7.  0.], x_B = [3, 4, 5, 2]\n",
      "[[ -1.   0.   0.   0.   0.  -2. -12.]\n",
      " [  1.   0.   1.   0.   0.  -1.   3.]\n",
      " [  3.   0.   0.   1.   0.  -1.  12.]\n",
      " [  1.   0.   0.   0.   1.   0.   7.]\n",
      " [  0.   1.   0.   0.   0.   1.   6.]]\n"
     ]
    },
    {
     "data": {
      "text/latex": [
       "$\\displaystyle \\left[\\begin{matrix}\\delta + 3.0 & 2.0 & 0 & 0 & 0 & 0 & 0\\\\1.0 & 0 & 1.0 & 0 & 0 & -1.0 & 3.0\\\\3.0 & 0 & 0 & 1.0 & 0 & -1.0 & 12.0\\\\1.0 & 0 & 0 & 0 & 1.0 & 0 & 7.0\\\\0 & 1.0 & 0 & 0 & 0 & 1.0 & 6.0\\end{matrix}\\right]$"
      ],
      "text/plain": [
       "Matrix([\n",
       "[\\delta + 3.0, 2.0,   0,   0,   0,    0,    0],\n",
       "[         1.0,   0, 1.0,   0,   0, -1.0,  3.0],\n",
       "[         3.0,   0,   0, 1.0,   0, -1.0, 12.0],\n",
       "[         1.0,   0,   0,   0, 1.0,    0,  7.0],\n",
       "[           0, 1.0,   0,   0,   0,  1.0,  6.0]])"
      ]
     },
     "metadata": {},
     "output_type": "display_data"
    },
    {
     "name": "stdout",
     "output_type": "stream",
     "text": [
      "Cost corrected\n"
     ]
    },
    {
     "data": {
      "text/latex": [
       "$\\displaystyle \\left[\\begin{matrix}\\delta + 3 & 0 & 0 & 0 & 0 & -2 & -12\\\\1 & 0 & 1 & 0 & 0 & -1 & 3\\\\3 & 0 & 0 & 1 & 0 & -1 & 12\\\\1 & 0 & 0 & 0 & 1 & 0 & 7\\\\0 & 1 & 0 & 0 & 0 & 1 & 6\\end{matrix}\\right]$"
      ],
      "text/plain": [
       "Matrix([\n",
       "[\\delta + 3, 0, 0, 0, 0, -2, -12],\n",
       "[         1, 0, 1, 0, 0, -1,   3],\n",
       "[         3, 0, 0, 1, 0, -1,  12],\n",
       "[         1, 0, 0, 0, 1,  0,   7],\n",
       "[         0, 1, 0, 0, 0,  1,   6]])"
      ]
     },
     "execution_count": 10,
     "metadata": {},
     "output_type": "execute_result"
    }
   ],
   "source": [
    "basic_var = [2, 3, 4, 5]\n",
    "\n",
    "tableau = build_tableau(A, b, c(-4))\n",
    "opt_tableau = simplex(tableau, basic_var)\n",
    "opt_tableau = sp.Matrix(opt_tableau.tolist())\n",
    "opt_tableau[0, :-1] = sp.Matrix(c(delta)).T\n",
    "opt_tableau[0, -1] = 0\n",
    "display(opt_tableau)\n",
    "\n",
    "correct_symbolic_cost(opt_tableau, basic_var)\n",
    "sp.nsimplify(opt_tableau, rational=True)\n"
   ]
  },
  {
   "cell_type": "markdown",
   "metadata": {},
   "source": [
    "$\\mathbf v = (6, 0)$ óptimo"
   ]
  },
  {
   "cell_type": "code",
   "execution_count": 11,
   "metadata": {},
   "outputs": [
    {
     "name": "stdout",
     "output_type": "stream",
     "text": [
      "vertex = [ 0.  0.  9. 18.  7.  6.], x_B = [3, 4, 5, 6]\n",
      "[[ 6.  2.  0.  0.  0.  0.  0.]\n",
      " [ 1.  1.  1.  0.  0.  0.  9.]\n",
      " [ 3.  1.  0.  1.  0.  0. 18.]\n",
      " [ 1.  0.  0.  0.  1.  0.  7.]\n",
      " [ 0.  1.  0.  0.  0.  1.  6.]]\n",
      "vertex = [6. 0. 3. 0. 1. 6.], x_B = [3, 1, 5, 6]\n",
      "[[  0.           0.           0.          -2.           0.           0.         -36.        ]\n",
      " [  0.           0.66666667   1.          -0.33333333   0.           0.           3.        ]\n",
      " [  1.           0.33333333   0.           0.33333333   0.           0.           6.        ]\n",
      " [  0.          -0.33333333   0.          -0.33333333   1.           0.           1.        ]\n",
      " [  0.           1.           0.           0.           0.           1.           6.        ]]\n"
     ]
    },
    {
     "data": {
      "text/latex": [
       "$\\displaystyle \\left[\\begin{matrix}\\delta + 3.0 & 2.0 & 0 & 0 & 0 & 0 & 0\\\\0 & 0.666666666666667 & 1.0 & -0.333333333333333 & 0 & 0 & 3.0\\\\1.0 & 0.333333333333333 & 0 & 0.333333333333333 & 0 & 0 & 6.0\\\\0 & -0.333333333333333 & 0 & -0.333333333333333 & 1.0 & 0 & 1.0\\\\0 & 1.0 & 0 & 0 & 0 & 1.0 & 6.0\\end{matrix}\\right]$"
      ],
      "text/plain": [
       "Matrix([\n",
       "[\\delta + 3.0,                2.0,   0,                  0,   0,   0,   0],\n",
       "[           0,  0.666666666666667, 1.0, -0.333333333333333,   0,   0, 3.0],\n",
       "[         1.0,  0.333333333333333,   0,  0.333333333333333,   0,   0, 6.0],\n",
       "[           0, -0.333333333333333,   0, -0.333333333333333, 1.0,   0, 1.0],\n",
       "[           0,                1.0,   0,                  0,   0, 1.0, 6.0]])"
      ]
     },
     "metadata": {},
     "output_type": "display_data"
    },
    {
     "name": "stdout",
     "output_type": "stream",
     "text": [
      "Cost corrected\n"
     ]
    },
    {
     "data": {
      "text/latex": [
       "$\\displaystyle \\left[\\begin{matrix}0 & 1 - \\frac{\\delta}{3} & 0 & - \\frac{\\delta}{3} - 1 & 0 & 0 & - 6 \\delta - 18\\\\0 & \\frac{2}{3} & 1 & - \\frac{1}{3} & 0 & 0 & 3\\\\1 & \\frac{1}{3} & 0 & \\frac{1}{3} & 0 & 0 & 6\\\\0 & - \\frac{1}{3} & 0 & - \\frac{1}{3} & 1 & 0 & 1\\\\0 & 1 & 0 & 0 & 0 & 1 & 6\\end{matrix}\\right]$"
      ],
      "text/plain": [
       "Matrix([\n",
       "[0, 1 - \\delta/3, 0, -\\delta/3 - 1, 0, 0, -6*\\delta - 18],\n",
       "[0,          2/3, 1,          -1/3, 0, 0,              3],\n",
       "[1,          1/3, 0,           1/3, 0, 0,              6],\n",
       "[0,         -1/3, 0,          -1/3, 1, 0,              1],\n",
       "[0,            1, 0,             0, 0, 1,              6]])"
      ]
     },
     "execution_count": 11,
     "metadata": {},
     "output_type": "execute_result"
    }
   ],
   "source": [
    "basic_var = [2, 3, 4, 5]\n",
    "\n",
    "tableau = build_tableau(A, b, c(3))\n",
    "opt_tableau = simplex(tableau, basic_var)\n",
    "opt_tableau = sp.Matrix(opt_tableau.tolist())\n",
    "opt_tableau[0, :-1] = sp.Matrix(c(delta)).T \n",
    "opt_tableau[0, -1] = 0\n",
    "display(opt_tableau)\n",
    "\n",
    "correct_symbolic_cost(opt_tableau, basic_var)\n",
    "sp.nsimplify(opt_tableau, rational=True)\n"
   ]
  },
  {
   "cell_type": "markdown",
   "metadata": {},
   "source": [
    "Gráfico"
   ]
  },
  {
   "cell_type": "code",
   "execution_count": 12,
   "metadata": {},
   "outputs": [
    {
     "data": {
      "image/png": "[encoded data removed]",
      "text/plain": [
       "<Figure size 432x288 with 1 Axes>"
      ]
     },
     "metadata": {
      "needs_background": "light"
     },
     "output_type": "display_data"
    }
   ],
   "source": [
    "def z(delta):\n",
    "    if delta < -3:\n",
    "        return 12\n",
    "    elif -3 <= delta < -1:\n",
    "        return 3 * delta + 21\n",
    "    elif -1 <= delta <= 3:\n",
    "        return 4.5 * delta + 22.5   # f'(0) = 4.5\n",
    "    else:\n",
    "        return 6 * delta + 18\n",
    "\n",
    "interval_point = [-3, -1, 3]\n",
    "z_point = [z(d) for d in interval_point]\n",
    "\n",
    "interval = np.linspace(-4, 4)\n",
    "z_plot = [z(d) for d in interval]\n",
    "\n",
    "plt.xlabel(\"$\\delta$\")\n",
    "plt.ylabel(\"$z^*(\\delta)$\")\n",
    "plt.plot(interval, z_plot)\n",
    "plt.plot(interval_point, z_point, 'o', c='r')\n",
    "plt.show()\n"
   ]
  },
  {
   "cell_type": "markdown",
   "metadata": {},
   "source": [
    "##### Perturbing the objective coefficient of a nonbasic variable"
   ]
  },
  {
   "cell_type": "code",
   "execution_count": 13,
   "metadata": {},
   "outputs": [],
   "source": [
    "A = [[1, 1, 1, 0, 0, 0],\n",
    "     [3, 1, 0, 1, 0, 0],\n",
    "     [1, 0, 0, 0, 1, 0],\n",
    "     [0, 1, 0, 0, 0, 1.0]]\n",
    "\n",
    "b = [9, 18, 7, 6.]\n",
    "\n",
    "c = lambda delta: [6, 1 + delta, 0, 0, 0., 0]"
   ]
  },
  {
   "cell_type": "code",
   "execution_count": 14,
   "metadata": {},
   "outputs": [
    {
     "name": "stdout",
     "output_type": "stream",
     "text": [
      "vertex = [ 0.  0.  9. 18.  7.  6.], x_B = [3, 4, 5, 6]\n",
      "[[ 6.  1.  0.  0.  0.  0.  0.]\n",
      " [ 1.  1.  1.  0.  0.  0.  9.]\n",
      " [ 3.  1.  0.  1.  0.  0. 18.]\n",
      " [ 1.  0.  0.  0.  1.  0.  7.]\n",
      " [ 0.  1.  0.  0.  0.  1.  6.]]\n",
      "vertex = [6. 0. 3. 0. 1. 6.], x_B = [3, 1, 5, 6]\n",
      "[[  0.          -1.           0.          -2.           0.           0.         -36.        ]\n",
      " [  0.           0.66666667   1.          -0.33333333   0.           0.           3.        ]\n",
      " [  1.           0.33333333   0.           0.33333333   0.           0.           6.        ]\n",
      " [  0.          -0.33333333   0.          -0.33333333   1.           0.           1.        ]\n",
      " [  0.           1.           0.           0.           0.           1.           6.        ]]\n"
     ]
    },
    {
     "data": {
      "text/latex": [
       "$\\displaystyle \\left[\\begin{matrix}6 & \\delta + 1 & 0 & 0 & 0 & 0 & 0\\\\0 & 0.666666666666667 & 1.0 & -0.333333333333333 & 0 & 0 & 3.0\\\\1.0 & 0.333333333333333 & 0 & 0.333333333333333 & 0 & 0 & 6.0\\\\0 & -0.333333333333333 & 0 & -0.333333333333333 & 1.0 & 0 & 1.0\\\\0 & 1.0 & 0 & 0 & 0 & 1.0 & 6.0\\end{matrix}\\right]$"
      ],
      "text/plain": [
       "Matrix([\n",
       "[  6,         \\delta + 1,   0,                  0,   0,   0,   0],\n",
       "[  0,  0.666666666666667, 1.0, -0.333333333333333,   0,   0, 3.0],\n",
       "[1.0,  0.333333333333333,   0,  0.333333333333333,   0,   0, 6.0],\n",
       "[  0, -0.333333333333333,   0, -0.333333333333333, 1.0,   0, 1.0],\n",
       "[  0,                1.0,   0,                  0,   0, 1.0, 6.0]])"
      ]
     },
     "metadata": {},
     "output_type": "display_data"
    },
    {
     "name": "stdout",
     "output_type": "stream",
     "text": [
      "Cost corrected\n"
     ]
    },
    {
     "data": {
      "text/latex": [
       "$\\displaystyle \\left[\\begin{matrix}0 & \\delta - 1 & 0 & -2 & 0 & 0 & -36\\\\0 & \\frac{2}{3} & 1 & - \\frac{1}{3} & 0 & 0 & 3\\\\1 & \\frac{1}{3} & 0 & \\frac{1}{3} & 0 & 0 & 6\\\\0 & - \\frac{1}{3} & 0 & - \\frac{1}{3} & 1 & 0 & 1\\\\0 & 1 & 0 & 0 & 0 & 1 & 6\\end{matrix}\\right]$"
      ],
      "text/plain": [
       "Matrix([\n",
       "[0, \\delta - 1, 0,   -2, 0, 0, -36],\n",
       "[0,        2/3, 1, -1/3, 0, 0,   3],\n",
       "[1,        1/3, 0,  1/3, 0, 0,   6],\n",
       "[0,       -1/3, 0, -1/3, 1, 0,   1],\n",
       "[0,          1, 0,    0, 0, 1,   6]])"
      ]
     },
     "execution_count": 14,
     "metadata": {},
     "output_type": "execute_result"
    }
   ],
   "source": [
    "tableau = build_tableau(A, b, c(0))\n",
    "basic_var = [2, 3, 4, 5]\n",
    "opt_tableau = simplex(tableau, basic_var)\n",
    "opt_tableau = sp.Matrix(opt_tableau.tolist())\n",
    "opt_tableau[0, :-1] = sp.Matrix(c(delta)).T\n",
    "opt_tableau[0, -1] = 0\n",
    "display(opt_tableau)\n",
    "\n",
    "correct_symbolic_cost(opt_tableau, basic_var)\n",
    "sp.nsimplify(opt_tableau, rational=True)\n"
   ]
  },
  {
   "cell_type": "markdown",
   "metadata": {},
   "source": [
    "Interval of tolerance $\\delta \\le 1$. The objective value does not change as long as $\\delta \\le 1$, because we have perturbed an objetive coefficient of a nonbasic variable (which has value zero)."
   ]
  },
  {
   "cell_type": "markdown",
   "metadata": {},
   "source": [
    "Dual mode\n",
    "\n",
    "$x^*_k$ has been perturbed and his dual complement is $y^*_{m+k}$, where $k=2$ y $m=4$, both obtained from the primary model."
   ]
  },
  {
   "cell_type": "code",
   "execution_count": 15,
   "metadata": {},
   "outputs": [
    {
     "name": "stdout",
     "output_type": "stream",
     "text": [
      "vertex = [ 0.  0. -6. -1.  0.  0.], x_B = [3, 4]\n",
      "[[ -9. -18.  -7.  -6.   0.   0.   0.]\n",
      " [ -1.  -3.  -1.  -0.   1.   0.  -6.]\n",
      " [ -1.  -1.  -0.  -1.   0.   1.  -1.]]\n",
      "vertex = [0. 2. 0. 1. 0. 0.], x_B = [2, 4]\n",
      "[[-3.          0.         -1.         -6.         -6.          0.         36.        ]\n",
      " [ 0.33333333  1.          0.33333333  0.         -0.33333333 -0.          2.        ]\n",
      " [-0.66666667  0.          0.33333333 -1.         -0.33333333  1.          1.        ]]\n"
     ]
    }
   ],
   "source": [
    "A_T = np.array([[-1., -3., -1., -0., 1, 0],\n",
    "                [-1., -1., -0., -1., 0, 1]])\n",
    "\n",
    "b = [-9, -18, -7, -6., 0, 0]\n",
    "\n",
    "c = [-6, -1.0]\n",
    "\n",
    "tableau = build_tableau(A_T, c, b)\n",
    "basic_var = [2, 3]\n",
    "\n",
    "dual_simplex(tableau, basic_var);\n"
   ]
  },
  {
   "cell_type": "markdown",
   "metadata": {},
   "source": [
    "Then $\\delta \\le y^*_{m+k} = 1$, obtained from optimal dual simplex table. "
   ]
  },
  {
   "cell_type": "markdown",
   "metadata": {},
   "source": [
    "##### Determining tolerance intervals from an optimal simplex tableau"
   ]
  },
  {
   "cell_type": "code",
   "execution_count": 16,
   "metadata": {},
   "outputs": [
    {
     "name": "stdout",
     "output_type": "stream",
     "text": [
      "vertex = [ 0.  0.  9. 18.  7.  6.], x_B = [3, 4, 5, 6]\n",
      "[[ 3.  2.  0.  0.  0.  0.  0.]\n",
      " [ 1.  1.  1.  0.  0.  0.  9.]\n",
      " [ 3.  1.  0.  1.  0.  0. 18.]\n",
      " [ 1.  0.  0.  0.  1.  0.  7.]\n",
      " [ 0.  1.  0.  0.  0.  1.  6.]]\n",
      "vertex = [6. 0. 3. 0. 1. 6.], x_B = [3, 1, 5, 6]\n",
      "[[  0.           1.           0.          -1.           0.           0.         -18.        ]\n",
      " [  0.           0.66666667   1.          -0.33333333   0.           0.           3.        ]\n",
      " [  1.           0.33333333   0.           0.33333333   0.           0.           6.        ]\n",
      " [  0.          -0.33333333   0.          -0.33333333   1.           0.           1.        ]\n",
      " [  0.           1.           0.           0.           0.           1.           6.        ]]\n",
      "vertex = [4.5 4.5 0.  0.  2.5 1.5], x_B = [2, 1, 5, 6]\n",
      "[[  0.    0.   -1.5  -0.5   0.    0.  -22.5]\n",
      " [  0.    1.    1.5  -0.5   0.    0.    4.5]\n",
      " [  1.    0.   -0.5   0.5   0.    0.    4.5]\n",
      " [  0.    0.    0.5  -0.5   1.    0.    2.5]\n",
      " [  0.    0.   -1.5   0.5   0.    1.    1.5]]\n",
      "[𝛿_min, 𝛿_max] = [-1.0000000000000002, 3.0000000000000004]\n"
     ]
    }
   ],
   "source": [
    "# For basic variable\n",
    "A = [[1, 1, 1, 0, 0, 0],\n",
    "     [3, 1, 0, 1, 0, 0],\n",
    "     [1, 0, 0, 0, 1, 0],\n",
    "     [0, 1, 0, 0, 0, 1.0]]\n",
    "\n",
    "b = [9, 18, 7, 6.]\n",
    "\n",
    "c = lambda delta: [delta + 3., 2., 0., 0., 0., 0]\n",
    "\n",
    "tableau = build_tableau(A, b, c(0))\n",
    "basic_var = [2, 3, 4, 5]\n",
    "simplex(tableau, basic_var)\n",
    "var = set(range(tableau.shape[1] - 1))\n",
    "non_basic_var = list(var - set(basic_var))\n",
    "# location of perturbed basic variable in array [5, 2, k, ..., 1], beta=2\n",
    "beta = 1  # [1, 0, 4, 5]\n",
    "k = basic_var.index(beta)\n",
    "print(\"[𝛿_min, 𝛿_max] =\", delta_range(tableau, non_basic_var, beta))\n"
   ]
  },
  {
   "cell_type": "markdown",
   "metadata": {},
   "source": [
    "#### Sensibility analysis for the degenerate case"
   ]
  },
  {
   "cell_type": "markdown",
   "metadata": {},
   "source": [
    "d) Unique and degenerate optimal solution $\\implies$ Multiple optimal solution\n"
   ]
  },
  {
   "cell_type": "code",
   "execution_count": 17,
   "metadata": {},
   "outputs": [
    {
     "name": "stdout",
     "output_type": "stream",
     "text": [
      "vertex = [0. 0. 0. 1. 1.], x_B = [4, 5]\n",
      "[[ 1. -1.  0.  0.  0.  0.]\n",
      " [ 1. -1.  1.  1.  0.  1.]\n",
      " [ 1.  0.  0.  0.  1.  1.]]\n",
      "vertex = [1. 0. 0. 0. 0.], x_B = [1, 5]\n",
      "[[ 0.  0. -1. -1.  0. -1.]\n",
      " [ 1. -1.  1.  1.  0.  1.]\n",
      " [ 0.  1. -1. -1.  1.  0.]]\n",
      "The primal model has the unique optimal solution [1, 0, 0, 0, 0]\n"
     ]
    }
   ],
   "source": [
    "# Primal\n",
    "A = [[1, -1, 1, 1, 0],\n",
    "     [1, 0., 0, 0, 1]]\n",
    "\n",
    "b = [1, 1.0]\n",
    "\n",
    "c = [1, -1.0, 0, 0, 0]\n",
    "basic_var = [3, 4]\n",
    "tableau = build_tableau(A, b, c)\n",
    "simplex(tableau, basic_var);\n",
    "print(\"The primal model has the unique optimal solution [1, 0, 0, 0, 0]\")\n"
   ]
  },
  {
   "cell_type": "markdown",
   "metadata": {},
   "source": [
    "#### Exercise 5.8.1. Consider the following LO-model.\n",
    "\n",
    "\n",
    "\\begin{align*}\n",
    "\\max (1 + \\delta)x_1 + &x_2\\\\ \n",
    "\\text{s.t.}\\quad \\quad \\quad\\quad \\quad &x_2 \\le 5\\\\\n",
    "            2x_1 + &x_2 \\le 8\\\\\n",
    "            3x_1 + &x_2 \\le 10\\\\\n",
    "            x_1\\ge 0, &x_2\\ge 0\n",
    "\\end{align*}"
   ]
  },
  {
   "cell_type": "code",
   "execution_count": 18,
   "metadata": {},
   "outputs": [],
   "source": [
    "A = [[0, 1., 1, 0, 0],\n",
    "     [2, 1., 0, 1, 0],\n",
    "     [3, 1., 0, 0, 1]]\n",
    "\n",
    "b = [5, 8, 10.]\n",
    "\n",
    "c = lambda delta: [1 + delta, 1, 0, 0, 0]\n"
   ]
  },
  {
   "cell_type": "markdown",
   "metadata": {},
   "source": [
    "$\\mathbf v = [1.5, 5]$ óptimo"
   ]
  },
  {
   "cell_type": "code",
   "execution_count": 19,
   "metadata": {},
   "outputs": [
    {
     "name": "stdout",
     "output_type": "stream",
     "text": [
      "vertex = [ 0.  0.  5.  8. 10.], x_B = [3, 4, 5]\n",
      "[[ 1.  1.  0.  0.  0.  0.]\n",
      " [ 0.  1.  1.  0.  0.  5.]\n",
      " [ 2.  1.  0.  1.  0.  8.]\n",
      " [ 3.  1.  0.  0.  1. 10.]]\n",
      "vertex = [3.33333333 0.         5.         1.33333333 0.        ], x_B = [3, 4, 1]\n",
      "[[ 0.          0.66666667  0.          0.         -0.33333333 -3.33333333]\n",
      " [ 0.          1.          1.          0.          0.          5.        ]\n",
      " [ 0.          0.33333333  0.          1.         -0.66666667  1.33333333]\n",
      " [ 1.          0.33333333  0.          0.          0.33333333  3.33333333]]\n",
      "vertex = [2. 4. 1. 0. 0.], x_B = [3, 2, 1]\n",
      "[[ 0.  0.  0. -2.  1. -6.]\n",
      " [ 0.  0.  1. -3.  2.  1.]\n",
      " [ 0.  1.  0.  3. -2.  4.]\n",
      " [ 1.  0.  0. -1.  1.  2.]]\n",
      "vertex = [1.5 5.  0.  0.  0.5], x_B = [5, 2, 1]\n",
      "[[ 0.   0.  -0.5 -0.5  0.  -6.5]\n",
      " [ 0.   0.   0.5 -1.5  1.   0.5]\n",
      " [ 0.   1.   1.   0.   0.   5. ]\n",
      " [ 1.   0.  -0.5  0.5  0.   1.5]]\n"
     ]
    },
    {
     "data": {
      "text/latex": [
       "$\\displaystyle \\left[\\begin{matrix}\\delta + 1 & 1 & 0 & 0 & 0 & 0\\\\0 & 0 & 0.5 & -1.5 & 1.0 & 0.500000000000001\\\\0 & 1.0 & 1.0 & 0 & 0 & 5.0\\\\1.0 & 0 & -0.5 & 0.5 & 0 & 1.5\\end{matrix}\\right]$"
      ],
      "text/plain": [
       "Matrix([\n",
       "[\\delta + 1,   1,    0,    0,   0,                 0],\n",
       "[         0,   0,  0.5, -1.5, 1.0, 0.500000000000001],\n",
       "[         0, 1.0,  1.0,    0,   0,               5.0],\n",
       "[       1.0,   0, -0.5,  0.5,   0,               1.5]])"
      ]
     },
     "metadata": {},
     "output_type": "display_data"
    },
    {
     "name": "stdout",
     "output_type": "stream",
     "text": [
      "Cost corrected\n"
     ]
    },
    {
     "data": {
      "text/latex": [
       "$\\displaystyle \\left[\\begin{matrix}0 & 0 & \\frac{\\delta}{2} - \\frac{1}{2} & - \\frac{\\delta}{2} - \\frac{1}{2} & 0 & - \\frac{3 \\delta}{2} - \\frac{13}{2}\\\\0 & 0 & \\frac{1}{2} & - \\frac{3}{2} & 1 & \\frac{1}{2}\\\\0 & 1 & 1 & 0 & 0 & 5\\\\1 & 0 & - \\frac{1}{2} & \\frac{1}{2} & 0 & \\frac{3}{2}\\end{matrix}\\right]$"
      ],
      "text/plain": [
       "Matrix([\n",
       "[0, 0, \\delta/2 - 1/2, -\\delta/2 - 1/2, 0, -3*\\delta/2 - 13/2],\n",
       "[0, 0,            1/2,            -3/2, 1,                1/2],\n",
       "[0, 1,              1,               0, 0,                  5],\n",
       "[1, 0,           -1/2,             1/2, 0,                3/2]])"
      ]
     },
     "execution_count": 19,
     "metadata": {},
     "output_type": "execute_result"
    }
   ],
   "source": [
    "basic_var = [2, 3, 4]\n",
    "\n",
    "tableau = build_tableau(A, b, c(0))\n",
    "opt_tableau = simplex(tableau, basic_var)\n",
    "opt_tableau = sp.Matrix(opt_tableau.tolist())\n",
    "opt_tableau[0, :-1] = sp.Matrix(c(delta)).T\n",
    "opt_tableau[0, -1] = 0\n",
    "display(opt_tableau)\n",
    "\n",
    "correct_symbolic_cost(opt_tableau, basic_var)\n",
    "sp.nsimplify(opt_tableau, rational=True)"
   ]
  },
  {
   "cell_type": "markdown",
   "metadata": {},
   "source": [
    "$\\mathbf v = [0, 5]$ óptimo"
   ]
  },
  {
   "cell_type": "code",
   "execution_count": 20,
   "metadata": {},
   "outputs": [
    {
     "name": "stdout",
     "output_type": "stream",
     "text": [
      "vertex = [ 0.  0.  5.  8. 10.], x_B = [3, 4, 5]\n",
      "[[ 0.  1.  0.  0.  0.  0.]\n",
      " [ 0.  1.  1.  0.  0.  5.]\n",
      " [ 2.  1.  0.  1.  0.  8.]\n",
      " [ 3.  1.  0.  0.  1. 10.]]\n",
      "vertex = [0. 5. 0. 3. 5.], x_B = [2, 4, 5]\n",
      "[[ 0.  0. -1.  0.  0. -5.]\n",
      " [ 0.  1.  1.  0.  0.  5.]\n",
      " [ 2.  0. -1.  1.  0.  3.]\n",
      " [ 3.  0. -1.  0.  1.  5.]]\n"
     ]
    },
    {
     "data": {
      "text/latex": [
       "$\\displaystyle \\left[\\begin{matrix}\\delta & 1 & 0 & 0 & 0 & 0\\\\0 & 1.0 & 1.0 & 0 & 0 & 5.0\\\\2.0 & 0 & -1.0 & 1.0 & 0 & 3.0\\\\3.0 & 0 & -1.0 & 0 & 1.0 & 5.0\\end{matrix}\\right]$"
      ],
      "text/plain": [
       "Matrix([\n",
       "[\\delta,   1,    0,   0,   0,   0],\n",
       "[     0, 1.0,  1.0,   0,   0, 5.0],\n",
       "[   2.0,   0, -1.0, 1.0,   0, 3.0],\n",
       "[   3.0,   0, -1.0,   0, 1.0, 5.0]])"
      ]
     },
     "metadata": {},
     "output_type": "display_data"
    },
    {
     "name": "stdout",
     "output_type": "stream",
     "text": [
      "Cost corrected\n"
     ]
    },
    {
     "data": {
      "text/latex": [
       "$\\displaystyle \\left[\\begin{matrix}\\delta & 0 & -1 & 0 & 0 & -5\\\\0 & 1 & 1 & 0 & 0 & 5\\\\2 & 0 & -1 & 1 & 0 & 3\\\\3 & 0 & -1 & 0 & 1 & 5\\end{matrix}\\right]$"
      ],
      "text/plain": [
       "Matrix([\n",
       "[\\delta, 0, -1, 0, 0, -5],\n",
       "[     0, 1,  1, 0, 0,  5],\n",
       "[     2, 0, -1, 1, 0,  3],\n",
       "[     3, 0, -1, 0, 1,  5]])"
      ]
     },
     "execution_count": 20,
     "metadata": {},
     "output_type": "execute_result"
    }
   ],
   "source": [
    "basic_var = [2, 3, 4]\n",
    "\n",
    "tableau = build_tableau(A, b, c(-1))\n",
    "opt_tableau = simplex(tableau, basic_var)\n",
    "opt_tableau = sp.Matrix(opt_tableau.tolist())\n",
    "opt_tableau[0, :-1] = sp.Matrix(c(delta - 1)).T\n",
    "opt_tableau[0, -1] = 0\n",
    "display(opt_tableau)\n",
    "\n",
    "correct_symbolic_cost(opt_tableau, basic_var)\n",
    "sp.nsimplify(opt_tableau, rational=True)"
   ]
  },
  {
   "cell_type": "markdown",
   "metadata": {},
   "source": [
    "$\\mathbf v = [2, 4]$ óptimo"
   ]
  },
  {
   "cell_type": "code",
   "execution_count": 21,
   "metadata": {},
   "outputs": [
    {
     "name": "stdout",
     "output_type": "stream",
     "text": [
      "vertex = [ 0.  0.  5.  8. 10.], x_B = [3, 4, 5]\n",
      "[[ 2.  1.  0.  0.  0.  0.]\n",
      " [ 0.  1.  1.  0.  0.  5.]\n",
      " [ 2.  1.  0.  1.  0.  8.]\n",
      " [ 3.  1.  0.  0.  1. 10.]]\n",
      "vertex = [3.33333333 0.         5.         1.33333333 0.        ], x_B = [3, 4, 1]\n",
      "[[ 0.          0.33333333  0.          0.         -0.66666667 -6.66666667]\n",
      " [ 0.          1.          1.          0.          0.          5.        ]\n",
      " [ 0.          0.33333333  0.          1.         -0.66666667  1.33333333]\n",
      " [ 1.          0.33333333  0.          0.          0.33333333  3.33333333]]\n",
      "vertex = [2. 4. 1. 0. 0.], x_B = [3, 2, 1]\n",
      "[[ 0.  0.  0. -1.  0. -8.]\n",
      " [ 0.  0.  1. -3.  2.  1.]\n",
      " [ 0.  1.  0.  3. -2.  4.]\n",
      " [ 1.  0.  0. -1.  1.  2.]]\n"
     ]
    },
    {
     "data": {
      "text/latex": [
       "$\\displaystyle \\left[\\begin{matrix}\\delta + 2 & 1 & 0 & 0 & 0 & 0\\\\0 & 0 & 1.0 & -3.0 & 2.0 & 1.0\\\\0 & 1.0 & 0 & 3.0 & -2.0 & 4.0\\\\1.0 & 0 & 0 & -1.0 & 1.0 & 2.0\\end{matrix}\\right]$"
      ],
      "text/plain": [
       "Matrix([\n",
       "[\\delta + 2,   1,   0,    0,    0,   0],\n",
       "[         0,   0, 1.0, -3.0,  2.0, 1.0],\n",
       "[         0, 1.0,   0,  3.0, -2.0, 4.0],\n",
       "[       1.0,   0,   0, -1.0,  1.0, 2.0]])"
      ]
     },
     "metadata": {},
     "output_type": "display_data"
    },
    {
     "name": "stdout",
     "output_type": "stream",
     "text": [
      "Cost corrected\n"
     ]
    },
    {
     "data": {
      "text/latex": [
       "$\\displaystyle \\left[\\begin{matrix}0 & 0 & 0 & 1.0 \\delta - 1.0 & 2.22044604925031 \\cdot 10^{-16} - 1.0 \\delta & - 2.0 \\delta - 8.0\\\\0 & 0 & 1.0 & -3.0 & 2.0 & 1.0\\\\0 & 1.0 & 0 & 3.0 & -2.0 & 4.0\\\\1.0 & 0 & 0 & -1.0 & 1.0 & 2.0\\end{matrix}\\right]$"
      ],
      "text/plain": [
       "Matrix([\n",
       "[  0,   0,   0, 1.0*\\delta - 1.0, 2.22044604925031e-16 - 1.0*\\delta, -2.0*\\delta - 8.0],\n",
       "[  0,   0, 1.0,             -3.0,                               2.0,               1.0],\n",
       "[  0, 1.0,   0,              3.0,                              -2.0,               4.0],\n",
       "[1.0,   0,   0,             -1.0,                               1.0,               2.0]])"
      ]
     },
     "execution_count": 21,
     "metadata": {},
     "output_type": "execute_result"
    }
   ],
   "source": [
    "basic_var = [2, 3, 4]\n",
    "\n",
    "tableau = build_tableau(A, b, c(1))\n",
    "opt_tableau = simplex(tableau, basic_var)\n",
    "opt_tableau = sp.Matrix(opt_tableau.tolist())\n",
    "opt_tableau[0, :-1] = sp.Matrix(c(delta + 1)).T\n",
    "opt_tableau[0, -1] = 0\n",
    "display(opt_tableau)\n",
    "\n",
    "correct_symbolic_cost(opt_tableau, basic_var)\n",
    "opt_tableau"
   ]
  },
  {
   "cell_type": "markdown",
   "metadata": {},
   "source": [
    "$\\mathbf v = \\left(\\frac{10}{3}, 0\\right)$ óptimo"
   ]
  },
  {
   "cell_type": "code",
   "execution_count": 22,
   "metadata": {},
   "outputs": [
    {
     "name": "stdout",
     "output_type": "stream",
     "text": [
      "vertex = [ 0.  0.  5.  8. 10.], x_B = [3, 4, 5]\n",
      "[[ 3.  1.  0.  0.  0.  0.]\n",
      " [ 0.  1.  1.  0.  0.  5.]\n",
      " [ 2.  1.  0.  1.  0.  8.]\n",
      " [ 3.  1.  0.  0.  1. 10.]]\n",
      "vertex = [3.33333333 0.         5.         1.33333333 0.        ], x_B = [3, 4, 1]\n",
      "[[  0.           0.           0.           0.          -1.         -10.        ]\n",
      " [  0.           1.           1.           0.           0.           5.        ]\n",
      " [  0.           0.33333333   0.           1.          -0.66666667   1.33333333]\n",
      " [  1.           0.33333333   0.           0.           0.33333333   3.33333333]]\n"
     ]
    },
    {
     "data": {
      "text/latex": [
       "$\\displaystyle \\left[\\begin{matrix}\\delta + 3 & 1 & 0 & 0 & 0 & 0\\\\0 & 1.0 & 1.0 & 0 & 0 & 5.0\\\\0 & 0.333333333333333 & 0 & 1.0 & -0.666666666666667 & 1.33333333333333\\\\1.0 & 0.333333333333333 & 0 & 0 & 0.333333333333333 & 3.33333333333333\\end{matrix}\\right]$"
      ],
      "text/plain": [
       "Matrix([\n",
       "[\\delta + 3,                 1,   0,   0,                  0,                0],\n",
       "[         0,               1.0, 1.0,   0,                  0,              5.0],\n",
       "[         0, 0.333333333333333,   0, 1.0, -0.666666666666667, 1.33333333333333],\n",
       "[       1.0, 0.333333333333333,   0,   0,  0.333333333333333, 3.33333333333333]])"
      ]
     },
     "metadata": {},
     "output_type": "display_data"
    },
    {
     "name": "stdout",
     "output_type": "stream",
     "text": [
      "Cost corrected\n"
     ]
    },
    {
     "data": {
      "text/latex": [
       "$\\displaystyle \\left[\\begin{matrix}0 & - \\frac{\\delta}{3} & 0 & 0 & - \\frac{\\delta}{3} - 1 & - \\frac{10 \\delta}{3} - 10\\\\0 & 1 & 1 & 0 & 0 & 5\\\\0 & \\frac{1}{3} & 0 & 1 & - \\frac{2}{3} & \\frac{4}{3}\\\\1 & \\frac{1}{3} & 0 & 0 & \\frac{1}{3} & \\frac{10}{3}\\end{matrix}\\right]$"
      ],
      "text/plain": [
       "Matrix([\n",
       "[0, -\\delta/3, 0, 0, -\\delta/3 - 1, -10*\\delta/3 - 10],\n",
       "[0,         1, 1, 0,             0,                 5],\n",
       "[0,       1/3, 0, 1,          -2/3,               4/3],\n",
       "[1,       1/3, 0, 0,           1/3,              10/3]])"
      ]
     },
     "execution_count": 22,
     "metadata": {},
     "output_type": "execute_result"
    }
   ],
   "source": [
    "basic_var = [2, 3, 4]\n",
    "\n",
    "tableau = build_tableau(A, b, c(2))\n",
    "opt_tableau = simplex(tableau, basic_var)\n",
    "opt_tableau = sp.Matrix(opt_tableau.tolist())\n",
    "opt_tableau[0, :-1] = sp.Matrix(c(delta + 2)).T\n",
    "opt_tableau[0, -1] = 0\n",
    "display(opt_tableau)\n",
    "\n",
    "correct_symbolic_cost(opt_tableau, basic_var)\n",
    "sp.nsimplify(opt_tableau, rational=True)"
   ]
  },
  {
   "cell_type": "markdown",
   "metadata": {},
   "source": [
    "Gráfico"
   ]
  },
  {
   "cell_type": "code",
   "execution_count": 23,
   "metadata": {},
   "outputs": [
    {
     "data": {
      "image/png": "[encoded data removed]",
      "text/plain": [
       "<Figure size 432x288 with 1 Axes>"
      ]
     },
     "metadata": {
      "needs_background": "light"
     },
     "output_type": "display_data"
    }
   ],
   "source": [
    "def z(delta):\n",
    "    if delta < -1:\n",
    "        return 5\n",
    "    elif -1 <= delta < 1:\n",
    "        return (3 * delta + 13) / 2\n",
    "    elif 1 <= delta < 2:\n",
    "        return 2 * delta + 6\n",
    "    else:\n",
    "        return 10 / 3 * (delta + 1)\n",
    "\n",
    "\n",
    "interval_point = [-1, 1, 2]\n",
    "z_point = [z(d) for d in interval_point]\n",
    "\n",
    "interval = np.linspace(-2, 3)\n",
    "z_plot = [z(d) for d in interval]\n",
    "\n",
    "plt.xlabel(\"$\\delta$\")\n",
    "plt.ylabel(\"$z^*(\\delta)$\")\n",
    "plt.plot(interval, z_plot)\n",
    "plt.plot(interval_point, z_point, 'o', c='r')\n",
    "plt.show()"
   ]
  },
  {
   "cell_type": "markdown",
   "metadata": {},
   "source": [
    "#### Exercise 5.8.10. Consider the following LO-model.\n",
    "\n",
    "\\begin{align*}\n",
    "    \\max\\quad 3x_1& +& 4x_2& -& 2x_3& +& x_4& -& x_5&\\\\\n",
    "    \\text{s.t.}\\quad   4x_1& +& 5x_2&  -& x_3& -& x_4& -& x_5 \\le 30\\\\\n",
    "                        x_1& +&  x_2&  +& x_3& +& x_4& +& x_5 \\le 15\\\\\n",
    "                        x_1& {}&  {}&  +& 3x_3&  +& 3x_4& {}&  \\le 27\\\\\n",
    "                         {}& {}& x_2&  {}&  {}&  +&  2x_4& {}& \\le 20\\\\\n",
    "                        x_1& {}&  {}&  +&  3x_3&  {}& {}&  {}& \\ge 20\\\\\n",
    "\\end{align*}\n",
    "$$x_1, x_2, x_3, x_4, x_5 \\ge 0$$\n"
   ]
  },
  {
   "cell_type": "markdown",
   "metadata": {},
   "source": [
    "(a) Determine optimal primal and dual solutions. Draw and analyze the perturbation function for the objective coeficient of $x_4$\n",
    "."
   ]
  },
  {
   "cell_type": "code",
   "execution_count": 24,
   "metadata": {},
   "outputs": [],
   "source": [
    "A = [[4, 5, -1, -1, -1, 1, 0, 0, 0, 0., 0],\n",
    "     [1, 1, 1., 1., 1., 0, 1, 0, 0, 0., 0],\n",
    "     [1, 0, 3., 3., 0., 0, 0, 1, 0, 0., 0],\n",
    "     [0, 1, 0., 2., 0., 0, 0, 0, 1, 0., 0],\n",
    "     [1, 0, 3., 0., 0., 0, 0, 0, 0, -1, 1]]\n",
    "\n",
    "b = [30, 15, 27, 20, 20.]\n",
    "\n",
    "c = lambda delta: [3, 4, -2, 1 + delta, -1, 0., 0., 0, 0, 0]\n",
    "c_artificial = [0, 0, 0, 0, 0, 0, 0, 0, 0, 0, -1]\n"
   ]
  },
  {
   "cell_type": "code",
   "execution_count": 25,
   "metadata": {},
   "outputs": [
    {
     "name": "stdout",
     "output_type": "stream",
     "text": [
      "Simplex process\n",
      "x_B = [6, 7, 8, 9, 11]\n",
      "[[ 0.  0.  0.  0.  0.  0.  0.  0.  0.  0. -1.  0.]\n",
      " [ 4.  5. -1. -1. -1.  1.  0.  0.  0.  0.  0. 30.]\n",
      " [ 1.  1.  1.  1.  1.  0.  1.  0.  0.  0.  0. 15.]\n",
      " [ 1.  0.  3.  3.  0.  0.  0.  1.  0.  0.  0. 27.]\n",
      " [ 0.  1.  0.  2.  0.  0.  0.  0.  1.  0.  0. 20.]\n",
      " [ 1.  0.  3.  0.  0.  0.  0.  0.  0. -1.  1. 20.]]\n",
      "Cost corrected\n",
      "x_B = [6, 7, 8, 9, 11]\n",
      "[[ 1.  0.  3.  0.  0.  0.  0.  0.  0. -1.  0. 20.]\n",
      " [ 4.  5. -1. -1. -1.  1.  0.  0.  0.  0.  0. 30.]\n",
      " [ 1.  1.  1.  1.  1.  0.  1.  0.  0.  0.  0. 15.]\n",
      " [ 1.  0.  3.  3.  0.  0.  0.  1.  0.  0.  0. 27.]\n",
      " [ 0.  1.  0.  2.  0.  0.  0.  0.  1.  0.  0. 20.]\n",
      " [ 1.  0.  3.  0.  0.  0.  0.  0.  0. -1.  1. 20.]]\n",
      "Start phase One\n",
      "x_B = [6, 7, 8, 9, 3]\n",
      "[[ 0.          0.          0.          0.          0.          0.          0.          0.          0.          0.         -1.          0.        ]\n",
      " [ 4.33333333  5.          0.         -1.         -1.          1.          0.          0.          0.         -0.33333333  0.33333333 36.66666667]\n",
      " [ 0.66666667  1.          0.          1.          1.          0.          1.          0.          0.          0.33333333 -0.33333333  8.33333333]\n",
      " [ 0.          0.          0.          3.          0.          0.          0.          1.          0.          1.         -1.          7.        ]\n",
      " [ 0.          1.          0.          2.          0.          0.          0.          0.          1.          0.          0.         20.        ]\n",
      " [ 0.33333333  0.          1.          0.          0.          0.          0.          0.          0.         -0.33333333  0.33333333  6.66666667]]\n",
      "Delete artificial variables and create a new tableau [10]\n",
      "Start phase two, put original cost\n",
      "x_B = [6, 7, 8, 9, 3]\n",
      "[[ 3.          4.         -2.          1.         -1.          0.          0.          0.          0.          0.          0.        ]\n",
      " [ 4.33333333  5.          0.         -1.         -1.          1.          0.          0.          0.         -0.33333333 36.66666667]\n",
      " [ 0.66666667  1.          0.          1.          1.          0.          1.          0.          0.          0.33333333  8.33333333]\n",
      " [ 0.          0.          0.          3.          0.          0.          0.          1.          0.          1.          7.        ]\n",
      " [ 0.          1.          0.          2.          0.          0.          0.          0.          1.          0.         20.        ]\n",
      " [ 0.33333333  0.          1.          0.          0.          0.          0.          0.          0.         -0.33333333  6.66666667]]\n",
      "Cost corrected\n",
      "vertex = [ 0.          0.          6.66666667  0.          0.         36.66666667  8.33333333  7.         20.          0.        ], x_B = [6, 7, 8, 9, 3]\n",
      "[[ 3.66666667  4.          0.          1.         -1.          0.          0.          0.          0.         -0.66666667 13.33333333]\n",
      " [ 4.33333333  5.          0.         -1.         -1.          1.          0.          0.          0.         -0.33333333 36.66666667]\n",
      " [ 0.66666667  1.          0.          1.          1.          0.          1.          0.          0.          0.33333333  8.33333333]\n",
      " [ 0.          0.          0.          3.          0.          0.          0.          1.          0.          1.          7.        ]\n",
      " [ 0.          1.          0.          2.          0.          0.          0.          0.          1.          0.         20.        ]\n",
      " [ 0.33333333  0.          1.          0.          0.          0.          0.          0.          0.         -0.33333333  6.66666667]]\n",
      "vertex = [ 0.          7.33333333  6.66666667  0.          0.          0.          1.          7.         12.66666667  0.        ], x_B = [2, 7, 8, 9, 3]\n",
      "[[  0.2          0.           0.           1.8         -0.2         -0.8          0.           0.           0.          -0.4        -16.        ]\n",
      " [  0.86666667   1.           0.          -0.2         -0.2          0.2          0.           0.           0.          -0.06666667   7.33333333]\n",
      " [ -0.2          0.           0.           1.2          1.2         -0.2          1.           0.           0.           0.4          1.        ]\n",
      " [  0.           0.           0.           3.           0.           0.           0.           1.           0.           1.           7.        ]\n",
      " [ -0.86666667   0.           0.           2.2          0.2         -0.2          0.           0.           1.           0.06666667  12.66666667]\n",
      " [  0.33333333   0.           1.           0.           0.           0.           0.           0.           0.          -0.33333333   6.66666667]]\n",
      "vertex = [ 0.          7.5         6.66666667  0.83333333  0.          0.          0.          4.5        10.83333333  0.        ], x_B = [2, 4, 8, 9, 3]\n",
      "[[  0.5          0.           0.           0.          -2.          -0.5         -1.5          0.           0.          -1.         -17.5       ]\n",
      " [  0.83333333   1.           0.           0.           0.           0.16666667   0.16666667   0.           0.           0.           7.5       ]\n",
      " [ -0.16666667   0.           0.           1.           1.          -0.16666667   0.83333333   0.           0.           0.33333333   0.83333333]\n",
      " [  0.5          0.           0.           0.          -3.           0.5         -2.5          1.           0.           0.           4.5       ]\n",
      " [ -0.5          0.           0.           0.          -2.           0.16666667  -1.83333333   0.           1.          -0.66666667  10.83333333]\n",
      " [  0.33333333   0.           1.           0.           0.           0.           0.           0.           0.          -0.33333333   6.66666667]]\n",
      "vertex = [ 9.          0.          3.66666667  2.33333333  0.          0.          0.          0.         15.33333333  0.        ], x_B = [1, 4, 8, 9, 3]\n",
      "[[  0.          -0.6          0.           0.          -2.          -0.6         -1.6          0.           0.          -1.         -22.        ]\n",
      " [  1.           1.2          0.           0.           0.           0.2          0.2          0.           0.           0.           9.        ]\n",
      " [  0.           0.2          0.           1.           1.          -0.13333333   0.86666667   0.           0.           0.33333333   2.33333333]\n",
      " [  0.          -0.6          0.           0.          -3.           0.4         -2.6          1.           0.           0.           0.        ]\n",
      " [  0.           0.6          0.           0.          -2.           0.26666667  -1.73333333   0.           1.          -0.66666667  15.33333333]\n",
      " [  0.          -0.4          1.           0.           0.          -0.06666667  -0.06666667   0.           0.          -0.33333333   3.66666667]]\n",
      "Perturbation\n"
     ]
    },
    {
     "data": {
      "text/latex": [
       "$\\displaystyle \\left[\\begin{array}{ccccccccccc}3 & 4 & -2 & \\delta + 1 & -1 & 0 & 0 & 0 & 0 & 0 & 0\\\\1.0 & 1.2 & 0 & 0 & 0 & 0.2 & 0.2 & 0 & 0 & 0 & 9.0\\\\0 & 0.2 & 0 & 1.0 & 1.0 & -0.133333333333333 & 0.866666666666667 & 0 & 0 & 0.333333333333333 & 2.33333333333333\\\\0 & -0.6 & 0 & 0 & -3.0 & 0.4 & -2.6 & 1.0 & 0 & 0 & 4.44089209850063 \\cdot 10^{-15}\\\\0 & 0.6 & 0 & 0 & -2.0 & 0.266666666666667 & -1.73333333333333 & 0 & 1.0 & -0.666666666666667 & 15.3333333333333\\\\0 & -0.4 & 1.0 & 0 & 0 & -0.0666666666666667 & -0.0666666666666667 & 0 & 0 & -0.333333333333333 & 3.66666666666667\\end{array}\\right]$"
      ],
      "text/plain": [
       "Matrix([\n",
       "[  3,    4,  -2, \\delta + 1,   -1,                   0,                   0,   0,   0,                  0,                    0],\n",
       "[1.0,  1.2,   0,          0,    0,                 0.2,                 0.2,   0,   0,                  0,                  9.0],\n",
       "[  0,  0.2,   0,        1.0,  1.0,  -0.133333333333333,   0.866666666666667,   0,   0,  0.333333333333333,     2.33333333333333],\n",
       "[  0, -0.6,   0,          0, -3.0,                 0.4,                -2.6, 1.0,   0,                  0, 4.44089209850063e-15],\n",
       "[  0,  0.6,   0,          0, -2.0,   0.266666666666667,   -1.73333333333333,   0, 1.0, -0.666666666666667,     15.3333333333333],\n",
       "[  0, -0.4, 1.0,          0,    0, -0.0666666666666667, -0.0666666666666667,   0,   0, -0.333333333333333,     3.66666666666667]])"
      ]
     },
     "metadata": {},
     "output_type": "display_data"
    },
    {
     "name": "stdout",
     "output_type": "stream",
     "text": [
      "Cost corrected\n"
     ]
    },
    {
     "data": {
      "text/latex": [
       "$\\displaystyle \\left[\\begin{array}{ccccccccccc}0 & - \\frac{\\delta}{5} - \\frac{3}{5} & 0 & 0 & - \\delta - 2 & \\frac{2 \\delta}{15} - \\frac{3}{5} & - \\frac{13 \\delta}{15} - \\frac{8}{5} & 0 & 0 & - \\frac{\\delta}{3} - 1 & - \\frac{7 \\delta}{3} - 22\\\\1 & \\frac{6}{5} & 0 & 0 & 0 & \\frac{1}{5} & \\frac{1}{5} & 0 & 0 & 0 & 9\\\\0 & \\frac{1}{5} & 0 & 1 & 1 & - \\frac{2}{15} & \\frac{13}{15} & 0 & 0 & \\frac{1}{3} & \\frac{7}{3}\\\\0 & - \\frac{3}{5} & 0 & 0 & -3 & \\frac{2}{5} & - \\frac{13}{5} & 1 & 0 & 0 & \\frac{444089209850063}{100000000000000000000000000000}\\\\0 & \\frac{3}{5} & 0 & 0 & -2 & \\frac{4}{15} & - \\frac{26}{15} & 0 & 1 & - \\frac{2}{3} & \\frac{46}{3}\\\\0 & - \\frac{2}{5} & 1 & 0 & 0 & - \\frac{1}{15} & - \\frac{1}{15} & 0 & 0 & - \\frac{1}{3} & \\frac{11}{3}\\end{array}\\right]$"
      ],
      "text/plain": [
       "Matrix([\n",
       "[0, -\\delta/5 - 3/5, 0, 0, -\\delta - 2, 2*\\delta/15 - 3/5, -13*\\delta/15 - 8/5, 0, 0, -\\delta/3 - 1,                               -7*\\delta/3 - 22],\n",
       "[1,             6/5, 0, 0,           0,               1/5,                 1/5, 0, 0,             0,                                              9],\n",
       "[0,             1/5, 0, 1,           1,             -2/15,               13/15, 0, 0,           1/3,                                            7/3],\n",
       "[0,            -3/5, 0, 0,          -3,               2/5,               -13/5, 1, 0,             0, 444089209850063/100000000000000000000000000000],\n",
       "[0,             3/5, 0, 0,          -2,              4/15,              -26/15, 0, 1,          -2/3,                                           46/3],\n",
       "[0,            -2/5, 1, 0,           0,             -1/15,               -1/15, 0, 0,          -1/3,                                           11/3]])"
      ]
     },
     "execution_count": 25,
     "metadata": {},
     "output_type": "execute_result"
    }
   ],
   "source": [
    "tableau = build_tableau(A, b, c_artificial)\n",
    "basic_var = [5, 6, 7, 8, 10]\n",
    "artificial_val = [10]\n",
    "print(\"Simplex process\")\n",
    "opt_tableau = two_phases(tableau, c(0), basic_var, artificial_val)\n",
    "opt_tableau = sp.Matrix(opt_tableau.tolist())\n",
    "print(\"Perturbation\")\n",
    "opt_tableau[0, :-1] = sp.Matrix(c(delta)).T\n",
    "opt_tableau[0, -1] = 0\n",
    "display(opt_tableau)\n",
    "correct_symbolic_cost(opt_tableau, basic_var)\n",
    "sp.nsimplify(opt_tableau, rational=True)"
   ]
  },
  {
   "cell_type": "code",
   "execution_count": 26,
   "metadata": {},
   "outputs": [
    {
     "name": "stdout",
     "output_type": "stream",
     "text": [
      "vertex = [ 0.  0.  0.  0.  0. -3. -4.  2. -1.  1.], x_B = [6, 7, 8, 9, 10]\n",
      "[[-30. -15. -27. -20.  20.  -0.  -0.  -0.  -0.  -0.   0.]\n",
      " [ -4.  -1.  -1.  -0.   1.   1.   0.   0.   0.   0.  -3.]\n",
      " [ -5.  -1.   0.  -1.  -0.   0.   1.   0.   0.   0.  -4.]\n",
      " [  1.  -1.  -3.  -0.   3.   0.   0.   1.   0.   0.   2.]\n",
      " [  1.  -1.  -3.  -2.  -0.   0.   0.   0.   1.   0.  -1.]\n",
      " [  1.  -1.   0.  -0.  -0.   0.   0.   0.   0.   1.   1.]]\n",
      "vertex = [ 0.  0.  0.  0. -3.  0. -4. 11. -1.  1.], x_B = [5, 7, 8, 9, 10]\n",
      "[[ 50.   5.  -7. -20.   0. -20.  -0.  -0.  -0.  -0.  60.]\n",
      " [ -4.  -1.  -1.  -0.   1.   1.   0.   0.   0.   0.  -3.]\n",
      " [ -5.  -1.   0.  -1.  -0.   0.   1.   0.   0.   0.  -4.]\n",
      " [ 13.   2.   0.   0.   0.  -3.   0.   1.   0.   0.  11.]\n",
      " [  1.  -1.  -3.  -2.  -0.   0.   0.   0.   1.   0.  -1.]\n",
      " [  1.  -1.   0.  -0.  -0.   0.   0.   0.   0.   1.   1.]]\n",
      "vertex = [-1.  0.  0.  0. -7.  0. -9. 24.  0.  2.], x_B = [5, 7, 8, 1, 10]\n",
      "[[  0.  55. 143.  80.   0. -20.  -0.  -0. -50.  -0. 110.]\n",
      " [  0.  -5. -13.  -8.   1.   1.   0.   0.   4.   0.  -7.]\n",
      " [  0.  -6. -15. -11.  -0.   0.   1.   0.   5.   0.  -9.]\n",
      " [  0.  15.  39.  26.   0.  -3.   0.   1. -13.   0.  24.]\n",
      " [  1.  -1.  -3.  -2.  -0.   0.   0.   0.   1.   0.  -1.]\n",
      " [  0.   0.   3.   2.   0.   0.   0.   0.  -1.   1.   2.]]\n",
      "vertex = [0.84615385 0.         0.61538462 0.         1.         0.         0.23076923 0.         0.         0.15384615], x_B = [5, 7, 3, 1, 10]\n",
      "[[  0.           0.           0.         -15.33333333   0.          -9.          -0.          -3.66666667  -2.33333333  -0.          22.        ]\n",
      " [  0.           0.           0.           0.66666667   1.           0.           0.           0.33333333  -0.33333333   0.           1.        ]\n",
      " [  0.          -0.23076923   0.          -1.           0.          -1.15384615   1.           0.38461538   0.           0.           0.23076923]\n",
      " [  0.           0.38461538   1.           0.66666667   0.          -0.07692308   0.           0.02564103  -0.33333333   0.           0.61538462]\n",
      " [  1.           0.15384615   0.           0.           0.          -0.23076923   0.           0.07692308   0.           0.           0.84615385]\n",
      " [  0.          -1.15384615   0.           0.           0.           0.23076923   0.          -0.07692308   0.           1.           0.15384615]]\n",
      "vertex = [0.84615385 0.         0.61538462 0.         1.         0.         0.23076923 0.         0.         0.15384615], x_B = [5, 7, 3, 1, 10]\n",
      "[[  0.           0.           0.         -15.33333333   0.          -9.          -0.          -3.66666667  -2.33333333  -0.          22.        ]\n",
      " [  0.           0.           0.           0.66666667   1.           0.           0.           0.33333333  -0.33333333   0.           1.        ]\n",
      " [  0.          -0.23076923   0.          -1.           0.          -1.15384615   1.           0.38461538   0.           0.           0.23076923]\n",
      " [  0.           0.38461538   1.           0.66666667   0.          -0.07692308   0.           0.02564103  -0.33333333   0.           0.61538462]\n",
      " [  1.           0.15384615   0.           0.           0.          -0.23076923   0.           0.07692308   0.           0.           0.84615385]\n",
      " [  0.          -1.15384615   0.           0.           0.           0.23076923   0.          -0.07692308   0.           1.           0.15384615]]\n"
     ]
    }
   ],
   "source": [
    "# Dual\n",
    "A_T = np.array([[-4., -1, -1., -0., 1., 1, 0, 0, 0, 0],\n",
    "                [-5., -1, -0, -1., -0., 0, 1, 0, 0, 0],\n",
    "                [1., -1., -3., -0., 3., 0, 0, 1, 0, 0],\n",
    "                [1., -1., -3, -2., -0., 0, 0, 0, 1, 0],\n",
    "                [1., -1., -0, -0., -0., 0, 0, 0, 0, 1]])\n",
    "\n",
    "b = -np.array([30, 15, 27, 20, -20., 0, 0, 0, 0, 0])\n",
    "\n",
    "c = np.array([-3, -4, 2, -1, 1.])\n",
    "\n",
    "basic_var = [5, 6, 7, 8, 9]\n",
    "# tableau = dual_simplex(tableau, basic_var)\n",
    "tableau = build_tableau(A_T, c, b)\n",
    "# simplex o dual_simplex = dual_simplex o simplex???\n",
    "tableau = simplex(tableau, basic_var);\n",
    "tableau = dual_simplex(tableau, basic_var)"
   ]
  },
  {
   "cell_type": "markdown",
   "metadata": {},
   "source": [
    "## Práctica Dirigida 6\n"
   ]
  },
  {
   "cell_type": "markdown",
   "metadata": {},
   "source": [
    "#### 2. Sea la función $f : \\mathbb{R} \\rightarrow \\mathbb{R}$ definida como\n",
    "\n",
    "\\begin{align*}\n",
    "f(\\delta) :=\\max &(1 + \\delta)x_1 + x_2&\\\\\n",
    "\\text{s.t.}\\quad    2x_1 + &x_2 \\le 8\\\\\n",
    "                    3x_1 + &x_2 \\le 10\\\\\n",
    "                    &x_2 \\le 5\\\\\n",
    "                    x_1 \\ge 0, &x_2 \\ge 0\n",
    "\\end{align*}\n"
   ]
  },
  {
   "cell_type": "markdown",
   "metadata": {},
   "source": [
    "a) Determinar f en un intervalo conteniendo 0, apartir de la información de la tabla simplex optimal."
   ]
  },
  {
   "cell_type": "code",
   "execution_count": 27,
   "metadata": {},
   "outputs": [
    {
     "name": "stdout",
     "output_type": "stream",
     "text": [
      "vertex = [ 0.  0.  8. 10.  5.], x_B = [3, 4, 5]\n",
      "[[ 1.  1.  0.  0.  0.  0.]\n",
      " [ 2.  1.  1.  0.  0.  8.]\n",
      " [ 3.  1.  0.  1.  0. 10.]\n",
      " [ 0.  1.  0.  0.  1.  5.]]\n",
      "vertex = [3.33333333 0.         1.33333333 0.         5.        ], x_B = [3, 1, 5]\n",
      "[[ 0.          0.66666667  0.         -0.33333333  0.         -3.33333333]\n",
      " [ 0.          0.33333333  1.         -0.66666667  0.          1.33333333]\n",
      " [ 1.          0.33333333  0.          0.33333333  0.          3.33333333]\n",
      " [ 0.          1.          0.          0.          1.          5.        ]]\n",
      "vertex = [2. 4. 0. 0. 1.], x_B = [2, 1, 5]\n",
      "[[ 0.  0. -2.  1.  0. -6.]\n",
      " [ 0.  1.  3. -2.  0.  4.]\n",
      " [ 1.  0. -1.  1.  0.  2.]\n",
      " [ 0.  0. -3.  2.  1.  1.]]\n",
      "vertex = [1.5 5.  0.  0.5 0. ], x_B = [2, 1, 4]\n",
      "[[ 0.   0.  -0.5  0.  -0.5 -6.5]\n",
      " [ 0.   1.   0.   0.   1.   5. ]\n",
      " [ 1.   0.   0.5  0.  -0.5  1.5]\n",
      " [ 0.   0.  -1.5  1.   0.5  0.5]]\n"
     ]
    }
   ],
   "source": [
    "# Hallando la tabla óptima\n",
    "A = np.array([[2, 1., 1, 0, 0],\n",
    "              [3, 1., 0, 1, 0],\n",
    "              [0, 1., 0, 0, 1]])\n",
    "\n",
    "b = [8, 10., 5]\n",
    "\n",
    "c = np.array([1, 1.0, 0, 0, 0])\n",
    "\n",
    "basic_var = [2, 3, 4]\n",
    "\n",
    "tableau = build_tableau(A, b, c)\n",
    "\n",
    "simplex(tableau, basic_var);\n"
   ]
  },
  {
   "cell_type": "markdown",
   "metadata": {},
   "source": [
    "b) Determinar la tabla simplex optimal en el intervalo determinado en a)\n"
   ]
  },
  {
   "cell_type": "code",
   "execution_count": 28,
   "metadata": {},
   "outputs": [
    {
     "data": {
      "text/latex": [
       "$\\displaystyle \\left[\\begin{matrix}0 & 0 & - \\frac{\\delta}{2} - \\frac{1}{2} & 0 & \\frac{\\delta}{2} - \\frac{1}{2} & - \\frac{3 \\delta}{2} - \\frac{13}{2}\\\\0 & 1 & 0 & 0 & 1 & 5\\\\1 & 0 & \\frac{1}{2} & 0 & - \\frac{1}{2} & \\frac{3}{2}\\\\0 & 0 & - \\frac{3}{2} & 1 & \\frac{1}{2} & \\frac{1}{2}\\end{matrix}\\right]$"
      ],
      "text/plain": [
       "Matrix([\n",
       "[0, 0, -\\delta/2 - 1/2, 0, \\delta/2 - 1/2, -3*\\delta/2 - 13/2],\n",
       "[0, 1,               0, 0,              1,                  5],\n",
       "[1, 0,             1/2, 0,           -1/2,                3/2],\n",
       "[0, 0,            -3/2, 1,            1/2,                1/2]])"
      ]
     },
     "execution_count": 28,
     "metadata": {},
     "output_type": "execute_result"
    }
   ],
   "source": [
    "# PRIMERA FORMA: tabla optima con los nuevos pesos\n",
    "tableau = sp.Matrix([[1 + delta, 1, 0, 0., 0, 0],\n",
    "                    [0., 1., 0., 0., 1., 5.],\n",
    "                    [1., 0., 0.5, 0., -0.5, 1.5],\n",
    "                    [0., 0., -1.5, 1., 0.5, 0.5]])\n",
    "basic_var = [1, 0, 3]\n",
    "\n",
    "pivoting_symbolic(tableau, 2, 0)\n",
    "pivoting_symbolic(tableau, 1, 1)\n",
    "\n",
    "sp.nsimplify(tableau, rational=True)"
   ]
  },
  {
   "cell_type": "code",
   "execution_count": 29,
   "metadata": {},
   "outputs": [
    {
     "data": {
      "text/latex": [
       "$\\displaystyle \\left[\\begin{matrix}- \\frac{\\delta}{2} - \\frac{1}{2} & \\frac{\\delta}{2} - \\frac{1}{2}\\end{matrix}\\right]$"
      ],
      "text/plain": [
       "Matrix([[-\\delta/2 - 1/2, \\delta/2 - 1/2]])"
      ]
     },
     "execution_count": 29,
     "metadata": {},
     "output_type": "execute_result"
    }
   ],
   "source": [
    "# SEGUNDA FORMA\n",
    "non_basic_var = [2, 4]\n",
    "# B_inv = np.linalg.inv(A[:, basic_var])\n",
    "# N = A[:, non_basic_var]\n",
    "B_invxN = tableau[1:, non_basic_var]\n",
    "# costos perturbados\n",
    "c = sp.Matrix([1 + delta, 1, 0, 0., 0])\n",
    "c_BI = c.row(basic_var)\n",
    "c_NI = c.row(non_basic_var)\n",
    "\n",
    "range_delta = sp.nsimplify(c_NI.T - c_BI.T @ B_invxN)\n",
    "range_delta"
   ]
  },
  {
   "cell_type": "markdown",
   "metadata": {},
   "source": [
    "c) Gráficamente hallar los vértices de la restricción, para luego hallar explicitamente el valor de f"
   ]
  },
  {
   "cell_type": "code",
   "execution_count": 30,
   "metadata": {},
   "outputs": [
    {
     "data": {
      "text/latex": [
       "$\\displaystyle \\left[\\begin{matrix}0\\\\5\\\\\\frac{3 \\delta}{2} + \\frac{13}{2}\\\\2 \\delta + 6\\\\\\frac{10 \\delta}{3} + \\frac{10}{3}\\end{matrix}\\right]$"
      ],
      "text/plain": [
       "Matrix([\n",
       "[                 0],\n",
       "[                 5],\n",
       "[ 3*\\delta/2 + 13/2],\n",
       "[      2*\\delta + 6],\n",
       "[10*\\delta/3 + 10/3]])"
      ]
     },
     "execution_count": 30,
     "metadata": {},
     "output_type": "execute_result"
    }
   ],
   "source": [
    "V = sp.Matrix([[0, 0], [0, 5], [3 / 2, 5], [2, 4], [10 / 3, 0]])\n",
    "cost = sp.Matrix([1 + delta, 1])\n",
    "sp.nsimplify(V@cost)\n"
   ]
  },
  {
   "cell_type": "markdown",
   "metadata": {},
   "source": [
    "## Práctica Calificada 5\n"
   ]
  },
  {
   "cell_type": "markdown",
   "metadata": {},
   "source": [
    "#### Pregunta 2\n",
    "\n",
    "\\begin{align*}\n",
    "f(\\delta):= \\min \\quad       &x_1 +(2 + \\delta)x_2 - 2x_3\\\\\n",
    "            \\text{s.t.}\\quad   &x_1 + x_2 + x_3 \\le 2\\\\\n",
    "                        &2x_1 + x_2 + 3x_3 \\le 4\\\\\n",
    "                        &x_1 + 2x_2 - x_3 \\le 2\\\\\n",
    "                        &x_1\\ge 0, x_2\\ge 0, x_3\\ge 0\n",
    "\\end{align*}"
   ]
  },
  {
   "cell_type": "code",
   "execution_count": 31,
   "metadata": {},
   "outputs": [],
   "source": [
    "A = [[1, 1, 1., 1, 0, 0],\n",
    "     [2, 1, 3., 0, 1, 0],\n",
    "     [1, 2, -1, 0, 0, 1]]\n",
    "\n",
    "b = [2, 4, 2.]\n",
    "\n",
    "c = lambda delta: [1, 2 + delta, -2, 0, 0, 0]\n",
    " "
   ]
  },
  {
   "cell_type": "markdown",
   "metadata": {},
   "source": [
    "$\\mathbf v_1^T = (0, 1, 0)$"
   ]
  },
  {
   "cell_type": "code",
   "execution_count": 32,
   "metadata": {},
   "outputs": [
    {
     "name": "stdout",
     "output_type": "stream",
     "text": [
      "vertex = [0. 0. 0. 2. 4. 2.], x_B = [4, 5, 6]\n",
      "[[ 1.  2. -2.  0.  0.  0.  0.]\n",
      " [ 1.  1.  1.  1.  0.  0.  2.]\n",
      " [ 2.  1.  3.  0.  1.  0.  4.]\n",
      " [ 1.  2. -1.  0.  0.  1.  2.]]\n",
      "vertex = [0. 1. 0. 1. 3. 0.], x_B = [4, 5, 2]\n",
      "[[ 0.   0.  -1.   0.   0.  -1.  -2. ]\n",
      " [ 0.5  0.   1.5  1.   0.  -0.5  1. ]\n",
      " [ 1.5  0.   3.5  0.   1.  -0.5  3. ]\n",
      " [ 0.5  1.  -0.5  0.   0.   0.5  1. ]]\n"
     ]
    },
    {
     "data": {
      "text/latex": [
       "$\\displaystyle \\left[\\begin{matrix}1 & \\delta + 2 & -2 & 0 & 0 & 0 & 0\\\\0.5 & 0 & 1.5 & 1.0 & 0 & -0.5 & 1.0\\\\1.5 & 0 & 3.5 & 0 & 1.0 & -0.5 & 3.0\\\\0.5 & 1.0 & -0.5 & 0 & 0 & 0.5 & 1.0\\end{matrix}\\right]$"
      ],
      "text/plain": [
       "Matrix([\n",
       "[  1, \\delta + 2,   -2,   0,   0,    0,   0],\n",
       "[0.5,          0,  1.5, 1.0,   0, -0.5, 1.0],\n",
       "[1.5,          0,  3.5,   0, 1.0, -0.5, 3.0],\n",
       "[0.5,        1.0, -0.5,   0,   0,  0.5, 1.0]])"
      ]
     },
     "metadata": {},
     "output_type": "display_data"
    },
    {
     "name": "stdout",
     "output_type": "stream",
     "text": [
      "Cost corrected\n"
     ]
    },
    {
     "data": {
      "text/latex": [
       "$\\displaystyle \\left[\\begin{matrix}- \\frac{\\delta}{2} & 0 & \\frac{\\delta}{2} - 1 & 0 & 0 & - \\frac{\\delta}{2} - 1 & - \\delta - 2\\\\\\frac{1}{2} & 0 & \\frac{3}{2} & 1 & 0 & - \\frac{1}{2} & 1\\\\\\frac{3}{2} & 0 & \\frac{7}{2} & 0 & 1 & - \\frac{1}{2} & 3\\\\\\frac{1}{2} & 1 & - \\frac{1}{2} & 0 & 0 & \\frac{1}{2} & 1\\end{matrix}\\right]$"
      ],
      "text/plain": [
       "Matrix([\n",
       "[-\\delta/2, 0, \\delta/2 - 1, 0, 0, -\\delta/2 - 1, -\\delta - 2],\n",
       "[      1/2, 0,          3/2, 1, 0,          -1/2,           1],\n",
       "[      3/2, 0,          7/2, 0, 1,          -1/2,           3],\n",
       "[      1/2, 1,         -1/2, 0, 0,           1/2,           1]])"
      ]
     },
     "execution_count": 32,
     "metadata": {},
     "output_type": "execute_result"
    }
   ],
   "source": [
    "basic_var = [3, 4, 5]\n",
    "\n",
    "tableau = build_tableau(A, b, c(0))\n",
    "opt_tableau = simplex(tableau, basic_var)\n",
    "opt_tableau = sp.Matrix(opt_tableau.tolist())\n",
    "opt_tableau[0, :-1] = sp.Matrix(c(delta)).T\n",
    "opt_tableau[0, -1] = 0\n",
    "display(opt_tableau)\n",
    "\n",
    "correct_symbolic_cost(opt_tableau, basic_var)\n",
    "sp.nsimplify(opt_tableau, rational=True)"
   ]
  },
  {
   "cell_type": "markdown",
   "metadata": {},
   "source": [
    "$\\mathbf v_2^T = (2, 0, 0)$"
   ]
  },
  {
   "cell_type": "code",
   "execution_count": 33,
   "metadata": {},
   "outputs": [
    {
     "name": "stdout",
     "output_type": "stream",
     "text": [
      "vertex = [0. 0. 0. 2. 4. 2.], x_B = [4, 5, 6]\n",
      "[[ 1.   1.5 -2.   0.   0.   0.   0. ]\n",
      " [ 1.   1.   1.   1.   0.   0.   2. ]\n",
      " [ 2.   1.   3.   0.   1.   0.   4. ]\n",
      " [ 1.   2.  -1.   0.   0.   1.   2. ]]\n",
      "vertex = [0. 1. 0. 1. 3. 0.], x_B = [4, 5, 2]\n",
      "[[ 0.25  0.   -1.25  0.    0.   -0.75 -1.5 ]\n",
      " [ 0.5   0.    1.5   1.    0.   -0.5   1.  ]\n",
      " [ 1.5   0.    3.5   0.    1.   -0.5   3.  ]\n",
      " [ 0.5   1.   -0.5   0.    0.    0.5   1.  ]]\n",
      "vertex = [2. 0. 0. 0. 0. 0.], x_B = [1, 5, 2]\n",
      "[[ 0.   0.  -2.  -0.5  0.  -0.5 -2. ]\n",
      " [ 1.   0.   3.   2.   0.  -1.   2. ]\n",
      " [ 0.   0.  -1.  -3.   1.   1.   0. ]\n",
      " [ 0.   1.  -2.  -1.   0.   1.   0. ]]\n"
     ]
    },
    {
     "data": {
      "text/latex": [
       "$\\displaystyle \\left[\\begin{matrix}1 & \\delta + 1.5 & -2 & 0 & 0 & 0 & 0\\\\1.0 & 0 & 3.0 & 2.0 & 0 & -1.0 & 2.0\\\\0 & 0 & -1.0 & -3.0 & 1.0 & 1.0 & 0\\\\0 & 1.0 & -2.0 & -1.0 & 0 & 1.0 & 0\\end{matrix}\\right]$"
      ],
      "text/plain": [
       "Matrix([\n",
       "[  1, \\delta + 1.5,   -2,    0,   0,    0,   0],\n",
       "[1.0,            0,  3.0,  2.0,   0, -1.0, 2.0],\n",
       "[  0,            0, -1.0, -3.0, 1.0,  1.0,   0],\n",
       "[  0,          1.0, -2.0, -1.0,   0,  1.0,   0]])"
      ]
     },
     "metadata": {},
     "output_type": "display_data"
    },
    {
     "name": "stdout",
     "output_type": "stream",
     "text": [
      "Cost corrected\n"
     ]
    },
    {
     "data": {
      "text/latex": [
       "$\\displaystyle \\left[\\begin{matrix}0 & 0 & 2 \\delta - 2 & \\delta - \\frac{1}{2} & 0 & - \\delta - \\frac{1}{2} & -2\\\\1 & 0 & 3 & 2 & 0 & -1 & 2\\\\0 & 0 & -1 & -3 & 1 & 1 & 0\\\\0 & 1 & -2 & -1 & 0 & 1 & 0\\end{matrix}\\right]$"
      ],
      "text/plain": [
       "Matrix([\n",
       "[0, 0, 2*\\delta - 2, \\delta - 1/2, 0, -\\delta - 1/2, -2],\n",
       "[1, 0,            3,            2, 0,            -1,  2],\n",
       "[0, 0,           -1,           -3, 1,             1,  0],\n",
       "[0, 1,           -2,           -1, 0,             1,  0]])"
      ]
     },
     "execution_count": 33,
     "metadata": {},
     "output_type": "execute_result"
    }
   ],
   "source": [
    "basic_var = [3, 4, 5]\n",
    "\n",
    "tableau = build_tableau(A, b, c(-1/2))\n",
    "opt_tableau = simplex(tableau, basic_var)\n",
    "opt_tableau = sp.Matrix(opt_tableau.tolist())\n",
    "opt_tableau[0, :-1] = sp.Matrix(c(-1/2 + delta)).T\n",
    "opt_tableau[0, -1] = 0\n",
    "display(opt_tableau)\n",
    "\n",
    "correct_symbolic_cost(opt_tableau, basic_var)\n",
    "sp.nsimplify(opt_tableau, rational=True)\n"
   ]
  },
  {
   "cell_type": "markdown",
   "metadata": {},
   "source": [
    "$\\mathbf v_2^T = (0, 4/3, 2/3)$"
   ]
  },
  {
   "cell_type": "code",
   "execution_count": 34,
   "metadata": {},
   "outputs": [
    {
     "name": "stdout",
     "output_type": "stream",
     "text": [
      "vertex = [0. 0. 0. 2. 4. 2.], x_B = [4, 5, 6]\n",
      "[[ 1.  5. -2.  0.  0.  0.  0.]\n",
      " [ 1.  1.  1.  1.  0.  0.  2.]\n",
      " [ 2.  1.  3.  0.  1.  0.  4.]\n",
      " [ 1.  2. -1.  0.  0.  1.  2.]]\n",
      "vertex = [0. 1. 0. 1. 3. 0.], x_B = [4, 5, 2]\n",
      "[[-1.5  0.   0.5  0.   0.  -2.5 -5. ]\n",
      " [ 0.5  0.   1.5  1.   0.  -0.5  1. ]\n",
      " [ 1.5  0.   3.5  0.   1.  -0.5  3. ]\n",
      " [ 0.5  1.  -0.5  0.   0.   0.5  1. ]]\n",
      "vertex = [0.         1.33333333 0.66666667 0.         0.66666667 0.        ], x_B = [3, 5, 2]\n",
      "[[-1.66666667  0.          0.         -0.33333333  0.         -2.33333333 -5.33333333]\n",
      " [ 0.33333333  0.          1.          0.66666667  0.         -0.33333333  0.66666667]\n",
      " [ 0.33333333  0.          0.         -2.33333333  1.          0.66666667  0.66666667]\n",
      " [ 0.66666667  1.          0.          0.33333333  0.          0.33333333  1.33333333]]\n"
     ]
    },
    {
     "data": {
      "text/latex": [
       "$\\displaystyle \\left[\\begin{matrix}1 & \\delta + 5 & -2 & 0 & 0 & 0 & 0\\\\0.333333333333333 & 0 & 1.0 & 0.666666666666667 & 0 & -0.333333333333333 & 0.666666666666667\\\\0.333333333333333 & 0 & 0 & -2.33333333333333 & 1.0 & 0.666666666666667 & 0.666666666666667\\\\0.666666666666667 & 1.0 & 0 & 0.333333333333333 & 0 & 0.333333333333333 & 1.33333333333333\\end{matrix}\\right]$"
      ],
      "text/plain": [
       "Matrix([\n",
       "[                1, \\delta + 5,  -2,                 0,   0,                  0,                 0],\n",
       "[0.333333333333333,          0, 1.0, 0.666666666666667,   0, -0.333333333333333, 0.666666666666667],\n",
       "[0.333333333333333,          0,   0, -2.33333333333333, 1.0,  0.666666666666667, 0.666666666666667],\n",
       "[0.666666666666667,        1.0,   0, 0.333333333333333,   0,  0.333333333333333,  1.33333333333333]])"
      ]
     },
     "metadata": {},
     "output_type": "display_data"
    },
    {
     "name": "stdout",
     "output_type": "stream",
     "text": [
      "Cost corrected\n"
     ]
    },
    {
     "data": {
      "text/latex": [
       "$\\displaystyle \\left[\\begin{matrix}- \\frac{2 \\delta}{3} - \\frac{5}{3} & 0 & 0 & - \\frac{\\delta}{3} - \\frac{1}{3} & 0 & - \\frac{\\delta}{3} - \\frac{7}{3} & - \\frac{4 \\delta}{3} - \\frac{16}{3}\\\\\\frac{1}{3} & 0 & 1 & \\frac{2}{3} & 0 & - \\frac{1}{3} & \\frac{2}{3}\\\\\\frac{1}{3} & 0 & 0 & - \\frac{7}{3} & 1 & \\frac{2}{3} & \\frac{2}{3}\\\\\\frac{2}{3} & 1 & 0 & \\frac{1}{3} & 0 & \\frac{1}{3} & \\frac{4}{3}\\end{matrix}\\right]$"
      ],
      "text/plain": [
       "Matrix([\n",
       "[-2*\\delta/3 - 5/3, 0, 0, -\\delta/3 - 1/3, 0, -\\delta/3 - 7/3, -4*\\delta/3 - 16/3],\n",
       "[              1/3, 0, 1,             2/3, 0,            -1/3,                2/3],\n",
       "[              1/3, 0, 0,            -7/3, 1,             2/3,                2/3],\n",
       "[              2/3, 1, 0,             1/3, 0,             1/3,                4/3]])"
      ]
     },
     "execution_count": 34,
     "metadata": {},
     "output_type": "execute_result"
    }
   ],
   "source": [
    "basic_var = [3, 4, 5]\n",
    "\n",
    "tableau = build_tableau(A, b, c(3))\n",
    "opt_tableau = simplex(tableau, basic_var)\n",
    "opt_tableau = sp.Matrix(opt_tableau.tolist())\n",
    "opt_tableau[0, :-1] = sp.Matrix(c(3 + delta)).T\n",
    "opt_tableau[0, -1] = 0\n",
    "display(opt_tableau)\n",
    "\n",
    "correct_symbolic_cost(opt_tableau, basic_var)\n",
    "sp.nsimplify(opt_tableau, rational=True)\n"
   ]
  },
  {
   "cell_type": "code",
   "execution_count": 35,
   "metadata": {},
   "outputs": [
    {
     "data": {
      "image/png": "[encoded data removed]",
      "text/plain": [
       "<Figure size 432x288 with 1 Axes>"
      ]
     },
     "metadata": {
      "needs_background": "light"
     },
     "output_type": "display_data"
    }
   ],
   "source": [
    "def z(delta):\n",
    "    if delta < 0:\n",
    "        return 2\n",
    "    elif 0 <= delta < 2:\n",
    "        return delta + 2\n",
    "    else:\n",
    "        return 4 / 3 * (delta + 1)\n",
    "\n",
    "\n",
    "interval_point = [0, 2]\n",
    "z_point = [z(d) for d in interval_point]\n",
    "\n",
    "interval = np.linspace(-1, 2.5)\n",
    "z_plot = [z(d) for d in interval]\n",
    "\n",
    "plt.title(\"$z^*(\\delta)$\")\n",
    "plt.xlabel(\"$\\delta$\")\n",
    "plt.ylabel(\"$z^*(\\delta)$\")\n",
    "plt.plot(interval, z_plot)\n",
    "plt.plot(interval_point, z_point, 'o', c='r')\n",
    "plt.show()\n"
   ]
  },
  {
   "cell_type": "markdown",
   "metadata": {},
   "source": [
    "## Práctica Dirigida 7"
   ]
  },
  {
   "cell_type": "markdown",
   "metadata": {},
   "source": [
    "#### 1. Hallar el gráfico de la función $f:\\mathbb{R} \\rightarrow \\mathbb{R}$ definida como\n",
    "\n",
    "\\begin{align*}\n",
    "f(\\delta) := \\max \\quad&x_1 + (1 + \\delta)x_2 - 3 x_3\\\\\n",
    "\\quad{s.t.}\\quad    &x_1 + x_2 + x_3 \\le 2\\\\\n",
    "                    &2x_1 + x_2 + 3x_3 \\le 4\\\\\n",
    "                    &x_1 + 2x_2 - x_3 \\le 2\\\\\n",
    "                    &x_1 \\ge 0, x_2 \\ge 0, x_3 \\ge 0.\n",
    "\\end{align*}"
   ]
  },
  {
   "cell_type": "code",
   "execution_count": 36,
   "metadata": {},
   "outputs": [],
   "source": [
    "A = [[1, 1, 1., 1, 0, 0],\n",
    "     [2, 1, 3., 0, 1, 0],\n",
    "     [1, 2, -1, 0, 0, 1]]\n",
    "\n",
    "b = [2, 4, 2.]\n",
    "\n",
    "c = lambda delta: [1, 1 + delta, -3, 0, 0, 0]\n"
   ]
  },
  {
   "cell_type": "markdown",
   "metadata": {},
   "source": [
    "Caso 1: $\\delta = 0$"
   ]
  },
  {
   "cell_type": "code",
   "execution_count": 37,
   "metadata": {},
   "outputs": [
    {
     "name": "stdout",
     "output_type": "stream",
     "text": [
      "vertex = [0. 0. 0. 2. 4. 2.], x_B = [4, 5, 6]\n",
      "[[ 1.  1. -3.  0.  0.  0.  0.]\n",
      " [ 1.  1.  1.  1.  0.  0.  2.]\n",
      " [ 2.  1.  3.  0.  1.  0.  4.]\n",
      " [ 1.  2. -1.  0.  0.  1.  2.]]\n",
      "vertex = [2. 0. 0. 0. 0. 0.], x_B = [1, 5, 6]\n",
      "[[ 0.  0. -4. -1.  0.  0. -2.]\n",
      " [ 1.  1.  1.  1.  0.  0.  2.]\n",
      " [ 0. -1.  1. -2.  1.  0.  0.]\n",
      " [ 0.  1. -2. -1.  0.  1.  0.]]\n"
     ]
    }
   ],
   "source": [
    "basic_var = [3, 4, 5]\n",
    "\n",
    "tableau = build_tableau(A, b, c(0))\n",
    "\n",
    "simplex(tableau, basic_var);"
   ]
  },
  {
   "cell_type": "markdown",
   "metadata": {},
   "source": [
    "**Observación:** Dado que hay un costo no básico $(\\alpha=1)$ igual a $0$ (Teorema 3.7.2), el modelo tiene soluciones óptimas múltiples. Aplicando el test de mínimo ratio con la columna $\\alpha$ se obtiene que $\\delta=0$ (solución básica degenerada), por lo que no podemos saltar a otro vértice. Utilizamos otro método para saltar de vértice: Si $(2, 0, 0, 0, 0)$ es una solucion degenerada, con variables básicas $x_1, x_5, x_6$, donde $x_5=x_6=0$, puedo considerar otra variable con valor $0$, $x_2, x_3, x_4$, siempre y cuando $B^{-1}$ exista (invertible). Entonces pivoteamos la tabla óptima anterior para obtener dos tablas con variables básicas $x_1, x_2, x_6$ y $x_1, x_5, x_2$:"
   ]
  },
  {
   "cell_type": "code",
   "execution_count": 38,
   "metadata": {},
   "outputs": [
    {
     "name": "stdout",
     "output_type": "stream",
     "text": [
      "[0 1 5]\n",
      "[[ 0.  0. -4. -1.  0.  0. -2.]\n",
      " [ 1.  0.  2. -1.  1.  0.  2.]\n",
      " [-0.  1. -1.  2. -1. -0. -0.]\n",
      " [ 0.  0. -1. -3.  1.  1.  0.]]\n"
     ]
    }
   ],
   "source": [
    "# para [x0, x1, x5] empezamos con indice 0 \n",
    "tableau_1 = np.copy(tableau)\n",
    "basic_var_1 = np.copy(basic_var)\n",
    "alpha = 1  # donde el costo es 0 puedo saltar a otros vértices\n",
    "x_degenerate = 1\n",
    "pivoting(tableau_1, x_degenerate + 1, alpha)\n",
    "basic_var_1[x_degenerate] = alpha\n",
    "print(f\"{basic_var_1}\\n{tableau_1}\")\n"
   ]
  },
  {
   "cell_type": "code",
   "execution_count": 39,
   "metadata": {},
   "outputs": [
    {
     "name": "stdout",
     "output_type": "stream",
     "text": [
      "[0 4 1]\n",
      "[[ 0.  0. -4. -1.  0.  0. -2.]\n",
      " [ 1.  0.  3.  2.  0. -1.  2.]\n",
      " [ 0.  0. -1. -3.  1.  1.  0.]\n",
      " [ 0.  1. -2. -1.  0.  1.  0.]]\n"
     ]
    }
   ],
   "source": [
    "# para [x0, x4, x1] empezamos con indice 0 \n",
    "tableau_2 = np.copy(tableau)\n",
    "basic_var_2 = np.copy(basic_var)\n",
    "alpha = 1  # donde el costo es 0 puedo saltar a otros vértices\n",
    "x_degenerate = 2\n",
    "pivoting(tableau_2, x_degenerate + 1, alpha)\n",
    "basic_var_2[x_degenerate] = alpha\n",
    "print(f\"{basic_var_2}\\n{tableau_2}\")\n"
   ]
  },
  {
   "cell_type": "markdown",
   "metadata": {},
   "source": [
    "Luego de tener la tabla óptima en ambos casos procedemos a añadir el coeficiente $\\delta$ para perturbarlo y corregirlo para hallar los intervalos de tolerancia.\n",
    "\n",
    "Caso 2: $\\delta = 1$"
   ]
  },
  {
   "cell_type": "code",
   "execution_count": 40,
   "metadata": {},
   "outputs": [
    {
     "name": "stdout",
     "output_type": "stream",
     "text": [
      "vertex = [0. 0. 0. 2. 4. 2.], x_B = [4, 5, 6]\n",
      "[[ 1.  2. -3.  0.  0.  0.  0.]\n",
      " [ 1.  1.  1.  1.  0.  0.  2.]\n",
      " [ 2.  1.  3.  0.  1.  0.  4.]\n",
      " [ 1.  2. -1.  0.  0.  1.  2.]]\n",
      "vertex = [0. 1. 0. 1. 3. 0.], x_B = [4, 5, 2]\n",
      "[[ 0.   0.  -2.   0.   0.  -1.  -2. ]\n",
      " [ 0.5  0.   1.5  1.   0.  -0.5  1. ]\n",
      " [ 1.5  0.   3.5  0.   1.  -0.5  3. ]\n",
      " [ 0.5  1.  -0.5  0.   0.   0.5  1. ]]\n"
     ]
    }
   ],
   "source": [
    "basic_var = [3, 4, 5]\n",
    "\n",
    "tableau = build_tableau(A, b, c(1))\n",
    "\n",
    "simplex(tableau, basic_var);"
   ]
  },
  {
   "cell_type": "markdown",
   "metadata": {},
   "source": [
    "En este caso obtuve otro vértice. Si hubiera salido el vértice anterior utilizo el costo no básico y el test de mínimo ratio para moverme de vértice "
   ]
  },
  {
   "cell_type": "markdown",
   "metadata": {},
   "source": [
    "#### 2. Hallar el gráfico de la función $f:\\mathbb{R} \\rightarrow \\mathbb{R}$ definida como\n",
    "\n",
    "\\begin{align*}\n",
    "f(\\delta) := \\max \\quad&x_1 + x_2 + \\delta x_3\\\\\n",
    "\\quad{s.t.}\\quad    &x_1 + x_2 + x_3 \\le 1\\\\\n",
    "                    &x_1 \\ge 0, x_2 \\ge 0, x_3 \\ge 0.\n",
    "\\end{align*}"
   ]
  },
  {
   "cell_type": "code",
   "execution_count": 41,
   "metadata": {},
   "outputs": [],
   "source": [
    "A = [[1., 1, 1, 1]]\n",
    "\n",
    "b = [1.]\n",
    "\n",
    "c = lambda delta: [1, 1., 0 + delta, 0]\n"
   ]
  },
  {
   "cell_type": "markdown",
   "metadata": {},
   "source": [
    "$\\mathbf v = (1, 0, 0)$"
   ]
  },
  {
   "cell_type": "code",
   "execution_count": 42,
   "metadata": {},
   "outputs": [
    {
     "name": "stdout",
     "output_type": "stream",
     "text": [
      "Simplex process\n",
      "vertex = [0. 0. 0. 1.], x_B = [4]\n",
      "[[1. 1. 0. 0. 0.]\n",
      " [1. 1. 1. 1. 1.]]\n",
      "vertex = [1. 0. 0. 0.], x_B = [1]\n",
      "[[ 0.  0. -1. -1. -1.]\n",
      " [ 1.  1.  1.  1.  1.]]\n",
      "Perturbation\n"
     ]
    },
    {
     "data": {
      "text/latex": [
       "$\\displaystyle \\left[\\begin{matrix}1 & 1.0 & \\delta & 0 & 0\\\\1.0 & 1.0 & 1.0 & 1.0 & 1.0\\end{matrix}\\right]$"
      ],
      "text/plain": [
       "Matrix([\n",
       "[  1, 1.0, \\delta,   0,   0],\n",
       "[1.0, 1.0,    1.0, 1.0, 1.0]])"
      ]
     },
     "metadata": {},
     "output_type": "display_data"
    },
    {
     "name": "stdout",
     "output_type": "stream",
     "text": [
      "Cost corrected\n"
     ]
    },
    {
     "data": {
      "text/latex": [
       "$\\displaystyle \\left[\\begin{matrix}0 & 0 & \\delta - 1 & -1 & -1\\\\1 & 1 & 1 & 1 & 1\\end{matrix}\\right]$"
      ],
      "text/plain": [
       "Matrix([\n",
       "[0, 0, \\delta - 1, -1, -1],\n",
       "[1, 1,          1,  1,  1]])"
      ]
     },
     "metadata": {},
     "output_type": "display_data"
    }
   ],
   "source": [
    "basic_var = [3]\n",
    "\n",
    "tableau = build_tableau(A, b, c(0))\n",
    "\n",
    "print(\"Simplex process\")\n",
    "opt_tableau = simplex(tableau, basic_var)\n",
    "opt_tableau = sp.Matrix(opt_tableau.tolist())\n",
    "opt_tableau[0, :-1] = sp.Matrix(c(delta)).T\n",
    "opt_tableau[0, -1] = 0\n",
    "print(\"Perturbation\")\n",
    "display(opt_tableau)\n",
    "\n",
    "correct_symbolic_cost(opt_tableau, basic_var)\n",
    "display(sp.nsimplify(opt_tableau, rational=True))"
   ]
  },
  {
   "cell_type": "markdown",
   "metadata": {},
   "source": [
    "$\\mathbf v = (0, 0, 1)$"
   ]
  },
  {
   "cell_type": "code",
   "execution_count": 43,
   "metadata": {},
   "outputs": [
    {
     "name": "stdout",
     "output_type": "stream",
     "text": [
      "Simplex process\n",
      "vertex = [0. 0. 0. 1.], x_B = [4]\n",
      "[[1. 1. 2. 0. 0.]\n",
      " [1. 1. 1. 1. 1.]]\n",
      "vertex = [0. 0. 1. 0.], x_B = [3]\n",
      "[[-1. -1.  0. -2. -2.]\n",
      " [ 1.  1.  1.  1.  1.]]\n",
      "Perturbation\n"
     ]
    },
    {
     "data": {
      "text/latex": [
       "$\\displaystyle \\left[\\begin{matrix}1 & 1.0 & \\delta + 2 & 0 & 0\\\\1.0 & 1.0 & 1.0 & 1.0 & 1.0\\end{matrix}\\right]$"
      ],
      "text/plain": [
       "Matrix([\n",
       "[  1, 1.0, \\delta + 2,   0,   0],\n",
       "[1.0, 1.0,        1.0, 1.0, 1.0]])"
      ]
     },
     "metadata": {},
     "output_type": "display_data"
    },
    {
     "name": "stdout",
     "output_type": "stream",
     "text": [
      "Cost corrected\n"
     ]
    },
    {
     "data": {
      "text/latex": [
       "$\\displaystyle \\left[\\begin{matrix}- \\delta - 1 & - \\delta - 1 & 0 & - \\delta - 2 & - \\delta - 2\\\\1 & 1 & 1 & 1 & 1\\end{matrix}\\right]$"
      ],
      "text/plain": [
       "Matrix([\n",
       "[-\\delta - 1, -\\delta - 1, 0, -\\delta - 2, -\\delta - 2],\n",
       "[          1,           1, 1,           1,           1]])"
      ]
     },
     "metadata": {},
     "output_type": "display_data"
    }
   ],
   "source": [
    "basic_var = [3]\n",
    "\n",
    "tableau = build_tableau(A, b, c(2))\n",
    "\n",
    "print(\"Simplex process\")\n",
    "opt_tableau = simplex(tableau, basic_var)\n",
    "opt_tableau = sp.Matrix(opt_tableau.tolist())\n",
    "opt_tableau[0, :-1] = sp.Matrix(c(2 + delta)).T\n",
    "opt_tableau[0, -1] = 0\n",
    "print(\"Perturbation\")\n",
    "display(opt_tableau)\n",
    "\n",
    "correct_symbolic_cost(opt_tableau, basic_var)\n",
    "display(sp.nsimplify(opt_tableau, rational=True))"
   ]
  },
  {
   "cell_type": "code",
   "execution_count": 44,
   "metadata": {},
   "outputs": [
    {
     "data": {
      "image/png": "[encoded data removed]",
      "text/plain": [
       "<Figure size 432x288 with 1 Axes>"
      ]
     },
     "metadata": {
      "needs_background": "light"
     },
     "output_type": "display_data"
    }
   ],
   "source": [
    "z = lambda delta: 1 if delta < 1 else delta\n",
    "\n",
    "interval = np.linspace(0, 2)\n",
    "z_plot = [z(d) for d in interval]\n",
    "\n",
    "plt.xlabel(\"$\\delta$\")\n",
    "plt.ylabel(\"$z^*(\\delta)$\")\n",
    "plt.plot(interval, z_plot)\n",
    "plt.plot(1, z(1), 'o', c='r')\n",
    "plt.axis(\"scaled\")\n",
    "plt.show()\n"
   ]
  },
  {
   "cell_type": "markdown",
   "metadata": {},
   "source": [
    "#### 3. Hallar el gráfico de la función $f:\\mathbb{R} \\rightarrow \\mathbb{R}$ definida como\n",
    "\n",
    "\\begin{align*}\n",
    "f(\\delta) := \\max \\quad& \\delta x_3\\\\\n",
    "\\text{s.t.}\\quad   &x_1  \\le 1\\\\\n",
    "            &x_2  \\le 1\\\\\n",
    "&x_1 \\ge 0, x_2 \\ge 0, x_3 \\ge 0.\n",
    "\\end{align*}\n",
    "*Solution*\n",
    "\n",
    "$f(\\delta) = 0 \\text{ if } \\delta \\le 0 \\text{ else } \\infty $"
   ]
  }
 ],
 "metadata": {
  "kernelspec": {
   "display_name": "Python 3.10.5 64-bit",
   "language": "python",
   "name": "python3"
  },
  "language_info": {
   "codemirror_mode": {
    "name": "ipython",
    "version": 3
   },
   "file_extension": ".py",
   "mimetype": "text/x-python",
   "name": "python",
   "nbconvert_exporter": "python",
   "pygments_lexer": "ipython3",
   "version": "3.10.6"
  },
  "orig_nbformat": 4,
  "vscode": {
   "interpreter": {
    "hash": "590f4a299ae404e723bbc5f32e9a7b98b836c3c65ce9112bc934ac92a06ceee3"
   }
  }
 },
 "nbformat": 4,
 "nbformat_minor": 2
}
