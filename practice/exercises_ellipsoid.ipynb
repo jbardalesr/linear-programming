{
 "cells": [
  {
   "cell_type": "markdown",
   "metadata": {},
   "source": [
    "# Ellipsoidal Algorithm"
   ]
  },
  {
   "cell_type": "code",
   "execution_count": 2,
   "metadata": {},
   "outputs": [],
   "source": [
    "import sys\n",
    "sys.path.insert(0, \"..\")\n",
    "\n",
    "from algorithms.ellipsoid_method import solve_problem\n",
    "import numpy as np\n"
   ]
  },
  {
   "cell_type": "markdown",
   "metadata": {},
   "source": [
    "Example"
   ]
  },
  {
   "cell_type": "code",
   "execution_count": 3,
   "metadata": {},
   "outputs": [
    {
     "name": "stdout",
     "output_type": "stream",
     "text": [
      "Ellipsoidal algorithm\n",
      "01 [3.986159 3.986159]\n",
      "02 [3.66431728 5.30985786]\n",
      "03 [4.25192356 4.63913662]\n",
      "04 [4.46716119 4.43531597]\n",
      "05 [4.51119612 4.44815193]\n",
      "06 [4.45675407 4.53687519]\n",
      "07 [4.50544352 4.47963619]\n",
      "08 [4.50430763 4.48634045]\n",
      "09 [4.49960196 4.49560297]\n",
      "10 [4.50012793 4.49610697]\n",
      "11 [4.50029617 4.49665969]\n",
      "12 [4.50033174 4.49713173]\n",
      "13 [4.49834708 4.50134233]\n",
      "14 [4.49863621 4.50123659]\n",
      "15 [4.49884882 4.5011152 ]\n",
      "16 [4.50011139 4.49964906]\n",
      "17 [4.49997488 4.49994714]\n",
      "18 [4.49999779 4.49996261]\n",
      "19 [4.49994708 4.50004171]\n"
     ]
    }
   ],
   "source": [
    "A = np.array([[1, 1],\n",
    "              [3, 1],\n",
    "              [1, 0],\n",
    "              [0, 1.]])\n",
    "\n",
    "b = np.array([9, 18, 7, 6.])\n",
    "\n",
    "c = np.array([3, 2.])\n",
    "\n",
    "# v < vol(P<) < V = vol(E0)\n",
    "V0 = 255\n",
    "v0 = 20\n",
    "# elipsoide (x-x0)^TD^-1(x-x0) centrado en [6,6] cuyo radio envuelve P<\n",
    "x0 = [6, 6]\n",
    "D0 = [[73, 0.],\n",
    "      [0, 73.]]\n",
    "\n",
    "print(\"Ellipsoidal algorithm\")\n",
    "solve_problem(A, b, c, x0, D0, V0, v0)\n"
   ]
  }
 ],
 "metadata": {
  "kernelspec": {
   "display_name": "Python 3.10.4 64-bit",
   "language": "python",
   "name": "python3"
  },
  "language_info": {
   "codemirror_mode": {
    "name": "ipython",
    "version": 3
   },
   "file_extension": ".py",
   "mimetype": "text/x-python",
   "name": "python",
   "nbconvert_exporter": "python",
   "pygments_lexer": "ipython3",
   "version": "3.10.6"
  },
  "orig_nbformat": 4,
  "vscode": {
   "interpreter": {
    "hash": "590f4a299ae404e723bbc5f32e9a7b98b836c3c65ce9112bc934ac92a06ceee3"
   }
  }
 },
 "nbformat": 4,
 "nbformat_minor": 2
}
