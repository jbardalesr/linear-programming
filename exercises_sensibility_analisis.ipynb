{
 "cells": [
  {
   "cell_type": "code",
   "execution_count": 1,
   "metadata": {},
   "outputs": [],
   "source": [
    "from simplex import *\n",
    "import sympy as sp\n",
    "import numpy as np"
   ]
  },
  {
   "cell_type": "markdown",
   "metadata": {},
   "source": [
    "## Linear and Integer Optimization: Chapter 5 Sensibility Analysis"
   ]
  },
  {
   "cell_type": "code",
   "execution_count": 125,
   "metadata": {},
   "outputs": [],
   "source": [
    "def pivoting_symbolic(tableau: np.ndarray, row: int, col: int) -> np.ndarray:\n",
    "    # escale pivot row min to 1.0\n",
    "    tableau[row, :] = tableau[row, :] / tableau[row, col]\n",
    "    # pivot proccess: convert al column to zero except row\n",
    "    for k in range(tableau.shape[0]):\n",
    "        if k != row:\n",
    "            tableau[k, :] = tableau[k, :] - tableau[k, col] * tableau[row, :]"
   ]
  },
  {
   "cell_type": "code",
   "execution_count": 126,
   "metadata": {},
   "outputs": [
    {
     "data": {
      "text/latex": [
       "$\\displaystyle \\left[\\begin{matrix}0 & 0 & \\frac{\\delta}{2} - \\frac{3}{2} & - \\frac{\\delta}{2} - \\frac{1}{2} & 0 & 0 & - \\frac{9 \\delta}{2} - \\frac{45}{2}\\\\0 & 1 & \\frac{3}{2} & - \\frac{1}{2} & 0 & 0 & \\frac{9}{2}\\\\1 & 0 & - \\frac{1}{2} & \\frac{1}{2} & 0 & 0 & \\frac{9}{2}\\\\0 & 0 & \\frac{1}{2} & - \\frac{1}{2} & 1 & 0 & \\frac{5}{2}\\\\0 & 0 & - \\frac{3}{2} & \\frac{1}{2} & 0 & 1 & \\frac{3}{2}\\end{matrix}\\right]$"
      ],
      "text/plain": [
       "Matrix([\n",
       "[0, 0, \\delta/2 - 3/2, -\\delta/2 - 1/2, 0, 0, -9*\\delta/2 - 45/2],\n",
       "[0, 1,            3/2,            -1/2, 0, 0,                9/2],\n",
       "[1, 0,           -1/2,             1/2, 0, 0,                9/2],\n",
       "[0, 0,            1/2,            -1/2, 1, 0,                5/2],\n",
       "[0, 0,           -3/2,             1/2, 0, 1,                3/2]])"
      ]
     },
     "execution_count": 126,
     "metadata": {},
     "output_type": "execute_result"
    }
   ],
   "source": [
    "delta = sp.symbols(\"\\\\delta\")\n",
    "# update cost of the optimal tableau with perturbations\n",
    "tableau = sp.Matrix([[3 + delta, 2, 0, 0, 0, 0, 0],\n",
    "                     [0., 1., 1.5, -0.5, 0., 0., 4.5],\n",
    "                     [1., 0., -0.5, 0.5, 0., 0., 4.5],\n",
    "                     [0., 0., 0.5, -0.5, 1., 0., 2.5],\n",
    "                     [0., 0., -1.5, 0.5, 0., 1., 1.5]])\n",
    "# solution\n",
    "basic_var = [1, 0, 4, 5]\n",
    "# correct cost\n",
    "pivoting_symbolic(tableau, 2, 0)\n",
    "pivoting_symbolic(tableau, 1, 1)\n",
    "sp.nsimplify(tableau, rational=True)"
   ]
  },
  {
   "cell_type": "markdown",
   "metadata": {},
   "source": [
    "## Práctica Dirigida 6\n"
   ]
  },
  {
   "cell_type": "markdown",
   "metadata": {},
   "source": [
    "#### 2. Sea la función $f : \\mathbb{R} \\rightarrow \\mathbb{R}$ definida como\n",
    "\n",
    "\\begin{align*}\n",
    "f(\\delta) :=\\max (1 + \\delta)x_1& +& x_2&\\\\\n",
    "s.t.\\quad 2x_1& +& x_2& \\le 8\\\\\n",
    "3x_1& +& x_2& \\le 10\\\\\n",
    "{}& {}& x_2& \\le 5\n",
    "\\end{align*}\n",
    "\n",
    "$$x1 \\ge 0, x2 \\ge 0.$$"
   ]
  },
  {
   "cell_type": "markdown",
   "metadata": {},
   "source": [
    "a) Determinar f en un intervalo conteniendo 0, apartir de la información de la tabla simplex optimal."
   ]
  },
  {
   "cell_type": "code",
   "execution_count": 127,
   "metadata": {},
   "outputs": [
    {
     "name": "stdout",
     "output_type": "stream",
     "text": [
      "vertex = [0. 0.], x_B = [3, 4, 5]\n",
      "[[ 1.  1.  0.  0.  0.  0.]\n",
      " [ 2.  1.  1.  0.  0.  8.]\n",
      " [ 3.  1.  0.  1.  0. 10.]\n",
      " [ 0.  1.  0.  0.  1.  5.]]\n",
      "vertex = [3.33333333 0.        ], x_B = [3, 1, 5]\n",
      "[[ 0.          0.66666667  0.         -0.33333333  0.         -3.33333333]\n",
      " [ 0.          0.33333333  1.         -0.66666667  0.          1.33333333]\n",
      " [ 1.          0.33333333  0.          0.33333333  0.          3.33333333]\n",
      " [ 0.          1.          0.          0.          1.          5.        ]]\n",
      "vertex = [2. 4.], x_B = [2, 1, 5]\n",
      "[[ 0.  0. -2.  1.  0. -6.]\n",
      " [ 0.  1.  3. -2.  0.  4.]\n",
      " [ 1.  0. -1.  1.  0.  2.]\n",
      " [ 0.  0. -3.  2.  1.  1.]]\n",
      "vertex = [1.5 5. ], x_B = [2, 1, 4]\n",
      "[[ 0.   0.  -0.5  0.  -0.5 -6.5]\n",
      " [ 0.   1.   0.   0.   1.   5. ]\n",
      " [ 1.   0.   0.5  0.  -0.5  1.5]\n",
      " [ 0.   0.  -1.5  1.   0.5  0.5]]\n"
     ]
    }
   ],
   "source": [
    "# Hallando la tabla óptima\n",
    "A = np.array([[2, 1., 1, 0, 0],\n",
    "              [3, 1., 0, 1, 0],\n",
    "              [0, 1., 0, 0, 1]])\n",
    "\n",
    "b = [8, 10., 5]\n",
    "\n",
    "c = np.array([1, 1.0, 0, 0, 0])\n",
    "\n",
    "basic_var = [2, 3, 4]\n",
    "\n",
    "tableau = build_tableau(A, b, c)\n",
    "\n",
    "simplex(tableau, basic_var);\n"
   ]
  },
  {
   "cell_type": "markdown",
   "metadata": {},
   "source": [
    "b) Determinar la tabla simplex optimal en el intervalo determinado en a)\n"
   ]
  },
  {
   "cell_type": "code",
   "execution_count": 128,
   "metadata": {},
   "outputs": [
    {
     "data": {
      "text/latex": [
       "$\\displaystyle \\left[\\begin{matrix}0 & 0 & - \\frac{\\delta}{2} - \\frac{1}{2} & 0 & \\frac{\\delta}{2} - \\frac{1}{2} & - \\frac{3 \\delta}{2} - \\frac{13}{2}\\\\0 & 1 & 0 & 0 & 1 & 5\\\\1 & 0 & \\frac{1}{2} & 0 & - \\frac{1}{2} & \\frac{3}{2}\\\\0 & 0 & - \\frac{3}{2} & 1 & \\frac{1}{2} & \\frac{1}{2}\\end{matrix}\\right]$"
      ],
      "text/plain": [
       "Matrix([\n",
       "[0, 0, -\\delta/2 - 1/2, 0, \\delta/2 - 1/2, -3*\\delta/2 - 13/2],\n",
       "[0, 1,               0, 0,              1,                  5],\n",
       "[1, 0,             1/2, 0,           -1/2,                3/2],\n",
       "[0, 0,            -3/2, 1,            1/2,                1/2]])"
      ]
     },
     "execution_count": 128,
     "metadata": {},
     "output_type": "execute_result"
    }
   ],
   "source": [
    "# PRIMERA FORMA: tabla optima con los nuevos pesos\n",
    "tableau = sp.Matrix([[1 + delta, 1, 0, 0., 0, 0],\n",
    "                    [0., 1., 0., 0., 1., 5.],\n",
    "                    [1., 0., 0.5, 0., -0.5, 1.5],\n",
    "                    [0., 0., -1.5, 1., 0.5, 0.5]])\n",
    "basic_var = [1, 0, 3]\n",
    "\n",
    "pivoting_symbolic(tableau, 2, 0)\n",
    "pivoting_symbolic(tableau, 1, 1)\n",
    "\n",
    "sp.nsimplify(tableau, rational=True)"
   ]
  },
  {
   "cell_type": "code",
   "execution_count": 129,
   "metadata": {},
   "outputs": [
    {
     "data": {
      "text/latex": [
       "$\\displaystyle \\left[\\begin{matrix}- \\frac{\\delta}{2} - \\frac{1}{2} & \\frac{\\delta}{2} - \\frac{1}{2}\\end{matrix}\\right]$"
      ],
      "text/plain": [
       "Matrix([[-\\delta/2 - 1/2, \\delta/2 - 1/2]])"
      ]
     },
     "execution_count": 129,
     "metadata": {},
     "output_type": "execute_result"
    }
   ],
   "source": [
    "# SEGUNDA FORMA\n",
    "non_basic_var = [2, 4]\n",
    "# B_inv = np.linalg.inv(A[:, basic_var])\n",
    "# N = A[:, non_basic_var]\n",
    "B_invxN = tableau[1:, non_basic_var]\n",
    "# costos perturbados\n",
    "c = sp.Matrix([1 + delta, 1, 0, 0., 0])\n",
    "c_BI = c.row(basic_var)\n",
    "c_NI = c.row(non_basic_var)\n",
    "\n",
    "range_delta = sp.nsimplify(c_NI.T - c_BI.T @ B_invxN)\n",
    "range_delta"
   ]
  },
  {
   "cell_type": "markdown",
   "metadata": {},
   "source": [
    "c) Gráficamente hallar los vértices de la restricción, para luego hallar explicitamente el valor de f"
   ]
  },
  {
   "cell_type": "code",
   "execution_count": 130,
   "metadata": {},
   "outputs": [
    {
     "data": {
      "text/latex": [
       "$\\displaystyle \\left[\\begin{matrix}0\\\\5\\\\\\frac{3 \\delta}{2} + \\frac{13}{2}\\\\2 \\delta + 6\\\\\\frac{10 \\delta}{3} + \\frac{10}{3}\\end{matrix}\\right]$"
      ],
      "text/plain": [
       "Matrix([\n",
       "[                 0],\n",
       "[                 5],\n",
       "[ 3*\\delta/2 + 13/2],\n",
       "[      2*\\delta + 6],\n",
       "[10*\\delta/3 + 10/3]])"
      ]
     },
     "execution_count": 130,
     "metadata": {},
     "output_type": "execute_result"
    }
   ],
   "source": [
    "V = sp.Matrix([[0, 0], [0, 5], [3 / 2, 5], [2, 4], [10 / 3, 0]])\n",
    "cost = sp.Matrix([1 + delta, 1])\n",
    "sp.nsimplify(V@cost)\n"
   ]
  },
  {
   "cell_type": "markdown",
   "metadata": {},
   "source": [
    "## Práctica Calificada 5\n"
   ]
  },
  {
   "cell_type": "code",
   "execution_count": 131,
   "metadata": {},
   "outputs": [
    {
     "name": "stdout",
     "output_type": "stream",
     "text": [
      "vertex = [0. 0. 0.], x_B = [4, 5, 6]\n",
      "[[ 1.  2. -2.  0.  0.  0.  0.]\n",
      " [ 1.  1.  1.  1.  0.  0.  2.]\n",
      " [ 2.  1.  3.  0.  1.  0.  4.]\n",
      " [ 1.  2. -1.  0.  0.  1.  2.]]\n",
      "vertex = [0. 1. 0.], x_B = [4, 5, 2]\n",
      "[[ 0.   0.  -1.   0.   0.  -1.  -2. ]\n",
      " [ 0.5  0.   1.5  1.   0.  -0.5  1. ]\n",
      " [ 1.5  0.   3.5  0.   1.  -0.5  3. ]\n",
      " [ 0.5  1.  -0.5  0.   0.   0.5  1. ]]\n"
     ]
    }
   ],
   "source": [
    "A = [[1, 1, 1., 1, 0, 0],\n",
    "     [2, 1, 3., 0, 1, 0],\n",
    "     [1, 2, -1, 0, 0, 1]]\n",
    "\n",
    "b = [2, 4, 2.]\n",
    "\n",
    "c = [1, 2, -2, 0, 0, 0]\n",
    "\n",
    "basic_var = [3, 4, 5]\n",
    "tableau = build_tableau(A, b, c)\n",
    "\n",
    "simplex(tableau, basic_var);\n"
   ]
  },
  {
   "cell_type": "code",
   "execution_count": 132,
   "metadata": {},
   "outputs": [
    {
     "data": {
      "text/latex": [
       "$\\displaystyle \\left[\\begin{matrix}1.0 & \\delta + 2 & -2 & 0 & 0 & 0 & 0\\\\0.5 & 0 & 1.5 & 1.0 & 0 & -0.5 & 1.0\\\\1.5 & 0 & 3.5 & 0 & 1.0 & -0.5 & 3.0\\\\0.5 & 1.0 & -0.5 & 0 & 0 & 0.5 & 1.0\\end{matrix}\\right]$"
      ],
      "text/plain": [
       "Matrix([\n",
       "[1.0, \\delta + 2,   -2,   0,   0,    0,   0],\n",
       "[0.5,          0,  1.5, 1.0,   0, -0.5, 1.0],\n",
       "[1.5,          0,  3.5,   0, 1.0, -0.5, 3.0],\n",
       "[0.5,        1.0, -0.5,   0,   0,  0.5, 1.0]])"
      ]
     },
     "metadata": {},
     "output_type": "display_data"
    },
    {
     "data": {
      "text/latex": [
       "$\\displaystyle \\left[\\begin{matrix}- 0.5 \\delta & 0 & 0.5 \\delta - 1.0 & 0 & 0 & - 0.5 \\delta - 1.0 & - 1.0 \\delta - 2.0\\\\0.5 & 0 & 1.5 & 1.0 & 0 & -0.5 & 1.0\\\\1.5 & 0 & 3.5 & 0 & 1.0 & -0.5 & 3.0\\\\0.5 & 1.0 & -0.5 & 0 & 0 & 0.5 & 1.0\\end{matrix}\\right]$"
      ],
      "text/plain": [
       "Matrix([\n",
       "[-0.5*\\delta,   0, 0.5*\\delta - 1.0,   0,   0, -0.5*\\delta - 1.0, -1.0*\\delta - 2.0],\n",
       "[        0.5,   0,              1.5, 1.0,   0,              -0.5,               1.0],\n",
       "[        1.5,   0,              3.5,   0, 1.0,              -0.5,               3.0],\n",
       "[        0.5, 1.0,             -0.5,   0,   0,               0.5,               1.0]])"
      ]
     },
     "execution_count": 132,
     "metadata": {},
     "output_type": "execute_result"
    }
   ],
   "source": [
    "tableau = sp.Matrix([[1., 2 + delta, -2, 0., 0., 0, 0.],\n",
    "                    [0.5, 0., 1.5, 1., 0., -0.5, 1.],\n",
    "                     [1.5, 0., 3.5, 0., 1., -0.5, 3.],\n",
    "                     [0.5, 1., -0.5, 0., 0., 0.5, 1.]])\n",
    "\n",
    "basic_var = [3, 4, 1]\n",
    "display(tableau)\n",
    "pivoting_symbolic(tableau, 3, 1)\n",
    "tableau"
   ]
  }
 ],
 "metadata": {
  "kernelspec": {
   "display_name": "Python 3.10.5 64-bit",
   "language": "python",
   "name": "python3"
  },
  "language_info": {
   "codemirror_mode": {
    "name": "ipython",
    "version": 3
   },
   "file_extension": ".py",
   "mimetype": "text/x-python",
   "name": "python",
   "nbconvert_exporter": "python",
   "pygments_lexer": "ipython3",
   "version": "3.10.5"
  },
  "orig_nbformat": 4,
  "vscode": {
   "interpreter": {
    "hash": "590f4a299ae404e723bbc5f32e9a7b98b836c3c65ce9112bc934ac92a06ceee3"
   }
  }
 },
 "nbformat": 4,
 "nbformat_minor": 2
}
