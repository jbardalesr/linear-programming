{
 "cells": [
  {
   "cell_type": "code",
   "execution_count": 42,
   "metadata": {},
   "outputs": [],
   "source": [
    "import matplotlib.pyplot as plt\n",
    "from util import build_tableau\n",
    "from simplex_algorithm import simplex\n",
    "import sympy as sp\n",
    "import numpy as np\n",
    "np.set_printoptions(suppress=True, linewidth=np.nan)\n"
   ]
  },
  {
   "cell_type": "code",
   "execution_count": 22,
   "metadata": {},
   "outputs": [],
   "source": [
    "def pivoting_symbolic(tableau: np.ndarray, row: int, col: int) -> np.ndarray:\n",
    "    # escale pivot row min to 1.0\n",
    "    tableau[row, :] = tableau[row, :] / tableau[row, col]\n",
    "    # pivot proccess: convert al column to zero except row\n",
    "    for k in range(tableau.shape[0]):\n",
    "        if k != row:\n",
    "            tableau[k, :] = tableau[k, :] - tableau[k, col] * tableau[row, :]\n",
    "\n",
    "\n",
    "def correct_symbolic_cost(tableau: np.ndarray, basic_var: list[int]) -> None:\n",
    "    # correct basic variable cost with value distict of zero\n",
    "    for index, col in enumerate(basic_var):\n",
    "        row = index + 1\n",
    "        tableau[0, :] = tableau[0, :] - tableau[0, col] * tableau[row, :]\n",
    "    print(f\"Cost corrected\")\n"
   ]
  },
  {
   "cell_type": "code",
   "execution_count": 23,
   "metadata": {},
   "outputs": [],
   "source": [
    "delta = sp.symbols(\"\\\\delta\")"
   ]
  },
  {
   "cell_type": "markdown",
   "metadata": {},
   "source": [
    "## Linear and Integer Optimization: Chapter 5 Sensibility Analysis"
   ]
  },
  {
   "cell_type": "markdown",
   "metadata": {},
   "source": [
    "#### Dovetail Model"
   ]
  },
  {
   "cell_type": "code",
   "execution_count": 4,
   "metadata": {},
   "outputs": [],
   "source": [
    "A = [[1, 1, 1, 0, 0, 0],\n",
    "     [3, 1, 0, 1, 0, 0],\n",
    "     [1, 0, 0, 0, 1, 0],\n",
    "     [0, 1, 0, 0, 0, 1.0]]\n",
    "\n",
    "b = [9, 18, 7, 6.]\n",
    "\n",
    "c = lambda delta: [delta + 3., 2., 0., 0., 0., 0]"
   ]
  },
  {
   "cell_type": "markdown",
   "metadata": {},
   "source": [
    "$\\mathbf v = (4.5, 4.5)$ óptimo"
   ]
  },
  {
   "cell_type": "code",
   "execution_count": 5,
   "metadata": {},
   "outputs": [
    {
     "name": "stdout",
     "output_type": "stream",
     "text": [
      "vertex = [0. 0.], x_B = [3, 4, 5, 6]\n",
      "[[ 3.  2.  0.  0.  0.  0.  0.]\n",
      " [ 1.  1.  1.  0.  0.  0.  9.]\n",
      " [ 3.  1.  0.  1.  0.  0. 18.]\n",
      " [ 1.  0.  0.  0.  1.  0.  7.]\n",
      " [ 0.  1.  0.  0.  0.  1.  6.]]\n",
      "vertex = [6. 0.], x_B = [3, 1, 5, 6]\n",
      "[[  0.           1.           0.          -1.           0.           0.         -18.        ]\n",
      " [  0.           0.66666667   1.          -0.33333333   0.           0.           3.        ]\n",
      " [  1.           0.33333333   0.           0.33333333   0.           0.           6.        ]\n",
      " [  0.          -0.33333333   0.          -0.33333333   1.           0.           1.        ]\n",
      " [  0.           1.           0.           0.           0.           1.           6.        ]]\n",
      "vertex = [4.5 4.5], x_B = [2, 1, 5, 6]\n",
      "[[  0.    0.   -1.5  -0.5   0.    0.  -22.5]\n",
      " [  0.    1.    1.5  -0.5   0.    0.    4.5]\n",
      " [  1.    0.   -0.5   0.5   0.    0.    4.5]\n",
      " [  0.    0.    0.5  -0.5   1.    0.    2.5]\n",
      " [  0.    0.   -1.5   0.5   0.    1.    1.5]]\n"
     ]
    },
    {
     "data": {
      "text/latex": [
       "$\\displaystyle \\left[\\begin{matrix}\\delta + 3.0 & 2.0 & 0 & 0 & 0 & 0 & 0\\\\0 & 1.0 & 1.5 & -0.5 & 0 & 0 & 4.5\\\\1.0 & 0 & -0.5 & 0.5 & 0 & 0 & 4.5\\\\0 & 0 & 0.5 & -0.5 & 1.0 & 0 & 2.5\\\\0 & 0 & -1.5 & 0.5 & 0 & 1.0 & 1.5\\end{matrix}\\right]$"
      ],
      "text/plain": [
       "Matrix([\n",
       "[\\delta + 3.0, 2.0,    0,    0,   0,   0,   0],\n",
       "[           0, 1.0,  1.5, -0.5,   0,   0, 4.5],\n",
       "[         1.0,   0, -0.5,  0.5,   0,   0, 4.5],\n",
       "[           0,   0,  0.5, -0.5, 1.0,   0, 2.5],\n",
       "[           0,   0, -1.5,  0.5,   0, 1.0, 1.5]])"
      ]
     },
     "metadata": {},
     "output_type": "display_data"
    },
    {
     "name": "stdout",
     "output_type": "stream",
     "text": [
      "Cost corrected\n"
     ]
    },
    {
     "data": {
      "text/latex": [
       "$\\displaystyle \\left[\\begin{matrix}0 & 0 & \\frac{\\delta}{2} - \\frac{3}{2} & - \\frac{\\delta}{2} - \\frac{1}{2} & 0 & 0 & - \\frac{9 \\delta}{2} - \\frac{45}{2}\\\\0 & 1 & \\frac{3}{2} & - \\frac{1}{2} & 0 & 0 & \\frac{9}{2}\\\\1 & 0 & - \\frac{1}{2} & \\frac{1}{2} & 0 & 0 & \\frac{9}{2}\\\\0 & 0 & \\frac{1}{2} & - \\frac{1}{2} & 1 & 0 & \\frac{5}{2}\\\\0 & 0 & - \\frac{3}{2} & \\frac{1}{2} & 0 & 1 & \\frac{3}{2}\\end{matrix}\\right]$"
      ],
      "text/plain": [
       "Matrix([\n",
       "[0, 0, \\delta/2 - 3/2, -\\delta/2 - 1/2, 0, 0, -9*\\delta/2 - 45/2],\n",
       "[0, 1,            3/2,            -1/2, 0, 0,                9/2],\n",
       "[1, 0,           -1/2,             1/2, 0, 0,                9/2],\n",
       "[0, 0,            1/2,            -1/2, 1, 0,                5/2],\n",
       "[0, 0,           -3/2,             1/2, 0, 1,                3/2]])"
      ]
     },
     "execution_count": 5,
     "metadata": {},
     "output_type": "execute_result"
    }
   ],
   "source": [
    "basic_var = [2, 3, 4, 5]\n",
    "\n",
    "tableau = build_tableau(A, b, c(0))\n",
    "opt_tableau = simplex(tableau, basic_var)\n",
    "opt_tableau = sp.Matrix(opt_tableau.tolist())\n",
    "opt_tableau[0, :-1] = sp.Matrix(c(delta)).T\n",
    "opt_tableau[0, -1] = 0\n",
    "display(opt_tableau)\n",
    "\n",
    "correct_symbolic_cost(opt_tableau, basic_var)\n",
    "sp.nsimplify(opt_tableau, rational=True)"
   ]
  },
  {
   "cell_type": "markdown",
   "metadata": {},
   "source": [
    "$\\mathbf v = (3, 6)$ óptimo"
   ]
  },
  {
   "cell_type": "code",
   "execution_count": 6,
   "metadata": {},
   "outputs": [
    {
     "name": "stdout",
     "output_type": "stream",
     "text": [
      "vertex = [0. 0.], x_B = [3, 4, 5, 6]\n",
      "[[ 1.  2.  0.  0.  0.  0.  0.]\n",
      " [ 1.  1.  1.  0.  0.  0.  9.]\n",
      " [ 3.  1.  0.  1.  0.  0. 18.]\n",
      " [ 1.  0.  0.  0.  1.  0.  7.]\n",
      " [ 0.  1.  0.  0.  0.  1.  6.]]\n",
      "vertex = [0. 6.], x_B = [3, 4, 5, 2]\n",
      "[[  1.   0.   0.   0.   0.  -2. -12.]\n",
      " [  1.   0.   1.   0.   0.  -1.   3.]\n",
      " [  3.   0.   0.   1.   0.  -1.  12.]\n",
      " [  1.   0.   0.   0.   1.   0.   7.]\n",
      " [  0.   1.   0.   0.   0.   1.   6.]]\n",
      "vertex = [3. 6.], x_B = [1, 4, 5, 2]\n",
      "[[  0.   0.  -1.   0.   0.  -1. -15.]\n",
      " [  1.   0.   1.   0.   0.  -1.   3.]\n",
      " [  0.   0.  -3.   1.   0.   2.   3.]\n",
      " [  0.   0.  -1.   0.   1.   1.   4.]\n",
      " [  0.   1.   0.   0.   0.   1.   6.]]\n"
     ]
    },
    {
     "data": {
      "text/latex": [
       "$\\displaystyle \\left[\\begin{matrix}\\delta + 1.0 & 2.0 & 0 & 0 & 0 & 0 & 0\\\\1.0 & 0 & 1.0 & 0 & 0 & -1.0 & 3.0\\\\0 & 0 & -3.0 & 1.0 & 0 & 2.0 & 3.0\\\\0 & 0 & -1.0 & 0 & 1.0 & 1.0 & 4.0\\\\0 & 1.0 & 0 & 0 & 0 & 1.0 & 6.0\\end{matrix}\\right]$"
      ],
      "text/plain": [
       "Matrix([\n",
       "[\\delta + 1.0, 2.0,    0,   0,   0,    0,   0],\n",
       "[         1.0,   0,  1.0,   0,   0, -1.0, 3.0],\n",
       "[           0,   0, -3.0, 1.0,   0,  2.0, 3.0],\n",
       "[           0,   0, -1.0,   0, 1.0,  1.0, 4.0],\n",
       "[           0, 1.0,    0,   0,   0,  1.0, 6.0]])"
      ]
     },
     "metadata": {},
     "output_type": "display_data"
    },
    {
     "name": "stdout",
     "output_type": "stream",
     "text": [
      "Cost corrected\n"
     ]
    },
    {
     "data": {
      "text/latex": [
       "$\\displaystyle \\left[\\begin{matrix}0 & 0 & - \\delta - 1 & 0 & 0 & \\delta - 1 & - 3 \\delta - 15\\\\1 & 0 & 1 & 0 & 0 & -1 & 3\\\\0 & 0 & -3 & 1 & 0 & 2 & 3\\\\0 & 0 & -1 & 0 & 1 & 1 & 4\\\\0 & 1 & 0 & 0 & 0 & 1 & 6\\end{matrix}\\right]$"
      ],
      "text/plain": [
       "Matrix([\n",
       "[0, 0, -\\delta - 1, 0, 0, \\delta - 1, -3*\\delta - 15],\n",
       "[1, 0,           1, 0, 0,         -1,              3],\n",
       "[0, 0,          -3, 1, 0,          2,              3],\n",
       "[0, 0,          -1, 0, 1,          1,              4],\n",
       "[0, 1,           0, 0, 0,          1,              6]])"
      ]
     },
     "execution_count": 6,
     "metadata": {},
     "output_type": "execute_result"
    }
   ],
   "source": [
    "basic_var = [2, 3, 4, 5]\n",
    "\n",
    "tableau = build_tableau(A, b, c(-2))\n",
    "opt_tableau = simplex(tableau, basic_var)\n",
    "opt_tableau = sp.Matrix(opt_tableau.tolist())\n",
    "opt_tableau[0, :-1] = sp.Matrix(c(delta - 2)).T\n",
    "opt_tableau[0, -1] = 0\n",
    "display(opt_tableau)\n",
    "\n",
    "correct_symbolic_cost(opt_tableau, basic_var)\n",
    "sp.nsimplify(opt_tableau, rational=True)\n"
   ]
  },
  {
   "cell_type": "markdown",
   "metadata": {},
   "source": [
    "$\\mathbf v = (0, 6)$ óptimo"
   ]
  },
  {
   "cell_type": "code",
   "execution_count": 7,
   "metadata": {},
   "outputs": [
    {
     "name": "stdout",
     "output_type": "stream",
     "text": [
      "vertex = [0. 0.], x_B = [3, 4, 5, 6]\n",
      "[[-1.  2.  0.  0.  0.  0.  0.]\n",
      " [ 1.  1.  1.  0.  0.  0.  9.]\n",
      " [ 3.  1.  0.  1.  0.  0. 18.]\n",
      " [ 1.  0.  0.  0.  1.  0.  7.]\n",
      " [ 0.  1.  0.  0.  0.  1.  6.]]\n",
      "vertex = [0. 6.], x_B = [3, 4, 5, 2]\n",
      "[[ -1.   0.   0.   0.   0.  -2. -12.]\n",
      " [  1.   0.   1.   0.   0.  -1.   3.]\n",
      " [  3.   0.   0.   1.   0.  -1.  12.]\n",
      " [  1.   0.   0.   0.   1.   0.   7.]\n",
      " [  0.   1.   0.   0.   0.   1.   6.]]\n"
     ]
    },
    {
     "data": {
      "text/latex": [
       "$\\displaystyle \\left[\\begin{matrix}\\delta - 1.0 & 2.0 & 0 & 0 & 0 & 0 & 0\\\\1.0 & 0 & 1.0 & 0 & 0 & -1.0 & 3.0\\\\3.0 & 0 & 0 & 1.0 & 0 & -1.0 & 12.0\\\\1.0 & 0 & 0 & 0 & 1.0 & 0 & 7.0\\\\0 & 1.0 & 0 & 0 & 0 & 1.0 & 6.0\\end{matrix}\\right]$"
      ],
      "text/plain": [
       "Matrix([\n",
       "[\\delta - 1.0, 2.0,   0,   0,   0,    0,    0],\n",
       "[         1.0,   0, 1.0,   0,   0, -1.0,  3.0],\n",
       "[         3.0,   0,   0, 1.0,   0, -1.0, 12.0],\n",
       "[         1.0,   0,   0,   0, 1.0,    0,  7.0],\n",
       "[           0, 1.0,   0,   0,   0,  1.0,  6.0]])"
      ]
     },
     "metadata": {},
     "output_type": "display_data"
    },
    {
     "name": "stdout",
     "output_type": "stream",
     "text": [
      "Cost corrected\n"
     ]
    },
    {
     "data": {
      "text/latex": [
       "$\\displaystyle \\left[\\begin{matrix}\\delta - 1 & 0 & 0 & 0 & 0 & -2 & -12\\\\1 & 0 & 1 & 0 & 0 & -1 & 3\\\\3 & 0 & 0 & 1 & 0 & -1 & 12\\\\1 & 0 & 0 & 0 & 1 & 0 & 7\\\\0 & 1 & 0 & 0 & 0 & 1 & 6\\end{matrix}\\right]$"
      ],
      "text/plain": [
       "Matrix([\n",
       "[\\delta - 1, 0, 0, 0, 0, -2, -12],\n",
       "[         1, 0, 1, 0, 0, -1,   3],\n",
       "[         3, 0, 0, 1, 0, -1,  12],\n",
       "[         1, 0, 0, 0, 1,  0,   7],\n",
       "[         0, 1, 0, 0, 0,  1,   6]])"
      ]
     },
     "execution_count": 7,
     "metadata": {},
     "output_type": "execute_result"
    }
   ],
   "source": [
    "basic_var = [2, 3, 4, 5]\n",
    "\n",
    "tableau = build_tableau(A, b, c(-4))\n",
    "opt_tableau = simplex(tableau, basic_var)\n",
    "opt_tableau = sp.Matrix(opt_tableau.tolist())\n",
    "opt_tableau[0, :-1] = sp.Matrix(c(delta - 4)).T\n",
    "opt_tableau[0, -1] = 0\n",
    "display(opt_tableau)\n",
    "\n",
    "correct_symbolic_cost(opt_tableau, basic_var)\n",
    "sp.nsimplify(opt_tableau, rational=True)\n"
   ]
  },
  {
   "cell_type": "markdown",
   "metadata": {},
   "source": [
    "$\\mathbf v = (6, 0)$ óptimo"
   ]
  },
  {
   "cell_type": "code",
   "execution_count": 8,
   "metadata": {},
   "outputs": [
    {
     "name": "stdout",
     "output_type": "stream",
     "text": [
      "vertex = [0. 0.], x_B = [3, 4, 5, 6]\n",
      "[[ 6.  2.  0.  0.  0.  0.  0.]\n",
      " [ 1.  1.  1.  0.  0.  0.  9.]\n",
      " [ 3.  1.  0.  1.  0.  0. 18.]\n",
      " [ 1.  0.  0.  0.  1.  0.  7.]\n",
      " [ 0.  1.  0.  0.  0.  1.  6.]]\n",
      "vertex = [6. 0.], x_B = [3, 1, 5, 6]\n",
      "[[  0.           0.           0.          -2.           0.           0.         -36.        ]\n",
      " [  0.           0.66666667   1.          -0.33333333   0.           0.           3.        ]\n",
      " [  1.           0.33333333   0.           0.33333333   0.           0.           6.        ]\n",
      " [  0.          -0.33333333   0.          -0.33333333   1.           0.           1.        ]\n",
      " [  0.           1.           0.           0.           0.           1.           6.        ]]\n"
     ]
    },
    {
     "data": {
      "text/latex": [
       "$\\displaystyle \\left[\\begin{matrix}\\delta + 6.0 & 2.0 & 0 & 0 & 0 & 0 & 0\\\\0 & 0.666666666666667 & 1.0 & -0.333333333333333 & 0 & 0 & 3.0\\\\1.0 & 0.333333333333333 & 0 & 0.333333333333333 & 0 & 0 & 6.0\\\\0 & -0.333333333333333 & 0 & -0.333333333333333 & 1.0 & 0 & 1.0\\\\0 & 1.0 & 0 & 0 & 0 & 1.0 & 6.0\\end{matrix}\\right]$"
      ],
      "text/plain": [
       "Matrix([\n",
       "[\\delta + 6.0,                2.0,   0,                  0,   0,   0,   0],\n",
       "[           0,  0.666666666666667, 1.0, -0.333333333333333,   0,   0, 3.0],\n",
       "[         1.0,  0.333333333333333,   0,  0.333333333333333,   0,   0, 6.0],\n",
       "[           0, -0.333333333333333,   0, -0.333333333333333, 1.0,   0, 1.0],\n",
       "[           0,                1.0,   0,                  0,   0, 1.0, 6.0]])"
      ]
     },
     "metadata": {},
     "output_type": "display_data"
    },
    {
     "name": "stdout",
     "output_type": "stream",
     "text": [
      "Cost corrected\n"
     ]
    },
    {
     "data": {
      "text/latex": [
       "$\\displaystyle \\left[\\begin{matrix}0 & - \\frac{\\delta}{3} & 0 & - \\frac{\\delta}{3} - 2 & 0 & 0 & - 6 \\delta - 36\\\\0 & \\frac{2}{3} & 1 & - \\frac{1}{3} & 0 & 0 & 3\\\\1 & \\frac{1}{3} & 0 & \\frac{1}{3} & 0 & 0 & 6\\\\0 & - \\frac{1}{3} & 0 & - \\frac{1}{3} & 1 & 0 & 1\\\\0 & 1 & 0 & 0 & 0 & 1 & 6\\end{matrix}\\right]$"
      ],
      "text/plain": [
       "Matrix([\n",
       "[0, -\\delta/3, 0, -\\delta/3 - 2, 0, 0, -6*\\delta - 36],\n",
       "[0,       2/3, 1,          -1/3, 0, 0,              3],\n",
       "[1,       1/3, 0,           1/3, 0, 0,              6],\n",
       "[0,      -1/3, 0,          -1/3, 1, 0,              1],\n",
       "[0,         1, 0,             0, 0, 1,              6]])"
      ]
     },
     "execution_count": 8,
     "metadata": {},
     "output_type": "execute_result"
    }
   ],
   "source": [
    "basic_var = [2, 3, 4, 5]\n",
    "\n",
    "tableau = build_tableau(A, b, c(3))\n",
    "opt_tableau = simplex(tableau, basic_var)\n",
    "opt_tableau = sp.Matrix(opt_tableau.tolist())\n",
    "opt_tableau[0, :-1] = sp.Matrix(c(delta + 3)).T\n",
    "opt_tableau[0, -1] = 0\n",
    "display(opt_tableau)\n",
    "\n",
    "correct_symbolic_cost(opt_tableau, basic_var)\n",
    "sp.nsimplify(opt_tableau, rational=True)\n"
   ]
  },
  {
   "cell_type": "markdown",
   "metadata": {},
   "source": [
    "Gráfico"
   ]
  },
  {
   "cell_type": "code",
   "execution_count": 9,
   "metadata": {},
   "outputs": [
    {
     "data": {
      "image/png": "[encoded data removed]",
      "text/plain": [
       "<Figure size 432x288 with 1 Axes>"
      ]
     },
     "metadata": {
      "needs_background": "light"
     },
     "output_type": "display_data"
    }
   ],
   "source": [
    "def z(delta):\n",
    "    if delta < -3:\n",
    "        return 12\n",
    "    elif -3 <= delta < -1:\n",
    "        return 3 * delta + 21\n",
    "    elif -1 <= delta <= 3:\n",
    "        return 4.5 * delta + 22.5\n",
    "    else:\n",
    "        return 6 * delta + 18\n",
    "\n",
    "interval_point = [-3, -1, 3]\n",
    "z_point = [z(d) for d in interval_point]\n",
    "\n",
    "interval = np.linspace(-4, 4)\n",
    "z_plot = [z(d) for d in interval]\n",
    "\n",
    "plt.title(\"$z^*(\\delta)$\")\n",
    "plt.xlabel(\"$\\delta$\")\n",
    "plt.ylabel(\"$z^*(\\delta)$\")\n",
    "plt.plot(interval, z_plot)\n",
    "plt.plot(interval_point, z_point, 'o', c='r')\n",
    "plt.show()\n"
   ]
  },
  {
   "cell_type": "markdown",
   "metadata": {},
   "source": [
    "#### Exercise 5.8.1\n",
    "\n",
    "Consider the following LO-model.\n",
    "\\begin{align*}\n",
    "\\max \\quad (1 + \\delta)x_1& +& x_2&\\\\ \n",
    "s.t. \\quad\\quad\\quad {}& {}&  x_2& \\le 5\\\\\n",
    "          2x_1& +&  x_2& \\le 8\\\\\n",
    "          3x_1& +&  x_2& \\le 10\\\\\n",
    "\\end{align*}\n",
    "$$x_1, x_2\\ge0$$"
   ]
  },
  {
   "cell_type": "code",
   "execution_count": 10,
   "metadata": {},
   "outputs": [],
   "source": [
    "A = [[0, 1., 1, 0, 0],\n",
    "     [2, 1., 0, 1, 0],\n",
    "     [3, 1., 0, 0, 1]]\n",
    "\n",
    "b = [5, 8, 10.]\n",
    "\n",
    "c = lambda delta: [1 + delta, 1, 0, 0, 0]\n"
   ]
  },
  {
   "cell_type": "markdown",
   "metadata": {},
   "source": [
    "$\\mathbf v = [1.5, 5]$ óptimo"
   ]
  },
  {
   "cell_type": "code",
   "execution_count": 11,
   "metadata": {},
   "outputs": [
    {
     "name": "stdout",
     "output_type": "stream",
     "text": [
      "vertex = [0. 0.], x_B = [3, 4, 5]\n",
      "[[ 1.  1.  0.  0.  0.  0.]\n",
      " [ 0.  1.  1.  0.  0.  5.]\n",
      " [ 2.  1.  0.  1.  0.  8.]\n",
      " [ 3.  1.  0.  0.  1. 10.]]\n",
      "vertex = [3.33333333 0.        ], x_B = [3, 4, 1]\n",
      "[[ 0.          0.66666667  0.          0.         -0.33333333 -3.33333333]\n",
      " [ 0.          1.          1.          0.          0.          5.        ]\n",
      " [ 0.          0.33333333  0.          1.         -0.66666667  1.33333333]\n",
      " [ 1.          0.33333333  0.          0.          0.33333333  3.33333333]]\n",
      "vertex = [2. 4.], x_B = [3, 2, 1]\n",
      "[[ 0.  0.  0. -2.  1. -6.]\n",
      " [ 0.  0.  1. -3.  2.  1.]\n",
      " [ 0.  1.  0.  3. -2.  4.]\n",
      " [ 1.  0.  0. -1.  1.  2.]]\n",
      "vertex = [1.5 5. ], x_B = [5, 2, 1]\n",
      "[[ 0.   0.  -0.5 -0.5  0.  -6.5]\n",
      " [ 0.   0.   0.5 -1.5  1.   0.5]\n",
      " [ 0.   1.   1.   0.   0.   5. ]\n",
      " [ 1.   0.  -0.5  0.5  0.   1.5]]\n"
     ]
    },
    {
     "data": {
      "text/latex": [
       "$\\displaystyle \\left[\\begin{matrix}\\delta + 1 & 1 & 0 & 0 & 0 & 0\\\\0 & 0 & 0.5 & -1.5 & 1.0 & 0.500000000000001\\\\0 & 1.0 & 1.0 & 0 & 0 & 5.0\\\\1.0 & 0 & -0.5 & 0.5 & 0 & 1.5\\end{matrix}\\right]$"
      ],
      "text/plain": [
       "Matrix([\n",
       "[\\delta + 1,   1,    0,    0,   0,                 0],\n",
       "[         0,   0,  0.5, -1.5, 1.0, 0.500000000000001],\n",
       "[         0, 1.0,  1.0,    0,   0,               5.0],\n",
       "[       1.0,   0, -0.5,  0.5,   0,               1.5]])"
      ]
     },
     "metadata": {},
     "output_type": "display_data"
    },
    {
     "name": "stdout",
     "output_type": "stream",
     "text": [
      "Cost corrected\n"
     ]
    },
    {
     "data": {
      "text/latex": [
       "$\\displaystyle \\left[\\begin{matrix}0 & 0 & \\frac{\\delta}{2} - \\frac{1}{2} & - \\frac{\\delta}{2} - \\frac{1}{2} & 0 & - \\frac{3 \\delta}{2} - \\frac{13}{2}\\\\0 & 0 & \\frac{1}{2} & - \\frac{3}{2} & 1 & \\frac{1}{2}\\\\0 & 1 & 1 & 0 & 0 & 5\\\\1 & 0 & - \\frac{1}{2} & \\frac{1}{2} & 0 & \\frac{3}{2}\\end{matrix}\\right]$"
      ],
      "text/plain": [
       "Matrix([\n",
       "[0, 0, \\delta/2 - 1/2, -\\delta/2 - 1/2, 0, -3*\\delta/2 - 13/2],\n",
       "[0, 0,            1/2,            -3/2, 1,                1/2],\n",
       "[0, 1,              1,               0, 0,                  5],\n",
       "[1, 0,           -1/2,             1/2, 0,                3/2]])"
      ]
     },
     "execution_count": 11,
     "metadata": {},
     "output_type": "execute_result"
    }
   ],
   "source": [
    "basic_var = [2, 3, 4]\n",
    "\n",
    "tableau = build_tableau(A, b, c(0))\n",
    "opt_tableau = simplex(tableau, basic_var)\n",
    "opt_tableau = sp.Matrix(opt_tableau.tolist())\n",
    "opt_tableau[0, :-1] = sp.Matrix(c(delta)).T\n",
    "opt_tableau[0, -1] = 0\n",
    "display(opt_tableau)\n",
    "\n",
    "correct_symbolic_cost(opt_tableau, basic_var)\n",
    "sp.nsimplify(opt_tableau, rational=True)"
   ]
  },
  {
   "cell_type": "markdown",
   "metadata": {},
   "source": [
    "$\\mathbf v = [0, 5]$ óptimo"
   ]
  },
  {
   "cell_type": "code",
   "execution_count": 12,
   "metadata": {},
   "outputs": [
    {
     "name": "stdout",
     "output_type": "stream",
     "text": [
      "vertex = [0. 0.], x_B = [3, 4, 5]\n",
      "[[ 0.  1.  0.  0.  0.  0.]\n",
      " [ 0.  1.  1.  0.  0.  5.]\n",
      " [ 2.  1.  0.  1.  0.  8.]\n",
      " [ 3.  1.  0.  0.  1. 10.]]\n",
      "vertex = [0. 5.], x_B = [2, 4, 5]\n",
      "[[ 0.  0. -1.  0.  0. -5.]\n",
      " [ 0.  1.  1.  0.  0.  5.]\n",
      " [ 2.  0. -1.  1.  0.  3.]\n",
      " [ 3.  0. -1.  0.  1.  5.]]\n"
     ]
    },
    {
     "data": {
      "text/latex": [
       "$\\displaystyle \\left[\\begin{matrix}\\delta & 1 & 0 & 0 & 0 & 0\\\\0 & 1.0 & 1.0 & 0 & 0 & 5.0\\\\2.0 & 0 & -1.0 & 1.0 & 0 & 3.0\\\\3.0 & 0 & -1.0 & 0 & 1.0 & 5.0\\end{matrix}\\right]$"
      ],
      "text/plain": [
       "Matrix([\n",
       "[\\delta,   1,    0,   0,   0,   0],\n",
       "[     0, 1.0,  1.0,   0,   0, 5.0],\n",
       "[   2.0,   0, -1.0, 1.0,   0, 3.0],\n",
       "[   3.0,   0, -1.0,   0, 1.0, 5.0]])"
      ]
     },
     "metadata": {},
     "output_type": "display_data"
    },
    {
     "name": "stdout",
     "output_type": "stream",
     "text": [
      "Cost corrected\n"
     ]
    },
    {
     "data": {
      "text/latex": [
       "$\\displaystyle \\left[\\begin{matrix}\\delta & 0 & -1 & 0 & 0 & -5\\\\0 & 1 & 1 & 0 & 0 & 5\\\\2 & 0 & -1 & 1 & 0 & 3\\\\3 & 0 & -1 & 0 & 1 & 5\\end{matrix}\\right]$"
      ],
      "text/plain": [
       "Matrix([\n",
       "[\\delta, 0, -1, 0, 0, -5],\n",
       "[     0, 1,  1, 0, 0,  5],\n",
       "[     2, 0, -1, 1, 0,  3],\n",
       "[     3, 0, -1, 0, 1,  5]])"
      ]
     },
     "execution_count": 12,
     "metadata": {},
     "output_type": "execute_result"
    }
   ],
   "source": [
    "basic_var = [2, 3, 4]\n",
    "\n",
    "tableau = build_tableau(A, b, c(-1))\n",
    "opt_tableau = simplex(tableau, basic_var)\n",
    "opt_tableau = sp.Matrix(opt_tableau.tolist())\n",
    "opt_tableau[0, :-1] = sp.Matrix(c(delta - 1)).T\n",
    "opt_tableau[0, -1] = 0\n",
    "display(opt_tableau)\n",
    "\n",
    "correct_symbolic_cost(opt_tableau, basic_var)\n",
    "sp.nsimplify(opt_tableau, rational=True)"
   ]
  },
  {
   "cell_type": "markdown",
   "metadata": {},
   "source": [
    "$\\mathbf v = [2, 4]$ óptimo"
   ]
  },
  {
   "cell_type": "code",
   "execution_count": 13,
   "metadata": {},
   "outputs": [
    {
     "name": "stdout",
     "output_type": "stream",
     "text": [
      "vertex = [0. 0.], x_B = [3, 4, 5]\n",
      "[[ 2.  1.  0.  0.  0.  0.]\n",
      " [ 0.  1.  1.  0.  0.  5.]\n",
      " [ 2.  1.  0.  1.  0.  8.]\n",
      " [ 3.  1.  0.  0.  1. 10.]]\n",
      "vertex = [3.33333333 0.        ], x_B = [3, 4, 1]\n",
      "[[ 0.          0.33333333  0.          0.         -0.66666667 -6.66666667]\n",
      " [ 0.          1.          1.          0.          0.          5.        ]\n",
      " [ 0.          0.33333333  0.          1.         -0.66666667  1.33333333]\n",
      " [ 1.          0.33333333  0.          0.          0.33333333  3.33333333]]\n",
      "vertex = [2. 4.], x_B = [3, 2, 1]\n",
      "[[ 0.  0.  0. -1.  0. -8.]\n",
      " [ 0.  0.  1. -3.  2.  1.]\n",
      " [ 0.  1.  0.  3. -2.  4.]\n",
      " [ 1.  0.  0. -1.  1.  2.]]\n"
     ]
    },
    {
     "data": {
      "text/latex": [
       "$\\displaystyle \\left[\\begin{matrix}\\delta + 2 & 1 & 0 & 0 & 0 & 0\\\\0 & 0 & 1.0 & -3.0 & 2.0 & 1.0\\\\0 & 1.0 & 0 & 3.0 & -2.0 & 4.0\\\\1.0 & 0 & 0 & -1.0 & 1.0 & 2.0\\end{matrix}\\right]$"
      ],
      "text/plain": [
       "Matrix([\n",
       "[\\delta + 2,   1,   0,    0,    0,   0],\n",
       "[         0,   0, 1.0, -3.0,  2.0, 1.0],\n",
       "[         0, 1.0,   0,  3.0, -2.0, 4.0],\n",
       "[       1.0,   0,   0, -1.0,  1.0, 2.0]])"
      ]
     },
     "metadata": {},
     "output_type": "display_data"
    },
    {
     "name": "stdout",
     "output_type": "stream",
     "text": [
      "Cost corrected\n"
     ]
    },
    {
     "data": {
      "text/latex": [
       "$\\displaystyle \\left[\\begin{matrix}0 & 0 & 0 & 1.0 \\delta - 1.0 & 2.22044604925031 \\cdot 10^{-16} - 1.0 \\delta & - 2.0 \\delta - 8.0\\\\0 & 0 & 1.0 & -3.0 & 2.0 & 1.0\\\\0 & 1.0 & 0 & 3.0 & -2.0 & 4.0\\\\1.0 & 0 & 0 & -1.0 & 1.0 & 2.0\\end{matrix}\\right]$"
      ],
      "text/plain": [
       "Matrix([\n",
       "[  0,   0,   0, 1.0*\\delta - 1.0, 2.22044604925031e-16 - 1.0*\\delta, -2.0*\\delta - 8.0],\n",
       "[  0,   0, 1.0,             -3.0,                               2.0,               1.0],\n",
       "[  0, 1.0,   0,              3.0,                              -2.0,               4.0],\n",
       "[1.0,   0,   0,             -1.0,                               1.0,               2.0]])"
      ]
     },
     "execution_count": 13,
     "metadata": {},
     "output_type": "execute_result"
    }
   ],
   "source": [
    "basic_var = [2, 3, 4]\n",
    "\n",
    "tableau = build_tableau(A, b, c(1))\n",
    "opt_tableau = simplex(tableau, basic_var)\n",
    "opt_tableau = sp.Matrix(opt_tableau.tolist())\n",
    "opt_tableau[0, :-1] = sp.Matrix(c(delta + 1)).T\n",
    "opt_tableau[0, -1] = 0\n",
    "display(opt_tableau)\n",
    "\n",
    "correct_symbolic_cost(opt_tableau, basic_var)\n",
    "opt_tableau"
   ]
  },
  {
   "cell_type": "markdown",
   "metadata": {},
   "source": [
    "$\\mathbf v = [10/3, 0]$ óptimo"
   ]
  },
  {
   "cell_type": "code",
   "execution_count": 14,
   "metadata": {},
   "outputs": [
    {
     "name": "stdout",
     "output_type": "stream",
     "text": [
      "vertex = [0. 0.], x_B = [3, 4, 5]\n",
      "[[ 3.  1.  0.  0.  0.  0.]\n",
      " [ 0.  1.  1.  0.  0.  5.]\n",
      " [ 2.  1.  0.  1.  0.  8.]\n",
      " [ 3.  1.  0.  0.  1. 10.]]\n",
      "vertex = [3.33333333 0.        ], x_B = [3, 4, 1]\n",
      "[[  0.           0.           0.           0.          -1.         -10.        ]\n",
      " [  0.           1.           1.           0.           0.           5.        ]\n",
      " [  0.           0.33333333   0.           1.          -0.66666667   1.33333333]\n",
      " [  1.           0.33333333   0.           0.           0.33333333   3.33333333]]\n"
     ]
    },
    {
     "data": {
      "text/latex": [
       "$\\displaystyle \\left[\\begin{matrix}\\delta + 3 & 1 & 0 & 0 & 0 & 0\\\\0 & 1.0 & 1.0 & 0 & 0 & 5.0\\\\0 & 0.333333333333333 & 0 & 1.0 & -0.666666666666667 & 1.33333333333333\\\\1.0 & 0.333333333333333 & 0 & 0 & 0.333333333333333 & 3.33333333333333\\end{matrix}\\right]$"
      ],
      "text/plain": [
       "Matrix([\n",
       "[\\delta + 3,                 1,   0,   0,                  0,                0],\n",
       "[         0,               1.0, 1.0,   0,                  0,              5.0],\n",
       "[         0, 0.333333333333333,   0, 1.0, -0.666666666666667, 1.33333333333333],\n",
       "[       1.0, 0.333333333333333,   0,   0,  0.333333333333333, 3.33333333333333]])"
      ]
     },
     "metadata": {},
     "output_type": "display_data"
    },
    {
     "name": "stdout",
     "output_type": "stream",
     "text": [
      "Cost corrected\n"
     ]
    },
    {
     "data": {
      "text/latex": [
       "$\\displaystyle \\left[\\begin{matrix}0 & - \\frac{\\delta}{3} & 0 & 0 & - \\frac{\\delta}{3} - 1 & - \\frac{10 \\delta}{3} - 10\\\\0 & 1 & 1 & 0 & 0 & 5\\\\0 & \\frac{1}{3} & 0 & 1 & - \\frac{2}{3} & \\frac{4}{3}\\\\1 & \\frac{1}{3} & 0 & 0 & \\frac{1}{3} & \\frac{10}{3}\\end{matrix}\\right]$"
      ],
      "text/plain": [
       "Matrix([\n",
       "[0, -\\delta/3, 0, 0, -\\delta/3 - 1, -10*\\delta/3 - 10],\n",
       "[0,         1, 1, 0,             0,                 5],\n",
       "[0,       1/3, 0, 1,          -2/3,               4/3],\n",
       "[1,       1/3, 0, 0,           1/3,              10/3]])"
      ]
     },
     "execution_count": 14,
     "metadata": {},
     "output_type": "execute_result"
    }
   ],
   "source": [
    "basic_var = [2, 3, 4]\n",
    "\n",
    "tableau = build_tableau(A, b, c(2))\n",
    "opt_tableau = simplex(tableau, basic_var)\n",
    "opt_tableau = sp.Matrix(opt_tableau.tolist())\n",
    "opt_tableau[0, :-1] = sp.Matrix(c(delta + 2)).T\n",
    "opt_tableau[0, -1] = 0\n",
    "display(opt_tableau)\n",
    "\n",
    "correct_symbolic_cost(opt_tableau, basic_var)\n",
    "sp.nsimplify(opt_tableau, rational=True)"
   ]
  },
  {
   "cell_type": "markdown",
   "metadata": {},
   "source": [
    "Gráfico"
   ]
  },
  {
   "cell_type": "code",
   "execution_count": 15,
   "metadata": {},
   "outputs": [
    {
     "data": {
      "image/png": "[encoded data removed]",
      "text/plain": [
       "<Figure size 432x288 with 1 Axes>"
      ]
     },
     "metadata": {
      "needs_background": "light"
     },
     "output_type": "display_data"
    }
   ],
   "source": [
    "def z(delta):\n",
    "    if delta < -1:\n",
    "        return 5\n",
    "    elif -1 <= delta < 1:\n",
    "        return (3 * delta + 13) / 2\n",
    "    elif 1 <= delta < 2:\n",
    "        return 2 * delta + 6\n",
    "    else:\n",
    "        return 10 / 3 * (delta + 1)\n",
    "\n",
    "\n",
    "interval_point = [-1, 1, 2]\n",
    "z_point = [z(d) for d in interval_point]\n",
    "\n",
    "interval = np.linspace(-2, 3)\n",
    "z_plot = [z(d) for d in interval]\n",
    "\n",
    "plt.title(\"$z^*(\\delta)$\")\n",
    "plt.xlabel(\"$\\delta$\")\n",
    "plt.ylabel(\"$z^*(\\delta)$\")\n",
    "plt.plot(interval, z_plot)\n",
    "plt.plot(interval_point, z_point, 'o', c='r')\n",
    "plt.show()"
   ]
  },
  {
   "cell_type": "markdown",
   "metadata": {},
   "source": [
    "## Práctica Dirigida 6\n"
   ]
  },
  {
   "cell_type": "markdown",
   "metadata": {},
   "source": [
    "#### 2. Sea la función $f : \\mathbb{R} \\rightarrow \\mathbb{R}$ definida como\n",
    "\n",
    "\\begin{align*}\n",
    "f(\\delta) :=\\max (1 + \\delta)x_1& +& x_2&\\\\\n",
    "s.t.\\quad 2x_1& +& x_2& \\le 8\\\\\n",
    "3x_1& +& x_2& \\le 10\\\\\n",
    "{}& {}& x_2& \\le 5\n",
    "\\end{align*}\n",
    "\n",
    "$$x1 \\ge 0, x2 \\ge 0.$$"
   ]
  },
  {
   "cell_type": "markdown",
   "metadata": {},
   "source": [
    "a) Determinar f en un intervalo conteniendo 0, apartir de la información de la tabla simplex optimal."
   ]
  },
  {
   "cell_type": "code",
   "execution_count": 16,
   "metadata": {},
   "outputs": [
    {
     "name": "stdout",
     "output_type": "stream",
     "text": [
      "vertex = [0. 0.], x_B = [3, 4, 5]\n",
      "[[ 1.  1.  0.  0.  0.  0.]\n",
      " [ 2.  1.  1.  0.  0.  8.]\n",
      " [ 3.  1.  0.  1.  0. 10.]\n",
      " [ 0.  1.  0.  0.  1.  5.]]\n",
      "vertex = [3.33333333 0.        ], x_B = [3, 1, 5]\n",
      "[[ 0.          0.66666667  0.         -0.33333333  0.         -3.33333333]\n",
      " [ 0.          0.33333333  1.         -0.66666667  0.          1.33333333]\n",
      " [ 1.          0.33333333  0.          0.33333333  0.          3.33333333]\n",
      " [ 0.          1.          0.          0.          1.          5.        ]]\n",
      "vertex = [2. 4.], x_B = [2, 1, 5]\n",
      "[[ 0.  0. -2.  1.  0. -6.]\n",
      " [ 0.  1.  3. -2.  0.  4.]\n",
      " [ 1.  0. -1.  1.  0.  2.]\n",
      " [ 0.  0. -3.  2.  1.  1.]]\n",
      "vertex = [1.5 5. ], x_B = [2, 1, 4]\n",
      "[[ 0.   0.  -0.5  0.  -0.5 -6.5]\n",
      " [ 0.   1.   0.   0.   1.   5. ]\n",
      " [ 1.   0.   0.5  0.  -0.5  1.5]\n",
      " [ 0.   0.  -1.5  1.   0.5  0.5]]\n"
     ]
    }
   ],
   "source": [
    "# Hallando la tabla óptima\n",
    "A = np.array([[2, 1., 1, 0, 0],\n",
    "              [3, 1., 0, 1, 0],\n",
    "              [0, 1., 0, 0, 1]])\n",
    "\n",
    "b = [8, 10., 5]\n",
    "\n",
    "c = np.array([1, 1.0, 0, 0, 0])\n",
    "\n",
    "basic_var = [2, 3, 4]\n",
    "\n",
    "tableau = build_tableau(A, b, c)\n",
    "\n",
    "simplex(tableau, basic_var);\n"
   ]
  },
  {
   "cell_type": "markdown",
   "metadata": {},
   "source": [
    "b) Determinar la tabla simplex optimal en el intervalo determinado en a)\n"
   ]
  },
  {
   "cell_type": "code",
   "execution_count": 17,
   "metadata": {},
   "outputs": [
    {
     "data": {
      "text/latex": [
       "$\\displaystyle \\left[\\begin{matrix}0 & 0 & - \\frac{\\delta}{2} - \\frac{1}{2} & 0 & \\frac{\\delta}{2} - \\frac{1}{2} & - \\frac{3 \\delta}{2} - \\frac{13}{2}\\\\0 & 1 & 0 & 0 & 1 & 5\\\\1 & 0 & \\frac{1}{2} & 0 & - \\frac{1}{2} & \\frac{3}{2}\\\\0 & 0 & - \\frac{3}{2} & 1 & \\frac{1}{2} & \\frac{1}{2}\\end{matrix}\\right]$"
      ],
      "text/plain": [
       "Matrix([\n",
       "[0, 0, -\\delta/2 - 1/2, 0, \\delta/2 - 1/2, -3*\\delta/2 - 13/2],\n",
       "[0, 1,               0, 0,              1,                  5],\n",
       "[1, 0,             1/2, 0,           -1/2,                3/2],\n",
       "[0, 0,            -3/2, 1,            1/2,                1/2]])"
      ]
     },
     "execution_count": 17,
     "metadata": {},
     "output_type": "execute_result"
    }
   ],
   "source": [
    "# PRIMERA FORMA: tabla optima con los nuevos pesos\n",
    "tableau = sp.Matrix([[1 + delta, 1, 0, 0., 0, 0],\n",
    "                    [0., 1., 0., 0., 1., 5.],\n",
    "                    [1., 0., 0.5, 0., -0.5, 1.5],\n",
    "                    [0., 0., -1.5, 1., 0.5, 0.5]])\n",
    "basic_var = [1, 0, 3]\n",
    "\n",
    "pivoting_symbolic(tableau, 2, 0)\n",
    "pivoting_symbolic(tableau, 1, 1)\n",
    "\n",
    "sp.nsimplify(tableau, rational=True)"
   ]
  },
  {
   "cell_type": "code",
   "execution_count": 18,
   "metadata": {},
   "outputs": [
    {
     "data": {
      "text/latex": [
       "$\\displaystyle \\left[\\begin{matrix}- \\frac{\\delta}{2} - \\frac{1}{2} & \\frac{\\delta}{2} - \\frac{1}{2}\\end{matrix}\\right]$"
      ],
      "text/plain": [
       "Matrix([[-\\delta/2 - 1/2, \\delta/2 - 1/2]])"
      ]
     },
     "execution_count": 18,
     "metadata": {},
     "output_type": "execute_result"
    }
   ],
   "source": [
    "# SEGUNDA FORMA\n",
    "non_basic_var = [2, 4]\n",
    "# B_inv = np.linalg.inv(A[:, basic_var])\n",
    "# N = A[:, non_basic_var]\n",
    "B_invxN = tableau[1:, non_basic_var]\n",
    "# costos perturbados\n",
    "c = sp.Matrix([1 + delta, 1, 0, 0., 0])\n",
    "c_BI = c.row(basic_var)\n",
    "c_NI = c.row(non_basic_var)\n",
    "\n",
    "range_delta = sp.nsimplify(c_NI.T - c_BI.T @ B_invxN)\n",
    "range_delta"
   ]
  },
  {
   "cell_type": "markdown",
   "metadata": {},
   "source": [
    "c) Gráficamente hallar los vértices de la restricción, para luego hallar explicitamente el valor de f"
   ]
  },
  {
   "cell_type": "code",
   "execution_count": 19,
   "metadata": {},
   "outputs": [
    {
     "data": {
      "text/latex": [
       "$\\displaystyle \\left[\\begin{matrix}0\\\\5\\\\\\frac{3 \\delta}{2} + \\frac{13}{2}\\\\2 \\delta + 6\\\\\\frac{10 \\delta}{3} + \\frac{10}{3}\\end{matrix}\\right]$"
      ],
      "text/plain": [
       "Matrix([\n",
       "[                 0],\n",
       "[                 5],\n",
       "[ 3*\\delta/2 + 13/2],\n",
       "[      2*\\delta + 6],\n",
       "[10*\\delta/3 + 10/3]])"
      ]
     },
     "execution_count": 19,
     "metadata": {},
     "output_type": "execute_result"
    }
   ],
   "source": [
    "V = sp.Matrix([[0, 0], [0, 5], [3 / 2, 5], [2, 4], [10 / 3, 0]])\n",
    "cost = sp.Matrix([1 + delta, 1])\n",
    "sp.nsimplify(V@cost)\n"
   ]
  },
  {
   "cell_type": "markdown",
   "metadata": {},
   "source": [
    "## Práctica Calificada 5\n"
   ]
  },
  {
   "cell_type": "markdown",
   "metadata": {},
   "source": [
    "#### Pregunta 2\n",
    "\n",
    "\\begin{align}\n",
    "f(\\delta):= \\min        x_1& +(2 + \\delta)x_2& - 2x_3&\\\\\n",
    "            s.t.\\quad   x_1& + x_2& + x_3& \\le 2\\\\\n",
    "                        2x_1& + x_2& + 3x_3& \\le 4\\\\\n",
    "                        x_1& + 2x_2& - x_3& \\le 2\\\\\n",
    "\\end{align}\n",
    "$$x_1\\ge 0, x_2\\ge 0, x_3\\ge 0$$"
   ]
  },
  {
   "cell_type": "code",
   "execution_count": 24,
   "metadata": {},
   "outputs": [],
   "source": [
    "A = [[1, 1, 1., 1, 0, 0],\n",
    "     [2, 1, 3., 0, 1, 0],\n",
    "     [1, 2, -1, 0, 0, 1]]\n",
    "\n",
    "b = [2, 4, 2.]\n",
    "\n",
    "c = lambda delta: [1, 2 + delta, -2, 0, 0, 0]\n",
    " "
   ]
  },
  {
   "cell_type": "markdown",
   "metadata": {},
   "source": [
    "$\\mathbf v_1^T = (0, 1, 0)$"
   ]
  },
  {
   "cell_type": "code",
   "execution_count": 25,
   "metadata": {},
   "outputs": [
    {
     "name": "stdout",
     "output_type": "stream",
     "text": [
      "vertex = [0. 0. 0.], x_B = [4, 5, 6]\n",
      "[[ 1.  2. -2.  0.  0.  0.  0.]\n",
      " [ 1.  1.  1.  1.  0.  0.  2.]\n",
      " [ 2.  1.  3.  0.  1.  0.  4.]\n",
      " [ 1.  2. -1.  0.  0.  1.  2.]]\n",
      "vertex = [0. 1. 0.], x_B = [4, 5, 2]\n",
      "[[ 0.   0.  -1.   0.   0.  -1.  -2. ]\n",
      " [ 0.5  0.   1.5  1.   0.  -0.5  1. ]\n",
      " [ 1.5  0.   3.5  0.   1.  -0.5  3. ]\n",
      " [ 0.5  1.  -0.5  0.   0.   0.5  1. ]]\n"
     ]
    },
    {
     "data": {
      "text/latex": [
       "$\\displaystyle \\left[\\begin{matrix}1 & \\delta + 2 & -2 & 0 & 0 & 0 & 0\\\\0.5 & 0 & 1.5 & 1.0 & 0 & -0.5 & 1.0\\\\1.5 & 0 & 3.5 & 0 & 1.0 & -0.5 & 3.0\\\\0.5 & 1.0 & -0.5 & 0 & 0 & 0.5 & 1.0\\end{matrix}\\right]$"
      ],
      "text/plain": [
       "Matrix([\n",
       "[  1, \\delta + 2,   -2,   0,   0,    0,   0],\n",
       "[0.5,          0,  1.5, 1.0,   0, -0.5, 1.0],\n",
       "[1.5,          0,  3.5,   0, 1.0, -0.5, 3.0],\n",
       "[0.5,        1.0, -0.5,   0,   0,  0.5, 1.0]])"
      ]
     },
     "metadata": {},
     "output_type": "display_data"
    },
    {
     "name": "stdout",
     "output_type": "stream",
     "text": [
      "Cost corrected\n"
     ]
    },
    {
     "data": {
      "text/latex": [
       "$\\displaystyle \\left[\\begin{matrix}- \\frac{\\delta}{2} & 0 & \\frac{\\delta}{2} - 1 & 0 & 0 & - \\frac{\\delta}{2} - 1 & - \\delta - 2\\\\\\frac{1}{2} & 0 & \\frac{3}{2} & 1 & 0 & - \\frac{1}{2} & 1\\\\\\frac{3}{2} & 0 & \\frac{7}{2} & 0 & 1 & - \\frac{1}{2} & 3\\\\\\frac{1}{2} & 1 & - \\frac{1}{2} & 0 & 0 & \\frac{1}{2} & 1\\end{matrix}\\right]$"
      ],
      "text/plain": [
       "Matrix([\n",
       "[-\\delta/2, 0, \\delta/2 - 1, 0, 0, -\\delta/2 - 1, -\\delta - 2],\n",
       "[      1/2, 0,          3/2, 1, 0,          -1/2,           1],\n",
       "[      3/2, 0,          7/2, 0, 1,          -1/2,           3],\n",
       "[      1/2, 1,         -1/2, 0, 0,           1/2,           1]])"
      ]
     },
     "execution_count": 25,
     "metadata": {},
     "output_type": "execute_result"
    }
   ],
   "source": [
    "basic_var = [3, 4, 5]\n",
    "\n",
    "tableau = build_tableau(A, b, c(0))\n",
    "opt_tableau = simplex(tableau, basic_var)\n",
    "opt_tableau = sp.Matrix(opt_tableau.tolist())\n",
    "opt_tableau[0, :-1] = sp.Matrix(c(delta)).T\n",
    "opt_tableau[0, -1] = 0\n",
    "display(opt_tableau)\n",
    "\n",
    "correct_symbolic_cost(opt_tableau, basic_var)\n",
    "sp.nsimplify(opt_tableau, rational=True)"
   ]
  },
  {
   "cell_type": "markdown",
   "metadata": {},
   "source": [
    "$\\mathbf v_2^T = (2, 0, 0)$"
   ]
  },
  {
   "cell_type": "code",
   "execution_count": 32,
   "metadata": {},
   "outputs": [
    {
     "name": "stdout",
     "output_type": "stream",
     "text": [
      "vertex = [0. 0. 0.], x_B = [4, 5, 6]\n",
      "[[ 1.   1.5 -2.   0.   0.   0.   0. ]\n",
      " [ 1.   1.   1.   1.   0.   0.   2. ]\n",
      " [ 2.   1.   3.   0.   1.   0.   4. ]\n",
      " [ 1.   2.  -1.   0.   0.   1.   2. ]]\n",
      "vertex = [0. 1. 0.], x_B = [4, 5, 2]\n",
      "[[ 0.25  0.   -1.25  0.    0.   -0.75 -1.5 ]\n",
      " [ 0.5   0.    1.5   1.    0.   -0.5   1.  ]\n",
      " [ 1.5   0.    3.5   0.    1.   -0.5   3.  ]\n",
      " [ 0.5   1.   -0.5   0.    0.    0.5   1.  ]]\n",
      "vertex = [2. 0. 0.], x_B = [1, 5, 2]\n",
      "[[ 0.   0.  -2.  -0.5  0.  -0.5 -2. ]\n",
      " [ 1.   0.   3.   2.   0.  -1.   2. ]\n",
      " [ 0.   0.  -1.  -3.   1.   1.   0. ]\n",
      " [ 0.   1.  -2.  -1.   0.   1.   0. ]]\n"
     ]
    },
    {
     "data": {
      "text/latex": [
       "$\\displaystyle \\left[\\begin{matrix}1 & \\delta + 1.5 & -2 & 0 & 0 & 0 & 0\\\\1.0 & 0 & 3.0 & 2.0 & 0 & -1.0 & 2.0\\\\0 & 0 & -1.0 & -3.0 & 1.0 & 1.0 & 0\\\\0 & 1.0 & -2.0 & -1.0 & 0 & 1.0 & 0\\end{matrix}\\right]$"
      ],
      "text/plain": [
       "Matrix([\n",
       "[  1, \\delta + 1.5,   -2,    0,   0,    0,   0],\n",
       "[1.0,            0,  3.0,  2.0,   0, -1.0, 2.0],\n",
       "[  0,            0, -1.0, -3.0, 1.0,  1.0,   0],\n",
       "[  0,          1.0, -2.0, -1.0,   0,  1.0,   0]])"
      ]
     },
     "metadata": {},
     "output_type": "display_data"
    },
    {
     "name": "stdout",
     "output_type": "stream",
     "text": [
      "Cost corrected\n"
     ]
    },
    {
     "data": {
      "text/latex": [
       "$\\displaystyle \\left[\\begin{matrix}0 & 0 & 2 \\delta - 2 & \\delta - \\frac{1}{2} & 0 & - \\delta - \\frac{1}{2} & -2\\\\1 & 0 & 3 & 2 & 0 & -1 & 2\\\\0 & 0 & -1 & -3 & 1 & 1 & 0\\\\0 & 1 & -2 & -1 & 0 & 1 & 0\\end{matrix}\\right]$"
      ],
      "text/plain": [
       "Matrix([\n",
       "[0, 0, 2*\\delta - 2, \\delta - 1/2, 0, -\\delta - 1/2, -2],\n",
       "[1, 0,            3,            2, 0,            -1,  2],\n",
       "[0, 0,           -1,           -3, 1,             1,  0],\n",
       "[0, 1,           -2,           -1, 0,             1,  0]])"
      ]
     },
     "execution_count": 32,
     "metadata": {},
     "output_type": "execute_result"
    }
   ],
   "source": [
    "basic_var = [3, 4, 5]\n",
    "\n",
    "tableau = build_tableau(A, b, c(-1/2))\n",
    "opt_tableau = simplex(tableau, basic_var)\n",
    "opt_tableau = sp.Matrix(opt_tableau.tolist())\n",
    "opt_tableau[0, :-1] = sp.Matrix(c(-1/2 + delta)).T\n",
    "opt_tableau[0, -1] = 0\n",
    "display(opt_tableau)\n",
    "\n",
    "correct_symbolic_cost(opt_tableau, basic_var)\n",
    "sp.nsimplify(opt_tableau, rational=True)\n"
   ]
  },
  {
   "cell_type": "markdown",
   "metadata": {},
   "source": [
    "$\\mathbf v_2^T = (0, 4/3, 2/3)$"
   ]
  },
  {
   "cell_type": "code",
   "execution_count": 37,
   "metadata": {},
   "outputs": [
    {
     "name": "stdout",
     "output_type": "stream",
     "text": [
      "vertex = [0. 0. 0.], x_B = [4, 5, 6]\n",
      "[[ 1.  5. -2.  0.  0.  0.  0.]\n",
      " [ 1.  1.  1.  1.  0.  0.  2.]\n",
      " [ 2.  1.  3.  0.  1.  0.  4.]\n",
      " [ 1.  2. -1.  0.  0.  1.  2.]]\n",
      "vertex = [0. 1. 0.], x_B = [4, 5, 2]\n",
      "[[-1.5  0.   0.5  0.   0.  -2.5 -5. ]\n",
      " [ 0.5  0.   1.5  1.   0.  -0.5  1. ]\n",
      " [ 1.5  0.   3.5  0.   1.  -0.5  3. ]\n",
      " [ 0.5  1.  -0.5  0.   0.   0.5  1. ]]\n",
      "vertex = [0.         1.33333333 0.66666667], x_B = [3, 5, 2]\n",
      "[[-1.66666667  0.          0.         -0.33333333  0.         -2.33333333 -5.33333333]\n",
      " [ 0.33333333  0.          1.          0.66666667  0.         -0.33333333  0.66666667]\n",
      " [ 0.33333333  0.          0.         -2.33333333  1.          0.66666667  0.66666667]\n",
      " [ 0.66666667  1.          0.          0.33333333  0.          0.33333333  1.33333333]]\n"
     ]
    },
    {
     "data": {
      "text/latex": [
       "$\\displaystyle \\left[\\begin{matrix}1 & \\delta + 5 & -2 & 0 & 0 & 0 & 0\\\\0.333333333333333 & 0 & 1.0 & 0.666666666666667 & 0 & -0.333333333333333 & 0.666666666666667\\\\0.333333333333333 & 0 & 0 & -2.33333333333333 & 1.0 & 0.666666666666667 & 0.666666666666667\\\\0.666666666666667 & 1.0 & 0 & 0.333333333333333 & 0 & 0.333333333333333 & 1.33333333333333\\end{matrix}\\right]$"
      ],
      "text/plain": [
       "Matrix([\n",
       "[                1, \\delta + 5,  -2,                 0,   0,                  0,                 0],\n",
       "[0.333333333333333,          0, 1.0, 0.666666666666667,   0, -0.333333333333333, 0.666666666666667],\n",
       "[0.333333333333333,          0,   0, -2.33333333333333, 1.0,  0.666666666666667, 0.666666666666667],\n",
       "[0.666666666666667,        1.0,   0, 0.333333333333333,   0,  0.333333333333333,  1.33333333333333]])"
      ]
     },
     "metadata": {},
     "output_type": "display_data"
    },
    {
     "name": "stdout",
     "output_type": "stream",
     "text": [
      "Cost corrected\n"
     ]
    },
    {
     "data": {
      "text/latex": [
       "$\\displaystyle \\left[\\begin{matrix}- \\frac{2 \\delta}{3} - \\frac{5}{3} & 0 & 0 & - \\frac{\\delta}{3} - \\frac{1}{3} & 0 & - \\frac{\\delta}{3} - \\frac{7}{3} & - \\frac{4 \\delta}{3} - \\frac{16}{3}\\\\\\frac{1}{3} & 0 & 1 & \\frac{2}{3} & 0 & - \\frac{1}{3} & \\frac{2}{3}\\\\\\frac{1}{3} & 0 & 0 & - \\frac{7}{3} & 1 & \\frac{2}{3} & \\frac{2}{3}\\\\\\frac{2}{3} & 1 & 0 & \\frac{1}{3} & 0 & \\frac{1}{3} & \\frac{4}{3}\\end{matrix}\\right]$"
      ],
      "text/plain": [
       "Matrix([\n",
       "[-2*\\delta/3 - 5/3, 0, 0, -\\delta/3 - 1/3, 0, -\\delta/3 - 7/3, -4*\\delta/3 - 16/3],\n",
       "[              1/3, 0, 1,             2/3, 0,            -1/3,                2/3],\n",
       "[              1/3, 0, 0,            -7/3, 1,             2/3,                2/3],\n",
       "[              2/3, 1, 0,             1/3, 0,             1/3,                4/3]])"
      ]
     },
     "execution_count": 37,
     "metadata": {},
     "output_type": "execute_result"
    }
   ],
   "source": [
    "basic_var = [3, 4, 5]\n",
    "\n",
    "tableau = build_tableau(A, b, c(3))\n",
    "opt_tableau = simplex(tableau, basic_var)\n",
    "opt_tableau = sp.Matrix(opt_tableau.tolist())\n",
    "opt_tableau[0, :-1] = sp.Matrix(c(3 + delta)).T\n",
    "opt_tableau[0, -1] = 0\n",
    "display(opt_tableau)\n",
    "\n",
    "correct_symbolic_cost(opt_tableau, basic_var)\n",
    "sp.nsimplify(opt_tableau, rational=True)\n"
   ]
  },
  {
   "cell_type": "code",
   "execution_count": 41,
   "metadata": {},
   "outputs": [
    {
     "data": {
      "image/png": "[encoded data removed]",
      "text/plain": [
       "<Figure size 432x288 with 1 Axes>"
      ]
     },
     "metadata": {
      "needs_background": "light"
     },
     "output_type": "display_data"
    }
   ],
   "source": [
    "def z(delta):\n",
    "    if delta < 0:\n",
    "        return 2\n",
    "    elif 0 <= delta < 2:\n",
    "        return delta + 2\n",
    "    else:\n",
    "        return 4 / 3 * (delta + 1)\n",
    "\n",
    "\n",
    "interval_point = [0, 2]\n",
    "z_point = [z(d) for d in interval_point]\n",
    "\n",
    "interval = np.linspace(-1, 2.5)\n",
    "z_plot = [z(d) for d in interval]\n",
    "\n",
    "plt.title(\"$z^*(\\delta)$\")\n",
    "plt.xlabel(\"$\\delta$\")\n",
    "plt.ylabel(\"$z^*(\\delta)$\")\n",
    "plt.plot(interval, z_plot)\n",
    "plt.plot(interval_point, z_point, 'o', c='r')\n",
    "plt.show()\n"
   ]
  },
  {
   "cell_type": "code",
   "execution_count": null,
   "metadata": {},
   "outputs": [],
   "source": []
  }
 ],
 "metadata": {
  "kernelspec": {
   "display_name": "Python 3.10.5 64-bit",
   "language": "python",
   "name": "python3"
  },
  "language_info": {
   "codemirror_mode": {
    "name": "ipython",
    "version": 3
   },
   "file_extension": ".py",
   "mimetype": "text/x-python",
   "name": "python",
   "nbconvert_exporter": "python",
   "pygments_lexer": "ipython3",
   "version": "3.10.5"
  },
  "orig_nbformat": 4,
  "vscode": {
   "interpreter": {
    "hash": "590f4a299ae404e723bbc5f32e9a7b98b836c3c65ce9112bc934ac92a06ceee3"
   }
  }
 },
 "nbformat": 4,
 "nbformat_minor": 2
}
