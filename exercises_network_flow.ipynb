{
 "cells": [
  {
   "cell_type": "markdown",
   "metadata": {},
   "source": [
    "## Network Flow"
   ]
  },
  {
   "cell_type": "code",
   "execution_count": 2,
   "metadata": {},
   "outputs": [],
   "source": [
    "import numpy as np"
   ]
  },
  {
   "cell_type": "markdown",
   "metadata": {},
   "source": [
    "![image.png](data:image/png;base64,iVBORw0KGgoAAAANSUhEUgAAAOgAAACpCAYAAAAhrXGxAAAAAXNSR0IArs4c6QAAAARnQU1BAACxjwv8YQUAAAAJcEhZcwAAEnQAABJ0Ad5mH3gAACN/SURBVHhe7Z0HmBRF2sdrOSQc8JGjSF6iiAiSBJEjLCs5iCioCCLcAQICgoKioiAeHFF0FyV5RJEgeTlAoiCKyElSYAFhyYhwkqW//r9WtbPDzux0z0xPz8z7e556araqt7t3tv9d6a33jdF0BMMwjiSDzBmGcSAsUIZxMNzFjUC+/fZbsX//fvHzzz+LS5cuid9//11kzZpVFChQQJQuXVo88MADomjRovJoxsmwQCOAGzduiDlz5oglS5aIpKQkcf36dVnjmfLly4tmzZqJJ554QtSsWVOWMk6DBRrGXLhwQYwdO1ZMnjxZXLlyRZYKUbFiRVG5cmVRvHhxkSdPHpExY0Zx9epVcerUKfHjjz9SC4uWVVG/fn3Rr18/0bp1a1nCOAYIlAk/Jk2apP3f//0fXq6UGjRooCUkJGgnT56UR3hn06ZNmi5KLW/evMY5WrRooe3du1cewTgBFmiYce7cOa1NmzapRLV582ZZax59fKqNGTPGEGpMTIyWmJgoa5lQwwINI3bv3q2VK1eOhFSgQAFt9uzZssZ/Ll68qD3//POG8AcPHixrmFDCAg0Tdu3apRUsWJDEg+7s8ePHZU1gmTJliiHSl156SZYyoYIFGgacOHFCK1WqFImmbdu2sjR4LFq0yBDp8OHDZSkTCligYUBcXByJpUmTJrIk+CxYsMAQ6bx582QpYzcsUIfz7rvvkkhKlCihnT17Vpbaw+jRo+na+fPnt/3azB/wOqiD+emnn0TZsmXp8xdffCFatGhBn+2kZcuWYtmyZaJHjx7io48+kqWMXbAtroPRWzDKu3TpEhJxglGjRlGekJAgdu/eTZ8Z+2CBOpSjR4+KTz75hD6/+uqrlIeCSpUqiV69etHnKVOmUM7YBwvUocyaNYvyTp06Gd3cUKEEOm3atFQmhUzwYYE6lM8//5xyCDTUVKhQQTRq1Ih2xcAgn7EPFqgDSU5OFnv27BG5c+cW8fHxstQcv/zyi+jevbuIiYmh1LNnT79av+bNm1O+du1ayhl7YIE6kO3bt1Ner149ys2C7WcjRowQH3/8sShVqhS1fpjkGTx4MO1qsUKDBg0o37ZtG+WMPbBAHcjevXspf/DBByk3S0pKitixY4d4//33xcqVK0WrVq1E1apVxddffy3OnDkjjzIHNnlnyZJFHD58WFy+fFmWMsGGBepAMIML4P3ACjdv3hTt27cXzzzzjChXrpxo2LChyJAhA23kRnfXKiVLlqT8+PHjlDPBhwXqQLARG+TPn59ys0CU/fv3F4UKFYKlmDh9+rQ4cuQItaJ58+aVR5knX758lGN8y9gDC9SBoAUEmTNnptwf0B399NNPRbZs2UTfvn1F9uzZZY15MmXKRLm6Pyb4sEAdCMZ6wBffQt64deuWWLhwIZnqYdKoSpUqfnVxMfkEAvHiYHyDBepAVFfS6oQOwJrlqlWryAoJdrQdOnSgrinGt6izwtmzZyn3p5vMmIMF6kBKlChB+aFDhyg3CwS4YsUKWgfFOBRp+vTpIi4uTkydOlXcvn1bHmkOjGMBnJExNoHdLIyz+Oyzz2ibV9OmTWWJ79y5c0f7z3/+k8oZmEp58uTRNm7cSMeYZefOnXSO8uXLyxLGDni7mQM5efIkOZb+61//Kn777TdZ6hv4dx44cEB88803qVpKjD3hghMGBzly5JClvoM1VRg6dOvWjQwgGHtggToUOJOGYcGiRYtEmzZtZGnoqFu3rti6datYsGABObtm7IHHoA4FhgYASyShBo6uIU4s0TjhZRFNsEAdynPPPUf54sWLxa5du+hzqIDneoDuLbzUM/bBAnUoCHQEwwIwcuRIykMBDPdnzJhBn3v37k05Yx8sUAczZMgQmijC3tDZs2fLUnvBPYCBAweKMmXK0GfGPniSyEFg9vbgwYMU4Aj7QTdu3Egzsnfu3BE5c+YUO3fuFLGxsfLo4DN06FBqvWEmiG1m2NHC2AsL1GawbAIBKiG6xvLEjhPYu8LW1XXfpiqrUaOGWLdunV/2tL6SmJhIFkgKtOTw6ocdMoyNQKBM8JgwYYLWtWtX7eGHHybjgYwZM2p6a0iRyXRB0uK/t/SXv/xF27Fjh1atWjX6uX79+tovv/wizx4cpk6dalwfvnE7depk/KyPQ+VRjB2wQIPMli1bNL0FNB5wMwniREAjkJycrFWsWJHK9a6mpre8VB5o3nrrLeP6b775piz940WjyvWWnGLFMMGHBWoDo0aN0nLlymU84L6mmJiYVEGS9G6w9sgjjxh148aNkzX+o3eztebNmxvX/uc//ylr/uSrr77SqlSpYhyjd3llDRMsWKA2UadOHePB9iXpYz6PIQBffPFF47iaNWuS7a5VEPB30KBBxvkQQQ3BkzyBeKLdu3c3jkf3/caNG7KWCTQsUJs4fPiwljlzZuPBTi9BoFeuXJG/fTfz58/XYmNjjeMrVKhAXdJvvvlGHuEZjGHx+x07dkx1zW7duvkcgwXjVIyn8Xv3338/deWZwMMCtZHp06fTBJGrKNJKmEB6//335W95Z/z48amEipQ7d26tXr162jPPPEMxPl9++WWtZ8+eWuvWrY1xrGt68skntW3btskz+s7333+v1a5d2zjPv/71L1nDBAoWqM1Urlw5lTjSSoiebZaVK1dqPXr0MOKIekuYfEIQYIwzMfnkL3379jXOjVb50qVLsobxFxaoTRw6dIj2d7oKJa2EySR0H/0B40rsCZ0xYwZNJuG8aFEXLlxIs6+3b9+WRwYOhOPPkSMHXQsviaSkJFnD+AML1AamTZumZcuWjR7eokWLam+88QaNMZUoXVOZMmXkb/kPrqsEWrhwYVkaPH766SetYcOGxt/yzjvvyBrGKizQIPK///2P1jHVA/vUU09p58+fp7ohQ4bQWFPVIaH19GdG1p1ixYoZ58YL4fPPP5c1weXVV181rtuyZUstJSVF1jBmYYEGiVWrVlFriIcUs50ffvihrPkT9/EorIUCxSeffHLX2mulSpVkbfBZvHgxLdngumi9lyxZImsYM7BAg4BrC4LJmB9++EHWpGb37t3GcRi/YdwYKO677z7j3CpBsN7WOAPNiRMntBYtWhjXf+2112QN4yss0ADy3XffaXXr1jUeSIw102PSpEkknCZNmsgS//n444/vaj1Vwpql3YwYMcK4fuPGjWnCjPENFmiAmDhxovEQwvPd2rVrZU36xMXF+WRg4CuYiFL34p6wDovup92sXr1aK1mypHEPc+bMkTWMN1igfnL69GntiSeeMAQAMzyzpm9nzpyRn/wHSzSeWk+VMPYNBRcvXiSjCHUf/fr1kzWMJ1igfoAZVzURAlF8+umnsiZ0FClSxBCAp4QWLJSTNmPHjjXuBcb/e/bskTWMOyxQi/Tp08d4yDARcvToUVkTOhITE30yJUTCrpRQsmnTJppVxr3cc889NG5m7oYFapLNmzdrDz74oPGg+2ozawe+tJ4qQchLly6Vvxkarl+/nmqdGKaKVrzeRzIsUBOMHDnSeJiqV6+ubd++XdaEHuzN9LX1VAkvGicwZcoU456qVq3qqO811LBAfcDdjha7Q5wGjAHU/fmaIOhly5bJM4QWzGLDLYy6N8yKMyzQdHG3ow3FEkV6wErJbOupElosJ9GrVy/j3rBdDuaS0QwL1APe7GidBsaesLXNmjWrliVLllRJ3T/MDbFhHP6RkDAxo9Ly5cvlmZwBduHgb8F9lytXTlu/fr2siT5YoGngakeLvZMYI4Ur6kHHdrBwYt++feTBUL1g4F0wGmGBugF7UfVQeLOjDReUQMPVcmfgwIHG/6Ndu3Y+u2QBMKMMd1igEit2tOFAuAsULFiwwAhIjE0AK1askDWegS9h+B2ePHmyLAlPWKA6/tjROh0l0Hnz5smS8ASGIK4z6cOHD5c1aaNcv+TPn1+WhCdRLVB3O1q4k4w0F5KRIlAFejbq/xUfH5+mBRdmf5XHCsxuw7FauBK1AnWiHW0wUAJFNzFSwKyz2u+Krq+rFwpsVHdfcoKXw3AlKgXqRDvaYKGWWgLpSsUJYLKobdu2xv8Rzrf/+9//0qy7KlMJrmXS8pQfDkSVQJ1sRxssIlWgivfee8/4fyqDkrQSRHrr1i35W+GDreEHEW7v66+/NsLtXbp0Sfz+++8U2g4RpUuXLi10AYlHHnlEZM6cWf5WYBg1apR47bXX6HP16tXFpEmTRK1atejnSEbv4orr169TEGC9xZGlkcWGDRvob8Pz5IkcOXLQ/18FJDbL+fPnKWbrkSNHhN5603eaMWNGoXefhd7dFhUrVhRly5aVRwcQkmkQwV6/V155RdNv/q63mqeE6XF0PQMxLoQdLSYT1LmdaEcbTFQLapdHv1Awd+5cwyevt5Q9e3bt6tWr8rfSB/bB8L7oGjDKW8KcRufOncn/cKAIWgu6Y8cOoXchxaJFi2SJEPofQK0jIjWXKFFC5MmTR+hjBgpqe+rUKQpqq38p1MoqihYtKvr37y90YckS35k+fbrQx5t0fpwHrWbr1q1lbXSgWtDFixdH5N9++PBhcf/999PfmB4IfDx48GAxbNgwWZI2X3zxhZg4cSIFS1boLzpRrVo1aiXxHKPXp3eZxcWLF0VycjK1ridOnJBHC2pVe/XqJfTGScTExMhSC5BMAwi8liMeCE6NhEE74oJs3LhRHpE+WP744IMPKA6lOg+cXfmyQA3CyY422KgW1IlG/oHAdQeMLwnfx+XLl+Vvp2bv3r3kx1cdi3ErjPd99bYI80TMa2ADgjpH8eLFtX//+9/yCPMEVKB6y0fBZdXNDRgwwG9/O3iwVHRpJP3tJ2vSJpLsaAOBiqgWiX5p4d7U3fl3egkTSWlZiSUkJBgRz7HsBttfbCi3CrbxIdyGui7CNCJ0o1kCJlA8ACqSdK1atcjUKpC4Rn5GSPa0iDQ72kAQqQLF3+Nt1tZbwnMKB2YK1/io6HmdO3dO1vgPTA1VmEZEgnMNyOwLAREoviz1ByLGZLDAW0m9Mdu3by9L/3AAHYl2tIFACVQfV8mS8AehJOBsDC0duqzIlUGGLwlb7DD5A1z3n6bl/T8Q4PlUy3sI/2hm3d1vgcI9Bf5gXLx///6yNHigZYZ9Ja4HHzaRbEcbCCJRoK5gCLVu3Tp6DjCDCkdkEC1aVwhXPZvuCUGlMDeifg62fyYETX7sscfoWnCXc+3aNVnjHb8EevPmTcMz2wsvvCBLgw8MDlTULpVgR+vPmCFSUQJ12qbsYHPkyBHqcY0aNYomfuA0G2NMtLTuz45d4TAwOQVx4pqYuPQFvwSqugd16tSRJfaBaNXqC44GiyCrRKtAPQFzQMxnqAmhcePGyRp72L9/v7Fm60uX2rJAt2zZYggkkGELzNClSxe6focOHWQJ446auPN1iSoaeO655+g7cZ3HsBO4dMH10QW/cOGCLE0bywJVUasGDx4sS+wHkaTVA2hmnTWaYIGm5quvvqLvAwkBh0OFWm/FDLI3LAkULSZOjsG463R1KFBLKx07dpQl5oFpllN8xAYaJVCsDzMaLdHh+4ArlVCybds2ug8MQX799VdZejeWBIqgNzg5tm2FGqwr4V6QzBpFQJiY9kZXo1ChQrI0smCB/gmeD/WsJCcny9LQoWzEvflOyqAfYBrYdYKnn36a8lACm0e9u02fly5dSnl66MKk3QcvvPCC2Ldvn9ddEJFChgyW/tURhbIL17uXZAseajp37kw5dhp5wvR/DUbBx44dE8WKFfNru9bly5fF22+/TdvM5s2bJ+7cuSNrzNOsWTPKXY2b0+Kzzz4TFSpUEN27d6ctb67C9MugmQkLkpKSKIdA/QVG8nj+q1atmspI3gytWrWi/Msvv/TYSJgWqNppUrduXcqtcOjQIVG/fn0xfPjwgAijXr16lG/fvp1ydxYsWEDCfPHFF8WBAweiosVU6L0kyvkFJIQ+7qP8scceo9wq2MUyZswY2rF1zz33yFLzZMuWLd1n17RA0SUE2DJmlXvvvZe2frVv3z4gDw66q9hWhZYdLbMCwixfvrzo0aNH1AmTSU1KSorQx6AiX7585BjAKnjhoac2e/Zs2qzt79ABLTD44YcfKHfH9NmPHz9OecmSJSm3AsSEG8N+UPWG9xc1poCnhvnz5xvCxB5TFiaPQfHyBqVKlaLcKqdPn6ahGXJ4VPAX9bI4evQo5e6Y3rDdqFEjeoOsXbuWPlsFm6ixCXvJkiViwoQJokOHDn49ROhyb926lcR/+/Zt6oaYIUuWLKJ58+b02b1Vd/3Z02cQ6LpAnAOb1jG+f/zxx0WRIkUsncPX44CddWbOAVclmBzEfMXy5ctlqTmuXbtGG77XrFkj+vXrR5u6c+bMSeeFQwArYP7lqaeeEh07dhRz586VpS5AoGZQ8TL0ga0ssQY2VetjQq1AgQLkssLKXjlXXON4cOLkKcEToBXwfMJtDJbjEA0ckQgqVKig1axZU9N7bfIo88AO2Nt9mW5B4+PjxerVq8WKFSvorWyVQLegNWrUEDt37qRWcP369dR1xhvPVzCeSExMpM+uX4n712OlLhDnAFbq0M2HY7YBAwZQt9/KOYCVukCcAwSiDrP2M2bMsNyCnjx5UrRr144mhtzJmzevWLZsmahdu7Ys8R20mliuDFgL+uyzz+KvJgfB/hDoFlQ5MsYCNM4FP6hwYOyLMykkhPCLRNR2K397POGOMvGDGx0rwCwQTgBcnxk4xMb+5NjYWLIMsoLeONG5evfuLUtSY7rJUoNaTL44hStXrtDkEKa8MVmElnjgwIHiwoUL4vXXXxf6l0huF5nopXjx4pTDyZgVypQpY/TMkDDrqnd3afkO5VZaT4AlR+DJcMK0QKtUqUI5vO9ZBYu88NSHLiV8jGJ9MiEhgbpiVkDXFsCnrivwGDho0CC6XrQKFQ8TcJ80iTYKFy5MgsJLW4nCX27cuEETkv6gj2Uph2fCtDAtULjNBHAWfPXqVfpslkyZMpEVBWYYp02bRmuiGENaRVkQqUVfd5RQ8c+By0VuUaOTOnXqUI5n119gAffee+8Zz5MV0PPbsmULffbYAqOfaxblumHWrFmyJLRgNg33k5SUJEu8A08QCBmA8akao0bqGFQ5rIIXimgHnvvwXWCrpBOAY3bcD8a2nrAkULiyxIkbNWokS0IHdmngXvQ+vCzxHQgVLjHgcfzee++VpZEFC/RP4K0P3wWSPhaVpaEjLi6O7gU+oD1hSaBweITZK5zcV6e+weLxxx+n+3jnnXdkiXkQExRCjUSUQLdu3SpLohvEDsX3EeoQIMojCXwk6V1dWXo3lgQKVCBVb81zsFGLvFhO8bbpNZphgaYGXiHxfSAdOHBAltpPs2bN6B7S80hiWaBoddTao92OlwCC4GD9CdeHB2+EnGDuRgkU64DMHzRv3py+kzZt2sgSe4ENAa6P4MOXLl2SpWljWaAABga4ENKmTZtkqT2oropK5cqVIzeLTGqUQOG/OFqAEQyi6sHXLRoPuGSFY/OiRYveFeB3zJgx8rfsAdEOVHj+xMREWeoZvwQKVLRqtKZ2dRmUHyL8obNnzyYv4+oL/8c//mEqxFykox7ISBMo7F/RKMBDHoZbrVu3Jh/NGO7gpYQ5EnyG3yz1bLgmNYeCZFdwY/jvUoGV4GTbF/wWKFBdBgQt+v7772VpcHCNv+LqcBiTRKocToojOR6mGZRAEdgqUpg3bx69nOFLSi2TmUkwf8RYVM2jIAX7ecEMsgpPgthFvkb7DohAsVzRuHFjuji+tGB46saYV/kzRcKb051vv/02lb0kvN2n18ePdCJRoODpp582nHKbSWhdMTxS9O3b16jz5rzLH+AFU0VgQPS/EydOyJr0CYhAFXB9qf5YxAj1Nn1sBowlMMbEeTEtDW983oCneXUfWN/EWDlaUQINlXPxYIFxporRYybh+3AXCMIYqnqI99SpU7LGf8aPH2+cG5OZZs8dUIGCd99917ihfPny0foiAsdYAWusrgFV0UXA4N8X4OJfLQQjYRfO2bNnZW30EKkCBYiqZ6aLi2Pffvtt+dupwcyqapEReAnPsT8NDHqR6Mqqa2PnlhUCLlCA7pSrOPCQoEuCSMPHjh2TR90N+uVYwH3zzTeNcG1I+MJgmmcFvMHUTCbeuDNnzpQ10YES6K5du2RJZIFhjJoVTS+hwfDGjz/+qLVr1844Hr01CAvWar6MGTH/AmEjGrw6B+ZlMGa2iukN22bAxtgPP/xQrFy5Upb8gS4U2v6DTdK6eGjzNny86F+QPOIP4KIDvmv1cQL5L7IKzovtZ9hUC7A5Fl7Z4Lws0sH3i11CukANB1WRBP42PEvYUO2NXLlyibFjx4quXbvKEs/ogiR3JnBMoNBfdKJatWoiNjaWdsUo1zrYgAF/QnBHC6dkCvg+6tWrFzkl8AuSaZA5dOiQpn85ZJaHxVlc1lOqXLkyLZUEY00TNsTqbYsp+KlTp8qayEW1oHDREYmgdVMGM94SJmnMguHU66+/boQMTC/hPhChO5CxWIPagnoCLhDh7Bfe9vAGxNsI23ewGVwfB8ijggPedmhNlTfvtm3bUmvqj5dCJ4M3P5yGYd+h+37ZcAdbCPG/A9jv+euvv6a5BRLbweCCVR92yRLzwJ2r3oUVycnJtIf5+vXr1DtBL1AXJrl+DYq3epJpFALHT1gSwleAsYa3HQXhTAYZBzPY69N2smHDhlRzFMOHD6dyvVtplLmmpk2bUn04ErUCBQhfiEjH6h8Jg4tQGlAHg0gT6NChQ43/lz4mTLWNDn6X3C2HYJTg68y/E4lqgSqw8RzOy/APxZgtFMb/wUIJFMtO4QyM/eHiUgnP0y4QCFiZ8UGsmM8IZ1igEphiuVoqNWnSJCzevOfPn6eJtzx58lDCZ5WwrKD+HnigwzITEl5GKhUsWJC6jE5mxIgRxt+BJYy1a9fKmrQpX748HQuBphfB2umwQN3AmhV2PagHYvTo0bLGubzyyit3de18TXD47VSwduvqkBxxaX0BrS26tnbvVAkGLNA0wOZvbFFSDwZ8MDnZEgetv1pOMZNgWeNUf7nwa6zuE4v9Zpfd/PGw4SRYoF6AuZbrzKAnMzEnMGjQINOtKF48TmPfvn2prNB69uxJLnaiFRZoOuDh6NWrl/HA1KlTx5HuQ2BnbKYVhaO0jRs3yt92BhMnTjT+Biz6p7cpIhpggfrI8uXLjckHpGHDhska5zBgwACfW9FQ+pJy58iRI6k2RXTp0iXqtwkqWKAmuHPnDnmDUw8STMCcNAN65swZY1nFW0LrabeLGk/A7Qc2Q+C+MMOMDRXMn7BALYBp/ipVqhgPPGZRnUL//v3T3cj8t7/9TR4dOmAk0qFDB+OeYDBy+vRpWcsoWKB+MGTIEOMBg5H/mjVrZI3v7N+/X34KDNgQ7K0VReuJLX2hBIYhWLPF/WAmGWaXTNqwQP0EEy0PP/ywIQCs1ZlxAVq7du2AdzdxD55a0VBGA4DRgApfiQS3l0ePHpW1TFqwQAOEqwMqX12AwgcODPYfeughWRIYUlJStJiYGON+VELrGaoZ6Pnz51P8G9xHpkyZInZzQqBhgQYQWLD46gIUe2SVpweIdPr06bImMMAnFISg7gUJjt3s5rfffktl9BEfH68dPHhQ1jLpwQINAr64AHWP1gzbWV9dMfoCJmFcW1FsVLcaBdoqcPbmauiBTfuMOVigQcKbC1CEwVN7UVVC9xM+fwMJwqqr8z/66KOyNPhgDK4cmiNh1jiS9qPaCQs0yLi7AJ08ebJHYwLMvgZiPyo8mMOTPGZH1bmxPQtdcOx+CSarV6824rUijRw5UtYwVmCB2oC7C1BvCVGvrLBixQqyW3W1dvKUEHQK40J0QQMJ7IHVNWASGWnOskMBC9RG4HrUVShpJWw2hlmhL8DbPtyRInix6znQQmNmuFWrVuSIGQmfYfmkrHZUwtY67LeEI2irYEeMijmChBltJjCwQG0CVjIYZ7qKw1NCC5ceMJErXLiw8TvYyPzWW2/5FCRp586dNJHl6tcHk1TofpsFNsnqHHgpOMWEMFJggdoEom/5utsELkEnTJggfzM12LXStm1b41hMwPja4qYFxoyu3W/4ZfIldgheBDCyUL/nJHPHSIIFagNz5swh0amH2ZeEZRFM9riCMV3p0qWpHi1eINdOEcZRtcjo9nprCV2XkeBvNikpSdYwgYYFGmQQl8Z9ScWXBFM913geEIxyhgWDg+PHj8uawIFuuAolieu7Cw/Or7HJW90jIoNhhw8TPFigQQYR39wtenxN+D2MFxGVWTkA69Spkzxz8OjWrRtdCxNKuD6Afx91X2jFOZq5PbBAgwg8AtSoUYNsUOHECrOr6Op6i/zsnmCJBP+v+IztWXahjNohRhX7FalHjx5R7YLEbkIS+iFaQcgAvWtqpEOHDlFgp2PHjlHwKASR0seeIkOGDBTC4NatW/I3hahevbrYvn07hXKwi0cffVRs3ryZPuvjUjFu3DjRvn17+pmxBxaog0C8D1cBz5w5U+hjT6rTu5okUjvZu3evqFy5MnpZYt68eeLJJ5+UNYxdZJA54wD0bq8oW7asaNSoEYXJQ3Ae8MYbb9guTlCpUiUxcuRI+jx+/HjKGXvhFtShrF27VjRp0oSiviESnD6GlTX2g8hviAq3ePFi0bp1a1nK2AG3oA5l2rRplCMIbCjFCXAPYPr06ZQz9sEtqAPBBBFiWiJ2KlouRJAOJefOnaOWHGCiCxHSGXvgFtSBJCUlkTgxixpqcQIIMj4+nj6vWbOGcsYeWKAOZOvWrZQ3aNCAciug5a1Vq5aIiYkRefPmFfPnzyfRW0Xdi7o3xh5YoA4EodaB1ZlbhIJ/6aWXxI4dO0SmTJlEqVKlxNChQ8WePXvkEeZR9+LPORjzsEAdyJEjRyiPjY2l3AyYUti3b5+4ceMGraEePHhQFCtWTNy5c4dmg61OOWD5B6h7Y+yBJ4kcSM6cOcXly5fFpUuX6LNZ8C+9du2ayJo1K1krxcXFicKFC4sZM2ZYEj24ffs2zSbDysmfrjJjDm5BHQgsigAEZgWMOyGmWbNmUcuH8egDDzwgChUqJI8wD4wm0F1GS3zz5k1ZygQbFqgDUeuerra4ZsE4dMOGDSJHjhw0fly+fLlYuHChX62fEmao12WjCRaoA8mTJw/l58+fp9wK+fLloy5tcnIymQ6iVcWkEdZYraDuJXfu3HQuxh5YoA5ErX0GYkIGYscYFMLE2BRjSCuoe3HCumw0wQJ1IDBSB9999x3lZrlw4YJYunQp7YCBMNetW0fd04YNG5JBvhXUvah7Y+yBBepAYGAA1F5MM2ASB5ZI2BpWo0YNkT17djFixAjRu3dv0bhxY8v7SdW9qHtj7IGXWRzIzz//TGuXmIzBZI/Z2Vws0axfv17s3r1bFCxYUFStWlU89NBDNAtrFYw9seyzf/9+Ub58eVnKBB0IlHEecKeJfw/834YaePzDvdSsWVOWMHbBXVyH8uyzz1L+0UcfUR5K1D2oe2Lsg7u4DgZWP7AEwt7Q559/XpbaC4zsO3bsKIoUKUKmgrzEYi/cgjqYIUOGUD5s2DAai9oNZn5xbYB7YXHaDwvUwXTr1o3WMFNSUgyvBnaCa6IFx77UPn36yFLGVmgkyjgWxAtVEckQHMkuRo8eTddEzNJdu3bJUsZuWKBhwIIFC0gsSAgIHGwmTpxoXG/mzJmylAkFLNAw4YMPPjBEg2jZwQKxPdV1xo4dK0uZUMECDSMSEhIM8TRt2lTbt2+frPEffayptWzZ0jg/WlEm9LBAw4xVq1Zp9913nyEkBNB1D1NohitXrtDYVsUuLVCggLZkyRJZy4QaFmgYcuHCBa1r166GSBEq8O9//7u2fv16eUT6IJxhnz59UoXE79y5s3bq1Cl5BOME2FAhjPnyyy+FPk6kzdiKXLlykUE7dp3oLS351wWwz4WhAfwVYV8odrwo9O6yePnll8mYnnEWLNAIAF4A586dK5YtW0YC9IVy5cqJFi1akJVQtWrVZCnjNFigEQZCGe7atYu8+endVWo5AVyfwHEYfBRhZwvirTDOhwXKMA6GTf0YxsGwQBnGwbBAGcaxCPH/Vz6LxMHcuHwAAAAASUVORK5CYII=)"
   ]
  },
  {
   "cell_type": "markdown",
   "metadata": {},
   "source": [
    "$m = |N|, n = |A|$"
   ]
  },
  {
   "cell_type": "code",
   "execution_count": 23,
   "metadata": {},
   "outputs": [],
   "source": [
    "def build_matrix(number_node: int, edges: tuple[int, int]):\n",
    "    # Output: matrix mx(n+1) A, with component i=1, j=-1, and last component 1\n",
    "    number_edge = len(edges)\n",
    "    A = np.zeros((number_node, number_edge + 1))\n",
    "    for i, edge in enumerate(edges):\n",
    "        A[edge[0] - 1, i] = 1\n",
    "        A[edge[1] - 1, i] = -1\n",
    "    A[-1, -1] = 1\n",
    "    return A\n"
   ]
  },
  {
   "cell_type": "code",
   "execution_count": 26,
   "metadata": {},
   "outputs": [
    {
     "data": {
      "text/plain": [
       "array([[ 1.,  1.,  0.,  0.,  0.,  0., -1.,  0.],\n",
       "       [-1.,  0.,  1.,  1., -1.,  0.,  0.,  0.],\n",
       "       [ 0., -1., -1.,  0.,  1.,  1.,  0.,  0.],\n",
       "       [ 0.,  0.,  0., -1.,  0., -1.,  1.,  1.]])"
      ]
     },
     "execution_count": 26,
     "metadata": {},
     "output_type": "execute_result"
    }
   ],
   "source": [
    "edges = [(1, 2), (1, 3), (2, 3), (2, 4), (3, 2), (3, 4), (4, 1)], # (4, inf)\n",
    "number_node = 4\n",
    "A = build_matrix(number_node, edges)\n",
    "A\n"
   ]
  },
  {
   "cell_type": "code",
   "execution_count": 27,
   "metadata": {},
   "outputs": [
    {
     "data": {
      "text/plain": [
       "array([[ 1.,  0.,  0.,  0.],\n",
       "       [-1.,  1.,  0.,  0.],\n",
       "       [ 0., -1.,  1.,  0.],\n",
       "       [ 0.,  0., -1.,  1.]])"
      ]
     },
     "execution_count": 27,
     "metadata": {},
     "output_type": "execute_result"
    }
   ],
   "source": [
    "B = [0, 2, 5, -1]\n",
    "A[:, B]"
   ]
  },
  {
   "cell_type": "code",
   "execution_count": null,
   "metadata": {},
   "outputs": [],
   "source": []
  }
 ],
 "metadata": {
  "kernelspec": {
   "display_name": "Python 3.10.5 64-bit",
   "language": "python",
   "name": "python3"
  },
  "language_info": {
   "codemirror_mode": {
    "name": "ipython",
    "version": 3
   },
   "file_extension": ".py",
   "mimetype": "text/x-python",
   "name": "python",
   "nbconvert_exporter": "python",
   "pygments_lexer": "ipython3",
   "version": "3.10.5"
  },
  "orig_nbformat": 4,
  "vscode": {
   "interpreter": {
    "hash": "590f4a299ae404e723bbc5f32e9a7b98b836c3c65ce9112bc934ac92a06ceee3"
   }
  }
 },
 "nbformat": 4,
 "nbformat_minor": 2
}
