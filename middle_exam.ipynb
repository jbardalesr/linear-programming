{
 "cells": [
  {
   "cell_type": "markdown",
   "metadata": {},
   "source": [
    "## Examen Parcial"
   ]
  },
  {
   "cell_type": "code",
   "execution_count": 11,
   "metadata": {},
   "outputs": [],
   "source": [
    "import sympy as sp\n",
    "from basic_solution import basic_solutions\n",
    "from simplex_algorithm import simplex, two_phases\n",
    "from util import build_tableau\n",
    "import numpy as np\n",
    "np.set_printoptions(suppress=True, linewidth=np.nan)\n"
   ]
  },
  {
   "cell_type": "markdown",
   "metadata": {},
   "source": [
    "#### Pregunta 1\n",
    "\n",
    "\\begin{align*}\n",
    "\\max -2x_1 + x_2 + x_3\\\\\n",
    "s.t. -x_1 + x_2 + x_3 \\le 2\\\\\n",
    "            x_1 - x_2 + x_3 \\le 2\\\\\n",
    "            x_1, x_2 \\ge 0, x_3 \\text{ free}\n",
    "\\end{align*}"
   ]
  },
  {
   "cell_type": "code",
   "execution_count": 2,
   "metadata": {},
   "outputs": [
    {
     "name": "stdout",
     "output_type": "stream",
     "text": [
      "Number of combinations: 15\n",
      "Basic solution 1\n",
      "Matrix det == 0; not invertible.\n"
     ]
    },
    {
     "data": {
      "text/latex": [
       "$$B = \\left[\\begin{matrix}-1 & 1\\\\1 & -1\\end{matrix}\\right], \\left[\\begin{matrix}x_{1}\\\\x_{2}\\end{matrix}\\right]$$"
      ]
     },
     "metadata": {},
     "output_type": "display_data"
    },
    {
     "name": "stdout",
     "output_type": "stream",
     "text": [
      "Basic solution 2\n"
     ]
    },
    {
     "data": {
      "text/latex": [
       "$$B=\\left[\\begin{matrix}-1 & 1\\\\1 & 1\\end{matrix}\\right], \\quad \\mathbf x_B=\\left[\\begin{matrix}x_{1}\\\\x_{3}\\end{matrix}\\right] = B^{-1}\\mathbf b=\\left[\\begin{matrix}- \\frac{1}{2} & \\frac{1}{2}\\\\\\frac{1}{2} & \\frac{1}{2}\\end{matrix}\\right]\\left[\\begin{matrix}2\\\\2\\end{matrix}\\right]=\\left[\\begin{matrix}0\\\\2\\end{matrix}\\right]$$"
      ]
     },
     "metadata": {},
     "output_type": "display_data"
    },
    {
     "name": "stdout",
     "output_type": "stream",
     "text": [
      "Basic solution 3\n"
     ]
    },
    {
     "data": {
      "text/latex": [
       "$$B=\\left[\\begin{matrix}-1 & -1\\\\1 & -1\\end{matrix}\\right], \\quad \\mathbf x_B=\\left[\\begin{matrix}x_{1}\\\\x_{4}\\end{matrix}\\right] = B^{-1}\\mathbf b=\\left[\\begin{matrix}- \\frac{1}{2} & \\frac{1}{2}\\\\- \\frac{1}{2} & - \\frac{1}{2}\\end{matrix}\\right]\\left[\\begin{matrix}2\\\\2\\end{matrix}\\right]=\\left[\\begin{matrix}0\\\\-2\\end{matrix}\\right]$$"
      ]
     },
     "metadata": {},
     "output_type": "display_data"
    },
    {
     "name": "stdout",
     "output_type": "stream",
     "text": [
      "Basic solution 4\n"
     ]
    },
    {
     "data": {
      "text/latex": [
       "$$B=\\left[\\begin{matrix}-1 & 1\\\\1 & 0\\end{matrix}\\right], \\quad \\mathbf x_B=\\left[\\begin{matrix}x_{1}\\\\x_{5}\\end{matrix}\\right] = B^{-1}\\mathbf b=\\left[\\begin{matrix}0 & 1\\\\1 & 1\\end{matrix}\\right]\\left[\\begin{matrix}2\\\\2\\end{matrix}\\right]=\\left[\\begin{matrix}2\\\\4\\end{matrix}\\right]$$"
      ]
     },
     "metadata": {},
     "output_type": "display_data"
    },
    {
     "name": "stdout",
     "output_type": "stream",
     "text": [
      "Basic solution 5\n"
     ]
    },
    {
     "data": {
      "text/latex": [
       "$$B=\\left[\\begin{matrix}-1 & 0\\\\1 & 1\\end{matrix}\\right], \\quad \\mathbf x_B=\\left[\\begin{matrix}x_{1}\\\\x_{6}\\end{matrix}\\right] = B^{-1}\\mathbf b=\\left[\\begin{matrix}-1 & 0\\\\1 & 1\\end{matrix}\\right]\\left[\\begin{matrix}2\\\\2\\end{matrix}\\right]=\\left[\\begin{matrix}-2\\\\4\\end{matrix}\\right]$$"
      ]
     },
     "metadata": {},
     "output_type": "display_data"
    },
    {
     "name": "stdout",
     "output_type": "stream",
     "text": [
      "Basic solution 6\n"
     ]
    },
    {
     "data": {
      "text/latex": [
       "$$B=\\left[\\begin{matrix}1 & 1\\\\-1 & 1\\end{matrix}\\right], \\quad \\mathbf x_B=\\left[\\begin{matrix}x_{2}\\\\x_{3}\\end{matrix}\\right] = B^{-1}\\mathbf b=\\left[\\begin{matrix}\\frac{1}{2} & - \\frac{1}{2}\\\\\\frac{1}{2} & \\frac{1}{2}\\end{matrix}\\right]\\left[\\begin{matrix}2\\\\2\\end{matrix}\\right]=\\left[\\begin{matrix}0\\\\2\\end{matrix}\\right]$$"
      ]
     },
     "metadata": {},
     "output_type": "display_data"
    },
    {
     "name": "stdout",
     "output_type": "stream",
     "text": [
      "Basic solution 7\n"
     ]
    },
    {
     "data": {
      "text/latex": [
       "$$B=\\left[\\begin{matrix}1 & -1\\\\-1 & -1\\end{matrix}\\right], \\quad \\mathbf x_B=\\left[\\begin{matrix}x_{2}\\\\x_{4}\\end{matrix}\\right] = B^{-1}\\mathbf b=\\left[\\begin{matrix}\\frac{1}{2} & - \\frac{1}{2}\\\\- \\frac{1}{2} & - \\frac{1}{2}\\end{matrix}\\right]\\left[\\begin{matrix}2\\\\2\\end{matrix}\\right]=\\left[\\begin{matrix}0\\\\-2\\end{matrix}\\right]$$"
      ]
     },
     "metadata": {},
     "output_type": "display_data"
    },
    {
     "name": "stdout",
     "output_type": "stream",
     "text": [
      "Basic solution 8\n"
     ]
    },
    {
     "data": {
      "text/latex": [
       "$$B=\\left[\\begin{matrix}1 & 1\\\\-1 & 0\\end{matrix}\\right], \\quad \\mathbf x_B=\\left[\\begin{matrix}x_{2}\\\\x_{5}\\end{matrix}\\right] = B^{-1}\\mathbf b=\\left[\\begin{matrix}0 & -1\\\\1 & 1\\end{matrix}\\right]\\left[\\begin{matrix}2\\\\2\\end{matrix}\\right]=\\left[\\begin{matrix}-2\\\\4\\end{matrix}\\right]$$"
      ]
     },
     "metadata": {},
     "output_type": "display_data"
    },
    {
     "name": "stdout",
     "output_type": "stream",
     "text": [
      "Basic solution 9\n"
     ]
    },
    {
     "data": {
      "text/latex": [
       "$$B=\\left[\\begin{matrix}1 & 0\\\\-1 & 1\\end{matrix}\\right], \\quad \\mathbf x_B=\\left[\\begin{matrix}x_{2}\\\\x_{6}\\end{matrix}\\right] = B^{-1}\\mathbf b=\\left[\\begin{matrix}1 & 0\\\\1 & 1\\end{matrix}\\right]\\left[\\begin{matrix}2\\\\2\\end{matrix}\\right]=\\left[\\begin{matrix}2\\\\4\\end{matrix}\\right]$$"
      ]
     },
     "metadata": {},
     "output_type": "display_data"
    },
    {
     "name": "stdout",
     "output_type": "stream",
     "text": [
      "Basic solution 10\n",
      "Matrix det == 0; not invertible.\n"
     ]
    },
    {
     "data": {
      "text/latex": [
       "$$B = \\left[\\begin{matrix}1 & -1\\\\1 & -1\\end{matrix}\\right], \\left[\\begin{matrix}x_{3}\\\\x_{4}\\end{matrix}\\right]$$"
      ]
     },
     "metadata": {},
     "output_type": "display_data"
    },
    {
     "name": "stdout",
     "output_type": "stream",
     "text": [
      "Basic solution 11\n"
     ]
    },
    {
     "data": {
      "text/latex": [
       "$$B=\\left[\\begin{matrix}1 & 1\\\\1 & 0\\end{matrix}\\right], \\quad \\mathbf x_B=\\left[\\begin{matrix}x_{3}\\\\x_{5}\\end{matrix}\\right] = B^{-1}\\mathbf b=\\left[\\begin{matrix}0 & 1\\\\1 & -1\\end{matrix}\\right]\\left[\\begin{matrix}2\\\\2\\end{matrix}\\right]=\\left[\\begin{matrix}2\\\\0\\end{matrix}\\right]$$"
      ]
     },
     "metadata": {},
     "output_type": "display_data"
    },
    {
     "name": "stdout",
     "output_type": "stream",
     "text": [
      "Basic solution 12\n"
     ]
    },
    {
     "data": {
      "text/latex": [
       "$$B=\\left[\\begin{matrix}1 & 0\\\\1 & 1\\end{matrix}\\right], \\quad \\mathbf x_B=\\left[\\begin{matrix}x_{3}\\\\x_{6}\\end{matrix}\\right] = B^{-1}\\mathbf b=\\left[\\begin{matrix}1 & 0\\\\-1 & 1\\end{matrix}\\right]\\left[\\begin{matrix}2\\\\2\\end{matrix}\\right]=\\left[\\begin{matrix}2\\\\0\\end{matrix}\\right]$$"
      ]
     },
     "metadata": {},
     "output_type": "display_data"
    },
    {
     "name": "stdout",
     "output_type": "stream",
     "text": [
      "Basic solution 13\n"
     ]
    },
    {
     "data": {
      "text/latex": [
       "$$B=\\left[\\begin{matrix}-1 & 1\\\\-1 & 0\\end{matrix}\\right], \\quad \\mathbf x_B=\\left[\\begin{matrix}x_{4}\\\\x_{5}\\end{matrix}\\right] = B^{-1}\\mathbf b=\\left[\\begin{matrix}0 & -1\\\\1 & -1\\end{matrix}\\right]\\left[\\begin{matrix}2\\\\2\\end{matrix}\\right]=\\left[\\begin{matrix}-2\\\\0\\end{matrix}\\right]$$"
      ]
     },
     "metadata": {},
     "output_type": "display_data"
    },
    {
     "name": "stdout",
     "output_type": "stream",
     "text": [
      "Basic solution 14\n"
     ]
    },
    {
     "data": {
      "text/latex": [
       "$$B=\\left[\\begin{matrix}-1 & 0\\\\-1 & 1\\end{matrix}\\right], \\quad \\mathbf x_B=\\left[\\begin{matrix}x_{4}\\\\x_{6}\\end{matrix}\\right] = B^{-1}\\mathbf b=\\left[\\begin{matrix}-1 & 0\\\\-1 & 1\\end{matrix}\\right]\\left[\\begin{matrix}2\\\\2\\end{matrix}\\right]=\\left[\\begin{matrix}-2\\\\0\\end{matrix}\\right]$$"
      ]
     },
     "metadata": {},
     "output_type": "display_data"
    },
    {
     "name": "stdout",
     "output_type": "stream",
     "text": [
      "Basic solution 15\n"
     ]
    },
    {
     "data": {
      "text/latex": [
       "$$B=\\left[\\begin{matrix}1 & 0\\\\0 & 1\\end{matrix}\\right], \\quad \\mathbf x_B=\\left[\\begin{matrix}x_{5}\\\\x_{6}\\end{matrix}\\right] = B^{-1}\\mathbf b=\\left[\\begin{matrix}1 & 0\\\\0 & 1\\end{matrix}\\right]\\left[\\begin{matrix}2\\\\2\\end{matrix}\\right]=\\left[\\begin{matrix}2\\\\2\\end{matrix}\\right]$$"
      ]
     },
     "metadata": {},
     "output_type": "display_data"
    }
   ],
   "source": [
    "A = sp.Matrix([[-1, 1, 1, -1, 1, 0],\n",
    "               [1, -1, 1, -1, 0, 1]])\n",
    "\n",
    "b = sp.Matrix([2, 2])\n",
    "\n",
    "basic_solutions(A, b)"
   ]
  },
  {
   "cell_type": "markdown",
   "metadata": {},
   "source": [
    "#### Pregunta 3\n",
    "\n",
    "\\begin{align*}\n",
    "\\max 3x_1 - 3x_2 + x_3\\\\\n",
    "s.t.    x_1 + 3x_2 - 2x_3 \\ge 5\\\\\n",
    "        -3x_1 - 2x_2 + x_3 \\le 4\\\\\n",
    "        x_1, x_2, x_3 \\ge 0\n",
    "\\end{align*}"
   ]
  },
  {
   "cell_type": "code",
   "execution_count": 10,
   "metadata": {},
   "outputs": [
    {
     "name": "stdout",
     "output_type": "stream",
     "text": [
      "x_B = [6, 5]\n",
      "[[ 0.  0.  0.  0.  0. -1.  0.]\n",
      " [ 1.  3. -2. -1.  0.  1.  5.]\n",
      " [-3. -2.  1.  0.  1.  0.  4.]]\n",
      "Cost corrected\n",
      "x_B = [6, 5]\n",
      "[[ 1.  3. -2. -1.  0.  0.  5.]\n",
      " [ 1.  3. -2. -1.  0.  1.  5.]\n",
      " [-3. -2.  1.  0.  1.  0.  4.]]\n",
      "Start phase One\n",
      "x_B = [2, 5]\n",
      "[[ 0.          0.          0.          0.          0.         -1.          0.        ]\n",
      " [ 0.33333333  1.         -0.66666667 -0.33333333  0.          0.33333333  1.66666667]\n",
      " [-2.33333333  0.         -0.33333333 -0.66666667  1.          0.66666667  7.33333333]]\n",
      "Delete artificial variables and create a new tableau [5]\n",
      "Start phase two, put original cost\n",
      "x_B = [2, 5]\n",
      "[[ 3.         -3.          1.          0.          0.          0.        ]\n",
      " [ 0.33333333  1.         -0.66666667 -0.33333333  0.          1.66666667]\n",
      " [-2.33333333  0.         -0.33333333 -0.66666667  1.          7.33333333]]\n",
      "Cost corrected\n",
      "vertex = [0.         1.66666667 0.        ], x_B = [2, 5]\n",
      "[[ 4.          0.         -1.         -1.          0.          5.        ]\n",
      " [ 0.33333333  1.         -0.66666667 -0.33333333  0.          1.66666667]\n",
      " [-2.33333333  0.         -0.33333333 -0.66666667  1.          7.33333333]]\n",
      "vertex = [5. 0. 0.], x_B = [1, 5]\n",
      "[[  0. -12.   7.   3.   0. -15.]\n",
      " [  1.   3.  -2.  -1.   0.   5.]\n",
      " [  0.   7.  -5.  -3.   1.  19.]]\n",
      "The model is unbounded\n",
      "L = [ 5.  0.  0.  0. 19.] + λ[ 2. -0. -0. -0.  5.]\n",
      "L = [5. 0. 0.] + λ[ 2. -0. -0.]\n"
     ]
    }
   ],
   "source": [
    "A = [[1, 3, -2., -1, 0, 1],\n",
    "     [-3, -2, 1, 0., 1, 0]]\n",
    "\n",
    "b = [5, 4.]\n",
    "\n",
    "c = [3, -3, 1, 0, 0.]\n",
    "\n",
    "c_artificial = [0, 0, 0, 0, 0, -1.]\n",
    "\n",
    "basic_var = [5, 4]\n",
    "\n",
    "artificial_var = [5]\n",
    "\n",
    "tableau = build_tableau(A, b, c_artificial)\n",
    "two_phases(tableau, c, basic_var, artificial_var);\n"
   ]
  },
  {
   "cell_type": "code",
   "execution_count": null,
   "metadata": {},
   "outputs": [],
   "source": []
  }
 ],
 "metadata": {
  "kernelspec": {
   "display_name": "Python 3.10.5 64-bit",
   "language": "python",
   "name": "python3"
  },
  "language_info": {
   "codemirror_mode": {
    "name": "ipython",
    "version": 3
   },
   "file_extension": ".py",
   "mimetype": "text/x-python",
   "name": "python",
   "nbconvert_exporter": "python",
   "pygments_lexer": "ipython3",
   "version": "3.10.5"
  },
  "orig_nbformat": 4,
  "vscode": {
   "interpreter": {
    "hash": "590f4a299ae404e723bbc5f32e9a7b98b836c3c65ce9112bc934ac92a06ceee3"
   }
  }
 },
 "nbformat": 4,
 "nbformat_minor": 2
}
