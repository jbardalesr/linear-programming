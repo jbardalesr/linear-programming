{
 "cells": [
  {
   "cell_type": "markdown",
   "metadata": {},
   "source": [
    "Import libraries"
   ]
  },
  {
   "cell_type": "code",
   "execution_count": 233,
   "metadata": {},
   "outputs": [],
   "source": [
    "import numpy as np\n",
    "import math\n",
    "from numpy import linalg as la\n",
    "# math.isclose(0.1 + 0.2, 0.3)\n",
    "np.set_printoptions(suppress=True, linewidth=np.nan)\n"
   ]
  },
  {
   "cell_type": "markdown",
   "metadata": {},
   "source": [
    "# Dantzig's simplex algorithm"
   ]
  },
  {
   "cell_type": "markdown",
   "metadata": {},
   "source": [
    "### Utilities"
   ]
  },
  {
   "cell_type": "code",
   "execution_count": 234,
   "metadata": {},
   "outputs": [],
   "source": [
    "def build_tableau(A: np.ndarray, b: np.ndarray, c: np.ndarray) -> np.ndarray:\n",
    "    tableau = np.r_[[c], A]\n",
    "    tableau = np.c_[tableau, np.insert(b, 0, 0)]\n",
    "    return tableau\n"
   ]
  },
  {
   "cell_type": "code",
   "execution_count": 235,
   "metadata": {},
   "outputs": [],
   "source": [
    "def minimum_ratio_test(col: np.ndarray, b: np.ndarray) -> int:\n",
    "    r_min = 0\n",
    "    min_val = math.inf\n",
    "    for k in range(len(b)):\n",
    "        if col[k] > 0:\n",
    "            if min_val > (min_val_temp := b[k] / col[k]):\n",
    "                min_val = min_val_temp\n",
    "                r_min = k\n",
    "    return r_min\n"
   ]
  },
  {
   "cell_type": "code",
   "execution_count": 236,
   "metadata": {},
   "outputs": [],
   "source": [
    "def pivoting(tableau: np.ndarray, row: int, col: int) -> np.ndarray:\n",
    "    # escale pivot row min to 1.0\n",
    "    tableau[row] = tableau[row]/tableau[row, col]\n",
    "    # pivot proccess: convert al column to zero except row\n",
    "    for k in range(len(tableau)):\n",
    "        if k != row:\n",
    "            tableau[k] = tableau[k] - tableau[k, col]*tableau[row, :]\n",
    "    return tableau\n"
   ]
  },
  {
   "cell_type": "code",
   "execution_count": 237,
   "metadata": {},
   "outputs": [],
   "source": [
    "def correct_negative_cost(tableau: np.ndarray, basic_var: list[int]):\n",
    "    # correct first row of tableau because the artificial_var and min=-max position is negative\n",
    "    for index, col in enumerate(basic_var):\n",
    "        if tableau[0, col] < 0:\n",
    "            # select the row with 1 because the rest are zeros\n",
    "            row = index + 1\n",
    "            tableau[0] = tableau[0] - tableau[0, col] * tableau[row, :]\n",
    "    return tableau\n"
   ]
  },
  {
   "cell_type": "code",
   "execution_count": 238,
   "metadata": {},
   "outputs": [],
   "source": [
    "def optimal_solution(tableau: np.ndarray, basic_var: list[int], artificial_var: list[int]=[]) -> None:\n",
    "    # only work with simplex method because m = len(basic_var) and n = len(non_basic_var)\n",
    "    dim_1, dim_2 = tableau.shape\n",
    "    m = len(basic_var)\n",
    "    n = dim_2 - dim_1 - len(artificial_var)  # for Big-M and Two-Phases\n",
    "    x = np.zeros(m + n)\n",
    "    x[basic_var] = tableau[1:, -1]\n",
    "    print(\"Optimal solution: x_opt =\", x[:n])\n"
   ]
  },
  {
   "cell_type": "markdown",
   "metadata": {},
   "source": [
    "### Simplex Algorithm"
   ]
  },
  {
   "cell_type": "code",
   "execution_count": 239,
   "metadata": {},
   "outputs": [],
   "source": [
    "def simplex(tableau: np.ndarray, basic_var: list[int]) ->np.ndarray:\n",
    "    print(f\"x_B = {basic_var}\\n{tableau}\")\n",
    "    while (tableau[0, :-1] > 0).any():\n",
    "        # max criterion\n",
    "        c_max = np.argmax(tableau[0, :-1])\n",
    "        # minimum ratio test\n",
    "        r_min = minimum_ratio_test(col=tableau[1:, c_max], b=tableau[1:, -1]) + 1\n",
    "        # pivoting\n",
    "        tableau = pivoting(tableau, r_min, c_max)\n",
    "        # swap row with col\n",
    "        basic_var[r_min - 1] = c_max\n",
    "        print(f\"x_B = {basic_var}\\n{tableau}\")\n",
    "    return tableau\n"
   ]
  },
  {
   "cell_type": "markdown",
   "metadata": {},
   "source": [
    "### Big-M\n",
    "The big-M procedure, each such constraint $i$ is augmented, together with its slack variable, with a so-called artificial variable $u_i$,  and the objective function is augmented with $−Mu_i$, where $M$ is a big positive real number. For big values of $M$ the simplex algorithm will put highest priority on making the value of the factor $Mu_i$ as small as possible, thereby setting the value of $u_i$ equal to zero. Big-M and two-phases are used when $0$ isn't feasible basic solution."
   ]
  },
  {
   "cell_type": "code",
   "execution_count": 240,
   "metadata": {},
   "outputs": [],
   "source": [
    "def big_M(tableau: np.ndarray, basic_var: list[int]) -> np.ndarray:\n",
    "    print(f\"x_B = {basic_var}\\n{tableau}\")\n",
    "    # correct first row of tableau for each artificial var because the artificial_var position is -M\n",
    "    tableau = correct_negative_cost(tableau, basic_var)\n",
    "    # solve with simplex\n",
    "    return simplex(tableau, basic_var)\n"
   ]
  },
  {
   "cell_type": "markdown",
   "metadata": {},
   "source": [
    "### Two-Phases\n",
    "The two-phase procedure add, in the same manner as employed in the big-M procedure, but instead of adding each artificial variable to the objetive with a large negative coefficient, the objetive function is replace by minus the sum of all artificial variables . During the **first phase**, the simplex algorithm tries to maximize this objetive, effectively trying to give all artificial variables the value zero.  By doing this a feasible basic solution is founded. When this has happened, the **second-phase** starts by replacing the artificial objetive function by the objetive function of the original model and solve this with simplex method."
   ]
  },
  {
   "cell_type": "code",
   "execution_count": 241,
   "metadata": {},
   "outputs": [],
   "source": [
    "def two_phases(tableau: np.ndarray, c: np.ndarray, basic_var: list[int], artificial_var: list[int]):\n",
    "    print(f\"x_B = {basic_var}\\n{tableau}\")\n",
    "    # correct first row of tableau because the artificial_var position is -1\n",
    "    tableau = correct_negative_cost(tableau, basic_var)\n",
    "    print(f\"x_B = {basic_var}\\n{tableau}\")\n",
    "\n",
    "    print(\"Phase One\")\n",
    "    # while until each artifical var be negative and not be basic var\n",
    "    while any(((u in basic_var) or (tableau[0, u] > 0)) for u in artificial_var):\n",
    "        # max criterion\n",
    "        c_max = np.argmax(tableau[0, :-1])\n",
    "        # minimum ratio test\n",
    "        r_min = minimum_ratio_test(col=tableau[1:, c_max], b=tableau[1:, -1]) + 1\n",
    "        # pivoting\n",
    "        tableau = pivoting(tableau, r_min, c_max)\n",
    "        # swap row with col\n",
    "        basic_var[r_min - 1] = c_max\n",
    "        print(f\"x_B = {basic_var}\\n{tableau}\")\n",
    "\n",
    "    print(\"Phase Two\")\n",
    "    # delete the artificial variable because we found a solution factible\n",
    "    tableau = np.delete(tableau, artificial_var, axis=1)\n",
    "    # put c in first row of tableau\n",
    "    tableau[0, :len(c)] = c\n",
    "    # solve with simplex\n",
    "    print(f\"x_B = {basic_var}\\n{tableau}\")\n",
    "    tableau = correct_negative_cost(tableau, basic_var)\n",
    "    return simplex(tableau, basic_var)\n"
   ]
  },
  {
   "cell_type": "markdown",
   "metadata": {},
   "source": [
    "### Book: Linear and Integer Optimization\n",
    "\n",
    "**Simplex**: Model Dovetail"
   ]
  },
  {
   "cell_type": "code",
   "execution_count": 242,
   "metadata": {},
   "outputs": [
    {
     "name": "stdout",
     "output_type": "stream",
     "text": [
      "x_B = [2, 3, 4, 5]\n",
      "[[ 3.  2.  0.  0.  0.  0.  0.]\n",
      " [ 1.  1.  1.  0.  0.  0.  9.]\n",
      " [ 3.  1.  0.  1.  0.  0. 18.]\n",
      " [ 1.  0.  0.  0.  1.  0.  7.]\n",
      " [ 0.  1.  0.  0.  0.  1.  6.]]\n",
      "x_B = [2, 0, 4, 5]\n",
      "[[  0.           1.           0.          -1.           0.           0.         -18.        ]\n",
      " [  0.           0.66666667   1.          -0.33333333   0.           0.           3.        ]\n",
      " [  1.           0.33333333   0.           0.33333333   0.           0.           6.        ]\n",
      " [  0.          -0.33333333   0.          -0.33333333   1.           0.           1.        ]\n",
      " [  0.           1.           0.           0.           0.           1.           6.        ]]\n",
      "x_B = [1, 0, 4, 5]\n",
      "[[  0.    0.   -1.5  -0.5   0.    0.  -22.5]\n",
      " [  0.    1.    1.5  -0.5   0.    0.    4.5]\n",
      " [  1.    0.   -0.5   0.5   0.    0.    4.5]\n",
      " [  0.    0.    0.5  -0.5   1.    0.    2.5]\n",
      " [  0.    0.   -1.5   0.5   0.    1.    1.5]]\n",
      "Optimal solution: x_opt = [4.5 4.5]\n"
     ]
    }
   ],
   "source": [
    "A = [[1, 1, 1, 0, 0, 0],\n",
    "     [3, 1, 0, 1, 0, 0],\n",
    "     [1, 0, 0, 0, 1, 0],\n",
    "     [0, 1, 0, 0, 0, 1.0]]\n",
    "\n",
    "b = [9, 18, 7, 6.]\n",
    "\n",
    "c = [3, 2, 0, 0, 0, 0.]\n",
    "\n",
    "basic_var = [2, 3, 4, 5]\n",
    "\n",
    "tableau = build_tableau(A, b, c)\n",
    "tableau = simplex(tableau, basic_var)\n",
    "optimal_solution(tableau, basic_var)\n"
   ]
  },
  {
   "cell_type": "markdown",
   "metadata": {},
   "source": [
    "**BIG-M**:  Ejemplo visto el ciclo pasado Lineal 6 "
   ]
  },
  {
   "cell_type": "code",
   "execution_count": 243,
   "metadata": {},
   "outputs": [
    {
     "name": "stdout",
     "output_type": "stream",
     "text": [
      "x_B = [5, 6, 4]\n",
      "[[  2.   1.   0.   0.   0. -10. -10.   0.]\n",
      " [  2.  -1.  -1.   0.   0.   1.   0.   4.]\n",
      " [ -1.   2.   0.  -1.   0.   0.   1.   2.]\n",
      " [  1.   1.   0.   0.   1.   0.   0.  12.]]\n",
      "x_B = [5, 6, 4]\n",
      "[[ 12.  11. -10. -10.   0.   0.   0.  60.]\n",
      " [  2.  -1.  -1.   0.   0.   1.   0.   4.]\n",
      " [ -1.   2.   0.  -1.   0.   0.   1.   2.]\n",
      " [  1.   1.   0.   0.   1.   0.   0.  12.]]\n",
      "x_B = [0, 6, 4]\n",
      "[[  0.   17.   -4.  -10.    0.   -6.    0.   36. ]\n",
      " [  1.   -0.5  -0.5   0.    0.    0.5   0.    2. ]\n",
      " [  0.    1.5  -0.5  -1.    0.    0.5   1.    4. ]\n",
      " [  0.    1.5   0.5   0.    1.   -0.5   0.   10. ]]\n",
      "x_B = [0, 1, 4]\n",
      "[[  0.           0.           1.66666667   1.33333333   0.         -11.66666667 -11.33333333  -9.33333333]\n",
      " [  1.           0.          -0.66666667  -0.33333333   0.           0.66666667   0.33333333   3.33333333]\n",
      " [  0.           1.          -0.33333333  -0.66666667   0.           0.33333333   0.66666667   2.66666667]\n",
      " [  0.           0.           1.           1.           1.          -1.          -1.           6.        ]]\n",
      "x_B = [0, 1, 2]\n",
      "[[  0.           0.           0.          -0.33333333  -1.66666667 -10.          -9.66666667 -19.33333333]\n",
      " [  1.           0.           0.           0.33333333   0.66666667   0.          -0.33333333   7.33333333]\n",
      " [  0.           1.           0.          -0.33333333   0.33333333   0.           0.33333333   4.66666667]\n",
      " [  0.           0.           1.           1.           1.          -1.          -1.           6.        ]]\n",
      "Optimal solution: x_opt = [7.33333333 4.66666667]\n"
     ]
    }
   ],
   "source": [
    "variable_map = {0: \"x1\", 1: \"x2\", 2: \"x3\", 3: \"x4\", 4: \"x5\", 5: \"u1\", 6: \"u2\"}\n",
    "M = 10\n",
    "A = [[2, -1, -1, 0, 0, 1, 0],\n",
    "     [-1, 2, 0, -1, 0, 0, 1],\n",
    "     [1, 1., 0., 0, 1, 0, 0.]]\n",
    "\n",
    "b = [4, 2, 12.]\n",
    "\n",
    "c = [2, 1, 0, 0, 0, -M, -M]\n",
    "\n",
    "basic_var = [5, 6, 4]\n",
    "artificial_var = [5, 6]\n",
    "\n",
    "tableau = build_tableau(A, b, c)\n",
    "tableau = big_M(tableau, basic_var)\n",
    "optimal_solution(tableau, basic_var, artificial_var)\n"
   ]
  },
  {
   "cell_type": "markdown",
   "metadata": {},
   "source": [
    "**Two-Phases**: Dovetail Model modified"
   ]
  },
  {
   "cell_type": "code",
   "execution_count": 244,
   "metadata": {},
   "outputs": [
    {
     "name": "stdout",
     "output_type": "stream",
     "text": [
      "x_B = [2, 3, 4, 5, 7]\n",
      "[[ 0.  0.  0.  0.  0.  0.  0. -1.  0.]\n",
      " [ 1.  1.  1.  0.  0.  0.  0.  0.  9.]\n",
      " [ 3.  1.  0.  1.  0.  0.  0.  0. 18.]\n",
      " [ 1.  0.  0.  0.  1.  0.  0.  0.  7.]\n",
      " [ 0.  1.  0.  0.  0.  1.  0.  0.  6.]\n",
      " [ 1.  1.  0.  0.  0.  0. -1.  1.  5.]]\n",
      "x_B = [2, 3, 4, 5, 7]\n",
      "[[ 1.  1.  0.  0.  0.  0. -1.  0.  5.]\n",
      " [ 1.  1.  1.  0.  0.  0.  0.  0.  9.]\n",
      " [ 3.  1.  0.  1.  0.  0.  0.  0. 18.]\n",
      " [ 1.  0.  0.  0.  1.  0.  0.  0.  7.]\n",
      " [ 0.  1.  0.  0.  0.  1.  0.  0.  6.]\n",
      " [ 1.  1.  0.  0.  0.  0. -1.  1.  5.]]\n",
      "Phase One\n",
      "x_B = [2, 3, 4, 5, 0]\n",
      "[[ 0.  0.  0.  0.  0.  0.  0. -1.  0.]\n",
      " [ 0.  0.  1.  0.  0.  0.  1. -1.  4.]\n",
      " [ 0. -2.  0.  1.  0.  0.  3. -3.  3.]\n",
      " [ 0. -1.  0.  0.  1.  0.  1. -1.  2.]\n",
      " [ 0.  1.  0.  0.  0.  1.  0.  0.  6.]\n",
      " [ 1.  1.  0.  0.  0.  0. -1.  1.  5.]]\n",
      "Phase Two\n",
      "x_B = [2, 3, 4, 5, 0]\n",
      "[[ 3.  2.  0.  0.  0.  0.  0.  0.]\n",
      " [ 0.  0.  1.  0.  0.  0.  1.  4.]\n",
      " [ 0. -2.  0.  1.  0.  0.  3.  3.]\n",
      " [ 0. -1.  0.  0.  1.  0.  1.  2.]\n",
      " [ 0.  1.  0.  0.  0.  1.  0.  6.]\n",
      " [ 1.  1.  0.  0.  0.  0. -1.  5.]]\n",
      "x_B = [2, 3, 4, 5, 0]\n",
      "[[ 3.  2.  0.  0.  0.  0.  0.  0.]\n",
      " [ 0.  0.  1.  0.  0.  0.  1.  4.]\n",
      " [ 0. -2.  0.  1.  0.  0.  3.  3.]\n",
      " [ 0. -1.  0.  0.  1.  0.  1.  2.]\n",
      " [ 0.  1.  0.  0.  0.  1.  0.  6.]\n",
      " [ 1.  1.  0.  0.  0.  0. -1.  5.]]\n",
      "x_B = [2, 3, 4, 5, 0]\n",
      "[[  0.  -1.   0.   0.   0.   0.   3. -15.]\n",
      " [  0.   0.   1.   0.   0.   0.   1.   4.]\n",
      " [  0.  -2.   0.   1.   0.   0.   3.   3.]\n",
      " [  0.  -1.   0.   0.   1.   0.   1.   2.]\n",
      " [  0.   1.   0.   0.   0.   1.   0.   6.]\n",
      " [  1.   1.   0.   0.   0.   0.  -1.   5.]]\n",
      "x_B = [2, 6, 4, 5, 0]\n",
      "[[  0.           1.           0.          -1.           0.           0.           0.         -18.        ]\n",
      " [  0.           0.66666667   1.          -0.33333333   0.           0.           0.           3.        ]\n",
      " [  0.          -0.66666667   0.           0.33333333   0.           0.           1.           1.        ]\n",
      " [  0.          -0.33333333   0.          -0.33333333   1.           0.           0.           1.        ]\n",
      " [  0.           1.           0.           0.           0.           1.           0.           6.        ]\n",
      " [  1.           0.33333333   0.           0.33333333   0.           0.           0.           6.        ]]\n",
      "x_B = [1, 6, 4, 5, 0]\n",
      "[[  0.    0.   -1.5  -0.5   0.    0.    0.  -22.5]\n",
      " [  0.    1.    1.5  -0.5   0.    0.    0.    4.5]\n",
      " [  0.    0.    1.    0.    0.    0.    1.    4. ]\n",
      " [  0.    0.    0.5  -0.5   1.    0.    0.    2.5]\n",
      " [  0.    0.   -1.5   0.5   0.    1.    0.    1.5]\n",
      " [  1.    0.   -0.5   0.5   0.    0.    0.    4.5]]\n",
      "Optimal solution: x_opt = [4.5 4.5]\n"
     ]
    }
   ],
   "source": [
    "variable_map = {0: \"x1\", 1: \"x2\", 2: \"x3\", 3: \"x4\", 4: \"x5\", 5: \"x6\", 6: \"x7\", 7: \"u1\"}\n",
    "\n",
    "tableau = np.array([[0, 0, 0, 0, 0, 0, 0, -1, 0],\n",
    "                    [1, 1, 1, 0, 0, 0, 0, 0, 9.],\n",
    "                    [3, 1, 0, 1, 0, 0, 0, 0, 18],\n",
    "                    [1, 0, 0, 0, 1, 0, 0, 0, 7.],\n",
    "                    [0, 1, 0, 0, 0, 1, 0, 0, 6.],\n",
    "                    [1, 1, 0, 0, 0, 0, -1, 1, 5]])\n",
    "\n",
    "c = [3, 2, 0, 0, 0, 0, 0.]\n",
    "\n",
    "basic_var = [2, 3, 4, 5, 7]\n",
    "artificial_var = [7]\n",
    "\n",
    "tableau = two_phases(tableau, c, basic_var, artificial_var)\n",
    "optimal_solution(tableau, basic_var)\n"
   ]
  },
  {
   "cell_type": "markdown",
   "metadata": {},
   "source": [
    "### Curso: Programación Lineal y flujo en redes: Cuarta Dirigida"
   ]
  },
  {
   "cell_type": "markdown",
   "metadata": {},
   "source": [
    "2. Hallar una solución aplicando las tablas del método simplex"
   ]
  },
  {
   "cell_type": "code",
   "execution_count": 245,
   "metadata": {},
   "outputs": [
    {
     "name": "stdout",
     "output_type": "stream",
     "text": [
      "x_B = [2, 3, 4]\n",
      "[[4. 5. 0. 0. 0. 0.]\n",
      " [2. 1. 1. 0. 0. 9.]\n",
      " [1. 0. 0. 1. 0. 4.]\n",
      " [0. 1. 0. 0. 1. 3.]]\n",
      "x_B = [2, 3, 1]\n",
      "[[  4.   0.   0.   0.  -5. -15.]\n",
      " [  2.   0.   1.   0.  -1.   6.]\n",
      " [  1.   0.   0.   1.   0.   4.]\n",
      " [  0.   1.   0.   0.   1.   3.]]\n",
      "x_B = [0, 3, 1]\n",
      "[[  0.    0.   -2.    0.   -3.  -27. ]\n",
      " [  1.    0.    0.5   0.   -0.5   3. ]\n",
      " [  0.    0.   -0.5   1.    0.5   1. ]\n",
      " [  0.    1.    0.    0.    1.    3. ]]\n",
      "Optimal solution: x_opt = [3. 3.]\n"
     ]
    }
   ],
   "source": [
    "A = [[2, 1, 1, 0, 0],\n",
    "     [1, 0, 0, 1, 0],\n",
    "     [0, 1, 0, 0, 1.]]\n",
    "\n",
    "b = [9, 4, 3.]\n",
    "\n",
    "c = [4, 5, 0, 0, 0.]\n",
    "\n",
    "basic_var = [2, 3, 4]\n",
    "\n",
    "tableau = build_tableau(A, b, c)\n",
    "tableau = simplex(tableau, basic_var)\n",
    "optimal_solution(tableau, basic_var)\n"
   ]
  },
  {
   "cell_type": "markdown",
   "metadata": {},
   "source": [
    "Usando 2 fases"
   ]
  },
  {
   "cell_type": "code",
   "execution_count": 257,
   "metadata": {},
   "outputs": [
    {
     "name": "stdout",
     "output_type": "stream",
     "text": [
      "x_B = [2, 3, 5]\n",
      "[[ 0.  0.  0.  0.  0. -1.  0.]\n",
      " [ 1.  1.  1.  0.  0.  0.  9.]\n",
      " [-2. -1.  0.  1.  0.  0.  4.]\n",
      " [ 0.  1.  0.  0. -1.  1.  3.]]\n",
      "x_B = [2, 3, 5]\n",
      "[[ 0.  1.  0.  0. -1.  0.  3.]\n",
      " [ 1.  1.  1.  0.  0.  0.  9.]\n",
      " [-2. -1.  0.  1.  0.  0.  4.]\n",
      " [ 0.  1.  0.  0. -1.  1.  3.]]\n",
      "Phase One\n",
      "x_B = [2, 3, 1]\n",
      "[[ 0.  0.  0.  0.  0. -1.  0.]\n",
      " [ 1.  0.  1.  0.  1. -1.  6.]\n",
      " [-2.  0.  0.  1. -1.  1.  7.]\n",
      " [ 0.  1.  0.  0. -1.  1.  3.]]\n",
      "Phase Two\n",
      "x_B = [2, 3, 1]\n",
      "[[ 4.  5.  0.  0.  0.  0.]\n",
      " [ 1.  0.  1.  0.  1.  6.]\n",
      " [-2.  0.  0.  1. -1.  7.]\n",
      " [ 0.  1.  0.  0. -1.  3.]]\n",
      "x_B = [2, 3, 1]\n",
      "[[ 4.  5.  0.  0.  0.  0.]\n",
      " [ 1.  0.  1.  0.  1.  6.]\n",
      " [-2.  0.  0.  1. -1.  7.]\n",
      " [ 0.  1.  0.  0. -1.  3.]]\n",
      "x_B = [2, 3, 1]\n",
      "[[  4.   0.   0.   0.   5. -15.]\n",
      " [  1.   0.   1.   0.   1.   6.]\n",
      " [ -2.   0.   0.   1.  -1.   7.]\n",
      " [  0.   1.   0.   0.  -1.   3.]]\n",
      "x_B = [4, 3, 1]\n",
      "[[ -1.   0.  -5.   0.   0. -45.]\n",
      " [  1.   0.   1.   0.   1.   6.]\n",
      " [ -1.   0.   1.   1.   0.  13.]\n",
      " [  1.   1.   1.   0.   0.   9.]]\n",
      "Optimal solution: x_opt = [0. 9.]\n"
     ]
    }
   ],
   "source": [
    "variable_map = {0: \"x1\", 1: \"x2\", 2: \"x3\", 3: \"x4\", 4: \"x5\", 5: \"u1\"}\n",
    "A = [[1., 1., 1, 0, 0, 0],\n",
    "     [-2, -1, 0, 1, 0, 0],\n",
    "     [0., 1., 0, 0, -1, 1]]\n",
    "\n",
    "b = [9, 4, 3.]\n",
    "\n",
    "c = [4, 5, 0, 0.0, 0.0]\n",
    "c_artificial = [0., 0., 0, 0, 0, -1]\n",
    "\n",
    "basic_var = [2, 3, 5]\n",
    "artificial_var = [5]\n",
    "\n",
    "tableau = build_tableau(A, b, c_artificial)\n",
    "tableau = two_phases(tableau, c, basic_var, artificial_var)\n",
    "optimal_solution(tableau, basic_var)\n"
   ]
  },
  {
   "cell_type": "markdown",
   "metadata": {},
   "source": [
    "Usando Big-M"
   ]
  },
  {
   "cell_type": "code",
   "execution_count": 247,
   "metadata": {},
   "outputs": [
    {
     "name": "stdout",
     "output_type": "stream",
     "text": [
      "x_B = [2, 3, 5]\n",
      "[[  4.   5.   0.   0.   0. -10.   0.]\n",
      " [  1.   1.   1.   0.   0.   0.   9.]\n",
      " [ -2.  -1.   0.   1.   0.   0.   4.]\n",
      " [  0.   1.   0.   0.  -1.   1.   3.]]\n",
      "x_B = [2, 3, 5]\n",
      "[[  4.  15.   0.   0. -10.   0.  30.]\n",
      " [  1.   1.   1.   0.   0.   0.   9.]\n",
      " [ -2.  -1.   0.   1.   0.   0.   4.]\n",
      " [  0.   1.   0.   0.  -1.   1.   3.]]\n",
      "x_B = [2, 3, 1]\n",
      "[[  4.   0.   0.   0.   5. -15. -15.]\n",
      " [  1.   0.   1.   0.   1.  -1.   6.]\n",
      " [ -2.   0.   0.   1.  -1.   1.   7.]\n",
      " [  0.   1.   0.   0.  -1.   1.   3.]]\n",
      "x_B = [4, 3, 1]\n",
      "[[ -1.   0.  -5.   0.   0. -10. -45.]\n",
      " [  1.   0.   1.   0.   1.  -1.   6.]\n",
      " [ -1.   0.   1.   1.   0.   0.  13.]\n",
      " [  1.   1.   1.   0.   0.   0.   9.]]\n",
      "Optimal solution: x_opt = [0. 9.]\n"
     ]
    }
   ],
   "source": [
    "M = 10\n",
    "\n",
    "A = [[1., 1., 1, 0, 0, 0],\n",
    "     [-2, -1, 0, 1, 0, 0],\n",
    "     [0., 1., 0, 0, -1, 1]]\n",
    "\n",
    "b = [9, 4, 3.]\n",
    "\n",
    "c = [4, 5, 0, 0, 0, -M]\n",
    "\n",
    "basic_var = [2, 3, 5]\n",
    "artificial_var = [5]\n",
    "\n",
    "tableau = build_tableau(A, b, c)\n",
    "tableau = big_M(tableau, basic_var)\n",
    "optimal_solution(tableau, basic_var, artificial_var)\n"
   ]
  },
  {
   "cell_type": "markdown",
   "metadata": {},
   "source": [
    "6. Resolver por el método de dos faces el siguiente LO"
   ]
  },
  {
   "cell_type": "code",
   "execution_count": 260,
   "metadata": {},
   "outputs": [
    {
     "name": "stdout",
     "output_type": "stream",
     "text": [
      "x_B = [4, 5]\n",
      "[[ 0.  0.  0.  0. -1. -1.  0.]\n",
      " [ 4.  2. -1.  0.  1.  0. 12.]\n",
      " [ 1.  4.  0. -1.  0.  1.  6.]]\n",
      "x_B = [4, 5]\n",
      "[[ 5.  6. -1. -1.  0.  0. 18.]\n",
      " [ 4.  2. -1.  0.  1.  0. 12.]\n",
      " [ 1.  4.  0. -1.  0.  1.  6.]]\n",
      "Phase One\n",
      "x_B = [4, 1]\n",
      "[[ 3.5   0.   -1.    0.5   0.   -1.5   9.  ]\n",
      " [ 3.5   0.   -1.    0.5   1.   -0.5   9.  ]\n",
      " [ 0.25  1.    0.   -0.25  0.    0.25  1.5 ]]\n",
      "x_B = [0, 1]\n",
      "[[ 0.          0.          0.          0.         -1.         -1.          0.        ]\n",
      " [ 1.          0.         -0.28571429  0.14285714  0.28571429 -0.14285714  2.57142857]\n",
      " [ 0.          1.          0.07142857 -0.28571429 -0.07142857  0.28571429  0.85714286]]\n",
      "Phase Two\n",
      "x_B = [0, 1]\n",
      "[[-2.         -3.          0.          0.          0.        ]\n",
      " [ 1.          0.         -0.28571429  0.14285714  2.57142857]\n",
      " [ 0.          1.          0.07142857 -0.28571429  0.85714286]]\n",
      "x_B = [0, 1]\n",
      "[[ 0.          0.         -0.35714286 -0.57142857  7.71428571]\n",
      " [ 1.          0.         -0.28571429  0.14285714  2.57142857]\n",
      " [ 0.          1.          0.07142857 -0.28571429  0.85714286]]\n",
      "Optimal solution: x_opt = [2.57142857 0.85714286]\n"
     ]
    }
   ],
   "source": [
    "variable_map = {0: \"x1\", 1: \"x2\", 2: \"x3\", 3: \"x4\", 4: \"u1\", 5: \"u2\"}\n",
    "A = [[4., 2, -1, 0, 1, 0],\n",
    "     [1., 4., 0, -1, 0, 1]]\n",
    "\n",
    "b = [12, 6.0]\n",
    "\n",
    "c_artificial = [0., 0., 0, 0, -1, -1]\n",
    "c = [-2, -3., 0, 0]\n",
    "\n",
    "basic_var = [4, 5]\n",
    "artificial_var = [4, 5]\n",
    "\n",
    "tableau = build_tableau(A, b, c_artificial)\n",
    "tableau = two_phases(tableau, c, basic_var, artificial_var)\n",
    "optimal_solution(tableau, basic_var)\n"
   ]
  },
  {
   "cell_type": "code",
   "execution_count": 261,
   "metadata": {},
   "outputs": [
    {
     "name": "stdout",
     "output_type": "stream",
     "text": [
      "x_B = [2, 4]\n",
      "[[ 0.  0.  0.  0. -1.  0.]\n",
      " [ 1.  1.  1.  0.  0. 10.]\n",
      " [-1.  2.  0. -1.  1.  2.]]\n",
      "x_B = [2, 4]\n",
      "[[-1.  2.  0. -1.  0.  2.]\n",
      " [ 1.  1.  1.  0.  0. 10.]\n",
      " [-1.  2.  0. -1.  1.  2.]]\n",
      "Phase One\n",
      "x_B = [2, 1]\n",
      "[[ 0.   0.   0.   0.  -1.   0. ]\n",
      " [ 1.5  0.   1.   0.5 -0.5  9. ]\n",
      " [-0.5  1.   0.  -0.5  0.5  1. ]]\n",
      "Phase Two\n",
      "x_B = [2, 1]\n",
      "[[ 2.   2.   0.   0.   0. ]\n",
      " [ 1.5  0.   1.   0.5  9. ]\n",
      " [-0.5  1.   0.  -0.5  1. ]]\n",
      "x_B = [2, 1]\n",
      "[[ 2.   2.   0.   0.   0. ]\n",
      " [ 1.5  0.   1.   0.5  9. ]\n",
      " [-0.5  1.   0.  -0.5  1. ]]\n",
      "x_B = [0, 1]\n",
      "[[  0.           2.          -1.33333333  -0.66666667 -12.        ]\n",
      " [  1.           0.           0.66666667   0.33333333   6.        ]\n",
      " [  0.           1.           0.33333333  -0.33333333   4.        ]]\n",
      "x_B = [0, 1]\n",
      "[[  0.           0.          -2.           0.         -20.        ]\n",
      " [  1.           0.           0.66666667   0.33333333   6.        ]\n",
      " [  0.           1.           0.33333333  -0.33333333   4.        ]]\n",
      "x_B = [3, 1]\n",
      "[[ -0.   0.  -2.   0. -20.]\n",
      " [  3.   0.   2.   1.  18.]\n",
      " [  1.   1.   1.   0.  10.]]\n",
      "Optimal solution: x_opt = [ 0. 10.]\n"
     ]
    }
   ],
   "source": [
    "variable_map = {0: \"x1\", 1: \"x2\", 2: \"x3\", 3: \"x4\", 4: \"u1\"}\n",
    "A = [[1., 1, 1, 0., 0],\n",
    "     [-1, 2, 0, -1, 1]]\n",
    "\n",
    "b = [10, 2.0]\n",
    "\n",
    "c_artificial = [0., 0., 0, 0, -1]\n",
    "c = [2, 2., 0, 0]\n",
    "\n",
    "basic_var = [2, 4]\n",
    "artificial_var = [4]\n",
    "\n",
    "tableau = build_tableau(A, b, c_artificial)\n",
    "tableau = two_phases(tableau, c, basic_var, artificial_var)\n",
    "optimal_solution(tableau, basic_var)\n"
   ]
  },
  {
   "cell_type": "markdown",
   "metadata": {},
   "source": [
    "9. Resolver por el método de dos faces el siguiente LO"
   ]
  },
  {
   "cell_type": "code",
   "execution_count": 263,
   "metadata": {},
   "outputs": [
    {
     "name": "stdout",
     "output_type": "stream",
     "text": [
      "x_B = [2, 4]\n",
      "[[ 0.  0.  0.  0.  0. -1.  0.]\n",
      " [ 1.  1.  1.  1.  0.  0.  1.]\n",
      " [ 4.  1.  6.  0. -1.  1.  2.]]\n",
      "x_B = [2, 4]\n",
      "[[ 0.  0.  0.  0.  0. -1.  0.]\n",
      " [ 1.  1.  1.  1.  0.  0.  1.]\n",
      " [ 4.  1.  6.  0. -1.  1.  2.]]\n",
      "Phase One\n",
      "x_B = [2, 0]\n",
      "[[ 0.    0.    0.    0.    0.   -1.    0.  ]\n",
      " [ 0.    0.75 -0.5   1.    0.25 -0.25  0.5 ]\n",
      " [ 1.    0.25  1.5   0.   -0.25  0.25  0.5 ]]\n",
      "Phase Two\n",
      "x_B = [2, 0]\n",
      "[[ 3.    3.    0.    0.    0.    0.  ]\n",
      " [ 0.    0.75 -0.5   1.   -0.25  0.5 ]\n",
      " [ 1.    0.25  1.5   0.    0.25  0.5 ]]\n",
      "x_B = [2, 0]\n",
      "[[ 3.    3.    0.    0.    0.    0.  ]\n",
      " [ 0.    0.75 -0.5   1.   -0.25  0.5 ]\n",
      " [ 1.    0.25  1.5   0.    0.25  0.5 ]]\n",
      "x_B = [2, 0]\n",
      "[[ 0.    2.25 -4.5   0.   -0.75 -1.5 ]\n",
      " [ 0.    0.75 -0.5   1.   -0.25  0.5 ]\n",
      " [ 1.    0.25  1.5   0.    0.25  0.5 ]]\n",
      "x_B = [1, 0]\n",
      "[[ 0.          0.         -3.         -3.          0.         -3.        ]\n",
      " [ 0.          1.         -0.66666667  1.33333333 -0.33333333  0.66666667]\n",
      " [ 1.          0.          1.66666667 -0.33333333  0.33333333  0.33333333]]\n",
      "Optimal solution: x_opt = [0.33333333 0.66666667 0.        ]\n"
     ]
    }
   ],
   "source": [
    "variable_map = {0: \"x1\", 1: \"x2\", 2: \"x3\", 3: \"x4\", 4: \"x5\", 5: \"u1\"}\n",
    "A = [[1, 1, 1, 1., 0, 0.],\n",
    "     [4, 1, 6, 0, -1, 1]]\n",
    "\n",
    "b = [1, 2.]\n",
    "\n",
    "c_artificial = [0., 0., 0, 0, 0, -1]\n",
    "c = [3, 3., 0, 0, 0.0]\n",
    "\n",
    "basic_var = [2, 4]\n",
    "artificial_var = [4]\n",
    "\n",
    "tableau = build_tableau(A, b, c_artificial)\n",
    "tableau = two_phases(tableau, c, basic_var, artificial_var)\n",
    "optimal_solution(tableau, basic_var)\n"
   ]
  },
  {
   "cell_type": "markdown",
   "metadata": {},
   "source": [
    "11. Elaborar un programa que al ingresar una $4 \\times 6$ matriz arbitraria, verifique si dicha matriz representa las entradas de una tabla simplex (con 2 variables no básicas y 3 variables básicas). Testearlo con una matriz que si represente una tabla simplex y luego con una matrix de igual entradas que el anterior a excepción de la entrada (1, 6)."
   ]
  },
  {
   "cell_type": "code",
   "execution_count": 264,
   "metadata": {},
   "outputs": [],
   "source": [
    "def check_tableau(tableau: np.ndarray, basic_var: list[int]):\n",
    "    for index, col in enumerate(basic_var):\n",
    "        # cost of basic variable is 0.0\n",
    "        if not tableau[0, col] == 0.0:\n",
    "            print(\"Basic cost isn't zero\")\n",
    "            return False\n",
    "        else:\n",
    "            for row in range(1, len(basic_var) + 1):\n",
    "                if row != index + 1:\n",
    "                    if not tableau[row, col] == 0.0:\n",
    "                        print(f\"Basic column {col} in position {row} isn't zero\")\n",
    "                        return False\n",
    "                else:\n",
    "                    if not tableau[row, col] == 1.0:\n",
    "                        print(f\"Basic column {col} in position {row} isn't one\")\n",
    "                        return False\n",
    "        # b positive\n",
    "        if not tableau[index + 1, -1] >= 0.0:\n",
    "            print(\"B^{-1} b is negative\")\n",
    "            return False\n",
    "    print(\"If it is a simplex table.\")\n",
    "    return True\n"
   ]
  },
  {
   "cell_type": "code",
   "execution_count": 252,
   "metadata": {},
   "outputs": [
    {
     "name": "stdout",
     "output_type": "stream",
     "text": [
      "If it is a simplex table.\n"
     ]
    }
   ],
   "source": [
    "tableau = np.array([[3., 2., 0., 0., 0., 0., 0.],\n",
    "                    [1., 1., 1., 0., 0., 0., 9.],\n",
    "                    [3., 1., 0., 1., 0., 0., 18.],\n",
    "                    [1., 0., 0., 0., 1., 0., 7.],\n",
    "                    [0., 1., 0., 0., 0., 1., 6.]])\n",
    "\n",
    "basic_var = [2, 3, 4, 5]\n",
    "check_tableau(tableau, basic_var);\n"
   ]
  }
 ],
 "metadata": {
  "interpreter": {
   "hash": "590f4a299ae404e723bbc5f32e9a7b98b836c3c65ce9112bc934ac92a06ceee3"
  },
  "kernelspec": {
   "display_name": "Python 3.10.4 64-bit",
   "language": "python",
   "name": "python3"
  },
  "language_info": {
   "codemirror_mode": {
    "name": "ipython",
    "version": 3
   },
   "file_extension": ".py",
   "mimetype": "text/x-python",
   "name": "python",
   "nbconvert_exporter": "python",
   "pygments_lexer": "ipython3",
   "version": "3.10.4"
  },
  "orig_nbformat": 4
 },
 "nbformat": 4,
 "nbformat_minor": 2
}
