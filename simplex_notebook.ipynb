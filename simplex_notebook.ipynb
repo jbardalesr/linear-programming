{
 "cells": [
  {
   "cell_type": "code",
   "execution_count": 34,
   "metadata": {},
   "outputs": [],
   "source": [
    "import numpy as np\n",
    "import math\n",
    "from numpy import linalg as la\n",
    "# math.isclose(0.1 + 0.2, 0.3)\n",
    "np.set_printoptions(suppress=True, linewidth=np.nan)\n"
   ]
  },
  {
   "cell_type": "markdown",
   "metadata": {},
   "source": [
    "### Utilities"
   ]
  },
  {
   "cell_type": "code",
   "execution_count": 35,
   "metadata": {},
   "outputs": [],
   "source": [
    "def build_tableau(A: np.ndarray, b: np.ndarray, c: np.ndarray) -> np.ndarray:\n",
    "    tableau = np.r_[c.reshape(1, -1), A]\n",
    "    tableau = np.c_[tableau, np.insert(b, 0, 0)]\n",
    "    return tableau\n"
   ]
  },
  {
   "cell_type": "code",
   "execution_count": 36,
   "metadata": {},
   "outputs": [],
   "source": [
    "def minimum_ratio_test(col: np.ndarray, b: np.ndarray) -> int:\n",
    "    r_min = 0\n",
    "    min_val = np.Inf\n",
    "    for k in range(len(b)):\n",
    "        if col[k] > 0:\n",
    "            if min_val > (min_val_temp := b[k] / col[k]):\n",
    "                min_val = min_val_temp\n",
    "                r_min = k\n",
    "    return r_min\n"
   ]
  },
  {
   "cell_type": "code",
   "execution_count": 37,
   "metadata": {},
   "outputs": [],
   "source": [
    "def pivoting(tableau: np.ndarray, row: int, col: int) -> np.ndarray:\n",
    "    # escale pivot row min to 1.0\n",
    "    tableau[row] = tableau[row]/tableau[row, col]\n",
    "    # pivot proccess\n",
    "    for k in range(len(tableau)):\n",
    "        if k != row:\n",
    "            tableau[k] = tableau[k] - tableau[k, col]*tableau[row, :]\n",
    "    return tableau\n"
   ]
  },
  {
   "cell_type": "markdown",
   "metadata": {},
   "source": [
    "### Simplex Algorithm"
   ]
  },
  {
   "cell_type": "code",
   "execution_count": 38,
   "metadata": {},
   "outputs": [],
   "source": [
    "def simplex(tableau: np.ndarray, basic_var: list[int]) -> None:\n",
    "    print(f\"x_B = {basic_var}\\n{tableau}\")\n",
    "    while (tableau[0] > 0).any():\n",
    "        # max criterion\n",
    "        c_max = np.argmax(tableau[0, :-1])\n",
    "        # minimum ratio test\n",
    "        r_min = minimum_ratio_test(max_col=tableau[1:, c_max], b=tableau[1:, -1]) + 1\n",
    "        # pivoting\n",
    "        tableau = pivoting(tableau, r_min, c_max)\n",
    "        # swap row with col\n",
    "        basic_var[r_min - 1] = c_max\n",
    "        print(f\"x_B = {basic_var}\\n{tableau}\")\n"
   ]
  },
  {
   "cell_type": "markdown",
   "metadata": {},
   "source": [
    "### Big-M\n",
    "The big-M procedure, each such constraint $i$ is augmented, together with its slack variable, with a so-called artificial variable $u_i$,  and the objective function is augmented with $−Mu_i$, where $M$ is a big positive real number. For big values of $M$ the simplex algorithm will put highest priority on making the value of the factor $Mu_i$ as small as possible, thereby setting the value of $u_i$ equal to zero. Big-M and two-phases are used when $0$ isn't feasible basic solution."
   ]
  },
  {
   "cell_type": "code",
   "execution_count": 45,
   "metadata": {},
   "outputs": [],
   "source": [
    "def big_M(tableau: np.ndarray, basic_var: list[int], artificial_var: list[int]):\n",
    "    print(f\"x_B = {basic_var}\\n{tableau}\")\n",
    "    # correct first row of tableau for each artificial var because the artificial_var position is -M\n",
    "    for u in artificial_var:\n",
    "        row = minimum_ratio_test(max_col=tableau[1:, u], b=np.ones_like(basic_var)) + 1\n",
    "        tableau[row] = tableau[row] / tableau[row, u]\n",
    "        tableau[0] = tableau[0] - tableau[0, u] * tableau[row, :]\n",
    "    \n",
    "    simplex(tableau, basic_var)\n"
   ]
  },
  {
   "cell_type": "markdown",
   "metadata": {},
   "source": [
    "### Two-Phases\n",
    "The two-phase procedure add, in the same manner as employed in the big-M procedure, but instead of adding each artificial variable to the objetive with a large negative coefficient, the objetive function is replace by minus the sum of all artificial variables . During the **first phase**, the simplex algorithm tries to maximize this objetive, effectively trying to give all artificial variables the value zero.  By doing this a feasible basic solution is founded. When this has happened, the **second-phase** starts by replacing the artificial objetive function by the objetive function of the original model and solve this with simplex method."
   ]
  },
  {
   "cell_type": "code",
   "execution_count": 40,
   "metadata": {},
   "outputs": [],
   "source": [
    "def two_phases(tableau: np.ndarray, c: np.ndarray, basic_var: list[int], artificial_var: list[int]):\n",
    "    print(f\"x_B = {basic_var}\\n{tableau}\")\n",
    "    # correct first row of tableau because the artificial_var position is -1\n",
    "    for u in artificial_var:\n",
    "        row = minimum_ratio_test(max_col=tableau[1:, u], b=np.ones_like(basic_var)) + 1\n",
    "        tableau[row] = tableau[row] / tableau[row, u]\n",
    "        tableau[0] = tableau[0] - tableau[0, u] * tableau[row, :]\n",
    "\n",
    "    print(f\"x_B = {basic_var}\\n{tableau}\")\n",
    "\n",
    "    # phase one\n",
    "    # while until each artifical var be negative and not be basic var\n",
    "    while all(((u in basic_var) or (tableau[0, u] > 0)) for u in artificial_var):\n",
    "        # max criterion\n",
    "        c_max = np.argmax(tableau[0, :-1])\n",
    "        # minimum ratio test\n",
    "        r_min = minimum_ratio_test(max_col=tableau[1:, c_max], b=tableau[1:, -1]) + 1\n",
    "        # pivoting\n",
    "        tableau = pivoting(tableau, r_min, c_max)\n",
    "        # swap row with col\n",
    "        basic_var[r_min - 1] = c_max\n",
    "        print(f\"x_B = {basic_var}\\n{tableau}\")\n",
    "\n",
    "    # phase two\n",
    "    # delete the artificial variable because we found a solution factible\n",
    "    tableau = np.delete(tableau, artificial_var, axis=1)\n",
    "    # put c in first row of tableau\n",
    "    tableau[0, :len(c)] = c\n",
    "    # solve with simplex\n",
    "    simplex(tableau, basic_var)\n"
   ]
  },
  {
   "cell_type": "markdown",
   "metadata": {},
   "source": [
    "### Examples\n",
    "\n",
    "**Simplex**: Model Dovetail"
   ]
  },
  {
   "cell_type": "code",
   "execution_count": 41,
   "metadata": {},
   "outputs": [
    {
     "name": "stdout",
     "output_type": "stream",
     "text": [
      "x_B = [2, 3, 4, 5]\n",
      "[[ 3.  2.  0.  0.  0.  0.  0.]\n",
      " [ 1.  1.  1.  0.  0.  0.  9.]\n",
      " [ 3.  1.  0.  1.  0.  0. 18.]\n",
      " [ 1.  0.  0.  0.  1.  0.  7.]\n",
      " [ 0.  1.  0.  0.  0.  1.  6.]]\n",
      "x_B = [2, 0, 4, 5]\n",
      "[[  0.           1.           0.          -1.           0.           0.         -18.        ]\n",
      " [  0.           0.66666667   1.          -0.33333333   0.           0.           3.        ]\n",
      " [  1.           0.33333333   0.           0.33333333   0.           0.           6.        ]\n",
      " [  0.          -0.33333333   0.          -0.33333333   1.           0.           1.        ]\n",
      " [  0.           1.           0.           0.           0.           1.           6.        ]]\n",
      "x_B = [1, 0, 4, 5]\n",
      "[[  0.    0.   -1.5  -0.5   0.    0.  -22.5]\n",
      " [  0.    1.    1.5  -0.5   0.    0.    4.5]\n",
      " [  1.    0.   -0.5   0.5   0.    0.    4.5]\n",
      " [  0.    0.    0.5  -0.5   1.    0.    2.5]\n",
      " [  0.    0.   -1.5   0.5   0.    1.    1.5]]\n"
     ]
    }
   ],
   "source": [
    "A = np.array([[1, 1, 1, 0, 0, 0],\n",
    "              [3, 1, 0, 1, 0, 0],\n",
    "              [1, 0, 0, 0, 1, 0],\n",
    "              [0, 1, 0, 0, 0, 1.0]])\n",
    "\n",
    "b = np.array([9, 18, 7, 6.])\n",
    "\n",
    "c = np.array([3, 2, 0, 0, 0, 0.])\n",
    "\n",
    "tableau = build_tableau(A, b, c)\n",
    "basic_var = [2, 3, 4, 5]\n",
    "simplex(tableau, basic_var);\n"
   ]
  },
  {
   "cell_type": "markdown",
   "metadata": {},
   "source": [
    "**BIG-M**:  Ejemplo visto el ciclo pasado Lineal 6 "
   ]
  },
  {
   "cell_type": "code",
   "execution_count": 46,
   "metadata": {},
   "outputs": [
    {
     "name": "stdout",
     "output_type": "stream",
     "text": [
      "x_B = [4, 5, 6]\n",
      "[[  2.   1.   0.   0.   0. -10. -10.   0.]\n",
      " [  2.  -1.  -1.   0.   0.   1.   0.   4.]\n",
      " [ -1.   2.   0.  -1.   0.   0.   1.   2.]\n",
      " [  1.   1.   0.   0.   1.   0.   0.  12.]]\n",
      "x_B = [4, 5, 6]\n",
      "[[ 12.  11. -10. -10.   0.   0.   0.  60.]\n",
      " [  2.  -1.  -1.   0.   0.   1.   0.   4.]\n",
      " [ -1.   2.   0.  -1.   0.   0.   1.   2.]\n",
      " [  1.   1.   0.   0.   1.   0.   0.  12.]]\n",
      "x_B = [0, 5, 6]\n",
      "[[  0.   17.   -4.  -10.    0.   -6.    0.   36. ]\n",
      " [  1.   -0.5  -0.5   0.    0.    0.5   0.    2. ]\n",
      " [  0.    1.5  -0.5  -1.    0.    0.5   1.    4. ]\n",
      " [  0.    1.5   0.5   0.    1.   -0.5   0.   10. ]]\n",
      "x_B = [0, 1, 6]\n",
      "[[  0.           0.           1.66666667   1.33333333   0.         -11.66666667 -11.33333333  -9.33333333]\n",
      " [  1.           0.          -0.66666667  -0.33333333   0.           0.66666667   0.33333333   3.33333333]\n",
      " [  0.           1.          -0.33333333  -0.66666667   0.           0.33333333   0.66666667   2.66666667]\n",
      " [  0.           0.           1.           1.           1.          -1.          -1.           6.        ]]\n",
      "x_B = [0, 1, 2]\n",
      "[[  0.           0.           0.          -0.33333333  -1.66666667 -10.          -9.66666667 -19.33333333]\n",
      " [  1.           0.           0.           0.33333333   0.66666667   0.          -0.33333333   7.33333333]\n",
      " [  0.           1.           0.          -0.33333333   0.33333333   0.           0.33333333   4.66666667]\n",
      " [  0.           0.           1.           1.           1.          -1.          -1.           6.        ]]\n"
     ]
    }
   ],
   "source": [
    "variable_map = {0: \"x1\", 1: \"x2\", 2: \"x3\", 3: \"x4\", 4: \"x5\", 5: \"u1\", 6: \"u2\"}\n",
    "A = np.array([[2, -1, -1, 0, 0, 1, 0],\n",
    "              [-1, 2, 0, -1, 0, 0, 1],\n",
    "              [1, 1, 0, 0, 1, 0, 0.]])\n",
    "\n",
    "b = np.array([4, 2, 12.])\n",
    "M = 10\n",
    "c = np.array([2, 1, 0, 0, 0, -M, -M])\n",
    "\n",
    "tableau = build_tableau(A, b, c)\n",
    "\n",
    "basic_var = [4, 5, 6]\n",
    "artificial_var = [5, 6]\n",
    "big_M(tableau, basic_var, artificial_var)  # FIN NO ACOTADO\n"
   ]
  },
  {
   "cell_type": "markdown",
   "metadata": {},
   "source": [
    "**Two-Phases**: Dovetail Model modified"
   ]
  },
  {
   "cell_type": "code",
   "execution_count": 48,
   "metadata": {},
   "outputs": [
    {
     "name": "stdout",
     "output_type": "stream",
     "text": [
      "x_B = [2, 3, 4, 5, 7]\n",
      "[[ 0.  0.  0.  0.  0.  0.  0. -1.  0.]\n",
      " [ 1.  1.  1.  0.  0.  0.  0.  0.  9.]\n",
      " [ 3.  1.  0.  1.  0.  0.  0.  0. 18.]\n",
      " [ 1.  0.  0.  0.  1.  0.  0.  0.  7.]\n",
      " [ 0.  1.  0.  0.  0.  1.  0.  0.  6.]\n",
      " [ 1.  1.  0.  0.  0.  0. -1.  1.  5.]]\n",
      "x_B = [2, 3, 4, 5, 7]\n",
      "[[ 1.  1.  0.  0.  0.  0. -1.  0.  5.]\n",
      " [ 1.  1.  1.  0.  0.  0.  0.  0.  9.]\n",
      " [ 3.  1.  0.  1.  0.  0.  0.  0. 18.]\n",
      " [ 1.  0.  0.  0.  1.  0.  0.  0.  7.]\n",
      " [ 0.  1.  0.  0.  0.  1.  0.  0.  6.]\n",
      " [ 1.  1.  0.  0.  0.  0. -1.  1.  5.]]\n",
      "x_B = [2, 3, 4, 5, 0]\n",
      "[[ 0.  0.  0.  0.  0.  0.  0. -1.  0.]\n",
      " [ 0.  0.  1.  0.  0.  0.  1. -1.  4.]\n",
      " [ 0. -2.  0.  1.  0.  0.  3. -3.  3.]\n",
      " [ 0. -1.  0.  0.  1.  0.  1. -1.  2.]\n",
      " [ 0.  1.  0.  0.  0.  1.  0.  0.  6.]\n",
      " [ 1.  1.  0.  0.  0.  0. -1.  1.  5.]]\n",
      "x_B = [2, 3, 4, 5, 0]\n",
      "[[ 3.  2.  0.  0.  0.  0.  0.  0.]\n",
      " [ 0.  0.  1.  0.  0.  0.  1.  4.]\n",
      " [ 0. -2.  0.  1.  0.  0.  3.  3.]\n",
      " [ 0. -1.  0.  0.  1.  0.  1.  2.]\n",
      " [ 0.  1.  0.  0.  0.  1.  0.  6.]\n",
      " [ 1.  1.  0.  0.  0.  0. -1.  5.]]\n",
      "x_B = [2, 3, 4, 5, 0]\n",
      "[[  0.  -1.   0.   0.   0.   0.   3. -15.]\n",
      " [  0.   0.   1.   0.   0.   0.   1.   4.]\n",
      " [  0.  -2.   0.   1.   0.   0.   3.   3.]\n",
      " [  0.  -1.   0.   0.   1.   0.   1.   2.]\n",
      " [  0.   1.   0.   0.   0.   1.   0.   6.]\n",
      " [  1.   1.   0.   0.   0.   0.  -1.   5.]]\n",
      "x_B = [2, 6, 4, 5, 0]\n",
      "[[  0.           1.           0.          -1.           0.           0.           0.         -18.        ]\n",
      " [  0.           0.66666667   1.          -0.33333333   0.           0.           0.           3.        ]\n",
      " [  0.          -0.66666667   0.           0.33333333   0.           0.           1.           1.        ]\n",
      " [  0.          -0.33333333   0.          -0.33333333   1.           0.           0.           1.        ]\n",
      " [  0.           1.           0.           0.           0.           1.           0.           6.        ]\n",
      " [  1.           0.33333333   0.           0.33333333   0.           0.           0.           6.        ]]\n",
      "x_B = [1, 6, 4, 5, 0]\n",
      "[[  0.    0.   -1.5  -0.5   0.    0.    0.  -22.5]\n",
      " [  0.    1.    1.5  -0.5   0.    0.    0.    4.5]\n",
      " [  0.    0.    1.    0.    0.    0.    1.    4. ]\n",
      " [  0.    0.    0.5  -0.5   1.    0.    0.    2.5]\n",
      " [  0.    0.   -1.5   0.5   0.    1.    0.    1.5]\n",
      " [  1.    0.   -0.5   0.5   0.    0.    0.    4.5]]\n"
     ]
    }
   ],
   "source": [
    "variable_map = {0: \"x1\", 1: \"x2\", 2: \"x3\", 3: \"x4\", 4: \"x5\", 5: \"x6\", 6: \"x7\", 7: \"u1\"}\n",
    "\n",
    "tableau = np.array([[0, 0, 0, 0, 0, 0, 0, -1, 0],\n",
    "                    [1, 1, 1, 0, 0, 0, 0, 0, 9.],\n",
    "                    [3, 1, 0, 1, 0, 0, 0, 0, 18],\n",
    "                    [1, 0, 0, 0, 1, 0, 0, 0, 7.],\n",
    "                    [0, 1, 0, 0, 0, 1, 0, 0, 6.],\n",
    "                    [1, 1, 0, 0, 0, 0, -1, 1, 5]])\n",
    "\n",
    "c = np.array([3, 2])\n",
    "\n",
    "basic_var = [2, 3, 4, 5, 7]\n",
    "\n",
    "artificial_var = [7]\n",
    "\n",
    "two_phases(tableau, c, basic_var, artificial_var) \n"
   ]
  }
 ],
 "metadata": {
  "interpreter": {
   "hash": "590f4a299ae404e723bbc5f32e9a7b98b836c3c65ce9112bc934ac92a06ceee3"
  },
  "kernelspec": {
   "display_name": "Python 3.10.4 64-bit",
   "language": "python",
   "name": "python3"
  },
  "language_info": {
   "codemirror_mode": {
    "name": "ipython",
    "version": 3
   },
   "file_extension": ".py",
   "mimetype": "text/x-python",
   "name": "python",
   "nbconvert_exporter": "python",
   "pygments_lexer": "ipython3",
   "version": "3.10.4"
  },
  "orig_nbformat": 4
 },
 "nbformat": 4,
 "nbformat_minor": 2
}
