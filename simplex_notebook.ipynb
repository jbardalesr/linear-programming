{
 "cells": [
  {
   "cell_type": "code",
   "execution_count": 52,
   "metadata": {},
   "outputs": [],
   "source": [
    "import numpy as np\n",
    "import math\n",
    "from numpy import linalg as la\n",
    "# math.isclose(0.1 + 0.2, 0.3)\n",
    "np.set_printoptions(suppress=True, linewidth=np.nan)\n"
   ]
  },
  {
   "cell_type": "markdown",
   "metadata": {},
   "source": [
    "### Utilities"
   ]
  },
  {
   "cell_type": "code",
   "execution_count": 53,
   "metadata": {},
   "outputs": [],
   "source": [
    "def build_tableau(A: np.ndarray, b: np.ndarray, c: np.ndarray) -> np.ndarray:\n",
    "    tableau = np.r_[c.reshape(1, -1), A]\n",
    "    tableau = np.c_[tableau, np.insert(b, 0, 0)]\n",
    "    return tableau\n"
   ]
  },
  {
   "cell_type": "code",
   "execution_count": 54,
   "metadata": {},
   "outputs": [],
   "source": [
    "def minimum_ratio_test(col: np.ndarray, b: np.ndarray) -> int:\n",
    "    r_min = 0\n",
    "    min_val = np.Inf\n",
    "    for k in range(len(b)):\n",
    "        if col[k] > 0:\n",
    "            if min_val > (min_val_temp := b[k] / col[k]):\n",
    "                min_val = min_val_temp\n",
    "                r_min = k\n",
    "    return r_min\n"
   ]
  },
  {
   "cell_type": "code",
   "execution_count": 55,
   "metadata": {},
   "outputs": [],
   "source": [
    "def pivoting(tableau: np.ndarray, row: int, col: int) -> np.ndarray:\n",
    "    # escale pivot row min to 1.0\n",
    "    tableau[row] = tableau[row]/tableau[row, col]\n",
    "    # pivot proccess\n",
    "    for k in range(len(tableau)):\n",
    "        if k != row:\n",
    "            tableau[k] = tableau[k] - tableau[k, col]*tableau[row, :]\n",
    "    return tableau\n"
   ]
  },
  {
   "cell_type": "code",
   "execution_count": 56,
   "metadata": {},
   "outputs": [],
   "source": [
    "def correct_negative_cost(tableau: np.ndarray, basic_var: list[int]):\n",
    "    # correct first row of tableau because the artificial_var and min=-max position is negative\n",
    "    for index, col in enumerate(basic_var):\n",
    "        if tableau[0, col] < 0:\n",
    "            # select the row with 1 because the rest are zeros\n",
    "            row = index + 1\n",
    "            tableau[0] = tableau[0] - tableau[0, col] * tableau[row, :]\n",
    "    return tableau\n"
   ]
  },
  {
   "cell_type": "markdown",
   "metadata": {},
   "source": [
    "### Simplex Algorithm"
   ]
  },
  {
   "cell_type": "code",
   "execution_count": 57,
   "metadata": {},
   "outputs": [],
   "source": [
    "def simplex(tableau: np.ndarray, basic_var: list[int]) -> None:\n",
    "    print(f\"x_B = {basic_var}\\n{tableau}\")\n",
    "    while (tableau[0, :-1] > 0).any():\n",
    "        # max criterion\n",
    "        c_max = np.argmax(tableau[0, :-1])\n",
    "        # minimum ratio test\n",
    "        r_min = minimum_ratio_test(col=tableau[1:, c_max], b=tableau[1:, -1]) + 1\n",
    "        # pivoting\n",
    "        tableau = pivoting(tableau, r_min, c_max)\n",
    "        # swap row with col\n",
    "        basic_var[r_min - 1] = c_max\n",
    "        print(f\"x_B = {basic_var}\\n{tableau}\")\n"
   ]
  },
  {
   "cell_type": "markdown",
   "metadata": {},
   "source": [
    "### Big-M\n",
    "The big-M procedure, each such constraint $i$ is augmented, together with its slack variable, with a so-called artificial variable $u_i$,  and the objective function is augmented with $−Mu_i$, where $M$ is a big positive real number. For big values of $M$ the simplex algorithm will put highest priority on making the value of the factor $Mu_i$ as small as possible, thereby setting the value of $u_i$ equal to zero. Big-M and two-phases are used when $0$ isn't feasible basic solution."
   ]
  },
  {
   "cell_type": "code",
   "execution_count": 58,
   "metadata": {},
   "outputs": [],
   "source": [
    "def big_M(tableau: np.ndarray, basic_var: list[int], artificial_var: list[int]):\n",
    "    print(f\"x_B = {basic_var}\\n{tableau}\")\n",
    "    # correct first row of tableau for each artificial var because the artificial_var position is -M\n",
    "    tableau = correct_negative_cost(tableau, basic_var)\n",
    "    # solve with simplex\n",
    "    simplex(tableau, basic_var)\n"
   ]
  },
  {
   "cell_type": "markdown",
   "metadata": {},
   "source": [
    "### Two-Phases\n",
    "The two-phase procedure add, in the same manner as employed in the big-M procedure, but instead of adding each artificial variable to the objetive with a large negative coefficient, the objetive function is replace by minus the sum of all artificial variables . During the **first phase**, the simplex algorithm tries to maximize this objetive, effectively trying to give all artificial variables the value zero.  By doing this a feasible basic solution is founded. When this has happened, the **second-phase** starts by replacing the artificial objetive function by the objetive function of the original model and solve this with simplex method."
   ]
  },
  {
   "cell_type": "code",
   "execution_count": 59,
   "metadata": {},
   "outputs": [],
   "source": [
    "def two_phases(tableau: np.ndarray, c: np.ndarray, basic_var: list[int], artificial_var: list[int]):\n",
    "    print(f\"x_B = {basic_var}\\n{tableau}\")\n",
    "    # correct first row of tableau because the artificial_var position is -1\n",
    "    tableau = correct_negative_cost(tableau, basic_var)\n",
    "    print(f\"x_B = {basic_var}\\n{tableau}\")\n",
    "    \n",
    "    print(\"Phase One\")\n",
    "    # while until each artifical var be negative and not be basic var\n",
    "    while any(((u in basic_var) or (tableau[0, u] > 0)) for u in artificial_var):\n",
    "        # max criterion\n",
    "        c_max = np.argmax(tableau[0, :-1])\n",
    "        # minimum ratio test\n",
    "        r_min = minimum_ratio_test(col=tableau[1:, c_max], b=tableau[1:, -1]) + 1\n",
    "        # pivoting\n",
    "        tableau = pivoting(tableau, r_min, c_max)\n",
    "        # swap row with col\n",
    "        basic_var[r_min - 1] = c_max\n",
    "        print(f\"x_B = {basic_var}\\n{tableau}\")\n",
    "\n",
    "    print(\"Phase Two\")\n",
    "    # delete the artificial variable because we found a solution factible\n",
    "    tableau = np.delete(tableau, artificial_var, axis=1)\n",
    "    # put c in first row of tableau\n",
    "    tableau[0, :len(c)] = c\n",
    "    # solve with simplex\n",
    "    print(f\"x_B = {basic_var}\\n{tableau}\")\n",
    "    tableau = correct_negative_cost(tableau, basic_var)\n",
    "    simplex(tableau, basic_var)\n"
   ]
  },
  {
   "cell_type": "markdown",
   "metadata": {},
   "source": [
    "### Examples\n",
    "\n",
    "**Simplex**: Model Dovetail"
   ]
  },
  {
   "cell_type": "code",
   "execution_count": 60,
   "metadata": {},
   "outputs": [
    {
     "name": "stdout",
     "output_type": "stream",
     "text": [
      "x_B = [2, 3, 4, 5]\n",
      "[[ 3.  2.  0.  0.  0.  0.  0.]\n",
      " [ 1.  1.  1.  0.  0.  0.  9.]\n",
      " [ 3.  1.  0.  1.  0.  0. 18.]\n",
      " [ 1.  0.  0.  0.  1.  0.  7.]\n",
      " [ 0.  1.  0.  0.  0.  1.  6.]]\n",
      "x_B = [2, 0, 4, 5]\n",
      "[[  0.           1.           0.          -1.           0.           0.         -18.        ]\n",
      " [  0.           0.66666667   1.          -0.33333333   0.           0.           3.        ]\n",
      " [  1.           0.33333333   0.           0.33333333   0.           0.           6.        ]\n",
      " [  0.          -0.33333333   0.          -0.33333333   1.           0.           1.        ]\n",
      " [  0.           1.           0.           0.           0.           1.           6.        ]]\n",
      "x_B = [1, 0, 4, 5]\n",
      "[[  0.    0.   -1.5  -0.5   0.    0.  -22.5]\n",
      " [  0.    1.    1.5  -0.5   0.    0.    4.5]\n",
      " [  1.    0.   -0.5   0.5   0.    0.    4.5]\n",
      " [  0.    0.    0.5  -0.5   1.    0.    2.5]\n",
      " [  0.    0.   -1.5   0.5   0.    1.    1.5]]\n"
     ]
    }
   ],
   "source": [
    "A = np.array([[1, 1, 1, 0, 0, 0],\n",
    "              [3, 1, 0, 1, 0, 0],\n",
    "              [1, 0, 0, 0, 1, 0],\n",
    "              [0, 1, 0, 0, 0, 1.0]])\n",
    "\n",
    "b = np.array([9, 18, 7, 6.])\n",
    "\n",
    "c = np.array([3, 2, 0, 0, 0, 0.])\n",
    "\n",
    "tableau = build_tableau(A, b, c)\n",
    "basic_var = [2, 3, 4, 5]\n",
    "simplex(tableau, basic_var)\n"
   ]
  },
  {
   "cell_type": "markdown",
   "metadata": {},
   "source": [
    "**BIG-M**:  Ejemplo visto el ciclo pasado Lineal 6 "
   ]
  },
  {
   "cell_type": "code",
   "execution_count": 61,
   "metadata": {},
   "outputs": [
    {
     "name": "stdout",
     "output_type": "stream",
     "text": [
      "x_B = [4, 5, 6]\n",
      "[[  2.   1.   0.   0.   0. -10. -10.   0.]\n",
      " [  2.  -1.  -1.   0.   0.   1.   0.   4.]\n",
      " [ -1.   2.   0.  -1.   0.   0.   1.   2.]\n",
      " [  1.   1.   0.   0.   1.   0.   0.  12.]]\n",
      "x_B = [4, 5, 6]\n",
      "[[ -8.  21.   0. -10.   0. -10.   0.  20.]\n",
      " [  2.  -1.  -1.   0.   0.   1.   0.   4.]\n",
      " [ -1.   2.   0.  -1.   0.   0.   1.   2.]\n",
      " [  1.   1.   0.   0.   1.   0.   0.  12.]]\n",
      "x_B = [4, 1, 6]\n",
      "[[  2.5   0.    0.    0.5   0.  -10.  -10.5  -1. ]\n",
      " [  1.5   0.   -1.   -0.5   0.    1.    0.5   5. ]\n",
      " [ -0.5   1.    0.   -0.5   0.    0.    0.5   1. ]\n",
      " [  1.5   0.    0.    0.5   1.    0.   -0.5  11. ]]\n",
      "x_B = [0, 1, 6]\n",
      "[[  0.           0.           1.66666667   1.33333333   0.         -11.66666667 -11.33333333  -9.33333333]\n",
      " [  1.           0.          -0.66666667  -0.33333333   0.           0.66666667   0.33333333   3.33333333]\n",
      " [  0.           1.          -0.33333333  -0.66666667   0.           0.33333333   0.66666667   2.66666667]\n",
      " [  0.           0.           1.           1.           1.          -1.          -1.           6.        ]]\n",
      "x_B = [0, 1, 2]\n",
      "[[  0.           0.           0.          -0.33333333  -1.66666667 -10.          -9.66666667 -19.33333333]\n",
      " [  1.           0.           0.           0.33333333   0.66666667   0.          -0.33333333   7.33333333]\n",
      " [  0.           1.           0.          -0.33333333   0.33333333   0.           0.33333333   4.66666667]\n",
      " [  0.           0.           1.           1.           1.          -1.          -1.           6.        ]]\n"
     ]
    }
   ],
   "source": [
    "variable_map = {0: \"x1\", 1: \"x2\", 2: \"x3\", 3: \"x4\", 4: \"x5\", 5: \"u1\", 6: \"u2\"}\n",
    "A = np.array([[2, -1, -1, 0, 0, 1, 0],\n",
    "              [-1, 2, 0, -1, 0, 0, 1],\n",
    "              [1, 1, 0, 0, 1, 0, 0.]])\n",
    "\n",
    "b = np.array([4, 2, 12.])\n",
    "M = 10\n",
    "c = np.array([2, 1, 0, 0, 0, -M, -M])\n",
    "\n",
    "tableau = build_tableau(A, b, c)\n",
    "\n",
    "basic_var = [4, 5, 6]\n",
    "artificial_var = [5, 6]\n",
    "big_M(tableau, basic_var, artificial_var)  # FIN NO ACOTADO\n"
   ]
  },
  {
   "cell_type": "markdown",
   "metadata": {},
   "source": [
    "**Two-Phases**: Dovetail Model modified"
   ]
  },
  {
   "cell_type": "code",
   "execution_count": 62,
   "metadata": {},
   "outputs": [
    {
     "name": "stdout",
     "output_type": "stream",
     "text": [
      "x_B = [2, 3, 4, 5, 7]\n",
      "[[ 0.  0.  0.  0.  0.  0.  0. -1.  0.]\n",
      " [ 1.  1.  1.  0.  0.  0.  0.  0.  9.]\n",
      " [ 3.  1.  0.  1.  0.  0.  0.  0. 18.]\n",
      " [ 1.  0.  0.  0.  1.  0.  0.  0.  7.]\n",
      " [ 0.  1.  0.  0.  0.  1.  0.  0.  6.]\n",
      " [ 1.  1.  0.  0.  0.  0. -1.  1.  5.]]\n",
      "x_B = [2, 3, 4, 5, 7]\n",
      "[[ 1.  1.  0.  0.  0.  0. -1.  0.  5.]\n",
      " [ 1.  1.  1.  0.  0.  0.  0.  0.  9.]\n",
      " [ 3.  1.  0.  1.  0.  0.  0.  0. 18.]\n",
      " [ 1.  0.  0.  0.  1.  0.  0.  0.  7.]\n",
      " [ 0.  1.  0.  0.  0.  1.  0.  0.  6.]\n",
      " [ 1.  1.  0.  0.  0.  0. -1.  1.  5.]]\n",
      "Phase One\n",
      "x_B = [2, 3, 4, 5, 0]\n",
      "[[ 0.  0.  0.  0.  0.  0.  0. -1.  0.]\n",
      " [ 0.  0.  1.  0.  0.  0.  1. -1.  4.]\n",
      " [ 0. -2.  0.  1.  0.  0.  3. -3.  3.]\n",
      " [ 0. -1.  0.  0.  1.  0.  1. -1.  2.]\n",
      " [ 0.  1.  0.  0.  0.  1.  0.  0.  6.]\n",
      " [ 1.  1.  0.  0.  0.  0. -1.  1.  5.]]\n",
      "Phase Two\n",
      "x_B = [2, 3, 4, 5, 0]\n",
      "[[ 3.  2.  0.  0.  0.  0.  0.  0.]\n",
      " [ 0.  0.  1.  0.  0.  0.  1.  4.]\n",
      " [ 0. -2.  0.  1.  0.  0.  3.  3.]\n",
      " [ 0. -1.  0.  0.  1.  0.  1.  2.]\n",
      " [ 0.  1.  0.  0.  0.  1.  0.  6.]\n",
      " [ 1.  1.  0.  0.  0.  0. -1.  5.]]\n",
      "x_B = [2, 3, 4, 5, 0]\n",
      "[[ 3.  2.  0.  0.  0.  0.  0.  0.]\n",
      " [ 0.  0.  1.  0.  0.  0.  1.  4.]\n",
      " [ 0. -2.  0.  1.  0.  0.  3.  3.]\n",
      " [ 0. -1.  0.  0.  1.  0.  1.  2.]\n",
      " [ 0.  1.  0.  0.  0.  1.  0.  6.]\n",
      " [ 1.  1.  0.  0.  0.  0. -1.  5.]]\n",
      "x_B = [2, 3, 4, 5, 0]\n",
      "[[  0.  -1.   0.   0.   0.   0.   3. -15.]\n",
      " [  0.   0.   1.   0.   0.   0.   1.   4.]\n",
      " [  0.  -2.   0.   1.   0.   0.   3.   3.]\n",
      " [  0.  -1.   0.   0.   1.   0.   1.   2.]\n",
      " [  0.   1.   0.   0.   0.   1.   0.   6.]\n",
      " [  1.   1.   0.   0.   0.   0.  -1.   5.]]\n",
      "x_B = [2, 6, 4, 5, 0]\n",
      "[[  0.           1.           0.          -1.           0.           0.           0.         -18.        ]\n",
      " [  0.           0.66666667   1.          -0.33333333   0.           0.           0.           3.        ]\n",
      " [  0.          -0.66666667   0.           0.33333333   0.           0.           1.           1.        ]\n",
      " [  0.          -0.33333333   0.          -0.33333333   1.           0.           0.           1.        ]\n",
      " [  0.           1.           0.           0.           0.           1.           0.           6.        ]\n",
      " [  1.           0.33333333   0.           0.33333333   0.           0.           0.           6.        ]]\n",
      "x_B = [1, 6, 4, 5, 0]\n",
      "[[  0.    0.   -1.5  -0.5   0.    0.    0.  -22.5]\n",
      " [  0.    1.    1.5  -0.5   0.    0.    0.    4.5]\n",
      " [  0.    0.    1.    0.    0.    0.    1.    4. ]\n",
      " [  0.    0.    0.5  -0.5   1.    0.    0.    2.5]\n",
      " [  0.    0.   -1.5   0.5   0.    1.    0.    1.5]\n",
      " [  1.    0.   -0.5   0.5   0.    0.    0.    4.5]]\n"
     ]
    }
   ],
   "source": [
    "variable_map = {0: \"x1\", 1: \"x2\", 2: \"x3\", 3: \"x4\", 4: \"x5\", 5: \"x6\", 6: \"x7\", 7: \"u1\"}\n",
    "\n",
    "tableau = np.array([[0, 0, 0, 0, 0, 0, 0, -1, 0],\n",
    "                    [1, 1, 1, 0, 0, 0, 0, 0, 9.],\n",
    "                    [3, 1, 0, 1, 0, 0, 0, 0, 18],\n",
    "                    [1, 0, 0, 0, 1, 0, 0, 0, 7.],\n",
    "                    [0, 1, 0, 0, 0, 1, 0, 0, 6.],\n",
    "                    [1, 1, 0, 0, 0, 0, -1, 1, 5]])\n",
    "\n",
    "c = np.array([3, 2])\n",
    "\n",
    "basic_var = [2, 3, 4, 5, 7]\n",
    "\n",
    "artificial_var = [7]\n",
    "\n",
    "two_phases(tableau, c, basic_var, artificial_var) \n"
   ]
  },
  {
   "cell_type": "markdown",
   "metadata": {},
   "source": [
    "Grafo de adyacencia ejemplo página 108"
   ]
  },
  {
   "cell_type": "code",
   "execution_count": null,
   "metadata": {},
   "outputs": [],
   "source": [
    "def simplex(tableau: np.ndarray, basic_var: list[int]) -> None:\n",
    "    print(f\"x_B = {basic_var}\\n{tableau}\")\n",
    "    while (tableau[0, :-1] > 0).any():\n",
    "        # max criterion\n",
    "        c_max = np.argmax(tableau[0, :-1])\n",
    "        # minimum ratio test\n",
    "        r_min = minimum_ratio_test(col=tableau[1:, c_max], b=tableau[1:, -1]) + 1\n",
    "        # pivoting\n",
    "        tableau = pivoting(tableau, r_min, c_max)\n",
    "        # swap row with col\n",
    "        basic_var[r_min - 1] = c_max\n",
    "        print(f\"x_B = {basic_var}\\n{tableau}\")\n"
   ]
  },
  {
   "cell_type": "code",
   "execution_count": 76,
   "metadata": {},
   "outputs": [
    {
     "name": "stdout",
     "output_type": "stream",
     "text": [
      "x_B = [3, 4]\n",
      "[[0. 0. 1. 0. 0. 0.]\n",
      " [1. 1. 1. 1. 0. 1.]\n",
      " [1. 0. 0. 0. 1. 1.]]\n",
      "x_B = [2, 4], (basic, non_basic) = (1, 2) swapped\n",
      "[[-1. -1.  0. -1.  0. -1.]\n",
      " [ 1.  1.  1.  1.  0.  1.]\n",
      " [ 1.  0.  0.  0.  1.  1.]]\n"
     ]
    },
    {
     "ename": "KeyboardInterrupt",
     "evalue": "Interrupted by user",
     "output_type": "error",
     "traceback": [
      "\u001b[1;31m---------------------------------------------------------------------------\u001b[0m",
      "\u001b[1;31mKeyboardInterrupt\u001b[0m                         Traceback (most recent call last)",
      "\u001b[1;32mc:\\Users\\jbard\\OneDrive\\Documents\\UNI\\22-I\\Linear Programming\\Coding\\linear-programming\\simplex_notebook.ipynb Cell 21'\u001b[0m in \u001b[0;36m<cell line: 11>\u001b[1;34m()\u001b[0m\n\u001b[0;32m      <a href='vscode-notebook-cell:/c%3A/Users/jbard/OneDrive/Documents/UNI/22-I/Linear%20Programming/Coding/linear-programming/simplex_notebook.ipynb#ch0000040?line=7'>8</a>\u001b[0m tableau \u001b[39m=\u001b[39m build_tableau(A, b, c)\n\u001b[0;32m     <a href='vscode-notebook-cell:/c%3A/Users/jbard/OneDrive/Documents/UNI/22-I/Linear%20Programming/Coding/linear-programming/simplex_notebook.ipynb#ch0000040?line=9'>10</a>\u001b[0m \u001b[39mprint\u001b[39m(\u001b[39mf\u001b[39m\u001b[39m\"\u001b[39m\u001b[39mx_B = \u001b[39m\u001b[39m{\u001b[39;00mbasic_var\u001b[39m}\u001b[39;00m\u001b[39m\\n\u001b[39;00m\u001b[39m{\u001b[39;00mtableau\u001b[39m}\u001b[39;00m\u001b[39m\"\u001b[39m)\n\u001b[1;32m---> <a href='vscode-notebook-cell:/c%3A/Users/jbard/OneDrive/Documents/UNI/22-I/Linear%20Programming/Coding/linear-programming/simplex_notebook.ipynb#ch0000040?line=10'>11</a>\u001b[0m \u001b[39mwhile\u001b[39;00m (inp \u001b[39m:=\u001b[39m \u001b[39minput\u001b[39;49m(\u001b[39m\"\u001b[39;49m\u001b[39mSwap non-basic to basic and vice versa\u001b[39;49m\u001b[39m\"\u001b[39;49m)):\n\u001b[0;32m     <a href='vscode-notebook-cell:/c%3A/Users/jbard/OneDrive/Documents/UNI/22-I/Linear%20Programming/Coding/linear-programming/simplex_notebook.ipynb#ch0000040?line=11'>12</a>\u001b[0m     non_basic, basic \u001b[39m=\u001b[39m \u001b[39mmap\u001b[39m(\u001b[39mint\u001b[39m, inp\u001b[39m.\u001b[39msplit())\n\u001b[0;32m     <a href='vscode-notebook-cell:/c%3A/Users/jbard/OneDrive/Documents/UNI/22-I/Linear%20Programming/Coding/linear-programming/simplex_notebook.ipynb#ch0000040?line=12'>13</a>\u001b[0m     tableau \u001b[39m=\u001b[39m pivoting(tableau, row\u001b[39m=\u001b[39mbasic, col\u001b[39m=\u001b[39mnon_basic)\n",
      "File \u001b[1;32mc:\\Users\\jbard\\AppData\\Local\\Programs\\Python\\Python310\\lib\\site-packages\\ipykernel\\kernelbase.py:1161\u001b[0m, in \u001b[0;36mKernel.raw_input\u001b[1;34m(self, prompt)\u001b[0m\n\u001b[0;32m   <a href='file:///c%3A/Users/jbard/AppData/Local/Programs/Python/Python310/lib/site-packages/ipykernel/kernelbase.py?line=1156'>1157</a>\u001b[0m \u001b[39mif\u001b[39;00m \u001b[39mnot\u001b[39;00m \u001b[39mself\u001b[39m\u001b[39m.\u001b[39m_allow_stdin:\n\u001b[0;32m   <a href='file:///c%3A/Users/jbard/AppData/Local/Programs/Python/Python310/lib/site-packages/ipykernel/kernelbase.py?line=1157'>1158</a>\u001b[0m     \u001b[39mraise\u001b[39;00m StdinNotImplementedError(\n\u001b[0;32m   <a href='file:///c%3A/Users/jbard/AppData/Local/Programs/Python/Python310/lib/site-packages/ipykernel/kernelbase.py?line=1158'>1159</a>\u001b[0m         \u001b[39m\"\u001b[39m\u001b[39mraw_input was called, but this frontend does not support input requests.\u001b[39m\u001b[39m\"\u001b[39m\n\u001b[0;32m   <a href='file:///c%3A/Users/jbard/AppData/Local/Programs/Python/Python310/lib/site-packages/ipykernel/kernelbase.py?line=1159'>1160</a>\u001b[0m     )\n\u001b[1;32m-> <a href='file:///c%3A/Users/jbard/AppData/Local/Programs/Python/Python310/lib/site-packages/ipykernel/kernelbase.py?line=1160'>1161</a>\u001b[0m \u001b[39mreturn\u001b[39;00m \u001b[39mself\u001b[39;49m\u001b[39m.\u001b[39;49m_input_request(\n\u001b[0;32m   <a href='file:///c%3A/Users/jbard/AppData/Local/Programs/Python/Python310/lib/site-packages/ipykernel/kernelbase.py?line=1161'>1162</a>\u001b[0m     \u001b[39mstr\u001b[39;49m(prompt),\n\u001b[0;32m   <a href='file:///c%3A/Users/jbard/AppData/Local/Programs/Python/Python310/lib/site-packages/ipykernel/kernelbase.py?line=1162'>1163</a>\u001b[0m     \u001b[39mself\u001b[39;49m\u001b[39m.\u001b[39;49m_parent_ident[\u001b[39m\"\u001b[39;49m\u001b[39mshell\u001b[39;49m\u001b[39m\"\u001b[39;49m],\n\u001b[0;32m   <a href='file:///c%3A/Users/jbard/AppData/Local/Programs/Python/Python310/lib/site-packages/ipykernel/kernelbase.py?line=1163'>1164</a>\u001b[0m     \u001b[39mself\u001b[39;49m\u001b[39m.\u001b[39;49mget_parent(\u001b[39m\"\u001b[39;49m\u001b[39mshell\u001b[39;49m\u001b[39m\"\u001b[39;49m),\n\u001b[0;32m   <a href='file:///c%3A/Users/jbard/AppData/Local/Programs/Python/Python310/lib/site-packages/ipykernel/kernelbase.py?line=1164'>1165</a>\u001b[0m     password\u001b[39m=\u001b[39;49m\u001b[39mFalse\u001b[39;49;00m,\n\u001b[0;32m   <a href='file:///c%3A/Users/jbard/AppData/Local/Programs/Python/Python310/lib/site-packages/ipykernel/kernelbase.py?line=1165'>1166</a>\u001b[0m )\n",
      "File \u001b[1;32mc:\\Users\\jbard\\AppData\\Local\\Programs\\Python\\Python310\\lib\\site-packages\\ipykernel\\kernelbase.py:1205\u001b[0m, in \u001b[0;36mKernel._input_request\u001b[1;34m(self, prompt, ident, parent, password)\u001b[0m\n\u001b[0;32m   <a href='file:///c%3A/Users/jbard/AppData/Local/Programs/Python/Python310/lib/site-packages/ipykernel/kernelbase.py?line=1201'>1202</a>\u001b[0m             \u001b[39mbreak\u001b[39;00m\n\u001b[0;32m   <a href='file:///c%3A/Users/jbard/AppData/Local/Programs/Python/Python310/lib/site-packages/ipykernel/kernelbase.py?line=1202'>1203</a>\u001b[0m \u001b[39mexcept\u001b[39;00m \u001b[39mKeyboardInterrupt\u001b[39;00m:\n\u001b[0;32m   <a href='file:///c%3A/Users/jbard/AppData/Local/Programs/Python/Python310/lib/site-packages/ipykernel/kernelbase.py?line=1203'>1204</a>\u001b[0m     \u001b[39m# re-raise KeyboardInterrupt, to truncate traceback\u001b[39;00m\n\u001b[1;32m-> <a href='file:///c%3A/Users/jbard/AppData/Local/Programs/Python/Python310/lib/site-packages/ipykernel/kernelbase.py?line=1204'>1205</a>\u001b[0m     \u001b[39mraise\u001b[39;00m \u001b[39mKeyboardInterrupt\u001b[39;00m(\u001b[39m\"\u001b[39m\u001b[39mInterrupted by user\u001b[39m\u001b[39m\"\u001b[39m) \u001b[39mfrom\u001b[39;00m \u001b[39mNone\u001b[39m\n\u001b[0;32m   <a href='file:///c%3A/Users/jbard/AppData/Local/Programs/Python/Python310/lib/site-packages/ipykernel/kernelbase.py?line=1205'>1206</a>\u001b[0m \u001b[39mexcept\u001b[39;00m \u001b[39mException\u001b[39;00m:\n\u001b[0;32m   <a href='file:///c%3A/Users/jbard/AppData/Local/Programs/Python/Python310/lib/site-packages/ipykernel/kernelbase.py?line=1206'>1207</a>\u001b[0m     \u001b[39mself\u001b[39m\u001b[39m.\u001b[39mlog\u001b[39m.\u001b[39mwarning(\u001b[39m\"\u001b[39m\u001b[39mInvalid Message:\u001b[39m\u001b[39m\"\u001b[39m, exc_info\u001b[39m=\u001b[39m\u001b[39mTrue\u001b[39;00m)\n",
      "\u001b[1;31mKeyboardInterrupt\u001b[0m: Interrupted by user"
     ]
    }
   ],
   "source": [
    "A = np.array([[1, 1, 1, 1, 0],\n",
    "              [1, 0, 0, 0, 1.]])\n",
    "b = np.array([1, 1])\n",
    "c = np.array([0, 0, 1, 0, 0])\n",
    "tableau = build_tableau(A, b, c)\n",
    "\n",
    "basic_var = [3, 4]\n",
    "tableau = build_tableau(A, b, c)\n",
    "\n",
    "print(f\"x_B = {basic_var}\\n{tableau}\")\n",
    "while (inp := input(\"Swap non-basic to basic and vice versa\")):\n",
    "    non_basic, basic = map(int, inp.split())\n",
    "    tableau = pivoting(tableau, row=basic, col=non_basic)\n",
    "    basic_var[basic - 1] = non_basic\n",
    "    print(f\"x_B = {basic_var}, (basic, non_basic) = {basic, non_basic} swapped\\n{tableau}\")\n"
   ]
  },
  {
   "cell_type": "code",
   "execution_count": 64,
   "metadata": {},
   "outputs": [
    {
     "name": "stdout",
     "output_type": "stream",
     "text": [
      "x_B = [4, 5]\n",
      "[[ 0.  0.  0.  0. -1. -1.  0.]\n",
      " [ 4.  2. -1.  0.  1.  0. 12.]\n",
      " [ 1.  4.  0. -1.  0.  1.  6.]]\n",
      "x_B = [4, 5]\n",
      "[[ 5.  6. -1. -1.  0.  0. 18.]\n",
      " [ 4.  2. -1.  0.  1.  0. 12.]\n",
      " [ 1.  4.  0. -1.  0.  1.  6.]]\n",
      "Phase One\n",
      "x_B = [4, 1]\n",
      "[[ 3.5   0.   -1.    0.5   0.   -1.5   9.  ]\n",
      " [ 3.5   0.   -1.    0.5   1.   -0.5   9.  ]\n",
      " [ 0.25  1.    0.   -0.25  0.    0.25  1.5 ]]\n",
      "x_B = [0, 1]\n",
      "[[ 0.          0.          0.          0.         -1.         -1.          0.        ]\n",
      " [ 1.          0.         -0.28571429  0.14285714  0.28571429 -0.14285714  2.57142857]\n",
      " [ 0.          1.          0.07142857 -0.28571429 -0.07142857  0.28571429  0.85714286]]\n",
      "Phase Two\n",
      "x_B = [0, 1]\n",
      "[[-2.         -3.         -0.         -0.         -0.        ]\n",
      " [ 1.          0.         -0.28571429  0.14285714  2.57142857]\n",
      " [ 0.          1.          0.07142857 -0.28571429  0.85714286]]\n",
      "x_B = [0, 1]\n",
      "[[ 0.          0.         -0.35714286 -0.57142857  7.71428571]\n",
      " [ 1.          0.         -0.28571429  0.14285714  2.57142857]\n",
      " [ 0.          1.          0.07142857 -0.28571429  0.85714286]]\n"
     ]
    }
   ],
   "source": [
    "variable_map = {0: \"x1\", 1: \"x2\", 2: \"x3\", 3: \"x4\", 4: \"u1\", 5: \"u2\"}\n",
    "A = np.array([[4., 2, -1, 0, 1, 0],\n",
    "              [1., 4., 0, -1, 0, 1]])\n",
    "\n",
    "b = np.array([12, 6.0])\n",
    "c_artificial = np.array([0., 0., 0, 0, -1, -1])\n",
    "\n",
    "tableau = build_tableau(A, b, c_artificial)\n",
    "\n",
    "c = -np.array([2, 3., 0, 0, 0])\n",
    "\n",
    "basic_var = [4, 5]\n",
    "artificial_var = [4, 5]\n",
    "two_phases(tableau, c, basic_var, artificial_var)\n"
   ]
  },
  {
   "cell_type": "markdown",
   "metadata": {},
   "source": [
    "### Curso: Programación Lineal y flujo en redes: Cuarta Dirigida"
   ]
  },
  {
   "cell_type": "markdown",
   "metadata": {},
   "source": [
    "2. Hallar una solución aplicando las tablas del método simplex"
   ]
  },
  {
   "cell_type": "code",
   "execution_count": 65,
   "metadata": {},
   "outputs": [
    {
     "name": "stdout",
     "output_type": "stream",
     "text": [
      "x_B = [2, 3, 4]\n",
      "[[4. 5. 0. 0. 0. 0.]\n",
      " [2. 1. 1. 0. 0. 9.]\n",
      " [1. 0. 0. 1. 0. 4.]\n",
      " [0. 1. 0. 0. 1. 3.]]\n",
      "x_B = [2, 3, 1]\n",
      "[[  4.   0.   0.   0.  -5. -15.]\n",
      " [  2.   0.   1.   0.  -1.   6.]\n",
      " [  1.   0.   0.   1.   0.   4.]\n",
      " [  0.   1.   0.   0.   1.   3.]]\n",
      "x_B = [0, 3, 1]\n",
      "[[  0.    0.   -2.    0.   -3.  -27. ]\n",
      " [  1.    0.    0.5   0.   -0.5   3. ]\n",
      " [  0.    0.   -0.5   1.    0.5   1. ]\n",
      " [  0.    1.    0.    0.    1.    3. ]]\n"
     ]
    }
   ],
   "source": [
    "A = np.array([[2, 1, 1, 0, 0],\n",
    "              [1, 0, 0, 1, 0],\n",
    "              [0, 1, 0, 0, 1.]])\n",
    "\n",
    "b = np.array([9, 4, 3.])\n",
    "\n",
    "c = np.array([4, 5, 0, 0, 0.])\n",
    "\n",
    "basic_var = [2, 3, 4]\n",
    "tableau = build_tableau(A, b, c)\n",
    "simplex(tableau, basic_var)"
   ]
  },
  {
   "cell_type": "markdown",
   "metadata": {},
   "source": [
    "Usando 2 fases"
   ]
  },
  {
   "cell_type": "code",
   "execution_count": 66,
   "metadata": {},
   "outputs": [
    {
     "name": "stdout",
     "output_type": "stream",
     "text": [
      "x_B = [2, 3, 5]\n",
      "[[ 0.  0.  0.  0.  0. -1.  0.]\n",
      " [ 1.  1.  1.  0.  0.  0.  9.]\n",
      " [-2. -1.  0.  1.  0.  0.  4.]\n",
      " [ 0.  1.  0.  0. -1.  1.  3.]]\n",
      "x_B = [2, 3, 5]\n",
      "[[ 0.  1.  0.  0. -1.  0.  3.]\n",
      " [ 1.  1.  1.  0.  0.  0.  9.]\n",
      " [-2. -1.  0.  1.  0.  0.  4.]\n",
      " [ 0.  1.  0.  0. -1.  1.  3.]]\n",
      "Phase One\n",
      "x_B = [2, 3, 1]\n",
      "[[ 0.  0.  0.  0.  0. -1.  0.]\n",
      " [ 1.  0.  1.  0.  1. -1.  6.]\n",
      " [-2.  0.  0.  1. -1.  1.  7.]\n",
      " [ 0.  1.  0.  0. -1.  1.  3.]]\n",
      "Phase Two\n",
      "x_B = [2, 3, 1]\n",
      "[[ 4.  5.  0.  0.  0.  0.]\n",
      " [ 1.  0.  1.  0.  1.  6.]\n",
      " [-2.  0.  0.  1. -1.  7.]\n",
      " [ 0.  1.  0.  0. -1.  3.]]\n",
      "x_B = [2, 3, 1]\n",
      "[[ 4.  5.  0.  0.  0.  0.]\n",
      " [ 1.  0.  1.  0.  1.  6.]\n",
      " [-2.  0.  0.  1. -1.  7.]\n",
      " [ 0.  1.  0.  0. -1.  3.]]\n",
      "x_B = [2, 3, 1]\n",
      "[[  4.   0.   0.   0.   5. -15.]\n",
      " [  1.   0.   1.   0.   1.   6.]\n",
      " [ -2.   0.   0.   1.  -1.   7.]\n",
      " [  0.   1.   0.   0.  -1.   3.]]\n",
      "x_B = [4, 3, 1]\n",
      "[[ -1.   0.  -5.   0.   0. -45.]\n",
      " [  1.   0.   1.   0.   1.   6.]\n",
      " [ -1.   0.   1.   1.   0.  13.]\n",
      " [  1.   1.   1.   0.   0.   9.]]\n"
     ]
    }
   ],
   "source": [
    "variable_map = {0: \"x1\", 1: \"x2\", 2: \"x3\", 3: \"x4\", 4: \"x5\", 5: \"u1\"}\n",
    "A = np.array([[1., 1., 1, 0, 0, 0],\n",
    "              [-2, -1, 0, 1, 0, 0],\n",
    "              [0., 1., 0, 0, -1, 1]])\n",
    "\n",
    "b = np.array([9, 4, 3.])\n",
    "c_artificial = np.array([0., 0., 0, 0, 0, -1])\n",
    "\n",
    "tableau = build_tableau(A, b, c_artificial)\n",
    "\n",
    "c = np.array([4, 5])\n",
    "\n",
    "basic_var = [2, 3, 5]\n",
    "artificial_var = [5]\n",
    "two_phases(tableau, c, basic_var, artificial_var)\n"
   ]
  },
  {
   "cell_type": "markdown",
   "metadata": {},
   "source": [
    "Usando Big-M"
   ]
  },
  {
   "cell_type": "code",
   "execution_count": 67,
   "metadata": {},
   "outputs": [
    {
     "name": "stdout",
     "output_type": "stream",
     "text": [
      "x_B = [2, 3, 5]\n",
      "[[  4.   5.   0.   0.   0. -10.   0.]\n",
      " [  1.   1.   1.   0.   0.   0.   9.]\n",
      " [ -2.  -1.   0.   1.   0.   0.   4.]\n",
      " [  0.   1.   0.   0.  -1.   1.   3.]]\n",
      "x_B = [2, 3, 5]\n",
      "[[  4.  15.   0.   0. -10.   0.  30.]\n",
      " [  1.   1.   1.   0.   0.   0.   9.]\n",
      " [ -2.  -1.   0.   1.   0.   0.   4.]\n",
      " [  0.   1.   0.   0.  -1.   1.   3.]]\n",
      "x_B = [2, 3, 1]\n",
      "[[  4.   0.   0.   0.   5. -15. -15.]\n",
      " [  1.   0.   1.   0.   1.  -1.   6.]\n",
      " [ -2.   0.   0.   1.  -1.   1.   7.]\n",
      " [  0.   1.   0.   0.  -1.   1.   3.]]\n",
      "x_B = [4, 3, 1]\n",
      "[[ -1.   0.  -5.   0.   0. -10. -45.]\n",
      " [  1.   0.   1.   0.   1.  -1.   6.]\n",
      " [ -1.   0.   1.   1.   0.   0.  13.]\n",
      " [  1.   1.   1.   0.   0.   0.   9.]]\n"
     ]
    }
   ],
   "source": [
    "A = np.array([[1., 1., 1, 0, 0, 0],\n",
    "              [-2, -1, 0, 1, 0, 0],\n",
    "              [0., 1., 0, 0, -1, 1]])\n",
    "\n",
    "b = np.array([9, 4, 3.])\n",
    "M = 10\n",
    "c = np.array([4, 5, 0, 0, 0, -M])\n",
    "\n",
    "tableau = build_tableau(A, b, c)\n",
    "\n",
    "basic_var = [2, 3, 5]\n",
    "artificial_var = [5]\n",
    "big_M(tableau, basic_var, artificial_var)  # FIN NO ACOTADO\n"
   ]
  },
  {
   "cell_type": "markdown",
   "metadata": {},
   "source": [
    "3. Determine el gráfico de adyacencia del siguiente modelos LO"
   ]
  },
  {
   "cell_type": "code",
   "execution_count": 68,
   "metadata": {},
   "outputs": [
    {
     "name": "stdout",
     "output_type": "stream",
     "text": [
      "x_B = [2, 3, 4]\n",
      "[[-1.  1.  0.  0.  0.  0.]\n",
      " [-2.  6.  1.  0.  0.  0.]\n",
      " [ 2.  4.  0.  1.  0. 10.]\n",
      " [ 1.  0.  0.  0.  1.  4.]]\n"
     ]
    }
   ],
   "source": [
    "A = np.array([[-2, 6, 1, 0, 0],\n",
    "              [2., 4, 0, 1, 0],\n",
    "              [1., 0, 0, 0, 1]])\n",
    "\n",
    "b = np.array([0, 10, 4.])\n",
    "\n",
    "c = np.array([-1.0, 1, 0, 0, 0])\n",
    "basic_var = [2, 3, 4]\n",
    "tableau = build_tableau(A, b, c)\n",
    "\n",
    "print(f\"x_B = {basic_var}\\n{tableau}\")\n",
    "#  (1, 1), (1, 0), (3, 2), (2, 1), (3, 4)\n",
    "while (inp := input(\"row col\")):\n",
    "    row, col = map(int, inp.split())\n",
    "    tableau = pivoting(tableau, row, col)\n",
    "    basic_var[row - 1] = col\n",
    "    print(f\"x_B = {basic_var}, (row, col) = {row, col} swapped\\n{tableau}\")"
   ]
  },
  {
   "cell_type": "markdown",
   "metadata": {},
   "source": [
    "6. Resolver por el método de dos faces el siguiente LO"
   ]
  },
  {
   "cell_type": "code",
   "execution_count": 69,
   "metadata": {},
   "outputs": [
    {
     "name": "stdout",
     "output_type": "stream",
     "text": [
      "x_B = [4, 5]\n",
      "[[ 0.  0.  0.  0. -1. -1.  0.]\n",
      " [ 4.  2. -1.  0.  1.  0. 12.]\n",
      " [ 1.  4.  0. -1.  0.  1.  6.]]\n",
      "x_B = [4, 5]\n",
      "[[ 5.  6. -1. -1.  0.  0. 18.]\n",
      " [ 4.  2. -1.  0.  1.  0. 12.]\n",
      " [ 1.  4.  0. -1.  0.  1.  6.]]\n",
      "Phase One\n",
      "x_B = [4, 1]\n",
      "[[ 3.5   0.   -1.    0.5   0.   -1.5   9.  ]\n",
      " [ 3.5   0.   -1.    0.5   1.   -0.5   9.  ]\n",
      " [ 0.25  1.    0.   -0.25  0.    0.25  1.5 ]]\n",
      "x_B = [0, 1]\n",
      "[[ 0.          0.          0.          0.         -1.         -1.          0.        ]\n",
      " [ 1.          0.         -0.28571429  0.14285714  0.28571429 -0.14285714  2.57142857]\n",
      " [ 0.          1.          0.07142857 -0.28571429 -0.07142857  0.28571429  0.85714286]]\n",
      "Phase Two\n",
      "x_B = [0, 1]\n",
      "[[-2.         -3.         -0.         -0.         -0.        ]\n",
      " [ 1.          0.         -0.28571429  0.14285714  2.57142857]\n",
      " [ 0.          1.          0.07142857 -0.28571429  0.85714286]]\n",
      "x_B = [0, 1]\n",
      "[[ 0.          0.         -0.35714286 -0.57142857  7.71428571]\n",
      " [ 1.          0.         -0.28571429  0.14285714  2.57142857]\n",
      " [ 0.          1.          0.07142857 -0.28571429  0.85714286]]\n"
     ]
    }
   ],
   "source": [
    "variable_map = {0: \"x1\", 1: \"x2\", 2: \"x3\", 3: \"x4\", 4: \"u1\", 5: \"u2\"}\n",
    "A = np.array([[4., 2, -1, 0, 1, 0],\n",
    "              [1., 4., 0, -1, 0, 1]])\n",
    "\n",
    "b = np.array([12, 6.0])\n",
    "c_artificial = np.array([0., 0., 0, 0, -1, -1])\n",
    "\n",
    "tableau = build_tableau(A, b, c_artificial)\n",
    "\n",
    "c = -np.array([2, 3., 0, 0, 0])\n",
    "\n",
    "basic_var = [4, 5]\n",
    "artificial_var = [4, 5]\n",
    "two_phases(tableau, c, basic_var, artificial_var)\n"
   ]
  },
  {
   "cell_type": "code",
   "execution_count": 70,
   "metadata": {},
   "outputs": [
    {
     "name": "stdout",
     "output_type": "stream",
     "text": [
      "x_B = [2, 4]\n",
      "[[ 0.  0.  0.  0. -1.  0.]\n",
      " [ 1.  1.  1.  0.  0. 10.]\n",
      " [-1.  2.  0. -1.  1.  2.]]\n",
      "x_B = [2, 4]\n",
      "[[-1.  2.  0. -1.  0.  2.]\n",
      " [ 1.  1.  1.  0.  0. 10.]\n",
      " [-1.  2.  0. -1.  1.  2.]]\n",
      "Phase One\n",
      "x_B = [2, 1]\n",
      "[[ 0.   0.   0.   0.  -1.   0. ]\n",
      " [ 1.5  0.   1.   0.5 -0.5  9. ]\n",
      " [-0.5  1.   0.  -0.5  0.5  1. ]]\n",
      "Phase Two\n",
      "x_B = [2, 1]\n",
      "[[ 2.   2.   0.   0.   0. ]\n",
      " [ 1.5  0.   1.   0.5  9. ]\n",
      " [-0.5  1.   0.  -0.5  1. ]]\n",
      "x_B = [2, 1]\n",
      "[[ 2.   2.   0.   0.   0. ]\n",
      " [ 1.5  0.   1.   0.5  9. ]\n",
      " [-0.5  1.   0.  -0.5  1. ]]\n",
      "x_B = [0, 1]\n",
      "[[  0.           2.          -1.33333333  -0.66666667 -12.        ]\n",
      " [  1.           0.           0.66666667   0.33333333   6.        ]\n",
      " [  0.           1.           0.33333333  -0.33333333   4.        ]]\n",
      "x_B = [0, 1]\n",
      "[[  0.           0.          -2.           0.         -20.        ]\n",
      " [  1.           0.           0.66666667   0.33333333   6.        ]\n",
      " [  0.           1.           0.33333333  -0.33333333   4.        ]]\n",
      "x_B = [3, 1]\n",
      "[[ -0.   0.  -2.   0. -20.]\n",
      " [  3.   0.   2.   1.  18.]\n",
      " [  1.   1.   1.   0.  10.]]\n"
     ]
    }
   ],
   "source": [
    "variable_map = {0: \"x1\", 1: \"x2\", 2: \"x3\", 3: \"x4\", 4: \"u1\"}\n",
    "A = np.array([[1., 1, 1, 0., 0],\n",
    "              [-1, 2, 0, -1, 1]])\n",
    "\n",
    "b = np.array([10, 2.0])\n",
    "c_artificial = np.array([0., 0., 0, 0, -1])\n",
    "\n",
    "tableau = build_tableau(A, b, c_artificial)\n",
    "\n",
    "c = np.array([2, 2., 0, 0])\n",
    "\n",
    "basic_var = [2, 4]\n",
    "artificial_var = [4]\n",
    "two_phases(tableau, c, basic_var, artificial_var)\n"
   ]
  },
  {
   "cell_type": "markdown",
   "metadata": {},
   "source": [
    "9. Resolver por el método de dos faces el siguiente LO"
   ]
  },
  {
   "cell_type": "code",
   "execution_count": 71,
   "metadata": {},
   "outputs": [
    {
     "name": "stdout",
     "output_type": "stream",
     "text": [
      "x_B = [2, 4]\n",
      "[[ 0.  0.  0.  0.  0. -1.  0.]\n",
      " [ 1.  1.  1.  1.  0.  0.  1.]\n",
      " [ 4.  1.  6.  0. -1.  1.  2.]]\n",
      "x_B = [2, 4]\n",
      "[[ 0.  0.  0.  0.  0. -1.  0.]\n",
      " [ 1.  1.  1.  1.  0.  0.  1.]\n",
      " [ 4.  1.  6.  0. -1.  1.  2.]]\n",
      "Phase One\n",
      "x_B = [2, 0]\n",
      "[[ 0.    0.    0.    0.    0.   -1.    0.  ]\n",
      " [ 0.    0.75 -0.5   1.    0.25 -0.25  0.5 ]\n",
      " [ 1.    0.25  1.5   0.   -0.25  0.25  0.5 ]]\n",
      "Phase Two\n",
      "x_B = [2, 0]\n",
      "[[ 3.    3.    0.    0.    0.    0.  ]\n",
      " [ 0.    0.75 -0.5   1.   -0.25  0.5 ]\n",
      " [ 1.    0.25  1.5   0.    0.25  0.5 ]]\n",
      "x_B = [2, 0]\n",
      "[[ 3.    3.    0.    0.    0.    0.  ]\n",
      " [ 0.    0.75 -0.5   1.   -0.25  0.5 ]\n",
      " [ 1.    0.25  1.5   0.    0.25  0.5 ]]\n",
      "x_B = [2, 0]\n",
      "[[ 0.    2.25 -4.5   0.   -0.75 -1.5 ]\n",
      " [ 0.    0.75 -0.5   1.   -0.25  0.5 ]\n",
      " [ 1.    0.25  1.5   0.    0.25  0.5 ]]\n",
      "x_B = [1, 0]\n",
      "[[ 0.          0.         -3.         -3.          0.         -3.        ]\n",
      " [ 0.          1.         -0.66666667  1.33333333 -0.33333333  0.66666667]\n",
      " [ 1.          0.          1.66666667 -0.33333333  0.33333333  0.33333333]]\n"
     ]
    }
   ],
   "source": [
    "variable_map = {0: \"x1\", 1: \"x2\", 2: \"x3\", 3: \"x4\", 4: \"x5\", 5: \"u1\"}\n",
    "A = np.array([[1, 1, 1, 1., 0, 0.],\n",
    "              [4, 1, 6, 0, -1, 1]])\n",
    "\n",
    "b = np.array([1, 2.])\n",
    "c_artificial = np.array([0., 0., 0, 0, 0, -1])\n",
    "\n",
    "tableau = build_tableau(A, b, c_artificial)\n",
    "\n",
    "c = np.array([3, 3., 0, 0, 0.0])\n",
    "\n",
    "basic_var = [2, 4]\n",
    "artificial_var = [4]\n",
    "two_phases(tableau, c, basic_var, artificial_var)\n"
   ]
  },
  {
   "cell_type": "markdown",
   "metadata": {},
   "source": [
    "11. Elaborar un programa que al ingresar una $4 \\times 6$ matriz arbitraria, verifique si dicha matriz representa las entradas de una tabla simplex (con 2 variables no básicas y 3 variables básicas). Testearlo con una matriz que si represente una tabla simplex y luego con una matrix de igual entradas que el anterior a excepción de la entrada (1, 6)."
   ]
  },
  {
   "cell_type": "code",
   "execution_count": 72,
   "metadata": {},
   "outputs": [],
   "source": [
    "def check_tableau(tableau: np.ndarray, basic_var: list[int]):\n",
    "    for index, col in enumerate(basic_var):\n",
    "        # cost of basic variable is 0.0\n",
    "        if not tableau[0, col] == 0.0:\n",
    "            print(\"Basic cost isn't zero\")\n",
    "            return False\n",
    "        else:\n",
    "            for row in range(1, len(basic_var) + 1):\n",
    "                if row != index + 1:\n",
    "                    if not tableau[row, col] == 0.0:\n",
    "                        print(f\"Basic column {col} in position {row} isn't zero\")\n",
    "                        return False\n",
    "                else:\n",
    "                    if not tableau[row, col] == 1.0:\n",
    "                        print(f\"Basic column {col} in position {row} isn't one\")\n",
    "                        return False\n",
    "        # b positive\n",
    "        if not tableau[index + 1, -1] >= 0.0:\n",
    "            print(\"B^{-1} b is negative\")\n",
    "            return False\n",
    "    print(\"If it is a simplex table.\")\n",
    "    return True\n"
   ]
  },
  {
   "cell_type": "code",
   "execution_count": 73,
   "metadata": {},
   "outputs": [
    {
     "name": "stdout",
     "output_type": "stream",
     "text": [
      "If it is a simplex table.\n"
     ]
    }
   ],
   "source": [
    "tableau = np.array([[3., 2., 0., 0., 0., 0., 0.],\n",
    "                    [1., 1., 1., 0., 0., 0., 9.],\n",
    "                    [3., 1., 0., 1., 0., 0., 18.],\n",
    "                    [1., 0., 0., 0., 1., 0., 7.],\n",
    "                    [0., 1., 0., 0., 0., 1., 6.]])\n",
    "                    \n",
    "basic_var = [2, 3, 4, 5]\n",
    "check_tableau(tableau, basic_var);"
   ]
  },
  {
   "cell_type": "code",
   "execution_count": null,
   "metadata": {},
   "outputs": [],
   "source": []
  }
 ],
 "metadata": {
  "interpreter": {
   "hash": "590f4a299ae404e723bbc5f32e9a7b98b836c3c65ce9112bc934ac92a06ceee3"
  },
  "kernelspec": {
   "display_name": "Python 3.10.4 64-bit",
   "language": "python",
   "name": "python3"
  },
  "language_info": {
   "codemirror_mode": {
    "name": "ipython",
    "version": 3
   },
   "file_extension": ".py",
   "mimetype": "text/x-python",
   "name": "python",
   "nbconvert_exporter": "python",
   "pygments_lexer": "ipython3",
   "version": "3.10.4"
  },
  "orig_nbformat": 4
 },
 "nbformat": 4,
 "nbformat_minor": 2
}
